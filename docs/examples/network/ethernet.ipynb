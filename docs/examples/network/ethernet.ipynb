{
 "cells": [
  {
   "cell_type": "markdown",
   "metadata": {},
   "source": [
    "# Ethernet Header and Frame"
   ]
  },
  {
   "cell_type": "code",
   "execution_count": null,
   "metadata": {},
   "outputs": [],
   "source": [
    "from rich.console import Console\n",
    "from rich.table import Table\n",
    "\n",
    "from byteclasses.handlers.network.eth_frame import EthFrame\n",
    "from byteclasses.handlers.network.eth_hdr import EthHdr\n",
    "from byteclasses.print import byteclass_info, byteclass_inspect, collection_table"
   ]
  },
  {
   "cell_type": "code",
   "execution_count": null,
   "metadata": {},
   "outputs": [],
   "source": [
    "eth_hdr = EthHdr()\n",
    "data = bytearray(b\"\\x00\\x0c\\x29\\xb4\\x90\\x14\\xec\\xf4\\xbb\\x96\\x12\\x0e\\x08\\x00\")\n",
    "eth_hdr.attach(memoryview(data))"
   ]
  },
  {
   "cell_type": "code",
   "execution_count": null,
   "metadata": {},
   "outputs": [],
   "source": [
    "byteclass_info(eth_hdr)"
   ]
  },
  {
   "cell_type": "code",
   "execution_count": null,
   "metadata": {},
   "outputs": [],
   "source": [
    "byteclass_inspect(eth_hdr)"
   ]
  },
  {
   "cell_type": "code",
   "execution_count": null,
   "metadata": {},
   "outputs": [],
   "source": [
    "collection_table(eth_hdr)"
   ]
  },
  {
   "cell_type": "code",
   "execution_count": null,
   "metadata": {},
   "outputs": [],
   "source": [
    "data = b\"\\xf0\\x9f\\xc2\\xdf\\x16\\x1f\\x00\\x0c\\x29\\xfa\\xa3\\x37\\x08\\x00\\x45\\x00\\x00\\x54\\x39\\x03\\x40\\x00\\x40\\x01\\x68\\xd8\\xc0\\xa8\\xc8\\x15\\x08\\x08\\x08\\x08\\x08\\x00\\xda\\xda\\x20\\x62\\x00\\x01\\x52\\xf2\\xa8\\x62\\x00\\x00\\x00\\x00\\x3d\\x9a\\x05\\x00\\x00\\x00\\x00\\x00\\x10\\x11\\x12\\x13\\x14\\x15\\x16\\x17\\x18\\x19\\x1a\\x1b\\x1c\\x1d\\x1e\\x1f\\x20\\x21\\x22\\x23\\x24\\x25\\x26\\x27\\x28\\x29\\x2a\\x2b\\x2c\\x2d\\x2e\\x2f\\x30\\x31\\x32\\x33\\x34\\x35\\x36\\x37\"\n",
    "ef = EthFrame(data=data)"
   ]
  },
  {
   "cell_type": "code",
   "execution_count": null,
   "metadata": {},
   "outputs": [],
   "source": [
    "table = Table(title=\"Ethernet Frame\")\n",
    "\n",
    "table.add_column(\"Name\")\n",
    "table.add_column(\"Value\")\n",
    "\n",
    "table.add_row(\"len(ef)\", str(len(ef)))\n",
    "table.add_row(\"str(ef)\", str(ef))\n",
    "table.add_row(\"repr(ef)\", repr(ef))\n",
    "table.add_row(\"ef.data\", str(ef.data))\n",
    "table.add_row(\"ef.src_mac\", str(ef.src_mac))\n",
    "table.add_row(\"ef.dst_mac\", str(ef.dst_mac))\n",
    "table.add_row(\"ef.type\", str(ef.type))\n",
    "\n",
    "console = Console()\n",
    "console.print(table)"
   ]
  }
 ],
 "metadata": {
  "kernelspec": {
   "display_name": ".venv",
   "language": "python",
   "name": "python3"
  },
  "language_info": {
   "codemirror_mode": {
    "name": "ipython",
    "version": 3
   },
   "file_extension": ".py",
   "mimetype": "text/x-python",
   "name": "python",
   "nbconvert_exporter": "python",
   "pygments_lexer": "ipython3",
   "version": "3.11.9"
  }
 },
 "nbformat": 4,
 "nbformat_minor": 2
}
