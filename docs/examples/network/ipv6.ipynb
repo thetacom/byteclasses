{
 "cells": [
  {
   "cell_type": "markdown",
   "metadata": {},
   "source": [
    "# IPv6 Header"
   ]
  },
  {
   "cell_type": "code",
   "execution_count": null,
   "metadata": {},
   "outputs": [],
   "source": [
    "from byteclasses.handlers.network.ipv6_hdr import IPv6Hdr\n",
    "from byteclasses.print import byteclass_info, byteclass_inspect, collection_table"
   ]
  },
  {
   "cell_type": "code",
   "execution_count": null,
   "metadata": {},
   "outputs": [],
   "source": [
    "ipv6_hdr = IPv6Hdr()\n",
    "data = bytearray(\n",
    "    b\"\\x60\\x00\\x00\\x00\\x00\\x18\\x06\\x80\\x20\\x02\\x51\\x83\\x43\\x83\\x00\\x00\\x00\\x00\\x00\\x00\\x51\\x83\\x43\\x83\\x20\\x01\\x06\\x38\\x09\\x02\\x00\\x01\\x02\\x01\\x02\\xff\\xfe\\xe2\\x75\\x96\"\n",
    ")\n",
    "ipv6_hdr.attach(memoryview(data))"
   ]
  },
  {
   "cell_type": "code",
   "execution_count": null,
   "metadata": {},
   "outputs": [],
   "source": [
    "byteclass_info(ipv6_hdr)"
   ]
  },
  {
   "cell_type": "code",
   "execution_count": null,
   "metadata": {},
   "outputs": [],
   "source": [
    "byteclass_inspect(ipv6_hdr)"
   ]
  },
  {
   "cell_type": "code",
   "execution_count": null,
   "metadata": {},
   "outputs": [],
   "source": [
    "collection_table(ipv6_hdr)"
   ]
  }
 ],
 "metadata": {
  "kernelspec": {
   "display_name": ".venv",
   "language": "python",
   "name": "python3"
  },
  "language_info": {
   "codemirror_mode": {
    "name": "ipython",
    "version": 3
   },
   "file_extension": ".py",
   "mimetype": "text/x-python",
   "name": "python",
   "nbconvert_exporter": "python",
   "pygments_lexer": "ipython3",
   "version": "3.11.9"
  }
 },
 "nbformat": 4,
 "nbformat_minor": 2
}
