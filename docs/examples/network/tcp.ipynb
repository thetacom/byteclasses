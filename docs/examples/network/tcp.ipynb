{
 "cells": [
  {
   "cell_type": "markdown",
   "metadata": {},
   "source": [
    "# TCP Header"
   ]
  },
  {
   "cell_type": "code",
   "execution_count": 1,
   "metadata": {},
   "outputs": [],
   "source": [
    "from byteclasses.handlers.network.tcp_hdr import TCPHdr\n",
    "from rich.console import Console\n",
    "from rich.table import Table"
   ]
  },
  {
   "cell_type": "code",
   "execution_count": 2,
   "metadata": {},
   "outputs": [],
   "source": [
    "tcp_hdr = TCPHdr()\n",
    "data = bytearray(\n",
    "    b\"\\x1e\\xc3\\x07\\xd0\\x1f\\xbc\\x16\\xd2\\x00\\x00\\x00\\x00\\x80\\x02\\xfa\\xf0\\x05\\x10\\x00\\x00\"\n",
    ")\n",
    "tcp_hdr.attach(memoryview(data))"
   ]
  },
  {
   "cell_type": "code",
   "execution_count": 3,
   "metadata": {},
   "outputs": [
    {
     "data": {
      "text/html": [
       "<pre style=\"white-space:pre;overflow-x:auto;line-height:normal;font-family:Menlo,'DejaVu Sans Mono',consolas,'Courier New',monospace\"><span style=\"font-style: italic\">                                                tcp_hdrernet Header                                                </span>\n",
       "┏━━━━━━━━━━━━━━━━━━━━━━━━━━━━━━┳━━━━━━━━━━━━━━━━━━━━━━━━━━━━━━━━━━━━━━━━━━━━━━━━━━━━━━━━━━━━━━━━━━━━━━━━━━━━━━━━━━┓\n",
       "┃<span style=\"font-weight: bold\"> Name                         </span>┃<span style=\"font-weight: bold\"> Value                                                                            </span>┃\n",
       "┡━━━━━━━━━━━━━━━━━━━━━━━━━━━━━━╇━━━━━━━━━━━━━━━━━━━━━━━━━━━━━━━━━━━━━━━━━━━━━━━━━━━━━━━━━━━━━━━━━━━━━━━━━━━━━━━━━━┩\n",
       "│ len(tcp_hdr)                 │ 20                                                                               │\n",
       "│ str(tcp_hdr)                 │ TCPHdr(src_port=UInt16(7875), dst_port=UInt16(2000),                             │\n",
       "│                              │ seq_number=UInt32(532420306), ack_number=UInt32(0),                              │\n",
       "│                              │ off_flag=OffFlag(data=b'\\x80\\x02'), window_size=UInt16(64240),                   │\n",
       "│                              │ checksum=UInt16(1296), urgent_pointer=UInt16(0))                                 │\n",
       "│ repr(tcp_hdr)                │ TCPHdr(src_port=UInt16(7875), dst_port=UInt16(2000),                             │\n",
       "│                              │ seq_number=UInt32(532420306), ack_number=UInt32(0),                              │\n",
       "│                              │ off_flag=OffFlag(data=b'\\x80\\x02'), window_size=UInt16(64240),                   │\n",
       "│                              │ checksum=UInt16(1296), urgent_pointer=UInt16(0))                                 │\n",
       "│ tcp_hdr.data                 │ bytearray(b'\\x1e\\xc3\\x07\\xd0\\x1f\\xbc\\x16\\xd2\\x00\\x00\\x00\\x00\\x80\\x02\\xfa\\xf0\\x0… │\n",
       "│ tcp_hdr.src_port             │ 7875                                                                             │\n",
       "│ tcp_hdr.dst_port             │ 2000                                                                             │\n",
       "│ tcp_hdr.seq_number           │ 532420306                                                                        │\n",
       "│ tcp_hdr.ack_number           │ 0                                                                                │\n",
       "│ tcp_hdr.off_flag             │ 0000000101000000                                                                 │\n",
       "│ tcp_hdr.off_flag.data_offset │ 0                                                                                │\n",
       "│ tcp_hdr.off_flag.flags       │ 0b101000                                                                         │\n",
       "│ tcp_hdr.window_size          │ 64240                                                                            │\n",
       "│ tcp_hdr.checksum             │ 1296                                                                             │\n",
       "│ tcp_hdr.urgent_pointer       │ 0                                                                                │\n",
       "└──────────────────────────────┴──────────────────────────────────────────────────────────────────────────────────┘\n",
       "</pre>\n"
      ],
      "text/plain": [
       "\u001b[3m                                                tcp_hdrernet Header                                                \u001b[0m\n",
       "┏━━━━━━━━━━━━━━━━━━━━━━━━━━━━━━┳━━━━━━━━━━━━━━━━━━━━━━━━━━━━━━━━━━━━━━━━━━━━━━━━━━━━━━━━━━━━━━━━━━━━━━━━━━━━━━━━━━┓\n",
       "┃\u001b[1m \u001b[0m\u001b[1mName                        \u001b[0m\u001b[1m \u001b[0m┃\u001b[1m \u001b[0m\u001b[1mValue                                                                           \u001b[0m\u001b[1m \u001b[0m┃\n",
       "┡━━━━━━━━━━━━━━━━━━━━━━━━━━━━━━╇━━━━━━━━━━━━━━━━━━━━━━━━━━━━━━━━━━━━━━━━━━━━━━━━━━━━━━━━━━━━━━━━━━━━━━━━━━━━━━━━━━┩\n",
       "│ len(tcp_hdr)                 │ 20                                                                               │\n",
       "│ str(tcp_hdr)                 │ TCPHdr(src_port=UInt16(7875), dst_port=UInt16(2000),                             │\n",
       "│                              │ seq_number=UInt32(532420306), ack_number=UInt32(0),                              │\n",
       "│                              │ off_flag=OffFlag(data=b'\\x80\\x02'), window_size=UInt16(64240),                   │\n",
       "│                              │ checksum=UInt16(1296), urgent_pointer=UInt16(0))                                 │\n",
       "│ repr(tcp_hdr)                │ TCPHdr(src_port=UInt16(7875), dst_port=UInt16(2000),                             │\n",
       "│                              │ seq_number=UInt32(532420306), ack_number=UInt32(0),                              │\n",
       "│                              │ off_flag=OffFlag(data=b'\\x80\\x02'), window_size=UInt16(64240),                   │\n",
       "│                              │ checksum=UInt16(1296), urgent_pointer=UInt16(0))                                 │\n",
       "│ tcp_hdr.data                 │ bytearray(b'\\x1e\\xc3\\x07\\xd0\\x1f\\xbc\\x16\\xd2\\x00\\x00\\x00\\x00\\x80\\x02\\xfa\\xf0\\x0… │\n",
       "│ tcp_hdr.src_port             │ 7875                                                                             │\n",
       "│ tcp_hdr.dst_port             │ 2000                                                                             │\n",
       "│ tcp_hdr.seq_number           │ 532420306                                                                        │\n",
       "│ tcp_hdr.ack_number           │ 0                                                                                │\n",
       "│ tcp_hdr.off_flag             │ 0000000101000000                                                                 │\n",
       "│ tcp_hdr.off_flag.data_offset │ 0                                                                                │\n",
       "│ tcp_hdr.off_flag.flags       │ 0b101000                                                                         │\n",
       "│ tcp_hdr.window_size          │ 64240                                                                            │\n",
       "│ tcp_hdr.checksum             │ 1296                                                                             │\n",
       "│ tcp_hdr.urgent_pointer       │ 0                                                                                │\n",
       "└──────────────────────────────┴──────────────────────────────────────────────────────────────────────────────────┘\n"
      ]
     },
     "metadata": {},
     "output_type": "display_data"
    }
   ],
   "source": [
    "table = Table(title=\"tcp_hdrernet Header\")\n",
    "\n",
    "table.add_column(\"Name\")\n",
    "table.add_column(\"Value\")\n",
    "\n",
    "table.add_row(\"len(tcp_hdr)\", str(len(tcp_hdr)))\n",
    "table.add_row(\"str(tcp_hdr)\", str(tcp_hdr))\n",
    "table.add_row(\"repr(tcp_hdr)\", repr(tcp_hdr))\n",
    "table.add_row(\"tcp_hdr.data\", str(tcp_hdr.data))\n",
    "table.add_row(\"tcp_hdr.src_port\", str(tcp_hdr.src_port))\n",
    "table.add_row(\"tcp_hdr.dst_port\", str(tcp_hdr.dst_port))\n",
    "table.add_row(\"tcp_hdr.seq_number\", str(tcp_hdr.seq_number))\n",
    "table.add_row(\"tcp_hdr.ack_number\", str(tcp_hdr.ack_number))\n",
    "table.add_row(\"tcp_hdr.off_flag\", str(tcp_hdr.off_flag))\n",
    "table.add_row(\"tcp_hdr.off_flag.data_offset\", str(tcp_hdr.off_flag.data_offset))\n",
    "table.add_row(\"tcp_hdr.off_flag.flags\", bin(tcp_hdr.off_flag.flags))\n",
    "table.add_row(\"tcp_hdr.window_size\", str(tcp_hdr.window_size))\n",
    "table.add_row(\"tcp_hdr.checksum\", str(tcp_hdr.checksum))\n",
    "table.add_row(\"tcp_hdr.urgent_pointer\", str(tcp_hdr.urgent_pointer))\n",
    "\n",
    "\n",
    "console = Console()\n",
    "console.print(table)"
   ]
  }
 ],
 "metadata": {
  "kernelspec": {
   "display_name": ".venv",
   "language": "python",
   "name": "python3"
  },
  "language_info": {
   "codemirror_mode": {
    "name": "ipython",
    "version": 3
   },
   "file_extension": ".py",
   "mimetype": "text/x-python",
   "name": "python",
   "nbconvert_exporter": "python",
   "pygments_lexer": "ipython3",
   "version": "3.11.9"
  }
 },
 "nbformat": 4,
 "nbformat_minor": 2
}
