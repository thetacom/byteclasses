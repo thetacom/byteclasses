{
 "cells": [
  {
   "cell_type": "markdown",
   "metadata": {},
   "source": [
    "# MacOS Executable Header and Data Handler"
   ]
  },
  {
   "cell_type": "code",
   "execution_count": 1,
   "metadata": {},
   "outputs": [],
   "source": [
    "from byteclasses.handlers.executables.mach import MachHdr64, Mach64\n",
    "from byteclasses.print import collection_table, byteclass_info\n",
    "from rich.console import Console\n",
    "from rich.table import Table"
   ]
  },
  {
   "cell_type": "code",
   "execution_count": 2,
   "metadata": {},
   "outputs": [],
   "source": [
    "with open(\"../../../tests/data/hello_world.mach-o\", \"rb\") as file:\n",
    "    data = file.read()\n",
    "mach64_hdr = MachHdr64()\n",
    "mach64_hdr.attach(memoryview(data))"
   ]
  },
  {
   "cell_type": "code",
   "execution_count": 3,
   "metadata": {},
   "outputs": [
    {
     "data": {
      "text/html": [
       "<pre style=\"white-space:pre;overflow-x:auto;line-height:normal;font-family:Menlo,'DejaVu Sans Mono',consolas,'Courier New',monospace\"><span style=\"font-style: italic\">                                                   Mach64 Header                                                   </span>\n",
       "┏━━━━━━━━━━━━━━━━━━┳━━━━━━━━━━━━━━━━━━━━━━━━━━━━━━━━━━━━━━━━━━━━━━━━━━━━━━━━━━━━━━━━━━━━━━━━━━━━━━━━━━━━━━━━━━━━━━┓\n",
       "┃<span style=\"font-weight: bold\"> Name             </span>┃<span style=\"font-weight: bold\"> Value                                                                                        </span>┃\n",
       "┡━━━━━━━━━━━━━━━━━━╇━━━━━━━━━━━━━━━━━━━━━━━━━━━━━━━━━━━━━━━━━━━━━━━━━━━━━━━━━━━━━━━━━━━━━━━━━━━━━━━━━━━━━━━━━━━━━━┩\n",
       "│ len(mach64_hdr)  │ 32                                                                                           │\n",
       "│ str(mach64_hdr)  │ MachHdr64(magic=UInt32(4277009103), cputype=Int32(16777228), cpusubtype=Int32(0),            │\n",
       "│                  │ filetype=UInt32(2), ncmds=UInt32(17), sizeofcmds=UInt32(1056),                               │\n",
       "│                  │ flags=MachFlags32(data=b'\\x85\\x00 \\x00'), reserved=UInt32(0))                                │\n",
       "│ repr(mach64_hdr) │ MachHdr64(magic=UInt32(4277009103), cputype=Int32(16777228), cpusubtype=Int32(0),            │\n",
       "│                  │ filetype=UInt32(2), ncmds=UInt32(17), sizeofcmds=UInt32(1056),                               │\n",
       "│                  │ flags=MachFlags32(data=b'\\x85\\x00 \\x00'), reserved=UInt32(0))                                │\n",
       "│ mach64_hdr.data  │ bytearray(b'\\xcf\\xfa\\xed\\xfe\\x0c\\x00\\x00\\x01\\x00\\x00\\x00\\x00\\x02\\x00\\x00\\x00\\x11\\x00\\x00\\x00 │\n",
       "│                  │ \\x04\\x00\\x00\\x85\\x00 \\x00\\x00\\x00\\x00\\x00')                                                  │\n",
       "└──────────────────┴──────────────────────────────────────────────────────────────────────────────────────────────┘\n",
       "</pre>\n"
      ],
      "text/plain": [
       "\u001b[3m                                                   Mach64 Header                                                   \u001b[0m\n",
       "┏━━━━━━━━━━━━━━━━━━┳━━━━━━━━━━━━━━━━━━━━━━━━━━━━━━━━━━━━━━━━━━━━━━━━━━━━━━━━━━━━━━━━━━━━━━━━━━━━━━━━━━━━━━━━━━━━━━┓\n",
       "┃\u001b[1m \u001b[0m\u001b[1mName            \u001b[0m\u001b[1m \u001b[0m┃\u001b[1m \u001b[0m\u001b[1mValue                                                                                       \u001b[0m\u001b[1m \u001b[0m┃\n",
       "┡━━━━━━━━━━━━━━━━━━╇━━━━━━━━━━━━━━━━━━━━━━━━━━━━━━━━━━━━━━━━━━━━━━━━━━━━━━━━━━━━━━━━━━━━━━━━━━━━━━━━━━━━━━━━━━━━━━┩\n",
       "│ len(mach64_hdr)  │ 32                                                                                           │\n",
       "│ str(mach64_hdr)  │ MachHdr64(magic=UInt32(4277009103), cputype=Int32(16777228), cpusubtype=Int32(0),            │\n",
       "│                  │ filetype=UInt32(2), ncmds=UInt32(17), sizeofcmds=UInt32(1056),                               │\n",
       "│                  │ flags=MachFlags32(data=b'\\x85\\x00 \\x00'), reserved=UInt32(0))                                │\n",
       "│ repr(mach64_hdr) │ MachHdr64(magic=UInt32(4277009103), cputype=Int32(16777228), cpusubtype=Int32(0),            │\n",
       "│                  │ filetype=UInt32(2), ncmds=UInt32(17), sizeofcmds=UInt32(1056),                               │\n",
       "│                  │ flags=MachFlags32(data=b'\\x85\\x00 \\x00'), reserved=UInt32(0))                                │\n",
       "│ mach64_hdr.data  │ bytearray(b'\\xcf\\xfa\\xed\\xfe\\x0c\\x00\\x00\\x01\\x00\\x00\\x00\\x00\\x02\\x00\\x00\\x00\\x11\\x00\\x00\\x00 │\n",
       "│                  │ \\x04\\x00\\x00\\x85\\x00 \\x00\\x00\\x00\\x00\\x00')                                                  │\n",
       "└──────────────────┴──────────────────────────────────────────────────────────────────────────────────────────────┘\n"
      ]
     },
     "metadata": {},
     "output_type": "display_data"
    }
   ],
   "source": [
    "table = Table(title=\"Mach64 Header\")\n",
    "\n",
    "table.add_column(\"Name\")\n",
    "table.add_column(\"Value\")\n",
    "\n",
    "table.add_row(\"len(mach64_hdr)\", str(len(mach64_hdr)))\n",
    "table.add_row(\"str(mach64_hdr)\", str(mach64_hdr))\n",
    "table.add_row(\"repr(mach64_hdr)\", repr(mach64_hdr))\n",
    "table.add_row(\"mach64_hdr.data\", str(mach64_hdr.data))\n",
    "\n",
    "console = Console()\n",
    "console.print(table)"
   ]
  },
  {
   "cell_type": "code",
   "execution_count": 4,
   "metadata": {},
   "outputs": [
    {
     "data": {
      "text/html": [
       "<pre style=\"white-space:pre;overflow-x:auto;line-height:normal;font-family:Menlo,'DejaVu Sans Mono',consolas,'Courier New',monospace\"><span style=\"font-style: italic\">                                                  Byteclass Info                                                   </span>\n",
       "┏━━━━━━━━━━┳━━━━━━━━━━━━━━━━━━━━━━━━━━━━━━━━━━━━━━━━━━━━━━━━━━━━━━━━━━━━━━━━━━━━━━━━━━━━━━━━━━━━━━━━━━━━━━━━━━━━━━┓\n",
       "┃<span style=\"font-weight: bold\"> Property </span>┃<span style=\"font-weight: bold\"> Value                                                                                                </span>┃\n",
       "┡━━━━━━━━━━╇━━━━━━━━━━━━━━━━━━━━━━━━━━━━━━━━━━━━━━━━━━━━━━━━━━━━━━━━━━━━━━━━━━━━━━━━━━━━━━━━━━━━━━━━━━━━━━━━━━━━━━┩\n",
       "│<span style=\"color: #808080; text-decoration-color: #808080\"> </span><span style=\"color: #808080; text-decoration-color: #808080; font-weight: bold\">type()  </span><span style=\"color: #808080; text-decoration-color: #808080\"> </span>│<span style=\"color: #808080; text-decoration-color: #808080\"> MachHdr64                                                                                            </span>│\n",
       "│<span style=\"color: #ff0000; text-decoration-color: #ff0000\"> </span><span style=\"color: #ff0000; text-decoration-color: #ff0000; font-weight: bold\">len()   </span><span style=\"color: #ff0000; text-decoration-color: #ff0000\"> </span>│<span style=\"color: #ff0000; text-decoration-color: #ff0000\"> 32                                                                                                   </span>│\n",
       "│<span style=\"color: #00ff00; text-decoration-color: #00ff00\"> </span><span style=\"color: #00ff00; text-decoration-color: #00ff00; font-weight: bold\">str()   </span><span style=\"color: #00ff00; text-decoration-color: #00ff00\"> </span>│<span style=\"color: #00ff00; text-decoration-color: #00ff00\"> MachHdr64(magic=UInt32(4277009103), cputype=Int32(16777228), cpusubtype=Int32(0),                    </span>│\n",
       "│<span style=\"color: #00ff00; text-decoration-color: #00ff00\">          </span>│<span style=\"color: #00ff00; text-decoration-color: #00ff00\"> filetype=UInt32(2), ncmds=UInt32(17), sizeofcmds=UInt32(1056), flags=MachFlags32(data=b'\\x85\\x00     </span>│\n",
       "│<span style=\"color: #00ff00; text-decoration-color: #00ff00\">          </span>│<span style=\"color: #00ff00; text-decoration-color: #00ff00\"> \\x00'), reserved=UInt32(0))                                                                          </span>│\n",
       "│<span style=\"color: #ffff00; text-decoration-color: #ffff00\"> </span><span style=\"color: #ffff00; text-decoration-color: #ffff00; font-weight: bold\">repr()  </span><span style=\"color: #ffff00; text-decoration-color: #ffff00\"> </span>│<span style=\"color: #ffff00; text-decoration-color: #ffff00\"> MachHdr64(magic=UInt32(4277009103), cputype=Int32(16777228), cpusubtype=Int32(0),                    </span>│\n",
       "│<span style=\"color: #ffff00; text-decoration-color: #ffff00\">          </span>│<span style=\"color: #ffff00; text-decoration-color: #ffff00\"> filetype=UInt32(2), ncmds=UInt32(17), sizeofcmds=UInt32(1056), flags=MachFlags32(data=b'\\x85\\x00     </span>│\n",
       "│<span style=\"color: #ffff00; text-decoration-color: #ffff00\">          </span>│<span style=\"color: #ffff00; text-decoration-color: #ffff00\"> \\x00'), reserved=UInt32(0))                                                                          </span>│\n",
       "│<span style=\"color: #0000ff; text-decoration-color: #0000ff\"> </span><span style=\"color: #0000ff; text-decoration-color: #0000ff; font-weight: bold\">.data   </span><span style=\"color: #0000ff; text-decoration-color: #0000ff\"> </span>│<span style=\"color: #0000ff; text-decoration-color: #0000ff\"> bytearray(b'\\xcf\\xfa\\xed\\xfe\\x0c\\x00\\x00\\x01\\x00\\x00\\x00\\x00\\x02\\x00\\x00\\x00\\x11\\x00\\x00\\x00         </span>│\n",
       "│<span style=\"color: #0000ff; text-decoration-color: #0000ff\">          </span>│<span style=\"color: #0000ff; text-decoration-color: #0000ff\"> \\x04\\x00\\x00\\x85\\x00 \\x00\\x00\\x00\\x00\\x00')                                                          </span>│\n",
       "└──────────┴──────────────────────────────────────────────────────────────────────────────────────────────────────┘\n",
       "</pre>\n"
      ],
      "text/plain": [
       "\u001b[3m                                                  Byteclass Info                                                   \u001b[0m\n",
       "┏━━━━━━━━━━┳━━━━━━━━━━━━━━━━━━━━━━━━━━━━━━━━━━━━━━━━━━━━━━━━━━━━━━━━━━━━━━━━━━━━━━━━━━━━━━━━━━━━━━━━━━━━━━━━━━━━━━┓\n",
       "┃\u001b[1m \u001b[0m\u001b[1mProperty\u001b[0m\u001b[1m \u001b[0m┃\u001b[1m \u001b[0m\u001b[1mValue                                                                                               \u001b[0m\u001b[1m \u001b[0m┃\n",
       "┡━━━━━━━━━━╇━━━━━━━━━━━━━━━━━━━━━━━━━━━━━━━━━━━━━━━━━━━━━━━━━━━━━━━━━━━━━━━━━━━━━━━━━━━━━━━━━━━━━━━━━━━━━━━━━━━━━━┩\n",
       "│\u001b[90m \u001b[0m\u001b[1;90mtype()  \u001b[0m\u001b[90m \u001b[0m│\u001b[90m \u001b[0m\u001b[90mMachHdr64                                                                                           \u001b[0m\u001b[90m \u001b[0m│\n",
       "│\u001b[91m \u001b[0m\u001b[1;91mlen()   \u001b[0m\u001b[91m \u001b[0m│\u001b[91m \u001b[0m\u001b[91m32                                                                                                  \u001b[0m\u001b[91m \u001b[0m│\n",
       "│\u001b[92m \u001b[0m\u001b[1;92mstr()   \u001b[0m\u001b[92m \u001b[0m│\u001b[92m \u001b[0m\u001b[92mMachHdr64(magic=UInt32(4277009103), cputype=Int32(16777228), cpusubtype=Int32(0),                   \u001b[0m\u001b[92m \u001b[0m│\n",
       "│\u001b[92m          \u001b[0m│\u001b[92m \u001b[0m\u001b[92mfiletype=UInt32(2), ncmds=UInt32(17), sizeofcmds=UInt32(1056), flags=MachFlags32(data=b'\\x85\\x00    \u001b[0m\u001b[92m \u001b[0m│\n",
       "│\u001b[92m          \u001b[0m│\u001b[92m \u001b[0m\u001b[92m\\x00'), reserved=UInt32(0))                                                                         \u001b[0m\u001b[92m \u001b[0m│\n",
       "│\u001b[93m \u001b[0m\u001b[1;93mrepr()  \u001b[0m\u001b[93m \u001b[0m│\u001b[93m \u001b[0m\u001b[93mMachHdr64(magic=UInt32(4277009103), cputype=Int32(16777228), cpusubtype=Int32(0),                   \u001b[0m\u001b[93m \u001b[0m│\n",
       "│\u001b[93m          \u001b[0m│\u001b[93m \u001b[0m\u001b[93mfiletype=UInt32(2), ncmds=UInt32(17), sizeofcmds=UInt32(1056), flags=MachFlags32(data=b'\\x85\\x00    \u001b[0m\u001b[93m \u001b[0m│\n",
       "│\u001b[93m          \u001b[0m│\u001b[93m \u001b[0m\u001b[93m\\x00'), reserved=UInt32(0))                                                                         \u001b[0m\u001b[93m \u001b[0m│\n",
       "│\u001b[94m \u001b[0m\u001b[1;94m.data   \u001b[0m\u001b[94m \u001b[0m│\u001b[94m \u001b[0m\u001b[94mbytearray(b'\\xcf\\xfa\\xed\\xfe\\x0c\\x00\\x00\\x01\\x00\\x00\\x00\\x00\\x02\\x00\\x00\\x00\\x11\\x00\\x00\\x00        \u001b[0m\u001b[94m \u001b[0m│\n",
       "│\u001b[94m          \u001b[0m│\u001b[94m \u001b[0m\u001b[94m\\x04\\x00\\x00\\x85\\x00 \\x00\\x00\\x00\\x00\\x00')                                                         \u001b[0m\u001b[94m \u001b[0m│\n",
       "└──────────┴──────────────────────────────────────────────────────────────────────────────────────────────────────┘\n"
      ]
     },
     "metadata": {},
     "output_type": "display_data"
    }
   ],
   "source": [
    "byteclass_info(mach64_hdr)"
   ]
  },
  {
   "cell_type": "code",
   "execution_count": 5,
   "metadata": {},
   "outputs": [
    {
     "data": {
      "text/html": [
       "<pre style=\"white-space:pre;overflow-x:auto;line-height:normal;font-family:Menlo,'DejaVu Sans Mono',consolas,'Courier New',monospace\"><span style=\"font-style: italic\">                                                     MachHdr64                                                     </span>\n",
       "┏━━━━━━━━━━━━┳━━━━━━━━━━━━━━━━━━━━━━━━━━━━━━━━━━━━━━━━━━━━━━━━━━━━━━━━━━━━━━━━━━━━━━━━━━━━━━┳━━━━━━━━━━━━━━━━━━━━━┓\n",
       "┃<span style=\"font-weight: bold\"> Member     </span>┃<span style=\"font-weight: bold\"> Value                                                                        </span>┃<span style=\"font-weight: bold\"> Data                </span>┃\n",
       "┡━━━━━━━━━━━━╇━━━━━━━━━━━━━━━━━━━━━━━━━━━━━━━━━━━━━━━━━━━━━━━━━━━━━━━━━━━━━━━━━━━━━━━━━━━━━━╇━━━━━━━━━━━━━━━━━━━━━┩\n",
       "│<span style=\"color: #808080; text-decoration-color: #808080\"> </span><span style=\"color: #808080; text-decoration-color: #808080; font-weight: bold\">magic     </span><span style=\"color: #808080; text-decoration-color: #808080\"> </span>│<span style=\"color: #808080; text-decoration-color: #808080\"> 4277009103                                                                   </span>│<span style=\"color: #808080; text-decoration-color: #808080\"> b'\\xcf\\xfa\\xed\\xfe' </span>│\n",
       "│<span style=\"color: #ff0000; text-decoration-color: #ff0000\"> </span><span style=\"color: #ff0000; text-decoration-color: #ff0000; font-weight: bold\">cputype   </span><span style=\"color: #ff0000; text-decoration-color: #ff0000\"> </span>│<span style=\"color: #ff0000; text-decoration-color: #ff0000\"> 16777228                                                                     </span>│<span style=\"color: #ff0000; text-decoration-color: #ff0000\"> b'\\x0c\\x00\\x00\\x01' </span>│\n",
       "│<span style=\"color: #00ff00; text-decoration-color: #00ff00\"> </span><span style=\"color: #00ff00; text-decoration-color: #00ff00; font-weight: bold\">cpusubtype</span><span style=\"color: #00ff00; text-decoration-color: #00ff00\"> </span>│<span style=\"color: #00ff00; text-decoration-color: #00ff00\"> 0                                                                            </span>│<span style=\"color: #00ff00; text-decoration-color: #00ff00\"> b'\\x00\\x00\\x00\\x00' </span>│\n",
       "│<span style=\"color: #ffff00; text-decoration-color: #ffff00\"> </span><span style=\"color: #ffff00; text-decoration-color: #ffff00; font-weight: bold\">filetype  </span><span style=\"color: #ffff00; text-decoration-color: #ffff00\"> </span>│<span style=\"color: #ffff00; text-decoration-color: #ffff00\"> 2                                                                            </span>│<span style=\"color: #ffff00; text-decoration-color: #ffff00\"> b'\\x02\\x00\\x00\\x00' </span>│\n",
       "│<span style=\"color: #0000ff; text-decoration-color: #0000ff\"> </span><span style=\"color: #0000ff; text-decoration-color: #0000ff; font-weight: bold\">ncmds     </span><span style=\"color: #0000ff; text-decoration-color: #0000ff\"> </span>│<span style=\"color: #0000ff; text-decoration-color: #0000ff\"> 17                                                                           </span>│<span style=\"color: #0000ff; text-decoration-color: #0000ff\"> b'\\x11\\x00\\x00\\x00' </span>│\n",
       "│<span style=\"color: #ff00ff; text-decoration-color: #ff00ff\"> </span><span style=\"color: #ff00ff; text-decoration-color: #ff00ff; font-weight: bold\">sizeofcmds</span><span style=\"color: #ff00ff; text-decoration-color: #ff00ff\"> </span>│<span style=\"color: #ff00ff; text-decoration-color: #ff00ff\"> 1056                                                                         </span>│<span style=\"color: #ff00ff; text-decoration-color: #ff00ff\"> b' \\x04\\x00\\x00'    </span>│\n",
       "│<span style=\"color: #00ffff; text-decoration-color: #00ffff\"> </span><span style=\"color: #00ffff; text-decoration-color: #00ffff; font-weight: bold\">flags     </span><span style=\"color: #00ffff; text-decoration-color: #00ffff\"> </span>│<span style=\"color: #00ffff; text-decoration-color: #00ffff\"> MachFlags32(10100001000000000000010000000000, flags={'NOUNDEFS': True,       </span>│<span style=\"color: #00ffff; text-decoration-color: #00ffff\"> b'\\x85\\x00 \\x00'    </span>│\n",
       "│<span style=\"color: #00ffff; text-decoration-color: #00ffff\">            </span>│<span style=\"color: #00ffff; text-decoration-color: #00ffff\"> 'INCRLINK': False, 'DYLDLINK': True, 'BINDATLOAD': False, 'PREBOUND': False, </span>│<span style=\"color: #00ffff; text-decoration-color: #00ffff\">                     </span>│\n",
       "│<span style=\"color: #00ffff; text-decoration-color: #00ffff\">            </span>│<span style=\"color: #00ffff; text-decoration-color: #00ffff\"> 'SPLIT_SEGS': False, 'LAZY_INIT': False, 'TWOLEVEL': True, 'FORCE_FLAT':     </span>│<span style=\"color: #00ffff; text-decoration-color: #00ffff\">                     </span>│\n",
       "│<span style=\"color: #00ffff; text-decoration-color: #00ffff\">            </span>│<span style=\"color: #00ffff; text-decoration-color: #00ffff\"> False, 'NOMULTIDEFS': False, 'NOFIXPREBINDING': False, 'PREBINDABLE': False, </span>│<span style=\"color: #00ffff; text-decoration-color: #00ffff\">                     </span>│\n",
       "│<span style=\"color: #00ffff; text-decoration-color: #00ffff\">            </span>│<span style=\"color: #00ffff; text-decoration-color: #00ffff\"> 'ALLMODSBOUND': False, 'SUBSECTIONS_VIA_SYMBOLS': False, 'CANONICAL': False, </span>│<span style=\"color: #00ffff; text-decoration-color: #00ffff\">                     </span>│\n",
       "│<span style=\"color: #00ffff; text-decoration-color: #00ffff\">            </span>│<span style=\"color: #00ffff; text-decoration-color: #00ffff\"> 'WEAK_DEFINES': False, 'BINDS_TO_WEAK': False, 'ALLOW_STACK_EXECUTION':      </span>│<span style=\"color: #00ffff; text-decoration-color: #00ffff\">                     </span>│\n",
       "│<span style=\"color: #00ffff; text-decoration-color: #00ffff\">            </span>│<span style=\"color: #00ffff; text-decoration-color: #00ffff\"> False, 'ROOT_SAFE': False, 'SETUID_SAFE': False, 'NO_REEXPORTED_DYLIBS':     </span>│<span style=\"color: #00ffff; text-decoration-color: #00ffff\">                     </span>│\n",
       "│<span style=\"color: #00ffff; text-decoration-color: #00ffff\">            </span>│<span style=\"color: #00ffff; text-decoration-color: #00ffff\"> False, 'PIE': True, 'DEAD_STRIPPABLE_DYLIB': False, 'HAS_TLV_DESCRIPTORS':   </span>│<span style=\"color: #00ffff; text-decoration-color: #00ffff\">                     </span>│\n",
       "│<span style=\"color: #00ffff; text-decoration-color: #00ffff\">            </span>│<span style=\"color: #00ffff; text-decoration-color: #00ffff\"> False, 'NO_HEAP_EXECUTION': False, 'APP_EXTENSION_SAFE': False,              </span>│<span style=\"color: #00ffff; text-decoration-color: #00ffff\">                     </span>│\n",
       "│<span style=\"color: #00ffff; text-decoration-color: #00ffff\">            </span>│<span style=\"color: #00ffff; text-decoration-color: #00ffff\"> 'NLIST_OUTOFSYNC_WITH_DYLDINFO': False, 'SIM_SUPPORT': False,                </span>│<span style=\"color: #00ffff; text-decoration-color: #00ffff\">                     </span>│\n",
       "│<span style=\"color: #00ffff; text-decoration-color: #00ffff\">            </span>│<span style=\"color: #00ffff; text-decoration-color: #00ffff\"> 'DYLIB_IN_CACHE': False})                                                    </span>│<span style=\"color: #00ffff; text-decoration-color: #00ffff\">                     </span>│\n",
       "│<span style=\"color: #808080; text-decoration-color: #808080\"> </span><span style=\"color: #808080; text-decoration-color: #808080; font-weight: bold\">reserved  </span><span style=\"color: #808080; text-decoration-color: #808080\"> </span>│<span style=\"color: #808080; text-decoration-color: #808080\"> 0                                                                            </span>│<span style=\"color: #808080; text-decoration-color: #808080\"> b'\\x00\\x00\\x00\\x00' </span>│\n",
       "└────────────┴──────────────────────────────────────────────────────────────────────────────┴─────────────────────┘\n",
       "</pre>\n"
      ],
      "text/plain": [
       "\u001b[3m                                                     MachHdr64                                                     \u001b[0m\n",
       "┏━━━━━━━━━━━━┳━━━━━━━━━━━━━━━━━━━━━━━━━━━━━━━━━━━━━━━━━━━━━━━━━━━━━━━━━━━━━━━━━━━━━━━━━━━━━━┳━━━━━━━━━━━━━━━━━━━━━┓\n",
       "┃\u001b[1m \u001b[0m\u001b[1mMember    \u001b[0m\u001b[1m \u001b[0m┃\u001b[1m \u001b[0m\u001b[1mValue                                                                       \u001b[0m\u001b[1m \u001b[0m┃\u001b[1m \u001b[0m\u001b[1mData               \u001b[0m\u001b[1m \u001b[0m┃\n",
       "┡━━━━━━━━━━━━╇━━━━━━━━━━━━━━━━━━━━━━━━━━━━━━━━━━━━━━━━━━━━━━━━━━━━━━━━━━━━━━━━━━━━━━━━━━━━━━╇━━━━━━━━━━━━━━━━━━━━━┩\n",
       "│\u001b[90m \u001b[0m\u001b[1;90mmagic     \u001b[0m\u001b[90m \u001b[0m│\u001b[90m \u001b[0m\u001b[90m4277009103                                                                  \u001b[0m\u001b[90m \u001b[0m│\u001b[90m \u001b[0m\u001b[90mb'\\xcf\\xfa\\xed\\xfe'\u001b[0m\u001b[90m \u001b[0m│\n",
       "│\u001b[91m \u001b[0m\u001b[1;91mcputype   \u001b[0m\u001b[91m \u001b[0m│\u001b[91m \u001b[0m\u001b[91m16777228                                                                    \u001b[0m\u001b[91m \u001b[0m│\u001b[91m \u001b[0m\u001b[91mb'\\x0c\\x00\\x00\\x01'\u001b[0m\u001b[91m \u001b[0m│\n",
       "│\u001b[92m \u001b[0m\u001b[1;92mcpusubtype\u001b[0m\u001b[92m \u001b[0m│\u001b[92m \u001b[0m\u001b[92m0                                                                           \u001b[0m\u001b[92m \u001b[0m│\u001b[92m \u001b[0m\u001b[92mb'\\x00\\x00\\x00\\x00'\u001b[0m\u001b[92m \u001b[0m│\n",
       "│\u001b[93m \u001b[0m\u001b[1;93mfiletype  \u001b[0m\u001b[93m \u001b[0m│\u001b[93m \u001b[0m\u001b[93m2                                                                           \u001b[0m\u001b[93m \u001b[0m│\u001b[93m \u001b[0m\u001b[93mb'\\x02\\x00\\x00\\x00'\u001b[0m\u001b[93m \u001b[0m│\n",
       "│\u001b[94m \u001b[0m\u001b[1;94mncmds     \u001b[0m\u001b[94m \u001b[0m│\u001b[94m \u001b[0m\u001b[94m17                                                                          \u001b[0m\u001b[94m \u001b[0m│\u001b[94m \u001b[0m\u001b[94mb'\\x11\\x00\\x00\\x00'\u001b[0m\u001b[94m \u001b[0m│\n",
       "│\u001b[95m \u001b[0m\u001b[1;95msizeofcmds\u001b[0m\u001b[95m \u001b[0m│\u001b[95m \u001b[0m\u001b[95m1056                                                                        \u001b[0m\u001b[95m \u001b[0m│\u001b[95m \u001b[0m\u001b[95mb' \\x04\\x00\\x00'   \u001b[0m\u001b[95m \u001b[0m│\n",
       "│\u001b[96m \u001b[0m\u001b[1;96mflags     \u001b[0m\u001b[96m \u001b[0m│\u001b[96m \u001b[0m\u001b[96mMachFlags32(10100001000000000000010000000000, flags={'NOUNDEFS': True,      \u001b[0m\u001b[96m \u001b[0m│\u001b[96m \u001b[0m\u001b[96mb'\\x85\\x00 \\x00'   \u001b[0m\u001b[96m \u001b[0m│\n",
       "│\u001b[96m            \u001b[0m│\u001b[96m \u001b[0m\u001b[96m'INCRLINK': False, 'DYLDLINK': True, 'BINDATLOAD': False, 'PREBOUND': False,\u001b[0m\u001b[96m \u001b[0m│\u001b[96m                     \u001b[0m│\n",
       "│\u001b[96m            \u001b[0m│\u001b[96m \u001b[0m\u001b[96m'SPLIT_SEGS': False, 'LAZY_INIT': False, 'TWOLEVEL': True, 'FORCE_FLAT':    \u001b[0m\u001b[96m \u001b[0m│\u001b[96m                     \u001b[0m│\n",
       "│\u001b[96m            \u001b[0m│\u001b[96m \u001b[0m\u001b[96mFalse, 'NOMULTIDEFS': False, 'NOFIXPREBINDING': False, 'PREBINDABLE': False,\u001b[0m\u001b[96m \u001b[0m│\u001b[96m                     \u001b[0m│\n",
       "│\u001b[96m            \u001b[0m│\u001b[96m \u001b[0m\u001b[96m'ALLMODSBOUND': False, 'SUBSECTIONS_VIA_SYMBOLS': False, 'CANONICAL': False,\u001b[0m\u001b[96m \u001b[0m│\u001b[96m                     \u001b[0m│\n",
       "│\u001b[96m            \u001b[0m│\u001b[96m \u001b[0m\u001b[96m'WEAK_DEFINES': False, 'BINDS_TO_WEAK': False, 'ALLOW_STACK_EXECUTION':     \u001b[0m\u001b[96m \u001b[0m│\u001b[96m                     \u001b[0m│\n",
       "│\u001b[96m            \u001b[0m│\u001b[96m \u001b[0m\u001b[96mFalse, 'ROOT_SAFE': False, 'SETUID_SAFE': False, 'NO_REEXPORTED_DYLIBS':    \u001b[0m\u001b[96m \u001b[0m│\u001b[96m                     \u001b[0m│\n",
       "│\u001b[96m            \u001b[0m│\u001b[96m \u001b[0m\u001b[96mFalse, 'PIE': True, 'DEAD_STRIPPABLE_DYLIB': False, 'HAS_TLV_DESCRIPTORS':  \u001b[0m\u001b[96m \u001b[0m│\u001b[96m                     \u001b[0m│\n",
       "│\u001b[96m            \u001b[0m│\u001b[96m \u001b[0m\u001b[96mFalse, 'NO_HEAP_EXECUTION': False, 'APP_EXTENSION_SAFE': False,             \u001b[0m\u001b[96m \u001b[0m│\u001b[96m                     \u001b[0m│\n",
       "│\u001b[96m            \u001b[0m│\u001b[96m \u001b[0m\u001b[96m'NLIST_OUTOFSYNC_WITH_DYLDINFO': False, 'SIM_SUPPORT': False,               \u001b[0m\u001b[96m \u001b[0m│\u001b[96m                     \u001b[0m│\n",
       "│\u001b[96m            \u001b[0m│\u001b[96m \u001b[0m\u001b[96m'DYLIB_IN_CACHE': False})                                                   \u001b[0m\u001b[96m \u001b[0m│\u001b[96m                     \u001b[0m│\n",
       "│\u001b[90m \u001b[0m\u001b[1;90mreserved  \u001b[0m\u001b[90m \u001b[0m│\u001b[90m \u001b[0m\u001b[90m0                                                                           \u001b[0m\u001b[90m \u001b[0m│\u001b[90m \u001b[0m\u001b[90mb'\\x00\\x00\\x00\\x00'\u001b[0m\u001b[90m \u001b[0m│\n",
       "└────────────┴──────────────────────────────────────────────────────────────────────────────┴─────────────────────┘\n"
      ]
     },
     "metadata": {},
     "output_type": "display_data"
    }
   ],
   "source": [
    "collection_table(mach64_hdr)"
   ]
  },
  {
   "cell_type": "code",
   "execution_count": 6,
   "metadata": {},
   "outputs": [],
   "source": [
    "mach64 = Mach64(data)"
   ]
  },
  {
   "cell_type": "code",
   "execution_count": 7,
   "metadata": {},
   "outputs": [
    {
     "data": {
      "text/html": [
       "<pre style=\"white-space:pre;overflow-x:auto;line-height:normal;font-family:Menlo,'DejaVu Sans Mono',consolas,'Courier New',monospace\"><span style=\"font-style: italic\">                                                  Mach64 Handler                                                   </span>\n",
       "┏━━━━━━━━━━━━━━━━━━━━┳━━━━━━━━━━━━━━━━━━━━━━━━━━━━━━━━━━━━━━━━━━━━━━━━━━━━━━━━━━━━━━━━━━━━━━━━━━━━━━━━━━━━━━━━━━━━┓\n",
       "┃<span style=\"font-weight: bold\"> Name               </span>┃<span style=\"font-weight: bold\"> Value                                                                                      </span>┃\n",
       "┡━━━━━━━━━━━━━━━━━━━━╇━━━━━━━━━━━━━━━━━━━━━━━━━━━━━━━━━━━━━━━━━━━━━━━━━━━━━━━━━━━━━━━━━━━━━━━━━━━━━━━━━━━━━━━━━━━━┩\n",
       "│ len(mach64)        │ 33440                                                                                      │\n",
       "│ str(mach64)        │ Mach64(magic=b'\\xcf\\xfa\\xed\\xfe')                                                          │\n",
       "│ repr(mach64)       │ Mach64(data=&lt;memory at 0x112e84c40&gt;)                                                       │\n",
       "│ mach64.data        │ &lt;memory at 0x112e84c40&gt;                                                                    │\n",
       "│ mach64.hdr         │ MachHdr64(magic=UInt32(4277009103), cputype=Int32(16777228), cpusubtype=Int32(0),          │\n",
       "│                    │ filetype=UInt32(2), ncmds=UInt32(17), sizeofcmds=UInt32(1056),                             │\n",
       "│                    │ flags=MachFlags32(data=b'\\x85\\x00 \\x00'), reserved=UInt32(0))                              │\n",
       "│ mach64.magic       │ b'\\xcf\\xfa\\xed\\xfe'                                                                        │\n",
       "│ mach64.cpu_type    │ ARM64                                                                                      │\n",
       "│ mach64.cpu_subtype │ ARM64_ALL                                                                                  │\n",
       "│ mach64.filetype    │ 2                                                                                          │\n",
       "│ mach64.num_cmds    │ 17                                                                                         │\n",
       "│ mach64.cmd_size    │ 1056                                                                                       │\n",
       "│ mach64.flags       │ {'NOUNDEFS': True, 'INCRLINK': False, 'DYLDLINK': True, 'BINDATLOAD': False, 'PREBOUND':   │\n",
       "│                    │ False, 'SPLIT_SEGS': False, 'LAZY_INIT': False, 'TWOLEVEL': True, 'FORCE_FLAT': False,     │\n",
       "│                    │ 'NOMULTIDEFS': False, 'NOFIXPREBINDING': False, 'PREBINDABLE': False, 'ALLMODSBOUND':      │\n",
       "│                    │ False, 'SUBSECTIONS_VIA_SYMBOLS': False, 'CANONICAL': False, 'WEAK_DEFINES': False,        │\n",
       "│                    │ 'BINDS_TO_WEAK': False, 'ALLOW_STACK_EXECUTION': False, 'ROOT_SAFE': False, 'SETUID_SAFE': │\n",
       "│                    │ False, 'NO_REEXPORTED_DYLIBS': False, 'PIE': True, 'DEAD_STRIPPABLE_DYLIB': False,         │\n",
       "│                    │ 'HAS_TLV_DESCRIPTORS': False, 'NO_HEAP_EXECUTION': False, 'APP_EXTENSION_SAFE': False,     │\n",
       "│                    │ 'NLIST_OUTOFSYNC_WITH_DYLDINFO': False, 'SIM_SUPPORT': False, 'DYLIB_IN_CACHE': False}     │\n",
       "└────────────────────┴────────────────────────────────────────────────────────────────────────────────────────────┘\n",
       "</pre>\n"
      ],
      "text/plain": [
       "\u001b[3m                                                  Mach64 Handler                                                   \u001b[0m\n",
       "┏━━━━━━━━━━━━━━━━━━━━┳━━━━━━━━━━━━━━━━━━━━━━━━━━━━━━━━━━━━━━━━━━━━━━━━━━━━━━━━━━━━━━━━━━━━━━━━━━━━━━━━━━━━━━━━━━━━┓\n",
       "┃\u001b[1m \u001b[0m\u001b[1mName              \u001b[0m\u001b[1m \u001b[0m┃\u001b[1m \u001b[0m\u001b[1mValue                                                                                     \u001b[0m\u001b[1m \u001b[0m┃\n",
       "┡━━━━━━━━━━━━━━━━━━━━╇━━━━━━━━━━━━━━━━━━━━━━━━━━━━━━━━━━━━━━━━━━━━━━━━━━━━━━━━━━━━━━━━━━━━━━━━━━━━━━━━━━━━━━━━━━━━┩\n",
       "│ len(mach64)        │ 33440                                                                                      │\n",
       "│ str(mach64)        │ Mach64(magic=b'\\xcf\\xfa\\xed\\xfe')                                                          │\n",
       "│ repr(mach64)       │ Mach64(data=<memory at 0x112e84c40>)                                                       │\n",
       "│ mach64.data        │ <memory at 0x112e84c40>                                                                    │\n",
       "│ mach64.hdr         │ MachHdr64(magic=UInt32(4277009103), cputype=Int32(16777228), cpusubtype=Int32(0),          │\n",
       "│                    │ filetype=UInt32(2), ncmds=UInt32(17), sizeofcmds=UInt32(1056),                             │\n",
       "│                    │ flags=MachFlags32(data=b'\\x85\\x00 \\x00'), reserved=UInt32(0))                              │\n",
       "│ mach64.magic       │ b'\\xcf\\xfa\\xed\\xfe'                                                                        │\n",
       "│ mach64.cpu_type    │ ARM64                                                                                      │\n",
       "│ mach64.cpu_subtype │ ARM64_ALL                                                                                  │\n",
       "│ mach64.filetype    │ 2                                                                                          │\n",
       "│ mach64.num_cmds    │ 17                                                                                         │\n",
       "│ mach64.cmd_size    │ 1056                                                                                       │\n",
       "│ mach64.flags       │ {'NOUNDEFS': True, 'INCRLINK': False, 'DYLDLINK': True, 'BINDATLOAD': False, 'PREBOUND':   │\n",
       "│                    │ False, 'SPLIT_SEGS': False, 'LAZY_INIT': False, 'TWOLEVEL': True, 'FORCE_FLAT': False,     │\n",
       "│                    │ 'NOMULTIDEFS': False, 'NOFIXPREBINDING': False, 'PREBINDABLE': False, 'ALLMODSBOUND':      │\n",
       "│                    │ False, 'SUBSECTIONS_VIA_SYMBOLS': False, 'CANONICAL': False, 'WEAK_DEFINES': False,        │\n",
       "│                    │ 'BINDS_TO_WEAK': False, 'ALLOW_STACK_EXECUTION': False, 'ROOT_SAFE': False, 'SETUID_SAFE': │\n",
       "│                    │ False, 'NO_REEXPORTED_DYLIBS': False, 'PIE': True, 'DEAD_STRIPPABLE_DYLIB': False,         │\n",
       "│                    │ 'HAS_TLV_DESCRIPTORS': False, 'NO_HEAP_EXECUTION': False, 'APP_EXTENSION_SAFE': False,     │\n",
       "│                    │ 'NLIST_OUTOFSYNC_WITH_DYLDINFO': False, 'SIM_SUPPORT': False, 'DYLIB_IN_CACHE': False}     │\n",
       "└────────────────────┴────────────────────────────────────────────────────────────────────────────────────────────┘\n"
      ]
     },
     "metadata": {},
     "output_type": "display_data"
    }
   ],
   "source": [
    "table = Table(title=\"Mach64 Handler\")\n",
    "\n",
    "table.add_column(\"Name\")\n",
    "table.add_column(\"Value\")\n",
    "\n",
    "table.add_row(\"len(mach64)\", str(len(mach64)))\n",
    "table.add_row(\"str(mach64)\", str(mach64))\n",
    "table.add_row(\"repr(mach64)\", repr(mach64))\n",
    "table.add_row(\"mach64.data\", str(mach64.data))\n",
    "table.add_row(\"mach64.hdr\", str(mach64.hdr))\n",
    "table.add_row(\"mach64.magic\", str(mach64.magic))\n",
    "table.add_row(\"mach64.cpu_type\", str(mach64.cpu_type))\n",
    "table.add_row(\"mach64.cpu_subtype\", str(mach64.cpu_subtype))\n",
    "table.add_row(\"mach64.filetype\", str(mach64.filetype))\n",
    "table.add_row(\"mach64.num_cmds\", str(mach64.num_cmds))\n",
    "table.add_row(\"mach64.cmd_size\", str(mach64.cmd_size))\n",
    "table.add_row(\"mach64.flags\", str(mach64.flags))\n",
    "\n",
    "console = Console()\n",
    "console.print(table)"
   ]
  }
 ],
 "metadata": {
  "kernelspec": {
   "display_name": ".venv",
   "language": "python",
   "name": "python3"
  },
  "language_info": {
   "codemirror_mode": {
    "name": "ipython",
    "version": 3
   },
   "file_extension": ".py",
   "mimetype": "text/x-python",
   "name": "python",
   "nbconvert_exporter": "python",
   "pygments_lexer": "ipython3",
   "version": "3.11.9"
  }
 },
 "nbformat": 4,
 "nbformat_minor": 2
}
