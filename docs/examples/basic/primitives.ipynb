{
 "cells": [
  {
   "cell_type": "markdown",
   "metadata": {},
   "source": [
    "# Fixed Size Primitive Examples"
   ]
  },
  {
   "cell_type": "code",
   "execution_count": 1,
   "metadata": {},
   "outputs": [],
   "source": [
    "from byteclasses.types.primitives.integers import Int8, Int16, Int32, Int64, UInt8, UInt16, UInt32, UInt64, Byte, Short, UShort, Long, LongLong, ULong, ULongLong, SChar, UChar, Int, UInt, Word, DWord\n",
    "from byteclasses.types.primitives.floats import Float, Float16, Float32, Float64, Double\n"
   ]
  },
  {
   "cell_type": "code",
   "execution_count": 12,
   "metadata": {},
   "outputs": [],
   "source": [
    "a = bite = Byte(1)\n",
    "b = int8 = Int8(1)\n",
    "c = int16 = Int16(2)\n",
    "d = int32 = Int32(3)\n",
    "e = int64 = Int64(4)\n",
    "f = uint8 = UInt8(5)\n",
    "g = uint16 = UInt16(6)\n",
    "h = uint32 = UInt32(7)\n",
    "i = uint64 = UInt64(8)\n",
    "j = float16 = Float16(9)\n",
    "k = float32 = Float32(10)\n",
    "l = float64 = Float64(11)\n",
    "m = schar = SChar(12)\n",
    "n = uchar = UChar(13)\n",
    "o = short = Short(15)\n",
    "p = ushort = UShort(16)\n",
    "q = word = Word(17)\n",
    "r = int_var = Int(18)\n",
    "s = uint = UInt(19)\n",
    "t = dword = DWord(20)\n",
    "u = long = Long(21)\n",
    "v = ulong = ULong(22)\n",
    "w = float_var = Float(12)\n",
    "x = double = Double(13)\n",
    "y = long_long = LongLong(14)\n",
    "z = ulong_long = ULongLong(15)"
   ]
  },
  {
   "cell_type": "code",
   "execution_count": 3,
   "metadata": {},
   "outputs": [
    {
     "name": "stdout",
     "output_type": "stream",
     "text": [
      "1 1 2 4 8\n"
     ]
    }
   ],
   "source": [
    "print(len(bite), len(int8), len(int16), len(int32), len(int64))"
   ]
  },
  {
   "cell_type": "code",
   "execution_count": 4,
   "metadata": {},
   "outputs": [
    {
     "name": "stdout",
     "output_type": "stream",
     "text": [
      "Int32(3)\n",
      "b'\\x03\\x00\\x00\\x00'\n",
      "3\n",
      "b'\\x03\\x00\\x00\\x00'\n"
     ]
    }
   ],
   "source": [
    "a.value = 0\n",
    "print(repr(d))\n",
    "print(d.data)\n",
    "print(round(d))\n",
    "print(d.data)"
   ]
  },
  {
   "cell_type": "code",
   "execution_count": 5,
   "metadata": {},
   "outputs": [
    {
     "name": "stdout",
     "output_type": "stream",
     "text": [
      "0 1 1\n"
     ]
    }
   ],
   "source": [
    "print(a, b, b + a)"
   ]
  },
  {
   "cell_type": "code",
   "execution_count": 6,
   "metadata": {},
   "outputs": [
    {
     "name": "stdout",
     "output_type": "stream",
     "text": [
      "0 1\n"
     ]
    }
   ],
   "source": [
    "print(a, a + 1)"
   ]
  },
  {
   "cell_type": "code",
   "execution_count": 23,
   "metadata": {},
   "outputs": [
    {
     "name": "stdout",
     "output_type": "stream",
     "text": [
      "1 2\n"
     ]
    },
    {
     "data": {
      "text/plain": [
       "['__abs__',\n",
       " '__abstractmethods__',\n",
       " '__add__',\n",
       " '__and__',\n",
       " '__annotations__',\n",
       " '__bool__',\n",
       " '__bytes__',\n",
       " '__ceil__',\n",
       " '__class__',\n",
       " '__class_getitem__',\n",
       " '__complex__',\n",
       " '__delattr__',\n",
       " '__dict__',\n",
       " '__dir__',\n",
       " '__divmod__',\n",
       " '__doc__',\n",
       " '__eq__',\n",
       " '__float__',\n",
       " '__floor__',\n",
       " '__floordiv__',\n",
       " '__format__',\n",
       " '__ge__',\n",
       " '__getattribute__',\n",
       " '__getitem__',\n",
       " '__getstate__',\n",
       " '__gt__',\n",
       " '__hash__',\n",
       " '__index__',\n",
       " '__init__',\n",
       " '__init_subclass__',\n",
       " '__int__',\n",
       " '__invert__',\n",
       " '__le__',\n",
       " '__len__',\n",
       " '__lshift__',\n",
       " '__lt__',\n",
       " '__mod__',\n",
       " '__module__',\n",
       " '__mul__',\n",
       " '__ne__',\n",
       " '__neg__',\n",
       " '__new__',\n",
       " '__or__',\n",
       " '__parameters__',\n",
       " '__pos__',\n",
       " '__pow__',\n",
       " '__radd__',\n",
       " '__rand__',\n",
       " '__rdivmod__',\n",
       " '__reduce__',\n",
       " '__reduce_ex__',\n",
       " '__repr__',\n",
       " '__rfloordiv__',\n",
       " '__rlshift__',\n",
       " '__rmod__',\n",
       " '__rmul__',\n",
       " '__ror__',\n",
       " '__round__',\n",
       " '__rpow__',\n",
       " '__rrshift__',\n",
       " '__rshift__',\n",
       " '__rsub__',\n",
       " '__rtruediv__',\n",
       " '__rxor__',\n",
       " '__setattr__',\n",
       " '__sizeof__',\n",
       " '__slots__',\n",
       " '__str__',\n",
       " '__sub__',\n",
       " '__subclasshook__',\n",
       " '__truediv__',\n",
       " '__trunc__',\n",
       " '__weakref__',\n",
       " '__xor__',\n",
       " '_abc_impl',\n",
       " '_byte_order',\n",
       " '_data',\n",
       " '_is_protocol',\n",
       " '_is_runtime_protocol',\n",
       " '_length',\n",
       " '_signed',\n",
       " '_type_char',\n",
       " '_validate_value',\n",
       " '_value',\n",
       " 'attach',\n",
       " 'byte_order',\n",
       " 'data',\n",
       " 'endianness',\n",
       " 'fmt',\n",
       " 'max',\n",
       " 'min',\n",
       " 'signed',\n",
       " 'type_char',\n",
       " 'value']"
      ]
     },
     "execution_count": 23,
     "metadata": {},
     "output_type": "execute_result"
    }
   ],
   "source": [
    "print(a, 1 + a)\n",
    "a = Int8()\n",
    "dir(a)"
   ]
  },
  {
   "cell_type": "code",
   "execution_count": 30,
   "metadata": {},
   "outputs": [],
   "source": [
    "from typing import ClassVar\n",
    "from byteclasses.enums import ByteOrder\n",
    "from byteclasses.types.collections import structure, member"
   ]
  },
  {
   "cell_type": "code",
   "execution_count": 31,
   "metadata": {},
   "outputs": [],
   "source": [
    "@structure\n",
    "class Custom1:\n",
    "    var0: ClassVar[int] = 23\n",
    "    var2: Byte = member(default_factory=Byte)"
   ]
  },
  {
   "cell_type": "code",
   "execution_count": 32,
   "metadata": {},
   "outputs": [],
   "source": [
    "@structure(byte_order=ByteOrder.NATIVE, packed=True)\n",
    "class Custom2:\n",
    "    var3: ClassVar[int] = 23\n",
    "    var4: Int8 = member(default_factory=Int8)\n",
    "    var5: UInt32 = member(default=UInt32(65535))\n",
    "    var6: Float32 = Float32(1.1)\n",
    "    var7: Custom1 = member(default_factory=Custom1)\n",
    "    def test(self):\n",
    "        print(\"test\")\n"
   ]
  },
  {
   "cell_type": "code",
   "execution_count": 33,
   "metadata": {},
   "outputs": [
    {
     "name": "stdout",
     "output_type": "stream",
     "text": [
      "Custom2(var4=Int8(0), var5=UInt32(65535), var6=Float32(1.100000023841858), var7=Custom1(var2=UInt8(0)))\n",
      "['__annotations__', '__bytes__', '__class__', '__collection_members__', '__collection_params__', '__delattr__', '__dir__', '__doc__', '__eq__', '__format__', '__ge__', '__getattribute__', '__getitem__', '__getstate__', '__gt__', '__hash__', '__init__', '__init_subclass__', '__le__', '__len__', '__lt__', '__match_args__', '__module__', '__ne__', '__new__', '__reduce__', '__reduce_ex__', '__repr__', '__setattr__', '__setitem__', '__setstate__', '__sizeof__', '__slots__', '__str__', '__subclasshook__', '__weakref__', '_attach_members', '_collection_init', '_data', '_length', '_member_offsets', 'attach', 'data', 'test', 'var3', 'var4', 'var5', 'var6', 'var7']\n",
      "Custom1(var2=UInt8(0))\n",
      "b'\\x00\\xff\\xff\\x00\\x00\\xcd\\xcc\\x8c?\\x00'\n",
      "['__annotations__', '__bytes__', '__class__', '__collection_members__', '__collection_params__', '__delattr__', '__dir__', '__doc__', '__eq__', '__format__', '__ge__', '__getattribute__', '__getitem__', '__getstate__', '__gt__', '__hash__', '__init__', '__init_subclass__', '__le__', '__len__', '__lt__', '__match_args__', '__module__', '__ne__', '__new__', '__reduce__', '__reduce_ex__', '__repr__', '__setattr__', '__setitem__', '__setstate__', '__sizeof__', '__slots__', '__str__', '__subclasshook__', '__weakref__', '_attach_members', '_collection_init', '_data', '_length', '_member_offsets', 'attach', 'data', 'test', 'var3', 'var4', 'var5', 'var6', 'var7']\n"
     ]
    }
   ],
   "source": [
    "test = Custom2()\n",
    "print(test)\n",
    "print(dir(test))\n",
    "print(test.var7)\n",
    "print(bytes(test))\n",
    "print(dir(test))"
   ]
  },
  {
   "cell_type": "code",
   "execution_count": 34,
   "metadata": {},
   "outputs": [
    {
     "name": "stdout",
     "output_type": "stream",
     "text": [
      "test=Custom2(var4=Int8(0), var5=UInt32(65535), var6=Float32(1.100000023841858), var7=Custom1(var2=UInt8(0)))\n",
      "test.data=bytearray(b'\\x00\\xff\\xff\\x00\\x00\\xcd\\xcc\\x8c?\\x00')\n",
      "test=Custom2(var4=Int8(1), var5=UInt32(65535), var6=Float32(1.100000023841858), var7=Custom1(var2=UInt8(0)))\n",
      "test.data=bytearray(b'\\x01\\xff\\xff\\x00\\x00\\xcd\\xcc\\x8c?\\x00')\n",
      "test=Custom2(var4=Int8(-7), var5=UInt32(4126603256), var6=Float32(-2.4060893954673178e+30), var7=Custom1(var2=UInt8(240)))\n",
      "test.data=bytearray(b'\\xf9\\xf8\\xf7\\xf6\\xf5\\xf4\\xf3\\xf2\\xf1\\xf0')\n",
      "test=Custom2(var4=Int8(-7), var5=UInt32(134744312), var6=Float32(-2.4060893954673178e+30), var7=Custom1(var2=UInt8(240)))\n",
      "test.data=bytearray(b'\\xf9\\xf8\\x08\\x08\\x08\\xf4\\xf3\\xf2\\xf1\\xf0')\n"
     ]
    }
   ],
   "source": [
    "#test.asdf = \"asdf\"\n",
    "test = Custom2()\n",
    "print(f\"{test=}\")\n",
    "print(f\"{test.data=}\")\n",
    "test.var4 = 1\n",
    "print(f\"{test=}\")\n",
    "print(f\"{test.data=}\")\n",
    "test.data = b'\\xf9\\xf8\\xf7\\xf6\\xf5\\xf4\\xf3\\xf2\\xf1\\xf0'\n",
    "print(f\"{test=}\")\n",
    "print(f\"{test.data=}\")\n",
    "test[2:5] = b'\\x08'\n",
    "print(f\"{test=}\")\n",
    "print(f\"{test.data=}\")"
   ]
  },
  {
   "cell_type": "code",
   "execution_count": 13,
   "metadata": {},
   "outputs": [
    {
     "name": "stdout",
     "output_type": "stream",
     "text": [
      "Int8 (-128, 127)\n",
      "Int16 (-32768, 32767)\n",
      "Int32 (-2147483648, 2147483647)\n",
      "Int64 (-9223372036854775808, 9223372036854775807)\n",
      "UInt8 (0, 255)\n",
      "UInt16 (0, 65535)\n",
      "UInt32 (0, 4294967295)\n",
      "UInt64 (0, 18446744073709551615)\n"
     ]
    }
   ],
   "source": [
    "for t in (Int8, Int16, Int32, Int64, UInt8, UInt16, UInt32, UInt64):\n",
    "    i = t()\n",
    "    print(i.__class__.__name__, (i.min, i.max))"
   ]
  },
  {
   "cell_type": "code",
   "execution_count": 21,
   "metadata": {},
   "outputs": [
    {
     "name": "stdout",
     "output_type": "stream",
     "text": [
      "UInt8(128)\n"
     ]
    }
   ],
   "source": [
    "print(repr(UInt8(128)))"
   ]
  },
  {
   "cell_type": "code",
   "execution_count": 28,
   "metadata": {},
   "outputs": [
    {
     "name": "stdout",
     "output_type": "stream",
     "text": [
      "b'\\x00\\x01\\x02'\n"
     ]
    }
   ],
   "source": [
    "bt = bytearray(b\"\\x00\\x01\\x02\")\n",
    "mv = memoryview(bt)\n",
    "print(bytes(mv))"
   ]
  },
  {
   "cell_type": "code",
   "execution_count": null,
   "metadata": {},
   "outputs": [],
   "source": []
  }
 ],
 "metadata": {
  "kernelspec": {
   "display_name": "Python 3.10.5 ('.venv': poetry)",
   "language": "python",
   "name": "python3"
  },
  "language_info": {
   "codemirror_mode": {
    "name": "ipython",
    "version": 3
   },
   "file_extension": ".py",
   "mimetype": "text/x-python",
   "name": "python",
   "nbconvert_exporter": "python",
   "pygments_lexer": "ipython3",
   "version": "3.11.9"
  },
  "orig_nbformat": 4,
  "vscode": {
   "interpreter": {
    "hash": "557d07237cea0a23e1b53fe2d85e0da343a1f271fee6abb399e030b4f4b9db4a"
   }
  }
 },
 "nbformat": 4,
 "nbformat_minor": 2
}
