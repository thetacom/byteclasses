{
 "cells": [
  {
   "cell_type": "markdown",
   "metadata": {},
   "source": [
    "# Generic Primitives"
   ]
  },
  {
   "cell_type": "code",
   "execution_count": 1,
   "metadata": {},
   "outputs": [],
   "source": [
    "from byteclasses.print import byteclass_info, byteclass_inspect\n",
    "from byteclasses.types.primitives.generics import Bit, Byte, Word, DWord, QWord"
   ]
  },
  {
   "cell_type": "code",
   "execution_count": 2,
   "metadata": {},
   "outputs": [
    {
     "data": {
      "text/html": [
       "<pre style=\"white-space:pre;overflow-x:auto;line-height:normal;font-family:Menlo,'DejaVu Sans Mono',consolas,'Courier New',monospace\"><span style=\"font-style: italic\">                                                  Byteclass Info                                                   </span>\n",
       "┏━━━━━━━━━━━━━━━━━━━━━━━━━━━┳━━━━━━━━━━━━━━━━━━━━━━━━━━━━━━━━━━━━━━━━━━━━━━━━━━━━━━━━━━━━━━━━━━━━━━━━━━━━━━━━━━━━━┓\n",
       "┃<span style=\"font-weight: bold\"> Property                  </span>┃<span style=\"font-weight: bold\"> Value                                                                               </span>┃\n",
       "┡━━━━━━━━━━━━━━━━━━━━━━━━━━━╇━━━━━━━━━━━━━━━━━━━━━━━━━━━━━━━━━━━━━━━━━━━━━━━━━━━━━━━━━━━━━━━━━━━━━━━━━━━━━━━━━━━━━┩\n",
       "│<span style=\"color: #808080; text-decoration-color: #808080\"> </span><span style=\"color: #808080; text-decoration-color: #808080; font-weight: bold\">type()                   </span><span style=\"color: #808080; text-decoration-color: #808080\"> </span>│<span style=\"color: #808080; text-decoration-color: #808080\"> Byte                                                                                </span>│\n",
       "│<span style=\"color: #ff0000; text-decoration-color: #ff0000\"> </span><span style=\"color: #ff0000; text-decoration-color: #ff0000; font-weight: bold\">is_byteclass()           </span><span style=\"color: #ff0000; text-decoration-color: #ff0000\"> </span>│<span style=\"color: #ff0000; text-decoration-color: #ff0000\"> True                                                                                </span>│\n",
       "│<span style=\"color: #00ff00; text-decoration-color: #00ff00\"> </span><span style=\"color: #00ff00; text-decoration-color: #00ff00; font-weight: bold\">is_byteclass_collection()</span><span style=\"color: #00ff00; text-decoration-color: #00ff00\"> </span>│<span style=\"color: #00ff00; text-decoration-color: #00ff00\"> False                                                                               </span>│\n",
       "│<span style=\"color: #ffff00; text-decoration-color: #ffff00\"> </span><span style=\"color: #ffff00; text-decoration-color: #ffff00; font-weight: bold\">is_byteclass_primitive() </span><span style=\"color: #ffff00; text-decoration-color: #ffff00\"> </span>│<span style=\"color: #ffff00; text-decoration-color: #ffff00\"> True                                                                                </span>│\n",
       "│<span style=\"color: #0000ff; text-decoration-color: #0000ff\"> </span><span style=\"color: #0000ff; text-decoration-color: #0000ff; font-weight: bold\">mro                      </span><span style=\"color: #0000ff; text-decoration-color: #0000ff\"> </span>│<span style=\"color: #0000ff; text-decoration-color: #0000ff\"> Byte -&gt; _FixedSizeGeneric -&gt; _FixedSizeType -&gt; ABC -&gt; SupportsBytes -&gt; Protocol -&gt;  </span>│\n",
       "│<span style=\"color: #0000ff; text-decoration-color: #0000ff\">                           </span>│<span style=\"color: #0000ff; text-decoration-color: #0000ff\"> Generic -&gt; object                                                                   </span>│\n",
       "│<span style=\"color: #ff00ff; text-decoration-color: #ff00ff\"> </span><span style=\"color: #ff00ff; text-decoration-color: #ff00ff; font-weight: bold\">len()                    </span><span style=\"color: #ff00ff; text-decoration-color: #ff00ff\"> </span>│<span style=\"color: #ff00ff; text-decoration-color: #ff00ff\"> 1                                                                                   </span>│\n",
       "│<span style=\"color: #00ffff; text-decoration-color: #00ffff\"> </span><span style=\"color: #00ffff; text-decoration-color: #00ffff; font-weight: bold\">str()                    </span><span style=\"color: #00ffff; text-decoration-color: #00ffff\"> </span>│<span style=\"color: #00ffff; text-decoration-color: #00ffff\"> b'\\xff'                                                                             </span>│\n",
       "│<span style=\"color: #808080; text-decoration-color: #808080\"> </span><span style=\"color: #808080; text-decoration-color: #808080; font-weight: bold\">repr()                   </span><span style=\"color: #808080; text-decoration-color: #808080\"> </span>│<span style=\"color: #808080; text-decoration-color: #808080\"> Byte(data=b'\\xff', byte_order=b'@')                                                 </span>│\n",
       "│<span style=\"color: #ff0000; text-decoration-color: #ff0000\"> </span><span style=\"color: #ff0000; text-decoration-color: #ff0000; font-weight: bold\">.data                    </span><span style=\"color: #ff0000; text-decoration-color: #ff0000\"> </span>│<span style=\"color: #ff0000; text-decoration-color: #ff0000\"> b'\\xff'                                                                             </span>│\n",
       "│<span style=\"color: #00ff00; text-decoration-color: #00ff00\"> </span><span style=\"color: #00ff00; text-decoration-color: #00ff00; font-weight: bold\">.value                   </span><span style=\"color: #00ff00; text-decoration-color: #00ff00\"> </span>│<span style=\"color: #00ff00; text-decoration-color: #00ff00\"> b'\\xff'                                                                             </span>│\n",
       "└───────────────────────────┴─────────────────────────────────────────────────────────────────────────────────────┘\n",
       "</pre>\n"
      ],
      "text/plain": [
       "\u001b[3m                                                  Byteclass Info                                                   \u001b[0m\n",
       "┏━━━━━━━━━━━━━━━━━━━━━━━━━━━┳━━━━━━━━━━━━━━━━━━━━━━━━━━━━━━━━━━━━━━━━━━━━━━━━━━━━━━━━━━━━━━━━━━━━━━━━━━━━━━━━━━━━━┓\n",
       "┃\u001b[1m \u001b[0m\u001b[1mProperty                 \u001b[0m\u001b[1m \u001b[0m┃\u001b[1m \u001b[0m\u001b[1mValue                                                                              \u001b[0m\u001b[1m \u001b[0m┃\n",
       "┡━━━━━━━━━━━━━━━━━━━━━━━━━━━╇━━━━━━━━━━━━━━━━━━━━━━━━━━━━━━━━━━━━━━━━━━━━━━━━━━━━━━━━━━━━━━━━━━━━━━━━━━━━━━━━━━━━━┩\n",
       "│\u001b[90m \u001b[0m\u001b[1;90mtype()                   \u001b[0m\u001b[90m \u001b[0m│\u001b[90m \u001b[0m\u001b[90mByte                                                                               \u001b[0m\u001b[90m \u001b[0m│\n",
       "│\u001b[91m \u001b[0m\u001b[1;91mis_byteclass()           \u001b[0m\u001b[91m \u001b[0m│\u001b[91m \u001b[0m\u001b[91mTrue                                                                               \u001b[0m\u001b[91m \u001b[0m│\n",
       "│\u001b[92m \u001b[0m\u001b[1;92mis_byteclass_collection()\u001b[0m\u001b[92m \u001b[0m│\u001b[92m \u001b[0m\u001b[92mFalse                                                                              \u001b[0m\u001b[92m \u001b[0m│\n",
       "│\u001b[93m \u001b[0m\u001b[1;93mis_byteclass_primitive() \u001b[0m\u001b[93m \u001b[0m│\u001b[93m \u001b[0m\u001b[93mTrue                                                                               \u001b[0m\u001b[93m \u001b[0m│\n",
       "│\u001b[94m \u001b[0m\u001b[1;94mmro                      \u001b[0m\u001b[94m \u001b[0m│\u001b[94m \u001b[0m\u001b[94mByte -> _FixedSizeGeneric -> _FixedSizeType -> ABC -> SupportsBytes -> Protocol -> \u001b[0m\u001b[94m \u001b[0m│\n",
       "│\u001b[94m                           \u001b[0m│\u001b[94m \u001b[0m\u001b[94mGeneric -> object                                                                  \u001b[0m\u001b[94m \u001b[0m│\n",
       "│\u001b[95m \u001b[0m\u001b[1;95mlen()                    \u001b[0m\u001b[95m \u001b[0m│\u001b[95m \u001b[0m\u001b[95m1                                                                                  \u001b[0m\u001b[95m \u001b[0m│\n",
       "│\u001b[96m \u001b[0m\u001b[1;96mstr()                    \u001b[0m\u001b[96m \u001b[0m│\u001b[96m \u001b[0m\u001b[96mb'\\xff'                                                                            \u001b[0m\u001b[96m \u001b[0m│\n",
       "│\u001b[90m \u001b[0m\u001b[1;90mrepr()                   \u001b[0m\u001b[90m \u001b[0m│\u001b[90m \u001b[0m\u001b[90mByte(data=b'\\xff', byte_order=b'@')                                                \u001b[0m\u001b[90m \u001b[0m│\n",
       "│\u001b[91m \u001b[0m\u001b[1;91m.data                    \u001b[0m\u001b[91m \u001b[0m│\u001b[91m \u001b[0m\u001b[91mb'\\xff'                                                                            \u001b[0m\u001b[91m \u001b[0m│\n",
       "│\u001b[92m \u001b[0m\u001b[1;92m.value                   \u001b[0m\u001b[92m \u001b[0m│\u001b[92m \u001b[0m\u001b[92mb'\\xff'                                                                            \u001b[0m\u001b[92m \u001b[0m│\n",
       "└───────────────────────────┴─────────────────────────────────────────────────────────────────────────────────────┘\n"
      ]
     },
     "metadata": {},
     "output_type": "display_data"
    },
    {
     "data": {
      "text/html": [
       "<pre style=\"white-space:pre;overflow-x:auto;line-height:normal;font-family:Menlo,'DejaVu Sans Mono',consolas,'Courier New',monospace\">╭────────────────── Byteclass Inspect ───────────────────╮\n",
       "│      00 01 02 03 04 05 06 07 08 09 0a 0b 0c 0d 0e 0f   │\n",
       "│ ----------------------------------------------------   │\n",
       "│ 0x0 <span style=\"color: #c0c0c0; text-decoration-color: #c0c0c0\">|</span><span style=\"color: #808080; text-decoration-color: #808080\">ff</span>                                                │\n",
       "╰────────────────────────────────────────────────────────╯\n",
       "</pre>\n"
      ],
      "text/plain": [
       "╭────────────────── Byteclass Inspect ───────────────────╮\n",
       "│      00 01 02 03 04 05 06 07 08 09 0a 0b 0c 0d 0e 0f   │\n",
       "│ ----------------------------------------------------   │\n",
       "│ 0x0 \u001b[37m|\u001b[0m\u001b[90mff\u001b[0m                                                │\n",
       "╰────────────────────────────────────────────────────────╯\n"
      ]
     },
     "metadata": {},
     "output_type": "display_data"
    },
    {
     "data": {
      "text/html": [
       "<pre style=\"white-space:pre;overflow-x:auto;line-height:normal;font-family:Menlo,'DejaVu Sans Mono',consolas,'Courier New',monospace\"><span style=\"font-style: italic\">  Legend   </span>\n",
       "┏━━━━━━━━━┓\n",
       "┃<span style=\"font-weight: bold\"> Value   </span>┃\n",
       "┡━━━━━━━━━┩\n",
       "│<span style=\"color: #808080; text-decoration-color: #808080\"> </span><span style=\"color: #808080; text-decoration-color: #808080; font-weight: bold\">b'\\xff'</span><span style=\"color: #808080; text-decoration-color: #808080\"> </span>│\n",
       "└─────────┘\n",
       "</pre>\n"
      ],
      "text/plain": [
       "\u001b[3m  Legend   \u001b[0m\n",
       "┏━━━━━━━━━┓\n",
       "┃\u001b[1m \u001b[0m\u001b[1mValue  \u001b[0m\u001b[1m \u001b[0m┃\n",
       "┡━━━━━━━━━┩\n",
       "│\u001b[90m \u001b[0m\u001b[1;90mb'\\xff'\u001b[0m\u001b[90m \u001b[0m│\n",
       "└─────────┘\n"
      ]
     },
     "metadata": {},
     "output_type": "display_data"
    },
    {
     "data": {
      "text/html": [
       "<pre style=\"white-space:pre;overflow-x:auto;line-height:normal;font-family:Menlo,'DejaVu Sans Mono',consolas,'Courier New',monospace\"><span style=\"font-style: italic\">                                                  Byteclass Info                                                   </span>\n",
       "┏━━━━━━━━━━━━━━━━━━━━━━━━━━━┳━━━━━━━━━━━━━━━━━━━━━━━━━━━━━━━━━━━━━━━━━━━━━━━━━━━━━━━━━━━━━━━━━━━━━━━━━━━━━━━━━━━━━┓\n",
       "┃<span style=\"font-weight: bold\"> Property                  </span>┃<span style=\"font-weight: bold\"> Value                                                                               </span>┃\n",
       "┡━━━━━━━━━━━━━━━━━━━━━━━━━━━╇━━━━━━━━━━━━━━━━━━━━━━━━━━━━━━━━━━━━━━━━━━━━━━━━━━━━━━━━━━━━━━━━━━━━━━━━━━━━━━━━━━━━━┩\n",
       "│<span style=\"color: #808080; text-decoration-color: #808080\"> </span><span style=\"color: #808080; text-decoration-color: #808080; font-weight: bold\">type()                   </span><span style=\"color: #808080; text-decoration-color: #808080\"> </span>│<span style=\"color: #808080; text-decoration-color: #808080\"> Word                                                                                </span>│\n",
       "│<span style=\"color: #ff0000; text-decoration-color: #ff0000\"> </span><span style=\"color: #ff0000; text-decoration-color: #ff0000; font-weight: bold\">is_byteclass()           </span><span style=\"color: #ff0000; text-decoration-color: #ff0000\"> </span>│<span style=\"color: #ff0000; text-decoration-color: #ff0000\"> True                                                                                </span>│\n",
       "│<span style=\"color: #00ff00; text-decoration-color: #00ff00\"> </span><span style=\"color: #00ff00; text-decoration-color: #00ff00; font-weight: bold\">is_byteclass_collection()</span><span style=\"color: #00ff00; text-decoration-color: #00ff00\"> </span>│<span style=\"color: #00ff00; text-decoration-color: #00ff00\"> False                                                                               </span>│\n",
       "│<span style=\"color: #ffff00; text-decoration-color: #ffff00\"> </span><span style=\"color: #ffff00; text-decoration-color: #ffff00; font-weight: bold\">is_byteclass_primitive() </span><span style=\"color: #ffff00; text-decoration-color: #ffff00\"> </span>│<span style=\"color: #ffff00; text-decoration-color: #ffff00\"> True                                                                                </span>│\n",
       "│<span style=\"color: #0000ff; text-decoration-color: #0000ff\"> </span><span style=\"color: #0000ff; text-decoration-color: #0000ff; font-weight: bold\">mro                      </span><span style=\"color: #0000ff; text-decoration-color: #0000ff\"> </span>│<span style=\"color: #0000ff; text-decoration-color: #0000ff\"> Word -&gt; _FixedSizeGeneric -&gt; _FixedSizeType -&gt; ABC -&gt; SupportsBytes -&gt; Protocol -&gt;  </span>│\n",
       "│<span style=\"color: #0000ff; text-decoration-color: #0000ff\">                           </span>│<span style=\"color: #0000ff; text-decoration-color: #0000ff\"> Generic -&gt; object                                                                   </span>│\n",
       "│<span style=\"color: #ff00ff; text-decoration-color: #ff00ff\"> </span><span style=\"color: #ff00ff; text-decoration-color: #ff00ff; font-weight: bold\">len()                    </span><span style=\"color: #ff00ff; text-decoration-color: #ff00ff\"> </span>│<span style=\"color: #ff00ff; text-decoration-color: #ff00ff\"> 2                                                                                   </span>│\n",
       "│<span style=\"color: #00ffff; text-decoration-color: #00ffff\"> </span><span style=\"color: #00ffff; text-decoration-color: #00ffff; font-weight: bold\">str()                    </span><span style=\"color: #00ffff; text-decoration-color: #00ffff\"> </span>│<span style=\"color: #00ffff; text-decoration-color: #00ffff\"> b'\\xff\\xff'                                                                         </span>│\n",
       "│<span style=\"color: #808080; text-decoration-color: #808080\"> </span><span style=\"color: #808080; text-decoration-color: #808080; font-weight: bold\">repr()                   </span><span style=\"color: #808080; text-decoration-color: #808080\"> </span>│<span style=\"color: #808080; text-decoration-color: #808080\"> Word(data=b'\\xff\\xff', byte_order=b'@')                                             </span>│\n",
       "│<span style=\"color: #ff0000; text-decoration-color: #ff0000\"> </span><span style=\"color: #ff0000; text-decoration-color: #ff0000; font-weight: bold\">.data                    </span><span style=\"color: #ff0000; text-decoration-color: #ff0000\"> </span>│<span style=\"color: #ff0000; text-decoration-color: #ff0000\"> b'\\xff\\xff'                                                                         </span>│\n",
       "│<span style=\"color: #00ff00; text-decoration-color: #00ff00\"> </span><span style=\"color: #00ff00; text-decoration-color: #00ff00; font-weight: bold\">.value                   </span><span style=\"color: #00ff00; text-decoration-color: #00ff00\"> </span>│<span style=\"color: #00ff00; text-decoration-color: #00ff00\"> b'\\xff\\xff'                                                                         </span>│\n",
       "└───────────────────────────┴─────────────────────────────────────────────────────────────────────────────────────┘\n",
       "</pre>\n"
      ],
      "text/plain": [
       "\u001b[3m                                                  Byteclass Info                                                   \u001b[0m\n",
       "┏━━━━━━━━━━━━━━━━━━━━━━━━━━━┳━━━━━━━━━━━━━━━━━━━━━━━━━━━━━━━━━━━━━━━━━━━━━━━━━━━━━━━━━━━━━━━━━━━━━━━━━━━━━━━━━━━━━┓\n",
       "┃\u001b[1m \u001b[0m\u001b[1mProperty                 \u001b[0m\u001b[1m \u001b[0m┃\u001b[1m \u001b[0m\u001b[1mValue                                                                              \u001b[0m\u001b[1m \u001b[0m┃\n",
       "┡━━━━━━━━━━━━━━━━━━━━━━━━━━━╇━━━━━━━━━━━━━━━━━━━━━━━━━━━━━━━━━━━━━━━━━━━━━━━━━━━━━━━━━━━━━━━━━━━━━━━━━━━━━━━━━━━━━┩\n",
       "│\u001b[90m \u001b[0m\u001b[1;90mtype()                   \u001b[0m\u001b[90m \u001b[0m│\u001b[90m \u001b[0m\u001b[90mWord                                                                               \u001b[0m\u001b[90m \u001b[0m│\n",
       "│\u001b[91m \u001b[0m\u001b[1;91mis_byteclass()           \u001b[0m\u001b[91m \u001b[0m│\u001b[91m \u001b[0m\u001b[91mTrue                                                                               \u001b[0m\u001b[91m \u001b[0m│\n",
       "│\u001b[92m \u001b[0m\u001b[1;92mis_byteclass_collection()\u001b[0m\u001b[92m \u001b[0m│\u001b[92m \u001b[0m\u001b[92mFalse                                                                              \u001b[0m\u001b[92m \u001b[0m│\n",
       "│\u001b[93m \u001b[0m\u001b[1;93mis_byteclass_primitive() \u001b[0m\u001b[93m \u001b[0m│\u001b[93m \u001b[0m\u001b[93mTrue                                                                               \u001b[0m\u001b[93m \u001b[0m│\n",
       "│\u001b[94m \u001b[0m\u001b[1;94mmro                      \u001b[0m\u001b[94m \u001b[0m│\u001b[94m \u001b[0m\u001b[94mWord -> _FixedSizeGeneric -> _FixedSizeType -> ABC -> SupportsBytes -> Protocol -> \u001b[0m\u001b[94m \u001b[0m│\n",
       "│\u001b[94m                           \u001b[0m│\u001b[94m \u001b[0m\u001b[94mGeneric -> object                                                                  \u001b[0m\u001b[94m \u001b[0m│\n",
       "│\u001b[95m \u001b[0m\u001b[1;95mlen()                    \u001b[0m\u001b[95m \u001b[0m│\u001b[95m \u001b[0m\u001b[95m2                                                                                  \u001b[0m\u001b[95m \u001b[0m│\n",
       "│\u001b[96m \u001b[0m\u001b[1;96mstr()                    \u001b[0m\u001b[96m \u001b[0m│\u001b[96m \u001b[0m\u001b[96mb'\\xff\\xff'                                                                        \u001b[0m\u001b[96m \u001b[0m│\n",
       "│\u001b[90m \u001b[0m\u001b[1;90mrepr()                   \u001b[0m\u001b[90m \u001b[0m│\u001b[90m \u001b[0m\u001b[90mWord(data=b'\\xff\\xff', byte_order=b'@')                                            \u001b[0m\u001b[90m \u001b[0m│\n",
       "│\u001b[91m \u001b[0m\u001b[1;91m.data                    \u001b[0m\u001b[91m \u001b[0m│\u001b[91m \u001b[0m\u001b[91mb'\\xff\\xff'                                                                        \u001b[0m\u001b[91m \u001b[0m│\n",
       "│\u001b[92m \u001b[0m\u001b[1;92m.value                   \u001b[0m\u001b[92m \u001b[0m│\u001b[92m \u001b[0m\u001b[92mb'\\xff\\xff'                                                                        \u001b[0m\u001b[92m \u001b[0m│\n",
       "└───────────────────────────┴─────────────────────────────────────────────────────────────────────────────────────┘\n"
      ]
     },
     "metadata": {},
     "output_type": "display_data"
    },
    {
     "data": {
      "text/html": [
       "<pre style=\"white-space:pre;overflow-x:auto;line-height:normal;font-family:Menlo,'DejaVu Sans Mono',consolas,'Courier New',monospace\">╭────────────────── Byteclass Inspect ───────────────────╮\n",
       "│      00 01 02 03 04 05 06 07 08 09 0a 0b 0c 0d 0e 0f   │\n",
       "│ ----------------------------------------------------   │\n",
       "│ 0x0 <span style=\"color: #c0c0c0; text-decoration-color: #c0c0c0\">|</span><span style=\"color: #808080; text-decoration-color: #808080\">ff ff</span>                                             │\n",
       "╰────────────────────────────────────────────────────────╯\n",
       "</pre>\n"
      ],
      "text/plain": [
       "╭────────────────── Byteclass Inspect ───────────────────╮\n",
       "│      00 01 02 03 04 05 06 07 08 09 0a 0b 0c 0d 0e 0f   │\n",
       "│ ----------------------------------------------------   │\n",
       "│ 0x0 \u001b[37m|\u001b[0m\u001b[90mff ff\u001b[0m                                             │\n",
       "╰────────────────────────────────────────────────────────╯\n"
      ]
     },
     "metadata": {},
     "output_type": "display_data"
    },
    {
     "data": {
      "text/html": [
       "<pre style=\"white-space:pre;overflow-x:auto;line-height:normal;font-family:Menlo,'DejaVu Sans Mono',consolas,'Courier New',monospace\"><span style=\"font-style: italic\">    Legend     </span>\n",
       "┏━━━━━━━━━━━━━┓\n",
       "┃<span style=\"font-weight: bold\"> Value       </span>┃\n",
       "┡━━━━━━━━━━━━━┩\n",
       "│<span style=\"color: #808080; text-decoration-color: #808080\"> </span><span style=\"color: #808080; text-decoration-color: #808080; font-weight: bold\">b'\\xff\\xff'</span><span style=\"color: #808080; text-decoration-color: #808080\"> </span>│\n",
       "└─────────────┘\n",
       "</pre>\n"
      ],
      "text/plain": [
       "\u001b[3m    Legend     \u001b[0m\n",
       "┏━━━━━━━━━━━━━┓\n",
       "┃\u001b[1m \u001b[0m\u001b[1mValue      \u001b[0m\u001b[1m \u001b[0m┃\n",
       "┡━━━━━━━━━━━━━┩\n",
       "│\u001b[90m \u001b[0m\u001b[1;90mb'\\xff\\xff'\u001b[0m\u001b[90m \u001b[0m│\n",
       "└─────────────┘\n"
      ]
     },
     "metadata": {},
     "output_type": "display_data"
    },
    {
     "data": {
      "text/html": [
       "<pre style=\"white-space:pre;overflow-x:auto;line-height:normal;font-family:Menlo,'DejaVu Sans Mono',consolas,'Courier New',monospace\"><span style=\"font-style: italic\">                                                  Byteclass Info                                                   </span>\n",
       "┏━━━━━━━━━━━━━━━━━━━━━━━━━━━┳━━━━━━━━━━━━━━━━━━━━━━━━━━━━━━━━━━━━━━━━━━━━━━━━━━━━━━━━━━━━━━━━━━━━━━━━━━━━━━━━━━━━━┓\n",
       "┃<span style=\"font-weight: bold\"> Property                  </span>┃<span style=\"font-weight: bold\"> Value                                                                               </span>┃\n",
       "┡━━━━━━━━━━━━━━━━━━━━━━━━━━━╇━━━━━━━━━━━━━━━━━━━━━━━━━━━━━━━━━━━━━━━━━━━━━━━━━━━━━━━━━━━━━━━━━━━━━━━━━━━━━━━━━━━━━┩\n",
       "│<span style=\"color: #808080; text-decoration-color: #808080\"> </span><span style=\"color: #808080; text-decoration-color: #808080; font-weight: bold\">type()                   </span><span style=\"color: #808080; text-decoration-color: #808080\"> </span>│<span style=\"color: #808080; text-decoration-color: #808080\"> DWord                                                                               </span>│\n",
       "│<span style=\"color: #ff0000; text-decoration-color: #ff0000\"> </span><span style=\"color: #ff0000; text-decoration-color: #ff0000; font-weight: bold\">is_byteclass()           </span><span style=\"color: #ff0000; text-decoration-color: #ff0000\"> </span>│<span style=\"color: #ff0000; text-decoration-color: #ff0000\"> True                                                                                </span>│\n",
       "│<span style=\"color: #00ff00; text-decoration-color: #00ff00\"> </span><span style=\"color: #00ff00; text-decoration-color: #00ff00; font-weight: bold\">is_byteclass_collection()</span><span style=\"color: #00ff00; text-decoration-color: #00ff00\"> </span>│<span style=\"color: #00ff00; text-decoration-color: #00ff00\"> False                                                                               </span>│\n",
       "│<span style=\"color: #ffff00; text-decoration-color: #ffff00\"> </span><span style=\"color: #ffff00; text-decoration-color: #ffff00; font-weight: bold\">is_byteclass_primitive() </span><span style=\"color: #ffff00; text-decoration-color: #ffff00\"> </span>│<span style=\"color: #ffff00; text-decoration-color: #ffff00\"> True                                                                                </span>│\n",
       "│<span style=\"color: #0000ff; text-decoration-color: #0000ff\"> </span><span style=\"color: #0000ff; text-decoration-color: #0000ff; font-weight: bold\">mro                      </span><span style=\"color: #0000ff; text-decoration-color: #0000ff\"> </span>│<span style=\"color: #0000ff; text-decoration-color: #0000ff\"> DWord -&gt; _FixedSizeGeneric -&gt; _FixedSizeType -&gt; ABC -&gt; SupportsBytes -&gt; Protocol -&gt; </span>│\n",
       "│<span style=\"color: #0000ff; text-decoration-color: #0000ff\">                           </span>│<span style=\"color: #0000ff; text-decoration-color: #0000ff\"> Generic -&gt; object                                                                   </span>│\n",
       "│<span style=\"color: #ff00ff; text-decoration-color: #ff00ff\"> </span><span style=\"color: #ff00ff; text-decoration-color: #ff00ff; font-weight: bold\">len()                    </span><span style=\"color: #ff00ff; text-decoration-color: #ff00ff\"> </span>│<span style=\"color: #ff00ff; text-decoration-color: #ff00ff\"> 4                                                                                   </span>│\n",
       "│<span style=\"color: #00ffff; text-decoration-color: #00ffff\"> </span><span style=\"color: #00ffff; text-decoration-color: #00ffff; font-weight: bold\">str()                    </span><span style=\"color: #00ffff; text-decoration-color: #00ffff\"> </span>│<span style=\"color: #00ffff; text-decoration-color: #00ffff\"> b'\\xff\\xff\\xff\\xff'                                                                 </span>│\n",
       "│<span style=\"color: #808080; text-decoration-color: #808080\"> </span><span style=\"color: #808080; text-decoration-color: #808080; font-weight: bold\">repr()                   </span><span style=\"color: #808080; text-decoration-color: #808080\"> </span>│<span style=\"color: #808080; text-decoration-color: #808080\"> DWord(data=b'\\xff\\xff\\xff\\xff', byte_order=b'@')                                    </span>│\n",
       "│<span style=\"color: #ff0000; text-decoration-color: #ff0000\"> </span><span style=\"color: #ff0000; text-decoration-color: #ff0000; font-weight: bold\">.data                    </span><span style=\"color: #ff0000; text-decoration-color: #ff0000\"> </span>│<span style=\"color: #ff0000; text-decoration-color: #ff0000\"> b'\\xff\\xff\\xff\\xff'                                                                 </span>│\n",
       "│<span style=\"color: #00ff00; text-decoration-color: #00ff00\"> </span><span style=\"color: #00ff00; text-decoration-color: #00ff00; font-weight: bold\">.value                   </span><span style=\"color: #00ff00; text-decoration-color: #00ff00\"> </span>│<span style=\"color: #00ff00; text-decoration-color: #00ff00\"> b'\\xff\\xff\\xff\\xff'                                                                 </span>│\n",
       "└───────────────────────────┴─────────────────────────────────────────────────────────────────────────────────────┘\n",
       "</pre>\n"
      ],
      "text/plain": [
       "\u001b[3m                                                  Byteclass Info                                                   \u001b[0m\n",
       "┏━━━━━━━━━━━━━━━━━━━━━━━━━━━┳━━━━━━━━━━━━━━━━━━━━━━━━━━━━━━━━━━━━━━━━━━━━━━━━━━━━━━━━━━━━━━━━━━━━━━━━━━━━━━━━━━━━━┓\n",
       "┃\u001b[1m \u001b[0m\u001b[1mProperty                 \u001b[0m\u001b[1m \u001b[0m┃\u001b[1m \u001b[0m\u001b[1mValue                                                                              \u001b[0m\u001b[1m \u001b[0m┃\n",
       "┡━━━━━━━━━━━━━━━━━━━━━━━━━━━╇━━━━━━━━━━━━━━━━━━━━━━━━━━━━━━━━━━━━━━━━━━━━━━━━━━━━━━━━━━━━━━━━━━━━━━━━━━━━━━━━━━━━━┩\n",
       "│\u001b[90m \u001b[0m\u001b[1;90mtype()                   \u001b[0m\u001b[90m \u001b[0m│\u001b[90m \u001b[0m\u001b[90mDWord                                                                              \u001b[0m\u001b[90m \u001b[0m│\n",
       "│\u001b[91m \u001b[0m\u001b[1;91mis_byteclass()           \u001b[0m\u001b[91m \u001b[0m│\u001b[91m \u001b[0m\u001b[91mTrue                                                                               \u001b[0m\u001b[91m \u001b[0m│\n",
       "│\u001b[92m \u001b[0m\u001b[1;92mis_byteclass_collection()\u001b[0m\u001b[92m \u001b[0m│\u001b[92m \u001b[0m\u001b[92mFalse                                                                              \u001b[0m\u001b[92m \u001b[0m│\n",
       "│\u001b[93m \u001b[0m\u001b[1;93mis_byteclass_primitive() \u001b[0m\u001b[93m \u001b[0m│\u001b[93m \u001b[0m\u001b[93mTrue                                                                               \u001b[0m\u001b[93m \u001b[0m│\n",
       "│\u001b[94m \u001b[0m\u001b[1;94mmro                      \u001b[0m\u001b[94m \u001b[0m│\u001b[94m \u001b[0m\u001b[94mDWord -> _FixedSizeGeneric -> _FixedSizeType -> ABC -> SupportsBytes -> Protocol ->\u001b[0m\u001b[94m \u001b[0m│\n",
       "│\u001b[94m                           \u001b[0m│\u001b[94m \u001b[0m\u001b[94mGeneric -> object                                                                  \u001b[0m\u001b[94m \u001b[0m│\n",
       "│\u001b[95m \u001b[0m\u001b[1;95mlen()                    \u001b[0m\u001b[95m \u001b[0m│\u001b[95m \u001b[0m\u001b[95m4                                                                                  \u001b[0m\u001b[95m \u001b[0m│\n",
       "│\u001b[96m \u001b[0m\u001b[1;96mstr()                    \u001b[0m\u001b[96m \u001b[0m│\u001b[96m \u001b[0m\u001b[96mb'\\xff\\xff\\xff\\xff'                                                                \u001b[0m\u001b[96m \u001b[0m│\n",
       "│\u001b[90m \u001b[0m\u001b[1;90mrepr()                   \u001b[0m\u001b[90m \u001b[0m│\u001b[90m \u001b[0m\u001b[90mDWord(data=b'\\xff\\xff\\xff\\xff', byte_order=b'@')                                   \u001b[0m\u001b[90m \u001b[0m│\n",
       "│\u001b[91m \u001b[0m\u001b[1;91m.data                    \u001b[0m\u001b[91m \u001b[0m│\u001b[91m \u001b[0m\u001b[91mb'\\xff\\xff\\xff\\xff'                                                                \u001b[0m\u001b[91m \u001b[0m│\n",
       "│\u001b[92m \u001b[0m\u001b[1;92m.value                   \u001b[0m\u001b[92m \u001b[0m│\u001b[92m \u001b[0m\u001b[92mb'\\xff\\xff\\xff\\xff'                                                                \u001b[0m\u001b[92m \u001b[0m│\n",
       "└───────────────────────────┴─────────────────────────────────────────────────────────────────────────────────────┘\n"
      ]
     },
     "metadata": {},
     "output_type": "display_data"
    },
    {
     "data": {
      "text/html": [
       "<pre style=\"white-space:pre;overflow-x:auto;line-height:normal;font-family:Menlo,'DejaVu Sans Mono',consolas,'Courier New',monospace\">╭────────────────── Byteclass Inspect ───────────────────╮\n",
       "│      00 01 02 03 04 05 06 07 08 09 0a 0b 0c 0d 0e 0f   │\n",
       "│ ----------------------------------------------------   │\n",
       "│ 0x0 <span style=\"color: #c0c0c0; text-decoration-color: #c0c0c0\">|</span><span style=\"color: #808080; text-decoration-color: #808080\">ff ff ff ff</span>                                       │\n",
       "╰────────────────────────────────────────────────────────╯\n",
       "</pre>\n"
      ],
      "text/plain": [
       "╭────────────────── Byteclass Inspect ───────────────────╮\n",
       "│      00 01 02 03 04 05 06 07 08 09 0a 0b 0c 0d 0e 0f   │\n",
       "│ ----------------------------------------------------   │\n",
       "│ 0x0 \u001b[37m|\u001b[0m\u001b[90mff ff ff ff\u001b[0m                                       │\n",
       "╰────────────────────────────────────────────────────────╯\n"
      ]
     },
     "metadata": {},
     "output_type": "display_data"
    },
    {
     "data": {
      "text/html": [
       "<pre style=\"white-space:pre;overflow-x:auto;line-height:normal;font-family:Menlo,'DejaVu Sans Mono',consolas,'Courier New',monospace\"><span style=\"font-style: italic\">        Legend         </span>\n",
       "┏━━━━━━━━━━━━━━━━━━━━━┓\n",
       "┃<span style=\"font-weight: bold\"> Value               </span>┃\n",
       "┡━━━━━━━━━━━━━━━━━━━━━┩\n",
       "│<span style=\"color: #808080; text-decoration-color: #808080\"> </span><span style=\"color: #808080; text-decoration-color: #808080; font-weight: bold\">b'\\xff\\xff\\xff\\xff'</span><span style=\"color: #808080; text-decoration-color: #808080\"> </span>│\n",
       "└─────────────────────┘\n",
       "</pre>\n"
      ],
      "text/plain": [
       "\u001b[3m        Legend         \u001b[0m\n",
       "┏━━━━━━━━━━━━━━━━━━━━━┓\n",
       "┃\u001b[1m \u001b[0m\u001b[1mValue              \u001b[0m\u001b[1m \u001b[0m┃\n",
       "┡━━━━━━━━━━━━━━━━━━━━━┩\n",
       "│\u001b[90m \u001b[0m\u001b[1;90mb'\\xff\\xff\\xff\\xff'\u001b[0m\u001b[90m \u001b[0m│\n",
       "└─────────────────────┘\n"
      ]
     },
     "metadata": {},
     "output_type": "display_data"
    },
    {
     "data": {
      "text/html": [
       "<pre style=\"white-space:pre;overflow-x:auto;line-height:normal;font-family:Menlo,'DejaVu Sans Mono',consolas,'Courier New',monospace\"><span style=\"font-style: italic\">                                                  Byteclass Info                                                   </span>\n",
       "┏━━━━━━━━━━━━━━━━━━━━━━━━━━━┳━━━━━━━━━━━━━━━━━━━━━━━━━━━━━━━━━━━━━━━━━━━━━━━━━━━━━━━━━━━━━━━━━━━━━━━━━━━━━━━━━━━━━┓\n",
       "┃<span style=\"font-weight: bold\"> Property                  </span>┃<span style=\"font-weight: bold\"> Value                                                                               </span>┃\n",
       "┡━━━━━━━━━━━━━━━━━━━━━━━━━━━╇━━━━━━━━━━━━━━━━━━━━━━━━━━━━━━━━━━━━━━━━━━━━━━━━━━━━━━━━━━━━━━━━━━━━━━━━━━━━━━━━━━━━━┩\n",
       "│<span style=\"color: #808080; text-decoration-color: #808080\"> </span><span style=\"color: #808080; text-decoration-color: #808080; font-weight: bold\">type()                   </span><span style=\"color: #808080; text-decoration-color: #808080\"> </span>│<span style=\"color: #808080; text-decoration-color: #808080\"> QWord                                                                               </span>│\n",
       "│<span style=\"color: #ff0000; text-decoration-color: #ff0000\"> </span><span style=\"color: #ff0000; text-decoration-color: #ff0000; font-weight: bold\">is_byteclass()           </span><span style=\"color: #ff0000; text-decoration-color: #ff0000\"> </span>│<span style=\"color: #ff0000; text-decoration-color: #ff0000\"> True                                                                                </span>│\n",
       "│<span style=\"color: #00ff00; text-decoration-color: #00ff00\"> </span><span style=\"color: #00ff00; text-decoration-color: #00ff00; font-weight: bold\">is_byteclass_collection()</span><span style=\"color: #00ff00; text-decoration-color: #00ff00\"> </span>│<span style=\"color: #00ff00; text-decoration-color: #00ff00\"> False                                                                               </span>│\n",
       "│<span style=\"color: #ffff00; text-decoration-color: #ffff00\"> </span><span style=\"color: #ffff00; text-decoration-color: #ffff00; font-weight: bold\">is_byteclass_primitive() </span><span style=\"color: #ffff00; text-decoration-color: #ffff00\"> </span>│<span style=\"color: #ffff00; text-decoration-color: #ffff00\"> True                                                                                </span>│\n",
       "│<span style=\"color: #0000ff; text-decoration-color: #0000ff\"> </span><span style=\"color: #0000ff; text-decoration-color: #0000ff; font-weight: bold\">mro                      </span><span style=\"color: #0000ff; text-decoration-color: #0000ff\"> </span>│<span style=\"color: #0000ff; text-decoration-color: #0000ff\"> QWord -&gt; _FixedSizeGeneric -&gt; _FixedSizeType -&gt; ABC -&gt; SupportsBytes -&gt; Protocol -&gt; </span>│\n",
       "│<span style=\"color: #0000ff; text-decoration-color: #0000ff\">                           </span>│<span style=\"color: #0000ff; text-decoration-color: #0000ff\"> Generic -&gt; object                                                                   </span>│\n",
       "│<span style=\"color: #ff00ff; text-decoration-color: #ff00ff\"> </span><span style=\"color: #ff00ff; text-decoration-color: #ff00ff; font-weight: bold\">len()                    </span><span style=\"color: #ff00ff; text-decoration-color: #ff00ff\"> </span>│<span style=\"color: #ff00ff; text-decoration-color: #ff00ff\"> 8                                                                                   </span>│\n",
       "│<span style=\"color: #00ffff; text-decoration-color: #00ffff\"> </span><span style=\"color: #00ffff; text-decoration-color: #00ffff; font-weight: bold\">str()                    </span><span style=\"color: #00ffff; text-decoration-color: #00ffff\"> </span>│<span style=\"color: #00ffff; text-decoration-color: #00ffff\"> b'\\xff\\xff\\xff\\xff\\xff\\xff\\xff\\xff'                                                 </span>│\n",
       "│<span style=\"color: #808080; text-decoration-color: #808080\"> </span><span style=\"color: #808080; text-decoration-color: #808080; font-weight: bold\">repr()                   </span><span style=\"color: #808080; text-decoration-color: #808080\"> </span>│<span style=\"color: #808080; text-decoration-color: #808080\"> QWord(data=b'\\xff\\xff\\xff\\xff\\xff\\xff\\xff\\xff', byte_order=b'@')                    </span>│\n",
       "│<span style=\"color: #ff0000; text-decoration-color: #ff0000\"> </span><span style=\"color: #ff0000; text-decoration-color: #ff0000; font-weight: bold\">.data                    </span><span style=\"color: #ff0000; text-decoration-color: #ff0000\"> </span>│<span style=\"color: #ff0000; text-decoration-color: #ff0000\"> b'\\xff\\xff\\xff\\xff\\xff\\xff\\xff\\xff'                                                 </span>│\n",
       "│<span style=\"color: #00ff00; text-decoration-color: #00ff00\"> </span><span style=\"color: #00ff00; text-decoration-color: #00ff00; font-weight: bold\">.value                   </span><span style=\"color: #00ff00; text-decoration-color: #00ff00\"> </span>│<span style=\"color: #00ff00; text-decoration-color: #00ff00\"> b'\\xff\\xff\\xff\\xff\\xff\\xff\\xff\\xff'                                                 </span>│\n",
       "└───────────────────────────┴─────────────────────────────────────────────────────────────────────────────────────┘\n",
       "</pre>\n"
      ],
      "text/plain": [
       "\u001b[3m                                                  Byteclass Info                                                   \u001b[0m\n",
       "┏━━━━━━━━━━━━━━━━━━━━━━━━━━━┳━━━━━━━━━━━━━━━━━━━━━━━━━━━━━━━━━━━━━━━━━━━━━━━━━━━━━━━━━━━━━━━━━━━━━━━━━━━━━━━━━━━━━┓\n",
       "┃\u001b[1m \u001b[0m\u001b[1mProperty                 \u001b[0m\u001b[1m \u001b[0m┃\u001b[1m \u001b[0m\u001b[1mValue                                                                              \u001b[0m\u001b[1m \u001b[0m┃\n",
       "┡━━━━━━━━━━━━━━━━━━━━━━━━━━━╇━━━━━━━━━━━━━━━━━━━━━━━━━━━━━━━━━━━━━━━━━━━━━━━━━━━━━━━━━━━━━━━━━━━━━━━━━━━━━━━━━━━━━┩\n",
       "│\u001b[90m \u001b[0m\u001b[1;90mtype()                   \u001b[0m\u001b[90m \u001b[0m│\u001b[90m \u001b[0m\u001b[90mQWord                                                                              \u001b[0m\u001b[90m \u001b[0m│\n",
       "│\u001b[91m \u001b[0m\u001b[1;91mis_byteclass()           \u001b[0m\u001b[91m \u001b[0m│\u001b[91m \u001b[0m\u001b[91mTrue                                                                               \u001b[0m\u001b[91m \u001b[0m│\n",
       "│\u001b[92m \u001b[0m\u001b[1;92mis_byteclass_collection()\u001b[0m\u001b[92m \u001b[0m│\u001b[92m \u001b[0m\u001b[92mFalse                                                                              \u001b[0m\u001b[92m \u001b[0m│\n",
       "│\u001b[93m \u001b[0m\u001b[1;93mis_byteclass_primitive() \u001b[0m\u001b[93m \u001b[0m│\u001b[93m \u001b[0m\u001b[93mTrue                                                                               \u001b[0m\u001b[93m \u001b[0m│\n",
       "│\u001b[94m \u001b[0m\u001b[1;94mmro                      \u001b[0m\u001b[94m \u001b[0m│\u001b[94m \u001b[0m\u001b[94mQWord -> _FixedSizeGeneric -> _FixedSizeType -> ABC -> SupportsBytes -> Protocol ->\u001b[0m\u001b[94m \u001b[0m│\n",
       "│\u001b[94m                           \u001b[0m│\u001b[94m \u001b[0m\u001b[94mGeneric -> object                                                                  \u001b[0m\u001b[94m \u001b[0m│\n",
       "│\u001b[95m \u001b[0m\u001b[1;95mlen()                    \u001b[0m\u001b[95m \u001b[0m│\u001b[95m \u001b[0m\u001b[95m8                                                                                  \u001b[0m\u001b[95m \u001b[0m│\n",
       "│\u001b[96m \u001b[0m\u001b[1;96mstr()                    \u001b[0m\u001b[96m \u001b[0m│\u001b[96m \u001b[0m\u001b[96mb'\\xff\\xff\\xff\\xff\\xff\\xff\\xff\\xff'                                                \u001b[0m\u001b[96m \u001b[0m│\n",
       "│\u001b[90m \u001b[0m\u001b[1;90mrepr()                   \u001b[0m\u001b[90m \u001b[0m│\u001b[90m \u001b[0m\u001b[90mQWord(data=b'\\xff\\xff\\xff\\xff\\xff\\xff\\xff\\xff', byte_order=b'@')                   \u001b[0m\u001b[90m \u001b[0m│\n",
       "│\u001b[91m \u001b[0m\u001b[1;91m.data                    \u001b[0m\u001b[91m \u001b[0m│\u001b[91m \u001b[0m\u001b[91mb'\\xff\\xff\\xff\\xff\\xff\\xff\\xff\\xff'                                                \u001b[0m\u001b[91m \u001b[0m│\n",
       "│\u001b[92m \u001b[0m\u001b[1;92m.value                   \u001b[0m\u001b[92m \u001b[0m│\u001b[92m \u001b[0m\u001b[92mb'\\xff\\xff\\xff\\xff\\xff\\xff\\xff\\xff'                                                \u001b[0m\u001b[92m \u001b[0m│\n",
       "└───────────────────────────┴─────────────────────────────────────────────────────────────────────────────────────┘\n"
      ]
     },
     "metadata": {},
     "output_type": "display_data"
    },
    {
     "data": {
      "text/html": [
       "<pre style=\"white-space:pre;overflow-x:auto;line-height:normal;font-family:Menlo,'DejaVu Sans Mono',consolas,'Courier New',monospace\">╭────────────────── Byteclass Inspect ───────────────────╮\n",
       "│      00 01 02 03 04 05 06 07 08 09 0a 0b 0c 0d 0e 0f   │\n",
       "│ ----------------------------------------------------   │\n",
       "│ 0x0 <span style=\"color: #c0c0c0; text-decoration-color: #c0c0c0\">|</span><span style=\"color: #808080; text-decoration-color: #808080\">ff ff ff ff ff ff ff ff</span>                           │\n",
       "╰────────────────────────────────────────────────────────╯\n",
       "</pre>\n"
      ],
      "text/plain": [
       "╭────────────────── Byteclass Inspect ───────────────────╮\n",
       "│      00 01 02 03 04 05 06 07 08 09 0a 0b 0c 0d 0e 0f   │\n",
       "│ ----------------------------------------------------   │\n",
       "│ 0x0 \u001b[37m|\u001b[0m\u001b[90mff ff ff ff ff ff ff ff\u001b[0m                           │\n",
       "╰────────────────────────────────────────────────────────╯\n"
      ]
     },
     "metadata": {},
     "output_type": "display_data"
    },
    {
     "data": {
      "text/html": [
       "<pre style=\"white-space:pre;overflow-x:auto;line-height:normal;font-family:Menlo,'DejaVu Sans Mono',consolas,'Courier New',monospace\"><span style=\"font-style: italic\">                Legend                 </span>\n",
       "┏━━━━━━━━━━━━━━━━━━━━━━━━━━━━━━━━━━━━━┓\n",
       "┃<span style=\"font-weight: bold\"> Value                               </span>┃\n",
       "┡━━━━━━━━━━━━━━━━━━━━━━━━━━━━━━━━━━━━━┩\n",
       "│<span style=\"color: #808080; text-decoration-color: #808080\"> </span><span style=\"color: #808080; text-decoration-color: #808080; font-weight: bold\">b'\\xff\\xff\\xff\\xff\\xff\\xff\\xff\\xff'</span><span style=\"color: #808080; text-decoration-color: #808080\"> </span>│\n",
       "└─────────────────────────────────────┘\n",
       "</pre>\n"
      ],
      "text/plain": [
       "\u001b[3m                Legend                 \u001b[0m\n",
       "┏━━━━━━━━━━━━━━━━━━━━━━━━━━━━━━━━━━━━━┓\n",
       "┃\u001b[1m \u001b[0m\u001b[1mValue                              \u001b[0m\u001b[1m \u001b[0m┃\n",
       "┡━━━━━━━━━━━━━━━━━━━━━━━━━━━━━━━━━━━━━┩\n",
       "│\u001b[90m \u001b[0m\u001b[1;90mb'\\xff\\xff\\xff\\xff\\xff\\xff\\xff\\xff'\u001b[0m\u001b[90m \u001b[0m│\n",
       "└─────────────────────────────────────┘\n"
      ]
     },
     "metadata": {},
     "output_type": "display_data"
    }
   ],
   "source": [
    "generic_types = [Byte, Word, DWord, QWord]\n",
    "for i, generic_type in enumerate(generic_types):\n",
    "    var = generic_type(b\"\\xFF\" * 2**i)\n",
    "    byteclass_info(var)\n",
    "    byteclass_inspect(var)"
   ]
  },
  {
   "cell_type": "code",
   "execution_count": 7,
   "metadata": {},
   "outputs": [],
   "source": [
    "bit = Bit(True) # Bit is a convenience class and is not considered a byteclass"
   ]
  },
  {
   "cell_type": "code",
   "execution_count": 4,
   "metadata": {},
   "outputs": [
    {
     "name": "stdout",
     "output_type": "stream",
     "text": [
      "Object is not a byteclass instance.\n"
     ]
    }
   ],
   "source": [
    "try:\n",
    "    byteclass_info(bit)\n",
    "except TypeError as err:\n",
    "    print(err)"
   ]
  },
  {
   "cell_type": "code",
   "execution_count": 5,
   "metadata": {},
   "outputs": [
    {
     "name": "stdout",
     "output_type": "stream",
     "text": [
      "Object is not a byteclass instance.\n"
     ]
    }
   ],
   "source": [
    "try:\n",
    "    byteclass_inspect(bit)\n",
    "except TypeError as err:\n",
    "    print(err)"
   ]
  },
  {
   "cell_type": "code",
   "execution_count": 6,
   "metadata": {},
   "outputs": [
    {
     "name": "stdout",
     "output_type": "stream",
     "text": [
      "1\n",
      "1\n"
     ]
    }
   ],
   "source": [
    "print(bit)\n",
    "print(bit.value)\n",
    "# Bit has no data attribute"
   ]
  }
 ],
 "metadata": {
  "kernelspec": {
   "display_name": ".venv",
   "language": "python",
   "name": "python3"
  },
  "language_info": {
   "codemirror_mode": {
    "name": "ipython",
    "version": 3
   },
   "file_extension": ".py",
   "mimetype": "text/x-python",
   "name": "python",
   "nbconvert_exporter": "python",
   "pygments_lexer": "ipython3",
   "version": "3.11.9"
  }
 },
 "nbformat": 4,
 "nbformat_minor": 2
}
