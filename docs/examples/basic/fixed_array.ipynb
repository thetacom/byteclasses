{
 "cells": [
  {
   "cell_type": "markdown",
   "metadata": {},
   "source": [
    "# FixeArray Byteclass Collection Examples"
   ]
  },
  {
   "cell_type": "code",
   "execution_count": 1,
   "metadata": {},
   "outputs": [],
   "source": [
    "from byteclasses.types.collections import FixedArray\n",
    "from byteclasses.types.primitives.integers import UInt8, UInt16, UChar\n",
    "from byteclasses.types.primitives.floats import Float32"
   ]
  },
  {
   "cell_type": "code",
   "execution_count": 2,
   "metadata": {},
   "outputs": [
    {
     "name": "stdout",
     "output_type": "stream",
     "text": [
      "[UInt16(24), UInt16(24), UInt16(24), UInt16(24), UInt16(24), UInt16(24), UInt16(24), UInt16(24)]\n",
      "b'\\x18\\x00\\x18\\x00\\x18\\x00\\x18\\x00\\x18\\x00\\x18\\x00\\x18\\x00\\x18\\x00'\n",
      "b'\\x18\\x00\\xaa\\xaa\\x18\\x00\\xbb\\xbb\\x18\\x00\\xcc\\xcc\\x18\\x00\\xff\\xff'\n",
      "43690\n",
      "0\n"
     ]
    }
   ],
   "source": [
    "a = FixedArray(UInt16(24),8)\n",
    "print(a)\n",
    "print(bytes(a))\n",
    "a[1] = 0xaaaa\n",
    "a[3] = 0xbbbb\n",
    "a[5] = 0xcccc\n",
    "a[7] = 0xFFFF\n",
    "print(a.data)\n",
    "print(a[1])\n",
    "print(a.data[1])"
   ]
  },
  {
   "cell_type": "code",
   "execution_count": null,
   "metadata": {},
   "outputs": [],
   "source": []
  }
 ],
 "metadata": {
  "kernelspec": {
   "display_name": ".venv",
   "language": "python",
   "name": "python3"
  },
  "language_info": {
   "codemirror_mode": {
    "name": "ipython",
    "version": 3
   },
   "file_extension": ".py",
   "mimetype": "text/x-python",
   "name": "python",
   "nbconvert_exporter": "python",
   "pygments_lexer": "ipython3",
   "version": "3.11.9"
  }
 },
 "nbformat": 4,
 "nbformat_minor": 2
}
