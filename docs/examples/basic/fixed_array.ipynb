{
 "cells": [
  {
   "cell_type": "markdown",
   "metadata": {},
   "source": [
    "# FixeArray Collection"
   ]
  },
  {
   "cell_type": "code",
   "execution_count": 1,
   "metadata": {},
   "outputs": [],
   "source": [
    "from byteclasses.print import byteclass_info, byteclass_inspect\n",
    "from byteclasses.types.collections import FixedArray\n",
    "from byteclasses.types.primitives.integers import UInt16\n",
    "from byteclasses.types.primitives.floats import Float32"
   ]
  },
  {
   "cell_type": "code",
   "execution_count": 2,
   "metadata": {},
   "outputs": [],
   "source": [
    "fa1 = FixedArray(8, UInt16)\n",
    "fa1[1] = 0xAAAA\n",
    "fa1[3] = 0xBBBB\n",
    "fa1[5] = 0xCCCC\n",
    "fa1[7] = 0xFFFF"
   ]
  },
  {
   "cell_type": "code",
   "execution_count": 3,
   "metadata": {},
   "outputs": [
    {
     "data": {
      "text/html": [
       "<pre style=\"white-space:pre;overflow-x:auto;line-height:normal;font-family:Menlo,'DejaVu Sans Mono',consolas,'Courier New',monospace\"><span style=\"font-style: italic\">                                                  Byteclass Info                                                   </span>\n",
       "┏━━━━━━━━━━━━━━━━━━━━━━━━━━━┳━━━━━━━━━━━━━━━━━━━━━━━━━━━━━━━━━━━━━━━━━━━━━━━━━━━━━━━━━━━━━━━━━━━━━━━━━━━━━━━━━━━━━┓\n",
       "┃<span style=\"font-weight: bold\"> Property                  </span>┃<span style=\"font-weight: bold\"> Value                                                                               </span>┃\n",
       "┡━━━━━━━━━━━━━━━━━━━━━━━━━━━╇━━━━━━━━━━━━━━━━━━━━━━━━━━━━━━━━━━━━━━━━━━━━━━━━━━━━━━━━━━━━━━━━━━━━━━━━━━━━━━━━━━━━━┩\n",
       "│<span style=\"color: #808080; text-decoration-color: #808080\"> </span><span style=\"color: #808080; text-decoration-color: #808080; font-weight: bold\">type()                   </span><span style=\"color: #808080; text-decoration-color: #808080\"> </span>│<span style=\"color: #808080; text-decoration-color: #808080\"> FixedArray                                                                          </span>│\n",
       "│<span style=\"color: #ff0000; text-decoration-color: #ff0000\"> </span><span style=\"color: #ff0000; text-decoration-color: #ff0000; font-weight: bold\">is_byteclass()           </span><span style=\"color: #ff0000; text-decoration-color: #ff0000\"> </span>│<span style=\"color: #ff0000; text-decoration-color: #ff0000\"> True                                                                                </span>│\n",
       "│<span style=\"color: #00ff00; text-decoration-color: #00ff00\"> </span><span style=\"color: #00ff00; text-decoration-color: #00ff00; font-weight: bold\">is_byteclass_collection()</span><span style=\"color: #00ff00; text-decoration-color: #00ff00\"> </span>│<span style=\"color: #00ff00; text-decoration-color: #00ff00\"> True                                                                                </span>│\n",
       "│<span style=\"color: #ffff00; text-decoration-color: #ffff00\"> </span><span style=\"color: #ffff00; text-decoration-color: #ffff00; font-weight: bold\">is_byteclass_primitive() </span><span style=\"color: #ffff00; text-decoration-color: #ffff00\"> </span>│<span style=\"color: #ffff00; text-decoration-color: #ffff00\"> False                                                                               </span>│\n",
       "│<span style=\"color: #0000ff; text-decoration-color: #0000ff\"> </span><span style=\"color: #0000ff; text-decoration-color: #0000ff; font-weight: bold\">mro                      </span><span style=\"color: #0000ff; text-decoration-color: #0000ff\"> </span>│<span style=\"color: #0000ff; text-decoration-color: #0000ff\"> FixedArray -&gt; object                                                                </span>│\n",
       "│<span style=\"color: #ff00ff; text-decoration-color: #ff00ff\"> </span><span style=\"color: #ff00ff; text-decoration-color: #ff00ff; font-weight: bold\">len()                    </span><span style=\"color: #ff00ff; text-decoration-color: #ff00ff\"> </span>│<span style=\"color: #ff00ff; text-decoration-color: #ff00ff\"> 16                                                                                  </span>│\n",
       "│<span style=\"color: #00ffff; text-decoration-color: #00ffff\"> </span><span style=\"color: #00ffff; text-decoration-color: #00ffff; font-weight: bold\">str()                    </span><span style=\"color: #00ffff; text-decoration-color: #00ffff\"> </span>│<span style=\"color: #00ffff; text-decoration-color: #00ffff\"> (UInt16(0), UInt16(43690), UInt16(0), UInt16(48059), UInt16(0), UInt16(52428),      </span>│\n",
       "│<span style=\"color: #00ffff; text-decoration-color: #00ffff\">                           </span>│<span style=\"color: #00ffff; text-decoration-color: #00ffff\"> UInt16(0), UInt16(65535))                                                           </span>│\n",
       "│<span style=\"color: #808080; text-decoration-color: #808080\"> </span><span style=\"color: #808080; text-decoration-color: #808080; font-weight: bold\">repr()                   </span><span style=\"color: #808080; text-decoration-color: #808080\"> </span>│<span style=\"color: #808080; text-decoration-color: #808080\"> (UInt16(0), UInt16(43690), UInt16(0), UInt16(48059), UInt16(0), UInt16(52428),      </span>│\n",
       "│<span style=\"color: #808080; text-decoration-color: #808080\">                           </span>│<span style=\"color: #808080; text-decoration-color: #808080\"> UInt16(0), UInt16(65535))                                                           </span>│\n",
       "│<span style=\"color: #ff0000; text-decoration-color: #ff0000\"> </span><span style=\"color: #ff0000; text-decoration-color: #ff0000; font-weight: bold\">.data                    </span><span style=\"color: #ff0000; text-decoration-color: #ff0000\"> </span>│<span style=\"color: #ff0000; text-decoration-color: #ff0000\"> b'\\x00\\x00\\xaa\\xaa\\x00\\x00\\xbb\\xbb\\x00\\x00\\xcc\\xcc\\x00\\x00\\xff\\xff'                 </span>│\n",
       "└───────────────────────────┴─────────────────────────────────────────────────────────────────────────────────────┘\n",
       "</pre>\n"
      ],
      "text/plain": [
       "\u001b[3m                                                  Byteclass Info                                                   \u001b[0m\n",
       "┏━━━━━━━━━━━━━━━━━━━━━━━━━━━┳━━━━━━━━━━━━━━━━━━━━━━━━━━━━━━━━━━━━━━━━━━━━━━━━━━━━━━━━━━━━━━━━━━━━━━━━━━━━━━━━━━━━━┓\n",
       "┃\u001b[1m \u001b[0m\u001b[1mProperty                 \u001b[0m\u001b[1m \u001b[0m┃\u001b[1m \u001b[0m\u001b[1mValue                                                                              \u001b[0m\u001b[1m \u001b[0m┃\n",
       "┡━━━━━━━━━━━━━━━━━━━━━━━━━━━╇━━━━━━━━━━━━━━━━━━━━━━━━━━━━━━━━━━━━━━━━━━━━━━━━━━━━━━━━━━━━━━━━━━━━━━━━━━━━━━━━━━━━━┩\n",
       "│\u001b[90m \u001b[0m\u001b[1;90mtype()                   \u001b[0m\u001b[90m \u001b[0m│\u001b[90m \u001b[0m\u001b[90mFixedArray                                                                         \u001b[0m\u001b[90m \u001b[0m│\n",
       "│\u001b[91m \u001b[0m\u001b[1;91mis_byteclass()           \u001b[0m\u001b[91m \u001b[0m│\u001b[91m \u001b[0m\u001b[91mTrue                                                                               \u001b[0m\u001b[91m \u001b[0m│\n",
       "│\u001b[92m \u001b[0m\u001b[1;92mis_byteclass_collection()\u001b[0m\u001b[92m \u001b[0m│\u001b[92m \u001b[0m\u001b[92mTrue                                                                               \u001b[0m\u001b[92m \u001b[0m│\n",
       "│\u001b[93m \u001b[0m\u001b[1;93mis_byteclass_primitive() \u001b[0m\u001b[93m \u001b[0m│\u001b[93m \u001b[0m\u001b[93mFalse                                                                              \u001b[0m\u001b[93m \u001b[0m│\n",
       "│\u001b[94m \u001b[0m\u001b[1;94mmro                      \u001b[0m\u001b[94m \u001b[0m│\u001b[94m \u001b[0m\u001b[94mFixedArray -> object                                                               \u001b[0m\u001b[94m \u001b[0m│\n",
       "│\u001b[95m \u001b[0m\u001b[1;95mlen()                    \u001b[0m\u001b[95m \u001b[0m│\u001b[95m \u001b[0m\u001b[95m16                                                                                 \u001b[0m\u001b[95m \u001b[0m│\n",
       "│\u001b[96m \u001b[0m\u001b[1;96mstr()                    \u001b[0m\u001b[96m \u001b[0m│\u001b[96m \u001b[0m\u001b[96m(UInt16(0), UInt16(43690), UInt16(0), UInt16(48059), UInt16(0), UInt16(52428),     \u001b[0m\u001b[96m \u001b[0m│\n",
       "│\u001b[96m                           \u001b[0m│\u001b[96m \u001b[0m\u001b[96mUInt16(0), UInt16(65535))                                                          \u001b[0m\u001b[96m \u001b[0m│\n",
       "│\u001b[90m \u001b[0m\u001b[1;90mrepr()                   \u001b[0m\u001b[90m \u001b[0m│\u001b[90m \u001b[0m\u001b[90m(UInt16(0), UInt16(43690), UInt16(0), UInt16(48059), UInt16(0), UInt16(52428),     \u001b[0m\u001b[90m \u001b[0m│\n",
       "│\u001b[90m                           \u001b[0m│\u001b[90m \u001b[0m\u001b[90mUInt16(0), UInt16(65535))                                                          \u001b[0m\u001b[90m \u001b[0m│\n",
       "│\u001b[91m \u001b[0m\u001b[1;91m.data                    \u001b[0m\u001b[91m \u001b[0m│\u001b[91m \u001b[0m\u001b[91mb'\\x00\\x00\\xaa\\xaa\\x00\\x00\\xbb\\xbb\\x00\\x00\\xcc\\xcc\\x00\\x00\\xff\\xff'                \u001b[0m\u001b[91m \u001b[0m│\n",
       "└───────────────────────────┴─────────────────────────────────────────────────────────────────────────────────────┘\n"
      ]
     },
     "metadata": {},
     "output_type": "display_data"
    }
   ],
   "source": [
    "byteclass_info(fa1)"
   ]
  },
  {
   "cell_type": "code",
   "execution_count": 4,
   "metadata": {},
   "outputs": [
    {
     "data": {
      "text/html": [
       "<pre style=\"white-space:pre;overflow-x:auto;line-height:normal;font-family:Menlo,'DejaVu Sans Mono',consolas,'Courier New',monospace\">╭────────────────── Byteclass Inspect ──────────────────╮\n",
       "│       00 01 02 03 04 05 06 07 08 09 0a 0b 0c 0d 0e 0f │\n",
       "│ ----------------------------------------------------- │\n",
       "│ 0x0  <span style=\"color: #c0c0c0; text-decoration-color: #c0c0c0\">|</span><span style=\"color: #808080; text-decoration-color: #808080\">00 00</span><span style=\"color: #c0c0c0; text-decoration-color: #c0c0c0\">|</span><span style=\"color: #ff0000; text-decoration-color: #ff0000\">aa aa</span><span style=\"color: #c0c0c0; text-decoration-color: #c0c0c0\">|</span><span style=\"color: #00ff00; text-decoration-color: #00ff00\">00 00</span><span style=\"color: #c0c0c0; text-decoration-color: #c0c0c0\">|</span><span style=\"color: #ffff00; text-decoration-color: #ffff00\">bb bb</span><span style=\"color: #c0c0c0; text-decoration-color: #c0c0c0\">|</span><span style=\"color: #0000ff; text-decoration-color: #0000ff\">00 00</span><span style=\"color: #c0c0c0; text-decoration-color: #c0c0c0\">|</span><span style=\"color: #ff00ff; text-decoration-color: #ff00ff\">cc cc</span><span style=\"color: #c0c0c0; text-decoration-color: #c0c0c0\">|</span><span style=\"color: #00ffff; text-decoration-color: #00ffff\">00 00</span><span style=\"color: #c0c0c0; text-decoration-color: #c0c0c0\">|</span><span style=\"color: #808080; text-decoration-color: #808080\">ff ff</span> │\n",
       "│ 0x10                                                  │\n",
       "╰───────────────────────────────────────────────────────╯\n",
       "</pre>\n"
      ],
      "text/plain": [
       "╭────────────────── Byteclass Inspect ──────────────────╮\n",
       "│       00 01 02 03 04 05 06 07 08 09 0a 0b 0c 0d 0e 0f │\n",
       "│ ----------------------------------------------------- │\n",
       "│ 0x0  \u001b[37m|\u001b[0m\u001b[90m00 00\u001b[0m\u001b[37m|\u001b[0m\u001b[91maa aa\u001b[0m\u001b[37m|\u001b[0m\u001b[92m00 00\u001b[0m\u001b[37m|\u001b[0m\u001b[93mbb bb\u001b[0m\u001b[37m|\u001b[0m\u001b[94m00 00\u001b[0m\u001b[37m|\u001b[0m\u001b[95mcc cc\u001b[0m\u001b[37m|\u001b[0m\u001b[96m00 00\u001b[0m\u001b[37m|\u001b[0m\u001b[90mff ff\u001b[0m │\n",
       "│ 0x10                                                  │\n",
       "╰───────────────────────────────────────────────────────╯\n"
      ]
     },
     "metadata": {},
     "output_type": "display_data"
    },
    {
     "data": {
      "text/html": [
       "<pre style=\"white-space:pre;overflow-x:auto;line-height:normal;font-family:Menlo,'DejaVu Sans Mono',consolas,'Courier New',monospace\"><span style=\"font-style: italic\">      Legend      </span>\n",
       "┏━━━━━━━━┳━━━━━━━┓\n",
       "┃<span style=\"font-weight: bold\"> Member </span>┃<span style=\"font-weight: bold\"> Value </span>┃\n",
       "┡━━━━━━━━╇━━━━━━━┩\n",
       "│<span style=\"color: #808080; text-decoration-color: #808080\"> </span><span style=\"color: #808080; text-decoration-color: #808080; font-weight: bold\">0     </span><span style=\"color: #808080; text-decoration-color: #808080\"> </span>│<span style=\"color: #808080; text-decoration-color: #808080\"> 0     </span>│\n",
       "│<span style=\"color: #ff0000; text-decoration-color: #ff0000\"> </span><span style=\"color: #ff0000; text-decoration-color: #ff0000; font-weight: bold\">1     </span><span style=\"color: #ff0000; text-decoration-color: #ff0000\"> </span>│<span style=\"color: #ff0000; text-decoration-color: #ff0000\"> 43690 </span>│\n",
       "│<span style=\"color: #00ff00; text-decoration-color: #00ff00\"> </span><span style=\"color: #00ff00; text-decoration-color: #00ff00; font-weight: bold\">2     </span><span style=\"color: #00ff00; text-decoration-color: #00ff00\"> </span>│<span style=\"color: #00ff00; text-decoration-color: #00ff00\"> 0     </span>│\n",
       "│<span style=\"color: #ffff00; text-decoration-color: #ffff00\"> </span><span style=\"color: #ffff00; text-decoration-color: #ffff00; font-weight: bold\">3     </span><span style=\"color: #ffff00; text-decoration-color: #ffff00\"> </span>│<span style=\"color: #ffff00; text-decoration-color: #ffff00\"> 48059 </span>│\n",
       "│<span style=\"color: #0000ff; text-decoration-color: #0000ff\"> </span><span style=\"color: #0000ff; text-decoration-color: #0000ff; font-weight: bold\">4     </span><span style=\"color: #0000ff; text-decoration-color: #0000ff\"> </span>│<span style=\"color: #0000ff; text-decoration-color: #0000ff\"> 0     </span>│\n",
       "│<span style=\"color: #ff00ff; text-decoration-color: #ff00ff\"> </span><span style=\"color: #ff00ff; text-decoration-color: #ff00ff; font-weight: bold\">5     </span><span style=\"color: #ff00ff; text-decoration-color: #ff00ff\"> </span>│<span style=\"color: #ff00ff; text-decoration-color: #ff00ff\"> 52428 </span>│\n",
       "│<span style=\"color: #00ffff; text-decoration-color: #00ffff\"> </span><span style=\"color: #00ffff; text-decoration-color: #00ffff; font-weight: bold\">6     </span><span style=\"color: #00ffff; text-decoration-color: #00ffff\"> </span>│<span style=\"color: #00ffff; text-decoration-color: #00ffff\"> 0     </span>│\n",
       "│<span style=\"color: #808080; text-decoration-color: #808080\"> </span><span style=\"color: #808080; text-decoration-color: #808080; font-weight: bold\">7     </span><span style=\"color: #808080; text-decoration-color: #808080\"> </span>│<span style=\"color: #808080; text-decoration-color: #808080\"> 65535 </span>│\n",
       "└────────┴───────┘\n",
       "</pre>\n"
      ],
      "text/plain": [
       "\u001b[3m      Legend      \u001b[0m\n",
       "┏━━━━━━━━┳━━━━━━━┓\n",
       "┃\u001b[1m \u001b[0m\u001b[1mMember\u001b[0m\u001b[1m \u001b[0m┃\u001b[1m \u001b[0m\u001b[1mValue\u001b[0m\u001b[1m \u001b[0m┃\n",
       "┡━━━━━━━━╇━━━━━━━┩\n",
       "│\u001b[90m \u001b[0m\u001b[1;90m0     \u001b[0m\u001b[90m \u001b[0m│\u001b[90m \u001b[0m\u001b[90m0    \u001b[0m\u001b[90m \u001b[0m│\n",
       "│\u001b[91m \u001b[0m\u001b[1;91m1     \u001b[0m\u001b[91m \u001b[0m│\u001b[91m \u001b[0m\u001b[91m43690\u001b[0m\u001b[91m \u001b[0m│\n",
       "│\u001b[92m \u001b[0m\u001b[1;92m2     \u001b[0m\u001b[92m \u001b[0m│\u001b[92m \u001b[0m\u001b[92m0    \u001b[0m\u001b[92m \u001b[0m│\n",
       "│\u001b[93m \u001b[0m\u001b[1;93m3     \u001b[0m\u001b[93m \u001b[0m│\u001b[93m \u001b[0m\u001b[93m48059\u001b[0m\u001b[93m \u001b[0m│\n",
       "│\u001b[94m \u001b[0m\u001b[1;94m4     \u001b[0m\u001b[94m \u001b[0m│\u001b[94m \u001b[0m\u001b[94m0    \u001b[0m\u001b[94m \u001b[0m│\n",
       "│\u001b[95m \u001b[0m\u001b[1;95m5     \u001b[0m\u001b[95m \u001b[0m│\u001b[95m \u001b[0m\u001b[95m52428\u001b[0m\u001b[95m \u001b[0m│\n",
       "│\u001b[96m \u001b[0m\u001b[1;96m6     \u001b[0m\u001b[96m \u001b[0m│\u001b[96m \u001b[0m\u001b[96m0    \u001b[0m\u001b[96m \u001b[0m│\n",
       "│\u001b[90m \u001b[0m\u001b[1;90m7     \u001b[0m\u001b[90m \u001b[0m│\u001b[90m \u001b[0m\u001b[90m65535\u001b[0m\u001b[90m \u001b[0m│\n",
       "└────────┴───────┘\n"
      ]
     },
     "metadata": {},
     "output_type": "display_data"
    }
   ],
   "source": [
    "byteclass_inspect(fa1)"
   ]
  },
  {
   "cell_type": "code",
   "execution_count": null,
   "metadata": {},
   "outputs": [],
   "source": []
  },
  {
   "cell_type": "code",
   "execution_count": 5,
   "metadata": {},
   "outputs": [],
   "source": [
    "fa2 = FixedArray(8, Float32)\n",
    "fa2[1] = 0xAAAA\n",
    "fa2[3] = 0xBBBB\n",
    "fa2[5] = 0xCCCC\n",
    "fa2[7] = 0xFFFF"
   ]
  },
  {
   "cell_type": "code",
   "execution_count": 6,
   "metadata": {},
   "outputs": [
    {
     "data": {
      "text/html": [
       "<pre style=\"white-space:pre;overflow-x:auto;line-height:normal;font-family:Menlo,'DejaVu Sans Mono',consolas,'Courier New',monospace\"><span style=\"font-style: italic\">                                                  Byteclass Info                                                   </span>\n",
       "┏━━━━━━━━━━━━━━━━━━━━━━━━━━━┳━━━━━━━━━━━━━━━━━━━━━━━━━━━━━━━━━━━━━━━━━━━━━━━━━━━━━━━━━━━━━━━━━━━━━━━━━━━━━━━━━━━━━┓\n",
       "┃<span style=\"font-weight: bold\"> Property                  </span>┃<span style=\"font-weight: bold\"> Value                                                                               </span>┃\n",
       "┡━━━━━━━━━━━━━━━━━━━━━━━━━━━╇━━━━━━━━━━━━━━━━━━━━━━━━━━━━━━━━━━━━━━━━━━━━━━━━━━━━━━━━━━━━━━━━━━━━━━━━━━━━━━━━━━━━━┩\n",
       "│<span style=\"color: #808080; text-decoration-color: #808080\"> </span><span style=\"color: #808080; text-decoration-color: #808080; font-weight: bold\">type()                   </span><span style=\"color: #808080; text-decoration-color: #808080\"> </span>│<span style=\"color: #808080; text-decoration-color: #808080\"> FixedArray                                                                          </span>│\n",
       "│<span style=\"color: #ff0000; text-decoration-color: #ff0000\"> </span><span style=\"color: #ff0000; text-decoration-color: #ff0000; font-weight: bold\">is_byteclass()           </span><span style=\"color: #ff0000; text-decoration-color: #ff0000\"> </span>│<span style=\"color: #ff0000; text-decoration-color: #ff0000\"> True                                                                                </span>│\n",
       "│<span style=\"color: #00ff00; text-decoration-color: #00ff00\"> </span><span style=\"color: #00ff00; text-decoration-color: #00ff00; font-weight: bold\">is_byteclass_collection()</span><span style=\"color: #00ff00; text-decoration-color: #00ff00\"> </span>│<span style=\"color: #00ff00; text-decoration-color: #00ff00\"> True                                                                                </span>│\n",
       "│<span style=\"color: #ffff00; text-decoration-color: #ffff00\"> </span><span style=\"color: #ffff00; text-decoration-color: #ffff00; font-weight: bold\">is_byteclass_primitive() </span><span style=\"color: #ffff00; text-decoration-color: #ffff00\"> </span>│<span style=\"color: #ffff00; text-decoration-color: #ffff00\"> False                                                                               </span>│\n",
       "│<span style=\"color: #0000ff; text-decoration-color: #0000ff\"> </span><span style=\"color: #0000ff; text-decoration-color: #0000ff; font-weight: bold\">mro                      </span><span style=\"color: #0000ff; text-decoration-color: #0000ff\"> </span>│<span style=\"color: #0000ff; text-decoration-color: #0000ff\"> FixedArray -&gt; object                                                                </span>│\n",
       "│<span style=\"color: #ff00ff; text-decoration-color: #ff00ff\"> </span><span style=\"color: #ff00ff; text-decoration-color: #ff00ff; font-weight: bold\">len()                    </span><span style=\"color: #ff00ff; text-decoration-color: #ff00ff\"> </span>│<span style=\"color: #ff00ff; text-decoration-color: #ff00ff\"> 32                                                                                  </span>│\n",
       "│<span style=\"color: #00ffff; text-decoration-color: #00ffff\"> </span><span style=\"color: #00ffff; text-decoration-color: #00ffff; font-weight: bold\">str()                    </span><span style=\"color: #00ffff; text-decoration-color: #00ffff\"> </span>│<span style=\"color: #00ffff; text-decoration-color: #00ffff\"> (Float32(0.0), Float32(43690.0), Float32(0.0), Float32(48059.0), Float32(0.0),      </span>│\n",
       "│<span style=\"color: #00ffff; text-decoration-color: #00ffff\">                           </span>│<span style=\"color: #00ffff; text-decoration-color: #00ffff\"> Float32(52428.0), Float32(0.0), Float32(65535.0))                                   </span>│\n",
       "│<span style=\"color: #808080; text-decoration-color: #808080\"> </span><span style=\"color: #808080; text-decoration-color: #808080; font-weight: bold\">repr()                   </span><span style=\"color: #808080; text-decoration-color: #808080\"> </span>│<span style=\"color: #808080; text-decoration-color: #808080\"> (Float32(0.0), Float32(43690.0), Float32(0.0), Float32(48059.0), Float32(0.0),      </span>│\n",
       "│<span style=\"color: #808080; text-decoration-color: #808080\">                           </span>│<span style=\"color: #808080; text-decoration-color: #808080\"> Float32(52428.0), Float32(0.0), Float32(65535.0))                                   </span>│\n",
       "│<span style=\"color: #ff0000; text-decoration-color: #ff0000\"> </span><span style=\"color: #ff0000; text-decoration-color: #ff0000; font-weight: bold\">.data                    </span><span style=\"color: #ff0000; text-decoration-color: #ff0000\"> </span>│<span style=\"color: #ff0000; text-decoration-color: #ff0000\"> b'\\x00\\x00\\x00\\x00\\x00\\xaa*G\\x00\\x00\\x00\\x00\\x00\\xbb;G\\x00\\x00\\x00\\x00\\x00\\xccLG\\x… </span>│\n",
       "└───────────────────────────┴─────────────────────────────────────────────────────────────────────────────────────┘\n",
       "</pre>\n"
      ],
      "text/plain": [
       "\u001b[3m                                                  Byteclass Info                                                   \u001b[0m\n",
       "┏━━━━━━━━━━━━━━━━━━━━━━━━━━━┳━━━━━━━━━━━━━━━━━━━━━━━━━━━━━━━━━━━━━━━━━━━━━━━━━━━━━━━━━━━━━━━━━━━━━━━━━━━━━━━━━━━━━┓\n",
       "┃\u001b[1m \u001b[0m\u001b[1mProperty                 \u001b[0m\u001b[1m \u001b[0m┃\u001b[1m \u001b[0m\u001b[1mValue                                                                              \u001b[0m\u001b[1m \u001b[0m┃\n",
       "┡━━━━━━━━━━━━━━━━━━━━━━━━━━━╇━━━━━━━━━━━━━━━━━━━━━━━━━━━━━━━━━━━━━━━━━━━━━━━━━━━━━━━━━━━━━━━━━━━━━━━━━━━━━━━━━━━━━┩\n",
       "│\u001b[90m \u001b[0m\u001b[1;90mtype()                   \u001b[0m\u001b[90m \u001b[0m│\u001b[90m \u001b[0m\u001b[90mFixedArray                                                                         \u001b[0m\u001b[90m \u001b[0m│\n",
       "│\u001b[91m \u001b[0m\u001b[1;91mis_byteclass()           \u001b[0m\u001b[91m \u001b[0m│\u001b[91m \u001b[0m\u001b[91mTrue                                                                               \u001b[0m\u001b[91m \u001b[0m│\n",
       "│\u001b[92m \u001b[0m\u001b[1;92mis_byteclass_collection()\u001b[0m\u001b[92m \u001b[0m│\u001b[92m \u001b[0m\u001b[92mTrue                                                                               \u001b[0m\u001b[92m \u001b[0m│\n",
       "│\u001b[93m \u001b[0m\u001b[1;93mis_byteclass_primitive() \u001b[0m\u001b[93m \u001b[0m│\u001b[93m \u001b[0m\u001b[93mFalse                                                                              \u001b[0m\u001b[93m \u001b[0m│\n",
       "│\u001b[94m \u001b[0m\u001b[1;94mmro                      \u001b[0m\u001b[94m \u001b[0m│\u001b[94m \u001b[0m\u001b[94mFixedArray -> object                                                               \u001b[0m\u001b[94m \u001b[0m│\n",
       "│\u001b[95m \u001b[0m\u001b[1;95mlen()                    \u001b[0m\u001b[95m \u001b[0m│\u001b[95m \u001b[0m\u001b[95m32                                                                                 \u001b[0m\u001b[95m \u001b[0m│\n",
       "│\u001b[96m \u001b[0m\u001b[1;96mstr()                    \u001b[0m\u001b[96m \u001b[0m│\u001b[96m \u001b[0m\u001b[96m(Float32(0.0), Float32(43690.0), Float32(0.0), Float32(48059.0), Float32(0.0),     \u001b[0m\u001b[96m \u001b[0m│\n",
       "│\u001b[96m                           \u001b[0m│\u001b[96m \u001b[0m\u001b[96mFloat32(52428.0), Float32(0.0), Float32(65535.0))                                  \u001b[0m\u001b[96m \u001b[0m│\n",
       "│\u001b[90m \u001b[0m\u001b[1;90mrepr()                   \u001b[0m\u001b[90m \u001b[0m│\u001b[90m \u001b[0m\u001b[90m(Float32(0.0), Float32(43690.0), Float32(0.0), Float32(48059.0), Float32(0.0),     \u001b[0m\u001b[90m \u001b[0m│\n",
       "│\u001b[90m                           \u001b[0m│\u001b[90m \u001b[0m\u001b[90mFloat32(52428.0), Float32(0.0), Float32(65535.0))                                  \u001b[0m\u001b[90m \u001b[0m│\n",
       "│\u001b[91m \u001b[0m\u001b[1;91m.data                    \u001b[0m\u001b[91m \u001b[0m│\u001b[91m \u001b[0m\u001b[91mb'\\x00\\x00\\x00\\x00\\x00\\xaa*G\\x00\\x00\\x00\\x00\\x00\\xbb;G\\x00\\x00\\x00\\x00\\x00\\xccLG\\x…\u001b[0m\u001b[91m \u001b[0m│\n",
       "└───────────────────────────┴─────────────────────────────────────────────────────────────────────────────────────┘\n"
      ]
     },
     "metadata": {},
     "output_type": "display_data"
    }
   ],
   "source": [
    "byteclass_info(fa2)"
   ]
  },
  {
   "cell_type": "code",
   "execution_count": 7,
   "metadata": {},
   "outputs": [
    {
     "data": {
      "text/html": [
       "<pre style=\"white-space:pre;overflow-x:auto;line-height:normal;font-family:Menlo,'DejaVu Sans Mono',consolas,'Courier New',monospace\">╭────────────────── Byteclass Inspect ──────────────────╮\n",
       "│       00 01 02 03 04 05 06 07 08 09 0a 0b 0c 0d 0e 0f │\n",
       "│ ----------------------------------------------------- │\n",
       "│ 0x0  <span style=\"color: #c0c0c0; text-decoration-color: #c0c0c0\">|</span><span style=\"color: #808080; text-decoration-color: #808080\">00 00 00 00</span><span style=\"color: #c0c0c0; text-decoration-color: #c0c0c0\">|</span><span style=\"color: #ff0000; text-decoration-color: #ff0000\">00 aa 2a 47</span><span style=\"color: #c0c0c0; text-decoration-color: #c0c0c0\">|</span><span style=\"color: #00ff00; text-decoration-color: #00ff00\">00 00 00 00</span><span style=\"color: #c0c0c0; text-decoration-color: #c0c0c0\">|</span><span style=\"color: #ffff00; text-decoration-color: #ffff00\">00 bb 3b 47</span> │\n",
       "│ 0x10 <span style=\"color: #c0c0c0; text-decoration-color: #c0c0c0\">|</span><span style=\"color: #0000ff; text-decoration-color: #0000ff\">00 00 00 00</span><span style=\"color: #c0c0c0; text-decoration-color: #c0c0c0\">|</span><span style=\"color: #ff00ff; text-decoration-color: #ff00ff\">00 cc 4c 47</span><span style=\"color: #c0c0c0; text-decoration-color: #c0c0c0\">|</span><span style=\"color: #00ffff; text-decoration-color: #00ffff\">00 00 00 00</span><span style=\"color: #c0c0c0; text-decoration-color: #c0c0c0\">|</span><span style=\"color: #808080; text-decoration-color: #808080\">00 ff 7f 47</span> │\n",
       "│ 0x20                                                  │\n",
       "╰───────────────────────────────────────────────────────╯\n",
       "</pre>\n"
      ],
      "text/plain": [
       "╭────────────────── Byteclass Inspect ──────────────────╮\n",
       "│       00 01 02 03 04 05 06 07 08 09 0a 0b 0c 0d 0e 0f │\n",
       "│ ----------------------------------------------------- │\n",
       "│ 0x0  \u001b[37m|\u001b[0m\u001b[90m00 00 00 00\u001b[0m\u001b[37m|\u001b[0m\u001b[91m00 aa 2a 47\u001b[0m\u001b[37m|\u001b[0m\u001b[92m00 00 00 00\u001b[0m\u001b[37m|\u001b[0m\u001b[93m00 bb 3b 47\u001b[0m │\n",
       "│ 0x10 \u001b[37m|\u001b[0m\u001b[94m00 00 00 00\u001b[0m\u001b[37m|\u001b[0m\u001b[95m00 cc 4c 47\u001b[0m\u001b[37m|\u001b[0m\u001b[96m00 00 00 00\u001b[0m\u001b[37m|\u001b[0m\u001b[90m00 ff 7f 47\u001b[0m │\n",
       "│ 0x20                                                  │\n",
       "╰───────────────────────────────────────────────────────╯\n"
      ]
     },
     "metadata": {},
     "output_type": "display_data"
    },
    {
     "data": {
      "text/html": [
       "<pre style=\"white-space:pre;overflow-x:auto;line-height:normal;font-family:Menlo,'DejaVu Sans Mono',consolas,'Courier New',monospace\"><span style=\"font-style: italic\">       Legend       </span>\n",
       "┏━━━━━━━━┳━━━━━━━━━┓\n",
       "┃<span style=\"font-weight: bold\"> Member </span>┃<span style=\"font-weight: bold\"> Value   </span>┃\n",
       "┡━━━━━━━━╇━━━━━━━━━┩\n",
       "│<span style=\"color: #808080; text-decoration-color: #808080\"> </span><span style=\"color: #808080; text-decoration-color: #808080; font-weight: bold\">0     </span><span style=\"color: #808080; text-decoration-color: #808080\"> </span>│<span style=\"color: #808080; text-decoration-color: #808080\"> 0.0     </span>│\n",
       "│<span style=\"color: #ff0000; text-decoration-color: #ff0000\"> </span><span style=\"color: #ff0000; text-decoration-color: #ff0000; font-weight: bold\">1     </span><span style=\"color: #ff0000; text-decoration-color: #ff0000\"> </span>│<span style=\"color: #ff0000; text-decoration-color: #ff0000\"> 43690.0 </span>│\n",
       "│<span style=\"color: #00ff00; text-decoration-color: #00ff00\"> </span><span style=\"color: #00ff00; text-decoration-color: #00ff00; font-weight: bold\">2     </span><span style=\"color: #00ff00; text-decoration-color: #00ff00\"> </span>│<span style=\"color: #00ff00; text-decoration-color: #00ff00\"> 0.0     </span>│\n",
       "│<span style=\"color: #ffff00; text-decoration-color: #ffff00\"> </span><span style=\"color: #ffff00; text-decoration-color: #ffff00; font-weight: bold\">3     </span><span style=\"color: #ffff00; text-decoration-color: #ffff00\"> </span>│<span style=\"color: #ffff00; text-decoration-color: #ffff00\"> 48059.0 </span>│\n",
       "│<span style=\"color: #0000ff; text-decoration-color: #0000ff\"> </span><span style=\"color: #0000ff; text-decoration-color: #0000ff; font-weight: bold\">4     </span><span style=\"color: #0000ff; text-decoration-color: #0000ff\"> </span>│<span style=\"color: #0000ff; text-decoration-color: #0000ff\"> 0.0     </span>│\n",
       "│<span style=\"color: #ff00ff; text-decoration-color: #ff00ff\"> </span><span style=\"color: #ff00ff; text-decoration-color: #ff00ff; font-weight: bold\">5     </span><span style=\"color: #ff00ff; text-decoration-color: #ff00ff\"> </span>│<span style=\"color: #ff00ff; text-decoration-color: #ff00ff\"> 52428.0 </span>│\n",
       "│<span style=\"color: #00ffff; text-decoration-color: #00ffff\"> </span><span style=\"color: #00ffff; text-decoration-color: #00ffff; font-weight: bold\">6     </span><span style=\"color: #00ffff; text-decoration-color: #00ffff\"> </span>│<span style=\"color: #00ffff; text-decoration-color: #00ffff\"> 0.0     </span>│\n",
       "│<span style=\"color: #808080; text-decoration-color: #808080\"> </span><span style=\"color: #808080; text-decoration-color: #808080; font-weight: bold\">7     </span><span style=\"color: #808080; text-decoration-color: #808080\"> </span>│<span style=\"color: #808080; text-decoration-color: #808080\"> 65535.0 </span>│\n",
       "└────────┴─────────┘\n",
       "</pre>\n"
      ],
      "text/plain": [
       "\u001b[3m       Legend       \u001b[0m\n",
       "┏━━━━━━━━┳━━━━━━━━━┓\n",
       "┃\u001b[1m \u001b[0m\u001b[1mMember\u001b[0m\u001b[1m \u001b[0m┃\u001b[1m \u001b[0m\u001b[1mValue  \u001b[0m\u001b[1m \u001b[0m┃\n",
       "┡━━━━━━━━╇━━━━━━━━━┩\n",
       "│\u001b[90m \u001b[0m\u001b[1;90m0     \u001b[0m\u001b[90m \u001b[0m│\u001b[90m \u001b[0m\u001b[90m0.0    \u001b[0m\u001b[90m \u001b[0m│\n",
       "│\u001b[91m \u001b[0m\u001b[1;91m1     \u001b[0m\u001b[91m \u001b[0m│\u001b[91m \u001b[0m\u001b[91m43690.0\u001b[0m\u001b[91m \u001b[0m│\n",
       "│\u001b[92m \u001b[0m\u001b[1;92m2     \u001b[0m\u001b[92m \u001b[0m│\u001b[92m \u001b[0m\u001b[92m0.0    \u001b[0m\u001b[92m \u001b[0m│\n",
       "│\u001b[93m \u001b[0m\u001b[1;93m3     \u001b[0m\u001b[93m \u001b[0m│\u001b[93m \u001b[0m\u001b[93m48059.0\u001b[0m\u001b[93m \u001b[0m│\n",
       "│\u001b[94m \u001b[0m\u001b[1;94m4     \u001b[0m\u001b[94m \u001b[0m│\u001b[94m \u001b[0m\u001b[94m0.0    \u001b[0m\u001b[94m \u001b[0m│\n",
       "│\u001b[95m \u001b[0m\u001b[1;95m5     \u001b[0m\u001b[95m \u001b[0m│\u001b[95m \u001b[0m\u001b[95m52428.0\u001b[0m\u001b[95m \u001b[0m│\n",
       "│\u001b[96m \u001b[0m\u001b[1;96m6     \u001b[0m\u001b[96m \u001b[0m│\u001b[96m \u001b[0m\u001b[96m0.0    \u001b[0m\u001b[96m \u001b[0m│\n",
       "│\u001b[90m \u001b[0m\u001b[1;90m7     \u001b[0m\u001b[90m \u001b[0m│\u001b[90m \u001b[0m\u001b[90m65535.0\u001b[0m\u001b[90m \u001b[0m│\n",
       "└────────┴─────────┘\n"
      ]
     },
     "metadata": {},
     "output_type": "display_data"
    }
   ],
   "source": [
    "byteclass_inspect(fa2)"
   ]
  }
 ],
 "metadata": {
  "kernelspec": {
   "display_name": ".venv",
   "language": "python",
   "name": "python3"
  },
  "language_info": {
   "codemirror_mode": {
    "name": "ipython",
    "version": 3
   },
   "file_extension": ".py",
   "mimetype": "text/x-python",
   "name": "python",
   "nbconvert_exporter": "python",
   "pygments_lexer": "ipython3",
   "version": "3.11.9"
  }
 },
 "nbformat": 4,
 "nbformat_minor": 2
}
