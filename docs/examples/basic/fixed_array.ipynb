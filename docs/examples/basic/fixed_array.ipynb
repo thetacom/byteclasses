{
 "cells": [
  {
   "cell_type": "markdown",
   "metadata": {},
   "source": [
    "# FixeArray Collection"
   ]
  },
  {
   "cell_type": "code",
   "execution_count": 5,
   "metadata": {},
   "outputs": [],
   "source": [
    "from byteclasses.types.collections import FixedArray\n",
    "from byteclasses.types.primitives.integers import UInt16\n",
    "from byteclasses.types.primitives.floats import Float32"
   ]
  },
  {
   "cell_type": "code",
   "execution_count": 6,
   "metadata": {},
   "outputs": [
    {
     "name": "stdout",
     "output_type": "stream",
     "text": [
      "[UInt16(0), UInt16(0), UInt16(0), UInt16(0), UInt16(0), UInt16(0), UInt16(0), UInt16(0)]\n",
      "b'\\x00\\x00\\x00\\x00\\x00\\x00\\x00\\x00\\x00\\x00\\x00\\x00\\x00\\x00\\x00\\x00'\n",
      "b'\\x00\\x00\\xaa\\xaa\\x00\\x00\\xbb\\xbb\\x00\\x00\\xcc\\xcc\\x00\\x00\\xff\\xff'\n",
      "43690\n",
      "b'\\xaa\\xaa'\n"
     ]
    }
   ],
   "source": [
    "fa1 = FixedArray(8, UInt16)\n",
    "print(fa1)\n",
    "print(bytes(fa1))\n",
    "fa1[1] = 0xaaaa\n",
    "fa1[3] = 0xbbbb\n",
    "fa1[5] = 0xcccc\n",
    "fa1[7] = 0xFFFF\n",
    "print(fa1.data)\n",
    "print(fa1[1])\n",
    "print(fa1[1].data)"
   ]
  },
  {
   "cell_type": "code",
   "execution_count": 7,
   "metadata": {},
   "outputs": [
    {
     "name": "stdout",
     "output_type": "stream",
     "text": [
      "[Float32(0.0), Float32(0.0), Float32(0.0), Float32(0.0), Float32(0.0), Float32(0.0), Float32(0.0), Float32(0.0)]\n",
      "b'\\x00\\x00\\x00\\x00\\x00\\x00\\x00\\x00\\x00\\x00\\x00\\x00\\x00\\x00\\x00\\x00\\x00\\x00\\x00\\x00\\x00\\x00\\x00\\x00\\x00\\x00\\x00\\x00\\x00\\x00\\x00\\x00'\n",
      "b'\\x00\\x00\\x00\\x00\\x00\\xaa*G\\x00\\x00\\x00\\x00\\x00\\xbb;G\\x00\\x00\\x00\\x00\\x00\\xccLG\\x00\\x00\\x00\\x00\\x00\\xff\\x7fG'\n",
      "43690.0\n",
      "b'\\x00\\xaa*G'\n"
     ]
    }
   ],
   "source": [
    "fa2 = FixedArray(8, Float32)\n",
    "print(fa2)\n",
    "print(bytes(fa2))\n",
    "fa2[1] = 0xAAAA\n",
    "fa2[3] = 0xBBBB\n",
    "fa2[5] = 0xCCCC\n",
    "fa2[7] = 0xFFFF\n",
    "print(fa2.data)\n",
    "print(fa2[1])\n",
    "print(fa2[1].data)"
   ]
  }
 ],
 "metadata": {
  "kernelspec": {
   "display_name": ".venv",
   "language": "python",
   "name": "python3"
  },
  "language_info": {
   "codemirror_mode": {
    "name": "ipython",
    "version": 3
   },
   "file_extension": ".py",
   "mimetype": "text/x-python",
   "name": "python",
   "nbconvert_exporter": "python",
   "pygments_lexer": "ipython3",
   "version": "3.11.9"
  }
 },
 "nbformat": 4,
 "nbformat_minor": 2
}
