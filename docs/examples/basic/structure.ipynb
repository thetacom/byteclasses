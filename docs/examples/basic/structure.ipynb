{
 "cells": [
  {
   "cell_type": "markdown",
   "metadata": {},
   "source": [
    "# Structure Byteclass Collection Examples"
   ]
  },
  {
   "cell_type": "code",
   "execution_count": 1,
   "metadata": {},
   "outputs": [],
   "source": [
    "from byteclasses.types.collections import FixedSizeCollection, structure\n",
    "from byteclasses.types.primitives.integers import UInt8,UInt16, UChar\n",
    "from byteclasses.types.primitives.floats import Float32"
   ]
  },
  {
   "cell_type": "code",
   "execution_count": 4,
   "metadata": {},
   "outputs": [
    {
     "name": "stdout",
     "output_type": "stream",
     "text": [
      "13\n",
      "SimpleStruct(a=UInt8(0), b=UInt16(0), c=UInt8(0), d=Float32(1.100000023841858), e=UInt8(0))\n",
      "bytearray(b'\\x00\\x00\\x00\\x00\\x00\\x00\\x00\\x00\\xcd\\xcc\\x8c?\\x00')\n",
      "SimpleStruct(a=UInt8(1), b=UInt16(2), c=UInt8(3), d=Float32(4.0), e=UInt8(5))\n",
      "bytearray(b'\\x01\\x00\\x02\\x00\\x03\\x00\\x00\\x00\\x00\\x00\\x80@\\x05')\n"
     ]
    }
   ],
   "source": [
    "@structure(byte_order=\"!\")\n",
    "class SimpleStruct():\n",
    "    a:UInt8 = UInt8()\n",
    "    b:UInt16 = UInt16()\n",
    "    c:UChar = UChar()\n",
    "    d:Float32 = Float32(1.1)\n",
    "    e:UInt8 = UInt8()\n",
    "s: FixedSizeCollection = SimpleStruct()\n",
    "print(len(s))\n",
    "print(s)\n",
    "print(s.data)\n",
    "b = SimpleStruct(a=UInt8(1), b=UInt16(2), c=UInt8(3), d=Float32(4), e=UInt8(5))\n",
    "print(b)\n",
    "print(b.data)"
   ]
  },
  {
   "cell_type": "code",
   "execution_count": 4,
   "metadata": {},
   "outputs": [
    {
     "name": "stdout",
     "output_type": "stream",
     "text": [
      "['__annotations__', '__bytes__', '__class__', '__collection_members__', '__collection_params__', '__delattr__', '__dir__', '__doc__', '__eq__', '__format__', '__ge__', '__getattribute__', '__getitem__', '__getstate__', '__gt__', '__hash__', '__init__', '__init_subclass__', '__le__', '__len__', '__lt__', '__match_args__', '__module__', '__ne__', '__new__', '__reduce__', '__reduce_ex__', '__repr__', '__setattr__', '__setitem__', '__setstate__', '__sizeof__', '__slots__', '__str__', '__subclasshook__', '__weakref__', '_attach_members', '_collection_init', '_data', '_length', '_member_offsets', 'a', 'attach', 'b', 'c', 'd', 'data', 'e']\n",
      "bytearray(b'\\x00\\x00\\x00\\x00\\x00\\x00\\x00\\x00\\xcd\\xcc\\x8c?\\x00') Length: 13\n",
      "b'\\x01'\n",
      "bytearray(b'\\x01\\x00\\x00\\x00\\x00\\x00\\x00\\x00\\xcd\\xcc\\x8c?\\x00')\n",
      "b'\\x02\\x00'\n",
      "bytearray(b'\\x01\\x00\\x02\\x00\\x00\\x00\\x00\\x00\\xcd\\xcc\\x8c?\\x00')\n",
      "b'\\x03'\n",
      "bytearray(b'\\x01\\x00\\x02\\x00\\x03\\x00\\x00\\x00\\xcd\\xcc\\x8c?\\x00')\n",
      "b'\\x00\\x00\\x80@'\n",
      "bytearray(b'\\x01\\x00\\x02\\x00\\x03\\x00\\x00\\x00\\x00\\x00\\x80@\\x00')\n",
      "bytearray(b'\\x01\\x06\\x07\\x08\\x03\\x00\\x00\\x00\\x00\\x00\\x80@\\x00')\n",
      "0\n",
      "0\n",
      "NATIVE\n"
     ]
    }
   ],
   "source": [
    "print(dir(s))\n",
    "print(s.data, f\"Length: {len(s)}\")\n",
    "s.a = 1\n",
    "print(s.a.data)\n",
    "print(s.data)\n",
    "s.b = 2\n",
    "print(s.b.data)\n",
    "print(s.data)\n",
    "s.c = 3\n",
    "print(s.c.data)\n",
    "print(s.data)\n",
    "s.d = 4\n",
    "print(s.d.data)\n",
    "print(s.data)\n",
    "s[1] = 6\n",
    "s[2] = 7\n",
    "s[3] = 8\n",
    "\n",
    "print(s.data)\n",
    "s.data = b\"\\x00\\x00\\x00\\x00\\x00\\x00\\x00\\x00\\xcd\\xcc\\x8c?\\x00\"\n",
    "print(s.a)\n",
    "print(s.b)\n",
    "print(s.a.endianness)"
   ]
  },
  {
   "cell_type": "code",
   "execution_count": 5,
   "metadata": {},
   "outputs": [
    {
     "name": "stdout",
     "output_type": "stream",
     "text": [
      "SimpleStruct(a=UInt8(0), b=UInt16(0), c=UInt8(0), d=Float32(1.100000023841858), e=UInt8(0))\n"
     ]
    }
   ],
   "source": [
    "print(s)"
   ]
  },
  {
   "cell_type": "code",
   "execution_count": null,
   "metadata": {},
   "outputs": [],
   "source": []
  }
 ],
 "metadata": {
  "kernelspec": {
   "display_name": "Python 3.9.14 ('.venv': poetry)",
   "language": "python",
   "name": "python3"
  },
  "language_info": {
   "codemirror_mode": {
    "name": "ipython",
    "version": 3
   },
   "file_extension": ".py",
   "mimetype": "text/x-python",
   "name": "python",
   "nbconvert_exporter": "python",
   "pygments_lexer": "ipython3",
   "version": "3.11.9"
  },
  "orig_nbformat": 4,
  "vscode": {
   "interpreter": {
    "hash": "557d07237cea0a23e1b53fe2d85e0da343a1f271fee6abb399e030b4f4b9db4a"
   }
  }
 },
 "nbformat": 4,
 "nbformat_minor": 2
}
