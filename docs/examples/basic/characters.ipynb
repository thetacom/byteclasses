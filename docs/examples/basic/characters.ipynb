{
 "cells": [
  {
   "cell_type": "markdown",
   "metadata": {},
   "source": [
    "# Character Primitives"
   ]
  },
  {
   "cell_type": "code",
   "execution_count": 12,
   "metadata": {},
   "outputs": [],
   "source": [
    "from byteclasses.types.primitives.characters import UChar, SChar\n",
    "from rich.console import Console\n",
    "from rich.table import Table"
   ]
  },
  {
   "cell_type": "code",
   "execution_count": 13,
   "metadata": {},
   "outputs": [],
   "source": [
    "uchar_var = UChar(\"A\")"
   ]
  },
  {
   "cell_type": "code",
   "execution_count": 14,
   "metadata": {},
   "outputs": [
    {
     "data": {
      "text/html": [
       "<pre style=\"white-space:pre;overflow-x:auto;line-height:normal;font-family:Menlo,'DejaVu Sans Mono',consolas,'Courier New',monospace\"><span style=\"font-style: italic\">         UChar Primitive         </span>\n",
       "┏━━━━━━━━━━━━━━━━━━┳━━━━━━━━━━━━┓\n",
       "┃<span style=\"font-weight: bold\"> Name             </span>┃<span style=\"font-weight: bold\"> Value      </span>┃\n",
       "┡━━━━━━━━━━━━━━━━━━╇━━━━━━━━━━━━┩\n",
       "│ len(uchar_var)   │ 1          │\n",
       "│ str(uchar_var)   │ A          │\n",
       "│ repr(uchar_var)  │ UChar('A') │\n",
       "│ uchar_var.value  │ A          │\n",
       "│ uchar_var.data   │ b'A'       │\n",
       "│ uchar_var.signed │ False      │\n",
       "└──────────────────┴────────────┘\n",
       "</pre>\n"
      ],
      "text/plain": [
       "\u001b[3m         UChar Primitive         \u001b[0m\n",
       "┏━━━━━━━━━━━━━━━━━━┳━━━━━━━━━━━━┓\n",
       "┃\u001b[1m \u001b[0m\u001b[1mName            \u001b[0m\u001b[1m \u001b[0m┃\u001b[1m \u001b[0m\u001b[1mValue     \u001b[0m\u001b[1m \u001b[0m┃\n",
       "┡━━━━━━━━━━━━━━━━━━╇━━━━━━━━━━━━┩\n",
       "│ len(uchar_var)   │ 1          │\n",
       "│ str(uchar_var)   │ A          │\n",
       "│ repr(uchar_var)  │ UChar('A') │\n",
       "│ uchar_var.value  │ A          │\n",
       "│ uchar_var.data   │ b'A'       │\n",
       "│ uchar_var.signed │ False      │\n",
       "└──────────────────┴────────────┘\n"
      ]
     },
     "metadata": {},
     "output_type": "display_data"
    }
   ],
   "source": [
    "table = Table(title=\"UChar Primitive\")\n",
    "\n",
    "table.add_column(\"Name\")\n",
    "table.add_column(\"Value\")\n",
    "\n",
    "table.add_row(\"len(uchar_var)\", str(len(uchar_var)))\n",
    "table.add_row(\"str(uchar_var)\", str(uchar_var))\n",
    "table.add_row(\"repr(uchar_var)\", repr(uchar_var))\n",
    "table.add_row(\"uchar_var.value\", str(uchar_var.value))\n",
    "table.add_row(\"uchar_var.data\", str(uchar_var.data))\n",
    "table.add_row(\"uchar_var.signed\", str(uchar_var.signed))\n",
    "\n",
    "console = Console()\n",
    "console.print(table)"
   ]
  },
  {
   "cell_type": "code",
   "execution_count": 15,
   "metadata": {},
   "outputs": [],
   "source": [
    "schar_var = SChar(65)"
   ]
  },
  {
   "cell_type": "code",
   "execution_count": 16,
   "metadata": {},
   "outputs": [
    {
     "data": {
      "text/html": [
       "<pre style=\"white-space:pre;overflow-x:auto;line-height:normal;font-family:Menlo,'DejaVu Sans Mono',consolas,'Courier New',monospace\"><span style=\"font-style: italic\">        SChar Primitive         </span>\n",
       "┏━━━━━━━━━━━━━━━━━━┳━━━━━━━━━━━┓\n",
       "┃<span style=\"font-weight: bold\"> Name             </span>┃<span style=\"font-weight: bold\"> Value     </span>┃\n",
       "┡━━━━━━━━━━━━━━━━━━╇━━━━━━━━━━━┩\n",
       "│ len(schar_var)   │ 1         │\n",
       "│ str(schar_var)   │ 65        │\n",
       "│ repr(schar_var)  │ SChar(65) │\n",
       "│ schar_var.value  │ 65        │\n",
       "│ schar_var.data   │ b'A'      │\n",
       "│ schar_var.signed │ True      │\n",
       "└──────────────────┴───────────┘\n",
       "</pre>\n"
      ],
      "text/plain": [
       "\u001b[3m        SChar Primitive         \u001b[0m\n",
       "┏━━━━━━━━━━━━━━━━━━┳━━━━━━━━━━━┓\n",
       "┃\u001b[1m \u001b[0m\u001b[1mName            \u001b[0m\u001b[1m \u001b[0m┃\u001b[1m \u001b[0m\u001b[1mValue    \u001b[0m\u001b[1m \u001b[0m┃\n",
       "┡━━━━━━━━━━━━━━━━━━╇━━━━━━━━━━━┩\n",
       "│ len(schar_var)   │ 1         │\n",
       "│ str(schar_var)   │ 65        │\n",
       "│ repr(schar_var)  │ SChar(65) │\n",
       "│ schar_var.value  │ 65        │\n",
       "│ schar_var.data   │ b'A'      │\n",
       "│ schar_var.signed │ True      │\n",
       "└──────────────────┴───────────┘\n"
      ]
     },
     "metadata": {},
     "output_type": "display_data"
    }
   ],
   "source": [
    "table = Table(title=\"SChar Primitive\")\n",
    "\n",
    "table.add_column(\"Name\")\n",
    "table.add_column(\"Value\")\n",
    "\n",
    "table.add_row(\"len(schar_var)\", str(len(schar_var)))\n",
    "table.add_row(\"str(schar_var)\", str(schar_var))\n",
    "table.add_row(\"repr(schar_var)\", repr(schar_var))\n",
    "table.add_row(\"schar_var.value\", str(schar_var.value))\n",
    "table.add_row(\"schar_var.data\", str(schar_var.data))\n",
    "table.add_row(\"schar_var.signed\", str(schar_var.signed))\n",
    "\n",
    "console = Console()\n",
    "console.print(table)"
   ]
  },
  {
   "cell_type": "code",
   "execution_count": null,
   "metadata": {},
   "outputs": [],
   "source": []
  }
 ],
 "metadata": {
  "kernelspec": {
   "display_name": ".venv",
   "language": "python",
   "name": "python3"
  },
  "language_info": {
   "codemirror_mode": {
    "name": "ipython",
    "version": 3
   },
   "file_extension": ".py",
   "mimetype": "text/x-python",
   "name": "python",
   "nbconvert_exporter": "python",
   "pygments_lexer": "ipython3",
   "version": "3.11.9"
  }
 },
 "nbformat": 4,
 "nbformat_minor": 2
}
