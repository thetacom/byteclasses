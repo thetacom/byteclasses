{
 "cells": [
  {
   "cell_type": "markdown",
   "metadata": {},
   "source": [
    "# BitField Primitive"
   ]
  },
  {
   "cell_type": "markdown",
   "metadata": {},
   "source": [
    "Importing BitField class"
   ]
  },
  {
   "cell_type": "code",
   "execution_count": 1,
   "metadata": {},
   "outputs": [],
   "source": [
    "from byteclasses.types.primitives.bitfield import BitField, BitField16, BitField32, BitField64, BitPos"
   ]
  },
  {
   "cell_type": "markdown",
   "metadata": {},
   "source": [
    "Generic BitFields"
   ]
  },
  {
   "cell_type": "code",
   "execution_count": 2,
   "metadata": {},
   "outputs": [],
   "source": [
    "bitfield_types = [BitField, BitField16, BitField32, BitField64]\n",
    "\n",
    "my_bfs = []\n",
    "for i, type_cls in enumerate(bitfield_types):\n",
    "    my_bfs.append(type_cls())"
   ]
  },
  {
   "cell_type": "code",
   "execution_count": 3,
   "metadata": {},
   "outputs": [
    {
     "data": {
      "text/html": [
       "<pre style=\"white-space:pre;overflow-x:auto;line-height:normal;font-family:Menlo,'DejaVu Sans Mono',consolas,'Courier New',monospace\"><span style=\"font-style: italic\">                                                 Generic BitFields                                                 </span>\n",
       "┏━━━━━━━━━━━━━━━┳━━━━━━━━━━━━━━━━━━━━━━━━━━━━━━━━━━━━━━━━━━━━━━━━━━━━━━━━━━━━━━━━━━┳━━━━━━━━━━━━━┳━━━━━━━━━━━━━━━━┓\n",
       "┃<span style=\"font-weight: bold\"> repr()        </span>┃<span style=\"font-weight: bold\"> str()                                                            </span>┃<span style=\"font-weight: bold\"> Type Length </span>┃<span style=\"font-weight: bold\"> Data           </span>┃\n",
       "┡━━━━━━━━━━━━━━━╇━━━━━━━━━━━━━━━━━━━━━━━━━━━━━━━━━━━━━━━━━━━━━━━━━━━━━━━━━━━━━━━━━━╇━━━━━━━━━━━━━╇━━━━━━━━━━━━━━━━┩\n",
       "│<span style=\"color: #008080; text-decoration-color: #008080\"> BitField(dat… </span>│<span style=\"color: #800080; text-decoration-color: #800080\"> 00000000                                                         </span>│      1      │ b'\\x00'        │\n",
       "│<span style=\"color: #008080; text-decoration-color: #008080\"> BitField16(d… </span>│<span style=\"color: #800080; text-decoration-color: #800080\"> 0000000000000000                                                 </span>│      2      │ b'\\x00\\x00'    │\n",
       "│<span style=\"color: #008080; text-decoration-color: #008080\"> BitField32(d… </span>│<span style=\"color: #800080; text-decoration-color: #800080\"> 00000000000000000000000000000000                                 </span>│      4      │ b'\\x00\\x00\\x0… │\n",
       "│<span style=\"color: #008080; text-decoration-color: #008080\"> BitField64(d… </span>│<span style=\"color: #800080; text-decoration-color: #800080\"> 0000000000000000000000000000000000000000000000000000000000000000 </span>│      8      │ b'\\x00\\x00\\x0… │\n",
       "└───────────────┴──────────────────────────────────────────────────────────────────┴─────────────┴────────────────┘\n",
       "</pre>\n"
      ],
      "text/plain": [
       "\u001b[3m                                                 Generic BitFields                                                 \u001b[0m\n",
       "┏━━━━━━━━━━━━━━━┳━━━━━━━━━━━━━━━━━━━━━━━━━━━━━━━━━━━━━━━━━━━━━━━━━━━━━━━━━━━━━━━━━━┳━━━━━━━━━━━━━┳━━━━━━━━━━━━━━━━┓\n",
       "┃\u001b[1m \u001b[0m\u001b[1mrepr()       \u001b[0m\u001b[1m \u001b[0m┃\u001b[1m \u001b[0m\u001b[1mstr()                                                           \u001b[0m\u001b[1m \u001b[0m┃\u001b[1m \u001b[0m\u001b[1mType Length\u001b[0m\u001b[1m \u001b[0m┃\u001b[1m \u001b[0m\u001b[1mData          \u001b[0m\u001b[1m \u001b[0m┃\n",
       "┡━━━━━━━━━━━━━━━╇━━━━━━━━━━━━━━━━━━━━━━━━━━━━━━━━━━━━━━━━━━━━━━━━━━━━━━━━━━━━━━━━━━╇━━━━━━━━━━━━━╇━━━━━━━━━━━━━━━━┩\n",
       "│\u001b[36m \u001b[0m\u001b[36mBitField(dat…\u001b[0m\u001b[36m \u001b[0m│\u001b[35m \u001b[0m\u001b[35m00000000                                                        \u001b[0m\u001b[35m \u001b[0m│      1      │ b'\\x00'        │\n",
       "│\u001b[36m \u001b[0m\u001b[36mBitField16(d…\u001b[0m\u001b[36m \u001b[0m│\u001b[35m \u001b[0m\u001b[35m0000000000000000                                                \u001b[0m\u001b[35m \u001b[0m│      2      │ b'\\x00\\x00'    │\n",
       "│\u001b[36m \u001b[0m\u001b[36mBitField32(d…\u001b[0m\u001b[36m \u001b[0m│\u001b[35m \u001b[0m\u001b[35m00000000000000000000000000000000                                \u001b[0m\u001b[35m \u001b[0m│      4      │ b'\\x00\\x00\\x0… │\n",
       "│\u001b[36m \u001b[0m\u001b[36mBitField64(d…\u001b[0m\u001b[36m \u001b[0m│\u001b[35m \u001b[0m\u001b[35m0000000000000000000000000000000000000000000000000000000000000000\u001b[0m\u001b[35m \u001b[0m│      8      │ b'\\x00\\x00\\x0… │\n",
       "└───────────────┴──────────────────────────────────────────────────────────────────┴─────────────┴────────────────┘\n"
      ]
     },
     "metadata": {},
     "output_type": "display_data"
    }
   ],
   "source": [
    "from rich.console import Console\n",
    "from rich.table import Table\n",
    "\n",
    "table = Table(title=\"Generic BitFields\")\n",
    "\n",
    "table.add_column(\"repr()\", style=\"cyan\")\n",
    "table.add_column(\"str()\", style=\"magenta\", no_wrap=True)\n",
    "table.add_column(\"Type Length\", justify=\"center\")\n",
    "table.add_column(\"Data\")\n",
    "\n",
    "for var in my_bfs:\n",
    "    table.add_row(repr(var), str(var), str(len(var)), str(var.data))\n",
    "\n",
    "console = Console()\n",
    "console.print(table)"
   ]
  },
  {
   "cell_type": "markdown",
   "metadata": {},
   "source": [
    "Bit values can be accesed using several methods."
   ]
  },
  {
   "cell_type": "markdown",
   "metadata": {},
   "source": [
    "1. Using the `get_bit(idx)` or `set_bit(idx, value)` methods"
   ]
  },
  {
   "cell_type": "code",
   "execution_count": 4,
   "metadata": {},
   "outputs": [],
   "source": [
    "bf = BitField()\n",
    "bf.set_bit(0)\n",
    "bf.set_bit(7)"
   ]
  },
  {
   "cell_type": "code",
   "execution_count": 5,
   "metadata": {},
   "outputs": [
    {
     "name": "stdout",
     "output_type": "stream",
     "text": [
      "True True\n",
      "10000001\n"
     ]
    }
   ],
   "source": [
    "print(bf.get_bit(0), bf.get_bit(7))\n",
    "print(bf)"
   ]
  },
  {
   "cell_type": "markdown",
   "metadata": {},
   "source": [
    "2. or via instance indexing"
   ]
  },
  {
   "cell_type": "code",
   "execution_count": 6,
   "metadata": {},
   "outputs": [
    {
     "name": "stdout",
     "output_type": "stream",
     "text": [
      "11100001\n"
     ]
    }
   ],
   "source": [
    "bf[1] = True\n",
    "bf[2] = True\n",
    "print(bf)"
   ]
  },
  {
   "cell_type": "code",
   "execution_count": 7,
   "metadata": {},
   "outputs": [
    {
     "name": "stdout",
     "output_type": "stream",
     "text": [
      "True False True\n"
     ]
    }
   ],
   "source": [
    "print(bf[2],bf[3], bf[-1])"
   ]
  },
  {
   "cell_type": "markdown",
   "metadata": {},
   "source": [
    "Subclassing the `BitField` class allows multi-byte bitfields and named bit positions."
   ]
  },
  {
   "cell_type": "code",
   "execution_count": 8,
   "metadata": {},
   "outputs": [],
   "source": [
    "class MultiBitField(BitField):\n",
    "    byte_length = 2\n",
    "    first = BitPos(0)\n",
    "    last = BitPos(15)"
   ]
  },
  {
   "cell_type": "code",
   "execution_count": 9,
   "metadata": {},
   "outputs": [
    {
     "name": "stdout",
     "output_type": "stream",
     "text": [
      "0000000000000000\n"
     ]
    }
   ],
   "source": [
    "mbf = MultiBitField()\n",
    "print(mbf)"
   ]
  },
  {
   "cell_type": "markdown",
   "metadata": {},
   "source": [
    "Named bits can be used to get or set the bit position specified when instantiating the `BitPos` class member."
   ]
  },
  {
   "cell_type": "code",
   "execution_count": 10,
   "metadata": {},
   "outputs": [],
   "source": [
    "mbf.first = True\n",
    "mbf.last = True"
   ]
  },
  {
   "cell_type": "code",
   "execution_count": 11,
   "metadata": {},
   "outputs": [
    {
     "name": "stdout",
     "output_type": "stream",
     "text": [
      "1000000000000001 True True\n",
      "{'first': True, 'last': True}\n"
     ]
    }
   ],
   "source": [
    "print(mbf, mbf.first, mbf.last)\n",
    "print(mbf.flags)"
   ]
  },
  {
   "cell_type": "code",
   "execution_count": null,
   "metadata": {},
   "outputs": [],
   "source": []
  }
 ],
 "metadata": {
  "kernelspec": {
   "display_name": ".venv",
   "language": "python",
   "name": "python3"
  },
  "language_info": {
   "codemirror_mode": {
    "name": "ipython",
    "version": 3
   },
   "file_extension": ".py",
   "mimetype": "text/x-python",
   "name": "python",
   "nbconvert_exporter": "python",
   "pygments_lexer": "ipython3",
   "version": "3.11.9"
  }
 },
 "nbformat": 4,
 "nbformat_minor": 2
}
