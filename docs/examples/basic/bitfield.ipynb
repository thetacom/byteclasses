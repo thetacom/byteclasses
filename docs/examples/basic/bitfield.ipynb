{
 "cells": [
  {
   "cell_type": "markdown",
   "metadata": {},
   "source": [
    "# BitField Primitive Examples"
   ]
  },
  {
   "cell_type": "code",
   "execution_count": 2,
   "metadata": {},
   "outputs": [],
   "source": [
    "from byteclasses.types.primitives.bit_pos import BitPos\n",
    "from byteclasses.types.primitives.bitfield import BitField"
   ]
  },
  {
   "cell_type": "code",
   "execution_count": 3,
   "metadata": {},
   "outputs": [
    {
     "name": "stdout",
     "output_type": "stream",
     "text": [
      "BitField(byte_length=1, data=bytearray(b'\\x00'))\n",
      "['0b0']\n",
      "True\n",
      "['0b110100']\n"
     ]
    },
    {
     "data": {
      "text/plain": [
       "\"BitField(byte_length=1, data=bytearray(b'4'))\""
      ]
     },
     "execution_count": 3,
     "metadata": {},
     "output_type": "execute_result"
    }
   ],
   "source": [
    "b = BitField()\n",
    "print(repr(b))\n",
    "\n",
    "print([bin(byte_) for byte_ in b.data])\n",
    "b.get_bit(1)\n",
    "b.set_bit(2)\n",
    "b.set_bit(4)\n",
    "b.set_bit(5)\n",
    "print(b[5])\n",
    "print([bin(byte_) for byte_ in b.data])\n",
    "repr(b)\n",
    "\"0010110\""
   ]
  },
  {
   "cell_type": "code",
   "execution_count": 4,
   "metadata": {},
   "outputs": [
    {
     "name": "stdout",
     "output_type": "stream",
     "text": [
      "False\n",
      "CustomBitField(byte_length=2, data=bytearray(b'\\x00\\x00'))\n",
      "c.first=False\n",
      "CustomBitField(byte_length=2, data=bytearray(b'\\x01\\x80'))\n",
      "c.first=True\n",
      "['0b1', '0b10000000']\n",
      "True\n"
     ]
    }
   ],
   "source": [
    "class CustomBitField(BitField):\n",
    "    byte_length = 2\n",
    "    first = BitPos(0)\n",
    "    last = BitPos(15)\n",
    "\n",
    "c = CustomBitField()\n",
    "print(c.first)\n",
    "print(repr(c))\n",
    "print(f\"{c.first=}\")\n",
    "c.first = True\n",
    "c.last = True\n",
    "print(repr(c))\n",
    "print(f\"{c.first=}\")\n",
    "print([bin(byte_) for byte_ in c.data])\n",
    "print(c[-1])"
   ]
  },
  {
   "cell_type": "code",
   "execution_count": null,
   "metadata": {},
   "outputs": [],
   "source": []
  },
  {
   "cell_type": "code",
   "execution_count": null,
   "metadata": {},
   "outputs": [],
   "source": []
  }
 ],
 "metadata": {
  "kernelspec": {
   "display_name": ".venv",
   "language": "python",
   "name": "python3"
  },
  "language_info": {
   "codemirror_mode": {
    "name": "ipython",
    "version": 3
   },
   "file_extension": ".py",
   "mimetype": "text/x-python",
   "name": "python",
   "nbconvert_exporter": "python",
   "pygments_lexer": "ipython3",
   "version": "3.11.9"
  }
 },
 "nbformat": 4,
 "nbformat_minor": 2
}
