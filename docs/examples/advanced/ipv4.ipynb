{
 "cells": [
  {
   "cell_type": "markdown",
   "metadata": {},
   "source": [
    "# IPv4 Header"
   ]
  },
  {
   "cell_type": "code",
   "execution_count": 1,
   "metadata": {},
   "outputs": [],
   "source": [
    "from byteclasses.headers.network.ipv4 import IPv4Header\n",
    "from rich.console import Console\n",
    "from rich.table import Table"
   ]
  },
  {
   "cell_type": "code",
   "execution_count": 2,
   "metadata": {},
   "outputs": [],
   "source": [
    "ipv4_hdr = IPv4Header()\n",
    "data = bytearray(b\"\\x45\\x00\\x00\\x34\\x1d\\x12\\x40\\x00\\x80\\x06\\xcb\\xc3\\xc0\\xa8\\xc8\\x87\\xc0\\xa8\\xc8\\x15\")\n",
    "ipv4_hdr.attach(memoryview(data))"
   ]
  },
  {
   "cell_type": "code",
   "execution_count": 3,
   "metadata": {},
   "outputs": [
    {
     "data": {
      "text/html": [
       "<pre style=\"white-space:pre;overflow-x:auto;line-height:normal;font-family:Menlo,'DejaVu Sans Mono',consolas,'Courier New',monospace\"><span style=\"font-style: italic\">                                                    IPv4 Header                                                    </span>\n",
       "┏━━━━━━━━━━━━━━━━━━━━━━━━━━━━━━━━━━━━┳━━━━━━━━━━━━━━━━━━━━━━━━━━━━━━━━━━━━━━━━━━━━━━━━━━━━━━━━━━━━━━━━━━━━━━━━━━━━┓\n",
       "┃<span style=\"font-weight: bold\"> Name                               </span>┃<span style=\"font-weight: bold\"> Value                                                                      </span>┃\n",
       "┡━━━━━━━━━━━━━━━━━━━━━━━━━━━━━━━━━━━━╇━━━━━━━━━━━━━━━━━━━━━━━━━━━━━━━━━━━━━━━━━━━━━━━━━━━━━━━━━━━━━━━━━━━━━━━━━━━━┩\n",
       "│ len(ipv4_hdr)                      │ 20                                                                         │\n",
       "│ str(ipv4_hdr)                      │ IPv4Header(ver_ihl=VerIhl(data=b'E'), dscp_ecn=DscpEcn(data=b'\\x00'),      │\n",
       "│                                    │ total_length=UInt16(52), identification=UInt16(7442),                      │\n",
       "│                                    │ flags_off=FlagsOff(data=b'@\\x00'), time_to_live=UInt8(128),                │\n",
       "│                                    │ protocol=UInt8(6), header_checksum=UInt16(52163),                          │\n",
       "│                                    │ src_ip=IPv4Addr(uint8=[UInt8(192), UInt8(168), UInt8(200), UInt8(135)],    │\n",
       "│                                    │ uint32=UInt32(3232286855)), dst_ip=IPv4Addr(uint8=[UInt8(192), UInt8(168), │\n",
       "│                                    │ UInt8(200), UInt8(21)], uint32=UInt32(3232286741)))                        │\n",
       "│ repr(ipv4_hdr)                     │ IPv4Header(ver_ihl=VerIhl(data=b'E'), dscp_ecn=DscpEcn(data=b'\\x00'),      │\n",
       "│                                    │ total_length=UInt16(52), identification=UInt16(7442),                      │\n",
       "│                                    │ flags_off=FlagsOff(data=b'@\\x00'), time_to_live=UInt8(128),                │\n",
       "│                                    │ protocol=UInt8(6), header_checksum=UInt16(52163),                          │\n",
       "│                                    │ src_ip=IPv4Addr(uint8=[UInt8(192), UInt8(168), UInt8(200), UInt8(135)],    │\n",
       "│                                    │ uint32=UInt32(3232286855)), dst_ip=IPv4Addr(uint8=[UInt8(192), UInt8(168), │\n",
       "│                                    │ UInt8(200), UInt8(21)], uint32=UInt32(3232286741)))                        │\n",
       "│ ipv4_hdr.ver_ihl                   │ 10100010                                                                   │\n",
       "│ ipv4_hdr.ver_ihl.version           │ 5                                                                          │\n",
       "│ ipv4_hdr.ver_ihl.ihl               │ 4                                                                          │\n",
       "│ ipv4_hdr.dscp_ecn                  │ 00000000                                                                   │\n",
       "│ ipv4_hdr.dscp_ecn.dscp             │ 0                                                                          │\n",
       "│ ipv4_hdr.dscp_ecn.ecn              │ 0                                                                          │\n",
       "│ ipv4_hdr.identification            │ 7442                                                                       │\n",
       "│ ipv4_hdr.flags_off                 │ 0000001000000000                                                           │\n",
       "│ ipv4_hdr.flags_off.flags           │ 0                                                                          │\n",
       "│ ipv4_hdr.flags_off.fragment_offset │ 8                                                                          │\n",
       "│ ipv4_hdr.time_to_live              │ 128                                                                        │\n",
       "│ ipv4_hdr.protocol                  │ 6                                                                          │\n",
       "│ ipv4_hdr.header_checksum           │ 52163                                                                      │\n",
       "│ ipv4_hdr.src_ip                    │ IPv4Addr(uint8=[UInt8(192), UInt8(168), UInt8(200), UInt8(135)],           │\n",
       "│                                    │ uint32=UInt32(3232286855))                                                 │\n",
       "│ ipv4_hdr.dst_ip                    │ IPv4Addr(uint8=[UInt8(192), UInt8(168), UInt8(200), UInt8(21)],            │\n",
       "│                                    │ uint32=UInt32(3232286741))                                                 │\n",
       "└────────────────────────────────────┴────────────────────────────────────────────────────────────────────────────┘\n",
       "</pre>\n"
      ],
      "text/plain": [
       "\u001b[3m                                                    IPv4 Header                                                    \u001b[0m\n",
       "┏━━━━━━━━━━━━━━━━━━━━━━━━━━━━━━━━━━━━┳━━━━━━━━━━━━━━━━━━━━━━━━━━━━━━━━━━━━━━━━━━━━━━━━━━━━━━━━━━━━━━━━━━━━━━━━━━━━┓\n",
       "┃\u001b[1m \u001b[0m\u001b[1mName                              \u001b[0m\u001b[1m \u001b[0m┃\u001b[1m \u001b[0m\u001b[1mValue                                                                     \u001b[0m\u001b[1m \u001b[0m┃\n",
       "┡━━━━━━━━━━━━━━━━━━━━━━━━━━━━━━━━━━━━╇━━━━━━━━━━━━━━━━━━━━━━━━━━━━━━━━━━━━━━━━━━━━━━━━━━━━━━━━━━━━━━━━━━━━━━━━━━━━┩\n",
       "│ len(ipv4_hdr)                      │ 20                                                                         │\n",
       "│ str(ipv4_hdr)                      │ IPv4Header(ver_ihl=VerIhl(data=b'E'), dscp_ecn=DscpEcn(data=b'\\x00'),      │\n",
       "│                                    │ total_length=UInt16(52), identification=UInt16(7442),                      │\n",
       "│                                    │ flags_off=FlagsOff(data=b'@\\x00'), time_to_live=UInt8(128),                │\n",
       "│                                    │ protocol=UInt8(6), header_checksum=UInt16(52163),                          │\n",
       "│                                    │ src_ip=IPv4Addr(uint8=[UInt8(192), UInt8(168), UInt8(200), UInt8(135)],    │\n",
       "│                                    │ uint32=UInt32(3232286855)), dst_ip=IPv4Addr(uint8=[UInt8(192), UInt8(168), │\n",
       "│                                    │ UInt8(200), UInt8(21)], uint32=UInt32(3232286741)))                        │\n",
       "│ repr(ipv4_hdr)                     │ IPv4Header(ver_ihl=VerIhl(data=b'E'), dscp_ecn=DscpEcn(data=b'\\x00'),      │\n",
       "│                                    │ total_length=UInt16(52), identification=UInt16(7442),                      │\n",
       "│                                    │ flags_off=FlagsOff(data=b'@\\x00'), time_to_live=UInt8(128),                │\n",
       "│                                    │ protocol=UInt8(6), header_checksum=UInt16(52163),                          │\n",
       "│                                    │ src_ip=IPv4Addr(uint8=[UInt8(192), UInt8(168), UInt8(200), UInt8(135)],    │\n",
       "│                                    │ uint32=UInt32(3232286855)), dst_ip=IPv4Addr(uint8=[UInt8(192), UInt8(168), │\n",
       "│                                    │ UInt8(200), UInt8(21)], uint32=UInt32(3232286741)))                        │\n",
       "│ ipv4_hdr.ver_ihl                   │ 10100010                                                                   │\n",
       "│ ipv4_hdr.ver_ihl.version           │ 5                                                                          │\n",
       "│ ipv4_hdr.ver_ihl.ihl               │ 4                                                                          │\n",
       "│ ipv4_hdr.dscp_ecn                  │ 00000000                                                                   │\n",
       "│ ipv4_hdr.dscp_ecn.dscp             │ 0                                                                          │\n",
       "│ ipv4_hdr.dscp_ecn.ecn              │ 0                                                                          │\n",
       "│ ipv4_hdr.identification            │ 7442                                                                       │\n",
       "│ ipv4_hdr.flags_off                 │ 0000001000000000                                                           │\n",
       "│ ipv4_hdr.flags_off.flags           │ 0                                                                          │\n",
       "│ ipv4_hdr.flags_off.fragment_offset │ 8                                                                          │\n",
       "│ ipv4_hdr.time_to_live              │ 128                                                                        │\n",
       "│ ipv4_hdr.protocol                  │ 6                                                                          │\n",
       "│ ipv4_hdr.header_checksum           │ 52163                                                                      │\n",
       "│ ipv4_hdr.src_ip                    │ IPv4Addr(uint8=[UInt8(192), UInt8(168), UInt8(200), UInt8(135)],           │\n",
       "│                                    │ uint32=UInt32(3232286855))                                                 │\n",
       "│ ipv4_hdr.dst_ip                    │ IPv4Addr(uint8=[UInt8(192), UInt8(168), UInt8(200), UInt8(21)],            │\n",
       "│                                    │ uint32=UInt32(3232286741))                                                 │\n",
       "└────────────────────────────────────┴────────────────────────────────────────────────────────────────────────────┘\n"
      ]
     },
     "metadata": {},
     "output_type": "display_data"
    }
   ],
   "source": [
    "table = Table(title=\"IPv4 Header\")\n",
    "\n",
    "table.add_column(\"Name\")\n",
    "table.add_column(\"Value\")\n",
    "\n",
    "table.add_row(\"len(ipv4_hdr)\", str(len(ipv4_hdr)))\n",
    "table.add_row(\"str(ipv4_hdr)\", str(ipv4_hdr))\n",
    "table.add_row(\"repr(ipv4_hdr)\", repr(ipv4_hdr))\n",
    "table.add_row(\"ipv4_hdr.ver_ihl\", str(ipv4_hdr.ver_ihl))\n",
    "table.add_row(\"ipv4_hdr.ver_ihl.version\", str(ipv4_hdr.ver_ihl.version))\n",
    "table.add_row(\"ipv4_hdr.ver_ihl.ihl\", str(ipv4_hdr.ver_ihl.ihl))\n",
    "table.add_row(\"ipv4_hdr.dscp_ecn\", str(ipv4_hdr.dscp_ecn))\n",
    "table.add_row(\"ipv4_hdr.dscp_ecn.dscp\", str(ipv4_hdr.dscp_ecn.dscp))\n",
    "table.add_row(\"ipv4_hdr.dscp_ecn.ecn\", str(ipv4_hdr.dscp_ecn.ecn))\n",
    "table.add_row(\"ipv4_hdr.identification\", str(ipv4_hdr.identification))\n",
    "table.add_row(\"ipv4_hdr.flags_off\", str(ipv4_hdr.flags_off))\n",
    "table.add_row(\"ipv4_hdr.flags_off.flags\", str(ipv4_hdr.flags_off.flags))\n",
    "table.add_row(\"ipv4_hdr.flags_off.fragment_offset\", str(ipv4_hdr.flags_off.fragment_offset))\n",
    "table.add_row(\"ipv4_hdr.time_to_live\", str(ipv4_hdr.time_to_live))\n",
    "table.add_row(\"ipv4_hdr.protocol\", str(ipv4_hdr.protocol))\n",
    "table.add_row(\"ipv4_hdr.header_checksum\", str(ipv4_hdr.header_checksum))\n",
    "table.add_row(\"ipv4_hdr.src_ip\", str(ipv4_hdr.src_ip))\n",
    "table.add_row(\"ipv4_hdr.dst_ip\", str(ipv4_hdr.dst_ip))\n",
    "\n",
    "console = Console()\n",
    "console.print(table)"
   ]
  },
  {
   "cell_type": "code",
   "execution_count": 4,
   "metadata": {},
   "outputs": [
    {
     "name": "stdout",
     "output_type": "stream",
     "text": [
      "0xc0a80101 0x7f000001\n",
      "bytearray(b'\\xc0\\xa8\\x01\\x01') bytearray(b'\\x7f\\x00\\x00\\x01')\n"
     ]
    }
   ],
   "source": [
    "ipv4_hdr.src_ip.uint8[:] = [192,168,1,1]\n",
    "ipv4_hdr.dst_ip.uint8[:] = [127, 0, 0, 1]\n",
    "print(hex(ipv4_hdr.src_ip.uint32), hex(ipv4_hdr.dst_ip.uint32))\n",
    "print(ipv4_hdr.src_ip.data, ipv4_hdr.dst_ip.data)"
   ]
  },
  {
   "cell_type": "code",
   "execution_count": 5,
   "metadata": {},
   "outputs": [
    {
     "name": "stdout",
     "output_type": "stream",
     "text": [
      "bytearray(b'\\xde\\xad\\xbe\\xef') bytearray(b'\\xca\\xfe\\xba\\xbe')\n",
      "bytearray(b'E\\x00\\x004\\x1d\\x12@\\x00\\x80\\x06\\xcb\\xc3\\xde\\xad\\xbe\\xef\\xca\\xfe\\xba\\xbe')\n"
     ]
    }
   ],
   "source": [
    "ipv4_hdr.src_ip.uint32 = 0xdeadbeef\n",
    "ipv4_hdr.dst_ip.uint32 = 0xcafebabe\n",
    "print(ipv4_hdr.src_ip.data, ipv4_hdr.dst_ip.data)\n",
    "print(ipv4_hdr.data)"
   ]
  }
 ],
 "metadata": {
  "kernelspec": {
   "display_name": ".venv",
   "language": "python",
   "name": "python3"
  },
  "language_info": {
   "codemirror_mode": {
    "name": "ipython",
    "version": 3
   },
   "file_extension": ".py",
   "mimetype": "text/x-python",
   "name": "python",
   "nbconvert_exporter": "python",
   "pygments_lexer": "ipython3",
   "version": "3.11.9"
  }
 },
 "nbformat": 4,
 "nbformat_minor": 2
}
