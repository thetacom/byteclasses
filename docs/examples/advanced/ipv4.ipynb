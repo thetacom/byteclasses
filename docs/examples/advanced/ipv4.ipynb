{
 "cells": [
  {
   "cell_type": "markdown",
   "metadata": {},
   "source": [
    "# IPv4 Header Structure"
   ]
  },
  {
   "cell_type": "markdown",
   "metadata": {},
   "source": [
    "```c\n",
    "#include <stdint.h>\n",
    "\n",
    "//let the compile handle the endianness for us\n",
    "#define PACK __attribute__((__packed__))\n",
    "#define NET __attribute__((__scalar_storage_order__((\"big-endian\"))))\n",
    "\n",
    "typedef struct PACK NET ipv4_header {\n",
    "        union {\n",
    "                struct PACK NET {\n",
    "                        unsigned int version : 4;\n",
    "                        unsigned int ihl : 4;\n",
    "                };\n",
    "                uint8_t ver_ihl;\n",
    "        };\n",
    "        union {\n",
    "                struct PACK NET {\n",
    "                        unsigned int dscp : 6;\n",
    "                        unsigned int ecn : 2;\n",
    "                };\n",
    "                uint8_t dscp_ecn;\n",
    "        };\n",
    "        uint16_t total_length;\n",
    "        uint16_t identification;\n",
    "        union {\n",
    "                struct PACK NET {\n",
    "                        unsigned int flags : 3;\n",
    "                        unsigned int fragment_offset : 13;\n",
    "                };\n",
    "                uint16_t flags_off;\n",
    "        };\n",
    "        uint8_t time_to_live;\n",
    "        uint8_t protocol;\n",
    "        uint16_t header_checksum;\n",
    "        uint8_t source_ip_address[4];\n",
    "        uint8_t destination_ip_address[4];\n",
    "} ipv4_header;\n",
    "```\n"
   ]
  },
  {
   "cell_type": "code",
   "execution_count": 1,
   "metadata": {},
   "outputs": [],
   "source": [
    "from byteclasses.headers.network.ipv4 import IPv4Header\n",
    "from rich.console import Console\n",
    "from rich.table import Table"
   ]
  },
  {
   "cell_type": "code",
   "execution_count": 2,
   "metadata": {},
   "outputs": [],
   "source": [
    "ipv4_hdr = IPv4Header()"
   ]
  },
  {
   "cell_type": "code",
   "execution_count": 9,
   "metadata": {},
   "outputs": [
    {
     "data": {
      "text/html": [
       "<pre style=\"white-space:pre;overflow-x:auto;line-height:normal;font-family:Menlo,'DejaVu Sans Mono',consolas,'Courier New',monospace\"><span style=\"font-style: italic\">                                                  Ethernet Header                                                  </span>\n",
       "┏━━━━━━━━━━━━━━━━━━━━━━━━━━┳━━━━━━━━━━━━━━━━━━━━━━━━━━━━━━━━━━━━━━━━━━━━━━━━━━━━━━━━━━━━━━━━━━━━━━━━━━━━━━━━━━━━━━┓\n",
       "┃<span style=\"font-weight: bold\"> Name                     </span>┃<span style=\"font-weight: bold\"> Value                                                                                </span>┃\n",
       "┡━━━━━━━━━━━━━━━━━━━━━━━━━━╇━━━━━━━━━━━━━━━━━━━━━━━━━━━━━━━━━━━━━━━━━━━━━━━━━━━━━━━━━━━━━━━━━━━━━━━━━━━━━━━━━━━━━━┩\n",
       "│ len(ipv4_hdr)            │ 20                                                                                   │\n",
       "│ str(ipv4_hdr)            │ IPv4Header(ver_ihl=VerIhl(data=b'\\x00'), dscp_ecn=DscpEcn(data=b'\\x00'),             │\n",
       "│                          │ total_length=UInt16(0), identification=UInt16(0),                                    │\n",
       "│                          │ flags_off=FlagsOff(data=b'\\x00\\x00'), time_to_live=UInt8(0), protocol=UInt8(0),      │\n",
       "│                          │ header_checksum=UInt16(0), src_ip=IPv4Addr(uint8=[UInt8(0), UInt8(0), UInt8(0),      │\n",
       "│                          │ UInt8(1)], uint32=UInt32(1)), dst_ip=IPv4Addr(uint8=[UInt8(0), UInt8(0), UInt8(0),   │\n",
       "│                          │ UInt8(2)], uint32=UInt32(2)))                                                        │\n",
       "│ repr(ipv4_hdr)           │ IPv4Header(ver_ihl=VerIhl(data=b'\\x00'), dscp_ecn=DscpEcn(data=b'\\x00'),             │\n",
       "│                          │ total_length=UInt16(0), identification=UInt16(0),                                    │\n",
       "│                          │ flags_off=FlagsOff(data=b'\\x00\\x00'), time_to_live=UInt8(0), protocol=UInt8(0),      │\n",
       "│                          │ header_checksum=UInt16(0), src_ip=IPv4Addr(uint8=[UInt8(0), UInt8(0), UInt8(0),      │\n",
       "│                          │ UInt8(1)], uint32=UInt32(1)), dst_ip=IPv4Addr(uint8=[UInt8(0), UInt8(0), UInt8(0),   │\n",
       "│                          │ UInt8(2)], uint32=UInt32(2)))                                                        │\n",
       "│ ipv4_hdr.ver_ihl         │ 00000000                                                                             │\n",
       "│ ipv4_hdr.dscp_ecn        │ 00000000                                                                             │\n",
       "│ ipv4_hdr.identification  │ 0                                                                                    │\n",
       "│ ipv4_hdr.flags_off       │ 0000000000000000                                                                     │\n",
       "│ ipv4_hdr.time_to_live    │ 0                                                                                    │\n",
       "│ ipv4_hdr.protocol        │ 0                                                                                    │\n",
       "│ ipv4_hdr.header_checksum │ 0                                                                                    │\n",
       "│ ipv4_hdr.src_ip          │ IPv4Addr(uint8=[UInt8(0), UInt8(0), UInt8(0), UInt8(1)], uint32=UInt32(1))           │\n",
       "│ ipv4_hdr.dst_ip          │ IPv4Addr(uint8=[UInt8(0), UInt8(0), UInt8(0), UInt8(2)], uint32=UInt32(2))           │\n",
       "└──────────────────────────┴──────────────────────────────────────────────────────────────────────────────────────┘\n",
       "</pre>\n"
      ],
      "text/plain": [
       "\u001b[3m                                                  Ethernet Header                                                  \u001b[0m\n",
       "┏━━━━━━━━━━━━━━━━━━━━━━━━━━┳━━━━━━━━━━━━━━━━━━━━━━━━━━━━━━━━━━━━━━━━━━━━━━━━━━━━━━━━━━━━━━━━━━━━━━━━━━━━━━━━━━━━━━┓\n",
       "┃\u001b[1m \u001b[0m\u001b[1mName                    \u001b[0m\u001b[1m \u001b[0m┃\u001b[1m \u001b[0m\u001b[1mValue                                                                               \u001b[0m\u001b[1m \u001b[0m┃\n",
       "┡━━━━━━━━━━━━━━━━━━━━━━━━━━╇━━━━━━━━━━━━━━━━━━━━━━━━━━━━━━━━━━━━━━━━━━━━━━━━━━━━━━━━━━━━━━━━━━━━━━━━━━━━━━━━━━━━━━┩\n",
       "│ len(ipv4_hdr)            │ 20                                                                                   │\n",
       "│ str(ipv4_hdr)            │ IPv4Header(ver_ihl=VerIhl(data=b'\\x00'), dscp_ecn=DscpEcn(data=b'\\x00'),             │\n",
       "│                          │ total_length=UInt16(0), identification=UInt16(0),                                    │\n",
       "│                          │ flags_off=FlagsOff(data=b'\\x00\\x00'), time_to_live=UInt8(0), protocol=UInt8(0),      │\n",
       "│                          │ header_checksum=UInt16(0), src_ip=IPv4Addr(uint8=[UInt8(0), UInt8(0), UInt8(0),      │\n",
       "│                          │ UInt8(1)], uint32=UInt32(1)), dst_ip=IPv4Addr(uint8=[UInt8(0), UInt8(0), UInt8(0),   │\n",
       "│                          │ UInt8(2)], uint32=UInt32(2)))                                                        │\n",
       "│ repr(ipv4_hdr)           │ IPv4Header(ver_ihl=VerIhl(data=b'\\x00'), dscp_ecn=DscpEcn(data=b'\\x00'),             │\n",
       "│                          │ total_length=UInt16(0), identification=UInt16(0),                                    │\n",
       "│                          │ flags_off=FlagsOff(data=b'\\x00\\x00'), time_to_live=UInt8(0), protocol=UInt8(0),      │\n",
       "│                          │ header_checksum=UInt16(0), src_ip=IPv4Addr(uint8=[UInt8(0), UInt8(0), UInt8(0),      │\n",
       "│                          │ UInt8(1)], uint32=UInt32(1)), dst_ip=IPv4Addr(uint8=[UInt8(0), UInt8(0), UInt8(0),   │\n",
       "│                          │ UInt8(2)], uint32=UInt32(2)))                                                        │\n",
       "│ ipv4_hdr.ver_ihl         │ 00000000                                                                             │\n",
       "│ ipv4_hdr.dscp_ecn        │ 00000000                                                                             │\n",
       "│ ipv4_hdr.identification  │ 0                                                                                    │\n",
       "│ ipv4_hdr.flags_off       │ 0000000000000000                                                                     │\n",
       "│ ipv4_hdr.time_to_live    │ 0                                                                                    │\n",
       "│ ipv4_hdr.protocol        │ 0                                                                                    │\n",
       "│ ipv4_hdr.header_checksum │ 0                                                                                    │\n",
       "│ ipv4_hdr.src_ip          │ IPv4Addr(uint8=[UInt8(0), UInt8(0), UInt8(0), UInt8(1)], uint32=UInt32(1))           │\n",
       "│ ipv4_hdr.dst_ip          │ IPv4Addr(uint8=[UInt8(0), UInt8(0), UInt8(0), UInt8(2)], uint32=UInt32(2))           │\n",
       "└──────────────────────────┴──────────────────────────────────────────────────────────────────────────────────────┘\n"
      ]
     },
     "metadata": {},
     "output_type": "display_data"
    }
   ],
   "source": [
    "table = Table(title=\"IPv4 Header\")\n",
    "\n",
    "table.add_column(\"Name\")\n",
    "table.add_column(\"Value\")\n",
    "\n",
    "table.add_row(\"len(ipv4_hdr)\", str(len(ipv4_hdr)))\n",
    "table.add_row(\"str(ipv4_hdr)\", str(ipv4_hdr))\n",
    "table.add_row(\"repr(ipv4_hdr)\", repr(ipv4_hdr))\n",
    "table.add_row(\"ipv4_hdr.ver_ihl\", str(ipv4_hdr.ver_ihl))\n",
    "table.add_row(\"ipv4_hdr.dscp_ecn\", str(ipv4_hdr.dscp_ecn))\n",
    "table.add_row(\"ipv4_hdr.identification\", str(ipv4_hdr.identification))\n",
    "table.add_row(\"ipv4_hdr.flags_off\", str(ipv4_hdr.flags_off))\n",
    "table.add_row(\"ipv4_hdr.time_to_live\", str(ipv4_hdr.time_to_live))\n",
    "table.add_row(\"ipv4_hdr.protocol\", str(ipv4_hdr.protocol))\n",
    "table.add_row(\"ipv4_hdr.header_checksum\", str(ipv4_hdr.header_checksum))\n",
    "table.add_row(\"ipv4_hdr.src_ip\", str(ipv4_hdr.src_ip))\n",
    "table.add_row(\"ipv4_hdr.dst_ip\", str(ipv4_hdr.dst_ip))\n",
    "\n",
    "console = Console()\n",
    "console.print(table)"
   ]
  },
  {
   "cell_type": "code",
   "execution_count": 5,
   "metadata": {},
   "outputs": [
    {
     "name": "stdout",
     "output_type": "stream",
     "text": [
      "0xc0a80101 0x7f000001\n",
      "bytearray(b'\\xc0\\xa8\\x01\\x01') bytearray(b'\\x7f\\x00\\x00\\x01')\n"
     ]
    }
   ],
   "source": [
    "ipv4_hdr.src_ip.uint8[:] = [192,168,1,1]\n",
    "ipv4_hdr.dst_ip.uint8[:] = [127, 0, 0, 1]\n",
    "print(hex(ipv4_hdr.src_ip.uint32), hex(ipv4_hdr.dst_ip.uint32))\n",
    "print(ipv4_hdr.src_ip.data, ipv4_hdr.dst_ip.data)"
   ]
  },
  {
   "cell_type": "code",
   "execution_count": 11,
   "metadata": {},
   "outputs": [
    {
     "name": "stdout",
     "output_type": "stream",
     "text": [
      "bytearray(b'\\xde\\xad\\xbe\\xef') bytearray(b'\\xca\\xfe\\xba\\xbe')\n",
      "bytearray(b'\\x00\\x00\\x00\\x00\\x00\\x00\\x00\\x00\\x00\\x00\\x00\\x00\\xde\\xad\\xbe\\xef\\xca\\xfe\\xba\\xbe')\n"
     ]
    }
   ],
   "source": [
    "ipv4_hdr.src_ip.uint32 = 0xdeadbeef\n",
    "ipv4_hdr.dst_ip.uint32 = 0xcafebabe\n",
    "print(ipv4_hdr.src_ip.data, ipv4_hdr.dst_ip.data)\n",
    "print(ipv4_hdr.data)"
   ]
  }
 ],
 "metadata": {
  "kernelspec": {
   "display_name": ".venv",
   "language": "python",
   "name": "python3"
  },
  "language_info": {
   "codemirror_mode": {
    "name": "ipython",
    "version": 3
   },
   "file_extension": ".py",
   "mimetype": "text/x-python",
   "name": "python",
   "nbconvert_exporter": "python",
   "pygments_lexer": "ipython3",
   "version": "3.11.9"
  }
 },
 "nbformat": 4,
 "nbformat_minor": 2
}
