{
 "cells": [
  {
   "cell_type": "markdown",
   "metadata": {},
   "source": [
    "# TCP Header"
   ]
  },
  {
   "cell_type": "markdown",
   "metadata": {},
   "source": [
    "```c\n",
    "#include <stdint.h>\n",
    "\n",
    "#define PACK __attribute__((__packed__))\n",
    "#define NET __attribute__((__scalar_storage_order__((\"big-endian\"))))\n",
    "\n",
    "typedef struct PACK NET tcp_header {\n",
    "        uint16_t source_port;\n",
    "        uint16_t destination_port;\n",
    "        uint32_t sequence_number;\n",
    "        uint32_t acknowledgement_number;\n",
    "        union {\n",
    "                struct PACK NET {\n",
    "                        unsigned int data_offset : 4;\n",
    "                        unsigned int flags : 12;\n",
    "                };\n",
    "                uint16_t off_flags;\n",
    "        };\n",
    "        uint16_t window_size;\n",
    "        uint16_t checksum;\n",
    "        uint16_t urgent_pointer;\n",
    "} tcp_header;\n",
    "```\n"
   ]
  },
  {
   "cell_type": "code",
   "execution_count": 1,
   "metadata": {},
   "outputs": [],
   "source": [
    "from byteclasses.headers.network.tcp import TCPHeader\n",
    "from rich.console import Console\n",
    "from rich.table import Table"
   ]
  },
  {
   "cell_type": "code",
   "execution_count": 2,
   "metadata": {},
   "outputs": [],
   "source": [
    "tcp_hdr = TCPHeader()"
   ]
  },
  {
   "cell_type": "code",
   "execution_count": 3,
   "metadata": {},
   "outputs": [
    {
     "data": {
      "text/html": [
       "<pre style=\"white-space:pre;overflow-x:auto;line-height:normal;font-family:Menlo,'DejaVu Sans Mono',consolas,'Courier New',monospace\"><span style=\"font-style: italic\">                                                tcp_hdrernet Header                                                </span>\n",
       "┏━━━━━━━━━━━━━━━━━━━━━━━━┳━━━━━━━━━━━━━━━━━━━━━━━━━━━━━━━━━━━━━━━━━━━━━━━━━━━━━━━━━━━━━━━━━━━━━━━━━━━━━━━━━━━━━━━━┓\n",
       "┃<span style=\"font-weight: bold\"> Name                   </span>┃<span style=\"font-weight: bold\"> Value                                                                                  </span>┃\n",
       "┡━━━━━━━━━━━━━━━━━━━━━━━━╇━━━━━━━━━━━━━━━━━━━━━━━━━━━━━━━━━━━━━━━━━━━━━━━━━━━━━━━━━━━━━━━━━━━━━━━━━━━━━━━━━━━━━━━━┩\n",
       "│ len(tcp_hdr)           │ 19                                                                                     │\n",
       "│ str(tcp_hdr)           │ TCPHeader(src_port=UInt16(0), dst_port=UInt16(0), seq_number=UInt32(0),                │\n",
       "│                        │ ack_number=UInt32(0), off_flag=OffFlag(data=b'\\x00'), window_size=UInt16(0),           │\n",
       "│                        │ checksum=UInt16(0), urgent_pointer=UInt16(0))                                          │\n",
       "│ repr(tcp_hdr)          │ TCPHeader(src_port=UInt16(0), dst_port=UInt16(0), seq_number=UInt32(0),                │\n",
       "│                        │ ack_number=UInt32(0), off_flag=OffFlag(data=b'\\x00'), window_size=UInt16(0),           │\n",
       "│                        │ checksum=UInt16(0), urgent_pointer=UInt16(0))                                          │\n",
       "│ tcp_hdr.data           │ bytearray(b'\\x00\\x00\\x00\\x00\\x00\\x00\\x00\\x00\\x00\\x00\\x00\\x00\\x00\\x00\\x00\\x00\\x00\\x00\\… │\n",
       "│ tcp_hdr.src_port       │ 0                                                                                      │\n",
       "│ tcp_hdr.dst_port       │ 0                                                                                      │\n",
       "│ tcp_hdr.seq_number     │ 0                                                                                      │\n",
       "│ tcp_hdr.ack_number     │ 0                                                                                      │\n",
       "│ tcp_hdr.off_flag       │ 00000000                                                                               │\n",
       "│ tcp_hdr.window_size    │ 0                                                                                      │\n",
       "│ tcp_hdr.checksum       │ 0                                                                                      │\n",
       "│ tcp_hdr.urgent_pointer │ 0                                                                                      │\n",
       "└────────────────────────┴────────────────────────────────────────────────────────────────────────────────────────┘\n",
       "</pre>\n"
      ],
      "text/plain": [
       "\u001b[3m                                                tcp_hdrernet Header                                                \u001b[0m\n",
       "┏━━━━━━━━━━━━━━━━━━━━━━━━┳━━━━━━━━━━━━━━━━━━━━━━━━━━━━━━━━━━━━━━━━━━━━━━━━━━━━━━━━━━━━━━━━━━━━━━━━━━━━━━━━━━━━━━━━┓\n",
       "┃\u001b[1m \u001b[0m\u001b[1mName                  \u001b[0m\u001b[1m \u001b[0m┃\u001b[1m \u001b[0m\u001b[1mValue                                                                                 \u001b[0m\u001b[1m \u001b[0m┃\n",
       "┡━━━━━━━━━━━━━━━━━━━━━━━━╇━━━━━━━━━━━━━━━━━━━━━━━━━━━━━━━━━━━━━━━━━━━━━━━━━━━━━━━━━━━━━━━━━━━━━━━━━━━━━━━━━━━━━━━━┩\n",
       "│ len(tcp_hdr)           │ 19                                                                                     │\n",
       "│ str(tcp_hdr)           │ TCPHeader(src_port=UInt16(0), dst_port=UInt16(0), seq_number=UInt32(0),                │\n",
       "│                        │ ack_number=UInt32(0), off_flag=OffFlag(data=b'\\x00'), window_size=UInt16(0),           │\n",
       "│                        │ checksum=UInt16(0), urgent_pointer=UInt16(0))                                          │\n",
       "│ repr(tcp_hdr)          │ TCPHeader(src_port=UInt16(0), dst_port=UInt16(0), seq_number=UInt32(0),                │\n",
       "│                        │ ack_number=UInt32(0), off_flag=OffFlag(data=b'\\x00'), window_size=UInt16(0),           │\n",
       "│                        │ checksum=UInt16(0), urgent_pointer=UInt16(0))                                          │\n",
       "│ tcp_hdr.data           │ bytearray(b'\\x00\\x00\\x00\\x00\\x00\\x00\\x00\\x00\\x00\\x00\\x00\\x00\\x00\\x00\\x00\\x00\\x00\\x00\\… │\n",
       "│ tcp_hdr.src_port       │ 0                                                                                      │\n",
       "│ tcp_hdr.dst_port       │ 0                                                                                      │\n",
       "│ tcp_hdr.seq_number     │ 0                                                                                      │\n",
       "│ tcp_hdr.ack_number     │ 0                                                                                      │\n",
       "│ tcp_hdr.off_flag       │ 00000000                                                                               │\n",
       "│ tcp_hdr.window_size    │ 0                                                                                      │\n",
       "│ tcp_hdr.checksum       │ 0                                                                                      │\n",
       "│ tcp_hdr.urgent_pointer │ 0                                                                                      │\n",
       "└────────────────────────┴────────────────────────────────────────────────────────────────────────────────────────┘\n"
      ]
     },
     "metadata": {},
     "output_type": "display_data"
    }
   ],
   "source": [
    "table = Table(title=\"tcp_hdrernet Header\")\n",
    "\n",
    "table.add_column(\"Name\")\n",
    "table.add_column(\"Value\")\n",
    "\n",
    "table.add_row(\"len(tcp_hdr)\", str(len(tcp_hdr)))\n",
    "table.add_row(\"str(tcp_hdr)\", str(tcp_hdr))\n",
    "table.add_row(\"repr(tcp_hdr)\", repr(tcp_hdr))\n",
    "table.add_row(\"tcp_hdr.data\", str(tcp_hdr.data))\n",
    "table.add_row(\"tcp_hdr.src_port\", str(tcp_hdr.src_port))\n",
    "table.add_row(\"tcp_hdr.dst_port\", str(tcp_hdr.dst_port))\n",
    "table.add_row(\"tcp_hdr.seq_number\", str(tcp_hdr.seq_number))\n",
    "table.add_row(\"tcp_hdr.ack_number\", str(tcp_hdr.ack_number))\n",
    "table.add_row(\"tcp_hdr.off_flag\", str(tcp_hdr.off_flag))\n",
    "table.add_row(\"tcp_hdr.window_size\", str(tcp_hdr.window_size))\n",
    "table.add_row(\"tcp_hdr.checksum\", str(tcp_hdr.checksum))\n",
    "table.add_row(\"tcp_hdr.urgent_pointer\", str(tcp_hdr.urgent_pointer))\n",
    "\n",
    "\n",
    "console = Console()\n",
    "console.print(table)"
   ]
  }
 ],
 "metadata": {
  "kernelspec": {
   "display_name": ".venv",
   "language": "python",
   "name": "python3"
  },
  "language_info": {
   "codemirror_mode": {
    "name": "ipython",
    "version": 3
   },
   "file_extension": ".py",
   "mimetype": "text/x-python",
   "name": "python",
   "nbconvert_exporter": "python",
   "pygments_lexer": "ipython3",
   "version": "3.11.9"
  }
 },
 "nbformat": 4,
 "nbformat_minor": 2
}
