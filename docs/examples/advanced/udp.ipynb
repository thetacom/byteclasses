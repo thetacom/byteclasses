{
 "cells": [
  {
   "cell_type": "markdown",
   "metadata": {},
   "source": [
    "# UDP Header"
   ]
  },
  {
   "cell_type": "code",
   "execution_count": 1,
   "metadata": {},
   "outputs": [],
   "source": [
    "from byteclasses.handlers.network.udp_hdr import UDPHdr\n",
    "from rich.console import Console\n",
    "from rich.table import Table"
   ]
  },
  {
   "cell_type": "code",
   "execution_count": 2,
   "metadata": {},
   "outputs": [],
   "source": [
    "udp_hdr = UDPHdr()\n",
    "data = bytearray(b\"\\x80\\x00\\x04\\xd2\\x00\\x00\\x38\\x45\")\n",
    "udp_hdr.attach(memoryview(data))"
   ]
  },
  {
   "cell_type": "code",
   "execution_count": 3,
   "metadata": {},
   "outputs": [
    {
     "data": {
      "text/html": [
       "<pre style=\"white-space:pre;overflow-x:auto;line-height:normal;font-family:Menlo,'DejaVu Sans Mono',consolas,'Courier New',monospace\"><span style=\"font-style: italic\">                                                    UDP Header                                                     </span>\n",
       "┏━━━━━━━━━━━━━━━━━━┳━━━━━━━━━━━━━━━━━━━━━━━━━━━━━━━━━━━━━━━━━━━━━━━━━━━━━━━━━━━━━━━━━━━━━━━━━━━━━━━━━━━━━━━━━━━━━━┓\n",
       "┃<span style=\"font-weight: bold\"> Name             </span>┃<span style=\"font-weight: bold\"> Value                                                                                        </span>┃\n",
       "┡━━━━━━━━━━━━━━━━━━╇━━━━━━━━━━━━━━━━━━━━━━━━━━━━━━━━━━━━━━━━━━━━━━━━━━━━━━━━━━━━━━━━━━━━━━━━━━━━━━━━━━━━━━━━━━━━━━┩\n",
       "│ len(udp_hdr)     │ 8                                                                                            │\n",
       "│ str(udp_hdr)     │ UDPHdr(src_port=UInt16(32768), dst_port=UInt16(1234), length=UInt16(0),                      │\n",
       "│                  │ checksum=UInt16(14405))                                                                      │\n",
       "│ repr(udp_hdr)    │ UDPHdr(src_port=UInt16(32768), dst_port=UInt16(1234), length=UInt16(0),                      │\n",
       "│                  │ checksum=UInt16(14405))                                                                      │\n",
       "│ udp_hdr.data     │ bytearray(b'\\x80\\x00\\x04\\xd2\\x00\\x008E')                                                     │\n",
       "│ udp_hdr.src_port │ 32768                                                                                        │\n",
       "│ udp_hdr.dst_port │ 1234                                                                                         │\n",
       "│ udp_hdr.length   │ 0                                                                                            │\n",
       "│ udp_hdr.checksum │ 14405                                                                                        │\n",
       "└──────────────────┴──────────────────────────────────────────────────────────────────────────────────────────────┘\n",
       "</pre>\n"
      ],
      "text/plain": [
       "\u001b[3m                                                    UDP Header                                                     \u001b[0m\n",
       "┏━━━━━━━━━━━━━━━━━━┳━━━━━━━━━━━━━━━━━━━━━━━━━━━━━━━━━━━━━━━━━━━━━━━━━━━━━━━━━━━━━━━━━━━━━━━━━━━━━━━━━━━━━━━━━━━━━━┓\n",
       "┃\u001b[1m \u001b[0m\u001b[1mName            \u001b[0m\u001b[1m \u001b[0m┃\u001b[1m \u001b[0m\u001b[1mValue                                                                                       \u001b[0m\u001b[1m \u001b[0m┃\n",
       "┡━━━━━━━━━━━━━━━━━━╇━━━━━━━━━━━━━━━━━━━━━━━━━━━━━━━━━━━━━━━━━━━━━━━━━━━━━━━━━━━━━━━━━━━━━━━━━━━━━━━━━━━━━━━━━━━━━━┩\n",
       "│ len(udp_hdr)     │ 8                                                                                            │\n",
       "│ str(udp_hdr)     │ UDPHdr(src_port=UInt16(32768), dst_port=UInt16(1234), length=UInt16(0),                      │\n",
       "│                  │ checksum=UInt16(14405))                                                                      │\n",
       "│ repr(udp_hdr)    │ UDPHdr(src_port=UInt16(32768), dst_port=UInt16(1234), length=UInt16(0),                      │\n",
       "│                  │ checksum=UInt16(14405))                                                                      │\n",
       "│ udp_hdr.data     │ bytearray(b'\\x80\\x00\\x04\\xd2\\x00\\x008E')                                                     │\n",
       "│ udp_hdr.src_port │ 32768                                                                                        │\n",
       "│ udp_hdr.dst_port │ 1234                                                                                         │\n",
       "│ udp_hdr.length   │ 0                                                                                            │\n",
       "│ udp_hdr.checksum │ 14405                                                                                        │\n",
       "└──────────────────┴──────────────────────────────────────────────────────────────────────────────────────────────┘\n"
      ]
     },
     "metadata": {},
     "output_type": "display_data"
    }
   ],
   "source": [
    "table = Table(title=\"UDP Header\")\n",
    "\n",
    "table.add_column(\"Name\")\n",
    "table.add_column(\"Value\")\n",
    "\n",
    "table.add_row(\"len(udp_hdr)\", str(len(udp_hdr)))\n",
    "table.add_row(\"str(udp_hdr)\", str(udp_hdr))\n",
    "table.add_row(\"repr(udp_hdr)\", repr(udp_hdr))\n",
    "table.add_row(\"udp_hdr.data\", str(udp_hdr.data))\n",
    "table.add_row(\"udp_hdr.src_port\", str(udp_hdr.src_port))\n",
    "table.add_row(\"udp_hdr.dst_port\", str(udp_hdr.dst_port))\n",
    "table.add_row(\"udp_hdr.length\", str(udp_hdr.length))\n",
    "table.add_row(\"udp_hdr.checksum\", str(udp_hdr.checksum))\n",
    "\n",
    "console = Console()\n",
    "console.print(table)"
   ]
  }
 ],
 "metadata": {
  "kernelspec": {
   "display_name": ".venv",
   "language": "python",
   "name": "python3"
  },
  "language_info": {
   "codemirror_mode": {
    "name": "ipython",
    "version": 3
   },
   "file_extension": ".py",
   "mimetype": "text/x-python",
   "name": "python",
   "nbconvert_exporter": "python",
   "pygments_lexer": "ipython3",
   "version": "3.11.9"
  }
 },
 "nbformat": 4,
 "nbformat_minor": 2
}
