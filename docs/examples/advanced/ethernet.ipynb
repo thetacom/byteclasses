{
 "cells": [
  {
   "cell_type": "markdown",
   "metadata": {},
   "source": [
    "# Ethernet Header Structure"
   ]
  },
  {
   "cell_type": "markdown",
   "metadata": {},
   "source": [
    "```c\n",
    "#include <stdint.h>\n",
    "\n",
    "#define PACK __attribute__((__packed__))\n",
    "#define NET __attribute__((__scalar_storage_order__((\"big-endian\"))))\n",
    "\n",
    "typedef struct PACK ethernet_header{\n",
    "        uint8_t destination_mac[6];\n",
    "        uint8_t source_mac[6];\n",
    "        uint16_t ethernet_type;\n",
    "} ethernet_header;\n",
    "```"
   ]
  },
  {
   "cell_type": "code",
   "execution_count": 1,
   "metadata": {},
   "outputs": [],
   "source": [
    "from byteclasses.headers.network.ethernet import Ethernet\n",
    "from rich.console import Console\n",
    "from rich.table import Table"
   ]
  },
  {
   "cell_type": "code",
   "execution_count": 2,
   "metadata": {},
   "outputs": [],
   "source": [
    "eth = Ethernet()\n",
    "eth.src_mac = b\"\\xaa\\xbb\\xcc\\xdd\\xee\\xff\"\n",
    "eth.dst_mac = b\"\\xde\\xad\\xbe\\xef\\x00\\x00\"\n",
    "eth.eth_type = 27\n"
   ]
  },
  {
   "cell_type": "code",
   "execution_count": 3,
   "metadata": {},
   "outputs": [
    {
     "data": {
      "text/html": [
       "<pre style=\"white-space:pre;overflow-x:auto;line-height:normal;font-family:Menlo,'DejaVu Sans Mono',consolas,'Courier New',monospace\"><span style=\"font-style: italic\">                                                  Ethernet Header                                                  </span>\n",
       "┏━━━━━━━━━━━━━━┳━━━━━━━━━━━━━━━━━━━━━━━━━━━━━━━━━━━━━━━━━━━━━━━━━━━━━━━━━━━━━━━━━━━━━━━━━━━━━━━━━━━━━━━━━━━━━━━━━━┓\n",
       "┃<span style=\"font-weight: bold\"> Name         </span>┃<span style=\"font-weight: bold\"> Value                                                                                            </span>┃\n",
       "┡━━━━━━━━━━━━━━╇━━━━━━━━━━━━━━━━━━━━━━━━━━━━━━━━━━━━━━━━━━━━━━━━━━━━━━━━━━━━━━━━━━━━━━━━━━━━━━━━━━━━━━━━━━━━━━━━━━┩\n",
       "│ len(eth)     │ 14                                                                                               │\n",
       "│ str(eth)     │ Ethernet(dst_mac=[UInt8(0), UInt8(0), UInt8(0), UInt8(0), UInt8(0), UInt8(0)],                   │\n",
       "│              │ src_mac=[UInt8(0), UInt8(0), UInt8(0), UInt8(0), UInt8(0), UInt8(0)], eth_type=UInt16(27))       │\n",
       "│ repr(eth)    │ Ethernet(dst_mac=[UInt8(0), UInt8(0), UInt8(0), UInt8(0), UInt8(0), UInt8(0)],                   │\n",
       "│              │ src_mac=[UInt8(0), UInt8(0), UInt8(0), UInt8(0), UInt8(0), UInt8(0)], eth_type=UInt16(27))       │\n",
       "│ eth.data     │ bytearray(b'\\x00\\x00\\x00\\x00\\x00\\x00\\x00\\x00\\x00\\x00\\x00\\x00\\x00\\x1b')                           │\n",
       "│ eth.dst_mac  │ [UInt8(0), UInt8(0), UInt8(0), UInt8(0), UInt8(0), UInt8(0)]                                     │\n",
       "│ eth.src_mac  │ [UInt8(0), UInt8(0), UInt8(0), UInt8(0), UInt8(0), UInt8(0)]                                     │\n",
       "│ eth.eth_type │ 27                                                                                               │\n",
       "└──────────────┴──────────────────────────────────────────────────────────────────────────────────────────────────┘\n",
       "</pre>\n"
      ],
      "text/plain": [
       "\u001b[3m                                                  Ethernet Header                                                  \u001b[0m\n",
       "┏━━━━━━━━━━━━━━┳━━━━━━━━━━━━━━━━━━━━━━━━━━━━━━━━━━━━━━━━━━━━━━━━━━━━━━━━━━━━━━━━━━━━━━━━━━━━━━━━━━━━━━━━━━━━━━━━━━┓\n",
       "┃\u001b[1m \u001b[0m\u001b[1mName        \u001b[0m\u001b[1m \u001b[0m┃\u001b[1m \u001b[0m\u001b[1mValue                                                                                           \u001b[0m\u001b[1m \u001b[0m┃\n",
       "┡━━━━━━━━━━━━━━╇━━━━━━━━━━━━━━━━━━━━━━━━━━━━━━━━━━━━━━━━━━━━━━━━━━━━━━━━━━━━━━━━━━━━━━━━━━━━━━━━━━━━━━━━━━━━━━━━━━┩\n",
       "│ len(eth)     │ 14                                                                                               │\n",
       "│ str(eth)     │ Ethernet(dst_mac=[UInt8(0), UInt8(0), UInt8(0), UInt8(0), UInt8(0), UInt8(0)],                   │\n",
       "│              │ src_mac=[UInt8(0), UInt8(0), UInt8(0), UInt8(0), UInt8(0), UInt8(0)], eth_type=UInt16(27))       │\n",
       "│ repr(eth)    │ Ethernet(dst_mac=[UInt8(0), UInt8(0), UInt8(0), UInt8(0), UInt8(0), UInt8(0)],                   │\n",
       "│              │ src_mac=[UInt8(0), UInt8(0), UInt8(0), UInt8(0), UInt8(0), UInt8(0)], eth_type=UInt16(27))       │\n",
       "│ eth.data     │ bytearray(b'\\x00\\x00\\x00\\x00\\x00\\x00\\x00\\x00\\x00\\x00\\x00\\x00\\x00\\x1b')                           │\n",
       "│ eth.dst_mac  │ [UInt8(0), UInt8(0), UInt8(0), UInt8(0), UInt8(0), UInt8(0)]                                     │\n",
       "│ eth.src_mac  │ [UInt8(0), UInt8(0), UInt8(0), UInt8(0), UInt8(0), UInt8(0)]                                     │\n",
       "│ eth.eth_type │ 27                                                                                               │\n",
       "└──────────────┴──────────────────────────────────────────────────────────────────────────────────────────────────┘\n"
      ]
     },
     "metadata": {},
     "output_type": "display_data"
    }
   ],
   "source": [
    "table = Table(title=\"Ethernet Header\")\n",
    "\n",
    "table.add_column(\"Name\")\n",
    "table.add_column(\"Value\")\n",
    "\n",
    "table.add_row(\"len(eth)\", str(len(eth)))\n",
    "table.add_row(\"str(eth)\", str(eth))\n",
    "table.add_row(\"repr(eth)\", repr(eth))\n",
    "table.add_row(\"eth.data\", str(eth.data))\n",
    "table.add_row(\"eth.dst_mac\", str(eth.dst_mac))\n",
    "table.add_row(\"eth.src_mac\", str(eth.src_mac))\n",
    "table.add_row(\"eth.eth_type\", str(eth.eth_type))\n",
    "\n",
    "console = Console()\n",
    "console.print(table)"
   ]
  }
 ],
 "metadata": {
  "kernelspec": {
   "display_name": ".venv",
   "language": "python",
   "name": "python3"
  },
  "language_info": {
   "codemirror_mode": {
    "name": "ipython",
    "version": 3
   },
   "file_extension": ".py",
   "mimetype": "text/x-python",
   "name": "python",
   "nbconvert_exporter": "python",
   "pygments_lexer": "ipython3",
   "version": "3.11.9"
  }
 },
 "nbformat": 4,
 "nbformat_minor": 2
}
