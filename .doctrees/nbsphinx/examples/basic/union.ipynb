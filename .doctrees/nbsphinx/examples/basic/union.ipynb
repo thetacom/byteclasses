{
 "cells": [
  {
   "cell_type": "markdown",
   "metadata": {},
   "source": [
    "# Union Collection"
   ]
  },
  {
   "cell_type": "code",
   "execution_count": 1,
   "metadata": {
    "execution": {
     "iopub.execute_input": "2024-04-29T21:11:55.661919Z",
     "iopub.status.busy": "2024-04-29T21:11:55.661699Z",
     "iopub.status.idle": "2024-04-29T21:11:55.702476Z",
     "shell.execute_reply": "2024-04-29T21:11:55.701862Z"
    }
   },
   "outputs": [],
   "source": [
    "from byteclasses.print import byteclass_info, byteclass_inspect\n",
    "from byteclasses.types.collections import ByteclassCollection, String, member, union\n",
    "from byteclasses.types.primitives.integers import Int8, Int16, UInt8, UInt16, UInt32, UInt64"
   ]
  },
  {
   "cell_type": "markdown",
   "metadata": {},
   "source": [
    "Basic Union"
   ]
  },
  {
   "cell_type": "code",
   "execution_count": 2,
   "metadata": {
    "execution": {
     "iopub.execute_input": "2024-04-29T21:11:55.705038Z",
     "iopub.status.busy": "2024-04-29T21:11:55.704835Z",
     "iopub.status.idle": "2024-04-29T21:11:55.710364Z",
     "shell.execute_reply": "2024-04-29T21:11:55.709792Z"
    }
   },
   "outputs": [],
   "source": [
    "@union\n",
    "class BasicUnion:\n",
    "    \"\"\"A basic union byteclass.\"\"\"\n",
    "\n",
    "    var1: UInt8\n",
    "    var2: UInt16"
   ]
  },
  {
   "cell_type": "code",
   "execution_count": 3,
   "metadata": {
    "execution": {
     "iopub.execute_input": "2024-04-29T21:11:55.712664Z",
     "iopub.status.busy": "2024-04-29T21:11:55.712468Z",
     "iopub.status.idle": "2024-04-29T21:11:55.735917Z",
     "shell.execute_reply": "2024-04-29T21:11:55.735295Z"
    }
   },
   "outputs": [
    {
     "data": {
      "text/html": [
       "<pre style=\"white-space:pre;overflow-x:auto;line-height:normal;font-family:Menlo,'DejaVu Sans Mono',consolas,'Courier New',monospace\"><span style=\"font-style: italic\">                                    Byteclass Info                                    </span>\n",
       "┏━━━━━━━━━━━━━━━━━━━━━━━━━━┳━━━━━━━━━━━━━━━━━━━━━━━━━━━━━━━━━━━━━━━━━━━━━━━━━━━━━━━━━┓\n",
       "┃<span style=\"font-weight: bold\"> Property                 </span>┃<span style=\"font-weight: bold\"> Value                                                   </span>┃\n",
       "┡━━━━━━━━━━━━━━━━━━━━━━━━━━╇━━━━━━━━━━━━━━━━━━━━━━━━━━━━━━━━━━━━━━━━━━━━━━━━━━━━━━━━━┩\n",
       "│<span style=\"color: #808080; text-decoration-color: #808080\"> </span><span style=\"color: #808080; text-decoration-color: #808080; font-weight: bold\">type()                  </span><span style=\"color: #808080; text-decoration-color: #808080\"> </span>│<span style=\"color: #808080; text-decoration-color: #808080\"> BasicUnion                                              </span>│\n",
       "│<span style=\"color: #ff0000; text-decoration-color: #ff0000\"> </span><span style=\"color: #ff0000; text-decoration-color: #ff0000; font-weight: bold\">is_byteclass()          </span><span style=\"color: #ff0000; text-decoration-color: #ff0000\"> </span>│<span style=\"color: #ff0000; text-decoration-color: #ff0000\"> True                                                    </span>│\n",
       "│<span style=\"color: #00ff00; text-decoration-color: #00ff00\"> </span><span style=\"color: #00ff00; text-decoration-color: #00ff00; font-weight: bold\">is_collection_instance()</span><span style=\"color: #00ff00; text-decoration-color: #00ff00\"> </span>│<span style=\"color: #00ff00; text-decoration-color: #00ff00\"> True                                                    </span>│\n",
       "│<span style=\"color: #ffff00; text-decoration-color: #ffff00\"> </span><span style=\"color: #ffff00; text-decoration-color: #ffff00; font-weight: bold\">is_primitive_instance() </span><span style=\"color: #ffff00; text-decoration-color: #ffff00\"> </span>│<span style=\"color: #ffff00; text-decoration-color: #ffff00\"> False                                                   </span>│\n",
       "│<span style=\"color: #0000ff; text-decoration-color: #0000ff\"> </span><span style=\"color: #0000ff; text-decoration-color: #0000ff; font-weight: bold\">mro                     </span><span style=\"color: #0000ff; text-decoration-color: #0000ff\"> </span>│<span style=\"color: #0000ff; text-decoration-color: #0000ff\"> BasicUnion -&gt; object                                    </span>│\n",
       "│<span style=\"color: #ff00ff; text-decoration-color: #ff00ff\"> </span><span style=\"color: #ff00ff; text-decoration-color: #ff00ff; font-weight: bold\">len()                   </span><span style=\"color: #ff00ff; text-decoration-color: #ff00ff\"> </span>│<span style=\"color: #ff00ff; text-decoration-color: #ff00ff\"> 2                                                       </span>│\n",
       "│<span style=\"color: #00ffff; text-decoration-color: #00ffff\"> </span><span style=\"color: #00ffff; text-decoration-color: #00ffff; font-weight: bold\">str()                   </span><span style=\"color: #00ffff; text-decoration-color: #00ffff\"> </span>│<span style=\"color: #00ffff; text-decoration-color: #00ffff\"> BasicUnion(var1=UInt8(0), var2=UInt16(0))               </span>│\n",
       "│<span style=\"color: #808080; text-decoration-color: #808080\"> </span><span style=\"color: #808080; text-decoration-color: #808080; font-weight: bold\">repr()                  </span><span style=\"color: #808080; text-decoration-color: #808080\"> </span>│<span style=\"color: #808080; text-decoration-color: #808080\"> BasicUnion(byte_order=b'@',data=bytearray(b'\\x00\\x00')) </span>│\n",
       "│<span style=\"color: #ff0000; text-decoration-color: #ff0000\"> </span><span style=\"color: #ff0000; text-decoration-color: #ff0000; font-weight: bold\">.data                   </span><span style=\"color: #ff0000; text-decoration-color: #ff0000\"> </span>│<span style=\"color: #ff0000; text-decoration-color: #ff0000\"> bytearray(b'\\x00\\x00')                                  </span>│\n",
       "└──────────────────────────┴─────────────────────────────────────────────────────────┘\n",
       "</pre>\n"
      ],
      "text/plain": [
       "\u001b[3m                                    Byteclass Info                                    \u001b[0m\n",
       "┏━━━━━━━━━━━━━━━━━━━━━━━━━━┳━━━━━━━━━━━━━━━━━━━━━━━━━━━━━━━━━━━━━━━━━━━━━━━━━━━━━━━━━┓\n",
       "┃\u001b[1m \u001b[0m\u001b[1mProperty                \u001b[0m\u001b[1m \u001b[0m┃\u001b[1m \u001b[0m\u001b[1mValue                                                  \u001b[0m\u001b[1m \u001b[0m┃\n",
       "┡━━━━━━━━━━━━━━━━━━━━━━━━━━╇━━━━━━━━━━━━━━━━━━━━━━━━━━━━━━━━━━━━━━━━━━━━━━━━━━━━━━━━━┩\n",
       "│\u001b[90m \u001b[0m\u001b[1;90mtype()                  \u001b[0m\u001b[90m \u001b[0m│\u001b[90m \u001b[0m\u001b[90mBasicUnion                                             \u001b[0m\u001b[90m \u001b[0m│\n",
       "│\u001b[91m \u001b[0m\u001b[1;91mis_byteclass()          \u001b[0m\u001b[91m \u001b[0m│\u001b[91m \u001b[0m\u001b[91mTrue                                                   \u001b[0m\u001b[91m \u001b[0m│\n",
       "│\u001b[92m \u001b[0m\u001b[1;92mis_collection_instance()\u001b[0m\u001b[92m \u001b[0m│\u001b[92m \u001b[0m\u001b[92mTrue                                                   \u001b[0m\u001b[92m \u001b[0m│\n",
       "│\u001b[93m \u001b[0m\u001b[1;93mis_primitive_instance() \u001b[0m\u001b[93m \u001b[0m│\u001b[93m \u001b[0m\u001b[93mFalse                                                  \u001b[0m\u001b[93m \u001b[0m│\n",
       "│\u001b[94m \u001b[0m\u001b[1;94mmro                     \u001b[0m\u001b[94m \u001b[0m│\u001b[94m \u001b[0m\u001b[94mBasicUnion -> object                                   \u001b[0m\u001b[94m \u001b[0m│\n",
       "│\u001b[95m \u001b[0m\u001b[1;95mlen()                   \u001b[0m\u001b[95m \u001b[0m│\u001b[95m \u001b[0m\u001b[95m2                                                      \u001b[0m\u001b[95m \u001b[0m│\n",
       "│\u001b[96m \u001b[0m\u001b[1;96mstr()                   \u001b[0m\u001b[96m \u001b[0m│\u001b[96m \u001b[0m\u001b[96mBasicUnion(var1=UInt8(0), var2=UInt16(0))              \u001b[0m\u001b[96m \u001b[0m│\n",
       "│\u001b[90m \u001b[0m\u001b[1;90mrepr()                  \u001b[0m\u001b[90m \u001b[0m│\u001b[90m \u001b[0m\u001b[90mBasicUnion(byte_order=b'@',data=bytearray(b'\\x00\\x00'))\u001b[0m\u001b[90m \u001b[0m│\n",
       "│\u001b[91m \u001b[0m\u001b[1;91m.data                   \u001b[0m\u001b[91m \u001b[0m│\u001b[91m \u001b[0m\u001b[91mbytearray(b'\\x00\\x00')                                 \u001b[0m\u001b[91m \u001b[0m│\n",
       "└──────────────────────────┴─────────────────────────────────────────────────────────┘\n"
      ]
     },
     "metadata": {},
     "output_type": "display_data"
    },
    {
     "data": {
      "text/html": [
       "<pre style=\"white-space:pre;overflow-x:auto;line-height:normal;font-family:Menlo,'DejaVu Sans Mono',consolas,'Courier New',monospace\">╭───────────────── Byteclass Inspect ──────────────────╮\n",
       "│      00 01 02 03 04 05 06 07 08 09 0a 0b 0c 0d 0e 0f │\n",
       "│ ---------------------------------------------------- │\n",
       "│ 0x0 <span style=\"color: #c0c0c0; text-decoration-color: #c0c0c0\">|</span><span style=\"color: #808080; text-decoration-color: #808080\">00</span>                                              │\n",
       "│ 0x0 <span style=\"color: #c0c0c0; text-decoration-color: #c0c0c0\">|</span><span style=\"color: #ff0000; text-decoration-color: #ff0000\">00 00</span>                                           │\n",
       "╰──────────────────────────────────────────────────────╯\n",
       "</pre>\n"
      ],
      "text/plain": [
       "╭───────────────── Byteclass Inspect ──────────────────╮\n",
       "│      00 01 02 03 04 05 06 07 08 09 0a 0b 0c 0d 0e 0f │\n",
       "│ ---------------------------------------------------- │\n",
       "│ 0x0 \u001b[37m|\u001b[0m\u001b[90m00\u001b[0m                                              │\n",
       "│ 0x0 \u001b[37m|\u001b[0m\u001b[91m00 00\u001b[0m                                           │\n",
       "╰──────────────────────────────────────────────────────╯\n"
      ]
     },
     "metadata": {},
     "output_type": "display_data"
    },
    {
     "data": {
      "text/html": [
       "<pre style=\"white-space:pre;overflow-x:auto;line-height:normal;font-family:Menlo,'DejaVu Sans Mono',consolas,'Courier New',monospace\"><span style=\"font-style: italic\">      Legend      </span>\n",
       "┏━━━━━━━━┳━━━━━━━┓\n",
       "┃<span style=\"font-weight: bold\"> Member </span>┃<span style=\"font-weight: bold\"> Value </span>┃\n",
       "┡━━━━━━━━╇━━━━━━━┩\n",
       "│<span style=\"color: #808080; text-decoration-color: #808080\"> </span><span style=\"color: #808080; text-decoration-color: #808080; font-weight: bold\">var1  </span><span style=\"color: #808080; text-decoration-color: #808080\"> </span>│<span style=\"color: #808080; text-decoration-color: #808080\"> 0     </span>│\n",
       "│<span style=\"color: #ff0000; text-decoration-color: #ff0000\"> </span><span style=\"color: #ff0000; text-decoration-color: #ff0000; font-weight: bold\">var2  </span><span style=\"color: #ff0000; text-decoration-color: #ff0000\"> </span>│<span style=\"color: #ff0000; text-decoration-color: #ff0000\"> 0     </span>│\n",
       "└────────┴───────┘\n",
       "</pre>\n"
      ],
      "text/plain": [
       "\u001b[3m      Legend      \u001b[0m\n",
       "┏━━━━━━━━┳━━━━━━━┓\n",
       "┃\u001b[1m \u001b[0m\u001b[1mMember\u001b[0m\u001b[1m \u001b[0m┃\u001b[1m \u001b[0m\u001b[1mValue\u001b[0m\u001b[1m \u001b[0m┃\n",
       "┡━━━━━━━━╇━━━━━━━┩\n",
       "│\u001b[90m \u001b[0m\u001b[1;90mvar1  \u001b[0m\u001b[90m \u001b[0m│\u001b[90m \u001b[0m\u001b[90m0    \u001b[0m\u001b[90m \u001b[0m│\n",
       "│\u001b[91m \u001b[0m\u001b[1;91mvar2  \u001b[0m\u001b[91m \u001b[0m│\u001b[91m \u001b[0m\u001b[91m0    \u001b[0m\u001b[91m \u001b[0m│\n",
       "└────────┴───────┘\n"
      ]
     },
     "metadata": {},
     "output_type": "display_data"
    }
   ],
   "source": [
    "bu = BasicUnion()\n",
    "byteclass_info(bu)\n",
    "byteclass_inspect(bu)"
   ]
  },
  {
   "cell_type": "markdown",
   "metadata": {},
   "source": [
    "Large Union Byteclass"
   ]
  },
  {
   "cell_type": "code",
   "execution_count": 4,
   "metadata": {
    "execution": {
     "iopub.execute_input": "2024-04-29T21:11:55.738483Z",
     "iopub.status.busy": "2024-04-29T21:11:55.738105Z",
     "iopub.status.idle": "2024-04-29T21:11:55.744561Z",
     "shell.execute_reply": "2024-04-29T21:11:55.744034Z"
    }
   },
   "outputs": [],
   "source": [
    "@union(byte_order=b\">\")\n",
    "class LargeUnion:\n",
    "    \"\"\"A large union class.\"\"\"\n",
    "\n",
    "    uint64: UInt64\n",
    "    uint32: UInt32\n",
    "    uint16: UInt16\n",
    "    int16: Int16\n",
    "    uint8: UInt8\n",
    "    int8: Int8\n",
    "    string: String = member(\n",
    "        factory=lambda byte_order: String(64, value=\"The quick brown fox jumped over the lazy dog.\")\n",
    "    )"
   ]
  },
  {
   "cell_type": "code",
   "execution_count": 5,
   "metadata": {
    "execution": {
     "iopub.execute_input": "2024-04-29T21:11:55.746857Z",
     "iopub.status.busy": "2024-04-29T21:11:55.746481Z",
     "iopub.status.idle": "2024-04-29T21:11:55.764112Z",
     "shell.execute_reply": "2024-04-29T21:11:55.763581Z"
    }
   },
   "outputs": [
    {
     "data": {
      "text/html": [
       "<pre style=\"white-space:pre;overflow-x:auto;line-height:normal;font-family:Menlo,'DejaVu Sans Mono',consolas,'Courier New',monospace\"><span style=\"font-style: italic\">                                                  Byteclass Info                                                   </span>\n",
       "┏━━━━━━━━━━━━━━━━━━━━━━━━━━┳━━━━━━━━━━━━━━━━━━━━━━━━━━━━━━━━━━━━━━━━━━━━━━━━━━━━━━━━━━━━━━━━━━━━━━━━━━━━━━━━━━━━━━┓\n",
       "┃<span style=\"font-weight: bold\"> Property                 </span>┃<span style=\"font-weight: bold\"> Value                                                                                </span>┃\n",
       "┡━━━━━━━━━━━━━━━━━━━━━━━━━━╇━━━━━━━━━━━━━━━━━━━━━━━━━━━━━━━━━━━━━━━━━━━━━━━━━━━━━━━━━━━━━━━━━━━━━━━━━━━━━━━━━━━━━━┩\n",
       "│<span style=\"color: #808080; text-decoration-color: #808080\"> </span><span style=\"color: #808080; text-decoration-color: #808080; font-weight: bold\">type()                  </span><span style=\"color: #808080; text-decoration-color: #808080\"> </span>│<span style=\"color: #808080; text-decoration-color: #808080\"> LargeUnion                                                                           </span>│\n",
       "│<span style=\"color: #ff0000; text-decoration-color: #ff0000\"> </span><span style=\"color: #ff0000; text-decoration-color: #ff0000; font-weight: bold\">is_byteclass()          </span><span style=\"color: #ff0000; text-decoration-color: #ff0000\"> </span>│<span style=\"color: #ff0000; text-decoration-color: #ff0000\"> True                                                                                 </span>│\n",
       "│<span style=\"color: #00ff00; text-decoration-color: #00ff00\"> </span><span style=\"color: #00ff00; text-decoration-color: #00ff00; font-weight: bold\">is_collection_instance()</span><span style=\"color: #00ff00; text-decoration-color: #00ff00\"> </span>│<span style=\"color: #00ff00; text-decoration-color: #00ff00\"> True                                                                                 </span>│\n",
       "│<span style=\"color: #ffff00; text-decoration-color: #ffff00\"> </span><span style=\"color: #ffff00; text-decoration-color: #ffff00; font-weight: bold\">is_primitive_instance() </span><span style=\"color: #ffff00; text-decoration-color: #ffff00\"> </span>│<span style=\"color: #ffff00; text-decoration-color: #ffff00\"> False                                                                                </span>│\n",
       "│<span style=\"color: #0000ff; text-decoration-color: #0000ff\"> </span><span style=\"color: #0000ff; text-decoration-color: #0000ff; font-weight: bold\">mro                     </span><span style=\"color: #0000ff; text-decoration-color: #0000ff\"> </span>│<span style=\"color: #0000ff; text-decoration-color: #0000ff\"> LargeUnion -&gt; object                                                                 </span>│\n",
       "│<span style=\"color: #ff00ff; text-decoration-color: #ff00ff\"> </span><span style=\"color: #ff00ff; text-decoration-color: #ff00ff; font-weight: bold\">len()                   </span><span style=\"color: #ff00ff; text-decoration-color: #ff00ff\"> </span>│<span style=\"color: #ff00ff; text-decoration-color: #ff00ff\"> 64                                                                                   </span>│\n",
       "│<span style=\"color: #00ffff; text-decoration-color: #00ffff\"> </span><span style=\"color: #00ffff; text-decoration-color: #00ffff; font-weight: bold\">str()                   </span><span style=\"color: #00ffff; text-decoration-color: #00ffff\"> </span>│<span style=\"color: #00ffff; text-decoration-color: #00ffff\"> LargeUnion(uint64=UInt64(4616189635234627586), uint32=UInt32(1074790404),            </span>│\n",
       "│<span style=\"color: #00ffff; text-decoration-color: #00ffff\">                          </span>│<span style=\"color: #00ffff; text-decoration-color: #00ffff\"> uint16=UInt16(16400), int16=Int16(16400), uint8=UInt8(64), int8=Int8(64),            </span>│\n",
       "│<span style=\"color: #00ffff; text-decoration-color: #00ffff\">                          </span>│<span style=\"color: #00ffff; text-decoration-color: #00ffff\"> string=String(64, value='@\\x10\\x00\\x04\\x00\\x00\\x00\\x02k brown fox jumped over the    </span>│\n",
       "│<span style=\"color: #00ffff; text-decoration-color: #00ffff\">                          </span>│<span style=\"color: #00ffff; text-decoration-color: #00ffff\"> lazy dog.'))                                                                         </span>│\n",
       "│<span style=\"color: #808080; text-decoration-color: #808080\"> </span><span style=\"color: #808080; text-decoration-color: #808080; font-weight: bold\">repr()                  </span><span style=\"color: #808080; text-decoration-color: #808080\"> </span>│<span style=\"color: #808080; text-decoration-color: #808080\"> LargeUnion(byte_order=b'&gt;',data=bytearray(b'@\\x10\\x00\\x04\\x00\\x00\\x00\\x02k brown fox </span>│\n",
       "│<span style=\"color: #808080; text-decoration-color: #808080\">                          </span>│<span style=\"color: #808080; text-decoration-color: #808080\"> jumped over the lazy                                                                 </span>│\n",
       "│<span style=\"color: #808080; text-decoration-color: #808080\">                          </span>│<span style=\"color: #808080; text-decoration-color: #808080\"> dog.\\x00\\x00\\x00\\x00\\x00\\x00\\x00\\x00\\x00\\x00\\x00\\x00\\x00\\x00\\x00\\x00\\x00\\x00\\x00'))  </span>│\n",
       "│<span style=\"color: #ff0000; text-decoration-color: #ff0000\"> </span><span style=\"color: #ff0000; text-decoration-color: #ff0000; font-weight: bold\">.data                   </span><span style=\"color: #ff0000; text-decoration-color: #ff0000\"> </span>│<span style=\"color: #ff0000; text-decoration-color: #ff0000\"> bytearray(b'@\\x10\\x00\\x04\\x00\\x00\\x00\\x02k brown fox jumped over the lazy            </span>│\n",
       "│<span style=\"color: #ff0000; text-decoration-color: #ff0000\">                          </span>│<span style=\"color: #ff0000; text-decoration-color: #ff0000\"> dog.\\x00\\x00\\x00\\x00\\x00\\x00\\x00\\x00\\x00\\x00\\x00\\x00\\x00\\x00\\x00\\x00\\x00\\x00\\x00')   </span>│\n",
       "└──────────────────────────┴──────────────────────────────────────────────────────────────────────────────────────┘\n",
       "</pre>\n"
      ],
      "text/plain": [
       "\u001b[3m                                                  Byteclass Info                                                   \u001b[0m\n",
       "┏━━━━━━━━━━━━━━━━━━━━━━━━━━┳━━━━━━━━━━━━━━━━━━━━━━━━━━━━━━━━━━━━━━━━━━━━━━━━━━━━━━━━━━━━━━━━━━━━━━━━━━━━━━━━━━━━━━┓\n",
       "┃\u001b[1m \u001b[0m\u001b[1mProperty                \u001b[0m\u001b[1m \u001b[0m┃\u001b[1m \u001b[0m\u001b[1mValue                                                                               \u001b[0m\u001b[1m \u001b[0m┃\n",
       "┡━━━━━━━━━━━━━━━━━━━━━━━━━━╇━━━━━━━━━━━━━━━━━━━━━━━━━━━━━━━━━━━━━━━━━━━━━━━━━━━━━━━━━━━━━━━━━━━━━━━━━━━━━━━━━━━━━━┩\n",
       "│\u001b[90m \u001b[0m\u001b[1;90mtype()                  \u001b[0m\u001b[90m \u001b[0m│\u001b[90m \u001b[0m\u001b[90mLargeUnion                                                                          \u001b[0m\u001b[90m \u001b[0m│\n",
       "│\u001b[91m \u001b[0m\u001b[1;91mis_byteclass()          \u001b[0m\u001b[91m \u001b[0m│\u001b[91m \u001b[0m\u001b[91mTrue                                                                                \u001b[0m\u001b[91m \u001b[0m│\n",
       "│\u001b[92m \u001b[0m\u001b[1;92mis_collection_instance()\u001b[0m\u001b[92m \u001b[0m│\u001b[92m \u001b[0m\u001b[92mTrue                                                                                \u001b[0m\u001b[92m \u001b[0m│\n",
       "│\u001b[93m \u001b[0m\u001b[1;93mis_primitive_instance() \u001b[0m\u001b[93m \u001b[0m│\u001b[93m \u001b[0m\u001b[93mFalse                                                                               \u001b[0m\u001b[93m \u001b[0m│\n",
       "│\u001b[94m \u001b[0m\u001b[1;94mmro                     \u001b[0m\u001b[94m \u001b[0m│\u001b[94m \u001b[0m\u001b[94mLargeUnion -> object                                                                \u001b[0m\u001b[94m \u001b[0m│\n",
       "│\u001b[95m \u001b[0m\u001b[1;95mlen()                   \u001b[0m\u001b[95m \u001b[0m│\u001b[95m \u001b[0m\u001b[95m64                                                                                  \u001b[0m\u001b[95m \u001b[0m│\n",
       "│\u001b[96m \u001b[0m\u001b[1;96mstr()                   \u001b[0m\u001b[96m \u001b[0m│\u001b[96m \u001b[0m\u001b[96mLargeUnion(uint64=UInt64(4616189635234627586), uint32=UInt32(1074790404),           \u001b[0m\u001b[96m \u001b[0m│\n",
       "│\u001b[96m                          \u001b[0m│\u001b[96m \u001b[0m\u001b[96muint16=UInt16(16400), int16=Int16(16400), uint8=UInt8(64), int8=Int8(64),           \u001b[0m\u001b[96m \u001b[0m│\n",
       "│\u001b[96m                          \u001b[0m│\u001b[96m \u001b[0m\u001b[96mstring=String(64, value='@\\x10\\x00\\x04\\x00\\x00\\x00\\x02k brown fox jumped over the   \u001b[0m\u001b[96m \u001b[0m│\n",
       "│\u001b[96m                          \u001b[0m│\u001b[96m \u001b[0m\u001b[96mlazy dog.'))                                                                        \u001b[0m\u001b[96m \u001b[0m│\n",
       "│\u001b[90m \u001b[0m\u001b[1;90mrepr()                  \u001b[0m\u001b[90m \u001b[0m│\u001b[90m \u001b[0m\u001b[90mLargeUnion(byte_order=b'>',data=bytearray(b'@\\x10\\x00\\x04\\x00\\x00\\x00\\x02k brown fox\u001b[0m\u001b[90m \u001b[0m│\n",
       "│\u001b[90m                          \u001b[0m│\u001b[90m \u001b[0m\u001b[90mjumped over the lazy                                                                \u001b[0m\u001b[90m \u001b[0m│\n",
       "│\u001b[90m                          \u001b[0m│\u001b[90m \u001b[0m\u001b[90mdog.\\x00\\x00\\x00\\x00\\x00\\x00\\x00\\x00\\x00\\x00\\x00\\x00\\x00\\x00\\x00\\x00\\x00\\x00\\x00')) \u001b[0m\u001b[90m \u001b[0m│\n",
       "│\u001b[91m \u001b[0m\u001b[1;91m.data                   \u001b[0m\u001b[91m \u001b[0m│\u001b[91m \u001b[0m\u001b[91mbytearray(b'@\\x10\\x00\\x04\\x00\\x00\\x00\\x02k brown fox jumped over the lazy           \u001b[0m\u001b[91m \u001b[0m│\n",
       "│\u001b[91m                          \u001b[0m│\u001b[91m \u001b[0m\u001b[91mdog.\\x00\\x00\\x00\\x00\\x00\\x00\\x00\\x00\\x00\\x00\\x00\\x00\\x00\\x00\\x00\\x00\\x00\\x00\\x00')  \u001b[0m\u001b[91m \u001b[0m│\n",
       "└──────────────────────────┴──────────────────────────────────────────────────────────────────────────────────────┘\n"
      ]
     },
     "metadata": {},
     "output_type": "display_data"
    },
    {
     "data": {
      "text/html": [
       "<pre style=\"white-space:pre;overflow-x:auto;line-height:normal;font-family:Menlo,'DejaVu Sans Mono',consolas,'Courier New',monospace\">╭────────────────── Byteclass Inspect ──────────────────╮\n",
       "│       00 01 02 03 04 05 06 07 08 09 0a 0b 0c 0d 0e 0f │\n",
       "│ ----------------------------------------------------- │\n",
       "│ 0x0  <span style=\"color: #c0c0c0; text-decoration-color: #c0c0c0\">|</span><span style=\"color: #808080; text-decoration-color: #808080\">40 10 00 04 00 00 00 02</span>                         │\n",
       "│ 0x0  <span style=\"color: #c0c0c0; text-decoration-color: #c0c0c0\">|</span><span style=\"color: #ff0000; text-decoration-color: #ff0000\">40 10 00 04</span>                                     │\n",
       "│ 0x0  <span style=\"color: #c0c0c0; text-decoration-color: #c0c0c0\">|</span><span style=\"color: #00ff00; text-decoration-color: #00ff00\">40 10</span>                                           │\n",
       "│ 0x0  <span style=\"color: #c0c0c0; text-decoration-color: #c0c0c0\">|</span><span style=\"color: #ffff00; text-decoration-color: #ffff00\">40 10</span>                                           │\n",
       "│ 0x0  <span style=\"color: #c0c0c0; text-decoration-color: #c0c0c0\">|</span><span style=\"color: #0000ff; text-decoration-color: #0000ff\">40</span>                                              │\n",
       "│ 0x0  <span style=\"color: #c0c0c0; text-decoration-color: #c0c0c0\">|</span><span style=\"color: #ff00ff; text-decoration-color: #ff00ff\">40</span>                                              │\n",
       "│ 0x0  <span style=\"color: #c0c0c0; text-decoration-color: #c0c0c0\">|</span><span style=\"color: #00ffff; text-decoration-color: #00ffff\">40 10 00 04 00 00 00 02 6b 20 62 72 6f 77 6e 20</span> │\n",
       "│ 0x10                                                  │\n",
       "│ 0x10                                                  │\n",
       "│ 0x10                                                  │\n",
       "│ 0x10                                                  │\n",
       "│ 0x10                                                  │\n",
       "│ 0x10                                                  │\n",
       "│ 0x10 <span style=\"color: #00ffff; text-decoration-color: #00ffff\">66 6f 78 20 6a 75 6d 70 65 64 20 6f 76 65 72 20</span>  │\n",
       "│ 0x20                                                  │\n",
       "│ 0x20                                                  │\n",
       "│ 0x20                                                  │\n",
       "│ 0x20                                                  │\n",
       "│ 0x20                                                  │\n",
       "│ 0x20                                                  │\n",
       "│ 0x20 <span style=\"color: #00ffff; text-decoration-color: #00ffff\">74 68 65 20 6c 61 7a 79 20 64 6f 67 2e 00 00 00</span>  │\n",
       "│ 0x30                                                  │\n",
       "│ 0x30                                                  │\n",
       "│ 0x30                                                  │\n",
       "│ 0x30                                                  │\n",
       "│ 0x30                                                  │\n",
       "│ 0x30                                                  │\n",
       "│ 0x30 <span style=\"color: #00ffff; text-decoration-color: #00ffff\">00 00 00 00 00 00 00 00 00 00 00 00 00 00 00 00</span>  │\n",
       "╰───────────────────────────────────────────────────────╯\n",
       "</pre>\n"
      ],
      "text/plain": [
       "╭────────────────── Byteclass Inspect ──────────────────╮\n",
       "│       00 01 02 03 04 05 06 07 08 09 0a 0b 0c 0d 0e 0f │\n",
       "│ ----------------------------------------------------- │\n",
       "│ 0x0  \u001b[37m|\u001b[0m\u001b[90m40 10 00 04 00 00 00 02\u001b[0m                         │\n",
       "│ 0x0  \u001b[37m|\u001b[0m\u001b[91m40 10 00 04\u001b[0m                                     │\n",
       "│ 0x0  \u001b[37m|\u001b[0m\u001b[92m40 10\u001b[0m                                           │\n",
       "│ 0x0  \u001b[37m|\u001b[0m\u001b[93m40 10\u001b[0m                                           │\n",
       "│ 0x0  \u001b[37m|\u001b[0m\u001b[94m40\u001b[0m                                              │\n",
       "│ 0x0  \u001b[37m|\u001b[0m\u001b[95m40\u001b[0m                                              │\n",
       "│ 0x0  \u001b[37m|\u001b[0m\u001b[96m40 10 00 04 00 00 00 02 6b 20 62 72 6f 77 6e 20\u001b[0m │\n",
       "│ 0x10                                                  │\n",
       "│ 0x10                                                  │\n",
       "│ 0x10                                                  │\n",
       "│ 0x10                                                  │\n",
       "│ 0x10                                                  │\n",
       "│ 0x10                                                  │\n",
       "│ 0x10 \u001b[96m66 6f 78 20 6a 75 6d 70 65 64 20 6f 76 65 72 20\u001b[0m  │\n",
       "│ 0x20                                                  │\n",
       "│ 0x20                                                  │\n",
       "│ 0x20                                                  │\n",
       "│ 0x20                                                  │\n",
       "│ 0x20                                                  │\n",
       "│ 0x20                                                  │\n",
       "│ 0x20 \u001b[96m74 68 65 20 6c 61 7a 79 20 64 6f 67 2e 00 00 00\u001b[0m  │\n",
       "│ 0x30                                                  │\n",
       "│ 0x30                                                  │\n",
       "│ 0x30                                                  │\n",
       "│ 0x30                                                  │\n",
       "│ 0x30                                                  │\n",
       "│ 0x30                                                  │\n",
       "│ 0x30 \u001b[96m00 00 00 00 00 00 00 00 00 00 00 00 00 00 00 00\u001b[0m  │\n",
       "╰───────────────────────────────────────────────────────╯\n"
      ]
     },
     "metadata": {},
     "output_type": "display_data"
    },
    {
     "data": {
      "text/html": [
       "<pre style=\"white-space:pre;overflow-x:auto;line-height:normal;font-family:Menlo,'DejaVu Sans Mono',consolas,'Courier New',monospace\"><span style=\"font-style: italic\">                      Legend                       </span>\n",
       "┏━━━━━━━━┳━━━━━━━━━━━━━━━━━━━━━━━━━━━━━━━━━━━━━━━━┓\n",
       "┃<span style=\"font-weight: bold\"> Member </span>┃<span style=\"font-weight: bold\"> Value                                  </span>┃\n",
       "┡━━━━━━━━╇━━━━━━━━━━━━━━━━━━━━━━━━━━━━━━━━━━━━━━━━┩\n",
       "│<span style=\"color: #808080; text-decoration-color: #808080\"> </span><span style=\"color: #808080; text-decoration-color: #808080; font-weight: bold\">uint64</span><span style=\"color: #808080; text-decoration-color: #808080\"> </span>│<span style=\"color: #808080; text-decoration-color: #808080\"> 4616189635234627586                    </span>│\n",
       "│<span style=\"color: #ff0000; text-decoration-color: #ff0000\"> </span><span style=\"color: #ff0000; text-decoration-color: #ff0000; font-weight: bold\">uint32</span><span style=\"color: #ff0000; text-decoration-color: #ff0000\"> </span>│<span style=\"color: #ff0000; text-decoration-color: #ff0000\"> 1074790404                             </span>│\n",
       "│<span style=\"color: #00ff00; text-decoration-color: #00ff00\"> </span><span style=\"color: #00ff00; text-decoration-color: #00ff00; font-weight: bold\">uint16</span><span style=\"color: #00ff00; text-decoration-color: #00ff00\"> </span>│<span style=\"color: #00ff00; text-decoration-color: #00ff00\"> 16400                                  </span>│\n",
       "│<span style=\"color: #ffff00; text-decoration-color: #ffff00\"> </span><span style=\"color: #ffff00; text-decoration-color: #ffff00; font-weight: bold\">int16 </span><span style=\"color: #ffff00; text-decoration-color: #ffff00\"> </span>│<span style=\"color: #ffff00; text-decoration-color: #ffff00\"> 16400                                  </span>│\n",
       "│<span style=\"color: #0000ff; text-decoration-color: #0000ff\"> </span><span style=\"color: #0000ff; text-decoration-color: #0000ff; font-weight: bold\">uint8 </span><span style=\"color: #0000ff; text-decoration-color: #0000ff\"> </span>│<span style=\"color: #0000ff; text-decoration-color: #0000ff\"> 64                                     </span>│\n",
       "│<span style=\"color: #ff00ff; text-decoration-color: #ff00ff\"> </span><span style=\"color: #ff00ff; text-decoration-color: #ff00ff; font-weight: bold\">int8  </span><span style=\"color: #ff00ff; text-decoration-color: #ff00ff\"> </span>│<span style=\"color: #ff00ff; text-decoration-color: #ff00ff\"> 64                                     </span>│\n",
       "│<span style=\"color: #00ffff; text-decoration-color: #00ffff\"> </span><span style=\"color: #00ffff; text-decoration-color: #00ffff; font-weight: bold\">string</span><span style=\"color: #00ffff; text-decoration-color: #00ffff\"> </span>│<span style=\"color: #00ffff; text-decoration-color: #00ffff\"> @\u0010\u0000\u0004\u0000\u0000\u0000\u0002k brown fox jumped over the lazy dog. </span>│\n",
       "└────────┴────────────────────────────────────────┘\n",
       "</pre>\n"
      ],
      "text/plain": [
       "\u001b[3m                      Legend                       \u001b[0m\n",
       "┏━━━━━━━━┳━━━━━━━━━━━━━━━━━━━━━━━━━━━━━━━━━━━━━━━━┓\n",
       "┃\u001b[1m \u001b[0m\u001b[1mMember\u001b[0m\u001b[1m \u001b[0m┃\u001b[1m \u001b[0m\u001b[1mValue                                 \u001b[0m\u001b[1m \u001b[0m┃\n",
       "┡━━━━━━━━╇━━━━━━━━━━━━━━━━━━━━━━━━━━━━━━━━━━━━━━━━┩\n",
       "│\u001b[90m \u001b[0m\u001b[1;90muint64\u001b[0m\u001b[90m \u001b[0m│\u001b[90m \u001b[0m\u001b[90m4616189635234627586                   \u001b[0m\u001b[90m \u001b[0m│\n",
       "│\u001b[91m \u001b[0m\u001b[1;91muint32\u001b[0m\u001b[91m \u001b[0m│\u001b[91m \u001b[0m\u001b[91m1074790404                            \u001b[0m\u001b[91m \u001b[0m│\n",
       "│\u001b[92m \u001b[0m\u001b[1;92muint16\u001b[0m\u001b[92m \u001b[0m│\u001b[92m \u001b[0m\u001b[92m16400                                 \u001b[0m\u001b[92m \u001b[0m│\n",
       "│\u001b[93m \u001b[0m\u001b[1;93mint16 \u001b[0m\u001b[93m \u001b[0m│\u001b[93m \u001b[0m\u001b[93m16400                                 \u001b[0m\u001b[93m \u001b[0m│\n",
       "│\u001b[94m \u001b[0m\u001b[1;94muint8 \u001b[0m\u001b[94m \u001b[0m│\u001b[94m \u001b[0m\u001b[94m64                                    \u001b[0m\u001b[94m \u001b[0m│\n",
       "│\u001b[95m \u001b[0m\u001b[1;95mint8  \u001b[0m\u001b[95m \u001b[0m│\u001b[95m \u001b[0m\u001b[95m64                                    \u001b[0m\u001b[95m \u001b[0m│\n",
       "│\u001b[96m \u001b[0m\u001b[1;96mstring\u001b[0m\u001b[96m \u001b[0m│\u001b[96m \u001b[0m\u001b[96m@\u0010\u0000\u0004\u0000\u0000\u0000\u0002k brown fox jumped over the lazy dog.\u001b[0m\u001b[96m \u001b[0m│\n",
       "└────────┴────────────────────────────────────────┘\n"
      ]
     },
     "metadata": {},
     "output_type": "display_data"
    }
   ],
   "source": [
    "lu: ByteclassCollection = LargeUnion()\n",
    "lu.uint64 = 2\n",
    "lu.uint32 = 4\n",
    "lu.uint16 = 8\n",
    "lu.int16 = 16\n",
    "lu.uint8 = 32\n",
    "lu.int8 = 64\n",
    "byteclass_info(lu)\n",
    "byteclass_inspect(lu)"
   ]
  },
  {
   "cell_type": "code",
   "execution_count": 6,
   "metadata": {
    "execution": {
     "iopub.execute_input": "2024-04-29T21:11:55.766436Z",
     "iopub.status.busy": "2024-04-29T21:11:55.766054Z",
     "iopub.status.idle": "2024-04-29T21:11:55.768843Z",
     "shell.execute_reply": "2024-04-29T21:11:55.768261Z"
    }
   },
   "outputs": [],
   "source": [
    "lu.uint64 = 0xFFFFFFFF00"
   ]
  },
  {
   "cell_type": "code",
   "execution_count": 7,
   "metadata": {
    "execution": {
     "iopub.execute_input": "2024-04-29T21:11:55.771149Z",
     "iopub.status.busy": "2024-04-29T21:11:55.770772Z",
     "iopub.status.idle": "2024-04-29T21:11:55.780608Z",
     "shell.execute_reply": "2024-04-29T21:11:55.780082Z"
    }
   },
   "outputs": [
    {
     "data": {
      "text/html": [
       "<pre style=\"white-space:pre;overflow-x:auto;line-height:normal;font-family:Menlo,'DejaVu Sans Mono',consolas,'Courier New',monospace\">╭────────────────── Byteclass Inspect ──────────────────╮\n",
       "│       00 01 02 03 04 05 06 07 08 09 0a 0b 0c 0d 0e 0f │\n",
       "│ ----------------------------------------------------- │\n",
       "│ 0x0  <span style=\"color: #c0c0c0; text-decoration-color: #c0c0c0\">|</span><span style=\"color: #808080; text-decoration-color: #808080\">00 00 00 ff ff ff ff 00</span>                         │\n",
       "│ 0x0  <span style=\"color: #c0c0c0; text-decoration-color: #c0c0c0\">|</span><span style=\"color: #ff0000; text-decoration-color: #ff0000\">00 00 00 ff</span>                                     │\n",
       "│ 0x0  <span style=\"color: #c0c0c0; text-decoration-color: #c0c0c0\">|</span><span style=\"color: #00ff00; text-decoration-color: #00ff00\">00 00</span>                                           │\n",
       "│ 0x0  <span style=\"color: #c0c0c0; text-decoration-color: #c0c0c0\">|</span><span style=\"color: #ffff00; text-decoration-color: #ffff00\">00 00</span>                                           │\n",
       "│ 0x0  <span style=\"color: #c0c0c0; text-decoration-color: #c0c0c0\">|</span><span style=\"color: #0000ff; text-decoration-color: #0000ff\">00</span>                                              │\n",
       "│ 0x0  <span style=\"color: #c0c0c0; text-decoration-color: #c0c0c0\">|</span><span style=\"color: #ff00ff; text-decoration-color: #ff00ff\">00</span>                                              │\n",
       "│ 0x0  <span style=\"color: #c0c0c0; text-decoration-color: #c0c0c0\">|</span><span style=\"color: #00ffff; text-decoration-color: #00ffff\">00 00 00 ff ff ff ff 00 6b 20 62 72 6f 77 6e 20</span> │\n",
       "│ 0x10                                                  │\n",
       "│ 0x10                                                  │\n",
       "│ 0x10                                                  │\n",
       "│ 0x10                                                  │\n",
       "│ 0x10                                                  │\n",
       "│ 0x10                                                  │\n",
       "│ 0x10 <span style=\"color: #00ffff; text-decoration-color: #00ffff\">66 6f 78 20 6a 75 6d 70 65 64 20 6f 76 65 72 20</span>  │\n",
       "│ 0x20                                                  │\n",
       "│ 0x20                                                  │\n",
       "│ 0x20                                                  │\n",
       "│ 0x20                                                  │\n",
       "│ 0x20                                                  │\n",
       "│ 0x20                                                  │\n",
       "│ 0x20 <span style=\"color: #00ffff; text-decoration-color: #00ffff\">74 68 65 20 6c 61 7a 79 20 64 6f 67 2e 00 00 00</span>  │\n",
       "│ 0x30                                                  │\n",
       "│ 0x30                                                  │\n",
       "│ 0x30                                                  │\n",
       "│ 0x30                                                  │\n",
       "│ 0x30                                                  │\n",
       "│ 0x30                                                  │\n",
       "│ 0x30 <span style=\"color: #00ffff; text-decoration-color: #00ffff\">00 00 00 00 00 00 00 00 00 00 00 00 00 00 00 00</span>  │\n",
       "╰───────────────────────────────────────────────────────╯\n",
       "</pre>\n"
      ],
      "text/plain": [
       "╭────────────────── Byteclass Inspect ──────────────────╮\n",
       "│       00 01 02 03 04 05 06 07 08 09 0a 0b 0c 0d 0e 0f │\n",
       "│ ----------------------------------------------------- │\n",
       "│ 0x0  \u001b[37m|\u001b[0m\u001b[90m00 00 00 ff ff ff ff 00\u001b[0m                         │\n",
       "│ 0x0  \u001b[37m|\u001b[0m\u001b[91m00 00 00 ff\u001b[0m                                     │\n",
       "│ 0x0  \u001b[37m|\u001b[0m\u001b[92m00 00\u001b[0m                                           │\n",
       "│ 0x0  \u001b[37m|\u001b[0m\u001b[93m00 00\u001b[0m                                           │\n",
       "│ 0x0  \u001b[37m|\u001b[0m\u001b[94m00\u001b[0m                                              │\n",
       "│ 0x0  \u001b[37m|\u001b[0m\u001b[95m00\u001b[0m                                              │\n",
       "│ 0x0  \u001b[37m|\u001b[0m\u001b[96m00 00 00 ff ff ff ff 00 6b 20 62 72 6f 77 6e 20\u001b[0m │\n",
       "│ 0x10                                                  │\n",
       "│ 0x10                                                  │\n",
       "│ 0x10                                                  │\n",
       "│ 0x10                                                  │\n",
       "│ 0x10                                                  │\n",
       "│ 0x10                                                  │\n",
       "│ 0x10 \u001b[96m66 6f 78 20 6a 75 6d 70 65 64 20 6f 76 65 72 20\u001b[0m  │\n",
       "│ 0x20                                                  │\n",
       "│ 0x20                                                  │\n",
       "│ 0x20                                                  │\n",
       "│ 0x20                                                  │\n",
       "│ 0x20                                                  │\n",
       "│ 0x20                                                  │\n",
       "│ 0x20 \u001b[96m74 68 65 20 6c 61 7a 79 20 64 6f 67 2e 00 00 00\u001b[0m  │\n",
       "│ 0x30                                                  │\n",
       "│ 0x30                                                  │\n",
       "│ 0x30                                                  │\n",
       "│ 0x30                                                  │\n",
       "│ 0x30                                                  │\n",
       "│ 0x30                                                  │\n",
       "│ 0x30 \u001b[96m00 00 00 00 00 00 00 00 00 00 00 00 00 00 00 00\u001b[0m  │\n",
       "╰───────────────────────────────────────────────────────╯\n"
      ]
     },
     "metadata": {},
     "output_type": "display_data"
    },
    {
     "data": {
      "text/html": [
       "<pre style=\"white-space:pre;overflow-x:auto;line-height:normal;font-family:Menlo,'DejaVu Sans Mono',consolas,'Courier New',monospace\"><span style=\"font-style: italic\">                        Legend                        </span>\n",
       "┏━━━━━━━━┳━━━━━━━━━━━━━━━━━━━━━━━━━━━━━━━━━━━━━━━━━━━┓\n",
       "┃<span style=\"font-weight: bold\"> Member </span>┃<span style=\"font-weight: bold\"> Value                                     </span>┃\n",
       "┡━━━━━━━━╇━━━━━━━━━━━━━━━━━━━━━━━━━━━━━━━━━━━━━━━━━━━┩\n",
       "│<span style=\"color: #808080; text-decoration-color: #808080\"> </span><span style=\"color: #808080; text-decoration-color: #808080; font-weight: bold\">uint64</span><span style=\"color: #808080; text-decoration-color: #808080\"> </span>│<span style=\"color: #808080; text-decoration-color: #808080\"> 1099511627520                             </span>│\n",
       "│<span style=\"color: #ff0000; text-decoration-color: #ff0000\"> </span><span style=\"color: #ff0000; text-decoration-color: #ff0000; font-weight: bold\">uint32</span><span style=\"color: #ff0000; text-decoration-color: #ff0000\"> </span>│<span style=\"color: #ff0000; text-decoration-color: #ff0000\"> 255                                       </span>│\n",
       "│<span style=\"color: #00ff00; text-decoration-color: #00ff00\"> </span><span style=\"color: #00ff00; text-decoration-color: #00ff00; font-weight: bold\">uint16</span><span style=\"color: #00ff00; text-decoration-color: #00ff00\"> </span>│<span style=\"color: #00ff00; text-decoration-color: #00ff00\"> 0                                         </span>│\n",
       "│<span style=\"color: #ffff00; text-decoration-color: #ffff00\"> </span><span style=\"color: #ffff00; text-decoration-color: #ffff00; font-weight: bold\">int16 </span><span style=\"color: #ffff00; text-decoration-color: #ffff00\"> </span>│<span style=\"color: #ffff00; text-decoration-color: #ffff00\"> 0                                         </span>│\n",
       "│<span style=\"color: #0000ff; text-decoration-color: #0000ff\"> </span><span style=\"color: #0000ff; text-decoration-color: #0000ff; font-weight: bold\">uint8 </span><span style=\"color: #0000ff; text-decoration-color: #0000ff\"> </span>│<span style=\"color: #0000ff; text-decoration-color: #0000ff\"> 0                                         </span>│\n",
       "│<span style=\"color: #ff00ff; text-decoration-color: #ff00ff\"> </span><span style=\"color: #ff00ff; text-decoration-color: #ff00ff; font-weight: bold\">int8  </span><span style=\"color: #ff00ff; text-decoration-color: #ff00ff\"> </span>│<span style=\"color: #ff00ff; text-decoration-color: #ff00ff\"> 0                                         </span>│\n",
       "│<span style=\"color: #00ffff; text-decoration-color: #00ffff\"> </span><span style=\"color: #00ffff; text-decoration-color: #00ffff; font-weight: bold\">string</span><span style=\"color: #00ffff; text-decoration-color: #00ffff\"> </span>│<span style=\"color: #00ffff; text-decoration-color: #00ffff\"> \u0000\u0000\u0000ÿÿÿÿ\u0000k brown fox jumped over the lazy dog. </span>│\n",
       "└────────┴───────────────────────────────────────────┘\n",
       "</pre>\n"
      ],
      "text/plain": [
       "\u001b[3m                        Legend                        \u001b[0m\n",
       "┏━━━━━━━━┳━━━━━━━━━━━━━━━━━━━━━━━━━━━━━━━━━━━━━━━━━━━┓\n",
       "┃\u001b[1m \u001b[0m\u001b[1mMember\u001b[0m\u001b[1m \u001b[0m┃\u001b[1m \u001b[0m\u001b[1mValue                                    \u001b[0m\u001b[1m \u001b[0m┃\n",
       "┡━━━━━━━━╇━━━━━━━━━━━━━━━━━━━━━━━━━━━━━━━━━━━━━━━━━━━┩\n",
       "│\u001b[90m \u001b[0m\u001b[1;90muint64\u001b[0m\u001b[90m \u001b[0m│\u001b[90m \u001b[0m\u001b[90m1099511627520                            \u001b[0m\u001b[90m \u001b[0m│\n",
       "│\u001b[91m \u001b[0m\u001b[1;91muint32\u001b[0m\u001b[91m \u001b[0m│\u001b[91m \u001b[0m\u001b[91m255                                      \u001b[0m\u001b[91m \u001b[0m│\n",
       "│\u001b[92m \u001b[0m\u001b[1;92muint16\u001b[0m\u001b[92m \u001b[0m│\u001b[92m \u001b[0m\u001b[92m0                                        \u001b[0m\u001b[92m \u001b[0m│\n",
       "│\u001b[93m \u001b[0m\u001b[1;93mint16 \u001b[0m\u001b[93m \u001b[0m│\u001b[93m \u001b[0m\u001b[93m0                                        \u001b[0m\u001b[93m \u001b[0m│\n",
       "│\u001b[94m \u001b[0m\u001b[1;94muint8 \u001b[0m\u001b[94m \u001b[0m│\u001b[94m \u001b[0m\u001b[94m0                                        \u001b[0m\u001b[94m \u001b[0m│\n",
       "│\u001b[95m \u001b[0m\u001b[1;95mint8  \u001b[0m\u001b[95m \u001b[0m│\u001b[95m \u001b[0m\u001b[95m0                                        \u001b[0m\u001b[95m \u001b[0m│\n",
       "│\u001b[96m \u001b[0m\u001b[1;96mstring\u001b[0m\u001b[96m \u001b[0m│\u001b[96m \u001b[0m\u001b[96m\u0000\u0000\u0000ÿÿÿÿ\u0000k brown fox jumped over the lazy dog.\u001b[0m\u001b[96m \u001b[0m│\n",
       "└────────┴───────────────────────────────────────────┘\n"
      ]
     },
     "metadata": {},
     "output_type": "display_data"
    }
   ],
   "source": [
    "byteclass_inspect(lu)"
   ]
  }
 ],
 "metadata": {
  "kernelspec": {
   "display_name": ".venv",
   "language": "python",
   "name": "python3"
  },
  "language_info": {
   "codemirror_mode": {
    "name": "ipython",
    "version": 3
   },
   "file_extension": ".py",
   "mimetype": "text/x-python",
   "name": "python",
   "nbconvert_exporter": "python",
   "pygments_lexer": "ipython3",
   "version": "3.10.14"
  }
 },
 "nbformat": 4,
 "nbformat_minor": 2
}
