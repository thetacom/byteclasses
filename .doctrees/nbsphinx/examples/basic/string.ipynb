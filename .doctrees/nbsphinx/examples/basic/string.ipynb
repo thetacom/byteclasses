{
 "cells": [
  {
   "cell_type": "markdown",
   "metadata": {},
   "source": [
    "# String Collection"
   ]
  },
  {
   "cell_type": "code",
   "execution_count": 1,
   "metadata": {},
   "outputs": [],
   "source": [
    "from byteclasses.types.collections import String\n",
    "from rich.console import Console\n",
    "from rich.table import Table"
   ]
  },
  {
   "cell_type": "code",
   "execution_count": 2,
   "metadata": {},
   "outputs": [],
   "source": [
    "string = String(32, value=\"my string collection\")"
   ]
  },
  {
   "cell_type": "code",
   "execution_count": 9,
   "metadata": {},
   "outputs": [
    {
     "data": {
      "text/html": [
       "<pre style=\"white-space:pre;overflow-x:auto;line-height:normal;font-family:Menlo,'DejaVu Sans Mono',consolas,'Courier New',monospace\"><span style=\"font-style: italic\">                                             Generic String Collection                                             </span>\n",
       "┏━━━━━━━━━━━━━━━━━━━┳━━━━━━━━━━━━━━━━━━━━━━━━━━━━━━━━━━━━━━━━━━━━━━━━━━━━━━━━━━━━━━━━━━━━━━━━━━━━━━━━━━━━━━━━━━━━━┓\n",
       "┃<span style=\"font-weight: bold\"> Name              </span>┃<span style=\"font-weight: bold\"> Value                                                                                       </span>┃\n",
       "┡━━━━━━━━━━━━━━━━━━━╇━━━━━━━━━━━━━━━━━━━━━━━━━━━━━━━━━━━━━━━━━━━━━━━━━━━━━━━━━━━━━━━━━━━━━━━━━━━━━━━━━━━━━━━━━━━━━┩\n",
       "│ len(string)       │ 32                                                                                          │\n",
       "│ len(string.value) │ 20                                                                                          │\n",
       "│ str(string)       │ my string collection                                                                        │\n",
       "│ repr(string)      │ String(32, value='my string collection')                                                    │\n",
       "│ string.value      │ my string collection                                                                        │\n",
       "│ string.data       │ b'my string collection\\x00\\x00\\x00\\x00\\x00\\x00\\x00\\x00\\x00\\x00\\x00\\x00'                     │\n",
       "│ string[:]         │ [UChar('m'), UChar('y'), UChar(' '), UChar('s'), UChar('t'), UChar('r'), UChar('i'),        │\n",
       "│                   │ UChar('n'), UChar('g'), UChar(' '), UChar('c'), UChar('o'), UChar('l'), UChar('l'),         │\n",
       "│                   │ UChar('e'), UChar('c'), UChar('t'), UChar('i'), UChar('o'), UChar('n'), UChar('\\x00'),      │\n",
       "│                   │ UChar('\\x00'), UChar('\\x00'), UChar('\\x00'), UChar('\\x00'), UChar('\\x00'), UChar('\\x00'),   │\n",
       "│                   │ UChar('\\x00'), UChar('\\x00'), UChar('\\x00'), UChar('\\x00'), UChar('\\x00')]                  │\n",
       "│ string[::2]       │ [UChar('m'), UChar(' '), UChar('t'), UChar('i'), UChar('g'), UChar('c'), UChar('l'),        │\n",
       "│                   │ UChar('e'), UChar('t'), UChar('o'), UChar('\\x00'), UChar('\\x00'), UChar('\\x00'),            │\n",
       "│                   │ UChar('\\x00'), UChar('\\x00'), UChar('\\x00')]                                                │\n",
       "│ string[0]         │ m                                                                                           │\n",
       "│ string[0].value   │ m                                                                                           │\n",
       "│ string[0].data    │ b'm'                                                                                        │\n",
       "└───────────────────┴─────────────────────────────────────────────────────────────────────────────────────────────┘\n",
       "</pre>\n"
      ],
      "text/plain": [
       "\u001b[3m                                             Generic String Collection                                             \u001b[0m\n",
       "┏━━━━━━━━━━━━━━━━━━━┳━━━━━━━━━━━━━━━━━━━━━━━━━━━━━━━━━━━━━━━━━━━━━━━━━━━━━━━━━━━━━━━━━━━━━━━━━━━━━━━━━━━━━━━━━━━━━┓\n",
       "┃\u001b[1m \u001b[0m\u001b[1mName             \u001b[0m\u001b[1m \u001b[0m┃\u001b[1m \u001b[0m\u001b[1mValue                                                                                      \u001b[0m\u001b[1m \u001b[0m┃\n",
       "┡━━━━━━━━━━━━━━━━━━━╇━━━━━━━━━━━━━━━━━━━━━━━━━━━━━━━━━━━━━━━━━━━━━━━━━━━━━━━━━━━━━━━━━━━━━━━━━━━━━━━━━━━━━━━━━━━━━┩\n",
       "│ len(string)       │ 32                                                                                          │\n",
       "│ len(string.value) │ 20                                                                                          │\n",
       "│ str(string)       │ my string collection                                                                        │\n",
       "│ repr(string)      │ String(32, value='my string collection')                                                    │\n",
       "│ string.value      │ my string collection                                                                        │\n",
       "│ string.data       │ b'my string collection\\x00\\x00\\x00\\x00\\x00\\x00\\x00\\x00\\x00\\x00\\x00\\x00'                     │\n",
       "│ string[:]         │ [UChar('m'), UChar('y'), UChar(' '), UChar('s'), UChar('t'), UChar('r'), UChar('i'),        │\n",
       "│                   │ UChar('n'), UChar('g'), UChar(' '), UChar('c'), UChar('o'), UChar('l'), UChar('l'),         │\n",
       "│                   │ UChar('e'), UChar('c'), UChar('t'), UChar('i'), UChar('o'), UChar('n'), UChar('\\x00'),      │\n",
       "│                   │ UChar('\\x00'), UChar('\\x00'), UChar('\\x00'), UChar('\\x00'), UChar('\\x00'), UChar('\\x00'),   │\n",
       "│                   │ UChar('\\x00'), UChar('\\x00'), UChar('\\x00'), UChar('\\x00'), UChar('\\x00')]                  │\n",
       "│ string[::2]       │ [UChar('m'), UChar(' '), UChar('t'), UChar('i'), UChar('g'), UChar('c'), UChar('l'),        │\n",
       "│                   │ UChar('e'), UChar('t'), UChar('o'), UChar('\\x00'), UChar('\\x00'), UChar('\\x00'),            │\n",
       "│                   │ UChar('\\x00'), UChar('\\x00'), UChar('\\x00')]                                                │\n",
       "│ string[0]         │ m                                                                                           │\n",
       "│ string[0].value   │ m                                                                                           │\n",
       "│ string[0].data    │ b'm'                                                                                        │\n",
       "└───────────────────┴─────────────────────────────────────────────────────────────────────────────────────────────┘\n"
      ]
     },
     "metadata": {},
     "output_type": "display_data"
    }
   ],
   "source": [
    "table = Table(title=\"Generic String Collection\")\n",
    "\n",
    "table.add_column(\"Name\")\n",
    "table.add_column(\"Value\")\n",
    "\n",
    "table.add_row(\"len(string)\", str(len(string)))\n",
    "table.add_row(\"len(string.value)\", str(len(string.value)))\n",
    "table.add_row(\"str(string)\", str(string))\n",
    "table.add_row(\"repr(string)\", repr(string))\n",
    "table.add_row(\"string.value\", str(string.value))\n",
    "table.add_row(\"string.data\", str(string.data))\n",
    "table.add_row(\"string[:]\", str(string[:]))\n",
    "table.add_row(\"string[::2]\", str(string[::2]))\n",
    "table.add_row(\"string[0]\", str(string[0]))\n",
    "table.add_row(\"string[0].value\", str(string[0].value))\n",
    "table.add_row(\"string[0].data\", str(string[0].data))\n",
    "console = Console()\n",
    "console.print(table)"
   ]
  }
 ],
 "metadata": {
  "kernelspec": {
   "display_name": ".venv",
   "language": "python",
   "name": "python3"
  },
  "language_info": {
   "codemirror_mode": {
    "name": "ipython",
    "version": 3
   },
   "file_extension": ".py",
   "mimetype": "text/x-python",
   "name": "python",
   "nbconvert_exporter": "python",
   "pygments_lexer": "ipython3",
   "version": "3.11.9"
  }
 },
 "nbformat": 4,
 "nbformat_minor": 2
}
