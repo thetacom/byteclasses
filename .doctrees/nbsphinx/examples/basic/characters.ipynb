{
 "cells": [
  {
   "cell_type": "markdown",
   "metadata": {},
   "source": [
    "# Character Primitives"
   ]
  },
  {
   "cell_type": "code",
   "execution_count": 1,
   "metadata": {},
   "outputs": [],
   "source": [
    "from byteclasses.print import byteclass_info\n",
    "from byteclasses.types.primitives.characters import UChar, SChar\n",
    "from rich.console import Console\n",
    "console = Console()"
   ]
  },
  {
   "cell_type": "code",
   "execution_count": 2,
   "metadata": {},
   "outputs": [],
   "source": [
    "uchar_var = UChar(\"A\")"
   ]
  },
  {
   "cell_type": "code",
   "execution_count": 3,
   "metadata": {},
   "outputs": [
    {
     "data": {
      "text/html": [
       "<pre style=\"white-space:pre;overflow-x:auto;line-height:normal;font-family:Menlo,'DejaVu Sans Mono',consolas,'Courier New',monospace\"><span style=\"font-style: italic\">                                                  Byteclass Info                                                   </span>\n",
       "┏━━━━━━━━━━┳━━━━━━━━━━━━━━━━━━━━━━━━━━━━━━━━━━━━━━━━━━━━━━━━━━━━━━━━━━━━━━━━━━━━━━━━━━━━━━━━━━━━━━━━━━━━━━━━━━━━━━┓\n",
       "┃<span style=\"font-weight: bold\"> Property </span>┃<span style=\"font-weight: bold\"> Value                                                                                                </span>┃\n",
       "┡━━━━━━━━━━╇━━━━━━━━━━━━━━━━━━━━━━━━━━━━━━━━━━━━━━━━━━━━━━━━━━━━━━━━━━━━━━━━━━━━━━━━━━━━━━━━━━━━━━━━━━━━━━━━━━━━━━┩\n",
       "│<span style=\"color: #808080; text-decoration-color: #808080\"> </span><span style=\"color: #808080; text-decoration-color: #808080; font-weight: bold\">type()  </span><span style=\"color: #808080; text-decoration-color: #808080\"> </span>│<span style=\"color: #808080; text-decoration-color: #808080\"> UChar                                                                                                </span>│\n",
       "│<span style=\"color: #ff0000; text-decoration-color: #ff0000\"> </span><span style=\"color: #ff0000; text-decoration-color: #ff0000; font-weight: bold\">mro     </span><span style=\"color: #ff0000; text-decoration-color: #ff0000\"> </span>│<span style=\"color: #ff0000; text-decoration-color: #ff0000\"> UChar -&gt; UInt8 -&gt; _FixedInt -&gt; _FixedNumericType -&gt; _FixedSizeType -&gt; ABC -&gt; SupportsBytes -&gt;        </span>│\n",
       "│<span style=\"color: #ff0000; text-decoration-color: #ff0000\">          </span>│<span style=\"color: #ff0000; text-decoration-color: #ff0000\"> Protocol -&gt; Generic -&gt; object                                                                        </span>│\n",
       "│<span style=\"color: #00ff00; text-decoration-color: #00ff00\"> </span><span style=\"color: #00ff00; text-decoration-color: #00ff00; font-weight: bold\">len()   </span><span style=\"color: #00ff00; text-decoration-color: #00ff00\"> </span>│<span style=\"color: #00ff00; text-decoration-color: #00ff00\"> 1                                                                                                    </span>│\n",
       "│<span style=\"color: #ffff00; text-decoration-color: #ffff00\"> </span><span style=\"color: #ffff00; text-decoration-color: #ffff00; font-weight: bold\">str()   </span><span style=\"color: #ffff00; text-decoration-color: #ffff00\"> </span>│<span style=\"color: #ffff00; text-decoration-color: #ffff00\"> A                                                                                                    </span>│\n",
       "│<span style=\"color: #0000ff; text-decoration-color: #0000ff\"> </span><span style=\"color: #0000ff; text-decoration-color: #0000ff; font-weight: bold\">repr()  </span><span style=\"color: #0000ff; text-decoration-color: #0000ff\"> </span>│<span style=\"color: #0000ff; text-decoration-color: #0000ff\"> UChar('A')                                                                                           </span>│\n",
       "│<span style=\"color: #ff00ff; text-decoration-color: #ff00ff\"> </span><span style=\"color: #ff00ff; text-decoration-color: #ff00ff; font-weight: bold\">.data   </span><span style=\"color: #ff00ff; text-decoration-color: #ff00ff\"> </span>│<span style=\"color: #ff00ff; text-decoration-color: #ff00ff\"> b'A'                                                                                                 </span>│\n",
       "│<span style=\"color: #00ffff; text-decoration-color: #00ffff\"> </span><span style=\"color: #00ffff; text-decoration-color: #00ffff; font-weight: bold\">.value  </span><span style=\"color: #00ffff; text-decoration-color: #00ffff\"> </span>│<span style=\"color: #00ffff; text-decoration-color: #00ffff\"> A                                                                                                    </span>│\n",
       "└──────────┴──────────────────────────────────────────────────────────────────────────────────────────────────────┘\n",
       "</pre>\n"
      ],
      "text/plain": [
       "\u001b[3m                                                  Byteclass Info                                                   \u001b[0m\n",
       "┏━━━━━━━━━━┳━━━━━━━━━━━━━━━━━━━━━━━━━━━━━━━━━━━━━━━━━━━━━━━━━━━━━━━━━━━━━━━━━━━━━━━━━━━━━━━━━━━━━━━━━━━━━━━━━━━━━━┓\n",
       "┃\u001b[1m \u001b[0m\u001b[1mProperty\u001b[0m\u001b[1m \u001b[0m┃\u001b[1m \u001b[0m\u001b[1mValue                                                                                               \u001b[0m\u001b[1m \u001b[0m┃\n",
       "┡━━━━━━━━━━╇━━━━━━━━━━━━━━━━━━━━━━━━━━━━━━━━━━━━━━━━━━━━━━━━━━━━━━━━━━━━━━━━━━━━━━━━━━━━━━━━━━━━━━━━━━━━━━━━━━━━━━┩\n",
       "│\u001b[90m \u001b[0m\u001b[1;90mtype()  \u001b[0m\u001b[90m \u001b[0m│\u001b[90m \u001b[0m\u001b[90mUChar                                                                                               \u001b[0m\u001b[90m \u001b[0m│\n",
       "│\u001b[91m \u001b[0m\u001b[1;91mmro     \u001b[0m\u001b[91m \u001b[0m│\u001b[91m \u001b[0m\u001b[91mUChar -> UInt8 -> _FixedInt -> _FixedNumericType -> _FixedSizeType -> ABC -> SupportsBytes ->       \u001b[0m\u001b[91m \u001b[0m│\n",
       "│\u001b[91m          \u001b[0m│\u001b[91m \u001b[0m\u001b[91mProtocol -> Generic -> object                                                                       \u001b[0m\u001b[91m \u001b[0m│\n",
       "│\u001b[92m \u001b[0m\u001b[1;92mlen()   \u001b[0m\u001b[92m \u001b[0m│\u001b[92m \u001b[0m\u001b[92m1                                                                                                   \u001b[0m\u001b[92m \u001b[0m│\n",
       "│\u001b[93m \u001b[0m\u001b[1;93mstr()   \u001b[0m\u001b[93m \u001b[0m│\u001b[93m \u001b[0m\u001b[93mA                                                                                                   \u001b[0m\u001b[93m \u001b[0m│\n",
       "│\u001b[94m \u001b[0m\u001b[1;94mrepr()  \u001b[0m\u001b[94m \u001b[0m│\u001b[94m \u001b[0m\u001b[94mUChar('A')                                                                                          \u001b[0m\u001b[94m \u001b[0m│\n",
       "│\u001b[95m \u001b[0m\u001b[1;95m.data   \u001b[0m\u001b[95m \u001b[0m│\u001b[95m \u001b[0m\u001b[95mb'A'                                                                                                \u001b[0m\u001b[95m \u001b[0m│\n",
       "│\u001b[96m \u001b[0m\u001b[1;96m.value  \u001b[0m\u001b[96m \u001b[0m│\u001b[96m \u001b[0m\u001b[96mA                                                                                                   \u001b[0m\u001b[96m \u001b[0m│\n",
       "└──────────┴──────────────────────────────────────────────────────────────────────────────────────────────────────┘\n"
      ]
     },
     "metadata": {},
     "output_type": "display_data"
    }
   ],
   "source": [
    "byteclass_info(uchar_var)"
   ]
  },
  {
   "cell_type": "code",
   "execution_count": 4,
   "metadata": {},
   "outputs": [
    {
     "data": {
      "text/html": [
       "<pre style=\"white-space:pre;overflow-x:auto;line-height:normal;font-family:Menlo,'DejaVu Sans Mono',consolas,'Courier New',monospace\">uchar_var.<span style=\"color: #808000; text-decoration-color: #808000\">signed</span>=<span style=\"color: #ff0000; text-decoration-color: #ff0000; font-style: italic\">False</span>\n",
       "</pre>\n"
      ],
      "text/plain": [
       "uchar_var.\u001b[33msigned\u001b[0m=\u001b[3;91mFalse\u001b[0m\n"
      ]
     },
     "metadata": {},
     "output_type": "display_data"
    }
   ],
   "source": [
    "console.print(f\"{uchar_var.signed=}\")"
   ]
  },
  {
   "cell_type": "code",
   "execution_count": 5,
   "metadata": {},
   "outputs": [],
   "source": [
    "schar_var = SChar(65)"
   ]
  },
  {
   "cell_type": "code",
   "execution_count": 6,
   "metadata": {},
   "outputs": [
    {
     "data": {
      "text/html": [
       "<pre style=\"white-space:pre;overflow-x:auto;line-height:normal;font-family:Menlo,'DejaVu Sans Mono',consolas,'Courier New',monospace\"><span style=\"font-style: italic\">                                                  Byteclass Info                                                   </span>\n",
       "┏━━━━━━━━━━┳━━━━━━━━━━━━━━━━━━━━━━━━━━━━━━━━━━━━━━━━━━━━━━━━━━━━━━━━━━━━━━━━━━━━━━━━━━━━━━━━━━━━━━━━━━━━━━━━━━━━━━┓\n",
       "┃<span style=\"font-weight: bold\"> Property </span>┃<span style=\"font-weight: bold\"> Value                                                                                                </span>┃\n",
       "┡━━━━━━━━━━╇━━━━━━━━━━━━━━━━━━━━━━━━━━━━━━━━━━━━━━━━━━━━━━━━━━━━━━━━━━━━━━━━━━━━━━━━━━━━━━━━━━━━━━━━━━━━━━━━━━━━━━┩\n",
       "│<span style=\"color: #808080; text-decoration-color: #808080\"> </span><span style=\"color: #808080; text-decoration-color: #808080; font-weight: bold\">type()  </span><span style=\"color: #808080; text-decoration-color: #808080\"> </span>│<span style=\"color: #808080; text-decoration-color: #808080\"> SChar                                                                                                </span>│\n",
       "│<span style=\"color: #ff0000; text-decoration-color: #ff0000\"> </span><span style=\"color: #ff0000; text-decoration-color: #ff0000; font-weight: bold\">mro     </span><span style=\"color: #ff0000; text-decoration-color: #ff0000\"> </span>│<span style=\"color: #ff0000; text-decoration-color: #ff0000\"> SChar -&gt; Int8 -&gt; _FixedInt -&gt; _FixedNumericType -&gt; _FixedSizeType -&gt; ABC -&gt; SupportsBytes -&gt;         </span>│\n",
       "│<span style=\"color: #ff0000; text-decoration-color: #ff0000\">          </span>│<span style=\"color: #ff0000; text-decoration-color: #ff0000\"> Protocol -&gt; Generic -&gt; object                                                                        </span>│\n",
       "│<span style=\"color: #00ff00; text-decoration-color: #00ff00\"> </span><span style=\"color: #00ff00; text-decoration-color: #00ff00; font-weight: bold\">len()   </span><span style=\"color: #00ff00; text-decoration-color: #00ff00\"> </span>│<span style=\"color: #00ff00; text-decoration-color: #00ff00\"> 1                                                                                                    </span>│\n",
       "│<span style=\"color: #ffff00; text-decoration-color: #ffff00\"> </span><span style=\"color: #ffff00; text-decoration-color: #ffff00; font-weight: bold\">str()   </span><span style=\"color: #ffff00; text-decoration-color: #ffff00\"> </span>│<span style=\"color: #ffff00; text-decoration-color: #ffff00\"> 65                                                                                                   </span>│\n",
       "│<span style=\"color: #0000ff; text-decoration-color: #0000ff\"> </span><span style=\"color: #0000ff; text-decoration-color: #0000ff; font-weight: bold\">repr()  </span><span style=\"color: #0000ff; text-decoration-color: #0000ff\"> </span>│<span style=\"color: #0000ff; text-decoration-color: #0000ff\"> SChar(65)                                                                                            </span>│\n",
       "│<span style=\"color: #ff00ff; text-decoration-color: #ff00ff\"> </span><span style=\"color: #ff00ff; text-decoration-color: #ff00ff; font-weight: bold\">.data   </span><span style=\"color: #ff00ff; text-decoration-color: #ff00ff\"> </span>│<span style=\"color: #ff00ff; text-decoration-color: #ff00ff\"> b'A'                                                                                                 </span>│\n",
       "│<span style=\"color: #00ffff; text-decoration-color: #00ffff\"> </span><span style=\"color: #00ffff; text-decoration-color: #00ffff; font-weight: bold\">.value  </span><span style=\"color: #00ffff; text-decoration-color: #00ffff\"> </span>│<span style=\"color: #00ffff; text-decoration-color: #00ffff\"> 65                                                                                                   </span>│\n",
       "└──────────┴──────────────────────────────────────────────────────────────────────────────────────────────────────┘\n",
       "</pre>\n"
      ],
      "text/plain": [
       "\u001b[3m                                                  Byteclass Info                                                   \u001b[0m\n",
       "┏━━━━━━━━━━┳━━━━━━━━━━━━━━━━━━━━━━━━━━━━━━━━━━━━━━━━━━━━━━━━━━━━━━━━━━━━━━━━━━━━━━━━━━━━━━━━━━━━━━━━━━━━━━━━━━━━━━┓\n",
       "┃\u001b[1m \u001b[0m\u001b[1mProperty\u001b[0m\u001b[1m \u001b[0m┃\u001b[1m \u001b[0m\u001b[1mValue                                                                                               \u001b[0m\u001b[1m \u001b[0m┃\n",
       "┡━━━━━━━━━━╇━━━━━━━━━━━━━━━━━━━━━━━━━━━━━━━━━━━━━━━━━━━━━━━━━━━━━━━━━━━━━━━━━━━━━━━━━━━━━━━━━━━━━━━━━━━━━━━━━━━━━━┩\n",
       "│\u001b[90m \u001b[0m\u001b[1;90mtype()  \u001b[0m\u001b[90m \u001b[0m│\u001b[90m \u001b[0m\u001b[90mSChar                                                                                               \u001b[0m\u001b[90m \u001b[0m│\n",
       "│\u001b[91m \u001b[0m\u001b[1;91mmro     \u001b[0m\u001b[91m \u001b[0m│\u001b[91m \u001b[0m\u001b[91mSChar -> Int8 -> _FixedInt -> _FixedNumericType -> _FixedSizeType -> ABC -> SupportsBytes ->        \u001b[0m\u001b[91m \u001b[0m│\n",
       "│\u001b[91m          \u001b[0m│\u001b[91m \u001b[0m\u001b[91mProtocol -> Generic -> object                                                                       \u001b[0m\u001b[91m \u001b[0m│\n",
       "│\u001b[92m \u001b[0m\u001b[1;92mlen()   \u001b[0m\u001b[92m \u001b[0m│\u001b[92m \u001b[0m\u001b[92m1                                                                                                   \u001b[0m\u001b[92m \u001b[0m│\n",
       "│\u001b[93m \u001b[0m\u001b[1;93mstr()   \u001b[0m\u001b[93m \u001b[0m│\u001b[93m \u001b[0m\u001b[93m65                                                                                                  \u001b[0m\u001b[93m \u001b[0m│\n",
       "│\u001b[94m \u001b[0m\u001b[1;94mrepr()  \u001b[0m\u001b[94m \u001b[0m│\u001b[94m \u001b[0m\u001b[94mSChar(65)                                                                                           \u001b[0m\u001b[94m \u001b[0m│\n",
       "│\u001b[95m \u001b[0m\u001b[1;95m.data   \u001b[0m\u001b[95m \u001b[0m│\u001b[95m \u001b[0m\u001b[95mb'A'                                                                                                \u001b[0m\u001b[95m \u001b[0m│\n",
       "│\u001b[96m \u001b[0m\u001b[1;96m.value  \u001b[0m\u001b[96m \u001b[0m│\u001b[96m \u001b[0m\u001b[96m65                                                                                                  \u001b[0m\u001b[96m \u001b[0m│\n",
       "└──────────┴──────────────────────────────────────────────────────────────────────────────────────────────────────┘\n"
      ]
     },
     "metadata": {},
     "output_type": "display_data"
    }
   ],
   "source": [
    "byteclass_info(schar_var, console=console)"
   ]
  },
  {
   "cell_type": "code",
   "execution_count": 7,
   "metadata": {},
   "outputs": [
    {
     "data": {
      "text/html": [
       "<pre style=\"white-space:pre;overflow-x:auto;line-height:normal;font-family:Menlo,'DejaVu Sans Mono',consolas,'Courier New',monospace\">schar_var.<span style=\"color: #808000; text-decoration-color: #808000\">signed</span>=<span style=\"color: #00ff00; text-decoration-color: #00ff00; font-style: italic\">True</span>\n",
       "</pre>\n"
      ],
      "text/plain": [
       "schar_var.\u001b[33msigned\u001b[0m=\u001b[3;92mTrue\u001b[0m\n"
      ]
     },
     "metadata": {},
     "output_type": "display_data"
    }
   ],
   "source": [
    "console.print(f\"{schar_var.signed=}\")"
   ]
  },
  {
   "cell_type": "code",
   "execution_count": null,
   "metadata": {},
   "outputs": [],
   "source": []
  }
 ],
 "metadata": {
  "kernelspec": {
   "display_name": ".venv",
   "language": "python",
   "name": "python3"
  },
  "language_info": {
   "codemirror_mode": {
    "name": "ipython",
    "version": 3
   },
   "file_extension": ".py",
   "mimetype": "text/x-python",
   "name": "python",
   "nbconvert_exporter": "python",
   "pygments_lexer": "ipython3",
   "version": "3.11.9"
  }
 },
 "nbformat": 4,
 "nbformat_minor": 2
}
