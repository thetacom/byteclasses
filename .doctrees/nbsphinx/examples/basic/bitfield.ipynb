{
 "cells": [
  {
   "cell_type": "markdown",
   "metadata": {},
   "source": [
    "# BitField Primitive"
   ]
  },
  {
   "cell_type": "markdown",
   "metadata": {},
   "source": [
    "Importing BitField class"
   ]
  },
  {
   "cell_type": "code",
   "execution_count": 1,
   "metadata": {},
   "outputs": [],
   "source": [
    "from byteclasses.print import byteclass_info, byteclass_inspect\n",
    "from byteclasses.types.primitives.bitfield import BitField, BitField16, BitField32, BitField64, BitPos"
   ]
  },
  {
   "cell_type": "markdown",
   "metadata": {},
   "source": [
    "Generic BitFields"
   ]
  },
  {
   "cell_type": "code",
   "execution_count": 2,
   "metadata": {},
   "outputs": [],
   "source": [
    "bitfield_types = [BitField, BitField16, BitField32, BitField64]\n",
    "\n",
    "my_bfs = []\n",
    "for i, type_cls in enumerate(bitfield_types):\n",
    "    my_bfs.append(type_cls(data=b\"\\xFF\" * 2**i))"
   ]
  },
  {
   "cell_type": "code",
   "execution_count": 3,
   "metadata": {},
   "outputs": [
    {
     "data": {
      "text/html": [
       "<pre style=\"white-space:pre;overflow-x:auto;line-height:normal;font-family:Menlo,'DejaVu Sans Mono',consolas,'Courier New',monospace\"><span style=\"font-style: italic\">                                                  Byteclass Info                                                   </span>\n",
       "┏━━━━━━━━━━━━━━━━━━━━━━━━━━━┳━━━━━━━━━━━━━━━━━━━━━━━━━━━━━━━━━━━━━━━━━━━━━━━━━━━━━━━━━━━━━━━━━━━━━━━━━━━━━━━━━━━━━┓\n",
       "┃<span style=\"font-weight: bold\"> Property                  </span>┃<span style=\"font-weight: bold\"> Value                                                                               </span>┃\n",
       "┡━━━━━━━━━━━━━━━━━━━━━━━━━━━╇━━━━━━━━━━━━━━━━━━━━━━━━━━━━━━━━━━━━━━━━━━━━━━━━━━━━━━━━━━━━━━━━━━━━━━━━━━━━━━━━━━━━━┩\n",
       "│<span style=\"color: #808080; text-decoration-color: #808080\"> </span><span style=\"color: #808080; text-decoration-color: #808080; font-weight: bold\">type()                   </span><span style=\"color: #808080; text-decoration-color: #808080\"> </span>│<span style=\"color: #808080; text-decoration-color: #808080\"> BitField                                                                            </span>│\n",
       "│<span style=\"color: #ff0000; text-decoration-color: #ff0000\"> </span><span style=\"color: #ff0000; text-decoration-color: #ff0000; font-weight: bold\">is_byteclass()           </span><span style=\"color: #ff0000; text-decoration-color: #ff0000\"> </span>│<span style=\"color: #ff0000; text-decoration-color: #ff0000\"> True                                                                                </span>│\n",
       "│<span style=\"color: #00ff00; text-decoration-color: #00ff00\"> </span><span style=\"color: #00ff00; text-decoration-color: #00ff00; font-weight: bold\">is_byteclass_collection()</span><span style=\"color: #00ff00; text-decoration-color: #00ff00\"> </span>│<span style=\"color: #00ff00; text-decoration-color: #00ff00\"> False                                                                               </span>│\n",
       "│<span style=\"color: #ffff00; text-decoration-color: #ffff00\"> </span><span style=\"color: #ffff00; text-decoration-color: #ffff00; font-weight: bold\">is_byteclass_primitive() </span><span style=\"color: #ffff00; text-decoration-color: #ffff00\"> </span>│<span style=\"color: #ffff00; text-decoration-color: #ffff00\"> True                                                                                </span>│\n",
       "│<span style=\"color: #0000ff; text-decoration-color: #0000ff\"> </span><span style=\"color: #0000ff; text-decoration-color: #0000ff; font-weight: bold\">mro                      </span><span style=\"color: #0000ff; text-decoration-color: #0000ff\"> </span>│<span style=\"color: #0000ff; text-decoration-color: #0000ff\"> BitField -&gt; _FixedSizeType -&gt; ABC -&gt; SupportsBytes -&gt; Protocol -&gt; Generic -&gt; object </span>│\n",
       "│<span style=\"color: #ff00ff; text-decoration-color: #ff00ff\"> </span><span style=\"color: #ff00ff; text-decoration-color: #ff00ff; font-weight: bold\">len()                    </span><span style=\"color: #ff00ff; text-decoration-color: #ff00ff\"> </span>│<span style=\"color: #ff00ff; text-decoration-color: #ff00ff\"> 1                                                                                   </span>│\n",
       "│<span style=\"color: #00ffff; text-decoration-color: #00ffff\"> </span><span style=\"color: #00ffff; text-decoration-color: #00ffff; font-weight: bold\">str()                    </span><span style=\"color: #00ffff; text-decoration-color: #00ffff\"> </span>│<span style=\"color: #00ffff; text-decoration-color: #00ffff\"> BitField(11111111, flags={})                                                        </span>│\n",
       "│<span style=\"color: #808080; text-decoration-color: #808080\"> </span><span style=\"color: #808080; text-decoration-color: #808080; font-weight: bold\">repr()                   </span><span style=\"color: #808080; text-decoration-color: #808080\"> </span>│<span style=\"color: #808080; text-decoration-color: #808080\"> BitField(data=b'\\xff')                                                              </span>│\n",
       "│<span style=\"color: #ff0000; text-decoration-color: #ff0000\"> </span><span style=\"color: #ff0000; text-decoration-color: #ff0000; font-weight: bold\">.data                    </span><span style=\"color: #ff0000; text-decoration-color: #ff0000\"> </span>│<span style=\"color: #ff0000; text-decoration-color: #ff0000\"> b'\\xff'                                                                             </span>│\n",
       "│<span style=\"color: #00ff00; text-decoration-color: #00ff00\"> </span><span style=\"color: #00ff00; text-decoration-color: #00ff00; font-weight: bold\">.value                   </span><span style=\"color: #00ff00; text-decoration-color: #00ff00\"> </span>│<span style=\"color: #00ff00; text-decoration-color: #00ff00\"> [True, True, True, True, True, True, True, True]                                    </span>│\n",
       "└───────────────────────────┴─────────────────────────────────────────────────────────────────────────────────────┘\n",
       "</pre>\n"
      ],
      "text/plain": [
       "\u001b[3m                                                  Byteclass Info                                                   \u001b[0m\n",
       "┏━━━━━━━━━━━━━━━━━━━━━━━━━━━┳━━━━━━━━━━━━━━━━━━━━━━━━━━━━━━━━━━━━━━━━━━━━━━━━━━━━━━━━━━━━━━━━━━━━━━━━━━━━━━━━━━━━━┓\n",
       "┃\u001b[1m \u001b[0m\u001b[1mProperty                 \u001b[0m\u001b[1m \u001b[0m┃\u001b[1m \u001b[0m\u001b[1mValue                                                                              \u001b[0m\u001b[1m \u001b[0m┃\n",
       "┡━━━━━━━━━━━━━━━━━━━━━━━━━━━╇━━━━━━━━━━━━━━━━━━━━━━━━━━━━━━━━━━━━━━━━━━━━━━━━━━━━━━━━━━━━━━━━━━━━━━━━━━━━━━━━━━━━━┩\n",
       "│\u001b[90m \u001b[0m\u001b[1;90mtype()                   \u001b[0m\u001b[90m \u001b[0m│\u001b[90m \u001b[0m\u001b[90mBitField                                                                           \u001b[0m\u001b[90m \u001b[0m│\n",
       "│\u001b[91m \u001b[0m\u001b[1;91mis_byteclass()           \u001b[0m\u001b[91m \u001b[0m│\u001b[91m \u001b[0m\u001b[91mTrue                                                                               \u001b[0m\u001b[91m \u001b[0m│\n",
       "│\u001b[92m \u001b[0m\u001b[1;92mis_byteclass_collection()\u001b[0m\u001b[92m \u001b[0m│\u001b[92m \u001b[0m\u001b[92mFalse                                                                              \u001b[0m\u001b[92m \u001b[0m│\n",
       "│\u001b[93m \u001b[0m\u001b[1;93mis_byteclass_primitive() \u001b[0m\u001b[93m \u001b[0m│\u001b[93m \u001b[0m\u001b[93mTrue                                                                               \u001b[0m\u001b[93m \u001b[0m│\n",
       "│\u001b[94m \u001b[0m\u001b[1;94mmro                      \u001b[0m\u001b[94m \u001b[0m│\u001b[94m \u001b[0m\u001b[94mBitField -> _FixedSizeType -> ABC -> SupportsBytes -> Protocol -> Generic -> object\u001b[0m\u001b[94m \u001b[0m│\n",
       "│\u001b[95m \u001b[0m\u001b[1;95mlen()                    \u001b[0m\u001b[95m \u001b[0m│\u001b[95m \u001b[0m\u001b[95m1                                                                                  \u001b[0m\u001b[95m \u001b[0m│\n",
       "│\u001b[96m \u001b[0m\u001b[1;96mstr()                    \u001b[0m\u001b[96m \u001b[0m│\u001b[96m \u001b[0m\u001b[96mBitField(11111111, flags={})                                                       \u001b[0m\u001b[96m \u001b[0m│\n",
       "│\u001b[90m \u001b[0m\u001b[1;90mrepr()                   \u001b[0m\u001b[90m \u001b[0m│\u001b[90m \u001b[0m\u001b[90mBitField(data=b'\\xff')                                                             \u001b[0m\u001b[90m \u001b[0m│\n",
       "│\u001b[91m \u001b[0m\u001b[1;91m.data                    \u001b[0m\u001b[91m \u001b[0m│\u001b[91m \u001b[0m\u001b[91mb'\\xff'                                                                            \u001b[0m\u001b[91m \u001b[0m│\n",
       "│\u001b[92m \u001b[0m\u001b[1;92m.value                   \u001b[0m\u001b[92m \u001b[0m│\u001b[92m \u001b[0m\u001b[92m[True, True, True, True, True, True, True, True]                                   \u001b[0m\u001b[92m \u001b[0m│\n",
       "└───────────────────────────┴─────────────────────────────────────────────────────────────────────────────────────┘\n"
      ]
     },
     "metadata": {},
     "output_type": "display_data"
    },
    {
     "data": {
      "text/html": [
       "<pre style=\"white-space:pre;overflow-x:auto;line-height:normal;font-family:Menlo,'DejaVu Sans Mono',consolas,'Courier New',monospace\">╭────────────────── Byteclass Inspect ───────────────────╮\n",
       "│      00 01 02 03 04 05 06 07 08 09 0a 0b 0c 0d 0e 0f   │\n",
       "│ ----------------------------------------------------   │\n",
       "│ 0x0 <span style=\"color: #c0c0c0; text-decoration-color: #c0c0c0\">|</span><span style=\"color: #808080; text-decoration-color: #808080\">ff</span>                                                │\n",
       "╰────────────────────────────────────────────────────────╯\n",
       "</pre>\n"
      ],
      "text/plain": [
       "╭────────────────── Byteclass Inspect ───────────────────╮\n",
       "│      00 01 02 03 04 05 06 07 08 09 0a 0b 0c 0d 0e 0f   │\n",
       "│ ----------------------------------------------------   │\n",
       "│ 0x0 \u001b[37m|\u001b[0m\u001b[90mff\u001b[0m                                                │\n",
       "╰────────────────────────────────────────────────────────╯\n"
      ]
     },
     "metadata": {},
     "output_type": "display_data"
    },
    {
     "data": {
      "text/html": [
       "<pre style=\"white-space:pre;overflow-x:auto;line-height:normal;font-family:Menlo,'DejaVu Sans Mono',consolas,'Courier New',monospace\"><span style=\"font-style: italic\">             Legend             </span>\n",
       "┏━━━━━━━━━━━━━━━━━━━━━━━━━━━━━━┓\n",
       "┃<span style=\"font-weight: bold\"> Value                        </span>┃\n",
       "┡━━━━━━━━━━━━━━━━━━━━━━━━━━━━━━┩\n",
       "│<span style=\"color: #808080; text-decoration-color: #808080\"> </span><span style=\"color: #808080; text-decoration-color: #808080; font-weight: bold\">BitField(11111111, flags={})</span><span style=\"color: #808080; text-decoration-color: #808080\"> </span>│\n",
       "└──────────────────────────────┘\n",
       "</pre>\n"
      ],
      "text/plain": [
       "\u001b[3m             Legend             \u001b[0m\n",
       "┏━━━━━━━━━━━━━━━━━━━━━━━━━━━━━━┓\n",
       "┃\u001b[1m \u001b[0m\u001b[1mValue                       \u001b[0m\u001b[1m \u001b[0m┃\n",
       "┡━━━━━━━━━━━━━━━━━━━━━━━━━━━━━━┩\n",
       "│\u001b[90m \u001b[0m\u001b[1;90mBitField(11111111, flags={})\u001b[0m\u001b[90m \u001b[0m│\n",
       "└──────────────────────────────┘\n"
      ]
     },
     "metadata": {},
     "output_type": "display_data"
    },
    {
     "data": {
      "text/html": [
       "<pre style=\"white-space:pre;overflow-x:auto;line-height:normal;font-family:Menlo,'DejaVu Sans Mono',consolas,'Courier New',monospace\"><span style=\"font-style: italic\">                                                  Byteclass Info                                                   </span>\n",
       "┏━━━━━━━━━━━━━━━━━━━━━━━━━━━┳━━━━━━━━━━━━━━━━━━━━━━━━━━━━━━━━━━━━━━━━━━━━━━━━━━━━━━━━━━━━━━━━━━━━━━━━━━━━━━━━━━━━━┓\n",
       "┃<span style=\"font-weight: bold\"> Property                  </span>┃<span style=\"font-weight: bold\"> Value                                                                               </span>┃\n",
       "┡━━━━━━━━━━━━━━━━━━━━━━━━━━━╇━━━━━━━━━━━━━━━━━━━━━━━━━━━━━━━━━━━━━━━━━━━━━━━━━━━━━━━━━━━━━━━━━━━━━━━━━━━━━━━━━━━━━┩\n",
       "│<span style=\"color: #808080; text-decoration-color: #808080\"> </span><span style=\"color: #808080; text-decoration-color: #808080; font-weight: bold\">type()                   </span><span style=\"color: #808080; text-decoration-color: #808080\"> </span>│<span style=\"color: #808080; text-decoration-color: #808080\"> BitField16                                                                          </span>│\n",
       "│<span style=\"color: #ff0000; text-decoration-color: #ff0000\"> </span><span style=\"color: #ff0000; text-decoration-color: #ff0000; font-weight: bold\">is_byteclass()           </span><span style=\"color: #ff0000; text-decoration-color: #ff0000\"> </span>│<span style=\"color: #ff0000; text-decoration-color: #ff0000\"> True                                                                                </span>│\n",
       "│<span style=\"color: #00ff00; text-decoration-color: #00ff00\"> </span><span style=\"color: #00ff00; text-decoration-color: #00ff00; font-weight: bold\">is_byteclass_collection()</span><span style=\"color: #00ff00; text-decoration-color: #00ff00\"> </span>│<span style=\"color: #00ff00; text-decoration-color: #00ff00\"> False                                                                               </span>│\n",
       "│<span style=\"color: #ffff00; text-decoration-color: #ffff00\"> </span><span style=\"color: #ffff00; text-decoration-color: #ffff00; font-weight: bold\">is_byteclass_primitive() </span><span style=\"color: #ffff00; text-decoration-color: #ffff00\"> </span>│<span style=\"color: #ffff00; text-decoration-color: #ffff00\"> True                                                                                </span>│\n",
       "│<span style=\"color: #0000ff; text-decoration-color: #0000ff\"> </span><span style=\"color: #0000ff; text-decoration-color: #0000ff; font-weight: bold\">mro                      </span><span style=\"color: #0000ff; text-decoration-color: #0000ff\"> </span>│<span style=\"color: #0000ff; text-decoration-color: #0000ff\"> BitField16 -&gt; BitField -&gt; _FixedSizeType -&gt; ABC -&gt; SupportsBytes -&gt; Protocol -&gt;     </span>│\n",
       "│<span style=\"color: #0000ff; text-decoration-color: #0000ff\">                           </span>│<span style=\"color: #0000ff; text-decoration-color: #0000ff\"> Generic -&gt; object                                                                   </span>│\n",
       "│<span style=\"color: #ff00ff; text-decoration-color: #ff00ff\"> </span><span style=\"color: #ff00ff; text-decoration-color: #ff00ff; font-weight: bold\">len()                    </span><span style=\"color: #ff00ff; text-decoration-color: #ff00ff\"> </span>│<span style=\"color: #ff00ff; text-decoration-color: #ff00ff\"> 2                                                                                   </span>│\n",
       "│<span style=\"color: #00ffff; text-decoration-color: #00ffff\"> </span><span style=\"color: #00ffff; text-decoration-color: #00ffff; font-weight: bold\">str()                    </span><span style=\"color: #00ffff; text-decoration-color: #00ffff\"> </span>│<span style=\"color: #00ffff; text-decoration-color: #00ffff\"> BitField16(1111111111111111, flags={})                                              </span>│\n",
       "│<span style=\"color: #808080; text-decoration-color: #808080\"> </span><span style=\"color: #808080; text-decoration-color: #808080; font-weight: bold\">repr()                   </span><span style=\"color: #808080; text-decoration-color: #808080\"> </span>│<span style=\"color: #808080; text-decoration-color: #808080\"> BitField16(data=b'\\xff\\xff')                                                        </span>│\n",
       "│<span style=\"color: #ff0000; text-decoration-color: #ff0000\"> </span><span style=\"color: #ff0000; text-decoration-color: #ff0000; font-weight: bold\">.data                    </span><span style=\"color: #ff0000; text-decoration-color: #ff0000\"> </span>│<span style=\"color: #ff0000; text-decoration-color: #ff0000\"> b'\\xff\\xff'                                                                         </span>│\n",
       "│<span style=\"color: #00ff00; text-decoration-color: #00ff00\"> </span><span style=\"color: #00ff00; text-decoration-color: #00ff00; font-weight: bold\">.value                   </span><span style=\"color: #00ff00; text-decoration-color: #00ff00\"> </span>│<span style=\"color: #00ff00; text-decoration-color: #00ff00\"> [True, True, True, True, True, True, True, True, True, True, True, True, True,      </span>│\n",
       "│<span style=\"color: #00ff00; text-decoration-color: #00ff00\">                           </span>│<span style=\"color: #00ff00; text-decoration-color: #00ff00\"> True, True, True]                                                                   </span>│\n",
       "└───────────────────────────┴─────────────────────────────────────────────────────────────────────────────────────┘\n",
       "</pre>\n"
      ],
      "text/plain": [
       "\u001b[3m                                                  Byteclass Info                                                   \u001b[0m\n",
       "┏━━━━━━━━━━━━━━━━━━━━━━━━━━━┳━━━━━━━━━━━━━━━━━━━━━━━━━━━━━━━━━━━━━━━━━━━━━━━━━━━━━━━━━━━━━━━━━━━━━━━━━━━━━━━━━━━━━┓\n",
       "┃\u001b[1m \u001b[0m\u001b[1mProperty                 \u001b[0m\u001b[1m \u001b[0m┃\u001b[1m \u001b[0m\u001b[1mValue                                                                              \u001b[0m\u001b[1m \u001b[0m┃\n",
       "┡━━━━━━━━━━━━━━━━━━━━━━━━━━━╇━━━━━━━━━━━━━━━━━━━━━━━━━━━━━━━━━━━━━━━━━━━━━━━━━━━━━━━━━━━━━━━━━━━━━━━━━━━━━━━━━━━━━┩\n",
       "│\u001b[90m \u001b[0m\u001b[1;90mtype()                   \u001b[0m\u001b[90m \u001b[0m│\u001b[90m \u001b[0m\u001b[90mBitField16                                                                         \u001b[0m\u001b[90m \u001b[0m│\n",
       "│\u001b[91m \u001b[0m\u001b[1;91mis_byteclass()           \u001b[0m\u001b[91m \u001b[0m│\u001b[91m \u001b[0m\u001b[91mTrue                                                                               \u001b[0m\u001b[91m \u001b[0m│\n",
       "│\u001b[92m \u001b[0m\u001b[1;92mis_byteclass_collection()\u001b[0m\u001b[92m \u001b[0m│\u001b[92m \u001b[0m\u001b[92mFalse                                                                              \u001b[0m\u001b[92m \u001b[0m│\n",
       "│\u001b[93m \u001b[0m\u001b[1;93mis_byteclass_primitive() \u001b[0m\u001b[93m \u001b[0m│\u001b[93m \u001b[0m\u001b[93mTrue                                                                               \u001b[0m\u001b[93m \u001b[0m│\n",
       "│\u001b[94m \u001b[0m\u001b[1;94mmro                      \u001b[0m\u001b[94m \u001b[0m│\u001b[94m \u001b[0m\u001b[94mBitField16 -> BitField -> _FixedSizeType -> ABC -> SupportsBytes -> Protocol ->    \u001b[0m\u001b[94m \u001b[0m│\n",
       "│\u001b[94m                           \u001b[0m│\u001b[94m \u001b[0m\u001b[94mGeneric -> object                                                                  \u001b[0m\u001b[94m \u001b[0m│\n",
       "│\u001b[95m \u001b[0m\u001b[1;95mlen()                    \u001b[0m\u001b[95m \u001b[0m│\u001b[95m \u001b[0m\u001b[95m2                                                                                  \u001b[0m\u001b[95m \u001b[0m│\n",
       "│\u001b[96m \u001b[0m\u001b[1;96mstr()                    \u001b[0m\u001b[96m \u001b[0m│\u001b[96m \u001b[0m\u001b[96mBitField16(1111111111111111, flags={})                                             \u001b[0m\u001b[96m \u001b[0m│\n",
       "│\u001b[90m \u001b[0m\u001b[1;90mrepr()                   \u001b[0m\u001b[90m \u001b[0m│\u001b[90m \u001b[0m\u001b[90mBitField16(data=b'\\xff\\xff')                                                       \u001b[0m\u001b[90m \u001b[0m│\n",
       "│\u001b[91m \u001b[0m\u001b[1;91m.data                    \u001b[0m\u001b[91m \u001b[0m│\u001b[91m \u001b[0m\u001b[91mb'\\xff\\xff'                                                                        \u001b[0m\u001b[91m \u001b[0m│\n",
       "│\u001b[92m \u001b[0m\u001b[1;92m.value                   \u001b[0m\u001b[92m \u001b[0m│\u001b[92m \u001b[0m\u001b[92m[True, True, True, True, True, True, True, True, True, True, True, True, True,     \u001b[0m\u001b[92m \u001b[0m│\n",
       "│\u001b[92m                           \u001b[0m│\u001b[92m \u001b[0m\u001b[92mTrue, True, True]                                                                  \u001b[0m\u001b[92m \u001b[0m│\n",
       "└───────────────────────────┴─────────────────────────────────────────────────────────────────────────────────────┘\n"
      ]
     },
     "metadata": {},
     "output_type": "display_data"
    },
    {
     "data": {
      "text/html": [
       "<pre style=\"white-space:pre;overflow-x:auto;line-height:normal;font-family:Menlo,'DejaVu Sans Mono',consolas,'Courier New',monospace\">╭────────────────── Byteclass Inspect ───────────────────╮\n",
       "│      00 01 02 03 04 05 06 07 08 09 0a 0b 0c 0d 0e 0f   │\n",
       "│ ----------------------------------------------------   │\n",
       "│ 0x0 <span style=\"color: #c0c0c0; text-decoration-color: #c0c0c0\">|</span><span style=\"color: #808080; text-decoration-color: #808080\">ff ff</span>                                             │\n",
       "╰────────────────────────────────────────────────────────╯\n",
       "</pre>\n"
      ],
      "text/plain": [
       "╭────────────────── Byteclass Inspect ───────────────────╮\n",
       "│      00 01 02 03 04 05 06 07 08 09 0a 0b 0c 0d 0e 0f   │\n",
       "│ ----------------------------------------------------   │\n",
       "│ 0x0 \u001b[37m|\u001b[0m\u001b[90mff ff\u001b[0m                                             │\n",
       "╰────────────────────────────────────────────────────────╯\n"
      ]
     },
     "metadata": {},
     "output_type": "display_data"
    },
    {
     "data": {
      "text/html": [
       "<pre style=\"white-space:pre;overflow-x:auto;line-height:normal;font-family:Menlo,'DejaVu Sans Mono',consolas,'Courier New',monospace\"><span style=\"font-style: italic\">                  Legend                  </span>\n",
       "┏━━━━━━━━━━━━━━━━━━━━━━━━━━━━━━━━━━━━━━━━┓\n",
       "┃<span style=\"font-weight: bold\"> Value                                  </span>┃\n",
       "┡━━━━━━━━━━━━━━━━━━━━━━━━━━━━━━━━━━━━━━━━┩\n",
       "│<span style=\"color: #808080; text-decoration-color: #808080\"> </span><span style=\"color: #808080; text-decoration-color: #808080; font-weight: bold\">BitField16(1111111111111111, flags={})</span><span style=\"color: #808080; text-decoration-color: #808080\"> </span>│\n",
       "└────────────────────────────────────────┘\n",
       "</pre>\n"
      ],
      "text/plain": [
       "\u001b[3m                  Legend                  \u001b[0m\n",
       "┏━━━━━━━━━━━━━━━━━━━━━━━━━━━━━━━━━━━━━━━━┓\n",
       "┃\u001b[1m \u001b[0m\u001b[1mValue                                 \u001b[0m\u001b[1m \u001b[0m┃\n",
       "┡━━━━━━━━━━━━━━━━━━━━━━━━━━━━━━━━━━━━━━━━┩\n",
       "│\u001b[90m \u001b[0m\u001b[1;90mBitField16(1111111111111111, flags={})\u001b[0m\u001b[90m \u001b[0m│\n",
       "└────────────────────────────────────────┘\n"
      ]
     },
     "metadata": {},
     "output_type": "display_data"
    },
    {
     "data": {
      "text/html": [
       "<pre style=\"white-space:pre;overflow-x:auto;line-height:normal;font-family:Menlo,'DejaVu Sans Mono',consolas,'Courier New',monospace\"><span style=\"font-style: italic\">                                                  Byteclass Info                                                   </span>\n",
       "┏━━━━━━━━━━━━━━━━━━━━━━━━━━━┳━━━━━━━━━━━━━━━━━━━━━━━━━━━━━━━━━━━━━━━━━━━━━━━━━━━━━━━━━━━━━━━━━━━━━━━━━━━━━━━━━━━━━┓\n",
       "┃<span style=\"font-weight: bold\"> Property                  </span>┃<span style=\"font-weight: bold\"> Value                                                                               </span>┃\n",
       "┡━━━━━━━━━━━━━━━━━━━━━━━━━━━╇━━━━━━━━━━━━━━━━━━━━━━━━━━━━━━━━━━━━━━━━━━━━━━━━━━━━━━━━━━━━━━━━━━━━━━━━━━━━━━━━━━━━━┩\n",
       "│<span style=\"color: #808080; text-decoration-color: #808080\"> </span><span style=\"color: #808080; text-decoration-color: #808080; font-weight: bold\">type()                   </span><span style=\"color: #808080; text-decoration-color: #808080\"> </span>│<span style=\"color: #808080; text-decoration-color: #808080\"> BitField32                                                                          </span>│\n",
       "│<span style=\"color: #ff0000; text-decoration-color: #ff0000\"> </span><span style=\"color: #ff0000; text-decoration-color: #ff0000; font-weight: bold\">is_byteclass()           </span><span style=\"color: #ff0000; text-decoration-color: #ff0000\"> </span>│<span style=\"color: #ff0000; text-decoration-color: #ff0000\"> True                                                                                </span>│\n",
       "│<span style=\"color: #00ff00; text-decoration-color: #00ff00\"> </span><span style=\"color: #00ff00; text-decoration-color: #00ff00; font-weight: bold\">is_byteclass_collection()</span><span style=\"color: #00ff00; text-decoration-color: #00ff00\"> </span>│<span style=\"color: #00ff00; text-decoration-color: #00ff00\"> False                                                                               </span>│\n",
       "│<span style=\"color: #ffff00; text-decoration-color: #ffff00\"> </span><span style=\"color: #ffff00; text-decoration-color: #ffff00; font-weight: bold\">is_byteclass_primitive() </span><span style=\"color: #ffff00; text-decoration-color: #ffff00\"> </span>│<span style=\"color: #ffff00; text-decoration-color: #ffff00\"> True                                                                                </span>│\n",
       "│<span style=\"color: #0000ff; text-decoration-color: #0000ff\"> </span><span style=\"color: #0000ff; text-decoration-color: #0000ff; font-weight: bold\">mro                      </span><span style=\"color: #0000ff; text-decoration-color: #0000ff\"> </span>│<span style=\"color: #0000ff; text-decoration-color: #0000ff\"> BitField32 -&gt; BitField -&gt; _FixedSizeType -&gt; ABC -&gt; SupportsBytes -&gt; Protocol -&gt;     </span>│\n",
       "│<span style=\"color: #0000ff; text-decoration-color: #0000ff\">                           </span>│<span style=\"color: #0000ff; text-decoration-color: #0000ff\"> Generic -&gt; object                                                                   </span>│\n",
       "│<span style=\"color: #ff00ff; text-decoration-color: #ff00ff\"> </span><span style=\"color: #ff00ff; text-decoration-color: #ff00ff; font-weight: bold\">len()                    </span><span style=\"color: #ff00ff; text-decoration-color: #ff00ff\"> </span>│<span style=\"color: #ff00ff; text-decoration-color: #ff00ff\"> 4                                                                                   </span>│\n",
       "│<span style=\"color: #00ffff; text-decoration-color: #00ffff\"> </span><span style=\"color: #00ffff; text-decoration-color: #00ffff; font-weight: bold\">str()                    </span><span style=\"color: #00ffff; text-decoration-color: #00ffff\"> </span>│<span style=\"color: #00ffff; text-decoration-color: #00ffff\"> BitField32(11111111111111111111111111111111, flags={})                              </span>│\n",
       "│<span style=\"color: #808080; text-decoration-color: #808080\"> </span><span style=\"color: #808080; text-decoration-color: #808080; font-weight: bold\">repr()                   </span><span style=\"color: #808080; text-decoration-color: #808080\"> </span>│<span style=\"color: #808080; text-decoration-color: #808080\"> BitField32(data=b'\\xff\\xff\\xff\\xff')                                                </span>│\n",
       "│<span style=\"color: #ff0000; text-decoration-color: #ff0000\"> </span><span style=\"color: #ff0000; text-decoration-color: #ff0000; font-weight: bold\">.data                    </span><span style=\"color: #ff0000; text-decoration-color: #ff0000\"> </span>│<span style=\"color: #ff0000; text-decoration-color: #ff0000\"> b'\\xff\\xff\\xff\\xff'                                                                 </span>│\n",
       "│<span style=\"color: #00ff00; text-decoration-color: #00ff00\"> </span><span style=\"color: #00ff00; text-decoration-color: #00ff00; font-weight: bold\">.value                   </span><span style=\"color: #00ff00; text-decoration-color: #00ff00\"> </span>│<span style=\"color: #00ff00; text-decoration-color: #00ff00\"> [True, True, True, True, True, True, True, True, True, True, True, True, True,      </span>│\n",
       "│<span style=\"color: #00ff00; text-decoration-color: #00ff00\">                           </span>│<span style=\"color: #00ff00; text-decoration-color: #00ff00\"> True, True, True, True, True, True, True, True, True, True, True, True, True, True, </span>│\n",
       "│<span style=\"color: #00ff00; text-decoration-color: #00ff00\">                           </span>│<span style=\"color: #00ff00; text-decoration-color: #00ff00\"> True, True, True, True, True]                                                       </span>│\n",
       "└───────────────────────────┴─────────────────────────────────────────────────────────────────────────────────────┘\n",
       "</pre>\n"
      ],
      "text/plain": [
       "\u001b[3m                                                  Byteclass Info                                                   \u001b[0m\n",
       "┏━━━━━━━━━━━━━━━━━━━━━━━━━━━┳━━━━━━━━━━━━━━━━━━━━━━━━━━━━━━━━━━━━━━━━━━━━━━━━━━━━━━━━━━━━━━━━━━━━━━━━━━━━━━━━━━━━━┓\n",
       "┃\u001b[1m \u001b[0m\u001b[1mProperty                 \u001b[0m\u001b[1m \u001b[0m┃\u001b[1m \u001b[0m\u001b[1mValue                                                                              \u001b[0m\u001b[1m \u001b[0m┃\n",
       "┡━━━━━━━━━━━━━━━━━━━━━━━━━━━╇━━━━━━━━━━━━━━━━━━━━━━━━━━━━━━━━━━━━━━━━━━━━━━━━━━━━━━━━━━━━━━━━━━━━━━━━━━━━━━━━━━━━━┩\n",
       "│\u001b[90m \u001b[0m\u001b[1;90mtype()                   \u001b[0m\u001b[90m \u001b[0m│\u001b[90m \u001b[0m\u001b[90mBitField32                                                                         \u001b[0m\u001b[90m \u001b[0m│\n",
       "│\u001b[91m \u001b[0m\u001b[1;91mis_byteclass()           \u001b[0m\u001b[91m \u001b[0m│\u001b[91m \u001b[0m\u001b[91mTrue                                                                               \u001b[0m\u001b[91m \u001b[0m│\n",
       "│\u001b[92m \u001b[0m\u001b[1;92mis_byteclass_collection()\u001b[0m\u001b[92m \u001b[0m│\u001b[92m \u001b[0m\u001b[92mFalse                                                                              \u001b[0m\u001b[92m \u001b[0m│\n",
       "│\u001b[93m \u001b[0m\u001b[1;93mis_byteclass_primitive() \u001b[0m\u001b[93m \u001b[0m│\u001b[93m \u001b[0m\u001b[93mTrue                                                                               \u001b[0m\u001b[93m \u001b[0m│\n",
       "│\u001b[94m \u001b[0m\u001b[1;94mmro                      \u001b[0m\u001b[94m \u001b[0m│\u001b[94m \u001b[0m\u001b[94mBitField32 -> BitField -> _FixedSizeType -> ABC -> SupportsBytes -> Protocol ->    \u001b[0m\u001b[94m \u001b[0m│\n",
       "│\u001b[94m                           \u001b[0m│\u001b[94m \u001b[0m\u001b[94mGeneric -> object                                                                  \u001b[0m\u001b[94m \u001b[0m│\n",
       "│\u001b[95m \u001b[0m\u001b[1;95mlen()                    \u001b[0m\u001b[95m \u001b[0m│\u001b[95m \u001b[0m\u001b[95m4                                                                                  \u001b[0m\u001b[95m \u001b[0m│\n",
       "│\u001b[96m \u001b[0m\u001b[1;96mstr()                    \u001b[0m\u001b[96m \u001b[0m│\u001b[96m \u001b[0m\u001b[96mBitField32(11111111111111111111111111111111, flags={})                             \u001b[0m\u001b[96m \u001b[0m│\n",
       "│\u001b[90m \u001b[0m\u001b[1;90mrepr()                   \u001b[0m\u001b[90m \u001b[0m│\u001b[90m \u001b[0m\u001b[90mBitField32(data=b'\\xff\\xff\\xff\\xff')                                               \u001b[0m\u001b[90m \u001b[0m│\n",
       "│\u001b[91m \u001b[0m\u001b[1;91m.data                    \u001b[0m\u001b[91m \u001b[0m│\u001b[91m \u001b[0m\u001b[91mb'\\xff\\xff\\xff\\xff'                                                                \u001b[0m\u001b[91m \u001b[0m│\n",
       "│\u001b[92m \u001b[0m\u001b[1;92m.value                   \u001b[0m\u001b[92m \u001b[0m│\u001b[92m \u001b[0m\u001b[92m[True, True, True, True, True, True, True, True, True, True, True, True, True,     \u001b[0m\u001b[92m \u001b[0m│\n",
       "│\u001b[92m                           \u001b[0m│\u001b[92m \u001b[0m\u001b[92mTrue, True, True, True, True, True, True, True, True, True, True, True, True, True,\u001b[0m\u001b[92m \u001b[0m│\n",
       "│\u001b[92m                           \u001b[0m│\u001b[92m \u001b[0m\u001b[92mTrue, True, True, True, True]                                                      \u001b[0m\u001b[92m \u001b[0m│\n",
       "└───────────────────────────┴─────────────────────────────────────────────────────────────────────────────────────┘\n"
      ]
     },
     "metadata": {},
     "output_type": "display_data"
    },
    {
     "data": {
      "text/html": [
       "<pre style=\"white-space:pre;overflow-x:auto;line-height:normal;font-family:Menlo,'DejaVu Sans Mono',consolas,'Courier New',monospace\">╭────────────────── Byteclass Inspect ───────────────────╮\n",
       "│      00 01 02 03 04 05 06 07 08 09 0a 0b 0c 0d 0e 0f   │\n",
       "│ ----------------------------------------------------   │\n",
       "│ 0x0 <span style=\"color: #c0c0c0; text-decoration-color: #c0c0c0\">|</span><span style=\"color: #808080; text-decoration-color: #808080\">ff ff ff ff</span>                                       │\n",
       "╰────────────────────────────────────────────────────────╯\n",
       "</pre>\n"
      ],
      "text/plain": [
       "╭────────────────── Byteclass Inspect ───────────────────╮\n",
       "│      00 01 02 03 04 05 06 07 08 09 0a 0b 0c 0d 0e 0f   │\n",
       "│ ----------------------------------------------------   │\n",
       "│ 0x0 \u001b[37m|\u001b[0m\u001b[90mff ff ff ff\u001b[0m                                       │\n",
       "╰────────────────────────────────────────────────────────╯\n"
      ]
     },
     "metadata": {},
     "output_type": "display_data"
    },
    {
     "data": {
      "text/html": [
       "<pre style=\"white-space:pre;overflow-x:auto;line-height:normal;font-family:Menlo,'DejaVu Sans Mono',consolas,'Courier New',monospace\"><span style=\"font-style: italic\">                          Legend                          </span>\n",
       "┏━━━━━━━━━━━━━━━━━━━━━━━━━━━━━━━━━━━━━━━━━━━━━━━━━━━━━━━━┓\n",
       "┃<span style=\"font-weight: bold\"> Value                                                  </span>┃\n",
       "┡━━━━━━━━━━━━━━━━━━━━━━━━━━━━━━━━━━━━━━━━━━━━━━━━━━━━━━━━┩\n",
       "│<span style=\"color: #808080; text-decoration-color: #808080\"> </span><span style=\"color: #808080; text-decoration-color: #808080; font-weight: bold\">BitField32(11111111111111111111111111111111, flags={})</span><span style=\"color: #808080; text-decoration-color: #808080\"> </span>│\n",
       "└────────────────────────────────────────────────────────┘\n",
       "</pre>\n"
      ],
      "text/plain": [
       "\u001b[3m                          Legend                          \u001b[0m\n",
       "┏━━━━━━━━━━━━━━━━━━━━━━━━━━━━━━━━━━━━━━━━━━━━━━━━━━━━━━━━┓\n",
       "┃\u001b[1m \u001b[0m\u001b[1mValue                                                 \u001b[0m\u001b[1m \u001b[0m┃\n",
       "┡━━━━━━━━━━━━━━━━━━━━━━━━━━━━━━━━━━━━━━━━━━━━━━━━━━━━━━━━┩\n",
       "│\u001b[90m \u001b[0m\u001b[1;90mBitField32(11111111111111111111111111111111, flags={})\u001b[0m\u001b[90m \u001b[0m│\n",
       "└────────────────────────────────────────────────────────┘\n"
      ]
     },
     "metadata": {},
     "output_type": "display_data"
    },
    {
     "data": {
      "text/html": [
       "<pre style=\"white-space:pre;overflow-x:auto;line-height:normal;font-family:Menlo,'DejaVu Sans Mono',consolas,'Courier New',monospace\"><span style=\"font-style: italic\">                                                  Byteclass Info                                                   </span>\n",
       "┏━━━━━━━━━━━━━━━━━━━━━━━━━━━┳━━━━━━━━━━━━━━━━━━━━━━━━━━━━━━━━━━━━━━━━━━━━━━━━━━━━━━━━━━━━━━━━━━━━━━━━━━━━━━━━━━━━━┓\n",
       "┃<span style=\"font-weight: bold\"> Property                  </span>┃<span style=\"font-weight: bold\"> Value                                                                               </span>┃\n",
       "┡━━━━━━━━━━━━━━━━━━━━━━━━━━━╇━━━━━━━━━━━━━━━━━━━━━━━━━━━━━━━━━━━━━━━━━━━━━━━━━━━━━━━━━━━━━━━━━━━━━━━━━━━━━━━━━━━━━┩\n",
       "│<span style=\"color: #808080; text-decoration-color: #808080\"> </span><span style=\"color: #808080; text-decoration-color: #808080; font-weight: bold\">type()                   </span><span style=\"color: #808080; text-decoration-color: #808080\"> </span>│<span style=\"color: #808080; text-decoration-color: #808080\"> BitField64                                                                          </span>│\n",
       "│<span style=\"color: #ff0000; text-decoration-color: #ff0000\"> </span><span style=\"color: #ff0000; text-decoration-color: #ff0000; font-weight: bold\">is_byteclass()           </span><span style=\"color: #ff0000; text-decoration-color: #ff0000\"> </span>│<span style=\"color: #ff0000; text-decoration-color: #ff0000\"> True                                                                                </span>│\n",
       "│<span style=\"color: #00ff00; text-decoration-color: #00ff00\"> </span><span style=\"color: #00ff00; text-decoration-color: #00ff00; font-weight: bold\">is_byteclass_collection()</span><span style=\"color: #00ff00; text-decoration-color: #00ff00\"> </span>│<span style=\"color: #00ff00; text-decoration-color: #00ff00\"> False                                                                               </span>│\n",
       "│<span style=\"color: #ffff00; text-decoration-color: #ffff00\"> </span><span style=\"color: #ffff00; text-decoration-color: #ffff00; font-weight: bold\">is_byteclass_primitive() </span><span style=\"color: #ffff00; text-decoration-color: #ffff00\"> </span>│<span style=\"color: #ffff00; text-decoration-color: #ffff00\"> True                                                                                </span>│\n",
       "│<span style=\"color: #0000ff; text-decoration-color: #0000ff\"> </span><span style=\"color: #0000ff; text-decoration-color: #0000ff; font-weight: bold\">mro                      </span><span style=\"color: #0000ff; text-decoration-color: #0000ff\"> </span>│<span style=\"color: #0000ff; text-decoration-color: #0000ff\"> BitField64 -&gt; BitField -&gt; _FixedSizeType -&gt; ABC -&gt; SupportsBytes -&gt; Protocol -&gt;     </span>│\n",
       "│<span style=\"color: #0000ff; text-decoration-color: #0000ff\">                           </span>│<span style=\"color: #0000ff; text-decoration-color: #0000ff\"> Generic -&gt; object                                                                   </span>│\n",
       "│<span style=\"color: #ff00ff; text-decoration-color: #ff00ff\"> </span><span style=\"color: #ff00ff; text-decoration-color: #ff00ff; font-weight: bold\">len()                    </span><span style=\"color: #ff00ff; text-decoration-color: #ff00ff\"> </span>│<span style=\"color: #ff00ff; text-decoration-color: #ff00ff\"> 8                                                                                   </span>│\n",
       "│<span style=\"color: #00ffff; text-decoration-color: #00ffff\"> </span><span style=\"color: #00ffff; text-decoration-color: #00ffff; font-weight: bold\">str()                    </span><span style=\"color: #00ffff; text-decoration-color: #00ffff\"> </span>│<span style=\"color: #00ffff; text-decoration-color: #00ffff\"> BitField64(1111111111111111111111111111111111111111111111111111111111111111,        </span>│\n",
       "│<span style=\"color: #00ffff; text-decoration-color: #00ffff\">                           </span>│<span style=\"color: #00ffff; text-decoration-color: #00ffff\"> flags={})                                                                           </span>│\n",
       "│<span style=\"color: #808080; text-decoration-color: #808080\"> </span><span style=\"color: #808080; text-decoration-color: #808080; font-weight: bold\">repr()                   </span><span style=\"color: #808080; text-decoration-color: #808080\"> </span>│<span style=\"color: #808080; text-decoration-color: #808080\"> BitField64(data=b'\\xff\\xff\\xff\\xff\\xff\\xff\\xff\\xff')                                </span>│\n",
       "│<span style=\"color: #ff0000; text-decoration-color: #ff0000\"> </span><span style=\"color: #ff0000; text-decoration-color: #ff0000; font-weight: bold\">.data                    </span><span style=\"color: #ff0000; text-decoration-color: #ff0000\"> </span>│<span style=\"color: #ff0000; text-decoration-color: #ff0000\"> b'\\xff\\xff\\xff\\xff\\xff\\xff\\xff\\xff'                                                 </span>│\n",
       "│<span style=\"color: #00ff00; text-decoration-color: #00ff00\"> </span><span style=\"color: #00ff00; text-decoration-color: #00ff00; font-weight: bold\">.value                   </span><span style=\"color: #00ff00; text-decoration-color: #00ff00\"> </span>│<span style=\"color: #00ff00; text-decoration-color: #00ff00\"> [True, True, True, True, True, True, True, True, True, True, True, True, True,      </span>│\n",
       "│<span style=\"color: #00ff00; text-decoration-color: #00ff00\">                           </span>│<span style=\"color: #00ff00; text-decoration-color: #00ff00\"> True, True, True, True, True, True, True, True, True, True, True, True, True, True, </span>│\n",
       "│<span style=\"color: #00ff00; text-decoration-color: #00ff00\">                           </span>│<span style=\"color: #00ff00; text-decoration-color: #00ff00\"> True, True, True, True, True, True, True, True, True, True, True, True, True, True, </span>│\n",
       "│<span style=\"color: #00ff00; text-decoration-color: #00ff00\">                           </span>│<span style=\"color: #00ff00; text-decoration-color: #00ff00\"> True, True, True, True, True, True, True, True, True, True, True, True, True, True, </span>│\n",
       "│<span style=\"color: #00ff00; text-decoration-color: #00ff00\">                           </span>│<span style=\"color: #00ff00; text-decoration-color: #00ff00\"> True, True, True, True, True, True, True, True, True]                               </span>│\n",
       "└───────────────────────────┴─────────────────────────────────────────────────────────────────────────────────────┘\n",
       "</pre>\n"
      ],
      "text/plain": [
       "\u001b[3m                                                  Byteclass Info                                                   \u001b[0m\n",
       "┏━━━━━━━━━━━━━━━━━━━━━━━━━━━┳━━━━━━━━━━━━━━━━━━━━━━━━━━━━━━━━━━━━━━━━━━━━━━━━━━━━━━━━━━━━━━━━━━━━━━━━━━━━━━━━━━━━━┓\n",
       "┃\u001b[1m \u001b[0m\u001b[1mProperty                 \u001b[0m\u001b[1m \u001b[0m┃\u001b[1m \u001b[0m\u001b[1mValue                                                                              \u001b[0m\u001b[1m \u001b[0m┃\n",
       "┡━━━━━━━━━━━━━━━━━━━━━━━━━━━╇━━━━━━━━━━━━━━━━━━━━━━━━━━━━━━━━━━━━━━━━━━━━━━━━━━━━━━━━━━━━━━━━━━━━━━━━━━━━━━━━━━━━━┩\n",
       "│\u001b[90m \u001b[0m\u001b[1;90mtype()                   \u001b[0m\u001b[90m \u001b[0m│\u001b[90m \u001b[0m\u001b[90mBitField64                                                                         \u001b[0m\u001b[90m \u001b[0m│\n",
       "│\u001b[91m \u001b[0m\u001b[1;91mis_byteclass()           \u001b[0m\u001b[91m \u001b[0m│\u001b[91m \u001b[0m\u001b[91mTrue                                                                               \u001b[0m\u001b[91m \u001b[0m│\n",
       "│\u001b[92m \u001b[0m\u001b[1;92mis_byteclass_collection()\u001b[0m\u001b[92m \u001b[0m│\u001b[92m \u001b[0m\u001b[92mFalse                                                                              \u001b[0m\u001b[92m \u001b[0m│\n",
       "│\u001b[93m \u001b[0m\u001b[1;93mis_byteclass_primitive() \u001b[0m\u001b[93m \u001b[0m│\u001b[93m \u001b[0m\u001b[93mTrue                                                                               \u001b[0m\u001b[93m \u001b[0m│\n",
       "│\u001b[94m \u001b[0m\u001b[1;94mmro                      \u001b[0m\u001b[94m \u001b[0m│\u001b[94m \u001b[0m\u001b[94mBitField64 -> BitField -> _FixedSizeType -> ABC -> SupportsBytes -> Protocol ->    \u001b[0m\u001b[94m \u001b[0m│\n",
       "│\u001b[94m                           \u001b[0m│\u001b[94m \u001b[0m\u001b[94mGeneric -> object                                                                  \u001b[0m\u001b[94m \u001b[0m│\n",
       "│\u001b[95m \u001b[0m\u001b[1;95mlen()                    \u001b[0m\u001b[95m \u001b[0m│\u001b[95m \u001b[0m\u001b[95m8                                                                                  \u001b[0m\u001b[95m \u001b[0m│\n",
       "│\u001b[96m \u001b[0m\u001b[1;96mstr()                    \u001b[0m\u001b[96m \u001b[0m│\u001b[96m \u001b[0m\u001b[96mBitField64(1111111111111111111111111111111111111111111111111111111111111111,       \u001b[0m\u001b[96m \u001b[0m│\n",
       "│\u001b[96m                           \u001b[0m│\u001b[96m \u001b[0m\u001b[96mflags={})                                                                          \u001b[0m\u001b[96m \u001b[0m│\n",
       "│\u001b[90m \u001b[0m\u001b[1;90mrepr()                   \u001b[0m\u001b[90m \u001b[0m│\u001b[90m \u001b[0m\u001b[90mBitField64(data=b'\\xff\\xff\\xff\\xff\\xff\\xff\\xff\\xff')                               \u001b[0m\u001b[90m \u001b[0m│\n",
       "│\u001b[91m \u001b[0m\u001b[1;91m.data                    \u001b[0m\u001b[91m \u001b[0m│\u001b[91m \u001b[0m\u001b[91mb'\\xff\\xff\\xff\\xff\\xff\\xff\\xff\\xff'                                                \u001b[0m\u001b[91m \u001b[0m│\n",
       "│\u001b[92m \u001b[0m\u001b[1;92m.value                   \u001b[0m\u001b[92m \u001b[0m│\u001b[92m \u001b[0m\u001b[92m[True, True, True, True, True, True, True, True, True, True, True, True, True,     \u001b[0m\u001b[92m \u001b[0m│\n",
       "│\u001b[92m                           \u001b[0m│\u001b[92m \u001b[0m\u001b[92mTrue, True, True, True, True, True, True, True, True, True, True, True, True, True,\u001b[0m\u001b[92m \u001b[0m│\n",
       "│\u001b[92m                           \u001b[0m│\u001b[92m \u001b[0m\u001b[92mTrue, True, True, True, True, True, True, True, True, True, True, True, True, True,\u001b[0m\u001b[92m \u001b[0m│\n",
       "│\u001b[92m                           \u001b[0m│\u001b[92m \u001b[0m\u001b[92mTrue, True, True, True, True, True, True, True, True, True, True, True, True, True,\u001b[0m\u001b[92m \u001b[0m│\n",
       "│\u001b[92m                           \u001b[0m│\u001b[92m \u001b[0m\u001b[92mTrue, True, True, True, True, True, True, True, True]                              \u001b[0m\u001b[92m \u001b[0m│\n",
       "└───────────────────────────┴─────────────────────────────────────────────────────────────────────────────────────┘\n"
      ]
     },
     "metadata": {},
     "output_type": "display_data"
    },
    {
     "data": {
      "text/html": [
       "<pre style=\"white-space:pre;overflow-x:auto;line-height:normal;font-family:Menlo,'DejaVu Sans Mono',consolas,'Courier New',monospace\">╭────────────────── Byteclass Inspect ───────────────────╮\n",
       "│      00 01 02 03 04 05 06 07 08 09 0a 0b 0c 0d 0e 0f   │\n",
       "│ ----------------------------------------------------   │\n",
       "│ 0x0 <span style=\"color: #c0c0c0; text-decoration-color: #c0c0c0\">|</span><span style=\"color: #808080; text-decoration-color: #808080\">ff ff ff ff ff ff ff ff</span>                           │\n",
       "╰────────────────────────────────────────────────────────╯\n",
       "</pre>\n"
      ],
      "text/plain": [
       "╭────────────────── Byteclass Inspect ───────────────────╮\n",
       "│      00 01 02 03 04 05 06 07 08 09 0a 0b 0c 0d 0e 0f   │\n",
       "│ ----------------------------------------------------   │\n",
       "│ 0x0 \u001b[37m|\u001b[0m\u001b[90mff ff ff ff ff ff ff ff\u001b[0m                           │\n",
       "╰────────────────────────────────────────────────────────╯\n"
      ]
     },
     "metadata": {},
     "output_type": "display_data"
    },
    {
     "data": {
      "text/html": [
       "<pre style=\"white-space:pre;overflow-x:auto;line-height:normal;font-family:Menlo,'DejaVu Sans Mono',consolas,'Courier New',monospace\"><span style=\"font-style: italic\">                                          Legend                                          </span>\n",
       "┏━━━━━━━━━━━━━━━━━━━━━━━━━━━━━━━━━━━━━━━━━━━━━━━━━━━━━━━━━━━━━━━━━━━━━━━━━━━━━━━━━━━━━━━━┓\n",
       "┃<span style=\"font-weight: bold\"> Value                                                                                  </span>┃\n",
       "┡━━━━━━━━━━━━━━━━━━━━━━━━━━━━━━━━━━━━━━━━━━━━━━━━━━━━━━━━━━━━━━━━━━━━━━━━━━━━━━━━━━━━━━━━┩\n",
       "│<span style=\"color: #808080; text-decoration-color: #808080\"> </span><span style=\"color: #808080; text-decoration-color: #808080; font-weight: bold\">BitField64(1111111111111111111111111111111111111111111111111111111111111111, flags={})</span><span style=\"color: #808080; text-decoration-color: #808080\"> </span>│\n",
       "└────────────────────────────────────────────────────────────────────────────────────────┘\n",
       "</pre>\n"
      ],
      "text/plain": [
       "\u001b[3m                                          Legend                                          \u001b[0m\n",
       "┏━━━━━━━━━━━━━━━━━━━━━━━━━━━━━━━━━━━━━━━━━━━━━━━━━━━━━━━━━━━━━━━━━━━━━━━━━━━━━━━━━━━━━━━━┓\n",
       "┃\u001b[1m \u001b[0m\u001b[1mValue                                                                                 \u001b[0m\u001b[1m \u001b[0m┃\n",
       "┡━━━━━━━━━━━━━━━━━━━━━━━━━━━━━━━━━━━━━━━━━━━━━━━━━━━━━━━━━━━━━━━━━━━━━━━━━━━━━━━━━━━━━━━━┩\n",
       "│\u001b[90m \u001b[0m\u001b[1;90mBitField64(1111111111111111111111111111111111111111111111111111111111111111, flags={})\u001b[0m\u001b[90m \u001b[0m│\n",
       "└────────────────────────────────────────────────────────────────────────────────────────┘\n"
      ]
     },
     "metadata": {},
     "output_type": "display_data"
    }
   ],
   "source": [
    "for var in my_bfs:\n",
    "    byteclass_info(var)\n",
    "    byteclass_inspect(var)"
   ]
  },
  {
   "cell_type": "markdown",
   "metadata": {},
   "source": [
    "Bit values can be accesed using several methods."
   ]
  },
  {
   "cell_type": "markdown",
   "metadata": {},
   "source": [
    "1. Using the `get_bit(idx)` or `set_bit(idx, value)` methods"
   ]
  },
  {
   "cell_type": "code",
   "execution_count": 4,
   "metadata": {},
   "outputs": [],
   "source": [
    "bf = BitField()\n",
    "bf.set_bit(0)\n",
    "bf.set_bit(7)"
   ]
  },
  {
   "cell_type": "code",
   "execution_count": 5,
   "metadata": {},
   "outputs": [
    {
     "name": "stdout",
     "output_type": "stream",
     "text": [
      "True True\n",
      "BitField(10000001, flags={})\n"
     ]
    }
   ],
   "source": [
    "print(bf.get_bit(0), bf.get_bit(7))\n",
    "print(bf)"
   ]
  },
  {
   "cell_type": "markdown",
   "metadata": {},
   "source": [
    "2. or via instance indexing"
   ]
  },
  {
   "cell_type": "code",
   "execution_count": 6,
   "metadata": {},
   "outputs": [
    {
     "name": "stdout",
     "output_type": "stream",
     "text": [
      "BitField(11100001, flags={})\n"
     ]
    }
   ],
   "source": [
    "bf[1] = True\n",
    "bf[2] = True\n",
    "print(bf)"
   ]
  },
  {
   "cell_type": "code",
   "execution_count": 7,
   "metadata": {},
   "outputs": [
    {
     "name": "stdout",
     "output_type": "stream",
     "text": [
      "True False True\n"
     ]
    }
   ],
   "source": [
    "print(bf[2],bf[3], bf[-1])"
   ]
  },
  {
   "cell_type": "markdown",
   "metadata": {},
   "source": [
    "Subclassing the `BitField` class allows multi-byte bitfields and named bit positions."
   ]
  },
  {
   "cell_type": "code",
   "execution_count": 8,
   "metadata": {},
   "outputs": [],
   "source": [
    "class MultiBitField(BitField):\n",
    "    byte_length = 2\n",
    "    first = BitPos(0, bit_width=4)\n",
    "    last = BitPos(15)"
   ]
  },
  {
   "cell_type": "code",
   "execution_count": 9,
   "metadata": {},
   "outputs": [],
   "source": [
    "mbf = MultiBitField()"
   ]
  },
  {
   "cell_type": "code",
   "execution_count": 10,
   "metadata": {},
   "outputs": [
    {
     "data": {
      "text/html": [
       "<pre style=\"white-space:pre;overflow-x:auto;line-height:normal;font-family:Menlo,'DejaVu Sans Mono',consolas,'Courier New',monospace\"><span style=\"font-style: italic\">                                                  Byteclass Info                                                   </span>\n",
       "┏━━━━━━━━━━━━━━━━━━━━━━━━━━━┳━━━━━━━━━━━━━━━━━━━━━━━━━━━━━━━━━━━━━━━━━━━━━━━━━━━━━━━━━━━━━━━━━━━━━━━━━━━━━━━━━━━━━┓\n",
       "┃<span style=\"font-weight: bold\"> Property                  </span>┃<span style=\"font-weight: bold\"> Value                                                                               </span>┃\n",
       "┡━━━━━━━━━━━━━━━━━━━━━━━━━━━╇━━━━━━━━━━━━━━━━━━━━━━━━━━━━━━━━━━━━━━━━━━━━━━━━━━━━━━━━━━━━━━━━━━━━━━━━━━━━━━━━━━━━━┩\n",
       "│<span style=\"color: #808080; text-decoration-color: #808080\"> </span><span style=\"color: #808080; text-decoration-color: #808080; font-weight: bold\">type()                   </span><span style=\"color: #808080; text-decoration-color: #808080\"> </span>│<span style=\"color: #808080; text-decoration-color: #808080\"> MultiBitField                                                                       </span>│\n",
       "│<span style=\"color: #ff0000; text-decoration-color: #ff0000\"> </span><span style=\"color: #ff0000; text-decoration-color: #ff0000; font-weight: bold\">is_byteclass()           </span><span style=\"color: #ff0000; text-decoration-color: #ff0000\"> </span>│<span style=\"color: #ff0000; text-decoration-color: #ff0000\"> True                                                                                </span>│\n",
       "│<span style=\"color: #00ff00; text-decoration-color: #00ff00\"> </span><span style=\"color: #00ff00; text-decoration-color: #00ff00; font-weight: bold\">is_byteclass_collection()</span><span style=\"color: #00ff00; text-decoration-color: #00ff00\"> </span>│<span style=\"color: #00ff00; text-decoration-color: #00ff00\"> False                                                                               </span>│\n",
       "│<span style=\"color: #ffff00; text-decoration-color: #ffff00\"> </span><span style=\"color: #ffff00; text-decoration-color: #ffff00; font-weight: bold\">is_byteclass_primitive() </span><span style=\"color: #ffff00; text-decoration-color: #ffff00\"> </span>│<span style=\"color: #ffff00; text-decoration-color: #ffff00\"> True                                                                                </span>│\n",
       "│<span style=\"color: #0000ff; text-decoration-color: #0000ff\"> </span><span style=\"color: #0000ff; text-decoration-color: #0000ff; font-weight: bold\">mro                      </span><span style=\"color: #0000ff; text-decoration-color: #0000ff\"> </span>│<span style=\"color: #0000ff; text-decoration-color: #0000ff\"> MultiBitField -&gt; BitField -&gt; _FixedSizeType -&gt; ABC -&gt; SupportsBytes -&gt; Protocol -&gt;  </span>│\n",
       "│<span style=\"color: #0000ff; text-decoration-color: #0000ff\">                           </span>│<span style=\"color: #0000ff; text-decoration-color: #0000ff\"> Generic -&gt; object                                                                   </span>│\n",
       "│<span style=\"color: #ff00ff; text-decoration-color: #ff00ff\"> </span><span style=\"color: #ff00ff; text-decoration-color: #ff00ff; font-weight: bold\">len()                    </span><span style=\"color: #ff00ff; text-decoration-color: #ff00ff\"> </span>│<span style=\"color: #ff00ff; text-decoration-color: #ff00ff\"> 2                                                                                   </span>│\n",
       "│<span style=\"color: #00ffff; text-decoration-color: #00ffff\"> </span><span style=\"color: #00ffff; text-decoration-color: #00ffff; font-weight: bold\">str()                    </span><span style=\"color: #00ffff; text-decoration-color: #00ffff\"> </span>│<span style=\"color: #00ffff; text-decoration-color: #00ffff\"> MultiBitField(0000000000000000, flags={'first': 0, 'last': False})                  </span>│\n",
       "│<span style=\"color: #808080; text-decoration-color: #808080\"> </span><span style=\"color: #808080; text-decoration-color: #808080; font-weight: bold\">repr()                   </span><span style=\"color: #808080; text-decoration-color: #808080\"> </span>│<span style=\"color: #808080; text-decoration-color: #808080\"> MultiBitField(data=b'\\x00\\x00')                                                     </span>│\n",
       "│<span style=\"color: #ff0000; text-decoration-color: #ff0000\"> </span><span style=\"color: #ff0000; text-decoration-color: #ff0000; font-weight: bold\">.data                    </span><span style=\"color: #ff0000; text-decoration-color: #ff0000\"> </span>│<span style=\"color: #ff0000; text-decoration-color: #ff0000\"> b'\\x00\\x00'                                                                         </span>│\n",
       "│<span style=\"color: #00ff00; text-decoration-color: #00ff00\"> </span><span style=\"color: #00ff00; text-decoration-color: #00ff00; font-weight: bold\">.value                   </span><span style=\"color: #00ff00; text-decoration-color: #00ff00\"> </span>│<span style=\"color: #00ff00; text-decoration-color: #00ff00\"> [False, False, False, False, False, False, False, False, False, False, False,       </span>│\n",
       "│<span style=\"color: #00ff00; text-decoration-color: #00ff00\">                           </span>│<span style=\"color: #00ff00; text-decoration-color: #00ff00\"> False, False, False, False, False]                                                  </span>│\n",
       "└───────────────────────────┴─────────────────────────────────────────────────────────────────────────────────────┘\n",
       "</pre>\n"
      ],
      "text/plain": [
       "\u001b[3m                                                  Byteclass Info                                                   \u001b[0m\n",
       "┏━━━━━━━━━━━━━━━━━━━━━━━━━━━┳━━━━━━━━━━━━━━━━━━━━━━━━━━━━━━━━━━━━━━━━━━━━━━━━━━━━━━━━━━━━━━━━━━━━━━━━━━━━━━━━━━━━━┓\n",
       "┃\u001b[1m \u001b[0m\u001b[1mProperty                 \u001b[0m\u001b[1m \u001b[0m┃\u001b[1m \u001b[0m\u001b[1mValue                                                                              \u001b[0m\u001b[1m \u001b[0m┃\n",
       "┡━━━━━━━━━━━━━━━━━━━━━━━━━━━╇━━━━━━━━━━━━━━━━━━━━━━━━━━━━━━━━━━━━━━━━━━━━━━━━━━━━━━━━━━━━━━━━━━━━━━━━━━━━━━━━━━━━━┩\n",
       "│\u001b[90m \u001b[0m\u001b[1;90mtype()                   \u001b[0m\u001b[90m \u001b[0m│\u001b[90m \u001b[0m\u001b[90mMultiBitField                                                                      \u001b[0m\u001b[90m \u001b[0m│\n",
       "│\u001b[91m \u001b[0m\u001b[1;91mis_byteclass()           \u001b[0m\u001b[91m \u001b[0m│\u001b[91m \u001b[0m\u001b[91mTrue                                                                               \u001b[0m\u001b[91m \u001b[0m│\n",
       "│\u001b[92m \u001b[0m\u001b[1;92mis_byteclass_collection()\u001b[0m\u001b[92m \u001b[0m│\u001b[92m \u001b[0m\u001b[92mFalse                                                                              \u001b[0m\u001b[92m \u001b[0m│\n",
       "│\u001b[93m \u001b[0m\u001b[1;93mis_byteclass_primitive() \u001b[0m\u001b[93m \u001b[0m│\u001b[93m \u001b[0m\u001b[93mTrue                                                                               \u001b[0m\u001b[93m \u001b[0m│\n",
       "│\u001b[94m \u001b[0m\u001b[1;94mmro                      \u001b[0m\u001b[94m \u001b[0m│\u001b[94m \u001b[0m\u001b[94mMultiBitField -> BitField -> _FixedSizeType -> ABC -> SupportsBytes -> Protocol -> \u001b[0m\u001b[94m \u001b[0m│\n",
       "│\u001b[94m                           \u001b[0m│\u001b[94m \u001b[0m\u001b[94mGeneric -> object                                                                  \u001b[0m\u001b[94m \u001b[0m│\n",
       "│\u001b[95m \u001b[0m\u001b[1;95mlen()                    \u001b[0m\u001b[95m \u001b[0m│\u001b[95m \u001b[0m\u001b[95m2                                                                                  \u001b[0m\u001b[95m \u001b[0m│\n",
       "│\u001b[96m \u001b[0m\u001b[1;96mstr()                    \u001b[0m\u001b[96m \u001b[0m│\u001b[96m \u001b[0m\u001b[96mMultiBitField(0000000000000000, flags={'first': 0, 'last': False})                 \u001b[0m\u001b[96m \u001b[0m│\n",
       "│\u001b[90m \u001b[0m\u001b[1;90mrepr()                   \u001b[0m\u001b[90m \u001b[0m│\u001b[90m \u001b[0m\u001b[90mMultiBitField(data=b'\\x00\\x00')                                                    \u001b[0m\u001b[90m \u001b[0m│\n",
       "│\u001b[91m \u001b[0m\u001b[1;91m.data                    \u001b[0m\u001b[91m \u001b[0m│\u001b[91m \u001b[0m\u001b[91mb'\\x00\\x00'                                                                        \u001b[0m\u001b[91m \u001b[0m│\n",
       "│\u001b[92m \u001b[0m\u001b[1;92m.value                   \u001b[0m\u001b[92m \u001b[0m│\u001b[92m \u001b[0m\u001b[92m[False, False, False, False, False, False, False, False, False, False, False,      \u001b[0m\u001b[92m \u001b[0m│\n",
       "│\u001b[92m                           \u001b[0m│\u001b[92m \u001b[0m\u001b[92mFalse, False, False, False, False]                                                 \u001b[0m\u001b[92m \u001b[0m│\n",
       "└───────────────────────────┴─────────────────────────────────────────────────────────────────────────────────────┘\n"
      ]
     },
     "metadata": {},
     "output_type": "display_data"
    }
   ],
   "source": [
    "byteclass_info(mbf)"
   ]
  },
  {
   "cell_type": "code",
   "execution_count": 11,
   "metadata": {},
   "outputs": [
    {
     "data": {
      "text/html": [
       "<pre style=\"white-space:pre;overflow-x:auto;line-height:normal;font-family:Menlo,'DejaVu Sans Mono',consolas,'Courier New',monospace\">╭────────────────── Byteclass Inspect ───────────────────╮\n",
       "│      00 01 02 03 04 05 06 07 08 09 0a 0b 0c 0d 0e 0f   │\n",
       "│ ----------------------------------------------------   │\n",
       "│ 0x0 <span style=\"color: #c0c0c0; text-decoration-color: #c0c0c0\">|</span><span style=\"color: #808080; text-decoration-color: #808080\">00 00</span>                                             │\n",
       "╰────────────────────────────────────────────────────────╯\n",
       "</pre>\n"
      ],
      "text/plain": [
       "╭────────────────── Byteclass Inspect ───────────────────╮\n",
       "│      00 01 02 03 04 05 06 07 08 09 0a 0b 0c 0d 0e 0f   │\n",
       "│ ----------------------------------------------------   │\n",
       "│ 0x0 \u001b[37m|\u001b[0m\u001b[90m00 00\u001b[0m                                             │\n",
       "╰────────────────────────────────────────────────────────╯\n"
      ]
     },
     "metadata": {},
     "output_type": "display_data"
    },
    {
     "data": {
      "text/html": [
       "<pre style=\"white-space:pre;overflow-x:auto;line-height:normal;font-family:Menlo,'DejaVu Sans Mono',consolas,'Courier New',monospace\"><span style=\"font-style: italic\">                                Legend                                </span>\n",
       "┏━━━━━━━━━━━━━━━━━━━━━━━━━━━━━━━━━━━━━━━━━━━━━━━━━━━━━━━━━━━━━━━━━━━━┓\n",
       "┃<span style=\"font-weight: bold\"> Value                                                              </span>┃\n",
       "┡━━━━━━━━━━━━━━━━━━━━━━━━━━━━━━━━━━━━━━━━━━━━━━━━━━━━━━━━━━━━━━━━━━━━┩\n",
       "│<span style=\"color: #808080; text-decoration-color: #808080\"> </span><span style=\"color: #808080; text-decoration-color: #808080; font-weight: bold\">MultiBitField(0000000000000000, flags={'first': 0, 'last': False})</span><span style=\"color: #808080; text-decoration-color: #808080\"> </span>│\n",
       "└────────────────────────────────────────────────────────────────────┘\n",
       "</pre>\n"
      ],
      "text/plain": [
       "\u001b[3m                                Legend                                \u001b[0m\n",
       "┏━━━━━━━━━━━━━━━━━━━━━━━━━━━━━━━━━━━━━━━━━━━━━━━━━━━━━━━━━━━━━━━━━━━━┓\n",
       "┃\u001b[1m \u001b[0m\u001b[1mValue                                                             \u001b[0m\u001b[1m \u001b[0m┃\n",
       "┡━━━━━━━━━━━━━━━━━━━━━━━━━━━━━━━━━━━━━━━━━━━━━━━━━━━━━━━━━━━━━━━━━━━━┩\n",
       "│\u001b[90m \u001b[0m\u001b[1;90mMultiBitField(0000000000000000, flags={'first': 0, 'last': False})\u001b[0m\u001b[90m \u001b[0m│\n",
       "└────────────────────────────────────────────────────────────────────┘\n"
      ]
     },
     "metadata": {},
     "output_type": "display_data"
    }
   ],
   "source": [
    "byteclass_inspect(mbf)"
   ]
  },
  {
   "cell_type": "markdown",
   "metadata": {},
   "source": [
    "Named bits can be used to get or set the bit position specified when instantiating the `BitPos` class member."
   ]
  },
  {
   "cell_type": "code",
   "execution_count": 12,
   "metadata": {},
   "outputs": [],
   "source": [
    "mbf.first = True\n",
    "mbf.last = True"
   ]
  },
  {
   "cell_type": "code",
   "execution_count": 13,
   "metadata": {},
   "outputs": [],
   "source": [
    "print(mbf, mbf.first, mbf.last)\n",
    "print(mbf.flags)"
   ]
  }
 ],
 "metadata": {
  "kernelspec": {
   "display_name": ".venv",
   "language": "python",
   "name": "python3"
  },
  "language_info": {
   "codemirror_mode": {
    "name": "ipython",
    "version": 3
   },
   "file_extension": ".py",
   "mimetype": "text/x-python",
   "name": "python",
   "nbconvert_exporter": "python",
   "pygments_lexer": "ipython3",
   "version": "3.11.9"
  }
 },
 "nbformat": 4,
 "nbformat_minor": 2
}
