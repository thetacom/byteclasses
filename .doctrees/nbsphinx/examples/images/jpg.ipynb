{
 "cells": [
  {
   "cell_type": "markdown",
   "metadata": {},
   "source": [
    "# JPEG Data Handler"
   ]
  },
  {
   "cell_type": "code",
   "execution_count": 1,
   "metadata": {
    "execution": {
     "iopub.execute_input": "2024-05-01T01:17:25.074480Z",
     "iopub.status.busy": "2024-05-01T01:17:25.074277Z",
     "iopub.status.idle": "2024-05-01T01:17:25.096622Z",
     "shell.execute_reply": "2024-05-01T01:17:25.095990Z"
    }
   },
   "outputs": [],
   "source": [
    "from rich import print\n",
    "\n",
    "from byteclasses.handlers.images import JPG"
   ]
  },
  {
   "cell_type": "code",
   "execution_count": 2,
   "metadata": {
    "execution": {
     "iopub.execute_input": "2024-05-01T01:17:25.099210Z",
     "iopub.status.busy": "2024-05-01T01:17:25.099016Z",
     "iopub.status.idle": "2024-05-01T01:17:25.146053Z",
     "shell.execute_reply": "2024-05-01T01:17:25.145416Z"
    }
   },
   "outputs": [
    {
     "data": {
      "text/html": [
       "<pre style=\"white-space:pre;overflow-x:auto;line-height:normal;font-family:Menlo,'DejaVu Sans Mono',consolas,'Courier New',monospace\"><span style=\"font-weight: bold\">&lt;</span><span style=\"color: #ff00ff; text-decoration-color: #ff00ff; font-weight: bold\">JPG:</span><span style=\"color: #800080; text-decoration-color: #800080; font-weight: bold\">Seg</span><span style=\"color: #000000; text-decoration-color: #000000; font-weight: bold\">(</span><span style=\"color: #000000; text-decoration-color: #000000\">SOI</span><span style=\"color: #000000; text-decoration-color: #000000; font-weight: bold\">)</span><span style=\"color: #000000; text-decoration-color: #000000\">|</span><span style=\"color: #800080; text-decoration-color: #800080; font-weight: bold\">Seg</span><span style=\"color: #000000; text-decoration-color: #000000; font-weight: bold\">(</span><span style=\"color: #000000; text-decoration-color: #000000\">APP0</span><span style=\"color: #000000; text-decoration-color: #000000; font-weight: bold\">)</span><span style=\"color: #000000; text-decoration-color: #000000\">|</span><span style=\"color: #800080; text-decoration-color: #800080; font-weight: bold\">Seg</span><span style=\"color: #000000; text-decoration-color: #000000; font-weight: bold\">(</span><span style=\"color: #000000; text-decoration-color: #000000\">APP1</span><span style=\"color: #000000; text-decoration-color: #000000; font-weight: bold\">)</span><span style=\"color: #000000; text-decoration-color: #000000\">|</span><span style=\"color: #800080; text-decoration-color: #800080; font-weight: bold\">Seg</span><span style=\"color: #000000; text-decoration-color: #000000; font-weight: bold\">(</span><span style=\"color: #000000; text-decoration-color: #000000\">APP1</span><span style=\"color: #000000; text-decoration-color: #000000; font-weight: bold\">)</span><span style=\"color: #000000; text-decoration-color: #000000\">|</span><span style=\"color: #800080; text-decoration-color: #800080; font-weight: bold\">Seg</span><span style=\"color: #000000; text-decoration-color: #000000; font-weight: bold\">(</span><span style=\"color: #000000; text-decoration-color: #000000\">DQT</span><span style=\"color: #000000; text-decoration-color: #000000; font-weight: bold\">)</span><span style=\"color: #000000; text-decoration-color: #000000\">|</span><span style=\"color: #800080; text-decoration-color: #800080; font-weight: bold\">Seg</span><span style=\"color: #000000; text-decoration-color: #000000; font-weight: bold\">(</span><span style=\"color: #000000; text-decoration-color: #000000\">DQT</span><span style=\"color: #000000; text-decoration-color: #000000; font-weight: bold\">)</span><span style=\"color: #000000; text-decoration-color: #000000\">|</span><span style=\"color: #800080; text-decoration-color: #800080; font-weight: bold\">Seg</span><span style=\"color: #000000; text-decoration-color: #000000; font-weight: bold\">(</span><span style=\"color: #000000; text-decoration-color: #000000\">SOF2</span><span style=\"color: #000000; text-decoration-color: #000000; font-weight: bold\">)</span><span style=\"color: #000000; text-decoration-color: #000000\">|</span><span style=\"color: #800080; text-decoration-color: #800080; font-weight: bold\">Seg</span><span style=\"color: #000000; text-decoration-color: #000000; font-weight: bold\">(</span><span style=\"color: #000000; text-decoration-color: #000000\">DHT</span><span style=\"color: #000000; text-decoration-color: #000000; font-weight: bold\">)</span><span style=\"color: #000000; text-decoration-color: #000000\">|</span><span style=\"color: #800080; text-decoration-color: #800080; font-weight: bold\">Seg</span><span style=\"color: #000000; text-decoration-color: #000000; font-weight: bold\">(</span><span style=\"color: #000000; text-decoration-color: #000000\">DHT</span><span style=\"color: #000000; text-decoration-color: #000000; font-weight: bold\">)</span><span style=\"color: #000000; text-decoration-color: #000000\">|</span><span style=\"color: #800080; text-decoration-color: #800080; font-weight: bold\">Seg</span><span style=\"color: #000000; text-decoration-color: #000000; font-weight: bold\">(</span><span style=\"color: #000000; text-decoration-color: #000000\">SOS</span><span style=\"color: #000000; text-decoration-color: #000000; font-weight: bold\">)</span><span style=\"color: #000000; text-decoration-color: #000000\">|</span><span style=\"color: #800080; text-decoration-color: #800080; font-weight: bold\">Seg</span><span style=\"color: #000000; text-decoration-color: #000000; font-weight: bold\">(</span><span style=\"color: #000000; text-decoration-color: #000000\">DHT</span><span style=\"color: #000000; text-decoration-color: #000000; font-weight: bold\">)</span><span style=\"color: #000000; text-decoration-color: #000000\">|</span><span style=\"color: #800080; text-decoration-color: #800080; font-weight: bold\">Seg</span><span style=\"color: #000000; text-decoration-color: #000000; font-weight: bold\">(</span><span style=\"color: #000000; text-decoration-color: #000000\">SOS</span>\n",
       "<span style=\"color: #000000; text-decoration-color: #000000; font-weight: bold\">)</span><span style=\"color: #000000; text-decoration-color: #000000\">|</span><span style=\"color: #800080; text-decoration-color: #800080; font-weight: bold\">Seg</span><span style=\"color: #000000; text-decoration-color: #000000; font-weight: bold\">(</span><span style=\"color: #000000; text-decoration-color: #000000\">DHT</span><span style=\"color: #000000; text-decoration-color: #000000; font-weight: bold\">)</span><span style=\"color: #000000; text-decoration-color: #000000\">|</span><span style=\"color: #800080; text-decoration-color: #800080; font-weight: bold\">Seg</span><span style=\"color: #000000; text-decoration-color: #000000; font-weight: bold\">(</span><span style=\"color: #000000; text-decoration-color: #000000\">SOS</span><span style=\"color: #000000; text-decoration-color: #000000; font-weight: bold\">)</span><span style=\"color: #000000; text-decoration-color: #000000\">|</span><span style=\"color: #800080; text-decoration-color: #800080; font-weight: bold\">Seg</span><span style=\"color: #000000; text-decoration-color: #000000; font-weight: bold\">(</span><span style=\"color: #000000; text-decoration-color: #000000\">DHT</span><span style=\"color: #000000; text-decoration-color: #000000; font-weight: bold\">)</span><span style=\"color: #000000; text-decoration-color: #000000\">|</span><span style=\"color: #800080; text-decoration-color: #800080; font-weight: bold\">Seg</span><span style=\"color: #000000; text-decoration-color: #000000; font-weight: bold\">(</span><span style=\"color: #000000; text-decoration-color: #000000\">SOS</span><span style=\"color: #000000; text-decoration-color: #000000; font-weight: bold\">)</span><span style=\"color: #000000; text-decoration-color: #000000\">|</span><span style=\"color: #800080; text-decoration-color: #800080; font-weight: bold\">Seg</span><span style=\"color: #000000; text-decoration-color: #000000; font-weight: bold\">(</span><span style=\"color: #000000; text-decoration-color: #000000\">DHT</span><span style=\"color: #000000; text-decoration-color: #000000; font-weight: bold\">)</span><span style=\"color: #000000; text-decoration-color: #000000\">|</span><span style=\"color: #800080; text-decoration-color: #800080; font-weight: bold\">Seg</span><span style=\"color: #000000; text-decoration-color: #000000; font-weight: bold\">(</span><span style=\"color: #000000; text-decoration-color: #000000\">SOS</span><span style=\"color: #000000; text-decoration-color: #000000; font-weight: bold\">)</span><span style=\"color: #000000; text-decoration-color: #000000\">|</span><span style=\"color: #800080; text-decoration-color: #800080; font-weight: bold\">Seg</span><span style=\"color: #000000; text-decoration-color: #000000; font-weight: bold\">(</span><span style=\"color: #000000; text-decoration-color: #000000\">DHT</span><span style=\"color: #000000; text-decoration-color: #000000; font-weight: bold\">)</span><span style=\"color: #000000; text-decoration-color: #000000\">|</span><span style=\"color: #800080; text-decoration-color: #800080; font-weight: bold\">Seg</span><span style=\"color: #000000; text-decoration-color: #000000; font-weight: bold\">(</span><span style=\"color: #000000; text-decoration-color: #000000\">SOS</span><span style=\"color: #000000; text-decoration-color: #000000; font-weight: bold\">)</span><span style=\"color: #000000; text-decoration-color: #000000\">|</span><span style=\"color: #800080; text-decoration-color: #800080; font-weight: bold\">Seg</span><span style=\"color: #000000; text-decoration-color: #000000; font-weight: bold\">(</span><span style=\"color: #000000; text-decoration-color: #000000\">SOS</span><span style=\"color: #000000; text-decoration-color: #000000; font-weight: bold\">)</span><span style=\"color: #000000; text-decoration-color: #000000\">|</span><span style=\"color: #800080; text-decoration-color: #800080; font-weight: bold\">Seg</span><span style=\"color: #000000; text-decoration-color: #000000; font-weight: bold\">(</span><span style=\"color: #000000; text-decoration-color: #000000\">DHT</span><span style=\"color: #000000; text-decoration-color: #000000; font-weight: bold\">)</span><span style=\"color: #000000; text-decoration-color: #000000\">|</span><span style=\"color: #800080; text-decoration-color: #800080; font-weight: bold\">Seg</span><span style=\"color: #000000; text-decoration-color: #000000; font-weight: bold\">(</span><span style=\"color: #000000; text-decoration-color: #000000\">SOS</span><span style=\"color: #000000; text-decoration-color: #000000; font-weight: bold\">)</span><span style=\"color: #000000; text-decoration-color: #000000\">|</span><span style=\"color: #800080; text-decoration-color: #800080; font-weight: bold\">Seg</span><span style=\"color: #000000; text-decoration-color: #000000; font-weight: bold\">(</span><span style=\"color: #000000; text-decoration-color: #000000\">DHT</span><span style=\"color: #000000; text-decoration-color: #000000; font-weight: bold\">)</span><span style=\"color: #000000; text-decoration-color: #000000\">|</span><span style=\"color: #800080; text-decoration-color: #800080; font-weight: bold\">Seg</span><span style=\"color: #000000; text-decoration-color: #000000; font-weight: bold\">(</span><span style=\"color: #000000; text-decoration-color: #000000\">S</span>\n",
       "<span style=\"color: #000000; text-decoration-color: #000000\">OS</span><span style=\"color: #000000; text-decoration-color: #000000; font-weight: bold\">)</span><span style=\"color: #000000; text-decoration-color: #000000\">|</span><span style=\"color: #800080; text-decoration-color: #800080; font-weight: bold\">Seg</span><span style=\"color: #000000; text-decoration-color: #000000; font-weight: bold\">(</span><span style=\"color: #000000; text-decoration-color: #000000\">DHT</span><span style=\"color: #000000; text-decoration-color: #000000; font-weight: bold\">)</span><span style=\"color: #000000; text-decoration-color: #000000\">|</span><span style=\"color: #800080; text-decoration-color: #800080; font-weight: bold\">Seg</span><span style=\"color: #000000; text-decoration-color: #000000; font-weight: bold\">(</span><span style=\"color: #000000; text-decoration-color: #000000\">SOS</span><span style=\"color: #000000; text-decoration-color: #000000; font-weight: bold\">)</span><span style=\"color: #000000; text-decoration-color: #000000\">|</span><span style=\"color: #800080; text-decoration-color: #800080; font-weight: bold\">Seg</span><span style=\"color: #000000; text-decoration-color: #000000; font-weight: bold\">(</span><span style=\"color: #000000; text-decoration-color: #000000\">EOI</span><span style=\"color: #000000; text-decoration-color: #000000; font-weight: bold\">)</span><span style=\"font-weight: bold\">&gt;</span>\n",
       "</pre>\n"
      ],
      "text/plain": [
       "\u001b[1m<\u001b[0m\u001b[1;95mJPG:\u001b[0m\u001b[1;35mSeg\u001b[0m\u001b[1;39m(\u001b[0m\u001b[39mSOI\u001b[0m\u001b[1;39m)\u001b[0m\u001b[39m|\u001b[0m\u001b[1;35mSeg\u001b[0m\u001b[1;39m(\u001b[0m\u001b[39mAPP0\u001b[0m\u001b[1;39m)\u001b[0m\u001b[39m|\u001b[0m\u001b[1;35mSeg\u001b[0m\u001b[1;39m(\u001b[0m\u001b[39mAPP1\u001b[0m\u001b[1;39m)\u001b[0m\u001b[39m|\u001b[0m\u001b[1;35mSeg\u001b[0m\u001b[1;39m(\u001b[0m\u001b[39mAPP1\u001b[0m\u001b[1;39m)\u001b[0m\u001b[39m|\u001b[0m\u001b[1;35mSeg\u001b[0m\u001b[1;39m(\u001b[0m\u001b[39mDQT\u001b[0m\u001b[1;39m)\u001b[0m\u001b[39m|\u001b[0m\u001b[1;35mSeg\u001b[0m\u001b[1;39m(\u001b[0m\u001b[39mDQT\u001b[0m\u001b[1;39m)\u001b[0m\u001b[39m|\u001b[0m\u001b[1;35mSeg\u001b[0m\u001b[1;39m(\u001b[0m\u001b[39mSOF2\u001b[0m\u001b[1;39m)\u001b[0m\u001b[39m|\u001b[0m\u001b[1;35mSeg\u001b[0m\u001b[1;39m(\u001b[0m\u001b[39mDHT\u001b[0m\u001b[1;39m)\u001b[0m\u001b[39m|\u001b[0m\u001b[1;35mSeg\u001b[0m\u001b[1;39m(\u001b[0m\u001b[39mDHT\u001b[0m\u001b[1;39m)\u001b[0m\u001b[39m|\u001b[0m\u001b[1;35mSeg\u001b[0m\u001b[1;39m(\u001b[0m\u001b[39mSOS\u001b[0m\u001b[1;39m)\u001b[0m\u001b[39m|\u001b[0m\u001b[1;35mSeg\u001b[0m\u001b[1;39m(\u001b[0m\u001b[39mDHT\u001b[0m\u001b[1;39m)\u001b[0m\u001b[39m|\u001b[0m\u001b[1;35mSeg\u001b[0m\u001b[1;39m(\u001b[0m\u001b[39mSOS\u001b[0m\n",
       "\u001b[1;39m)\u001b[0m\u001b[39m|\u001b[0m\u001b[1;35mSeg\u001b[0m\u001b[1;39m(\u001b[0m\u001b[39mDHT\u001b[0m\u001b[1;39m)\u001b[0m\u001b[39m|\u001b[0m\u001b[1;35mSeg\u001b[0m\u001b[1;39m(\u001b[0m\u001b[39mSOS\u001b[0m\u001b[1;39m)\u001b[0m\u001b[39m|\u001b[0m\u001b[1;35mSeg\u001b[0m\u001b[1;39m(\u001b[0m\u001b[39mDHT\u001b[0m\u001b[1;39m)\u001b[0m\u001b[39m|\u001b[0m\u001b[1;35mSeg\u001b[0m\u001b[1;39m(\u001b[0m\u001b[39mSOS\u001b[0m\u001b[1;39m)\u001b[0m\u001b[39m|\u001b[0m\u001b[1;35mSeg\u001b[0m\u001b[1;39m(\u001b[0m\u001b[39mDHT\u001b[0m\u001b[1;39m)\u001b[0m\u001b[39m|\u001b[0m\u001b[1;35mSeg\u001b[0m\u001b[1;39m(\u001b[0m\u001b[39mSOS\u001b[0m\u001b[1;39m)\u001b[0m\u001b[39m|\u001b[0m\u001b[1;35mSeg\u001b[0m\u001b[1;39m(\u001b[0m\u001b[39mDHT\u001b[0m\u001b[1;39m)\u001b[0m\u001b[39m|\u001b[0m\u001b[1;35mSeg\u001b[0m\u001b[1;39m(\u001b[0m\u001b[39mSOS\u001b[0m\u001b[1;39m)\u001b[0m\u001b[39m|\u001b[0m\u001b[1;35mSeg\u001b[0m\u001b[1;39m(\u001b[0m\u001b[39mSOS\u001b[0m\u001b[1;39m)\u001b[0m\u001b[39m|\u001b[0m\u001b[1;35mSeg\u001b[0m\u001b[1;39m(\u001b[0m\u001b[39mDHT\u001b[0m\u001b[1;39m)\u001b[0m\u001b[39m|\u001b[0m\u001b[1;35mSeg\u001b[0m\u001b[1;39m(\u001b[0m\u001b[39mSOS\u001b[0m\u001b[1;39m)\u001b[0m\u001b[39m|\u001b[0m\u001b[1;35mSeg\u001b[0m\u001b[1;39m(\u001b[0m\u001b[39mDHT\u001b[0m\u001b[1;39m)\u001b[0m\u001b[39m|\u001b[0m\u001b[1;35mSeg\u001b[0m\u001b[1;39m(\u001b[0m\u001b[39mS\u001b[0m\n",
       "\u001b[39mOS\u001b[0m\u001b[1;39m)\u001b[0m\u001b[39m|\u001b[0m\u001b[1;35mSeg\u001b[0m\u001b[1;39m(\u001b[0m\u001b[39mDHT\u001b[0m\u001b[1;39m)\u001b[0m\u001b[39m|\u001b[0m\u001b[1;35mSeg\u001b[0m\u001b[1;39m(\u001b[0m\u001b[39mSOS\u001b[0m\u001b[1;39m)\u001b[0m\u001b[39m|\u001b[0m\u001b[1;35mSeg\u001b[0m\u001b[1;39m(\u001b[0m\u001b[39mEOI\u001b[0m\u001b[1;39m)\u001b[0m\u001b[1m>\u001b[0m\n"
      ]
     },
     "metadata": {},
     "output_type": "display_data"
    }
   ],
   "source": [
    "with open(\"../../../tests/data/sample.jpg\", \"rb\") as file:\n",
    "    img_data = file.read()\n",
    "jpg = JPG(img_data)\n",
    "print(jpg)"
   ]
  },
  {
   "cell_type": "code",
   "execution_count": 3,
   "metadata": {
    "execution": {
     "iopub.execute_input": "2024-05-01T01:17:25.148543Z",
     "iopub.status.busy": "2024-05-01T01:17:25.148199Z",
     "iopub.status.idle": "2024-05-01T01:17:25.152661Z",
     "shell.execute_reply": "2024-05-01T01:17:25.152130Z"
    }
   },
   "outputs": [
    {
     "data": {
      "text/html": [
       "<pre style=\"white-space:pre;overflow-x:auto;line-height:normal;font-family:Menlo,'DejaVu Sans Mono',consolas,'Courier New',monospace\"><span style=\"color: #800080; text-decoration-color: #800080; font-weight: bold\">JPG</span><span style=\"font-weight: bold\">(</span><span style=\"color: #808000; text-decoration-color: #808000\">data</span>=<span style=\"font-weight: bold\">&lt;</span><span style=\"color: #ff00ff; text-decoration-color: #ff00ff; font-weight: bold\">memory</span><span style=\"color: #000000; text-decoration-color: #000000\"> at </span><span style=\"color: #008080; text-decoration-color: #008080; font-weight: bold\">0x7fc518e4af80</span><span style=\"font-weight: bold\">&gt;)</span>\n",
       "</pre>\n"
      ],
      "text/plain": [
       "\u001b[1;35mJPG\u001b[0m\u001b[1m(\u001b[0m\u001b[33mdata\u001b[0m=\u001b[1m<\u001b[0m\u001b[1;95mmemory\u001b[0m\u001b[39m at \u001b[0m\u001b[1;36m0x7fc518e4af80\u001b[0m\u001b[1m>\u001b[0m\u001b[1m)\u001b[0m\n"
      ]
     },
     "metadata": {},
     "output_type": "display_data"
    }
   ],
   "source": [
    "print(repr(jpg))"
   ]
  },
  {
   "cell_type": "code",
   "execution_count": 4,
   "metadata": {
    "execution": {
     "iopub.execute_input": "2024-05-01T01:17:25.155191Z",
     "iopub.status.busy": "2024-05-01T01:17:25.154669Z",
     "iopub.status.idle": "2024-05-01T01:17:25.200851Z",
     "shell.execute_reply": "2024-05-01T01:17:25.200304Z"
    }
   },
   "outputs": [
    {
     "data": {
      "text/html": [
       "<pre style=\"white-space:pre;overflow-x:auto;line-height:normal;font-family:Menlo,'DejaVu Sans Mono',consolas,'Courier New',monospace\"><span style=\"font-weight: bold\">&lt;</span><span style=\"color: #800080; text-decoration-color: #800080; font-weight: bold\">Seg</span><span style=\"color: #000000; text-decoration-color: #000000; font-weight: bold\">(</span><span style=\"color: #000000; text-decoration-color: #000000\">SOI</span><span style=\"color: #000000; text-decoration-color: #000000; font-weight: bold\">)</span><span style=\"color: #000000; text-decoration-color: #000000\">: </span><span style=\"font-weight: bold\">&gt;</span>\n",
       "</pre>\n"
      ],
      "text/plain": [
       "\u001b[1m<\u001b[0m\u001b[1;35mSeg\u001b[0m\u001b[1;39m(\u001b[0m\u001b[39mSOI\u001b[0m\u001b[1;39m)\u001b[0m\u001b[39m: \u001b[0m\u001b[1m>\u001b[0m\n"
      ]
     },
     "metadata": {},
     "output_type": "display_data"
    },
    {
     "data": {
      "text/html": [
       "<pre style=\"white-space:pre;overflow-x:auto;line-height:normal;font-family:Menlo,'DejaVu Sans Mono',consolas,'Courier New',monospace\"><span style=\"font-weight: bold\">&lt;</span><span style=\"color: #800080; text-decoration-color: #800080; font-weight: bold\">Seg</span><span style=\"color: #000000; text-decoration-color: #000000; font-weight: bold\">(</span><span style=\"color: #000000; text-decoration-color: #000000\">APP0</span><span style=\"color: #000000; text-decoration-color: #000000; font-weight: bold\">)</span><span style=\"color: #000000; text-decoration-color: #000000\">: </span><span style=\"color: #808000; text-decoration-color: #808000\">length</span><span style=\"color: #000000; text-decoration-color: #000000\">=</span><span style=\"color: #800080; text-decoration-color: #800080; font-weight: bold\">UInt16</span><span style=\"color: #000000; text-decoration-color: #000000; font-weight: bold\">(</span><span style=\"color: #008080; text-decoration-color: #008080; font-weight: bold\">16</span><span style=\"color: #000000; text-decoration-color: #000000; font-weight: bold\">)</span><span style=\"color: #000000; text-decoration-color: #000000\">, </span><span style=\"color: #808000; text-decoration-color: #808000\">payload</span><span style=\"color: #000000; text-decoration-color: #000000\">=&lt;memory at </span><span style=\"color: #008080; text-decoration-color: #008080; font-weight: bold\">0x7fc518e4b280</span><span style=\"color: #000000; text-decoration-color: #000000\">&gt;, </span>\n",
       "<span style=\"color: #808000; text-decoration-color: #808000\">hdr</span><span style=\"color: #000000; text-decoration-color: #000000\">=</span><span style=\"color: #800080; text-decoration-color: #800080; font-weight: bold\">App0Jfif</span><span style=\"color: #000000; text-decoration-color: #000000; font-weight: bold\">(</span><span style=\"color: #808000; text-decoration-color: #808000\">byte_order</span><span style=\"color: #000000; text-decoration-color: #000000\">=</span><span style=\"color: #008000; text-decoration-color: #008000\">b'&gt;'</span><span style=\"color: #000000; text-decoration-color: #000000\">,</span><span style=\"color: #808000; text-decoration-color: #808000\">data</span><span style=\"color: #000000; text-decoration-color: #000000\">=</span><span style=\"color: #800080; text-decoration-color: #800080; font-weight: bold\">bytearray</span><span style=\"color: #000000; text-decoration-color: #000000; font-weight: bold\">(</span><span style=\"color: #008000; text-decoration-color: #008000\">b'JFIF\\x00\\x01\\x01\\x01\\x01^\\x01^\\x00\\x00'</span><span style=\"color: #000000; text-decoration-color: #000000; font-weight: bold\">))</span><span style=\"font-weight: bold\">&gt;</span>\n",
       "</pre>\n"
      ],
      "text/plain": [
       "\u001b[1m<\u001b[0m\u001b[1;35mSeg\u001b[0m\u001b[1;39m(\u001b[0m\u001b[39mAPP0\u001b[0m\u001b[1;39m)\u001b[0m\u001b[39m: \u001b[0m\u001b[33mlength\u001b[0m\u001b[39m=\u001b[0m\u001b[1;35mUInt16\u001b[0m\u001b[1;39m(\u001b[0m\u001b[1;36m16\u001b[0m\u001b[1;39m)\u001b[0m\u001b[39m, \u001b[0m\u001b[33mpayload\u001b[0m\u001b[39m=<memory at \u001b[0m\u001b[1;36m0x7fc518e4b280\u001b[0m\u001b[39m>, \u001b[0m\n",
       "\u001b[33mhdr\u001b[0m\u001b[39m=\u001b[0m\u001b[1;35mApp0Jfif\u001b[0m\u001b[1;39m(\u001b[0m\u001b[33mbyte_order\u001b[0m\u001b[39m=\u001b[0m\u001b[32mb\u001b[0m\u001b[32m'>'\u001b[0m\u001b[39m,\u001b[0m\u001b[33mdata\u001b[0m\u001b[39m=\u001b[0m\u001b[1;35mbytearray\u001b[0m\u001b[1;39m(\u001b[0m\u001b[32mb'JFIF\\x00\\x01\\x01\\x01\\x01^\\x01^\\x00\\x00'\u001b[0m\u001b[1;39m)\u001b[0m\u001b[1;39m)\u001b[0m\u001b[1m>\u001b[0m\n"
      ]
     },
     "metadata": {},
     "output_type": "display_data"
    },
    {
     "data": {
      "text/html": [
       "<pre style=\"white-space:pre;overflow-x:auto;line-height:normal;font-family:Menlo,'DejaVu Sans Mono',consolas,'Courier New',monospace\"><span style=\"font-weight: bold\">&lt;</span><span style=\"color: #800080; text-decoration-color: #800080; font-weight: bold\">Seg</span><span style=\"color: #000000; text-decoration-color: #000000; font-weight: bold\">(</span><span style=\"color: #000000; text-decoration-color: #000000\">APP1</span><span style=\"color: #000000; text-decoration-color: #000000; font-weight: bold\">)</span><span style=\"color: #000000; text-decoration-color: #000000\">: </span><span style=\"color: #808000; text-decoration-color: #808000\">length</span><span style=\"color: #000000; text-decoration-color: #000000\">=</span><span style=\"color: #800080; text-decoration-color: #800080; font-weight: bold\">UInt16</span><span style=\"color: #000000; text-decoration-color: #000000; font-weight: bold\">(</span><span style=\"color: #008080; text-decoration-color: #008080; font-weight: bold\">35131</span><span style=\"color: #000000; text-decoration-color: #000000; font-weight: bold\">)</span><span style=\"color: #000000; text-decoration-color: #000000\">, </span><span style=\"color: #808000; text-decoration-color: #808000\">payload</span><span style=\"color: #000000; text-decoration-color: #000000\">=&lt;memory at </span><span style=\"color: #008080; text-decoration-color: #008080; font-weight: bold\">0x7fc518e4b400</span><span style=\"color: #000000; text-decoration-color: #000000\">&gt;, </span><span style=\"color: #808000; text-decoration-color: #808000\">hdr</span><span style=\"color: #000000; text-decoration-color: #000000\">=</span><span style=\"color: #000000; text-decoration-color: #000000; font-weight: bold\">{</span><span style=\"color: #008000; text-decoration-color: #008000\">'identifier'</span><span style=\"color: #000000; text-decoration-color: #000000\">: </span><span style=\"color: #800080; text-decoration-color: #800080; font-weight: bold\">String</span><span style=\"color: #000000; text-decoration-color: #000000; font-weight: bold\">(</span><span style=\"color: #008080; text-decoration-color: #008080; font-weight: bold\">5</span><span style=\"color: #000000; text-decoration-color: #000000\">, </span><span style=\"color: #808000; text-decoration-color: #808000\">value</span><span style=\"color: #000000; text-decoration-color: #000000\">=</span><span style=\"color: #008000; text-decoration-color: #008000\">'Exif'</span><span style=\"color: #000000; text-decoration-color: #000000; font-weight: bold\">)}</span><span style=\"font-weight: bold\">&gt;</span>\n",
       "</pre>\n"
      ],
      "text/plain": [
       "\u001b[1m<\u001b[0m\u001b[1;35mSeg\u001b[0m\u001b[1;39m(\u001b[0m\u001b[39mAPP1\u001b[0m\u001b[1;39m)\u001b[0m\u001b[39m: \u001b[0m\u001b[33mlength\u001b[0m\u001b[39m=\u001b[0m\u001b[1;35mUInt16\u001b[0m\u001b[1;39m(\u001b[0m\u001b[1;36m35131\u001b[0m\u001b[1;39m)\u001b[0m\u001b[39m, \u001b[0m\u001b[33mpayload\u001b[0m\u001b[39m=<memory at \u001b[0m\u001b[1;36m0x7fc518e4b400\u001b[0m\u001b[39m>, \u001b[0m\u001b[33mhdr\u001b[0m\u001b[39m=\u001b[0m\u001b[1;39m{\u001b[0m\u001b[32m'identifier'\u001b[0m\u001b[39m: \u001b[0m\u001b[1;35mString\u001b[0m\u001b[1;39m(\u001b[0m\u001b[1;36m5\u001b[0m\u001b[39m, \u001b[0m\u001b[33mvalue\u001b[0m\u001b[39m=\u001b[0m\u001b[32m'Exif'\u001b[0m\u001b[1;39m)\u001b[0m\u001b[1;39m}\u001b[0m\u001b[1m>\u001b[0m\n"
      ]
     },
     "metadata": {},
     "output_type": "display_data"
    },
    {
     "data": {
      "text/html": [
       "<pre style=\"white-space:pre;overflow-x:auto;line-height:normal;font-family:Menlo,'DejaVu Sans Mono',consolas,'Courier New',monospace\"><span style=\"font-weight: bold\">&lt;</span><span style=\"color: #800080; text-decoration-color: #800080; font-weight: bold\">Seg</span><span style=\"color: #000000; text-decoration-color: #000000; font-weight: bold\">(</span><span style=\"color: #000000; text-decoration-color: #000000\">APP1</span><span style=\"color: #000000; text-decoration-color: #000000; font-weight: bold\">)</span><span style=\"color: #000000; text-decoration-color: #000000\">: </span><span style=\"color: #808000; text-decoration-color: #808000\">length</span><span style=\"color: #000000; text-decoration-color: #000000\">=</span><span style=\"color: #800080; text-decoration-color: #800080; font-weight: bold\">UInt16</span><span style=\"color: #000000; text-decoration-color: #000000; font-weight: bold\">(</span><span style=\"color: #008080; text-decoration-color: #008080; font-weight: bold\">3385</span><span style=\"color: #000000; text-decoration-color: #000000; font-weight: bold\">)</span><span style=\"color: #000000; text-decoration-color: #000000\">, </span><span style=\"color: #808000; text-decoration-color: #808000\">payload</span><span style=\"color: #000000; text-decoration-color: #000000\">=&lt;memory at </span><span style=\"color: #008080; text-decoration-color: #008080; font-weight: bold\">0x7fc518c58640</span><span style=\"color: #000000; text-decoration-color: #000000\">&gt;, </span><span style=\"color: #808000; text-decoration-color: #808000\">hdr</span><span style=\"color: #000000; text-decoration-color: #000000\">=</span><span style=\"color: #000000; text-decoration-color: #000000; font-weight: bold\">{</span><span style=\"color: #008000; text-decoration-color: #008000\">'identifier'</span><span style=\"color: #000000; text-decoration-color: #000000\">: </span><span style=\"color: #800080; text-decoration-color: #800080; font-weight: bold\">String</span><span style=\"color: #000000; text-decoration-color: #000000; font-weight: bold\">(</span><span style=\"color: #008080; text-decoration-color: #008080; font-weight: bold\">29</span><span style=\"color: #000000; text-decoration-color: #000000\">, </span>\n",
       "<span style=\"color: #808000; text-decoration-color: #808000\">value</span><span style=\"color: #000000; text-decoration-color: #000000\">=</span><span style=\"color: #008000; text-decoration-color: #008000\">'http://ns.adobe.com/xap/1.0/'</span><span style=\"color: #000000; text-decoration-color: #000000; font-weight: bold\">)}</span><span style=\"font-weight: bold\">&gt;</span>\n",
       "</pre>\n"
      ],
      "text/plain": [
       "\u001b[1m<\u001b[0m\u001b[1;35mSeg\u001b[0m\u001b[1;39m(\u001b[0m\u001b[39mAPP1\u001b[0m\u001b[1;39m)\u001b[0m\u001b[39m: \u001b[0m\u001b[33mlength\u001b[0m\u001b[39m=\u001b[0m\u001b[1;35mUInt16\u001b[0m\u001b[1;39m(\u001b[0m\u001b[1;36m3385\u001b[0m\u001b[1;39m)\u001b[0m\u001b[39m, \u001b[0m\u001b[33mpayload\u001b[0m\u001b[39m=<memory at \u001b[0m\u001b[1;36m0x7fc518c58640\u001b[0m\u001b[39m>, \u001b[0m\u001b[33mhdr\u001b[0m\u001b[39m=\u001b[0m\u001b[1;39m{\u001b[0m\u001b[32m'identifier'\u001b[0m\u001b[39m: \u001b[0m\u001b[1;35mString\u001b[0m\u001b[1;39m(\u001b[0m\u001b[1;36m29\u001b[0m\u001b[39m, \u001b[0m\n",
       "\u001b[33mvalue\u001b[0m\u001b[39m=\u001b[0m\u001b[32m'http://ns.adobe.com/xap/1.0/'\u001b[0m\u001b[1;39m)\u001b[0m\u001b[1;39m}\u001b[0m\u001b[1m>\u001b[0m\n"
      ]
     },
     "metadata": {},
     "output_type": "display_data"
    },
    {
     "data": {
      "text/html": [
       "<pre style=\"white-space:pre;overflow-x:auto;line-height:normal;font-family:Menlo,'DejaVu Sans Mono',consolas,'Courier New',monospace\"><span style=\"font-weight: bold\">&lt;</span><span style=\"color: #800080; text-decoration-color: #800080; font-weight: bold\">Seg</span><span style=\"color: #000000; text-decoration-color: #000000; font-weight: bold\">(</span><span style=\"color: #000000; text-decoration-color: #000000\">DQT</span><span style=\"color: #000000; text-decoration-color: #000000; font-weight: bold\">)</span><span style=\"color: #000000; text-decoration-color: #000000\">: </span><span style=\"color: #808000; text-decoration-color: #808000\">length</span><span style=\"color: #000000; text-decoration-color: #000000\">=</span><span style=\"color: #800080; text-decoration-color: #800080; font-weight: bold\">UInt16</span><span style=\"color: #000000; text-decoration-color: #000000; font-weight: bold\">(</span><span style=\"color: #008080; text-decoration-color: #008080; font-weight: bold\">67</span><span style=\"color: #000000; text-decoration-color: #000000; font-weight: bold\">)</span><span style=\"color: #000000; text-decoration-color: #000000\">, </span><span style=\"color: #808000; text-decoration-color: #808000\">payload</span><span style=\"color: #000000; text-decoration-color: #000000\">=&lt;memory at </span><span style=\"color: #008080; text-decoration-color: #008080; font-weight: bold\">0x7fc518c59f00</span><span style=\"color: #000000; text-decoration-color: #000000\">&gt;</span><span style=\"font-weight: bold\">&gt;</span>\n",
       "</pre>\n"
      ],
      "text/plain": [
       "\u001b[1m<\u001b[0m\u001b[1;35mSeg\u001b[0m\u001b[1;39m(\u001b[0m\u001b[39mDQT\u001b[0m\u001b[1;39m)\u001b[0m\u001b[39m: \u001b[0m\u001b[33mlength\u001b[0m\u001b[39m=\u001b[0m\u001b[1;35mUInt16\u001b[0m\u001b[1;39m(\u001b[0m\u001b[1;36m67\u001b[0m\u001b[1;39m)\u001b[0m\u001b[39m, \u001b[0m\u001b[33mpayload\u001b[0m\u001b[39m=<memory at \u001b[0m\u001b[1;36m0x7fc518c59f00\u001b[0m\u001b[39m>\u001b[0m\u001b[1m>\u001b[0m\n"
      ]
     },
     "metadata": {},
     "output_type": "display_data"
    },
    {
     "data": {
      "text/html": [
       "<pre style=\"white-space:pre;overflow-x:auto;line-height:normal;font-family:Menlo,'DejaVu Sans Mono',consolas,'Courier New',monospace\"><span style=\"font-weight: bold\">&lt;</span><span style=\"color: #800080; text-decoration-color: #800080; font-weight: bold\">Seg</span><span style=\"color: #000000; text-decoration-color: #000000; font-weight: bold\">(</span><span style=\"color: #000000; text-decoration-color: #000000\">DQT</span><span style=\"color: #000000; text-decoration-color: #000000; font-weight: bold\">)</span><span style=\"color: #000000; text-decoration-color: #000000\">: </span><span style=\"color: #808000; text-decoration-color: #808000\">length</span><span style=\"color: #000000; text-decoration-color: #000000\">=</span><span style=\"color: #800080; text-decoration-color: #800080; font-weight: bold\">UInt16</span><span style=\"color: #000000; text-decoration-color: #000000; font-weight: bold\">(</span><span style=\"color: #008080; text-decoration-color: #008080; font-weight: bold\">67</span><span style=\"color: #000000; text-decoration-color: #000000; font-weight: bold\">)</span><span style=\"color: #000000; text-decoration-color: #000000\">, </span><span style=\"color: #808000; text-decoration-color: #808000\">payload</span><span style=\"color: #000000; text-decoration-color: #000000\">=&lt;memory at </span><span style=\"color: #008080; text-decoration-color: #008080; font-weight: bold\">0x7fc518c5a140</span><span style=\"color: #000000; text-decoration-color: #000000\">&gt;</span><span style=\"font-weight: bold\">&gt;</span>\n",
       "</pre>\n"
      ],
      "text/plain": [
       "\u001b[1m<\u001b[0m\u001b[1;35mSeg\u001b[0m\u001b[1;39m(\u001b[0m\u001b[39mDQT\u001b[0m\u001b[1;39m)\u001b[0m\u001b[39m: \u001b[0m\u001b[33mlength\u001b[0m\u001b[39m=\u001b[0m\u001b[1;35mUInt16\u001b[0m\u001b[1;39m(\u001b[0m\u001b[1;36m67\u001b[0m\u001b[1;39m)\u001b[0m\u001b[39m, \u001b[0m\u001b[33mpayload\u001b[0m\u001b[39m=<memory at \u001b[0m\u001b[1;36m0x7fc518c5a140\u001b[0m\u001b[39m>\u001b[0m\u001b[1m>\u001b[0m\n"
      ]
     },
     "metadata": {},
     "output_type": "display_data"
    },
    {
     "data": {
      "text/html": [
       "<pre style=\"white-space:pre;overflow-x:auto;line-height:normal;font-family:Menlo,'DejaVu Sans Mono',consolas,'Courier New',monospace\"><span style=\"font-weight: bold\">&lt;</span><span style=\"color: #800080; text-decoration-color: #800080; font-weight: bold\">Seg</span><span style=\"color: #000000; text-decoration-color: #000000; font-weight: bold\">(</span><span style=\"color: #000000; text-decoration-color: #000000\">SOF2</span><span style=\"color: #000000; text-decoration-color: #000000; font-weight: bold\">)</span><span style=\"color: #000000; text-decoration-color: #000000\">: </span><span style=\"color: #808000; text-decoration-color: #808000\">length</span><span style=\"color: #000000; text-decoration-color: #000000\">=</span><span style=\"color: #800080; text-decoration-color: #800080; font-weight: bold\">UInt16</span><span style=\"color: #000000; text-decoration-color: #000000; font-weight: bold\">(</span><span style=\"color: #008080; text-decoration-color: #008080; font-weight: bold\">17</span><span style=\"color: #000000; text-decoration-color: #000000; font-weight: bold\">)</span><span style=\"color: #000000; text-decoration-color: #000000\">, </span><span style=\"color: #808000; text-decoration-color: #808000\">payload</span><span style=\"color: #000000; text-decoration-color: #000000\">=&lt;memory at </span><span style=\"color: #008080; text-decoration-color: #008080; font-weight: bold\">0x7fc518c5a380</span><span style=\"color: #000000; text-decoration-color: #000000\">&gt;</span><span style=\"font-weight: bold\">&gt;</span>\n",
       "</pre>\n"
      ],
      "text/plain": [
       "\u001b[1m<\u001b[0m\u001b[1;35mSeg\u001b[0m\u001b[1;39m(\u001b[0m\u001b[39mSOF2\u001b[0m\u001b[1;39m)\u001b[0m\u001b[39m: \u001b[0m\u001b[33mlength\u001b[0m\u001b[39m=\u001b[0m\u001b[1;35mUInt16\u001b[0m\u001b[1;39m(\u001b[0m\u001b[1;36m17\u001b[0m\u001b[1;39m)\u001b[0m\u001b[39m, \u001b[0m\u001b[33mpayload\u001b[0m\u001b[39m=<memory at \u001b[0m\u001b[1;36m0x7fc518c5a380\u001b[0m\u001b[39m>\u001b[0m\u001b[1m>\u001b[0m\n"
      ]
     },
     "metadata": {},
     "output_type": "display_data"
    },
    {
     "data": {
      "text/html": [
       "<pre style=\"white-space:pre;overflow-x:auto;line-height:normal;font-family:Menlo,'DejaVu Sans Mono',consolas,'Courier New',monospace\"><span style=\"font-weight: bold\">&lt;</span><span style=\"color: #800080; text-decoration-color: #800080; font-weight: bold\">Seg</span><span style=\"color: #000000; text-decoration-color: #000000; font-weight: bold\">(</span><span style=\"color: #000000; text-decoration-color: #000000\">DHT</span><span style=\"color: #000000; text-decoration-color: #000000; font-weight: bold\">)</span><span style=\"color: #000000; text-decoration-color: #000000\">: </span><span style=\"color: #808000; text-decoration-color: #808000\">length</span><span style=\"color: #000000; text-decoration-color: #000000\">=</span><span style=\"color: #800080; text-decoration-color: #800080; font-weight: bold\">UInt16</span><span style=\"color: #000000; text-decoration-color: #000000; font-weight: bold\">(</span><span style=\"color: #008080; text-decoration-color: #008080; font-weight: bold\">29</span><span style=\"color: #000000; text-decoration-color: #000000; font-weight: bold\">)</span><span style=\"color: #000000; text-decoration-color: #000000\">, </span><span style=\"color: #808000; text-decoration-color: #808000\">payload</span><span style=\"color: #000000; text-decoration-color: #000000\">=&lt;memory at </span><span style=\"color: #008080; text-decoration-color: #008080; font-weight: bold\">0x7fc518c5a5c0</span><span style=\"color: #000000; text-decoration-color: #000000\">&gt;</span><span style=\"font-weight: bold\">&gt;</span>\n",
       "</pre>\n"
      ],
      "text/plain": [
       "\u001b[1m<\u001b[0m\u001b[1;35mSeg\u001b[0m\u001b[1;39m(\u001b[0m\u001b[39mDHT\u001b[0m\u001b[1;39m)\u001b[0m\u001b[39m: \u001b[0m\u001b[33mlength\u001b[0m\u001b[39m=\u001b[0m\u001b[1;35mUInt16\u001b[0m\u001b[1;39m(\u001b[0m\u001b[1;36m29\u001b[0m\u001b[1;39m)\u001b[0m\u001b[39m, \u001b[0m\u001b[33mpayload\u001b[0m\u001b[39m=<memory at \u001b[0m\u001b[1;36m0x7fc518c5a5c0\u001b[0m\u001b[39m>\u001b[0m\u001b[1m>\u001b[0m\n"
      ]
     },
     "metadata": {},
     "output_type": "display_data"
    },
    {
     "data": {
      "text/html": [
       "<pre style=\"white-space:pre;overflow-x:auto;line-height:normal;font-family:Menlo,'DejaVu Sans Mono',consolas,'Courier New',monospace\"><span style=\"font-weight: bold\">&lt;</span><span style=\"color: #800080; text-decoration-color: #800080; font-weight: bold\">Seg</span><span style=\"color: #000000; text-decoration-color: #000000; font-weight: bold\">(</span><span style=\"color: #000000; text-decoration-color: #000000\">DHT</span><span style=\"color: #000000; text-decoration-color: #000000; font-weight: bold\">)</span><span style=\"color: #000000; text-decoration-color: #000000\">: </span><span style=\"color: #808000; text-decoration-color: #808000\">length</span><span style=\"color: #000000; text-decoration-color: #000000\">=</span><span style=\"color: #800080; text-decoration-color: #800080; font-weight: bold\">UInt16</span><span style=\"color: #000000; text-decoration-color: #000000; font-weight: bold\">(</span><span style=\"color: #008080; text-decoration-color: #008080; font-weight: bold\">26</span><span style=\"color: #000000; text-decoration-color: #000000; font-weight: bold\">)</span><span style=\"color: #000000; text-decoration-color: #000000\">, </span><span style=\"color: #808000; text-decoration-color: #808000\">payload</span><span style=\"color: #000000; text-decoration-color: #000000\">=&lt;memory at </span><span style=\"color: #008080; text-decoration-color: #008080; font-weight: bold\">0x7fc518c5a800</span><span style=\"color: #000000; text-decoration-color: #000000\">&gt;</span><span style=\"font-weight: bold\">&gt;</span>\n",
       "</pre>\n"
      ],
      "text/plain": [
       "\u001b[1m<\u001b[0m\u001b[1;35mSeg\u001b[0m\u001b[1;39m(\u001b[0m\u001b[39mDHT\u001b[0m\u001b[1;39m)\u001b[0m\u001b[39m: \u001b[0m\u001b[33mlength\u001b[0m\u001b[39m=\u001b[0m\u001b[1;35mUInt16\u001b[0m\u001b[1;39m(\u001b[0m\u001b[1;36m26\u001b[0m\u001b[1;39m)\u001b[0m\u001b[39m, \u001b[0m\u001b[33mpayload\u001b[0m\u001b[39m=<memory at \u001b[0m\u001b[1;36m0x7fc518c5a800\u001b[0m\u001b[39m>\u001b[0m\u001b[1m>\u001b[0m\n"
      ]
     },
     "metadata": {},
     "output_type": "display_data"
    },
    {
     "data": {
      "text/html": [
       "<pre style=\"white-space:pre;overflow-x:auto;line-height:normal;font-family:Menlo,'DejaVu Sans Mono',consolas,'Courier New',monospace\"><span style=\"font-weight: bold\">&lt;</span><span style=\"color: #800080; text-decoration-color: #800080; font-weight: bold\">Seg</span><span style=\"color: #000000; text-decoration-color: #000000; font-weight: bold\">(</span><span style=\"color: #000000; text-decoration-color: #000000\">SOS</span><span style=\"color: #000000; text-decoration-color: #000000; font-weight: bold\">)</span><span style=\"color: #000000; text-decoration-color: #000000\">: </span><span style=\"color: #808000; text-decoration-color: #808000\">length</span><span style=\"color: #000000; text-decoration-color: #000000\">=</span><span style=\"color: #800080; text-decoration-color: #800080; font-weight: bold\">UInt16</span><span style=\"color: #000000; text-decoration-color: #000000; font-weight: bold\">(</span><span style=\"color: #008080; text-decoration-color: #008080; font-weight: bold\">12</span><span style=\"color: #000000; text-decoration-color: #000000; font-weight: bold\">)</span><span style=\"color: #000000; text-decoration-color: #000000\">, </span><span style=\"color: #808000; text-decoration-color: #808000\">payload</span><span style=\"color: #000000; text-decoration-color: #000000\">=&lt;memory at </span><span style=\"color: #008080; text-decoration-color: #008080; font-weight: bold\">0x7fc518c5aa40</span><span style=\"color: #000000; text-decoration-color: #000000\">&gt;, </span><span style=\"color: #808000; text-decoration-color: #808000\">image_data</span><span style=\"color: #000000; text-decoration-color: #000000\">=&lt;memory at </span><span style=\"color: #008080; text-decoration-color: #008080; font-weight: bold\">0x7fc518c5ab00</span><span style=\"color: #000000; text-decoration-color: #000000\">&gt;</span><span style=\"font-weight: bold\">&gt;</span>\n",
       "</pre>\n"
      ],
      "text/plain": [
       "\u001b[1m<\u001b[0m\u001b[1;35mSeg\u001b[0m\u001b[1;39m(\u001b[0m\u001b[39mSOS\u001b[0m\u001b[1;39m)\u001b[0m\u001b[39m: \u001b[0m\u001b[33mlength\u001b[0m\u001b[39m=\u001b[0m\u001b[1;35mUInt16\u001b[0m\u001b[1;39m(\u001b[0m\u001b[1;36m12\u001b[0m\u001b[1;39m)\u001b[0m\u001b[39m, \u001b[0m\u001b[33mpayload\u001b[0m\u001b[39m=<memory at \u001b[0m\u001b[1;36m0x7fc518c5aa40\u001b[0m\u001b[39m>, \u001b[0m\u001b[33mimage_data\u001b[0m\u001b[39m=<memory at \u001b[0m\u001b[1;36m0x7fc518c5ab00\u001b[0m\u001b[39m>\u001b[0m\u001b[1m>\u001b[0m\n"
      ]
     },
     "metadata": {},
     "output_type": "display_data"
    },
    {
     "data": {
      "text/html": [
       "<pre style=\"white-space:pre;overflow-x:auto;line-height:normal;font-family:Menlo,'DejaVu Sans Mono',consolas,'Courier New',monospace\"><span style=\"font-weight: bold\">&lt;</span><span style=\"color: #800080; text-decoration-color: #800080; font-weight: bold\">Seg</span><span style=\"color: #000000; text-decoration-color: #000000; font-weight: bold\">(</span><span style=\"color: #000000; text-decoration-color: #000000\">DHT</span><span style=\"color: #000000; text-decoration-color: #000000; font-weight: bold\">)</span><span style=\"color: #000000; text-decoration-color: #000000\">: </span><span style=\"color: #808000; text-decoration-color: #808000\">length</span><span style=\"color: #000000; text-decoration-color: #000000\">=</span><span style=\"color: #800080; text-decoration-color: #800080; font-weight: bold\">UInt16</span><span style=\"color: #000000; text-decoration-color: #000000; font-weight: bold\">(</span><span style=\"color: #008080; text-decoration-color: #008080; font-weight: bold\">42</span><span style=\"color: #000000; text-decoration-color: #000000; font-weight: bold\">)</span><span style=\"color: #000000; text-decoration-color: #000000\">, </span><span style=\"color: #808000; text-decoration-color: #808000\">payload</span><span style=\"color: #000000; text-decoration-color: #000000\">=&lt;memory at </span><span style=\"color: #008080; text-decoration-color: #008080; font-weight: bold\">0x7fc518c5ad40</span><span style=\"color: #000000; text-decoration-color: #000000\">&gt;</span><span style=\"font-weight: bold\">&gt;</span>\n",
       "</pre>\n"
      ],
      "text/plain": [
       "\u001b[1m<\u001b[0m\u001b[1;35mSeg\u001b[0m\u001b[1;39m(\u001b[0m\u001b[39mDHT\u001b[0m\u001b[1;39m)\u001b[0m\u001b[39m: \u001b[0m\u001b[33mlength\u001b[0m\u001b[39m=\u001b[0m\u001b[1;35mUInt16\u001b[0m\u001b[1;39m(\u001b[0m\u001b[1;36m42\u001b[0m\u001b[1;39m)\u001b[0m\u001b[39m, \u001b[0m\u001b[33mpayload\u001b[0m\u001b[39m=<memory at \u001b[0m\u001b[1;36m0x7fc518c5ad40\u001b[0m\u001b[39m>\u001b[0m\u001b[1m>\u001b[0m\n"
      ]
     },
     "metadata": {},
     "output_type": "display_data"
    },
    {
     "data": {
      "text/html": [
       "<pre style=\"white-space:pre;overflow-x:auto;line-height:normal;font-family:Menlo,'DejaVu Sans Mono',consolas,'Courier New',monospace\"><span style=\"font-weight: bold\">&lt;</span><span style=\"color: #800080; text-decoration-color: #800080; font-weight: bold\">Seg</span><span style=\"color: #000000; text-decoration-color: #000000; font-weight: bold\">(</span><span style=\"color: #000000; text-decoration-color: #000000\">SOS</span><span style=\"color: #000000; text-decoration-color: #000000; font-weight: bold\">)</span><span style=\"color: #000000; text-decoration-color: #000000\">: </span><span style=\"color: #808000; text-decoration-color: #808000\">length</span><span style=\"color: #000000; text-decoration-color: #000000\">=</span><span style=\"color: #800080; text-decoration-color: #800080; font-weight: bold\">UInt16</span><span style=\"color: #000000; text-decoration-color: #000000; font-weight: bold\">(</span><span style=\"color: #008080; text-decoration-color: #008080; font-weight: bold\">8</span><span style=\"color: #000000; text-decoration-color: #000000; font-weight: bold\">)</span><span style=\"color: #000000; text-decoration-color: #000000\">, </span><span style=\"color: #808000; text-decoration-color: #808000\">payload</span><span style=\"color: #000000; text-decoration-color: #000000\">=&lt;memory at </span><span style=\"color: #008080; text-decoration-color: #008080; font-weight: bold\">0x7fc518c5af80</span><span style=\"color: #000000; text-decoration-color: #000000\">&gt;, </span><span style=\"color: #808000; text-decoration-color: #808000\">image_data</span><span style=\"color: #000000; text-decoration-color: #000000\">=&lt;memory at </span><span style=\"color: #008080; text-decoration-color: #008080; font-weight: bold\">0x7fc518c5b040</span><span style=\"color: #000000; text-decoration-color: #000000\">&gt;</span><span style=\"font-weight: bold\">&gt;</span>\n",
       "</pre>\n"
      ],
      "text/plain": [
       "\u001b[1m<\u001b[0m\u001b[1;35mSeg\u001b[0m\u001b[1;39m(\u001b[0m\u001b[39mSOS\u001b[0m\u001b[1;39m)\u001b[0m\u001b[39m: \u001b[0m\u001b[33mlength\u001b[0m\u001b[39m=\u001b[0m\u001b[1;35mUInt16\u001b[0m\u001b[1;39m(\u001b[0m\u001b[1;36m8\u001b[0m\u001b[1;39m)\u001b[0m\u001b[39m, \u001b[0m\u001b[33mpayload\u001b[0m\u001b[39m=<memory at \u001b[0m\u001b[1;36m0x7fc518c5af80\u001b[0m\u001b[39m>, \u001b[0m\u001b[33mimage_data\u001b[0m\u001b[39m=<memory at \u001b[0m\u001b[1;36m0x7fc518c5b040\u001b[0m\u001b[39m>\u001b[0m\u001b[1m>\u001b[0m\n"
      ]
     },
     "metadata": {},
     "output_type": "display_data"
    },
    {
     "data": {
      "text/html": [
       "<pre style=\"white-space:pre;overflow-x:auto;line-height:normal;font-family:Menlo,'DejaVu Sans Mono',consolas,'Courier New',monospace\"><span style=\"font-weight: bold\">&lt;</span><span style=\"color: #800080; text-decoration-color: #800080; font-weight: bold\">Seg</span><span style=\"color: #000000; text-decoration-color: #000000; font-weight: bold\">(</span><span style=\"color: #000000; text-decoration-color: #000000\">DHT</span><span style=\"color: #000000; text-decoration-color: #000000; font-weight: bold\">)</span><span style=\"color: #000000; text-decoration-color: #000000\">: </span><span style=\"color: #808000; text-decoration-color: #808000\">length</span><span style=\"color: #000000; text-decoration-color: #000000\">=</span><span style=\"color: #800080; text-decoration-color: #800080; font-weight: bold\">UInt16</span><span style=\"color: #000000; text-decoration-color: #000000; font-weight: bold\">(</span><span style=\"color: #008080; text-decoration-color: #008080; font-weight: bold\">40</span><span style=\"color: #000000; text-decoration-color: #000000; font-weight: bold\">)</span><span style=\"color: #000000; text-decoration-color: #000000\">, </span><span style=\"color: #808000; text-decoration-color: #808000\">payload</span><span style=\"color: #000000; text-decoration-color: #000000\">=&lt;memory at </span><span style=\"color: #008080; text-decoration-color: #008080; font-weight: bold\">0x7fc518c5b280</span><span style=\"color: #000000; text-decoration-color: #000000\">&gt;</span><span style=\"font-weight: bold\">&gt;</span>\n",
       "</pre>\n"
      ],
      "text/plain": [
       "\u001b[1m<\u001b[0m\u001b[1;35mSeg\u001b[0m\u001b[1;39m(\u001b[0m\u001b[39mDHT\u001b[0m\u001b[1;39m)\u001b[0m\u001b[39m: \u001b[0m\u001b[33mlength\u001b[0m\u001b[39m=\u001b[0m\u001b[1;35mUInt16\u001b[0m\u001b[1;39m(\u001b[0m\u001b[1;36m40\u001b[0m\u001b[1;39m)\u001b[0m\u001b[39m, \u001b[0m\u001b[33mpayload\u001b[0m\u001b[39m=<memory at \u001b[0m\u001b[1;36m0x7fc518c5b280\u001b[0m\u001b[39m>\u001b[0m\u001b[1m>\u001b[0m\n"
      ]
     },
     "metadata": {},
     "output_type": "display_data"
    },
    {
     "data": {
      "text/html": [
       "<pre style=\"white-space:pre;overflow-x:auto;line-height:normal;font-family:Menlo,'DejaVu Sans Mono',consolas,'Courier New',monospace\"><span style=\"font-weight: bold\">&lt;</span><span style=\"color: #800080; text-decoration-color: #800080; font-weight: bold\">Seg</span><span style=\"color: #000000; text-decoration-color: #000000; font-weight: bold\">(</span><span style=\"color: #000000; text-decoration-color: #000000\">SOS</span><span style=\"color: #000000; text-decoration-color: #000000; font-weight: bold\">)</span><span style=\"color: #000000; text-decoration-color: #000000\">: </span><span style=\"color: #808000; text-decoration-color: #808000\">length</span><span style=\"color: #000000; text-decoration-color: #000000\">=</span><span style=\"color: #800080; text-decoration-color: #800080; font-weight: bold\">UInt16</span><span style=\"color: #000000; text-decoration-color: #000000; font-weight: bold\">(</span><span style=\"color: #008080; text-decoration-color: #008080; font-weight: bold\">8</span><span style=\"color: #000000; text-decoration-color: #000000; font-weight: bold\">)</span><span style=\"color: #000000; text-decoration-color: #000000\">, </span><span style=\"color: #808000; text-decoration-color: #808000\">payload</span><span style=\"color: #000000; text-decoration-color: #000000\">=&lt;memory at </span><span style=\"color: #008080; text-decoration-color: #008080; font-weight: bold\">0x7fc518c5b4c0</span><span style=\"color: #000000; text-decoration-color: #000000\">&gt;, </span><span style=\"color: #808000; text-decoration-color: #808000\">image_data</span><span style=\"color: #000000; text-decoration-color: #000000\">=&lt;memory at </span><span style=\"color: #008080; text-decoration-color: #008080; font-weight: bold\">0x7fc518c5b580</span><span style=\"color: #000000; text-decoration-color: #000000\">&gt;</span><span style=\"font-weight: bold\">&gt;</span>\n",
       "</pre>\n"
      ],
      "text/plain": [
       "\u001b[1m<\u001b[0m\u001b[1;35mSeg\u001b[0m\u001b[1;39m(\u001b[0m\u001b[39mSOS\u001b[0m\u001b[1;39m)\u001b[0m\u001b[39m: \u001b[0m\u001b[33mlength\u001b[0m\u001b[39m=\u001b[0m\u001b[1;35mUInt16\u001b[0m\u001b[1;39m(\u001b[0m\u001b[1;36m8\u001b[0m\u001b[1;39m)\u001b[0m\u001b[39m, \u001b[0m\u001b[33mpayload\u001b[0m\u001b[39m=<memory at \u001b[0m\u001b[1;36m0x7fc518c5b4c0\u001b[0m\u001b[39m>, \u001b[0m\u001b[33mimage_data\u001b[0m\u001b[39m=<memory at \u001b[0m\u001b[1;36m0x7fc518c5b580\u001b[0m\u001b[39m>\u001b[0m\u001b[1m>\u001b[0m\n"
      ]
     },
     "metadata": {},
     "output_type": "display_data"
    },
    {
     "data": {
      "text/html": [
       "<pre style=\"white-space:pre;overflow-x:auto;line-height:normal;font-family:Menlo,'DejaVu Sans Mono',consolas,'Courier New',monospace\"><span style=\"font-weight: bold\">&lt;</span><span style=\"color: #800080; text-decoration-color: #800080; font-weight: bold\">Seg</span><span style=\"color: #000000; text-decoration-color: #000000; font-weight: bold\">(</span><span style=\"color: #000000; text-decoration-color: #000000\">DHT</span><span style=\"color: #000000; text-decoration-color: #000000; font-weight: bold\">)</span><span style=\"color: #000000; text-decoration-color: #000000\">: </span><span style=\"color: #808000; text-decoration-color: #808000\">length</span><span style=\"color: #000000; text-decoration-color: #000000\">=</span><span style=\"color: #800080; text-decoration-color: #800080; font-weight: bold\">UInt16</span><span style=\"color: #000000; text-decoration-color: #000000; font-weight: bold\">(</span><span style=\"color: #008080; text-decoration-color: #008080; font-weight: bold\">45</span><span style=\"color: #000000; text-decoration-color: #000000; font-weight: bold\">)</span><span style=\"color: #000000; text-decoration-color: #000000\">, </span><span style=\"color: #808000; text-decoration-color: #808000\">payload</span><span style=\"color: #000000; text-decoration-color: #000000\">=&lt;memory at </span><span style=\"color: #008080; text-decoration-color: #008080; font-weight: bold\">0x7fc518c5b7c0</span><span style=\"color: #000000; text-decoration-color: #000000\">&gt;</span><span style=\"font-weight: bold\">&gt;</span>\n",
       "</pre>\n"
      ],
      "text/plain": [
       "\u001b[1m<\u001b[0m\u001b[1;35mSeg\u001b[0m\u001b[1;39m(\u001b[0m\u001b[39mDHT\u001b[0m\u001b[1;39m)\u001b[0m\u001b[39m: \u001b[0m\u001b[33mlength\u001b[0m\u001b[39m=\u001b[0m\u001b[1;35mUInt16\u001b[0m\u001b[1;39m(\u001b[0m\u001b[1;36m45\u001b[0m\u001b[1;39m)\u001b[0m\u001b[39m, \u001b[0m\u001b[33mpayload\u001b[0m\u001b[39m=<memory at \u001b[0m\u001b[1;36m0x7fc518c5b7c0\u001b[0m\u001b[39m>\u001b[0m\u001b[1m>\u001b[0m\n"
      ]
     },
     "metadata": {},
     "output_type": "display_data"
    },
    {
     "data": {
      "text/html": [
       "<pre style=\"white-space:pre;overflow-x:auto;line-height:normal;font-family:Menlo,'DejaVu Sans Mono',consolas,'Courier New',monospace\"><span style=\"font-weight: bold\">&lt;</span><span style=\"color: #800080; text-decoration-color: #800080; font-weight: bold\">Seg</span><span style=\"color: #000000; text-decoration-color: #000000; font-weight: bold\">(</span><span style=\"color: #000000; text-decoration-color: #000000\">SOS</span><span style=\"color: #000000; text-decoration-color: #000000; font-weight: bold\">)</span><span style=\"color: #000000; text-decoration-color: #000000\">: </span><span style=\"color: #808000; text-decoration-color: #808000\">length</span><span style=\"color: #000000; text-decoration-color: #000000\">=</span><span style=\"color: #800080; text-decoration-color: #800080; font-weight: bold\">UInt16</span><span style=\"color: #000000; text-decoration-color: #000000; font-weight: bold\">(</span><span style=\"color: #008080; text-decoration-color: #008080; font-weight: bold\">8</span><span style=\"color: #000000; text-decoration-color: #000000; font-weight: bold\">)</span><span style=\"color: #000000; text-decoration-color: #000000\">, </span><span style=\"color: #808000; text-decoration-color: #808000\">payload</span><span style=\"color: #000000; text-decoration-color: #000000\">=&lt;memory at </span><span style=\"color: #008080; text-decoration-color: #008080; font-weight: bold\">0x7fc518c5ba00</span><span style=\"color: #000000; text-decoration-color: #000000\">&gt;, </span><span style=\"color: #808000; text-decoration-color: #808000\">image_data</span><span style=\"color: #000000; text-decoration-color: #000000\">=&lt;memory at </span><span style=\"color: #008080; text-decoration-color: #008080; font-weight: bold\">0x7fc518c5bac0</span><span style=\"color: #000000; text-decoration-color: #000000\">&gt;</span><span style=\"font-weight: bold\">&gt;</span>\n",
       "</pre>\n"
      ],
      "text/plain": [
       "\u001b[1m<\u001b[0m\u001b[1;35mSeg\u001b[0m\u001b[1;39m(\u001b[0m\u001b[39mSOS\u001b[0m\u001b[1;39m)\u001b[0m\u001b[39m: \u001b[0m\u001b[33mlength\u001b[0m\u001b[39m=\u001b[0m\u001b[1;35mUInt16\u001b[0m\u001b[1;39m(\u001b[0m\u001b[1;36m8\u001b[0m\u001b[1;39m)\u001b[0m\u001b[39m, \u001b[0m\u001b[33mpayload\u001b[0m\u001b[39m=<memory at \u001b[0m\u001b[1;36m0x7fc518c5ba00\u001b[0m\u001b[39m>, \u001b[0m\u001b[33mimage_data\u001b[0m\u001b[39m=<memory at \u001b[0m\u001b[1;36m0x7fc518c5bac0\u001b[0m\u001b[39m>\u001b[0m\u001b[1m>\u001b[0m\n"
      ]
     },
     "metadata": {},
     "output_type": "display_data"
    },
    {
     "data": {
      "text/html": [
       "<pre style=\"white-space:pre;overflow-x:auto;line-height:normal;font-family:Menlo,'DejaVu Sans Mono',consolas,'Courier New',monospace\"><span style=\"font-weight: bold\">&lt;</span><span style=\"color: #800080; text-decoration-color: #800080; font-weight: bold\">Seg</span><span style=\"color: #000000; text-decoration-color: #000000; font-weight: bold\">(</span><span style=\"color: #000000; text-decoration-color: #000000\">DHT</span><span style=\"color: #000000; text-decoration-color: #000000; font-weight: bold\">)</span><span style=\"color: #000000; text-decoration-color: #000000\">: </span><span style=\"color: #808000; text-decoration-color: #808000\">length</span><span style=\"color: #000000; text-decoration-color: #000000\">=</span><span style=\"color: #800080; text-decoration-color: #800080; font-weight: bold\">UInt16</span><span style=\"color: #000000; text-decoration-color: #000000; font-weight: bold\">(</span><span style=\"color: #008080; text-decoration-color: #008080; font-weight: bold\">52</span><span style=\"color: #000000; text-decoration-color: #000000; font-weight: bold\">)</span><span style=\"color: #000000; text-decoration-color: #000000\">, </span><span style=\"color: #808000; text-decoration-color: #808000\">payload</span><span style=\"color: #000000; text-decoration-color: #000000\">=&lt;memory at </span><span style=\"color: #008080; text-decoration-color: #008080; font-weight: bold\">0x7fc518c5bd00</span><span style=\"color: #000000; text-decoration-color: #000000\">&gt;</span><span style=\"font-weight: bold\">&gt;</span>\n",
       "</pre>\n"
      ],
      "text/plain": [
       "\u001b[1m<\u001b[0m\u001b[1;35mSeg\u001b[0m\u001b[1;39m(\u001b[0m\u001b[39mDHT\u001b[0m\u001b[1;39m)\u001b[0m\u001b[39m: \u001b[0m\u001b[33mlength\u001b[0m\u001b[39m=\u001b[0m\u001b[1;35mUInt16\u001b[0m\u001b[1;39m(\u001b[0m\u001b[1;36m52\u001b[0m\u001b[1;39m)\u001b[0m\u001b[39m, \u001b[0m\u001b[33mpayload\u001b[0m\u001b[39m=<memory at \u001b[0m\u001b[1;36m0x7fc518c5bd00\u001b[0m\u001b[39m>\u001b[0m\u001b[1m>\u001b[0m\n"
      ]
     },
     "metadata": {},
     "output_type": "display_data"
    },
    {
     "data": {
      "text/html": [
       "<pre style=\"white-space:pre;overflow-x:auto;line-height:normal;font-family:Menlo,'DejaVu Sans Mono',consolas,'Courier New',monospace\"><span style=\"font-weight: bold\">&lt;</span><span style=\"color: #800080; text-decoration-color: #800080; font-weight: bold\">Seg</span><span style=\"color: #000000; text-decoration-color: #000000; font-weight: bold\">(</span><span style=\"color: #000000; text-decoration-color: #000000\">SOS</span><span style=\"color: #000000; text-decoration-color: #000000; font-weight: bold\">)</span><span style=\"color: #000000; text-decoration-color: #000000\">: </span><span style=\"color: #808000; text-decoration-color: #808000\">length</span><span style=\"color: #000000; text-decoration-color: #000000\">=</span><span style=\"color: #800080; text-decoration-color: #800080; font-weight: bold\">UInt16</span><span style=\"color: #000000; text-decoration-color: #000000; font-weight: bold\">(</span><span style=\"color: #008080; text-decoration-color: #008080; font-weight: bold\">8</span><span style=\"color: #000000; text-decoration-color: #000000; font-weight: bold\">)</span><span style=\"color: #000000; text-decoration-color: #000000\">, </span><span style=\"color: #808000; text-decoration-color: #808000\">payload</span><span style=\"color: #000000; text-decoration-color: #000000\">=&lt;memory at </span><span style=\"color: #008080; text-decoration-color: #008080; font-weight: bold\">0x7fc518c44040</span><span style=\"color: #000000; text-decoration-color: #000000\">&gt;, </span><span style=\"color: #808000; text-decoration-color: #808000\">image_data</span><span style=\"color: #000000; text-decoration-color: #000000\">=&lt;memory at </span><span style=\"color: #008080; text-decoration-color: #008080; font-weight: bold\">0x7fc518c44100</span><span style=\"color: #000000; text-decoration-color: #000000\">&gt;</span><span style=\"font-weight: bold\">&gt;</span>\n",
       "</pre>\n"
      ],
      "text/plain": [
       "\u001b[1m<\u001b[0m\u001b[1;35mSeg\u001b[0m\u001b[1;39m(\u001b[0m\u001b[39mSOS\u001b[0m\u001b[1;39m)\u001b[0m\u001b[39m: \u001b[0m\u001b[33mlength\u001b[0m\u001b[39m=\u001b[0m\u001b[1;35mUInt16\u001b[0m\u001b[1;39m(\u001b[0m\u001b[1;36m8\u001b[0m\u001b[1;39m)\u001b[0m\u001b[39m, \u001b[0m\u001b[33mpayload\u001b[0m\u001b[39m=<memory at \u001b[0m\u001b[1;36m0x7fc518c44040\u001b[0m\u001b[39m>, \u001b[0m\u001b[33mimage_data\u001b[0m\u001b[39m=<memory at \u001b[0m\u001b[1;36m0x7fc518c44100\u001b[0m\u001b[39m>\u001b[0m\u001b[1m>\u001b[0m\n"
      ]
     },
     "metadata": {},
     "output_type": "display_data"
    },
    {
     "data": {
      "text/html": [
       "<pre style=\"white-space:pre;overflow-x:auto;line-height:normal;font-family:Menlo,'DejaVu Sans Mono',consolas,'Courier New',monospace\"><span style=\"font-weight: bold\">&lt;</span><span style=\"color: #800080; text-decoration-color: #800080; font-weight: bold\">Seg</span><span style=\"color: #000000; text-decoration-color: #000000; font-weight: bold\">(</span><span style=\"color: #000000; text-decoration-color: #000000\">DHT</span><span style=\"color: #000000; text-decoration-color: #000000; font-weight: bold\">)</span><span style=\"color: #000000; text-decoration-color: #000000\">: </span><span style=\"color: #808000; text-decoration-color: #808000\">length</span><span style=\"color: #000000; text-decoration-color: #000000\">=</span><span style=\"color: #800080; text-decoration-color: #800080; font-weight: bold\">UInt16</span><span style=\"color: #000000; text-decoration-color: #000000; font-weight: bold\">(</span><span style=\"color: #008080; text-decoration-color: #008080; font-weight: bold\">39</span><span style=\"color: #000000; text-decoration-color: #000000; font-weight: bold\">)</span><span style=\"color: #000000; text-decoration-color: #000000\">, </span><span style=\"color: #808000; text-decoration-color: #808000\">payload</span><span style=\"color: #000000; text-decoration-color: #000000\">=&lt;memory at </span><span style=\"color: #008080; text-decoration-color: #008080; font-weight: bold\">0x7fc518c44340</span><span style=\"color: #000000; text-decoration-color: #000000\">&gt;</span><span style=\"font-weight: bold\">&gt;</span>\n",
       "</pre>\n"
      ],
      "text/plain": [
       "\u001b[1m<\u001b[0m\u001b[1;35mSeg\u001b[0m\u001b[1;39m(\u001b[0m\u001b[39mDHT\u001b[0m\u001b[1;39m)\u001b[0m\u001b[39m: \u001b[0m\u001b[33mlength\u001b[0m\u001b[39m=\u001b[0m\u001b[1;35mUInt16\u001b[0m\u001b[1;39m(\u001b[0m\u001b[1;36m39\u001b[0m\u001b[1;39m)\u001b[0m\u001b[39m, \u001b[0m\u001b[33mpayload\u001b[0m\u001b[39m=<memory at \u001b[0m\u001b[1;36m0x7fc518c44340\u001b[0m\u001b[39m>\u001b[0m\u001b[1m>\u001b[0m\n"
      ]
     },
     "metadata": {},
     "output_type": "display_data"
    },
    {
     "data": {
      "text/html": [
       "<pre style=\"white-space:pre;overflow-x:auto;line-height:normal;font-family:Menlo,'DejaVu Sans Mono',consolas,'Courier New',monospace\"><span style=\"font-weight: bold\">&lt;</span><span style=\"color: #800080; text-decoration-color: #800080; font-weight: bold\">Seg</span><span style=\"color: #000000; text-decoration-color: #000000; font-weight: bold\">(</span><span style=\"color: #000000; text-decoration-color: #000000\">SOS</span><span style=\"color: #000000; text-decoration-color: #000000; font-weight: bold\">)</span><span style=\"color: #000000; text-decoration-color: #000000\">: </span><span style=\"color: #808000; text-decoration-color: #808000\">length</span><span style=\"color: #000000; text-decoration-color: #000000\">=</span><span style=\"color: #800080; text-decoration-color: #800080; font-weight: bold\">UInt16</span><span style=\"color: #000000; text-decoration-color: #000000; font-weight: bold\">(</span><span style=\"color: #008080; text-decoration-color: #008080; font-weight: bold\">8</span><span style=\"color: #000000; text-decoration-color: #000000; font-weight: bold\">)</span><span style=\"color: #000000; text-decoration-color: #000000\">, </span><span style=\"color: #808000; text-decoration-color: #808000\">payload</span><span style=\"color: #000000; text-decoration-color: #000000\">=&lt;memory at </span><span style=\"color: #008080; text-decoration-color: #008080; font-weight: bold\">0x7fc518c44580</span><span style=\"color: #000000; text-decoration-color: #000000\">&gt;, </span><span style=\"color: #808000; text-decoration-color: #808000\">image_data</span><span style=\"color: #000000; text-decoration-color: #000000\">=&lt;memory at </span><span style=\"color: #008080; text-decoration-color: #008080; font-weight: bold\">0x7fc518c44640</span><span style=\"color: #000000; text-decoration-color: #000000\">&gt;</span><span style=\"font-weight: bold\">&gt;</span>\n",
       "</pre>\n"
      ],
      "text/plain": [
       "\u001b[1m<\u001b[0m\u001b[1;35mSeg\u001b[0m\u001b[1;39m(\u001b[0m\u001b[39mSOS\u001b[0m\u001b[1;39m)\u001b[0m\u001b[39m: \u001b[0m\u001b[33mlength\u001b[0m\u001b[39m=\u001b[0m\u001b[1;35mUInt16\u001b[0m\u001b[1;39m(\u001b[0m\u001b[1;36m8\u001b[0m\u001b[1;39m)\u001b[0m\u001b[39m, \u001b[0m\u001b[33mpayload\u001b[0m\u001b[39m=<memory at \u001b[0m\u001b[1;36m0x7fc518c44580\u001b[0m\u001b[39m>, \u001b[0m\u001b[33mimage_data\u001b[0m\u001b[39m=<memory at \u001b[0m\u001b[1;36m0x7fc518c44640\u001b[0m\u001b[39m>\u001b[0m\u001b[1m>\u001b[0m\n"
      ]
     },
     "metadata": {},
     "output_type": "display_data"
    },
    {
     "data": {
      "text/html": [
       "<pre style=\"white-space:pre;overflow-x:auto;line-height:normal;font-family:Menlo,'DejaVu Sans Mono',consolas,'Courier New',monospace\"><span style=\"font-weight: bold\">&lt;</span><span style=\"color: #800080; text-decoration-color: #800080; font-weight: bold\">Seg</span><span style=\"color: #000000; text-decoration-color: #000000; font-weight: bold\">(</span><span style=\"color: #000000; text-decoration-color: #000000\">SOS</span><span style=\"color: #000000; text-decoration-color: #000000; font-weight: bold\">)</span><span style=\"color: #000000; text-decoration-color: #000000\">: </span><span style=\"color: #808000; text-decoration-color: #808000\">length</span><span style=\"color: #000000; text-decoration-color: #000000\">=</span><span style=\"color: #800080; text-decoration-color: #800080; font-weight: bold\">UInt16</span><span style=\"color: #000000; text-decoration-color: #000000; font-weight: bold\">(</span><span style=\"color: #008080; text-decoration-color: #008080; font-weight: bold\">12</span><span style=\"color: #000000; text-decoration-color: #000000; font-weight: bold\">)</span><span style=\"color: #000000; text-decoration-color: #000000\">, </span><span style=\"color: #808000; text-decoration-color: #808000\">payload</span><span style=\"color: #000000; text-decoration-color: #000000\">=&lt;memory at </span><span style=\"color: #008080; text-decoration-color: #008080; font-weight: bold\">0x7fc518c44880</span><span style=\"color: #000000; text-decoration-color: #000000\">&gt;, </span><span style=\"color: #808000; text-decoration-color: #808000\">image_data</span><span style=\"color: #000000; text-decoration-color: #000000\">=&lt;memory at </span><span style=\"color: #008080; text-decoration-color: #008080; font-weight: bold\">0x7fc518c44940</span><span style=\"color: #000000; text-decoration-color: #000000\">&gt;</span><span style=\"font-weight: bold\">&gt;</span>\n",
       "</pre>\n"
      ],
      "text/plain": [
       "\u001b[1m<\u001b[0m\u001b[1;35mSeg\u001b[0m\u001b[1;39m(\u001b[0m\u001b[39mSOS\u001b[0m\u001b[1;39m)\u001b[0m\u001b[39m: \u001b[0m\u001b[33mlength\u001b[0m\u001b[39m=\u001b[0m\u001b[1;35mUInt16\u001b[0m\u001b[1;39m(\u001b[0m\u001b[1;36m12\u001b[0m\u001b[1;39m)\u001b[0m\u001b[39m, \u001b[0m\u001b[33mpayload\u001b[0m\u001b[39m=<memory at \u001b[0m\u001b[1;36m0x7fc518c44880\u001b[0m\u001b[39m>, \u001b[0m\u001b[33mimage_data\u001b[0m\u001b[39m=<memory at \u001b[0m\u001b[1;36m0x7fc518c44940\u001b[0m\u001b[39m>\u001b[0m\u001b[1m>\u001b[0m\n"
      ]
     },
     "metadata": {},
     "output_type": "display_data"
    },
    {
     "data": {
      "text/html": [
       "<pre style=\"white-space:pre;overflow-x:auto;line-height:normal;font-family:Menlo,'DejaVu Sans Mono',consolas,'Courier New',monospace\"><span style=\"font-weight: bold\">&lt;</span><span style=\"color: #800080; text-decoration-color: #800080; font-weight: bold\">Seg</span><span style=\"color: #000000; text-decoration-color: #000000; font-weight: bold\">(</span><span style=\"color: #000000; text-decoration-color: #000000\">DHT</span><span style=\"color: #000000; text-decoration-color: #000000; font-weight: bold\">)</span><span style=\"color: #000000; text-decoration-color: #000000\">: </span><span style=\"color: #808000; text-decoration-color: #808000\">length</span><span style=\"color: #000000; text-decoration-color: #000000\">=</span><span style=\"color: #800080; text-decoration-color: #800080; font-weight: bold\">UInt16</span><span style=\"color: #000000; text-decoration-color: #000000; font-weight: bold\">(</span><span style=\"color: #008080; text-decoration-color: #008080; font-weight: bold\">34</span><span style=\"color: #000000; text-decoration-color: #000000; font-weight: bold\">)</span><span style=\"color: #000000; text-decoration-color: #000000\">, </span><span style=\"color: #808000; text-decoration-color: #808000\">payload</span><span style=\"color: #000000; text-decoration-color: #000000\">=&lt;memory at </span><span style=\"color: #008080; text-decoration-color: #008080; font-weight: bold\">0x7fc518c44b80</span><span style=\"color: #000000; text-decoration-color: #000000\">&gt;</span><span style=\"font-weight: bold\">&gt;</span>\n",
       "</pre>\n"
      ],
      "text/plain": [
       "\u001b[1m<\u001b[0m\u001b[1;35mSeg\u001b[0m\u001b[1;39m(\u001b[0m\u001b[39mDHT\u001b[0m\u001b[1;39m)\u001b[0m\u001b[39m: \u001b[0m\u001b[33mlength\u001b[0m\u001b[39m=\u001b[0m\u001b[1;35mUInt16\u001b[0m\u001b[1;39m(\u001b[0m\u001b[1;36m34\u001b[0m\u001b[1;39m)\u001b[0m\u001b[39m, \u001b[0m\u001b[33mpayload\u001b[0m\u001b[39m=<memory at \u001b[0m\u001b[1;36m0x7fc518c44b80\u001b[0m\u001b[39m>\u001b[0m\u001b[1m>\u001b[0m\n"
      ]
     },
     "metadata": {},
     "output_type": "display_data"
    },
    {
     "data": {
      "text/html": [
       "<pre style=\"white-space:pre;overflow-x:auto;line-height:normal;font-family:Menlo,'DejaVu Sans Mono',consolas,'Courier New',monospace\"><span style=\"font-weight: bold\">&lt;</span><span style=\"color: #800080; text-decoration-color: #800080; font-weight: bold\">Seg</span><span style=\"color: #000000; text-decoration-color: #000000; font-weight: bold\">(</span><span style=\"color: #000000; text-decoration-color: #000000\">SOS</span><span style=\"color: #000000; text-decoration-color: #000000; font-weight: bold\">)</span><span style=\"color: #000000; text-decoration-color: #000000\">: </span><span style=\"color: #808000; text-decoration-color: #808000\">length</span><span style=\"color: #000000; text-decoration-color: #000000\">=</span><span style=\"color: #800080; text-decoration-color: #800080; font-weight: bold\">UInt16</span><span style=\"color: #000000; text-decoration-color: #000000; font-weight: bold\">(</span><span style=\"color: #008080; text-decoration-color: #008080; font-weight: bold\">8</span><span style=\"color: #000000; text-decoration-color: #000000; font-weight: bold\">)</span><span style=\"color: #000000; text-decoration-color: #000000\">, </span><span style=\"color: #808000; text-decoration-color: #808000\">payload</span><span style=\"color: #000000; text-decoration-color: #000000\">=&lt;memory at </span><span style=\"color: #008080; text-decoration-color: #008080; font-weight: bold\">0x7fc518c44dc0</span><span style=\"color: #000000; text-decoration-color: #000000\">&gt;, </span><span style=\"color: #808000; text-decoration-color: #808000\">image_data</span><span style=\"color: #000000; text-decoration-color: #000000\">=&lt;memory at </span><span style=\"color: #008080; text-decoration-color: #008080; font-weight: bold\">0x7fc518c44e80</span><span style=\"color: #000000; text-decoration-color: #000000\">&gt;</span><span style=\"font-weight: bold\">&gt;</span>\n",
       "</pre>\n"
      ],
      "text/plain": [
       "\u001b[1m<\u001b[0m\u001b[1;35mSeg\u001b[0m\u001b[1;39m(\u001b[0m\u001b[39mSOS\u001b[0m\u001b[1;39m)\u001b[0m\u001b[39m: \u001b[0m\u001b[33mlength\u001b[0m\u001b[39m=\u001b[0m\u001b[1;35mUInt16\u001b[0m\u001b[1;39m(\u001b[0m\u001b[1;36m8\u001b[0m\u001b[1;39m)\u001b[0m\u001b[39m, \u001b[0m\u001b[33mpayload\u001b[0m\u001b[39m=<memory at \u001b[0m\u001b[1;36m0x7fc518c44dc0\u001b[0m\u001b[39m>, \u001b[0m\u001b[33mimage_data\u001b[0m\u001b[39m=<memory at \u001b[0m\u001b[1;36m0x7fc518c44e80\u001b[0m\u001b[39m>\u001b[0m\u001b[1m>\u001b[0m\n"
      ]
     },
     "metadata": {},
     "output_type": "display_data"
    },
    {
     "data": {
      "text/html": [
       "<pre style=\"white-space:pre;overflow-x:auto;line-height:normal;font-family:Menlo,'DejaVu Sans Mono',consolas,'Courier New',monospace\"><span style=\"font-weight: bold\">&lt;</span><span style=\"color: #800080; text-decoration-color: #800080; font-weight: bold\">Seg</span><span style=\"color: #000000; text-decoration-color: #000000; font-weight: bold\">(</span><span style=\"color: #000000; text-decoration-color: #000000\">DHT</span><span style=\"color: #000000; text-decoration-color: #000000; font-weight: bold\">)</span><span style=\"color: #000000; text-decoration-color: #000000\">: </span><span style=\"color: #808000; text-decoration-color: #808000\">length</span><span style=\"color: #000000; text-decoration-color: #000000\">=</span><span style=\"color: #800080; text-decoration-color: #800080; font-weight: bold\">UInt16</span><span style=\"color: #000000; text-decoration-color: #000000; font-weight: bold\">(</span><span style=\"color: #008080; text-decoration-color: #008080; font-weight: bold\">34</span><span style=\"color: #000000; text-decoration-color: #000000; font-weight: bold\">)</span><span style=\"color: #000000; text-decoration-color: #000000\">, </span><span style=\"color: #808000; text-decoration-color: #808000\">payload</span><span style=\"color: #000000; text-decoration-color: #000000\">=&lt;memory at </span><span style=\"color: #008080; text-decoration-color: #008080; font-weight: bold\">0x7fc518c450c0</span><span style=\"color: #000000; text-decoration-color: #000000\">&gt;</span><span style=\"font-weight: bold\">&gt;</span>\n",
       "</pre>\n"
      ],
      "text/plain": [
       "\u001b[1m<\u001b[0m\u001b[1;35mSeg\u001b[0m\u001b[1;39m(\u001b[0m\u001b[39mDHT\u001b[0m\u001b[1;39m)\u001b[0m\u001b[39m: \u001b[0m\u001b[33mlength\u001b[0m\u001b[39m=\u001b[0m\u001b[1;35mUInt16\u001b[0m\u001b[1;39m(\u001b[0m\u001b[1;36m34\u001b[0m\u001b[1;39m)\u001b[0m\u001b[39m, \u001b[0m\u001b[33mpayload\u001b[0m\u001b[39m=<memory at \u001b[0m\u001b[1;36m0x7fc518c450c0\u001b[0m\u001b[39m>\u001b[0m\u001b[1m>\u001b[0m\n"
      ]
     },
     "metadata": {},
     "output_type": "display_data"
    },
    {
     "data": {
      "text/html": [
       "<pre style=\"white-space:pre;overflow-x:auto;line-height:normal;font-family:Menlo,'DejaVu Sans Mono',consolas,'Courier New',monospace\"><span style=\"font-weight: bold\">&lt;</span><span style=\"color: #800080; text-decoration-color: #800080; font-weight: bold\">Seg</span><span style=\"color: #000000; text-decoration-color: #000000; font-weight: bold\">(</span><span style=\"color: #000000; text-decoration-color: #000000\">SOS</span><span style=\"color: #000000; text-decoration-color: #000000; font-weight: bold\">)</span><span style=\"color: #000000; text-decoration-color: #000000\">: </span><span style=\"color: #808000; text-decoration-color: #808000\">length</span><span style=\"color: #000000; text-decoration-color: #000000\">=</span><span style=\"color: #800080; text-decoration-color: #800080; font-weight: bold\">UInt16</span><span style=\"color: #000000; text-decoration-color: #000000; font-weight: bold\">(</span><span style=\"color: #008080; text-decoration-color: #008080; font-weight: bold\">8</span><span style=\"color: #000000; text-decoration-color: #000000; font-weight: bold\">)</span><span style=\"color: #000000; text-decoration-color: #000000\">, </span><span style=\"color: #808000; text-decoration-color: #808000\">payload</span><span style=\"color: #000000; text-decoration-color: #000000\">=&lt;memory at </span><span style=\"color: #008080; text-decoration-color: #008080; font-weight: bold\">0x7fc518c45300</span><span style=\"color: #000000; text-decoration-color: #000000\">&gt;, </span><span style=\"color: #808000; text-decoration-color: #808000\">image_data</span><span style=\"color: #000000; text-decoration-color: #000000\">=&lt;memory at </span><span style=\"color: #008080; text-decoration-color: #008080; font-weight: bold\">0x7fc518c453c0</span><span style=\"color: #000000; text-decoration-color: #000000\">&gt;</span><span style=\"font-weight: bold\">&gt;</span>\n",
       "</pre>\n"
      ],
      "text/plain": [
       "\u001b[1m<\u001b[0m\u001b[1;35mSeg\u001b[0m\u001b[1;39m(\u001b[0m\u001b[39mSOS\u001b[0m\u001b[1;39m)\u001b[0m\u001b[39m: \u001b[0m\u001b[33mlength\u001b[0m\u001b[39m=\u001b[0m\u001b[1;35mUInt16\u001b[0m\u001b[1;39m(\u001b[0m\u001b[1;36m8\u001b[0m\u001b[1;39m)\u001b[0m\u001b[39m, \u001b[0m\u001b[33mpayload\u001b[0m\u001b[39m=<memory at \u001b[0m\u001b[1;36m0x7fc518c45300\u001b[0m\u001b[39m>, \u001b[0m\u001b[33mimage_data\u001b[0m\u001b[39m=<memory at \u001b[0m\u001b[1;36m0x7fc518c453c0\u001b[0m\u001b[39m>\u001b[0m\u001b[1m>\u001b[0m\n"
      ]
     },
     "metadata": {},
     "output_type": "display_data"
    },
    {
     "data": {
      "text/html": [
       "<pre style=\"white-space:pre;overflow-x:auto;line-height:normal;font-family:Menlo,'DejaVu Sans Mono',consolas,'Courier New',monospace\"><span style=\"font-weight: bold\">&lt;</span><span style=\"color: #800080; text-decoration-color: #800080; font-weight: bold\">Seg</span><span style=\"color: #000000; text-decoration-color: #000000; font-weight: bold\">(</span><span style=\"color: #000000; text-decoration-color: #000000\">DHT</span><span style=\"color: #000000; text-decoration-color: #000000; font-weight: bold\">)</span><span style=\"color: #000000; text-decoration-color: #000000\">: </span><span style=\"color: #808000; text-decoration-color: #808000\">length</span><span style=\"color: #000000; text-decoration-color: #000000\">=</span><span style=\"color: #800080; text-decoration-color: #800080; font-weight: bold\">UInt16</span><span style=\"color: #000000; text-decoration-color: #000000; font-weight: bold\">(</span><span style=\"color: #008080; text-decoration-color: #008080; font-weight: bold\">38</span><span style=\"color: #000000; text-decoration-color: #000000; font-weight: bold\">)</span><span style=\"color: #000000; text-decoration-color: #000000\">, </span><span style=\"color: #808000; text-decoration-color: #808000\">payload</span><span style=\"color: #000000; text-decoration-color: #000000\">=&lt;memory at </span><span style=\"color: #008080; text-decoration-color: #008080; font-weight: bold\">0x7fc518c45540</span><span style=\"color: #000000; text-decoration-color: #000000\">&gt;</span><span style=\"font-weight: bold\">&gt;</span>\n",
       "</pre>\n"
      ],
      "text/plain": [
       "\u001b[1m<\u001b[0m\u001b[1;35mSeg\u001b[0m\u001b[1;39m(\u001b[0m\u001b[39mDHT\u001b[0m\u001b[1;39m)\u001b[0m\u001b[39m: \u001b[0m\u001b[33mlength\u001b[0m\u001b[39m=\u001b[0m\u001b[1;35mUInt16\u001b[0m\u001b[1;39m(\u001b[0m\u001b[1;36m38\u001b[0m\u001b[1;39m)\u001b[0m\u001b[39m, \u001b[0m\u001b[33mpayload\u001b[0m\u001b[39m=<memory at \u001b[0m\u001b[1;36m0x7fc518c45540\u001b[0m\u001b[39m>\u001b[0m\u001b[1m>\u001b[0m\n"
      ]
     },
     "metadata": {},
     "output_type": "display_data"
    },
    {
     "data": {
      "text/html": [
       "<pre style=\"white-space:pre;overflow-x:auto;line-height:normal;font-family:Menlo,'DejaVu Sans Mono',consolas,'Courier New',monospace\"><span style=\"font-weight: bold\">&lt;</span><span style=\"color: #800080; text-decoration-color: #800080; font-weight: bold\">Seg</span><span style=\"color: #000000; text-decoration-color: #000000; font-weight: bold\">(</span><span style=\"color: #000000; text-decoration-color: #000000\">SOS</span><span style=\"color: #000000; text-decoration-color: #000000; font-weight: bold\">)</span><span style=\"color: #000000; text-decoration-color: #000000\">: </span><span style=\"color: #808000; text-decoration-color: #808000\">length</span><span style=\"color: #000000; text-decoration-color: #000000\">=</span><span style=\"color: #800080; text-decoration-color: #800080; font-weight: bold\">UInt16</span><span style=\"color: #000000; text-decoration-color: #000000; font-weight: bold\">(</span><span style=\"color: #008080; text-decoration-color: #008080; font-weight: bold\">8</span><span style=\"color: #000000; text-decoration-color: #000000; font-weight: bold\">)</span><span style=\"color: #000000; text-decoration-color: #000000\">, </span><span style=\"color: #808000; text-decoration-color: #808000\">payload</span><span style=\"color: #000000; text-decoration-color: #000000\">=&lt;memory at </span><span style=\"color: #008080; text-decoration-color: #008080; font-weight: bold\">0x7fc518c45780</span><span style=\"color: #000000; text-decoration-color: #000000\">&gt;, </span><span style=\"color: #808000; text-decoration-color: #808000\">image_data</span><span style=\"color: #000000; text-decoration-color: #000000\">=&lt;memory at </span><span style=\"color: #008080; text-decoration-color: #008080; font-weight: bold\">0x7fc518c45840</span><span style=\"color: #000000; text-decoration-color: #000000\">&gt;</span><span style=\"font-weight: bold\">&gt;</span>\n",
       "</pre>\n"
      ],
      "text/plain": [
       "\u001b[1m<\u001b[0m\u001b[1;35mSeg\u001b[0m\u001b[1;39m(\u001b[0m\u001b[39mSOS\u001b[0m\u001b[1;39m)\u001b[0m\u001b[39m: \u001b[0m\u001b[33mlength\u001b[0m\u001b[39m=\u001b[0m\u001b[1;35mUInt16\u001b[0m\u001b[1;39m(\u001b[0m\u001b[1;36m8\u001b[0m\u001b[1;39m)\u001b[0m\u001b[39m, \u001b[0m\u001b[33mpayload\u001b[0m\u001b[39m=<memory at \u001b[0m\u001b[1;36m0x7fc518c45780\u001b[0m\u001b[39m>, \u001b[0m\u001b[33mimage_data\u001b[0m\u001b[39m=<memory at \u001b[0m\u001b[1;36m0x7fc518c45840\u001b[0m\u001b[39m>\u001b[0m\u001b[1m>\u001b[0m\n"
      ]
     },
     "metadata": {},
     "output_type": "display_data"
    },
    {
     "data": {
      "text/html": [
       "<pre style=\"white-space:pre;overflow-x:auto;line-height:normal;font-family:Menlo,'DejaVu Sans Mono',consolas,'Courier New',monospace\"><span style=\"font-weight: bold\">&lt;</span><span style=\"color: #800080; text-decoration-color: #800080; font-weight: bold\">Seg</span><span style=\"color: #000000; text-decoration-color: #000000; font-weight: bold\">(</span><span style=\"color: #000000; text-decoration-color: #000000\">EOI</span><span style=\"color: #000000; text-decoration-color: #000000; font-weight: bold\">)</span><span style=\"color: #000000; text-decoration-color: #000000\">: </span><span style=\"font-weight: bold\">&gt;</span>\n",
       "</pre>\n"
      ],
      "text/plain": [
       "\u001b[1m<\u001b[0m\u001b[1;35mSeg\u001b[0m\u001b[1;39m(\u001b[0m\u001b[39mEOI\u001b[0m\u001b[1;39m)\u001b[0m\u001b[39m: \u001b[0m\u001b[1m>\u001b[0m\n"
      ]
     },
     "metadata": {},
     "output_type": "display_data"
    }
   ],
   "source": [
    "for segment in jpg.segments:\n",
    "    print(segment)"
   ]
  }
 ],
 "metadata": {
  "kernelspec": {
   "display_name": ".venv",
   "language": "python",
   "name": "python3"
  },
  "language_info": {
   "codemirror_mode": {
    "name": "ipython",
    "version": 3
   },
   "file_extension": ".py",
   "mimetype": "text/x-python",
   "name": "python",
   "nbconvert_exporter": "python",
   "pygments_lexer": "ipython3",
   "version": "3.10.14"
  }
 },
 "nbformat": 4,
 "nbformat_minor": 2
}
