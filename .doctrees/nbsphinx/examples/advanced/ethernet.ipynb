{
 "cells": [
  {
   "cell_type": "markdown",
   "metadata": {},
   "source": [
    "# Ethernet Header and Frame"
   ]
  },
  {
   "cell_type": "code",
   "execution_count": 1,
   "metadata": {},
   "outputs": [],
   "source": [
    "from byteclasses.handlers.network.eth_hdr import EthHdr\n",
    "from byteclasses.handlers.network.eth_frame import EthFrame\n",
    "from rich.console import Console\n",
    "from rich.table import Table"
   ]
  },
  {
   "cell_type": "code",
   "execution_count": 2,
   "metadata": {},
   "outputs": [],
   "source": [
    "eth = EthHdr()\n",
    "data = bytearray(b\"\\x00\\x0c\\x29\\xb4\\x90\\x14\\xec\\xf4\\xbb\\x96\\x12\\x0e\\x08\\x00\")\n",
    "eth.attach(memoryview(data))"
   ]
  },
  {
   "cell_type": "code",
   "execution_count": 3,
   "metadata": {},
   "outputs": [
    {
     "data": {
      "text/html": [
       "<pre style=\"white-space:pre;overflow-x:auto;line-height:normal;font-family:Menlo,'DejaVu Sans Mono',consolas,'Courier New',monospace\"><span style=\"font-style: italic\">                                                  Ethernet Header                                                  </span>\n",
       "┏━━━━━━━━━━━━━━━━┳━━━━━━━━━━━━━━━━━━━━━━━━━━━━━━━━━━━━━━━━━━━━━━━━━━━━━━━━━━━━━━━━━━━━━━━━━━━━━━━━━━━━━━━━━━━━━━━━┓\n",
       "┃<span style=\"font-weight: bold\"> Name           </span>┃<span style=\"font-weight: bold\"> Value                                                                                          </span>┃\n",
       "┡━━━━━━━━━━━━━━━━╇━━━━━━━━━━━━━━━━━━━━━━━━━━━━━━━━━━━━━━━━━━━━━━━━━━━━━━━━━━━━━━━━━━━━━━━━━━━━━━━━━━━━━━━━━━━━━━━━┩\n",
       "│ len(eth)       │ 14                                                                                             │\n",
       "│ str(eth)       │ EthHdr(dst_mac=[UInt8(0), UInt8(12), UInt8(41), UInt8(180), UInt8(144), UInt8(20)],            │\n",
       "│                │ src_mac=[UInt8(236), UInt8(244), UInt8(187), UInt8(150), UInt8(18), UInt8(14)],                │\n",
       "│                │ ether_type=UInt16(2048))                                                                       │\n",
       "│ repr(eth)      │ EthHdr(dst_mac=[UInt8(0), UInt8(12), UInt8(41), UInt8(180), UInt8(144), UInt8(20)],            │\n",
       "│                │ src_mac=[UInt8(236), UInt8(244), UInt8(187), UInt8(150), UInt8(18), UInt8(14)],                │\n",
       "│                │ ether_type=UInt16(2048))                                                                       │\n",
       "│ eth.data       │ bytearray(b'\\x00\\x0c)\\xb4\\x90\\x14\\xec\\xf4\\xbb\\x96\\x12\\x0e\\x08\\x00')                            │\n",
       "│ eth.src_mac    │ [UInt8(236), UInt8(244), UInt8(187), UInt8(150), UInt8(18), UInt8(14)]                         │\n",
       "│ eth.dst_mac    │ [UInt8(0), UInt8(12), UInt8(41), UInt8(180), UInt8(144), UInt8(20)]                            │\n",
       "│ eth.ether_type │ 2048                                                                                           │\n",
       "└────────────────┴────────────────────────────────────────────────────────────────────────────────────────────────┘\n",
       "</pre>\n"
      ],
      "text/plain": [
       "\u001b[3m                                                  Ethernet Header                                                  \u001b[0m\n",
       "┏━━━━━━━━━━━━━━━━┳━━━━━━━━━━━━━━━━━━━━━━━━━━━━━━━━━━━━━━━━━━━━━━━━━━━━━━━━━━━━━━━━━━━━━━━━━━━━━━━━━━━━━━━━━━━━━━━━┓\n",
       "┃\u001b[1m \u001b[0m\u001b[1mName          \u001b[0m\u001b[1m \u001b[0m┃\u001b[1m \u001b[0m\u001b[1mValue                                                                                         \u001b[0m\u001b[1m \u001b[0m┃\n",
       "┡━━━━━━━━━━━━━━━━╇━━━━━━━━━━━━━━━━━━━━━━━━━━━━━━━━━━━━━━━━━━━━━━━━━━━━━━━━━━━━━━━━━━━━━━━━━━━━━━━━━━━━━━━━━━━━━━━━┩\n",
       "│ len(eth)       │ 14                                                                                             │\n",
       "│ str(eth)       │ EthHdr(dst_mac=[UInt8(0), UInt8(12), UInt8(41), UInt8(180), UInt8(144), UInt8(20)],            │\n",
       "│                │ src_mac=[UInt8(236), UInt8(244), UInt8(187), UInt8(150), UInt8(18), UInt8(14)],                │\n",
       "│                │ ether_type=UInt16(2048))                                                                       │\n",
       "│ repr(eth)      │ EthHdr(dst_mac=[UInt8(0), UInt8(12), UInt8(41), UInt8(180), UInt8(144), UInt8(20)],            │\n",
       "│                │ src_mac=[UInt8(236), UInt8(244), UInt8(187), UInt8(150), UInt8(18), UInt8(14)],                │\n",
       "│                │ ether_type=UInt16(2048))                                                                       │\n",
       "│ eth.data       │ bytearray(b'\\x00\\x0c)\\xb4\\x90\\x14\\xec\\xf4\\xbb\\x96\\x12\\x0e\\x08\\x00')                            │\n",
       "│ eth.src_mac    │ [UInt8(236), UInt8(244), UInt8(187), UInt8(150), UInt8(18), UInt8(14)]                         │\n",
       "│ eth.dst_mac    │ [UInt8(0), UInt8(12), UInt8(41), UInt8(180), UInt8(144), UInt8(20)]                            │\n",
       "│ eth.ether_type │ 2048                                                                                           │\n",
       "└────────────────┴────────────────────────────────────────────────────────────────────────────────────────────────┘\n"
      ]
     },
     "metadata": {},
     "output_type": "display_data"
    }
   ],
   "source": [
    "table = Table(title=\"Ethernet Header\")\n",
    "\n",
    "table.add_column(\"Name\")\n",
    "table.add_column(\"Value\")\n",
    "\n",
    "table.add_row(\"len(eth)\", str(len(eth)))\n",
    "table.add_row(\"str(eth)\", str(eth))\n",
    "table.add_row(\"repr(eth)\", repr(eth))\n",
    "table.add_row(\"eth.data\", str(eth.data))\n",
    "table.add_row(\"eth.src_mac\", str(eth.src_mac))\n",
    "table.add_row(\"eth.dst_mac\", str(eth.dst_mac))\n",
    "table.add_row(\"eth.ether_type\", str(eth.ether_type))\n",
    "\n",
    "console = Console()\n",
    "console.print(table)"
   ]
  },
  {
   "cell_type": "code",
   "execution_count": 4,
   "metadata": {},
   "outputs": [],
   "source": [
    "data = b\"\\xf0\\x9f\\xc2\\xdf\\x16\\x1f\\x00\\x0c\\x29\\xfa\\xa3\\x37\\x08\\x00\\x45\\x00\\x00\\x54\\x39\\x03\\x40\\x00\\x40\\x01\\x68\\xd8\\xc0\\xa8\\xc8\\x15\\x08\\x08\\x08\\x08\\x08\\x00\\xda\\xda\\x20\\x62\\x00\\x01\\x52\\xf2\\xa8\\x62\\x00\\x00\\x00\\x00\\x3d\\x9a\\x05\\x00\\x00\\x00\\x00\\x00\\x10\\x11\\x12\\x13\\x14\\x15\\x16\\x17\\x18\\x19\\x1a\\x1b\\x1c\\x1d\\x1e\\x1f\\x20\\x21\\x22\\x23\\x24\\x25\\x26\\x27\\x28\\x29\\x2a\\x2b\\x2c\\x2d\\x2e\\x2f\\x30\\x31\\x32\\x33\\x34\\x35\\x36\\x37\"\n",
    "ef = EthFrame(data=data)"
   ]
  },
  {
   "cell_type": "code",
   "execution_count": 5,
   "metadata": {},
   "outputs": [
    {
     "data": {
      "text/html": [
       "<pre style=\"white-space:pre;overflow-x:auto;line-height:normal;font-family:Menlo,'DejaVu Sans Mono',consolas,'Courier New',monospace\"><span style=\"font-style: italic\">                                      Ethernet Frame                                      </span>\n",
       "┏━━━━━━━━━━━━┳━━━━━━━━━━━━━━━━━━━━━━━━━━━━━━━━━━━━━━━━━━━━━━━━━━━━━━━━━━━━━━━━━━━━━━━━━━━┓\n",
       "┃<span style=\"font-weight: bold\"> Name       </span>┃<span style=\"font-weight: bold\"> Value                                                                     </span>┃\n",
       "┡━━━━━━━━━━━━╇━━━━━━━━━━━━━━━━━━━━━━━━━━━━━━━━━━━━━━━━━━━━━━━━━━━━━━━━━━━━━━━━━━━━━━━━━━━┩\n",
       "│ len(ef)    │ 98                                                                        │\n",
       "│ str(ef)    │ EthFrame(src_mac=00:0c:29:fa:a3:37, dst_mac=f0:9f:c2:df:16:1f, type=IPV4) │\n",
       "│ repr(ef)   │ EthFrame(data=&lt;memory at 0x10b1abf40&gt;)                                    │\n",
       "│ ef.data    │ &lt;memory at 0x10b1abf40&gt;                                                   │\n",
       "│ ef.src_mac │ 00:0c:29:fa:a3:37                                                         │\n",
       "│ ef.dst_mac │ f0:9f:c2:df:16:1f                                                         │\n",
       "│ ef.type    │ IPV4                                                                      │\n",
       "└────────────┴───────────────────────────────────────────────────────────────────────────┘\n",
       "</pre>\n"
      ],
      "text/plain": [
       "\u001b[3m                                      Ethernet Frame                                      \u001b[0m\n",
       "┏━━━━━━━━━━━━┳━━━━━━━━━━━━━━━━━━━━━━━━━━━━━━━━━━━━━━━━━━━━━━━━━━━━━━━━━━━━━━━━━━━━━━━━━━━┓\n",
       "┃\u001b[1m \u001b[0m\u001b[1mName      \u001b[0m\u001b[1m \u001b[0m┃\u001b[1m \u001b[0m\u001b[1mValue                                                                    \u001b[0m\u001b[1m \u001b[0m┃\n",
       "┡━━━━━━━━━━━━╇━━━━━━━━━━━━━━━━━━━━━━━━━━━━━━━━━━━━━━━━━━━━━━━━━━━━━━━━━━━━━━━━━━━━━━━━━━━┩\n",
       "│ len(ef)    │ 98                                                                        │\n",
       "│ str(ef)    │ EthFrame(src_mac=00:0c:29:fa:a3:37, dst_mac=f0:9f:c2:df:16:1f, type=IPV4) │\n",
       "│ repr(ef)   │ EthFrame(data=<memory at 0x10b1abf40>)                                    │\n",
       "│ ef.data    │ <memory at 0x10b1abf40>                                                   │\n",
       "│ ef.src_mac │ 00:0c:29:fa:a3:37                                                         │\n",
       "│ ef.dst_mac │ f0:9f:c2:df:16:1f                                                         │\n",
       "│ ef.type    │ IPV4                                                                      │\n",
       "└────────────┴───────────────────────────────────────────────────────────────────────────┘\n"
      ]
     },
     "metadata": {},
     "output_type": "display_data"
    }
   ],
   "source": [
    "table = Table(title=\"Ethernet Frame\")\n",
    "\n",
    "table.add_column(\"Name\")\n",
    "table.add_column(\"Value\")\n",
    "\n",
    "table.add_row(\"len(ef)\", str(len(ef)))\n",
    "table.add_row(\"str(ef)\", str(ef))\n",
    "table.add_row(\"repr(ef)\", repr(ef))\n",
    "table.add_row(\"ef.data\", str(ef.data))\n",
    "table.add_row(\"ef.src_mac\", str(ef.src_mac))\n",
    "table.add_row(\"ef.dst_mac\", str(ef.dst_mac))\n",
    "table.add_row(\"ef.type\", str(ef.type))\n",
    "\n",
    "console = Console()\n",
    "console.print(table)"
   ]
  }
 ],
 "metadata": {
  "kernelspec": {
   "display_name": ".venv",
   "language": "python",
   "name": "python3"
  },
  "language_info": {
   "codemirror_mode": {
    "name": "ipython",
    "version": 3
   },
   "file_extension": ".py",
   "mimetype": "text/x-python",
   "name": "python",
   "nbconvert_exporter": "python",
   "pygments_lexer": "ipython3",
   "version": "3.11.9"
  }
 },
 "nbformat": 4,
 "nbformat_minor": 2
}
