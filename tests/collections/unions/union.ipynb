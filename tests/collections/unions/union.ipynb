{
 "cells": [
  {
   "cell_type": "code",
   "execution_count": 1,
   "metadata": {},
   "outputs": [],
   "source": [
    "from byteclasses.types.collections import FixedSizeCollection, union\n",
    "from byteclasses.types.primitives.integers import UInt16, UInt32, UInt64, UInt8"
   ]
  },
  {
   "cell_type": "code",
   "execution_count": 2,
   "metadata": {},
   "outputs": [
    {
     "name": "stdout",
     "output_type": "stream",
     "text": [
      "len(tu)=8\n",
      "TestUnion(a=UInt64(32), b=UInt32(32), c=UInt16(32), d=UInt8(32))\n",
      "TestUnion(a=UInt64(1099511627520), b=UInt32(4294967040), c=UInt16(65280), d=UInt8(0))\n",
      "bytearray(b'\\x00\\xff\\xff\\xff\\xff\\x00\\x00\\x00')\n"
     ]
    }
   ],
   "source": [
    "@union(byte_order=\"!\")\n",
    "class TestUnion:\n",
    "    \"\"\"A test union class.\"\"\"\n",
    "\n",
    "    a: UInt64 = UInt64(512)\n",
    "    b: UInt32 = UInt32(128)\n",
    "    c: UInt16 = UInt16(64)\n",
    "    d: UInt8 = UInt8(32)\n",
    "\n",
    "tu: FixedSizeCollection = TestUnion()\n",
    "print(f\"{len(tu)=}\")\n",
    "print(tu)\n",
    "tu.a = 0xFFFFFFFF00\n",
    "\n",
    "print(tu)\n",
    "print(tu.data)"
   ]
  },
  {
   "cell_type": "code",
   "execution_count": null,
   "metadata": {},
   "outputs": [],
   "source": []
  }
 ],
 "metadata": {
  "kernelspec": {
   "display_name": ".venv",
   "language": "python",
   "name": "python3"
  },
  "language_info": {
   "codemirror_mode": {
    "name": "ipython",
    "version": 3
   },
   "file_extension": ".py",
   "mimetype": "text/x-python",
   "name": "python",
   "nbconvert_exporter": "python",
   "pygments_lexer": "ipython3",
   "version": "3.11.9"
  }
 },
 "nbformat": 4,
 "nbformat_minor": 2
}
