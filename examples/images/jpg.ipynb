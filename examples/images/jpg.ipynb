{
 "cells": [
  {
   "cell_type": "markdown",
   "metadata": {},
   "source": [
    "# JPEG Data Handler"
   ]
  },
  {
   "cell_type": "code",
   "execution_count": 1,
   "metadata": {
    "execution": {
     "iopub.execute_input": "2024-04-29T21:12:01.839506Z",
     "iopub.status.busy": "2024-04-29T21:12:01.839309Z",
     "iopub.status.idle": "2024-04-29T21:12:01.861254Z",
     "shell.execute_reply": "2024-04-29T21:12:01.860729Z"
    }
   },
   "outputs": [],
   "source": [
    "from rich import print\n",
    "\n",
    "from byteclasses.handlers.images import JPG"
   ]
  },
  {
   "cell_type": "code",
   "execution_count": 2,
   "metadata": {
    "execution": {
     "iopub.execute_input": "2024-04-29T21:12:01.863535Z",
     "iopub.status.busy": "2024-04-29T21:12:01.863189Z",
     "iopub.status.idle": "2024-04-29T21:12:01.912614Z",
     "shell.execute_reply": "2024-04-29T21:12:01.912003Z"
    }
   },
   "outputs": [
    {
     "data": {
      "text/html": [
       "<pre style=\"white-space:pre;overflow-x:auto;line-height:normal;font-family:Menlo,'DejaVu Sans Mono',consolas,'Courier New',monospace\"><span style=\"font-weight: bold\">&lt;</span><span style=\"color: #ff00ff; text-decoration-color: #ff00ff; font-weight: bold\">JPG:</span><span style=\"color: #800080; text-decoration-color: #800080; font-weight: bold\">Seg</span><span style=\"color: #000000; text-decoration-color: #000000; font-weight: bold\">(</span><span style=\"color: #000000; text-decoration-color: #000000\">SOI</span><span style=\"color: #000000; text-decoration-color: #000000; font-weight: bold\">)</span><span style=\"color: #000000; text-decoration-color: #000000\">|</span><span style=\"color: #800080; text-decoration-color: #800080; font-weight: bold\">Seg</span><span style=\"color: #000000; text-decoration-color: #000000; font-weight: bold\">(</span><span style=\"color: #000000; text-decoration-color: #000000\">APP0</span><span style=\"color: #000000; text-decoration-color: #000000; font-weight: bold\">)</span><span style=\"color: #000000; text-decoration-color: #000000\">|</span><span style=\"color: #800080; text-decoration-color: #800080; font-weight: bold\">Seg</span><span style=\"color: #000000; text-decoration-color: #000000; font-weight: bold\">(</span><span style=\"color: #000000; text-decoration-color: #000000\">APP1</span><span style=\"color: #000000; text-decoration-color: #000000; font-weight: bold\">)</span><span style=\"color: #000000; text-decoration-color: #000000\">|</span><span style=\"color: #800080; text-decoration-color: #800080; font-weight: bold\">Seg</span><span style=\"color: #000000; text-decoration-color: #000000; font-weight: bold\">(</span><span style=\"color: #000000; text-decoration-color: #000000\">APP1</span><span style=\"color: #000000; text-decoration-color: #000000; font-weight: bold\">)</span><span style=\"color: #000000; text-decoration-color: #000000\">|</span><span style=\"color: #800080; text-decoration-color: #800080; font-weight: bold\">Seg</span><span style=\"color: #000000; text-decoration-color: #000000; font-weight: bold\">(</span><span style=\"color: #000000; text-decoration-color: #000000\">DQT</span><span style=\"color: #000000; text-decoration-color: #000000; font-weight: bold\">)</span><span style=\"color: #000000; text-decoration-color: #000000\">|</span><span style=\"color: #800080; text-decoration-color: #800080; font-weight: bold\">Seg</span><span style=\"color: #000000; text-decoration-color: #000000; font-weight: bold\">(</span><span style=\"color: #000000; text-decoration-color: #000000\">DQT</span><span style=\"color: #000000; text-decoration-color: #000000; font-weight: bold\">)</span><span style=\"color: #000000; text-decoration-color: #000000\">|</span><span style=\"color: #800080; text-decoration-color: #800080; font-weight: bold\">Seg</span><span style=\"color: #000000; text-decoration-color: #000000; font-weight: bold\">(</span><span style=\"color: #000000; text-decoration-color: #000000\">SOF2</span><span style=\"color: #000000; text-decoration-color: #000000; font-weight: bold\">)</span><span style=\"color: #000000; text-decoration-color: #000000\">|</span><span style=\"color: #800080; text-decoration-color: #800080; font-weight: bold\">Seg</span><span style=\"color: #000000; text-decoration-color: #000000; font-weight: bold\">(</span><span style=\"color: #000000; text-decoration-color: #000000\">DHT</span><span style=\"color: #000000; text-decoration-color: #000000; font-weight: bold\">)</span><span style=\"color: #000000; text-decoration-color: #000000\">|</span><span style=\"color: #800080; text-decoration-color: #800080; font-weight: bold\">Seg</span><span style=\"color: #000000; text-decoration-color: #000000; font-weight: bold\">(</span><span style=\"color: #000000; text-decoration-color: #000000\">DHT</span><span style=\"color: #000000; text-decoration-color: #000000; font-weight: bold\">)</span><span style=\"color: #000000; text-decoration-color: #000000\">|</span><span style=\"color: #800080; text-decoration-color: #800080; font-weight: bold\">Seg</span><span style=\"color: #000000; text-decoration-color: #000000; font-weight: bold\">(</span><span style=\"color: #000000; text-decoration-color: #000000\">SOS</span><span style=\"color: #000000; text-decoration-color: #000000; font-weight: bold\">)</span><span style=\"color: #000000; text-decoration-color: #000000\">|</span><span style=\"color: #800080; text-decoration-color: #800080; font-weight: bold\">Seg</span><span style=\"color: #000000; text-decoration-color: #000000; font-weight: bold\">(</span><span style=\"color: #000000; text-decoration-color: #000000\">DHT</span><span style=\"color: #000000; text-decoration-color: #000000; font-weight: bold\">)</span><span style=\"color: #000000; text-decoration-color: #000000\">|</span><span style=\"color: #800080; text-decoration-color: #800080; font-weight: bold\">Seg</span><span style=\"color: #000000; text-decoration-color: #000000; font-weight: bold\">(</span><span style=\"color: #000000; text-decoration-color: #000000\">SOS</span>\n",
       "<span style=\"color: #000000; text-decoration-color: #000000; font-weight: bold\">)</span><span style=\"color: #000000; text-decoration-color: #000000\">|</span><span style=\"color: #800080; text-decoration-color: #800080; font-weight: bold\">Seg</span><span style=\"color: #000000; text-decoration-color: #000000; font-weight: bold\">(</span><span style=\"color: #000000; text-decoration-color: #000000\">DHT</span><span style=\"color: #000000; text-decoration-color: #000000; font-weight: bold\">)</span><span style=\"color: #000000; text-decoration-color: #000000\">|</span><span style=\"color: #800080; text-decoration-color: #800080; font-weight: bold\">Seg</span><span style=\"color: #000000; text-decoration-color: #000000; font-weight: bold\">(</span><span style=\"color: #000000; text-decoration-color: #000000\">SOS</span><span style=\"color: #000000; text-decoration-color: #000000; font-weight: bold\">)</span><span style=\"color: #000000; text-decoration-color: #000000\">|</span><span style=\"color: #800080; text-decoration-color: #800080; font-weight: bold\">Seg</span><span style=\"color: #000000; text-decoration-color: #000000; font-weight: bold\">(</span><span style=\"color: #000000; text-decoration-color: #000000\">DHT</span><span style=\"color: #000000; text-decoration-color: #000000; font-weight: bold\">)</span><span style=\"color: #000000; text-decoration-color: #000000\">|</span><span style=\"color: #800080; text-decoration-color: #800080; font-weight: bold\">Seg</span><span style=\"color: #000000; text-decoration-color: #000000; font-weight: bold\">(</span><span style=\"color: #000000; text-decoration-color: #000000\">SOS</span><span style=\"color: #000000; text-decoration-color: #000000; font-weight: bold\">)</span><span style=\"color: #000000; text-decoration-color: #000000\">|</span><span style=\"color: #800080; text-decoration-color: #800080; font-weight: bold\">Seg</span><span style=\"color: #000000; text-decoration-color: #000000; font-weight: bold\">(</span><span style=\"color: #000000; text-decoration-color: #000000\">DHT</span><span style=\"color: #000000; text-decoration-color: #000000; font-weight: bold\">)</span><span style=\"color: #000000; text-decoration-color: #000000\">|</span><span style=\"color: #800080; text-decoration-color: #800080; font-weight: bold\">Seg</span><span style=\"color: #000000; text-decoration-color: #000000; font-weight: bold\">(</span><span style=\"color: #000000; text-decoration-color: #000000\">SOS</span><span style=\"color: #000000; text-decoration-color: #000000; font-weight: bold\">)</span><span style=\"color: #000000; text-decoration-color: #000000\">|</span><span style=\"color: #800080; text-decoration-color: #800080; font-weight: bold\">Seg</span><span style=\"color: #000000; text-decoration-color: #000000; font-weight: bold\">(</span><span style=\"color: #000000; text-decoration-color: #000000\">DHT</span><span style=\"color: #000000; text-decoration-color: #000000; font-weight: bold\">)</span><span style=\"color: #000000; text-decoration-color: #000000\">|</span><span style=\"color: #800080; text-decoration-color: #800080; font-weight: bold\">Seg</span><span style=\"color: #000000; text-decoration-color: #000000; font-weight: bold\">(</span><span style=\"color: #000000; text-decoration-color: #000000\">SOS</span><span style=\"color: #000000; text-decoration-color: #000000; font-weight: bold\">)</span><span style=\"color: #000000; text-decoration-color: #000000\">|</span><span style=\"color: #800080; text-decoration-color: #800080; font-weight: bold\">Seg</span><span style=\"color: #000000; text-decoration-color: #000000; font-weight: bold\">(</span><span style=\"color: #000000; text-decoration-color: #000000\">SOS</span><span style=\"color: #000000; text-decoration-color: #000000; font-weight: bold\">)</span><span style=\"color: #000000; text-decoration-color: #000000\">|</span><span style=\"color: #800080; text-decoration-color: #800080; font-weight: bold\">Seg</span><span style=\"color: #000000; text-decoration-color: #000000; font-weight: bold\">(</span><span style=\"color: #000000; text-decoration-color: #000000\">DHT</span><span style=\"color: #000000; text-decoration-color: #000000; font-weight: bold\">)</span><span style=\"color: #000000; text-decoration-color: #000000\">|</span><span style=\"color: #800080; text-decoration-color: #800080; font-weight: bold\">Seg</span><span style=\"color: #000000; text-decoration-color: #000000; font-weight: bold\">(</span><span style=\"color: #000000; text-decoration-color: #000000\">SOS</span><span style=\"color: #000000; text-decoration-color: #000000; font-weight: bold\">)</span><span style=\"color: #000000; text-decoration-color: #000000\">|</span><span style=\"color: #800080; text-decoration-color: #800080; font-weight: bold\">Seg</span><span style=\"color: #000000; text-decoration-color: #000000; font-weight: bold\">(</span><span style=\"color: #000000; text-decoration-color: #000000\">DHT</span><span style=\"color: #000000; text-decoration-color: #000000; font-weight: bold\">)</span><span style=\"color: #000000; text-decoration-color: #000000\">|</span><span style=\"color: #800080; text-decoration-color: #800080; font-weight: bold\">Seg</span><span style=\"color: #000000; text-decoration-color: #000000; font-weight: bold\">(</span><span style=\"color: #000000; text-decoration-color: #000000\">S</span>\n",
       "<span style=\"color: #000000; text-decoration-color: #000000\">OS</span><span style=\"color: #000000; text-decoration-color: #000000; font-weight: bold\">)</span><span style=\"color: #000000; text-decoration-color: #000000\">|</span><span style=\"color: #800080; text-decoration-color: #800080; font-weight: bold\">Seg</span><span style=\"color: #000000; text-decoration-color: #000000; font-weight: bold\">(</span><span style=\"color: #000000; text-decoration-color: #000000\">DHT</span><span style=\"color: #000000; text-decoration-color: #000000; font-weight: bold\">)</span><span style=\"color: #000000; text-decoration-color: #000000\">|</span><span style=\"color: #800080; text-decoration-color: #800080; font-weight: bold\">Seg</span><span style=\"color: #000000; text-decoration-color: #000000; font-weight: bold\">(</span><span style=\"color: #000000; text-decoration-color: #000000\">SOS</span><span style=\"color: #000000; text-decoration-color: #000000; font-weight: bold\">)</span><span style=\"color: #000000; text-decoration-color: #000000\">|</span><span style=\"color: #800080; text-decoration-color: #800080; font-weight: bold\">Seg</span><span style=\"color: #000000; text-decoration-color: #000000; font-weight: bold\">(</span><span style=\"color: #000000; text-decoration-color: #000000\">EOI</span><span style=\"color: #000000; text-decoration-color: #000000; font-weight: bold\">)</span><span style=\"font-weight: bold\">&gt;</span>\n",
       "</pre>\n"
      ],
      "text/plain": [
       "\u001b[1m<\u001b[0m\u001b[1;95mJPG:\u001b[0m\u001b[1;35mSeg\u001b[0m\u001b[1;39m(\u001b[0m\u001b[39mSOI\u001b[0m\u001b[1;39m)\u001b[0m\u001b[39m|\u001b[0m\u001b[1;35mSeg\u001b[0m\u001b[1;39m(\u001b[0m\u001b[39mAPP0\u001b[0m\u001b[1;39m)\u001b[0m\u001b[39m|\u001b[0m\u001b[1;35mSeg\u001b[0m\u001b[1;39m(\u001b[0m\u001b[39mAPP1\u001b[0m\u001b[1;39m)\u001b[0m\u001b[39m|\u001b[0m\u001b[1;35mSeg\u001b[0m\u001b[1;39m(\u001b[0m\u001b[39mAPP1\u001b[0m\u001b[1;39m)\u001b[0m\u001b[39m|\u001b[0m\u001b[1;35mSeg\u001b[0m\u001b[1;39m(\u001b[0m\u001b[39mDQT\u001b[0m\u001b[1;39m)\u001b[0m\u001b[39m|\u001b[0m\u001b[1;35mSeg\u001b[0m\u001b[1;39m(\u001b[0m\u001b[39mDQT\u001b[0m\u001b[1;39m)\u001b[0m\u001b[39m|\u001b[0m\u001b[1;35mSeg\u001b[0m\u001b[1;39m(\u001b[0m\u001b[39mSOF2\u001b[0m\u001b[1;39m)\u001b[0m\u001b[39m|\u001b[0m\u001b[1;35mSeg\u001b[0m\u001b[1;39m(\u001b[0m\u001b[39mDHT\u001b[0m\u001b[1;39m)\u001b[0m\u001b[39m|\u001b[0m\u001b[1;35mSeg\u001b[0m\u001b[1;39m(\u001b[0m\u001b[39mDHT\u001b[0m\u001b[1;39m)\u001b[0m\u001b[39m|\u001b[0m\u001b[1;35mSeg\u001b[0m\u001b[1;39m(\u001b[0m\u001b[39mSOS\u001b[0m\u001b[1;39m)\u001b[0m\u001b[39m|\u001b[0m\u001b[1;35mSeg\u001b[0m\u001b[1;39m(\u001b[0m\u001b[39mDHT\u001b[0m\u001b[1;39m)\u001b[0m\u001b[39m|\u001b[0m\u001b[1;35mSeg\u001b[0m\u001b[1;39m(\u001b[0m\u001b[39mSOS\u001b[0m\n",
       "\u001b[1;39m)\u001b[0m\u001b[39m|\u001b[0m\u001b[1;35mSeg\u001b[0m\u001b[1;39m(\u001b[0m\u001b[39mDHT\u001b[0m\u001b[1;39m)\u001b[0m\u001b[39m|\u001b[0m\u001b[1;35mSeg\u001b[0m\u001b[1;39m(\u001b[0m\u001b[39mSOS\u001b[0m\u001b[1;39m)\u001b[0m\u001b[39m|\u001b[0m\u001b[1;35mSeg\u001b[0m\u001b[1;39m(\u001b[0m\u001b[39mDHT\u001b[0m\u001b[1;39m)\u001b[0m\u001b[39m|\u001b[0m\u001b[1;35mSeg\u001b[0m\u001b[1;39m(\u001b[0m\u001b[39mSOS\u001b[0m\u001b[1;39m)\u001b[0m\u001b[39m|\u001b[0m\u001b[1;35mSeg\u001b[0m\u001b[1;39m(\u001b[0m\u001b[39mDHT\u001b[0m\u001b[1;39m)\u001b[0m\u001b[39m|\u001b[0m\u001b[1;35mSeg\u001b[0m\u001b[1;39m(\u001b[0m\u001b[39mSOS\u001b[0m\u001b[1;39m)\u001b[0m\u001b[39m|\u001b[0m\u001b[1;35mSeg\u001b[0m\u001b[1;39m(\u001b[0m\u001b[39mDHT\u001b[0m\u001b[1;39m)\u001b[0m\u001b[39m|\u001b[0m\u001b[1;35mSeg\u001b[0m\u001b[1;39m(\u001b[0m\u001b[39mSOS\u001b[0m\u001b[1;39m)\u001b[0m\u001b[39m|\u001b[0m\u001b[1;35mSeg\u001b[0m\u001b[1;39m(\u001b[0m\u001b[39mSOS\u001b[0m\u001b[1;39m)\u001b[0m\u001b[39m|\u001b[0m\u001b[1;35mSeg\u001b[0m\u001b[1;39m(\u001b[0m\u001b[39mDHT\u001b[0m\u001b[1;39m)\u001b[0m\u001b[39m|\u001b[0m\u001b[1;35mSeg\u001b[0m\u001b[1;39m(\u001b[0m\u001b[39mSOS\u001b[0m\u001b[1;39m)\u001b[0m\u001b[39m|\u001b[0m\u001b[1;35mSeg\u001b[0m\u001b[1;39m(\u001b[0m\u001b[39mDHT\u001b[0m\u001b[1;39m)\u001b[0m\u001b[39m|\u001b[0m\u001b[1;35mSeg\u001b[0m\u001b[1;39m(\u001b[0m\u001b[39mS\u001b[0m\n",
       "\u001b[39mOS\u001b[0m\u001b[1;39m)\u001b[0m\u001b[39m|\u001b[0m\u001b[1;35mSeg\u001b[0m\u001b[1;39m(\u001b[0m\u001b[39mDHT\u001b[0m\u001b[1;39m)\u001b[0m\u001b[39m|\u001b[0m\u001b[1;35mSeg\u001b[0m\u001b[1;39m(\u001b[0m\u001b[39mSOS\u001b[0m\u001b[1;39m)\u001b[0m\u001b[39m|\u001b[0m\u001b[1;35mSeg\u001b[0m\u001b[1;39m(\u001b[0m\u001b[39mEOI\u001b[0m\u001b[1;39m)\u001b[0m\u001b[1m>\u001b[0m\n"
      ]
     },
     "metadata": {},
     "output_type": "display_data"
    }
   ],
   "source": [
    "with open(\"../../../tests/data/sample.jpg\", \"rb\") as file:\n",
    "    img_data = file.read()\n",
    "jpg = JPG(img_data)\n",
    "print(jpg)"
   ]
  },
  {
   "cell_type": "code",
   "execution_count": 3,
   "metadata": {
    "execution": {
     "iopub.execute_input": "2024-04-29T21:12:01.914875Z",
     "iopub.status.busy": "2024-04-29T21:12:01.914522Z",
     "iopub.status.idle": "2024-04-29T21:12:01.918806Z",
     "shell.execute_reply": "2024-04-29T21:12:01.918194Z"
    }
   },
   "outputs": [
    {
     "data": {
      "text/html": [
       "<pre style=\"white-space:pre;overflow-x:auto;line-height:normal;font-family:Menlo,'DejaVu Sans Mono',consolas,'Courier New',monospace\"><span style=\"color: #800080; text-decoration-color: #800080; font-weight: bold\">JPG</span><span style=\"font-weight: bold\">(</span><span style=\"color: #808000; text-decoration-color: #808000\">data</span>=<span style=\"font-weight: bold\">&lt;</span><span style=\"color: #ff00ff; text-decoration-color: #ff00ff; font-weight: bold\">memory</span><span style=\"color: #000000; text-decoration-color: #000000\"> at </span><span style=\"color: #008080; text-decoration-color: #008080; font-weight: bold\">0x7fabc4edaec0</span><span style=\"font-weight: bold\">&gt;)</span>\n",
       "</pre>\n"
      ],
      "text/plain": [
       "\u001b[1;35mJPG\u001b[0m\u001b[1m(\u001b[0m\u001b[33mdata\u001b[0m=\u001b[1m<\u001b[0m\u001b[1;95mmemory\u001b[0m\u001b[39m at \u001b[0m\u001b[1;36m0x7fabc4edaec0\u001b[0m\u001b[1m>\u001b[0m\u001b[1m)\u001b[0m\n"
      ]
     },
     "metadata": {},
     "output_type": "display_data"
    }
   ],
   "source": [
    "print(repr(jpg))"
   ]
  },
  {
   "cell_type": "code",
   "execution_count": 4,
   "metadata": {
    "execution": {
     "iopub.execute_input": "2024-04-29T21:12:01.921125Z",
     "iopub.status.busy": "2024-04-29T21:12:01.920784Z",
     "iopub.status.idle": "2024-04-29T21:12:01.968634Z",
     "shell.execute_reply": "2024-04-29T21:12:01.968034Z"
    }
   },
   "outputs": [
    {
     "data": {
      "text/html": [
       "<pre style=\"white-space:pre;overflow-x:auto;line-height:normal;font-family:Menlo,'DejaVu Sans Mono',consolas,'Courier New',monospace\"><span style=\"font-weight: bold\">&lt;</span><span style=\"color: #800080; text-decoration-color: #800080; font-weight: bold\">Seg</span><span style=\"color: #000000; text-decoration-color: #000000; font-weight: bold\">(</span><span style=\"color: #000000; text-decoration-color: #000000\">SOI</span><span style=\"color: #000000; text-decoration-color: #000000; font-weight: bold\">)</span><span style=\"color: #000000; text-decoration-color: #000000\">: </span><span style=\"font-weight: bold\">&gt;</span>\n",
       "</pre>\n"
      ],
      "text/plain": [
       "\u001b[1m<\u001b[0m\u001b[1;35mSeg\u001b[0m\u001b[1;39m(\u001b[0m\u001b[39mSOI\u001b[0m\u001b[1;39m)\u001b[0m\u001b[39m: \u001b[0m\u001b[1m>\u001b[0m\n"
      ]
     },
     "metadata": {},
     "output_type": "display_data"
    },
    {
     "data": {
      "text/html": [
       "<pre style=\"white-space:pre;overflow-x:auto;line-height:normal;font-family:Menlo,'DejaVu Sans Mono',consolas,'Courier New',monospace\"><span style=\"font-weight: bold\">&lt;</span><span style=\"color: #800080; text-decoration-color: #800080; font-weight: bold\">Seg</span><span style=\"color: #000000; text-decoration-color: #000000; font-weight: bold\">(</span><span style=\"color: #000000; text-decoration-color: #000000\">APP0</span><span style=\"color: #000000; text-decoration-color: #000000; font-weight: bold\">)</span><span style=\"color: #000000; text-decoration-color: #000000\">: </span><span style=\"color: #808000; text-decoration-color: #808000\">length</span><span style=\"color: #000000; text-decoration-color: #000000\">=</span><span style=\"color: #800080; text-decoration-color: #800080; font-weight: bold\">UInt16</span><span style=\"color: #000000; text-decoration-color: #000000; font-weight: bold\">(</span><span style=\"color: #008080; text-decoration-color: #008080; font-weight: bold\">16</span><span style=\"color: #000000; text-decoration-color: #000000; font-weight: bold\">)</span><span style=\"color: #000000; text-decoration-color: #000000\">, </span><span style=\"color: #808000; text-decoration-color: #808000\">payload</span><span style=\"color: #000000; text-decoration-color: #000000\">=&lt;memory at </span><span style=\"color: #008080; text-decoration-color: #008080; font-weight: bold\">0x7fabc4edb340</span><span style=\"color: #000000; text-decoration-color: #000000\">&gt;, </span>\n",
       "<span style=\"color: #808000; text-decoration-color: #808000\">hdr</span><span style=\"color: #000000; text-decoration-color: #000000\">=</span><span style=\"color: #800080; text-decoration-color: #800080; font-weight: bold\">App0Jfif</span><span style=\"color: #000000; text-decoration-color: #000000; font-weight: bold\">(</span><span style=\"color: #808000; text-decoration-color: #808000\">byte_order</span><span style=\"color: #000000; text-decoration-color: #000000\">=</span><span style=\"color: #008000; text-decoration-color: #008000\">b'&gt;'</span><span style=\"color: #000000; text-decoration-color: #000000\">,</span><span style=\"color: #808000; text-decoration-color: #808000\">data</span><span style=\"color: #000000; text-decoration-color: #000000\">=</span><span style=\"color: #800080; text-decoration-color: #800080; font-weight: bold\">bytearray</span><span style=\"color: #000000; text-decoration-color: #000000; font-weight: bold\">(</span><span style=\"color: #008000; text-decoration-color: #008000\">b'JFIF\\x00\\x01\\x01\\x01\\x01^\\x01^\\x00\\x00'</span><span style=\"color: #000000; text-decoration-color: #000000; font-weight: bold\">))</span><span style=\"font-weight: bold\">&gt;</span>\n",
       "</pre>\n"
      ],
      "text/plain": [
       "\u001b[1m<\u001b[0m\u001b[1;35mSeg\u001b[0m\u001b[1;39m(\u001b[0m\u001b[39mAPP0\u001b[0m\u001b[1;39m)\u001b[0m\u001b[39m: \u001b[0m\u001b[33mlength\u001b[0m\u001b[39m=\u001b[0m\u001b[1;35mUInt16\u001b[0m\u001b[1;39m(\u001b[0m\u001b[1;36m16\u001b[0m\u001b[1;39m)\u001b[0m\u001b[39m, \u001b[0m\u001b[33mpayload\u001b[0m\u001b[39m=<memory at \u001b[0m\u001b[1;36m0x7fabc4edb340\u001b[0m\u001b[39m>, \u001b[0m\n",
       "\u001b[33mhdr\u001b[0m\u001b[39m=\u001b[0m\u001b[1;35mApp0Jfif\u001b[0m\u001b[1;39m(\u001b[0m\u001b[33mbyte_order\u001b[0m\u001b[39m=\u001b[0m\u001b[32mb\u001b[0m\u001b[32m'>'\u001b[0m\u001b[39m,\u001b[0m\u001b[33mdata\u001b[0m\u001b[39m=\u001b[0m\u001b[1;35mbytearray\u001b[0m\u001b[1;39m(\u001b[0m\u001b[32mb'JFIF\\x00\\x01\\x01\\x01\\x01^\\x01^\\x00\\x00'\u001b[0m\u001b[1;39m)\u001b[0m\u001b[1;39m)\u001b[0m\u001b[1m>\u001b[0m\n"
      ]
     },
     "metadata": {},
     "output_type": "display_data"
    },
    {
     "data": {
      "text/html": [
       "<pre style=\"white-space:pre;overflow-x:auto;line-height:normal;font-family:Menlo,'DejaVu Sans Mono',consolas,'Courier New',monospace\"><span style=\"font-weight: bold\">&lt;</span><span style=\"color: #800080; text-decoration-color: #800080; font-weight: bold\">Seg</span><span style=\"color: #000000; text-decoration-color: #000000; font-weight: bold\">(</span><span style=\"color: #000000; text-decoration-color: #000000\">APP1</span><span style=\"color: #000000; text-decoration-color: #000000; font-weight: bold\">)</span><span style=\"color: #000000; text-decoration-color: #000000\">: </span><span style=\"color: #808000; text-decoration-color: #808000\">length</span><span style=\"color: #000000; text-decoration-color: #000000\">=</span><span style=\"color: #800080; text-decoration-color: #800080; font-weight: bold\">UInt16</span><span style=\"color: #000000; text-decoration-color: #000000; font-weight: bold\">(</span><span style=\"color: #008080; text-decoration-color: #008080; font-weight: bold\">35131</span><span style=\"color: #000000; text-decoration-color: #000000; font-weight: bold\">)</span><span style=\"color: #000000; text-decoration-color: #000000\">, </span><span style=\"color: #808000; text-decoration-color: #808000\">payload</span><span style=\"color: #000000; text-decoration-color: #000000\">=&lt;memory at </span><span style=\"color: #008080; text-decoration-color: #008080; font-weight: bold\">0x7fabc4edb4c0</span><span style=\"color: #000000; text-decoration-color: #000000\">&gt;, </span><span style=\"color: #808000; text-decoration-color: #808000\">hdr</span><span style=\"color: #000000; text-decoration-color: #000000\">=</span><span style=\"color: #000000; text-decoration-color: #000000; font-weight: bold\">{</span><span style=\"color: #008000; text-decoration-color: #008000\">'identifier'</span><span style=\"color: #000000; text-decoration-color: #000000\">: </span><span style=\"color: #800080; text-decoration-color: #800080; font-weight: bold\">String</span><span style=\"color: #000000; text-decoration-color: #000000; font-weight: bold\">(</span><span style=\"color: #008080; text-decoration-color: #008080; font-weight: bold\">5</span><span style=\"color: #000000; text-decoration-color: #000000\">, </span><span style=\"color: #808000; text-decoration-color: #808000\">value</span><span style=\"color: #000000; text-decoration-color: #000000\">=</span><span style=\"color: #008000; text-decoration-color: #008000\">'Exif'</span><span style=\"color: #000000; text-decoration-color: #000000; font-weight: bold\">)}</span><span style=\"font-weight: bold\">&gt;</span>\n",
       "</pre>\n"
      ],
      "text/plain": [
       "\u001b[1m<\u001b[0m\u001b[1;35mSeg\u001b[0m\u001b[1;39m(\u001b[0m\u001b[39mAPP1\u001b[0m\u001b[1;39m)\u001b[0m\u001b[39m: \u001b[0m\u001b[33mlength\u001b[0m\u001b[39m=\u001b[0m\u001b[1;35mUInt16\u001b[0m\u001b[1;39m(\u001b[0m\u001b[1;36m35131\u001b[0m\u001b[1;39m)\u001b[0m\u001b[39m, \u001b[0m\u001b[33mpayload\u001b[0m\u001b[39m=<memory at \u001b[0m\u001b[1;36m0x7fabc4edb4c0\u001b[0m\u001b[39m>, \u001b[0m\u001b[33mhdr\u001b[0m\u001b[39m=\u001b[0m\u001b[1;39m{\u001b[0m\u001b[32m'identifier'\u001b[0m\u001b[39m: \u001b[0m\u001b[1;35mString\u001b[0m\u001b[1;39m(\u001b[0m\u001b[1;36m5\u001b[0m\u001b[39m, \u001b[0m\u001b[33mvalue\u001b[0m\u001b[39m=\u001b[0m\u001b[32m'Exif'\u001b[0m\u001b[1;39m)\u001b[0m\u001b[1;39m}\u001b[0m\u001b[1m>\u001b[0m\n"
      ]
     },
     "metadata": {},
     "output_type": "display_data"
    },
    {
     "data": {
      "text/html": [
       "<pre style=\"white-space:pre;overflow-x:auto;line-height:normal;font-family:Menlo,'DejaVu Sans Mono',consolas,'Courier New',monospace\"><span style=\"font-weight: bold\">&lt;</span><span style=\"color: #800080; text-decoration-color: #800080; font-weight: bold\">Seg</span><span style=\"color: #000000; text-decoration-color: #000000; font-weight: bold\">(</span><span style=\"color: #000000; text-decoration-color: #000000\">APP1</span><span style=\"color: #000000; text-decoration-color: #000000; font-weight: bold\">)</span><span style=\"color: #000000; text-decoration-color: #000000\">: </span><span style=\"color: #808000; text-decoration-color: #808000\">length</span><span style=\"color: #000000; text-decoration-color: #000000\">=</span><span style=\"color: #800080; text-decoration-color: #800080; font-weight: bold\">UInt16</span><span style=\"color: #000000; text-decoration-color: #000000; font-weight: bold\">(</span><span style=\"color: #008080; text-decoration-color: #008080; font-weight: bold\">3385</span><span style=\"color: #000000; text-decoration-color: #000000; font-weight: bold\">)</span><span style=\"color: #000000; text-decoration-color: #000000\">, </span><span style=\"color: #808000; text-decoration-color: #808000\">payload</span><span style=\"color: #000000; text-decoration-color: #000000\">=&lt;memory at </span><span style=\"color: #008080; text-decoration-color: #008080; font-weight: bold\">0x7fabc4cec700</span><span style=\"color: #000000; text-decoration-color: #000000\">&gt;, </span><span style=\"color: #808000; text-decoration-color: #808000\">hdr</span><span style=\"color: #000000; text-decoration-color: #000000\">=</span><span style=\"color: #000000; text-decoration-color: #000000; font-weight: bold\">{</span><span style=\"color: #008000; text-decoration-color: #008000\">'identifier'</span><span style=\"color: #000000; text-decoration-color: #000000\">: </span><span style=\"color: #800080; text-decoration-color: #800080; font-weight: bold\">String</span><span style=\"color: #000000; text-decoration-color: #000000; font-weight: bold\">(</span><span style=\"color: #008080; text-decoration-color: #008080; font-weight: bold\">29</span><span style=\"color: #000000; text-decoration-color: #000000\">, </span>\n",
       "<span style=\"color: #808000; text-decoration-color: #808000\">value</span><span style=\"color: #000000; text-decoration-color: #000000\">=</span><span style=\"color: #008000; text-decoration-color: #008000\">'http://ns.adobe.com/xap/1.0/'</span><span style=\"color: #000000; text-decoration-color: #000000; font-weight: bold\">)}</span><span style=\"font-weight: bold\">&gt;</span>\n",
       "</pre>\n"
      ],
      "text/plain": [
       "\u001b[1m<\u001b[0m\u001b[1;35mSeg\u001b[0m\u001b[1;39m(\u001b[0m\u001b[39mAPP1\u001b[0m\u001b[1;39m)\u001b[0m\u001b[39m: \u001b[0m\u001b[33mlength\u001b[0m\u001b[39m=\u001b[0m\u001b[1;35mUInt16\u001b[0m\u001b[1;39m(\u001b[0m\u001b[1;36m3385\u001b[0m\u001b[1;39m)\u001b[0m\u001b[39m, \u001b[0m\u001b[33mpayload\u001b[0m\u001b[39m=<memory at \u001b[0m\u001b[1;36m0x7fabc4cec700\u001b[0m\u001b[39m>, \u001b[0m\u001b[33mhdr\u001b[0m\u001b[39m=\u001b[0m\u001b[1;39m{\u001b[0m\u001b[32m'identifier'\u001b[0m\u001b[39m: \u001b[0m\u001b[1;35mString\u001b[0m\u001b[1;39m(\u001b[0m\u001b[1;36m29\u001b[0m\u001b[39m, \u001b[0m\n",
       "\u001b[33mvalue\u001b[0m\u001b[39m=\u001b[0m\u001b[32m'http://ns.adobe.com/xap/1.0/'\u001b[0m\u001b[1;39m)\u001b[0m\u001b[1;39m}\u001b[0m\u001b[1m>\u001b[0m\n"
      ]
     },
     "metadata": {},
     "output_type": "display_data"
    },
    {
     "data": {
      "text/html": [
       "<pre style=\"white-space:pre;overflow-x:auto;line-height:normal;font-family:Menlo,'DejaVu Sans Mono',consolas,'Courier New',monospace\"><span style=\"font-weight: bold\">&lt;</span><span style=\"color: #800080; text-decoration-color: #800080; font-weight: bold\">Seg</span><span style=\"color: #000000; text-decoration-color: #000000; font-weight: bold\">(</span><span style=\"color: #000000; text-decoration-color: #000000\">DQT</span><span style=\"color: #000000; text-decoration-color: #000000; font-weight: bold\">)</span><span style=\"color: #000000; text-decoration-color: #000000\">: </span><span style=\"color: #808000; text-decoration-color: #808000\">length</span><span style=\"color: #000000; text-decoration-color: #000000\">=</span><span style=\"color: #800080; text-decoration-color: #800080; font-weight: bold\">UInt16</span><span style=\"color: #000000; text-decoration-color: #000000; font-weight: bold\">(</span><span style=\"color: #008080; text-decoration-color: #008080; font-weight: bold\">67</span><span style=\"color: #000000; text-decoration-color: #000000; font-weight: bold\">)</span><span style=\"color: #000000; text-decoration-color: #000000\">, </span><span style=\"color: #808000; text-decoration-color: #808000\">payload</span><span style=\"color: #000000; text-decoration-color: #000000\">=&lt;memory at </span><span style=\"color: #008080; text-decoration-color: #008080; font-weight: bold\">0x7fabc4cedfc0</span><span style=\"color: #000000; text-decoration-color: #000000\">&gt;</span><span style=\"font-weight: bold\">&gt;</span>\n",
       "</pre>\n"
      ],
      "text/plain": [
       "\u001b[1m<\u001b[0m\u001b[1;35mSeg\u001b[0m\u001b[1;39m(\u001b[0m\u001b[39mDQT\u001b[0m\u001b[1;39m)\u001b[0m\u001b[39m: \u001b[0m\u001b[33mlength\u001b[0m\u001b[39m=\u001b[0m\u001b[1;35mUInt16\u001b[0m\u001b[1;39m(\u001b[0m\u001b[1;36m67\u001b[0m\u001b[1;39m)\u001b[0m\u001b[39m, \u001b[0m\u001b[33mpayload\u001b[0m\u001b[39m=<memory at \u001b[0m\u001b[1;36m0x7fabc4cedfc0\u001b[0m\u001b[39m>\u001b[0m\u001b[1m>\u001b[0m\n"
      ]
     },
     "metadata": {},
     "output_type": "display_data"
    },
    {
     "data": {
      "text/html": [
       "<pre style=\"white-space:pre;overflow-x:auto;line-height:normal;font-family:Menlo,'DejaVu Sans Mono',consolas,'Courier New',monospace\"><span style=\"font-weight: bold\">&lt;</span><span style=\"color: #800080; text-decoration-color: #800080; font-weight: bold\">Seg</span><span style=\"color: #000000; text-decoration-color: #000000; font-weight: bold\">(</span><span style=\"color: #000000; text-decoration-color: #000000\">DQT</span><span style=\"color: #000000; text-decoration-color: #000000; font-weight: bold\">)</span><span style=\"color: #000000; text-decoration-color: #000000\">: </span><span style=\"color: #808000; text-decoration-color: #808000\">length</span><span style=\"color: #000000; text-decoration-color: #000000\">=</span><span style=\"color: #800080; text-decoration-color: #800080; font-weight: bold\">UInt16</span><span style=\"color: #000000; text-decoration-color: #000000; font-weight: bold\">(</span><span style=\"color: #008080; text-decoration-color: #008080; font-weight: bold\">67</span><span style=\"color: #000000; text-decoration-color: #000000; font-weight: bold\">)</span><span style=\"color: #000000; text-decoration-color: #000000\">, </span><span style=\"color: #808000; text-decoration-color: #808000\">payload</span><span style=\"color: #000000; text-decoration-color: #000000\">=&lt;memory at </span><span style=\"color: #008080; text-decoration-color: #008080; font-weight: bold\">0x7fabc4cee200</span><span style=\"color: #000000; text-decoration-color: #000000\">&gt;</span><span style=\"font-weight: bold\">&gt;</span>\n",
       "</pre>\n"
      ],
      "text/plain": [
       "\u001b[1m<\u001b[0m\u001b[1;35mSeg\u001b[0m\u001b[1;39m(\u001b[0m\u001b[39mDQT\u001b[0m\u001b[1;39m)\u001b[0m\u001b[39m: \u001b[0m\u001b[33mlength\u001b[0m\u001b[39m=\u001b[0m\u001b[1;35mUInt16\u001b[0m\u001b[1;39m(\u001b[0m\u001b[1;36m67\u001b[0m\u001b[1;39m)\u001b[0m\u001b[39m, \u001b[0m\u001b[33mpayload\u001b[0m\u001b[39m=<memory at \u001b[0m\u001b[1;36m0x7fabc4cee200\u001b[0m\u001b[39m>\u001b[0m\u001b[1m>\u001b[0m\n"
      ]
     },
     "metadata": {},
     "output_type": "display_data"
    },
    {
     "data": {
      "text/html": [
       "<pre style=\"white-space:pre;overflow-x:auto;line-height:normal;font-family:Menlo,'DejaVu Sans Mono',consolas,'Courier New',monospace\"><span style=\"font-weight: bold\">&lt;</span><span style=\"color: #800080; text-decoration-color: #800080; font-weight: bold\">Seg</span><span style=\"color: #000000; text-decoration-color: #000000; font-weight: bold\">(</span><span style=\"color: #000000; text-decoration-color: #000000\">SOF2</span><span style=\"color: #000000; text-decoration-color: #000000; font-weight: bold\">)</span><span style=\"color: #000000; text-decoration-color: #000000\">: </span><span style=\"color: #808000; text-decoration-color: #808000\">length</span><span style=\"color: #000000; text-decoration-color: #000000\">=</span><span style=\"color: #800080; text-decoration-color: #800080; font-weight: bold\">UInt16</span><span style=\"color: #000000; text-decoration-color: #000000; font-weight: bold\">(</span><span style=\"color: #008080; text-decoration-color: #008080; font-weight: bold\">17</span><span style=\"color: #000000; text-decoration-color: #000000; font-weight: bold\">)</span><span style=\"color: #000000; text-decoration-color: #000000\">, </span><span style=\"color: #808000; text-decoration-color: #808000\">payload</span><span style=\"color: #000000; text-decoration-color: #000000\">=&lt;memory at </span><span style=\"color: #008080; text-decoration-color: #008080; font-weight: bold\">0x7fabc4cee440</span><span style=\"color: #000000; text-decoration-color: #000000\">&gt;</span><span style=\"font-weight: bold\">&gt;</span>\n",
       "</pre>\n"
      ],
      "text/plain": [
       "\u001b[1m<\u001b[0m\u001b[1;35mSeg\u001b[0m\u001b[1;39m(\u001b[0m\u001b[39mSOF2\u001b[0m\u001b[1;39m)\u001b[0m\u001b[39m: \u001b[0m\u001b[33mlength\u001b[0m\u001b[39m=\u001b[0m\u001b[1;35mUInt16\u001b[0m\u001b[1;39m(\u001b[0m\u001b[1;36m17\u001b[0m\u001b[1;39m)\u001b[0m\u001b[39m, \u001b[0m\u001b[33mpayload\u001b[0m\u001b[39m=<memory at \u001b[0m\u001b[1;36m0x7fabc4cee440\u001b[0m\u001b[39m>\u001b[0m\u001b[1m>\u001b[0m\n"
      ]
     },
     "metadata": {},
     "output_type": "display_data"
    },
    {
     "data": {
      "text/html": [
       "<pre style=\"white-space:pre;overflow-x:auto;line-height:normal;font-family:Menlo,'DejaVu Sans Mono',consolas,'Courier New',monospace\"><span style=\"font-weight: bold\">&lt;</span><span style=\"color: #800080; text-decoration-color: #800080; font-weight: bold\">Seg</span><span style=\"color: #000000; text-decoration-color: #000000; font-weight: bold\">(</span><span style=\"color: #000000; text-decoration-color: #000000\">DHT</span><span style=\"color: #000000; text-decoration-color: #000000; font-weight: bold\">)</span><span style=\"color: #000000; text-decoration-color: #000000\">: </span><span style=\"color: #808000; text-decoration-color: #808000\">length</span><span style=\"color: #000000; text-decoration-color: #000000\">=</span><span style=\"color: #800080; text-decoration-color: #800080; font-weight: bold\">UInt16</span><span style=\"color: #000000; text-decoration-color: #000000; font-weight: bold\">(</span><span style=\"color: #008080; text-decoration-color: #008080; font-weight: bold\">29</span><span style=\"color: #000000; text-decoration-color: #000000; font-weight: bold\">)</span><span style=\"color: #000000; text-decoration-color: #000000\">, </span><span style=\"color: #808000; text-decoration-color: #808000\">payload</span><span style=\"color: #000000; text-decoration-color: #000000\">=&lt;memory at </span><span style=\"color: #008080; text-decoration-color: #008080; font-weight: bold\">0x7fabc4cee680</span><span style=\"color: #000000; text-decoration-color: #000000\">&gt;</span><span style=\"font-weight: bold\">&gt;</span>\n",
       "</pre>\n"
      ],
      "text/plain": [
       "\u001b[1m<\u001b[0m\u001b[1;35mSeg\u001b[0m\u001b[1;39m(\u001b[0m\u001b[39mDHT\u001b[0m\u001b[1;39m)\u001b[0m\u001b[39m: \u001b[0m\u001b[33mlength\u001b[0m\u001b[39m=\u001b[0m\u001b[1;35mUInt16\u001b[0m\u001b[1;39m(\u001b[0m\u001b[1;36m29\u001b[0m\u001b[1;39m)\u001b[0m\u001b[39m, \u001b[0m\u001b[33mpayload\u001b[0m\u001b[39m=<memory at \u001b[0m\u001b[1;36m0x7fabc4cee680\u001b[0m\u001b[39m>\u001b[0m\u001b[1m>\u001b[0m\n"
      ]
     },
     "metadata": {},
     "output_type": "display_data"
    },
    {
     "data": {
      "text/html": [
       "<pre style=\"white-space:pre;overflow-x:auto;line-height:normal;font-family:Menlo,'DejaVu Sans Mono',consolas,'Courier New',monospace\"><span style=\"font-weight: bold\">&lt;</span><span style=\"color: #800080; text-decoration-color: #800080; font-weight: bold\">Seg</span><span style=\"color: #000000; text-decoration-color: #000000; font-weight: bold\">(</span><span style=\"color: #000000; text-decoration-color: #000000\">DHT</span><span style=\"color: #000000; text-decoration-color: #000000; font-weight: bold\">)</span><span style=\"color: #000000; text-decoration-color: #000000\">: </span><span style=\"color: #808000; text-decoration-color: #808000\">length</span><span style=\"color: #000000; text-decoration-color: #000000\">=</span><span style=\"color: #800080; text-decoration-color: #800080; font-weight: bold\">UInt16</span><span style=\"color: #000000; text-decoration-color: #000000; font-weight: bold\">(</span><span style=\"color: #008080; text-decoration-color: #008080; font-weight: bold\">26</span><span style=\"color: #000000; text-decoration-color: #000000; font-weight: bold\">)</span><span style=\"color: #000000; text-decoration-color: #000000\">, </span><span style=\"color: #808000; text-decoration-color: #808000\">payload</span><span style=\"color: #000000; text-decoration-color: #000000\">=&lt;memory at </span><span style=\"color: #008080; text-decoration-color: #008080; font-weight: bold\">0x7fabc4cee8c0</span><span style=\"color: #000000; text-decoration-color: #000000\">&gt;</span><span style=\"font-weight: bold\">&gt;</span>\n",
       "</pre>\n"
      ],
      "text/plain": [
       "\u001b[1m<\u001b[0m\u001b[1;35mSeg\u001b[0m\u001b[1;39m(\u001b[0m\u001b[39mDHT\u001b[0m\u001b[1;39m)\u001b[0m\u001b[39m: \u001b[0m\u001b[33mlength\u001b[0m\u001b[39m=\u001b[0m\u001b[1;35mUInt16\u001b[0m\u001b[1;39m(\u001b[0m\u001b[1;36m26\u001b[0m\u001b[1;39m)\u001b[0m\u001b[39m, \u001b[0m\u001b[33mpayload\u001b[0m\u001b[39m=<memory at \u001b[0m\u001b[1;36m0x7fabc4cee8c0\u001b[0m\u001b[39m>\u001b[0m\u001b[1m>\u001b[0m\n"
      ]
     },
     "metadata": {},
     "output_type": "display_data"
    },
    {
     "data": {
      "text/html": [
       "<pre style=\"white-space:pre;overflow-x:auto;line-height:normal;font-family:Menlo,'DejaVu Sans Mono',consolas,'Courier New',monospace\"><span style=\"font-weight: bold\">&lt;</span><span style=\"color: #800080; text-decoration-color: #800080; font-weight: bold\">Seg</span><span style=\"color: #000000; text-decoration-color: #000000; font-weight: bold\">(</span><span style=\"color: #000000; text-decoration-color: #000000\">SOS</span><span style=\"color: #000000; text-decoration-color: #000000; font-weight: bold\">)</span><span style=\"color: #000000; text-decoration-color: #000000\">: </span><span style=\"color: #808000; text-decoration-color: #808000\">length</span><span style=\"color: #000000; text-decoration-color: #000000\">=</span><span style=\"color: #800080; text-decoration-color: #800080; font-weight: bold\">UInt16</span><span style=\"color: #000000; text-decoration-color: #000000; font-weight: bold\">(</span><span style=\"color: #008080; text-decoration-color: #008080; font-weight: bold\">12</span><span style=\"color: #000000; text-decoration-color: #000000; font-weight: bold\">)</span><span style=\"color: #000000; text-decoration-color: #000000\">, </span><span style=\"color: #808000; text-decoration-color: #808000\">payload</span><span style=\"color: #000000; text-decoration-color: #000000\">=&lt;memory at </span><span style=\"color: #008080; text-decoration-color: #008080; font-weight: bold\">0x7fabc4ceeb00</span><span style=\"color: #000000; text-decoration-color: #000000\">&gt;, </span><span style=\"color: #808000; text-decoration-color: #808000\">image_data</span><span style=\"color: #000000; text-decoration-color: #000000\">=&lt;memory at </span><span style=\"color: #008080; text-decoration-color: #008080; font-weight: bold\">0x7fabc4ceebc0</span><span style=\"color: #000000; text-decoration-color: #000000\">&gt;</span><span style=\"font-weight: bold\">&gt;</span>\n",
       "</pre>\n"
      ],
      "text/plain": [
       "\u001b[1m<\u001b[0m\u001b[1;35mSeg\u001b[0m\u001b[1;39m(\u001b[0m\u001b[39mSOS\u001b[0m\u001b[1;39m)\u001b[0m\u001b[39m: \u001b[0m\u001b[33mlength\u001b[0m\u001b[39m=\u001b[0m\u001b[1;35mUInt16\u001b[0m\u001b[1;39m(\u001b[0m\u001b[1;36m12\u001b[0m\u001b[1;39m)\u001b[0m\u001b[39m, \u001b[0m\u001b[33mpayload\u001b[0m\u001b[39m=<memory at \u001b[0m\u001b[1;36m0x7fabc4ceeb00\u001b[0m\u001b[39m>, \u001b[0m\u001b[33mimage_data\u001b[0m\u001b[39m=<memory at \u001b[0m\u001b[1;36m0x7fabc4ceebc0\u001b[0m\u001b[39m>\u001b[0m\u001b[1m>\u001b[0m\n"
      ]
     },
     "metadata": {},
     "output_type": "display_data"
    },
    {
     "data": {
      "text/html": [
       "<pre style=\"white-space:pre;overflow-x:auto;line-height:normal;font-family:Menlo,'DejaVu Sans Mono',consolas,'Courier New',monospace\"><span style=\"font-weight: bold\">&lt;</span><span style=\"color: #800080; text-decoration-color: #800080; font-weight: bold\">Seg</span><span style=\"color: #000000; text-decoration-color: #000000; font-weight: bold\">(</span><span style=\"color: #000000; text-decoration-color: #000000\">DHT</span><span style=\"color: #000000; text-decoration-color: #000000; font-weight: bold\">)</span><span style=\"color: #000000; text-decoration-color: #000000\">: </span><span style=\"color: #808000; text-decoration-color: #808000\">length</span><span style=\"color: #000000; text-decoration-color: #000000\">=</span><span style=\"color: #800080; text-decoration-color: #800080; font-weight: bold\">UInt16</span><span style=\"color: #000000; text-decoration-color: #000000; font-weight: bold\">(</span><span style=\"color: #008080; text-decoration-color: #008080; font-weight: bold\">42</span><span style=\"color: #000000; text-decoration-color: #000000; font-weight: bold\">)</span><span style=\"color: #000000; text-decoration-color: #000000\">, </span><span style=\"color: #808000; text-decoration-color: #808000\">payload</span><span style=\"color: #000000; text-decoration-color: #000000\">=&lt;memory at </span><span style=\"color: #008080; text-decoration-color: #008080; font-weight: bold\">0x7fabc4ceee00</span><span style=\"color: #000000; text-decoration-color: #000000\">&gt;</span><span style=\"font-weight: bold\">&gt;</span>\n",
       "</pre>\n"
      ],
      "text/plain": [
       "\u001b[1m<\u001b[0m\u001b[1;35mSeg\u001b[0m\u001b[1;39m(\u001b[0m\u001b[39mDHT\u001b[0m\u001b[1;39m)\u001b[0m\u001b[39m: \u001b[0m\u001b[33mlength\u001b[0m\u001b[39m=\u001b[0m\u001b[1;35mUInt16\u001b[0m\u001b[1;39m(\u001b[0m\u001b[1;36m42\u001b[0m\u001b[1;39m)\u001b[0m\u001b[39m, \u001b[0m\u001b[33mpayload\u001b[0m\u001b[39m=<memory at \u001b[0m\u001b[1;36m0x7fabc4ceee00\u001b[0m\u001b[39m>\u001b[0m\u001b[1m>\u001b[0m\n"
      ]
     },
     "metadata": {},
     "output_type": "display_data"
    },
    {
     "data": {
      "text/html": [
       "<pre style=\"white-space:pre;overflow-x:auto;line-height:normal;font-family:Menlo,'DejaVu Sans Mono',consolas,'Courier New',monospace\"><span style=\"font-weight: bold\">&lt;</span><span style=\"color: #800080; text-decoration-color: #800080; font-weight: bold\">Seg</span><span style=\"color: #000000; text-decoration-color: #000000; font-weight: bold\">(</span><span style=\"color: #000000; text-decoration-color: #000000\">SOS</span><span style=\"color: #000000; text-decoration-color: #000000; font-weight: bold\">)</span><span style=\"color: #000000; text-decoration-color: #000000\">: </span><span style=\"color: #808000; text-decoration-color: #808000\">length</span><span style=\"color: #000000; text-decoration-color: #000000\">=</span><span style=\"color: #800080; text-decoration-color: #800080; font-weight: bold\">UInt16</span><span style=\"color: #000000; text-decoration-color: #000000; font-weight: bold\">(</span><span style=\"color: #008080; text-decoration-color: #008080; font-weight: bold\">8</span><span style=\"color: #000000; text-decoration-color: #000000; font-weight: bold\">)</span><span style=\"color: #000000; text-decoration-color: #000000\">, </span><span style=\"color: #808000; text-decoration-color: #808000\">payload</span><span style=\"color: #000000; text-decoration-color: #000000\">=&lt;memory at </span><span style=\"color: #008080; text-decoration-color: #008080; font-weight: bold\">0x7fabc4cef040</span><span style=\"color: #000000; text-decoration-color: #000000\">&gt;, </span><span style=\"color: #808000; text-decoration-color: #808000\">image_data</span><span style=\"color: #000000; text-decoration-color: #000000\">=&lt;memory at </span><span style=\"color: #008080; text-decoration-color: #008080; font-weight: bold\">0x7fabc4cef100</span><span style=\"color: #000000; text-decoration-color: #000000\">&gt;</span><span style=\"font-weight: bold\">&gt;</span>\n",
       "</pre>\n"
      ],
      "text/plain": [
       "\u001b[1m<\u001b[0m\u001b[1;35mSeg\u001b[0m\u001b[1;39m(\u001b[0m\u001b[39mSOS\u001b[0m\u001b[1;39m)\u001b[0m\u001b[39m: \u001b[0m\u001b[33mlength\u001b[0m\u001b[39m=\u001b[0m\u001b[1;35mUInt16\u001b[0m\u001b[1;39m(\u001b[0m\u001b[1;36m8\u001b[0m\u001b[1;39m)\u001b[0m\u001b[39m, \u001b[0m\u001b[33mpayload\u001b[0m\u001b[39m=<memory at \u001b[0m\u001b[1;36m0x7fabc4cef040\u001b[0m\u001b[39m>, \u001b[0m\u001b[33mimage_data\u001b[0m\u001b[39m=<memory at \u001b[0m\u001b[1;36m0x7fabc4cef100\u001b[0m\u001b[39m>\u001b[0m\u001b[1m>\u001b[0m\n"
      ]
     },
     "metadata": {},
     "output_type": "display_data"
    },
    {
     "data": {
      "text/html": [
       "<pre style=\"white-space:pre;overflow-x:auto;line-height:normal;font-family:Menlo,'DejaVu Sans Mono',consolas,'Courier New',monospace\"><span style=\"font-weight: bold\">&lt;</span><span style=\"color: #800080; text-decoration-color: #800080; font-weight: bold\">Seg</span><span style=\"color: #000000; text-decoration-color: #000000; font-weight: bold\">(</span><span style=\"color: #000000; text-decoration-color: #000000\">DHT</span><span style=\"color: #000000; text-decoration-color: #000000; font-weight: bold\">)</span><span style=\"color: #000000; text-decoration-color: #000000\">: </span><span style=\"color: #808000; text-decoration-color: #808000\">length</span><span style=\"color: #000000; text-decoration-color: #000000\">=</span><span style=\"color: #800080; text-decoration-color: #800080; font-weight: bold\">UInt16</span><span style=\"color: #000000; text-decoration-color: #000000; font-weight: bold\">(</span><span style=\"color: #008080; text-decoration-color: #008080; font-weight: bold\">40</span><span style=\"color: #000000; text-decoration-color: #000000; font-weight: bold\">)</span><span style=\"color: #000000; text-decoration-color: #000000\">, </span><span style=\"color: #808000; text-decoration-color: #808000\">payload</span><span style=\"color: #000000; text-decoration-color: #000000\">=&lt;memory at </span><span style=\"color: #008080; text-decoration-color: #008080; font-weight: bold\">0x7fabc4cef340</span><span style=\"color: #000000; text-decoration-color: #000000\">&gt;</span><span style=\"font-weight: bold\">&gt;</span>\n",
       "</pre>\n"
      ],
      "text/plain": [
       "\u001b[1m<\u001b[0m\u001b[1;35mSeg\u001b[0m\u001b[1;39m(\u001b[0m\u001b[39mDHT\u001b[0m\u001b[1;39m)\u001b[0m\u001b[39m: \u001b[0m\u001b[33mlength\u001b[0m\u001b[39m=\u001b[0m\u001b[1;35mUInt16\u001b[0m\u001b[1;39m(\u001b[0m\u001b[1;36m40\u001b[0m\u001b[1;39m)\u001b[0m\u001b[39m, \u001b[0m\u001b[33mpayload\u001b[0m\u001b[39m=<memory at \u001b[0m\u001b[1;36m0x7fabc4cef340\u001b[0m\u001b[39m>\u001b[0m\u001b[1m>\u001b[0m\n"
      ]
     },
     "metadata": {},
     "output_type": "display_data"
    },
    {
     "data": {
      "text/html": [
       "<pre style=\"white-space:pre;overflow-x:auto;line-height:normal;font-family:Menlo,'DejaVu Sans Mono',consolas,'Courier New',monospace\"><span style=\"font-weight: bold\">&lt;</span><span style=\"color: #800080; text-decoration-color: #800080; font-weight: bold\">Seg</span><span style=\"color: #000000; text-decoration-color: #000000; font-weight: bold\">(</span><span style=\"color: #000000; text-decoration-color: #000000\">SOS</span><span style=\"color: #000000; text-decoration-color: #000000; font-weight: bold\">)</span><span style=\"color: #000000; text-decoration-color: #000000\">: </span><span style=\"color: #808000; text-decoration-color: #808000\">length</span><span style=\"color: #000000; text-decoration-color: #000000\">=</span><span style=\"color: #800080; text-decoration-color: #800080; font-weight: bold\">UInt16</span><span style=\"color: #000000; text-decoration-color: #000000; font-weight: bold\">(</span><span style=\"color: #008080; text-decoration-color: #008080; font-weight: bold\">8</span><span style=\"color: #000000; text-decoration-color: #000000; font-weight: bold\">)</span><span style=\"color: #000000; text-decoration-color: #000000\">, </span><span style=\"color: #808000; text-decoration-color: #808000\">payload</span><span style=\"color: #000000; text-decoration-color: #000000\">=&lt;memory at </span><span style=\"color: #008080; text-decoration-color: #008080; font-weight: bold\">0x7fabc4cef580</span><span style=\"color: #000000; text-decoration-color: #000000\">&gt;, </span><span style=\"color: #808000; text-decoration-color: #808000\">image_data</span><span style=\"color: #000000; text-decoration-color: #000000\">=&lt;memory at </span><span style=\"color: #008080; text-decoration-color: #008080; font-weight: bold\">0x7fabc4cef640</span><span style=\"color: #000000; text-decoration-color: #000000\">&gt;</span><span style=\"font-weight: bold\">&gt;</span>\n",
       "</pre>\n"
      ],
      "text/plain": [
       "\u001b[1m<\u001b[0m\u001b[1;35mSeg\u001b[0m\u001b[1;39m(\u001b[0m\u001b[39mSOS\u001b[0m\u001b[1;39m)\u001b[0m\u001b[39m: \u001b[0m\u001b[33mlength\u001b[0m\u001b[39m=\u001b[0m\u001b[1;35mUInt16\u001b[0m\u001b[1;39m(\u001b[0m\u001b[1;36m8\u001b[0m\u001b[1;39m)\u001b[0m\u001b[39m, \u001b[0m\u001b[33mpayload\u001b[0m\u001b[39m=<memory at \u001b[0m\u001b[1;36m0x7fabc4cef580\u001b[0m\u001b[39m>, \u001b[0m\u001b[33mimage_data\u001b[0m\u001b[39m=<memory at \u001b[0m\u001b[1;36m0x7fabc4cef640\u001b[0m\u001b[39m>\u001b[0m\u001b[1m>\u001b[0m\n"
      ]
     },
     "metadata": {},
     "output_type": "display_data"
    },
    {
     "data": {
      "text/html": [
       "<pre style=\"white-space:pre;overflow-x:auto;line-height:normal;font-family:Menlo,'DejaVu Sans Mono',consolas,'Courier New',monospace\"><span style=\"font-weight: bold\">&lt;</span><span style=\"color: #800080; text-decoration-color: #800080; font-weight: bold\">Seg</span><span style=\"color: #000000; text-decoration-color: #000000; font-weight: bold\">(</span><span style=\"color: #000000; text-decoration-color: #000000\">DHT</span><span style=\"color: #000000; text-decoration-color: #000000; font-weight: bold\">)</span><span style=\"color: #000000; text-decoration-color: #000000\">: </span><span style=\"color: #808000; text-decoration-color: #808000\">length</span><span style=\"color: #000000; text-decoration-color: #000000\">=</span><span style=\"color: #800080; text-decoration-color: #800080; font-weight: bold\">UInt16</span><span style=\"color: #000000; text-decoration-color: #000000; font-weight: bold\">(</span><span style=\"color: #008080; text-decoration-color: #008080; font-weight: bold\">45</span><span style=\"color: #000000; text-decoration-color: #000000; font-weight: bold\">)</span><span style=\"color: #000000; text-decoration-color: #000000\">, </span><span style=\"color: #808000; text-decoration-color: #808000\">payload</span><span style=\"color: #000000; text-decoration-color: #000000\">=&lt;memory at </span><span style=\"color: #008080; text-decoration-color: #008080; font-weight: bold\">0x7fabc4cef880</span><span style=\"color: #000000; text-decoration-color: #000000\">&gt;</span><span style=\"font-weight: bold\">&gt;</span>\n",
       "</pre>\n"
      ],
      "text/plain": [
       "\u001b[1m<\u001b[0m\u001b[1;35mSeg\u001b[0m\u001b[1;39m(\u001b[0m\u001b[39mDHT\u001b[0m\u001b[1;39m)\u001b[0m\u001b[39m: \u001b[0m\u001b[33mlength\u001b[0m\u001b[39m=\u001b[0m\u001b[1;35mUInt16\u001b[0m\u001b[1;39m(\u001b[0m\u001b[1;36m45\u001b[0m\u001b[1;39m)\u001b[0m\u001b[39m, \u001b[0m\u001b[33mpayload\u001b[0m\u001b[39m=<memory at \u001b[0m\u001b[1;36m0x7fabc4cef880\u001b[0m\u001b[39m>\u001b[0m\u001b[1m>\u001b[0m\n"
      ]
     },
     "metadata": {},
     "output_type": "display_data"
    },
    {
     "data": {
      "text/html": [
       "<pre style=\"white-space:pre;overflow-x:auto;line-height:normal;font-family:Menlo,'DejaVu Sans Mono',consolas,'Courier New',monospace\"><span style=\"font-weight: bold\">&lt;</span><span style=\"color: #800080; text-decoration-color: #800080; font-weight: bold\">Seg</span><span style=\"color: #000000; text-decoration-color: #000000; font-weight: bold\">(</span><span style=\"color: #000000; text-decoration-color: #000000\">SOS</span><span style=\"color: #000000; text-decoration-color: #000000; font-weight: bold\">)</span><span style=\"color: #000000; text-decoration-color: #000000\">: </span><span style=\"color: #808000; text-decoration-color: #808000\">length</span><span style=\"color: #000000; text-decoration-color: #000000\">=</span><span style=\"color: #800080; text-decoration-color: #800080; font-weight: bold\">UInt16</span><span style=\"color: #000000; text-decoration-color: #000000; font-weight: bold\">(</span><span style=\"color: #008080; text-decoration-color: #008080; font-weight: bold\">8</span><span style=\"color: #000000; text-decoration-color: #000000; font-weight: bold\">)</span><span style=\"color: #000000; text-decoration-color: #000000\">, </span><span style=\"color: #808000; text-decoration-color: #808000\">payload</span><span style=\"color: #000000; text-decoration-color: #000000\">=&lt;memory at </span><span style=\"color: #008080; text-decoration-color: #008080; font-weight: bold\">0x7fabc4cefac0</span><span style=\"color: #000000; text-decoration-color: #000000\">&gt;, </span><span style=\"color: #808000; text-decoration-color: #808000\">image_data</span><span style=\"color: #000000; text-decoration-color: #000000\">=&lt;memory at </span><span style=\"color: #008080; text-decoration-color: #008080; font-weight: bold\">0x7fabc4cefb80</span><span style=\"color: #000000; text-decoration-color: #000000\">&gt;</span><span style=\"font-weight: bold\">&gt;</span>\n",
       "</pre>\n"
      ],
      "text/plain": [
       "\u001b[1m<\u001b[0m\u001b[1;35mSeg\u001b[0m\u001b[1;39m(\u001b[0m\u001b[39mSOS\u001b[0m\u001b[1;39m)\u001b[0m\u001b[39m: \u001b[0m\u001b[33mlength\u001b[0m\u001b[39m=\u001b[0m\u001b[1;35mUInt16\u001b[0m\u001b[1;39m(\u001b[0m\u001b[1;36m8\u001b[0m\u001b[1;39m)\u001b[0m\u001b[39m, \u001b[0m\u001b[33mpayload\u001b[0m\u001b[39m=<memory at \u001b[0m\u001b[1;36m0x7fabc4cefac0\u001b[0m\u001b[39m>, \u001b[0m\u001b[33mimage_data\u001b[0m\u001b[39m=<memory at \u001b[0m\u001b[1;36m0x7fabc4cefb80\u001b[0m\u001b[39m>\u001b[0m\u001b[1m>\u001b[0m\n"
      ]
     },
     "metadata": {},
     "output_type": "display_data"
    },
    {
     "data": {
      "text/html": [
       "<pre style=\"white-space:pre;overflow-x:auto;line-height:normal;font-family:Menlo,'DejaVu Sans Mono',consolas,'Courier New',monospace\"><span style=\"font-weight: bold\">&lt;</span><span style=\"color: #800080; text-decoration-color: #800080; font-weight: bold\">Seg</span><span style=\"color: #000000; text-decoration-color: #000000; font-weight: bold\">(</span><span style=\"color: #000000; text-decoration-color: #000000\">DHT</span><span style=\"color: #000000; text-decoration-color: #000000; font-weight: bold\">)</span><span style=\"color: #000000; text-decoration-color: #000000\">: </span><span style=\"color: #808000; text-decoration-color: #808000\">length</span><span style=\"color: #000000; text-decoration-color: #000000\">=</span><span style=\"color: #800080; text-decoration-color: #800080; font-weight: bold\">UInt16</span><span style=\"color: #000000; text-decoration-color: #000000; font-weight: bold\">(</span><span style=\"color: #008080; text-decoration-color: #008080; font-weight: bold\">52</span><span style=\"color: #000000; text-decoration-color: #000000; font-weight: bold\">)</span><span style=\"color: #000000; text-decoration-color: #000000\">, </span><span style=\"color: #808000; text-decoration-color: #808000\">payload</span><span style=\"color: #000000; text-decoration-color: #000000\">=&lt;memory at </span><span style=\"color: #008080; text-decoration-color: #008080; font-weight: bold\">0x7fabc4cefdc0</span><span style=\"color: #000000; text-decoration-color: #000000\">&gt;</span><span style=\"font-weight: bold\">&gt;</span>\n",
       "</pre>\n"
      ],
      "text/plain": [
       "\u001b[1m<\u001b[0m\u001b[1;35mSeg\u001b[0m\u001b[1;39m(\u001b[0m\u001b[39mDHT\u001b[0m\u001b[1;39m)\u001b[0m\u001b[39m: \u001b[0m\u001b[33mlength\u001b[0m\u001b[39m=\u001b[0m\u001b[1;35mUInt16\u001b[0m\u001b[1;39m(\u001b[0m\u001b[1;36m52\u001b[0m\u001b[1;39m)\u001b[0m\u001b[39m, \u001b[0m\u001b[33mpayload\u001b[0m\u001b[39m=<memory at \u001b[0m\u001b[1;36m0x7fabc4cefdc0\u001b[0m\u001b[39m>\u001b[0m\u001b[1m>\u001b[0m\n"
      ]
     },
     "metadata": {},
     "output_type": "display_data"
    },
    {
     "data": {
      "text/html": [
       "<pre style=\"white-space:pre;overflow-x:auto;line-height:normal;font-family:Menlo,'DejaVu Sans Mono',consolas,'Courier New',monospace\"><span style=\"font-weight: bold\">&lt;</span><span style=\"color: #800080; text-decoration-color: #800080; font-weight: bold\">Seg</span><span style=\"color: #000000; text-decoration-color: #000000; font-weight: bold\">(</span><span style=\"color: #000000; text-decoration-color: #000000\">SOS</span><span style=\"color: #000000; text-decoration-color: #000000; font-weight: bold\">)</span><span style=\"color: #000000; text-decoration-color: #000000\">: </span><span style=\"color: #808000; text-decoration-color: #808000\">length</span><span style=\"color: #000000; text-decoration-color: #000000\">=</span><span style=\"color: #800080; text-decoration-color: #800080; font-weight: bold\">UInt16</span><span style=\"color: #000000; text-decoration-color: #000000; font-weight: bold\">(</span><span style=\"color: #008080; text-decoration-color: #008080; font-weight: bold\">8</span><span style=\"color: #000000; text-decoration-color: #000000; font-weight: bold\">)</span><span style=\"color: #000000; text-decoration-color: #000000\">, </span><span style=\"color: #808000; text-decoration-color: #808000\">payload</span><span style=\"color: #000000; text-decoration-color: #000000\">=&lt;memory at </span><span style=\"color: #008080; text-decoration-color: #008080; font-weight: bold\">0x7fabc4cd8100</span><span style=\"color: #000000; text-decoration-color: #000000\">&gt;, </span><span style=\"color: #808000; text-decoration-color: #808000\">image_data</span><span style=\"color: #000000; text-decoration-color: #000000\">=&lt;memory at </span><span style=\"color: #008080; text-decoration-color: #008080; font-weight: bold\">0x7fabc4cd81c0</span><span style=\"color: #000000; text-decoration-color: #000000\">&gt;</span><span style=\"font-weight: bold\">&gt;</span>\n",
       "</pre>\n"
      ],
      "text/plain": [
       "\u001b[1m<\u001b[0m\u001b[1;35mSeg\u001b[0m\u001b[1;39m(\u001b[0m\u001b[39mSOS\u001b[0m\u001b[1;39m)\u001b[0m\u001b[39m: \u001b[0m\u001b[33mlength\u001b[0m\u001b[39m=\u001b[0m\u001b[1;35mUInt16\u001b[0m\u001b[1;39m(\u001b[0m\u001b[1;36m8\u001b[0m\u001b[1;39m)\u001b[0m\u001b[39m, \u001b[0m\u001b[33mpayload\u001b[0m\u001b[39m=<memory at \u001b[0m\u001b[1;36m0x7fabc4cd8100\u001b[0m\u001b[39m>, \u001b[0m\u001b[33mimage_data\u001b[0m\u001b[39m=<memory at \u001b[0m\u001b[1;36m0x7fabc4cd81c0\u001b[0m\u001b[39m>\u001b[0m\u001b[1m>\u001b[0m\n"
      ]
     },
     "metadata": {},
     "output_type": "display_data"
    },
    {
     "data": {
      "text/html": [
       "<pre style=\"white-space:pre;overflow-x:auto;line-height:normal;font-family:Menlo,'DejaVu Sans Mono',consolas,'Courier New',monospace\"><span style=\"font-weight: bold\">&lt;</span><span style=\"color: #800080; text-decoration-color: #800080; font-weight: bold\">Seg</span><span style=\"color: #000000; text-decoration-color: #000000; font-weight: bold\">(</span><span style=\"color: #000000; text-decoration-color: #000000\">DHT</span><span style=\"color: #000000; text-decoration-color: #000000; font-weight: bold\">)</span><span style=\"color: #000000; text-decoration-color: #000000\">: </span><span style=\"color: #808000; text-decoration-color: #808000\">length</span><span style=\"color: #000000; text-decoration-color: #000000\">=</span><span style=\"color: #800080; text-decoration-color: #800080; font-weight: bold\">UInt16</span><span style=\"color: #000000; text-decoration-color: #000000; font-weight: bold\">(</span><span style=\"color: #008080; text-decoration-color: #008080; font-weight: bold\">39</span><span style=\"color: #000000; text-decoration-color: #000000; font-weight: bold\">)</span><span style=\"color: #000000; text-decoration-color: #000000\">, </span><span style=\"color: #808000; text-decoration-color: #808000\">payload</span><span style=\"color: #000000; text-decoration-color: #000000\">=&lt;memory at </span><span style=\"color: #008080; text-decoration-color: #008080; font-weight: bold\">0x7fabc4cd8400</span><span style=\"color: #000000; text-decoration-color: #000000\">&gt;</span><span style=\"font-weight: bold\">&gt;</span>\n",
       "</pre>\n"
      ],
      "text/plain": [
       "\u001b[1m<\u001b[0m\u001b[1;35mSeg\u001b[0m\u001b[1;39m(\u001b[0m\u001b[39mDHT\u001b[0m\u001b[1;39m)\u001b[0m\u001b[39m: \u001b[0m\u001b[33mlength\u001b[0m\u001b[39m=\u001b[0m\u001b[1;35mUInt16\u001b[0m\u001b[1;39m(\u001b[0m\u001b[1;36m39\u001b[0m\u001b[1;39m)\u001b[0m\u001b[39m, \u001b[0m\u001b[33mpayload\u001b[0m\u001b[39m=<memory at \u001b[0m\u001b[1;36m0x7fabc4cd8400\u001b[0m\u001b[39m>\u001b[0m\u001b[1m>\u001b[0m\n"
      ]
     },
     "metadata": {},
     "output_type": "display_data"
    },
    {
     "data": {
      "text/html": [
       "<pre style=\"white-space:pre;overflow-x:auto;line-height:normal;font-family:Menlo,'DejaVu Sans Mono',consolas,'Courier New',monospace\"><span style=\"font-weight: bold\">&lt;</span><span style=\"color: #800080; text-decoration-color: #800080; font-weight: bold\">Seg</span><span style=\"color: #000000; text-decoration-color: #000000; font-weight: bold\">(</span><span style=\"color: #000000; text-decoration-color: #000000\">SOS</span><span style=\"color: #000000; text-decoration-color: #000000; font-weight: bold\">)</span><span style=\"color: #000000; text-decoration-color: #000000\">: </span><span style=\"color: #808000; text-decoration-color: #808000\">length</span><span style=\"color: #000000; text-decoration-color: #000000\">=</span><span style=\"color: #800080; text-decoration-color: #800080; font-weight: bold\">UInt16</span><span style=\"color: #000000; text-decoration-color: #000000; font-weight: bold\">(</span><span style=\"color: #008080; text-decoration-color: #008080; font-weight: bold\">8</span><span style=\"color: #000000; text-decoration-color: #000000; font-weight: bold\">)</span><span style=\"color: #000000; text-decoration-color: #000000\">, </span><span style=\"color: #808000; text-decoration-color: #808000\">payload</span><span style=\"color: #000000; text-decoration-color: #000000\">=&lt;memory at </span><span style=\"color: #008080; text-decoration-color: #008080; font-weight: bold\">0x7fabc4cd8640</span><span style=\"color: #000000; text-decoration-color: #000000\">&gt;, </span><span style=\"color: #808000; text-decoration-color: #808000\">image_data</span><span style=\"color: #000000; text-decoration-color: #000000\">=&lt;memory at </span><span style=\"color: #008080; text-decoration-color: #008080; font-weight: bold\">0x7fabc4cd8700</span><span style=\"color: #000000; text-decoration-color: #000000\">&gt;</span><span style=\"font-weight: bold\">&gt;</span>\n",
       "</pre>\n"
      ],
      "text/plain": [
       "\u001b[1m<\u001b[0m\u001b[1;35mSeg\u001b[0m\u001b[1;39m(\u001b[0m\u001b[39mSOS\u001b[0m\u001b[1;39m)\u001b[0m\u001b[39m: \u001b[0m\u001b[33mlength\u001b[0m\u001b[39m=\u001b[0m\u001b[1;35mUInt16\u001b[0m\u001b[1;39m(\u001b[0m\u001b[1;36m8\u001b[0m\u001b[1;39m)\u001b[0m\u001b[39m, \u001b[0m\u001b[33mpayload\u001b[0m\u001b[39m=<memory at \u001b[0m\u001b[1;36m0x7fabc4cd8640\u001b[0m\u001b[39m>, \u001b[0m\u001b[33mimage_data\u001b[0m\u001b[39m=<memory at \u001b[0m\u001b[1;36m0x7fabc4cd8700\u001b[0m\u001b[39m>\u001b[0m\u001b[1m>\u001b[0m\n"
      ]
     },
     "metadata": {},
     "output_type": "display_data"
    },
    {
     "data": {
      "text/html": [
       "<pre style=\"white-space:pre;overflow-x:auto;line-height:normal;font-family:Menlo,'DejaVu Sans Mono',consolas,'Courier New',monospace\"><span style=\"font-weight: bold\">&lt;</span><span style=\"color: #800080; text-decoration-color: #800080; font-weight: bold\">Seg</span><span style=\"color: #000000; text-decoration-color: #000000; font-weight: bold\">(</span><span style=\"color: #000000; text-decoration-color: #000000\">SOS</span><span style=\"color: #000000; text-decoration-color: #000000; font-weight: bold\">)</span><span style=\"color: #000000; text-decoration-color: #000000\">: </span><span style=\"color: #808000; text-decoration-color: #808000\">length</span><span style=\"color: #000000; text-decoration-color: #000000\">=</span><span style=\"color: #800080; text-decoration-color: #800080; font-weight: bold\">UInt16</span><span style=\"color: #000000; text-decoration-color: #000000; font-weight: bold\">(</span><span style=\"color: #008080; text-decoration-color: #008080; font-weight: bold\">12</span><span style=\"color: #000000; text-decoration-color: #000000; font-weight: bold\">)</span><span style=\"color: #000000; text-decoration-color: #000000\">, </span><span style=\"color: #808000; text-decoration-color: #808000\">payload</span><span style=\"color: #000000; text-decoration-color: #000000\">=&lt;memory at </span><span style=\"color: #008080; text-decoration-color: #008080; font-weight: bold\">0x7fabc4cd8940</span><span style=\"color: #000000; text-decoration-color: #000000\">&gt;, </span><span style=\"color: #808000; text-decoration-color: #808000\">image_data</span><span style=\"color: #000000; text-decoration-color: #000000\">=&lt;memory at </span><span style=\"color: #008080; text-decoration-color: #008080; font-weight: bold\">0x7fabc4cd8a00</span><span style=\"color: #000000; text-decoration-color: #000000\">&gt;</span><span style=\"font-weight: bold\">&gt;</span>\n",
       "</pre>\n"
      ],
      "text/plain": [
       "\u001b[1m<\u001b[0m\u001b[1;35mSeg\u001b[0m\u001b[1;39m(\u001b[0m\u001b[39mSOS\u001b[0m\u001b[1;39m)\u001b[0m\u001b[39m: \u001b[0m\u001b[33mlength\u001b[0m\u001b[39m=\u001b[0m\u001b[1;35mUInt16\u001b[0m\u001b[1;39m(\u001b[0m\u001b[1;36m12\u001b[0m\u001b[1;39m)\u001b[0m\u001b[39m, \u001b[0m\u001b[33mpayload\u001b[0m\u001b[39m=<memory at \u001b[0m\u001b[1;36m0x7fabc4cd8940\u001b[0m\u001b[39m>, \u001b[0m\u001b[33mimage_data\u001b[0m\u001b[39m=<memory at \u001b[0m\u001b[1;36m0x7fabc4cd8a00\u001b[0m\u001b[39m>\u001b[0m\u001b[1m>\u001b[0m\n"
      ]
     },
     "metadata": {},
     "output_type": "display_data"
    },
    {
     "data": {
      "text/html": [
       "<pre style=\"white-space:pre;overflow-x:auto;line-height:normal;font-family:Menlo,'DejaVu Sans Mono',consolas,'Courier New',monospace\"><span style=\"font-weight: bold\">&lt;</span><span style=\"color: #800080; text-decoration-color: #800080; font-weight: bold\">Seg</span><span style=\"color: #000000; text-decoration-color: #000000; font-weight: bold\">(</span><span style=\"color: #000000; text-decoration-color: #000000\">DHT</span><span style=\"color: #000000; text-decoration-color: #000000; font-weight: bold\">)</span><span style=\"color: #000000; text-decoration-color: #000000\">: </span><span style=\"color: #808000; text-decoration-color: #808000\">length</span><span style=\"color: #000000; text-decoration-color: #000000\">=</span><span style=\"color: #800080; text-decoration-color: #800080; font-weight: bold\">UInt16</span><span style=\"color: #000000; text-decoration-color: #000000; font-weight: bold\">(</span><span style=\"color: #008080; text-decoration-color: #008080; font-weight: bold\">34</span><span style=\"color: #000000; text-decoration-color: #000000; font-weight: bold\">)</span><span style=\"color: #000000; text-decoration-color: #000000\">, </span><span style=\"color: #808000; text-decoration-color: #808000\">payload</span><span style=\"color: #000000; text-decoration-color: #000000\">=&lt;memory at </span><span style=\"color: #008080; text-decoration-color: #008080; font-weight: bold\">0x7fabc4cd8c40</span><span style=\"color: #000000; text-decoration-color: #000000\">&gt;</span><span style=\"font-weight: bold\">&gt;</span>\n",
       "</pre>\n"
      ],
      "text/plain": [
       "\u001b[1m<\u001b[0m\u001b[1;35mSeg\u001b[0m\u001b[1;39m(\u001b[0m\u001b[39mDHT\u001b[0m\u001b[1;39m)\u001b[0m\u001b[39m: \u001b[0m\u001b[33mlength\u001b[0m\u001b[39m=\u001b[0m\u001b[1;35mUInt16\u001b[0m\u001b[1;39m(\u001b[0m\u001b[1;36m34\u001b[0m\u001b[1;39m)\u001b[0m\u001b[39m, \u001b[0m\u001b[33mpayload\u001b[0m\u001b[39m=<memory at \u001b[0m\u001b[1;36m0x7fabc4cd8c40\u001b[0m\u001b[39m>\u001b[0m\u001b[1m>\u001b[0m\n"
      ]
     },
     "metadata": {},
     "output_type": "display_data"
    },
    {
     "data": {
      "text/html": [
       "<pre style=\"white-space:pre;overflow-x:auto;line-height:normal;font-family:Menlo,'DejaVu Sans Mono',consolas,'Courier New',monospace\"><span style=\"font-weight: bold\">&lt;</span><span style=\"color: #800080; text-decoration-color: #800080; font-weight: bold\">Seg</span><span style=\"color: #000000; text-decoration-color: #000000; font-weight: bold\">(</span><span style=\"color: #000000; text-decoration-color: #000000\">SOS</span><span style=\"color: #000000; text-decoration-color: #000000; font-weight: bold\">)</span><span style=\"color: #000000; text-decoration-color: #000000\">: </span><span style=\"color: #808000; text-decoration-color: #808000\">length</span><span style=\"color: #000000; text-decoration-color: #000000\">=</span><span style=\"color: #800080; text-decoration-color: #800080; font-weight: bold\">UInt16</span><span style=\"color: #000000; text-decoration-color: #000000; font-weight: bold\">(</span><span style=\"color: #008080; text-decoration-color: #008080; font-weight: bold\">8</span><span style=\"color: #000000; text-decoration-color: #000000; font-weight: bold\">)</span><span style=\"color: #000000; text-decoration-color: #000000\">, </span><span style=\"color: #808000; text-decoration-color: #808000\">payload</span><span style=\"color: #000000; text-decoration-color: #000000\">=&lt;memory at </span><span style=\"color: #008080; text-decoration-color: #008080; font-weight: bold\">0x7fabc4cd8e80</span><span style=\"color: #000000; text-decoration-color: #000000\">&gt;, </span><span style=\"color: #808000; text-decoration-color: #808000\">image_data</span><span style=\"color: #000000; text-decoration-color: #000000\">=&lt;memory at </span><span style=\"color: #008080; text-decoration-color: #008080; font-weight: bold\">0x7fabc4cd8f40</span><span style=\"color: #000000; text-decoration-color: #000000\">&gt;</span><span style=\"font-weight: bold\">&gt;</span>\n",
       "</pre>\n"
      ],
      "text/plain": [
       "\u001b[1m<\u001b[0m\u001b[1;35mSeg\u001b[0m\u001b[1;39m(\u001b[0m\u001b[39mSOS\u001b[0m\u001b[1;39m)\u001b[0m\u001b[39m: \u001b[0m\u001b[33mlength\u001b[0m\u001b[39m=\u001b[0m\u001b[1;35mUInt16\u001b[0m\u001b[1;39m(\u001b[0m\u001b[1;36m8\u001b[0m\u001b[1;39m)\u001b[0m\u001b[39m, \u001b[0m\u001b[33mpayload\u001b[0m\u001b[39m=<memory at \u001b[0m\u001b[1;36m0x7fabc4cd8e80\u001b[0m\u001b[39m>, \u001b[0m\u001b[33mimage_data\u001b[0m\u001b[39m=<memory at \u001b[0m\u001b[1;36m0x7fabc4cd8f40\u001b[0m\u001b[39m>\u001b[0m\u001b[1m>\u001b[0m\n"
      ]
     },
     "metadata": {},
     "output_type": "display_data"
    },
    {
     "data": {
      "text/html": [
       "<pre style=\"white-space:pre;overflow-x:auto;line-height:normal;font-family:Menlo,'DejaVu Sans Mono',consolas,'Courier New',monospace\"><span style=\"font-weight: bold\">&lt;</span><span style=\"color: #800080; text-decoration-color: #800080; font-weight: bold\">Seg</span><span style=\"color: #000000; text-decoration-color: #000000; font-weight: bold\">(</span><span style=\"color: #000000; text-decoration-color: #000000\">DHT</span><span style=\"color: #000000; text-decoration-color: #000000; font-weight: bold\">)</span><span style=\"color: #000000; text-decoration-color: #000000\">: </span><span style=\"color: #808000; text-decoration-color: #808000\">length</span><span style=\"color: #000000; text-decoration-color: #000000\">=</span><span style=\"color: #800080; text-decoration-color: #800080; font-weight: bold\">UInt16</span><span style=\"color: #000000; text-decoration-color: #000000; font-weight: bold\">(</span><span style=\"color: #008080; text-decoration-color: #008080; font-weight: bold\">34</span><span style=\"color: #000000; text-decoration-color: #000000; font-weight: bold\">)</span><span style=\"color: #000000; text-decoration-color: #000000\">, </span><span style=\"color: #808000; text-decoration-color: #808000\">payload</span><span style=\"color: #000000; text-decoration-color: #000000\">=&lt;memory at </span><span style=\"color: #008080; text-decoration-color: #008080; font-weight: bold\">0x7fabc4cd9180</span><span style=\"color: #000000; text-decoration-color: #000000\">&gt;</span><span style=\"font-weight: bold\">&gt;</span>\n",
       "</pre>\n"
      ],
      "text/plain": [
       "\u001b[1m<\u001b[0m\u001b[1;35mSeg\u001b[0m\u001b[1;39m(\u001b[0m\u001b[39mDHT\u001b[0m\u001b[1;39m)\u001b[0m\u001b[39m: \u001b[0m\u001b[33mlength\u001b[0m\u001b[39m=\u001b[0m\u001b[1;35mUInt16\u001b[0m\u001b[1;39m(\u001b[0m\u001b[1;36m34\u001b[0m\u001b[1;39m)\u001b[0m\u001b[39m, \u001b[0m\u001b[33mpayload\u001b[0m\u001b[39m=<memory at \u001b[0m\u001b[1;36m0x7fabc4cd9180\u001b[0m\u001b[39m>\u001b[0m\u001b[1m>\u001b[0m\n"
      ]
     },
     "metadata": {},
     "output_type": "display_data"
    },
    {
     "data": {
      "text/html": [
       "<pre style=\"white-space:pre;overflow-x:auto;line-height:normal;font-family:Menlo,'DejaVu Sans Mono',consolas,'Courier New',monospace\"><span style=\"font-weight: bold\">&lt;</span><span style=\"color: #800080; text-decoration-color: #800080; font-weight: bold\">Seg</span><span style=\"color: #000000; text-decoration-color: #000000; font-weight: bold\">(</span><span style=\"color: #000000; text-decoration-color: #000000\">SOS</span><span style=\"color: #000000; text-decoration-color: #000000; font-weight: bold\">)</span><span style=\"color: #000000; text-decoration-color: #000000\">: </span><span style=\"color: #808000; text-decoration-color: #808000\">length</span><span style=\"color: #000000; text-decoration-color: #000000\">=</span><span style=\"color: #800080; text-decoration-color: #800080; font-weight: bold\">UInt16</span><span style=\"color: #000000; text-decoration-color: #000000; font-weight: bold\">(</span><span style=\"color: #008080; text-decoration-color: #008080; font-weight: bold\">8</span><span style=\"color: #000000; text-decoration-color: #000000; font-weight: bold\">)</span><span style=\"color: #000000; text-decoration-color: #000000\">, </span><span style=\"color: #808000; text-decoration-color: #808000\">payload</span><span style=\"color: #000000; text-decoration-color: #000000\">=&lt;memory at </span><span style=\"color: #008080; text-decoration-color: #008080; font-weight: bold\">0x7fabc4cd93c0</span><span style=\"color: #000000; text-decoration-color: #000000\">&gt;, </span><span style=\"color: #808000; text-decoration-color: #808000\">image_data</span><span style=\"color: #000000; text-decoration-color: #000000\">=&lt;memory at </span><span style=\"color: #008080; text-decoration-color: #008080; font-weight: bold\">0x7fabc4cd9480</span><span style=\"color: #000000; text-decoration-color: #000000\">&gt;</span><span style=\"font-weight: bold\">&gt;</span>\n",
       "</pre>\n"
      ],
      "text/plain": [
       "\u001b[1m<\u001b[0m\u001b[1;35mSeg\u001b[0m\u001b[1;39m(\u001b[0m\u001b[39mSOS\u001b[0m\u001b[1;39m)\u001b[0m\u001b[39m: \u001b[0m\u001b[33mlength\u001b[0m\u001b[39m=\u001b[0m\u001b[1;35mUInt16\u001b[0m\u001b[1;39m(\u001b[0m\u001b[1;36m8\u001b[0m\u001b[1;39m)\u001b[0m\u001b[39m, \u001b[0m\u001b[33mpayload\u001b[0m\u001b[39m=<memory at \u001b[0m\u001b[1;36m0x7fabc4cd93c0\u001b[0m\u001b[39m>, \u001b[0m\u001b[33mimage_data\u001b[0m\u001b[39m=<memory at \u001b[0m\u001b[1;36m0x7fabc4cd9480\u001b[0m\u001b[39m>\u001b[0m\u001b[1m>\u001b[0m\n"
      ]
     },
     "metadata": {},
     "output_type": "display_data"
    },
    {
     "data": {
      "text/html": [
       "<pre style=\"white-space:pre;overflow-x:auto;line-height:normal;font-family:Menlo,'DejaVu Sans Mono',consolas,'Courier New',monospace\"><span style=\"font-weight: bold\">&lt;</span><span style=\"color: #800080; text-decoration-color: #800080; font-weight: bold\">Seg</span><span style=\"color: #000000; text-decoration-color: #000000; font-weight: bold\">(</span><span style=\"color: #000000; text-decoration-color: #000000\">DHT</span><span style=\"color: #000000; text-decoration-color: #000000; font-weight: bold\">)</span><span style=\"color: #000000; text-decoration-color: #000000\">: </span><span style=\"color: #808000; text-decoration-color: #808000\">length</span><span style=\"color: #000000; text-decoration-color: #000000\">=</span><span style=\"color: #800080; text-decoration-color: #800080; font-weight: bold\">UInt16</span><span style=\"color: #000000; text-decoration-color: #000000; font-weight: bold\">(</span><span style=\"color: #008080; text-decoration-color: #008080; font-weight: bold\">38</span><span style=\"color: #000000; text-decoration-color: #000000; font-weight: bold\">)</span><span style=\"color: #000000; text-decoration-color: #000000\">, </span><span style=\"color: #808000; text-decoration-color: #808000\">payload</span><span style=\"color: #000000; text-decoration-color: #000000\">=&lt;memory at </span><span style=\"color: #008080; text-decoration-color: #008080; font-weight: bold\">0x7fabc4cd9600</span><span style=\"color: #000000; text-decoration-color: #000000\">&gt;</span><span style=\"font-weight: bold\">&gt;</span>\n",
       "</pre>\n"
      ],
      "text/plain": [
       "\u001b[1m<\u001b[0m\u001b[1;35mSeg\u001b[0m\u001b[1;39m(\u001b[0m\u001b[39mDHT\u001b[0m\u001b[1;39m)\u001b[0m\u001b[39m: \u001b[0m\u001b[33mlength\u001b[0m\u001b[39m=\u001b[0m\u001b[1;35mUInt16\u001b[0m\u001b[1;39m(\u001b[0m\u001b[1;36m38\u001b[0m\u001b[1;39m)\u001b[0m\u001b[39m, \u001b[0m\u001b[33mpayload\u001b[0m\u001b[39m=<memory at \u001b[0m\u001b[1;36m0x7fabc4cd9600\u001b[0m\u001b[39m>\u001b[0m\u001b[1m>\u001b[0m\n"
      ]
     },
     "metadata": {},
     "output_type": "display_data"
    },
    {
     "data": {
      "text/html": [
       "<pre style=\"white-space:pre;overflow-x:auto;line-height:normal;font-family:Menlo,'DejaVu Sans Mono',consolas,'Courier New',monospace\"><span style=\"font-weight: bold\">&lt;</span><span style=\"color: #800080; text-decoration-color: #800080; font-weight: bold\">Seg</span><span style=\"color: #000000; text-decoration-color: #000000; font-weight: bold\">(</span><span style=\"color: #000000; text-decoration-color: #000000\">SOS</span><span style=\"color: #000000; text-decoration-color: #000000; font-weight: bold\">)</span><span style=\"color: #000000; text-decoration-color: #000000\">: </span><span style=\"color: #808000; text-decoration-color: #808000\">length</span><span style=\"color: #000000; text-decoration-color: #000000\">=</span><span style=\"color: #800080; text-decoration-color: #800080; font-weight: bold\">UInt16</span><span style=\"color: #000000; text-decoration-color: #000000; font-weight: bold\">(</span><span style=\"color: #008080; text-decoration-color: #008080; font-weight: bold\">8</span><span style=\"color: #000000; text-decoration-color: #000000; font-weight: bold\">)</span><span style=\"color: #000000; text-decoration-color: #000000\">, </span><span style=\"color: #808000; text-decoration-color: #808000\">payload</span><span style=\"color: #000000; text-decoration-color: #000000\">=&lt;memory at </span><span style=\"color: #008080; text-decoration-color: #008080; font-weight: bold\">0x7fabc4cd9840</span><span style=\"color: #000000; text-decoration-color: #000000\">&gt;, </span><span style=\"color: #808000; text-decoration-color: #808000\">image_data</span><span style=\"color: #000000; text-decoration-color: #000000\">=&lt;memory at </span><span style=\"color: #008080; text-decoration-color: #008080; font-weight: bold\">0x7fabc4cd9900</span><span style=\"color: #000000; text-decoration-color: #000000\">&gt;</span><span style=\"font-weight: bold\">&gt;</span>\n",
       "</pre>\n"
      ],
      "text/plain": [
       "\u001b[1m<\u001b[0m\u001b[1;35mSeg\u001b[0m\u001b[1;39m(\u001b[0m\u001b[39mSOS\u001b[0m\u001b[1;39m)\u001b[0m\u001b[39m: \u001b[0m\u001b[33mlength\u001b[0m\u001b[39m=\u001b[0m\u001b[1;35mUInt16\u001b[0m\u001b[1;39m(\u001b[0m\u001b[1;36m8\u001b[0m\u001b[1;39m)\u001b[0m\u001b[39m, \u001b[0m\u001b[33mpayload\u001b[0m\u001b[39m=<memory at \u001b[0m\u001b[1;36m0x7fabc4cd9840\u001b[0m\u001b[39m>, \u001b[0m\u001b[33mimage_data\u001b[0m\u001b[39m=<memory at \u001b[0m\u001b[1;36m0x7fabc4cd9900\u001b[0m\u001b[39m>\u001b[0m\u001b[1m>\u001b[0m\n"
      ]
     },
     "metadata": {},
     "output_type": "display_data"
    },
    {
     "data": {
      "text/html": [
       "<pre style=\"white-space:pre;overflow-x:auto;line-height:normal;font-family:Menlo,'DejaVu Sans Mono',consolas,'Courier New',monospace\"><span style=\"font-weight: bold\">&lt;</span><span style=\"color: #800080; text-decoration-color: #800080; font-weight: bold\">Seg</span><span style=\"color: #000000; text-decoration-color: #000000; font-weight: bold\">(</span><span style=\"color: #000000; text-decoration-color: #000000\">EOI</span><span style=\"color: #000000; text-decoration-color: #000000; font-weight: bold\">)</span><span style=\"color: #000000; text-decoration-color: #000000\">: </span><span style=\"font-weight: bold\">&gt;</span>\n",
       "</pre>\n"
      ],
      "text/plain": [
       "\u001b[1m<\u001b[0m\u001b[1;35mSeg\u001b[0m\u001b[1;39m(\u001b[0m\u001b[39mEOI\u001b[0m\u001b[1;39m)\u001b[0m\u001b[39m: \u001b[0m\u001b[1m>\u001b[0m\n"
      ]
     },
     "metadata": {},
     "output_type": "display_data"
    }
   ],
   "source": [
    "for segment in jpg.segments:\n",
    "    print(segment)"
   ]
  }
 ],
 "metadata": {
  "kernelspec": {
   "display_name": ".venv",
   "language": "python",
   "name": "python3"
  },
  "language_info": {
   "codemirror_mode": {
    "name": "ipython",
    "version": 3
   },
   "file_extension": ".py",
   "mimetype": "text/x-python",
   "name": "python",
   "nbconvert_exporter": "python",
   "pygments_lexer": "ipython3",
   "version": "3.10.14"
  }
 },
 "nbformat": 4,
 "nbformat_minor": 2
}
