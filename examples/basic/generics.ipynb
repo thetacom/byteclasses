{
 "cells": [
  {
   "cell_type": "markdown",
   "metadata": {},
   "source": [
    "# Generic Primitives"
   ]
  },
  {
   "cell_type": "code",
   "execution_count": 1,
   "metadata": {},
   "outputs": [],
   "source": [
    "from byteclasses.types.primitives.generics import Bit, Byte, Word, DWord, QWord\n",
    "from rich.console import Console\n",
    "from rich.table import Table"
   ]
  },
  {
   "cell_type": "code",
   "execution_count": 2,
   "metadata": {},
   "outputs": [],
   "source": [
    "bit = Bit(True)\n",
    "byte = Byte(b\"\\x11\")\n",
    "word = Word(b\"\\x11\\x22\")\n",
    "dword = DWord(b\"\\x11\\x22\\x33\\x44\")\n",
    "qword = QWord(b\"\\x11\\x22\\x33\\x44\\x55\\x66\\x77\\x88\")"
   ]
  },
  {
   "cell_type": "code",
   "execution_count": 5,
   "metadata": {},
   "outputs": [
    {
     "data": {
      "text/html": [
       "<pre style=\"white-space:pre;overflow-x:auto;line-height:normal;font-family:Menlo,'DejaVu Sans Mono',consolas,'Courier New',monospace\"><span style=\"font-style: italic\">                                           Generic Primitives                                           </span>\n",
       "┏━━━━━━━┳━━━━━┳━━━━━━━━━━━━━━━━━━━┳━━━━━━━━━━━━━━━━━━━━━━━━━━━━━━━━━━━━━━━━━━━━━━━━┳━━━━━━━━━━━━━━━━━━━┓\n",
       "┃<span style=\"font-weight: bold\"> Name  </span>┃<span style=\"font-weight: bold\"> len </span>┃<span style=\"font-weight: bold\"> str               </span>┃<span style=\"font-weight: bold\"> repr                                           </span>┃<span style=\"font-weight: bold\"> value/data        </span>┃\n",
       "┡━━━━━━━╇━━━━━╇━━━━━━━━━━━━━━━━━━━╇━━━━━━━━━━━━━━━━━━━━━━━━━━━━━━━━━━━━━━━━━━━━━━━━╇━━━━━━━━━━━━━━━━━━━┩\n",
       "│ Byte  │ 1   │ b'\\x11'           │ Byte(data=b'\\x11', byte_order=b'@')            │ b'\\x11'           │\n",
       "│       │     │                   │                                                │ b'\\x11'           │\n",
       "│ Word  │ 2   │ b'\\x11\"'          │ Word(data=b'\\x11\"', byte_order=b'@')           │ b'\\x11\"'          │\n",
       "│       │     │                   │                                                │ b'\\x11\"'          │\n",
       "│ DWord │ 4   │ b'\\x11\"3D'        │ DWord(data=b'\\x11\"3D', byte_order=b'@')        │ b'\\x11\"3D'        │\n",
       "│       │     │                   │                                                │ b'\\x11\"3D'        │\n",
       "│ QWord │ 8   │ b'\\x11\"3DUfw\\x88' │ QWord(data=b'\\x11\"3DUfw\\x88', byte_order=b'@') │ b'\\x11\"3DUfw\\x88' │\n",
       "│       │     │                   │                                                │ b'\\x11\"3DUfw\\x88' │\n",
       "└───────┴─────┴───────────────────┴────────────────────────────────────────────────┴───────────────────┘\n",
       "</pre>\n"
      ],
      "text/plain": [
       "\u001b[3m                                           Generic Primitives                                           \u001b[0m\n",
       "┏━━━━━━━┳━━━━━┳━━━━━━━━━━━━━━━━━━━┳━━━━━━━━━━━━━━━━━━━━━━━━━━━━━━━━━━━━━━━━━━━━━━━━┳━━━━━━━━━━━━━━━━━━━┓\n",
       "┃\u001b[1m \u001b[0m\u001b[1mName \u001b[0m\u001b[1m \u001b[0m┃\u001b[1m \u001b[0m\u001b[1mlen\u001b[0m\u001b[1m \u001b[0m┃\u001b[1m \u001b[0m\u001b[1mstr              \u001b[0m\u001b[1m \u001b[0m┃\u001b[1m \u001b[0m\u001b[1mrepr                                          \u001b[0m\u001b[1m \u001b[0m┃\u001b[1m \u001b[0m\u001b[1mvalue/data       \u001b[0m\u001b[1m \u001b[0m┃\n",
       "┡━━━━━━━╇━━━━━╇━━━━━━━━━━━━━━━━━━━╇━━━━━━━━━━━━━━━━━━━━━━━━━━━━━━━━━━━━━━━━━━━━━━━━╇━━━━━━━━━━━━━━━━━━━┩\n",
       "│ Byte  │ 1   │ b'\\x11'           │ Byte(data=b'\\x11', byte_order=b'@')            │ b'\\x11'           │\n",
       "│       │     │                   │                                                │ b'\\x11'           │\n",
       "│ Word  │ 2   │ b'\\x11\"'          │ Word(data=b'\\x11\"', byte_order=b'@')           │ b'\\x11\"'          │\n",
       "│       │     │                   │                                                │ b'\\x11\"'          │\n",
       "│ DWord │ 4   │ b'\\x11\"3D'        │ DWord(data=b'\\x11\"3D', byte_order=b'@')        │ b'\\x11\"3D'        │\n",
       "│       │     │                   │                                                │ b'\\x11\"3D'        │\n",
       "│ QWord │ 8   │ b'\\x11\"3DUfw\\x88' │ QWord(data=b'\\x11\"3DUfw\\x88', byte_order=b'@') │ b'\\x11\"3DUfw\\x88' │\n",
       "│       │     │                   │                                                │ b'\\x11\"3DUfw\\x88' │\n",
       "└───────┴─────┴───────────────────┴────────────────────────────────────────────────┴───────────────────┘\n"
      ]
     },
     "metadata": {},
     "output_type": "display_data"
    }
   ],
   "source": [
    "table = Table(title=\"Generic Primitives\")\n",
    "\n",
    "table.add_column(\"Name\")\n",
    "table.add_column(\"len\")\n",
    "table.add_column(\"str\")\n",
    "table.add_column(\"repr\")\n",
    "table.add_column(\"value/data\")\n",
    "\n",
    "table.add_row(\"Byte\", str(len(byte)), str(byte), repr(byte), str(byte.value) + \"\\n\" + str(byte.data))\n",
    "table.add_row(\"Word\", str(len(word)), str(word), repr(word), str(word.value) + \"\\n\" + str(word.data))\n",
    "table.add_row(\"DWord\", str(len(dword)), str(dword), repr(dword), str(dword.value) + \"\\n\" + str(dword.data))\n",
    "table.add_row(\"QWord\", str(len(qword)), str(qword), repr(qword), str(qword.value) + \"\\n\" + str(qword.data))\n",
    "console = Console()\n",
    "console.print(table)"
   ]
  }
 ],
 "metadata": {
  "kernelspec": {
   "display_name": ".venv",
   "language": "python",
   "name": "python3"
  },
  "language_info": {
   "codemirror_mode": {
    "name": "ipython",
    "version": 3
   },
   "file_extension": ".py",
   "mimetype": "text/x-python",
   "name": "python",
   "nbconvert_exporter": "python",
   "pygments_lexer": "ipython3",
   "version": "3.11.9"
  }
 },
 "nbformat": 4,
 "nbformat_minor": 2
}
