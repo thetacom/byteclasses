{
 "cells": [
  {
   "cell_type": "markdown",
   "metadata": {},
   "source": [
    "# Windows Executable Header and Data Handler"
   ]
  },
  {
   "cell_type": "code",
   "execution_count": 1,
   "metadata": {
    "execution": {
     "iopub.execute_input": "2024-04-29T21:12:00.416569Z",
     "iopub.status.busy": "2024-04-29T21:12:00.415986Z",
     "iopub.status.idle": "2024-04-29T21:12:00.514633Z",
     "shell.execute_reply": "2024-04-29T21:12:00.514065Z"
    }
   },
   "outputs": [],
   "source": [
    "from byteclasses.handlers.executables.pe import DOSHdr, NTHdr32\n",
    "from byteclasses.print import byteclass_info, byteclass_inspect"
   ]
  },
  {
   "cell_type": "code",
   "execution_count": 2,
   "metadata": {
    "execution": {
     "iopub.execute_input": "2024-04-29T21:12:00.517046Z",
     "iopub.status.busy": "2024-04-29T21:12:00.516678Z",
     "iopub.status.idle": "2024-04-29T21:12:00.520473Z",
     "shell.execute_reply": "2024-04-29T21:12:00.519993Z"
    }
   },
   "outputs": [],
   "source": [
    "with open(\"../../../tests/data/hello_world.pe\", \"rb\") as file:\n",
    "    data = file.read()\n",
    "dos_hdr = DOSHdr()\n",
    "dos_hdr.attach(memoryview(data))"
   ]
  },
  {
   "cell_type": "code",
   "execution_count": 3,
   "metadata": {
    "execution": {
     "iopub.execute_input": "2024-04-29T21:12:00.522711Z",
     "iopub.status.busy": "2024-04-29T21:12:00.522363Z",
     "iopub.status.idle": "2024-04-29T21:12:00.540414Z",
     "shell.execute_reply": "2024-04-29T21:12:00.539763Z"
    }
   },
   "outputs": [
    {
     "data": {
      "text/html": [
       "<pre style=\"white-space:pre;overflow-x:auto;line-height:normal;font-family:Menlo,'DejaVu Sans Mono',consolas,'Courier New',monospace\"><span style=\"font-style: italic\">                                                  Byteclass Info                                                   </span>\n",
       "┏━━━━━━━━━━━━━━━━━━━━━━━━━━┳━━━━━━━━━━━━━━━━━━━━━━━━━━━━━━━━━━━━━━━━━━━━━━━━━━━━━━━━━━━━━━━━━━━━━━━━━━━━━━━━━━━━━━┓\n",
       "┃<span style=\"font-weight: bold\"> Property                 </span>┃<span style=\"font-weight: bold\"> Value                                                                                </span>┃\n",
       "┡━━━━━━━━━━━━━━━━━━━━━━━━━━╇━━━━━━━━━━━━━━━━━━━━━━━━━━━━━━━━━━━━━━━━━━━━━━━━━━━━━━━━━━━━━━━━━━━━━━━━━━━━━━━━━━━━━━┩\n",
       "│<span style=\"color: #808080; text-decoration-color: #808080\"> </span><span style=\"color: #808080; text-decoration-color: #808080; font-weight: bold\">type()                  </span><span style=\"color: #808080; text-decoration-color: #808080\"> </span>│<span style=\"color: #808080; text-decoration-color: #808080\"> DOSHdr                                                                               </span>│\n",
       "│<span style=\"color: #ff0000; text-decoration-color: #ff0000\"> </span><span style=\"color: #ff0000; text-decoration-color: #ff0000; font-weight: bold\">is_byteclass()          </span><span style=\"color: #ff0000; text-decoration-color: #ff0000\"> </span>│<span style=\"color: #ff0000; text-decoration-color: #ff0000\"> True                                                                                 </span>│\n",
       "│<span style=\"color: #00ff00; text-decoration-color: #00ff00\"> </span><span style=\"color: #00ff00; text-decoration-color: #00ff00; font-weight: bold\">is_collection_instance()</span><span style=\"color: #00ff00; text-decoration-color: #00ff00\"> </span>│<span style=\"color: #00ff00; text-decoration-color: #00ff00\"> True                                                                                 </span>│\n",
       "│<span style=\"color: #ffff00; text-decoration-color: #ffff00\"> </span><span style=\"color: #ffff00; text-decoration-color: #ffff00; font-weight: bold\">is_primitive_instance() </span><span style=\"color: #ffff00; text-decoration-color: #ffff00\"> </span>│<span style=\"color: #ffff00; text-decoration-color: #ffff00\"> False                                                                                </span>│\n",
       "│<span style=\"color: #0000ff; text-decoration-color: #0000ff\"> </span><span style=\"color: #0000ff; text-decoration-color: #0000ff; font-weight: bold\">mro                     </span><span style=\"color: #0000ff; text-decoration-color: #0000ff\"> </span>│<span style=\"color: #0000ff; text-decoration-color: #0000ff\"> DOSHdr -&gt; object                                                                     </span>│\n",
       "│<span style=\"color: #ff00ff; text-decoration-color: #ff00ff\"> </span><span style=\"color: #ff00ff; text-decoration-color: #ff00ff; font-weight: bold\">len()                   </span><span style=\"color: #ff00ff; text-decoration-color: #ff00ff\"> </span>│<span style=\"color: #ff00ff; text-decoration-color: #ff00ff\"> 64                                                                                   </span>│\n",
       "│<span style=\"color: #00ffff; text-decoration-color: #00ffff\"> </span><span style=\"color: #00ffff; text-decoration-color: #00ffff; font-weight: bold\">str()                   </span><span style=\"color: #00ffff; text-decoration-color: #00ffff\"> </span>│<span style=\"color: #00ffff; text-decoration-color: #00ffff\"> DOSHdr(e_magic=Word(data=b'MZ', byte_order=b'@'), e_cblp=UInt16(144),                </span>│\n",
       "│<span style=\"color: #00ffff; text-decoration-color: #00ffff\">                          </span>│<span style=\"color: #00ffff; text-decoration-color: #00ffff\"> e_cp=UInt16(3), e_crlc=UInt16(0), e_cparhdr=UInt16(4), e_minalloc=UInt16(0),         </span>│\n",
       "│<span style=\"color: #00ffff; text-decoration-color: #00ffff\">                          </span>│<span style=\"color: #00ffff; text-decoration-color: #00ffff\"> e_maxalloc=UInt16(65535), e_ss=UInt16(0), e_sp=UInt16(184), e_csum=UInt16(0),        </span>│\n",
       "│<span style=\"color: #00ffff; text-decoration-color: #00ffff\">                          </span>│<span style=\"color: #00ffff; text-decoration-color: #00ffff\"> e_ip=UInt16(0), e_cs=UInt16(0), e_lfarlc=UInt16(64), e_ovno=UInt16(0),               </span>│\n",
       "│<span style=\"color: #00ffff; text-decoration-color: #00ffff\">                          </span>│<span style=\"color: #00ffff; text-decoration-color: #00ffff\"> e_res=ByteArray(4, UInt16), e_oemid=UInt16(0), e_oeminfo=UInt16(0),                  </span>│\n",
       "│<span style=\"color: #00ffff; text-decoration-color: #00ffff\">                          </span>│<span style=\"color: #00ffff; text-decoration-color: #00ffff\"> e_res2=ByteArray(10, UInt16), e_lfanew=Ptr32(0xe8))                                  </span>│\n",
       "│<span style=\"color: #808080; text-decoration-color: #808080\"> </span><span style=\"color: #808080; text-decoration-color: #808080; font-weight: bold\">repr()                  </span><span style=\"color: #808080; text-decoration-color: #808080\"> </span>│<span style=\"color: #808080; text-decoration-color: #808080\"> DOSHdr(byte_order=b'@',data=bytearray(b'MZ\\x90\\x00\\x03\\x00\\x00\\x00\\x04\\x00\\x00\\x00\\… </span>│\n",
       "│<span style=\"color: #ff0000; text-decoration-color: #ff0000\"> </span><span style=\"color: #ff0000; text-decoration-color: #ff0000; font-weight: bold\">.data                   </span><span style=\"color: #ff0000; text-decoration-color: #ff0000\"> </span>│<span style=\"color: #ff0000; text-decoration-color: #ff0000\"> bytearray(b'MZ\\x90\\x00\\x03\\x00\\x00\\x00\\x04\\x00\\x00\\x00\\xff\\xff\\x00\\x00\\xb8\\x00\\x00\\… </span>│\n",
       "└──────────────────────────┴──────────────────────────────────────────────────────────────────────────────────────┘\n",
       "</pre>\n"
      ],
      "text/plain": [
       "\u001b[3m                                                  Byteclass Info                                                   \u001b[0m\n",
       "┏━━━━━━━━━━━━━━━━━━━━━━━━━━┳━━━━━━━━━━━━━━━━━━━━━━━━━━━━━━━━━━━━━━━━━━━━━━━━━━━━━━━━━━━━━━━━━━━━━━━━━━━━━━━━━━━━━━┓\n",
       "┃\u001b[1m \u001b[0m\u001b[1mProperty                \u001b[0m\u001b[1m \u001b[0m┃\u001b[1m \u001b[0m\u001b[1mValue                                                                               \u001b[0m\u001b[1m \u001b[0m┃\n",
       "┡━━━━━━━━━━━━━━━━━━━━━━━━━━╇━━━━━━━━━━━━━━━━━━━━━━━━━━━━━━━━━━━━━━━━━━━━━━━━━━━━━━━━━━━━━━━━━━━━━━━━━━━━━━━━━━━━━━┩\n",
       "│\u001b[90m \u001b[0m\u001b[1;90mtype()                  \u001b[0m\u001b[90m \u001b[0m│\u001b[90m \u001b[0m\u001b[90mDOSHdr                                                                              \u001b[0m\u001b[90m \u001b[0m│\n",
       "│\u001b[91m \u001b[0m\u001b[1;91mis_byteclass()          \u001b[0m\u001b[91m \u001b[0m│\u001b[91m \u001b[0m\u001b[91mTrue                                                                                \u001b[0m\u001b[91m \u001b[0m│\n",
       "│\u001b[92m \u001b[0m\u001b[1;92mis_collection_instance()\u001b[0m\u001b[92m \u001b[0m│\u001b[92m \u001b[0m\u001b[92mTrue                                                                                \u001b[0m\u001b[92m \u001b[0m│\n",
       "│\u001b[93m \u001b[0m\u001b[1;93mis_primitive_instance() \u001b[0m\u001b[93m \u001b[0m│\u001b[93m \u001b[0m\u001b[93mFalse                                                                               \u001b[0m\u001b[93m \u001b[0m│\n",
       "│\u001b[94m \u001b[0m\u001b[1;94mmro                     \u001b[0m\u001b[94m \u001b[0m│\u001b[94m \u001b[0m\u001b[94mDOSHdr -> object                                                                    \u001b[0m\u001b[94m \u001b[0m│\n",
       "│\u001b[95m \u001b[0m\u001b[1;95mlen()                   \u001b[0m\u001b[95m \u001b[0m│\u001b[95m \u001b[0m\u001b[95m64                                                                                  \u001b[0m\u001b[95m \u001b[0m│\n",
       "│\u001b[96m \u001b[0m\u001b[1;96mstr()                   \u001b[0m\u001b[96m \u001b[0m│\u001b[96m \u001b[0m\u001b[96mDOSHdr(e_magic=Word(data=b'MZ', byte_order=b'@'), e_cblp=UInt16(144),               \u001b[0m\u001b[96m \u001b[0m│\n",
       "│\u001b[96m                          \u001b[0m│\u001b[96m \u001b[0m\u001b[96me_cp=UInt16(3), e_crlc=UInt16(0), e_cparhdr=UInt16(4), e_minalloc=UInt16(0),        \u001b[0m\u001b[96m \u001b[0m│\n",
       "│\u001b[96m                          \u001b[0m│\u001b[96m \u001b[0m\u001b[96me_maxalloc=UInt16(65535), e_ss=UInt16(0), e_sp=UInt16(184), e_csum=UInt16(0),       \u001b[0m\u001b[96m \u001b[0m│\n",
       "│\u001b[96m                          \u001b[0m│\u001b[96m \u001b[0m\u001b[96me_ip=UInt16(0), e_cs=UInt16(0), e_lfarlc=UInt16(64), e_ovno=UInt16(0),              \u001b[0m\u001b[96m \u001b[0m│\n",
       "│\u001b[96m                          \u001b[0m│\u001b[96m \u001b[0m\u001b[96me_res=ByteArray(4, UInt16), e_oemid=UInt16(0), e_oeminfo=UInt16(0),                 \u001b[0m\u001b[96m \u001b[0m│\n",
       "│\u001b[96m                          \u001b[0m│\u001b[96m \u001b[0m\u001b[96me_res2=ByteArray(10, UInt16), e_lfanew=Ptr32(0xe8))                                 \u001b[0m\u001b[96m \u001b[0m│\n",
       "│\u001b[90m \u001b[0m\u001b[1;90mrepr()                  \u001b[0m\u001b[90m \u001b[0m│\u001b[90m \u001b[0m\u001b[90mDOSHdr(byte_order=b'@',data=bytearray(b'MZ\\x90\\x00\\x03\\x00\\x00\\x00\\x04\\x00\\x00\\x00\\…\u001b[0m\u001b[90m \u001b[0m│\n",
       "│\u001b[91m \u001b[0m\u001b[1;91m.data                   \u001b[0m\u001b[91m \u001b[0m│\u001b[91m \u001b[0m\u001b[91mbytearray(b'MZ\\x90\\x00\\x03\\x00\\x00\\x00\\x04\\x00\\x00\\x00\\xff\\xff\\x00\\x00\\xb8\\x00\\x00\\…\u001b[0m\u001b[91m \u001b[0m│\n",
       "└──────────────────────────┴──────────────────────────────────────────────────────────────────────────────────────┘\n"
      ]
     },
     "metadata": {},
     "output_type": "display_data"
    }
   ],
   "source": [
    "byteclass_info(dos_hdr)"
   ]
  },
  {
   "cell_type": "code",
   "execution_count": 4,
   "metadata": {
    "execution": {
     "iopub.execute_input": "2024-04-29T21:12:00.542755Z",
     "iopub.status.busy": "2024-04-29T21:12:00.542408Z",
     "iopub.status.idle": "2024-04-29T21:12:00.556183Z",
     "shell.execute_reply": "2024-04-29T21:12:00.555552Z"
    }
   },
   "outputs": [
    {
     "data": {
      "text/html": [
       "<pre style=\"white-space:pre;overflow-x:auto;line-height:normal;font-family:Menlo,'DejaVu Sans Mono',consolas,'Courier New',monospace\">╭────────────────── Byteclass Inspect ──────────────────╮\n",
       "│       00 01 02 03 04 05 06 07 08 09 0a 0b 0c 0d 0e 0f │\n",
       "│ ----------------------------------------------------- │\n",
       "│ 0x0  <span style=\"color: #c0c0c0; text-decoration-color: #c0c0c0\">|</span><span style=\"color: #808080; text-decoration-color: #808080\">4d 5a</span><span style=\"color: #c0c0c0; text-decoration-color: #c0c0c0\">|</span><span style=\"color: #ff0000; text-decoration-color: #ff0000\">90 00</span><span style=\"color: #c0c0c0; text-decoration-color: #c0c0c0\">|</span><span style=\"color: #00ff00; text-decoration-color: #00ff00\">03 00</span><span style=\"color: #c0c0c0; text-decoration-color: #c0c0c0\">|</span><span style=\"color: #ffff00; text-decoration-color: #ffff00\">00 00</span><span style=\"color: #c0c0c0; text-decoration-color: #c0c0c0\">|</span><span style=\"color: #0000ff; text-decoration-color: #0000ff\">04 00</span><span style=\"color: #c0c0c0; text-decoration-color: #c0c0c0\">|</span><span style=\"color: #ff00ff; text-decoration-color: #ff00ff\">00 00</span><span style=\"color: #c0c0c0; text-decoration-color: #c0c0c0\">|</span><span style=\"color: #00ffff; text-decoration-color: #00ffff\">ff ff</span><span style=\"color: #c0c0c0; text-decoration-color: #c0c0c0\">|</span><span style=\"color: #808080; text-decoration-color: #808080\">00 00</span> │\n",
       "│ 0x10 <span style=\"color: #c0c0c0; text-decoration-color: #c0c0c0\">|</span><span style=\"color: #ff0000; text-decoration-color: #ff0000\">b8 00</span><span style=\"color: #c0c0c0; text-decoration-color: #c0c0c0\">|</span><span style=\"color: #00ff00; text-decoration-color: #00ff00\">00 00</span><span style=\"color: #c0c0c0; text-decoration-color: #c0c0c0\">|</span><span style=\"color: #ffff00; text-decoration-color: #ffff00\">00 00</span><span style=\"color: #c0c0c0; text-decoration-color: #c0c0c0\">|</span><span style=\"color: #0000ff; text-decoration-color: #0000ff\">00 00</span><span style=\"color: #c0c0c0; text-decoration-color: #c0c0c0\">|</span><span style=\"color: #ff00ff; text-decoration-color: #ff00ff\">40 00</span><span style=\"color: #c0c0c0; text-decoration-color: #c0c0c0\">|</span><span style=\"color: #00ffff; text-decoration-color: #00ffff\">00 00</span><span style=\"color: #c0c0c0; text-decoration-color: #c0c0c0\">|</span><span style=\"color: #808080; text-decoration-color: #808080\">00 00 00 00</span> │\n",
       "│ 0x20 <span style=\"color: #808080; text-decoration-color: #808080\">00 00 00 00</span><span style=\"color: #c0c0c0; text-decoration-color: #c0c0c0\">|</span><span style=\"color: #ff0000; text-decoration-color: #ff0000\">00 00</span><span style=\"color: #c0c0c0; text-decoration-color: #c0c0c0\">|</span><span style=\"color: #00ff00; text-decoration-color: #00ff00\">00 00</span><span style=\"color: #c0c0c0; text-decoration-color: #c0c0c0\">|</span><span style=\"color: #ffff00; text-decoration-color: #ffff00\">00 00 00 00 00 00 00 00</span>  │\n",
       "│ 0x30 <span style=\"color: #ffff00; text-decoration-color: #ffff00\">00 00 00 00 00 00 00 00 00 00 00 00</span><span style=\"color: #c0c0c0; text-decoration-color: #c0c0c0\">|</span><span style=\"color: #0000ff; text-decoration-color: #0000ff\">e8 00 00 00</span>  │\n",
       "│ 0x40                                                  │\n",
       "╰───────────────────────────────────────────────────────╯\n",
       "</pre>\n"
      ],
      "text/plain": [
       "╭────────────────── Byteclass Inspect ──────────────────╮\n",
       "│       00 01 02 03 04 05 06 07 08 09 0a 0b 0c 0d 0e 0f │\n",
       "│ ----------------------------------------------------- │\n",
       "│ 0x0  \u001b[37m|\u001b[0m\u001b[90m4d 5a\u001b[0m\u001b[37m|\u001b[0m\u001b[91m90 00\u001b[0m\u001b[37m|\u001b[0m\u001b[92m03 00\u001b[0m\u001b[37m|\u001b[0m\u001b[93m00 00\u001b[0m\u001b[37m|\u001b[0m\u001b[94m04 00\u001b[0m\u001b[37m|\u001b[0m\u001b[95m00 00\u001b[0m\u001b[37m|\u001b[0m\u001b[96mff ff\u001b[0m\u001b[37m|\u001b[0m\u001b[90m00 00\u001b[0m │\n",
       "│ 0x10 \u001b[37m|\u001b[0m\u001b[91mb8 00\u001b[0m\u001b[37m|\u001b[0m\u001b[92m00 00\u001b[0m\u001b[37m|\u001b[0m\u001b[93m00 00\u001b[0m\u001b[37m|\u001b[0m\u001b[94m00 00\u001b[0m\u001b[37m|\u001b[0m\u001b[95m40 00\u001b[0m\u001b[37m|\u001b[0m\u001b[96m00 00\u001b[0m\u001b[37m|\u001b[0m\u001b[90m00 00 00 00\u001b[0m │\n",
       "│ 0x20 \u001b[90m00 00 00 00\u001b[0m\u001b[37m|\u001b[0m\u001b[91m00 00\u001b[0m\u001b[37m|\u001b[0m\u001b[92m00 00\u001b[0m\u001b[37m|\u001b[0m\u001b[93m00 00 00 00 00 00 00 00\u001b[0m  │\n",
       "│ 0x30 \u001b[93m00 00 00 00 00 00 00 00 00 00 00 00\u001b[0m\u001b[37m|\u001b[0m\u001b[94me8 00 00 00\u001b[0m  │\n",
       "│ 0x40                                                  │\n",
       "╰───────────────────────────────────────────────────────╯\n"
      ]
     },
     "metadata": {},
     "output_type": "display_data"
    },
    {
     "data": {
      "text/html": [
       "<pre style=\"white-space:pre;overflow-x:auto;line-height:normal;font-family:Menlo,'DejaVu Sans Mono',consolas,'Courier New',monospace\"><span style=\"font-style: italic\">                                                      Legend                                                       </span>\n",
       "┏━━━━━━━━━━━━┳━━━━━━━━━━━━━━━━━━━━━━━━━━━━━━━━━━━━━━━━━━━━━━━━━━━━━━━━━━━━━━━━━━━━━━━━━━━━━━━━━━━━━━━━━━━━━━━━━━━━┓\n",
       "┃<span style=\"font-weight: bold\"> Member     </span>┃<span style=\"font-weight: bold\"> Value                                                                                              </span>┃\n",
       "┡━━━━━━━━━━━━╇━━━━━━━━━━━━━━━━━━━━━━━━━━━━━━━━━━━━━━━━━━━━━━━━━━━━━━━━━━━━━━━━━━━━━━━━━━━━━━━━━━━━━━━━━━━━━━━━━━━━┩\n",
       "│<span style=\"color: #808080; text-decoration-color: #808080\"> </span><span style=\"color: #808080; text-decoration-color: #808080; font-weight: bold\">e_magic   </span><span style=\"color: #808080; text-decoration-color: #808080\"> </span>│<span style=\"color: #808080; text-decoration-color: #808080\"> b'MZ'                                                                                              </span>│\n",
       "│<span style=\"color: #ff0000; text-decoration-color: #ff0000\"> </span><span style=\"color: #ff0000; text-decoration-color: #ff0000; font-weight: bold\">e_cblp    </span><span style=\"color: #ff0000; text-decoration-color: #ff0000\"> </span>│<span style=\"color: #ff0000; text-decoration-color: #ff0000\"> 144                                                                                                </span>│\n",
       "│<span style=\"color: #00ff00; text-decoration-color: #00ff00\"> </span><span style=\"color: #00ff00; text-decoration-color: #00ff00; font-weight: bold\">e_cp      </span><span style=\"color: #00ff00; text-decoration-color: #00ff00\"> </span>│<span style=\"color: #00ff00; text-decoration-color: #00ff00\"> 3                                                                                                  </span>│\n",
       "│<span style=\"color: #ffff00; text-decoration-color: #ffff00\"> </span><span style=\"color: #ffff00; text-decoration-color: #ffff00; font-weight: bold\">e_crlc    </span><span style=\"color: #ffff00; text-decoration-color: #ffff00\"> </span>│<span style=\"color: #ffff00; text-decoration-color: #ffff00\"> 0                                                                                                  </span>│\n",
       "│<span style=\"color: #0000ff; text-decoration-color: #0000ff\"> </span><span style=\"color: #0000ff; text-decoration-color: #0000ff; font-weight: bold\">e_cparhdr </span><span style=\"color: #0000ff; text-decoration-color: #0000ff\"> </span>│<span style=\"color: #0000ff; text-decoration-color: #0000ff\"> 4                                                                                                  </span>│\n",
       "│<span style=\"color: #ff00ff; text-decoration-color: #ff00ff\"> </span><span style=\"color: #ff00ff; text-decoration-color: #ff00ff; font-weight: bold\">e_minalloc</span><span style=\"color: #ff00ff; text-decoration-color: #ff00ff\"> </span>│<span style=\"color: #ff00ff; text-decoration-color: #ff00ff\"> 0                                                                                                  </span>│\n",
       "│<span style=\"color: #00ffff; text-decoration-color: #00ffff\"> </span><span style=\"color: #00ffff; text-decoration-color: #00ffff; font-weight: bold\">e_maxalloc</span><span style=\"color: #00ffff; text-decoration-color: #00ffff\"> </span>│<span style=\"color: #00ffff; text-decoration-color: #00ffff\"> 65535                                                                                              </span>│\n",
       "│<span style=\"color: #808080; text-decoration-color: #808080\"> </span><span style=\"color: #808080; text-decoration-color: #808080; font-weight: bold\">e_ss      </span><span style=\"color: #808080; text-decoration-color: #808080\"> </span>│<span style=\"color: #808080; text-decoration-color: #808080\"> 0                                                                                                  </span>│\n",
       "│<span style=\"color: #ff0000; text-decoration-color: #ff0000\"> </span><span style=\"color: #ff0000; text-decoration-color: #ff0000; font-weight: bold\">e_sp      </span><span style=\"color: #ff0000; text-decoration-color: #ff0000\"> </span>│<span style=\"color: #ff0000; text-decoration-color: #ff0000\"> 184                                                                                                </span>│\n",
       "│<span style=\"color: #00ff00; text-decoration-color: #00ff00\"> </span><span style=\"color: #00ff00; text-decoration-color: #00ff00; font-weight: bold\">e_csum    </span><span style=\"color: #00ff00; text-decoration-color: #00ff00\"> </span>│<span style=\"color: #00ff00; text-decoration-color: #00ff00\"> 0                                                                                                  </span>│\n",
       "│<span style=\"color: #ffff00; text-decoration-color: #ffff00\"> </span><span style=\"color: #ffff00; text-decoration-color: #ffff00; font-weight: bold\">e_ip      </span><span style=\"color: #ffff00; text-decoration-color: #ffff00\"> </span>│<span style=\"color: #ffff00; text-decoration-color: #ffff00\"> 0                                                                                                  </span>│\n",
       "│<span style=\"color: #0000ff; text-decoration-color: #0000ff\"> </span><span style=\"color: #0000ff; text-decoration-color: #0000ff; font-weight: bold\">e_cs      </span><span style=\"color: #0000ff; text-decoration-color: #0000ff\"> </span>│<span style=\"color: #0000ff; text-decoration-color: #0000ff\"> 0                                                                                                  </span>│\n",
       "│<span style=\"color: #ff00ff; text-decoration-color: #ff00ff\"> </span><span style=\"color: #ff00ff; text-decoration-color: #ff00ff; font-weight: bold\">e_lfarlc  </span><span style=\"color: #ff00ff; text-decoration-color: #ff00ff\"> </span>│<span style=\"color: #ff00ff; text-decoration-color: #ff00ff\"> 64                                                                                                 </span>│\n",
       "│<span style=\"color: #00ffff; text-decoration-color: #00ffff\"> </span><span style=\"color: #00ffff; text-decoration-color: #00ffff; font-weight: bold\">e_ovno    </span><span style=\"color: #00ffff; text-decoration-color: #00ffff\"> </span>│<span style=\"color: #00ffff; text-decoration-color: #00ffff\"> 0                                                                                                  </span>│\n",
       "│<span style=\"color: #808080; text-decoration-color: #808080\"> </span><span style=\"color: #808080; text-decoration-color: #808080; font-weight: bold\">e_res     </span><span style=\"color: #808080; text-decoration-color: #808080\"> </span>│<span style=\"color: #808080; text-decoration-color: #808080\"> (UInt16(0), UInt16(0), UInt16(0), UInt16(0))                                                       </span>│\n",
       "│<span style=\"color: #ff0000; text-decoration-color: #ff0000\"> </span><span style=\"color: #ff0000; text-decoration-color: #ff0000; font-weight: bold\">e_oemid   </span><span style=\"color: #ff0000; text-decoration-color: #ff0000\"> </span>│<span style=\"color: #ff0000; text-decoration-color: #ff0000\"> 0                                                                                                  </span>│\n",
       "│<span style=\"color: #00ff00; text-decoration-color: #00ff00\"> </span><span style=\"color: #00ff00; text-decoration-color: #00ff00; font-weight: bold\">e_oeminfo </span><span style=\"color: #00ff00; text-decoration-color: #00ff00\"> </span>│<span style=\"color: #00ff00; text-decoration-color: #00ff00\"> 0                                                                                                  </span>│\n",
       "│<span style=\"color: #ffff00; text-decoration-color: #ffff00\"> </span><span style=\"color: #ffff00; text-decoration-color: #ffff00; font-weight: bold\">e_res2    </span><span style=\"color: #ffff00; text-decoration-color: #ffff00\"> </span>│<span style=\"color: #ffff00; text-decoration-color: #ffff00\"> (UInt16(0), UInt16(0), UInt16(0), UInt16(0), UInt16(0), UInt16(0), UInt16(0), UInt16(0),           </span>│\n",
       "│<span style=\"color: #ffff00; text-decoration-color: #ffff00\">            </span>│<span style=\"color: #ffff00; text-decoration-color: #ffff00\"> UInt16(0), UInt16(0))                                                                              </span>│\n",
       "│<span style=\"color: #0000ff; text-decoration-color: #0000ff\"> </span><span style=\"color: #0000ff; text-decoration-color: #0000ff; font-weight: bold\">e_lfanew  </span><span style=\"color: #0000ff; text-decoration-color: #0000ff\"> </span>│<span style=\"color: #0000ff; text-decoration-color: #0000ff\"> 0x000000e8                                                                                         </span>│\n",
       "└────────────┴────────────────────────────────────────────────────────────────────────────────────────────────────┘\n",
       "</pre>\n"
      ],
      "text/plain": [
       "\u001b[3m                                                      Legend                                                       \u001b[0m\n",
       "┏━━━━━━━━━━━━┳━━━━━━━━━━━━━━━━━━━━━━━━━━━━━━━━━━━━━━━━━━━━━━━━━━━━━━━━━━━━━━━━━━━━━━━━━━━━━━━━━━━━━━━━━━━━━━━━━━━━┓\n",
       "┃\u001b[1m \u001b[0m\u001b[1mMember    \u001b[0m\u001b[1m \u001b[0m┃\u001b[1m \u001b[0m\u001b[1mValue                                                                                             \u001b[0m\u001b[1m \u001b[0m┃\n",
       "┡━━━━━━━━━━━━╇━━━━━━━━━━━━━━━━━━━━━━━━━━━━━━━━━━━━━━━━━━━━━━━━━━━━━━━━━━━━━━━━━━━━━━━━━━━━━━━━━━━━━━━━━━━━━━━━━━━━┩\n",
       "│\u001b[90m \u001b[0m\u001b[1;90me_magic   \u001b[0m\u001b[90m \u001b[0m│\u001b[90m \u001b[0m\u001b[90mb'MZ'                                                                                             \u001b[0m\u001b[90m \u001b[0m│\n",
       "│\u001b[91m \u001b[0m\u001b[1;91me_cblp    \u001b[0m\u001b[91m \u001b[0m│\u001b[91m \u001b[0m\u001b[91m144                                                                                               \u001b[0m\u001b[91m \u001b[0m│\n",
       "│\u001b[92m \u001b[0m\u001b[1;92me_cp      \u001b[0m\u001b[92m \u001b[0m│\u001b[92m \u001b[0m\u001b[92m3                                                                                                 \u001b[0m\u001b[92m \u001b[0m│\n",
       "│\u001b[93m \u001b[0m\u001b[1;93me_crlc    \u001b[0m\u001b[93m \u001b[0m│\u001b[93m \u001b[0m\u001b[93m0                                                                                                 \u001b[0m\u001b[93m \u001b[0m│\n",
       "│\u001b[94m \u001b[0m\u001b[1;94me_cparhdr \u001b[0m\u001b[94m \u001b[0m│\u001b[94m \u001b[0m\u001b[94m4                                                                                                 \u001b[0m\u001b[94m \u001b[0m│\n",
       "│\u001b[95m \u001b[0m\u001b[1;95me_minalloc\u001b[0m\u001b[95m \u001b[0m│\u001b[95m \u001b[0m\u001b[95m0                                                                                                 \u001b[0m\u001b[95m \u001b[0m│\n",
       "│\u001b[96m \u001b[0m\u001b[1;96me_maxalloc\u001b[0m\u001b[96m \u001b[0m│\u001b[96m \u001b[0m\u001b[96m65535                                                                                             \u001b[0m\u001b[96m \u001b[0m│\n",
       "│\u001b[90m \u001b[0m\u001b[1;90me_ss      \u001b[0m\u001b[90m \u001b[0m│\u001b[90m \u001b[0m\u001b[90m0                                                                                                 \u001b[0m\u001b[90m \u001b[0m│\n",
       "│\u001b[91m \u001b[0m\u001b[1;91me_sp      \u001b[0m\u001b[91m \u001b[0m│\u001b[91m \u001b[0m\u001b[91m184                                                                                               \u001b[0m\u001b[91m \u001b[0m│\n",
       "│\u001b[92m \u001b[0m\u001b[1;92me_csum    \u001b[0m\u001b[92m \u001b[0m│\u001b[92m \u001b[0m\u001b[92m0                                                                                                 \u001b[0m\u001b[92m \u001b[0m│\n",
       "│\u001b[93m \u001b[0m\u001b[1;93me_ip      \u001b[0m\u001b[93m \u001b[0m│\u001b[93m \u001b[0m\u001b[93m0                                                                                                 \u001b[0m\u001b[93m \u001b[0m│\n",
       "│\u001b[94m \u001b[0m\u001b[1;94me_cs      \u001b[0m\u001b[94m \u001b[0m│\u001b[94m \u001b[0m\u001b[94m0                                                                                                 \u001b[0m\u001b[94m \u001b[0m│\n",
       "│\u001b[95m \u001b[0m\u001b[1;95me_lfarlc  \u001b[0m\u001b[95m \u001b[0m│\u001b[95m \u001b[0m\u001b[95m64                                                                                                \u001b[0m\u001b[95m \u001b[0m│\n",
       "│\u001b[96m \u001b[0m\u001b[1;96me_ovno    \u001b[0m\u001b[96m \u001b[0m│\u001b[96m \u001b[0m\u001b[96m0                                                                                                 \u001b[0m\u001b[96m \u001b[0m│\n",
       "│\u001b[90m \u001b[0m\u001b[1;90me_res     \u001b[0m\u001b[90m \u001b[0m│\u001b[90m \u001b[0m\u001b[90m(UInt16(0), UInt16(0), UInt16(0), UInt16(0))                                                      \u001b[0m\u001b[90m \u001b[0m│\n",
       "│\u001b[91m \u001b[0m\u001b[1;91me_oemid   \u001b[0m\u001b[91m \u001b[0m│\u001b[91m \u001b[0m\u001b[91m0                                                                                                 \u001b[0m\u001b[91m \u001b[0m│\n",
       "│\u001b[92m \u001b[0m\u001b[1;92me_oeminfo \u001b[0m\u001b[92m \u001b[0m│\u001b[92m \u001b[0m\u001b[92m0                                                                                                 \u001b[0m\u001b[92m \u001b[0m│\n",
       "│\u001b[93m \u001b[0m\u001b[1;93me_res2    \u001b[0m\u001b[93m \u001b[0m│\u001b[93m \u001b[0m\u001b[93m(UInt16(0), UInt16(0), UInt16(0), UInt16(0), UInt16(0), UInt16(0), UInt16(0), UInt16(0),          \u001b[0m\u001b[93m \u001b[0m│\n",
       "│\u001b[93m            \u001b[0m│\u001b[93m \u001b[0m\u001b[93mUInt16(0), UInt16(0))                                                                             \u001b[0m\u001b[93m \u001b[0m│\n",
       "│\u001b[94m \u001b[0m\u001b[1;94me_lfanew  \u001b[0m\u001b[94m \u001b[0m│\u001b[94m \u001b[0m\u001b[94m0x000000e8                                                                                        \u001b[0m\u001b[94m \u001b[0m│\n",
       "└────────────┴────────────────────────────────────────────────────────────────────────────────────────────────────┘\n"
      ]
     },
     "metadata": {},
     "output_type": "display_data"
    }
   ],
   "source": [
    "byteclass_inspect(dos_hdr)"
   ]
  },
  {
   "cell_type": "code",
   "execution_count": 5,
   "metadata": {
    "execution": {
     "iopub.execute_input": "2024-04-29T21:12:00.558651Z",
     "iopub.status.busy": "2024-04-29T21:12:00.558280Z",
     "iopub.status.idle": "2024-04-29T21:12:00.562260Z",
     "shell.execute_reply": "2024-04-29T21:12:00.561592Z"
    }
   },
   "outputs": [],
   "source": [
    "nt32_hdr = NTHdr32()\n",
    "nt32_hdr.attach(data[dos_hdr.e_lfanew.value :])"
   ]
  },
  {
   "cell_type": "code",
   "execution_count": 6,
   "metadata": {
    "execution": {
     "iopub.execute_input": "2024-04-29T21:12:00.564400Z",
     "iopub.status.busy": "2024-04-29T21:12:00.564205Z",
     "iopub.status.idle": "2024-04-29T21:12:00.574448Z",
     "shell.execute_reply": "2024-04-29T21:12:00.573770Z"
    }
   },
   "outputs": [
    {
     "data": {
      "text/html": [
       "<pre style=\"white-space:pre;overflow-x:auto;line-height:normal;font-family:Menlo,'DejaVu Sans Mono',consolas,'Courier New',monospace\"><span style=\"font-style: italic\">                                                  Byteclass Info                                                   </span>\n",
       "┏━━━━━━━━━━━━━━━━━━━━━━━━━━┳━━━━━━━━━━━━━━━━━━━━━━━━━━━━━━━━━━━━━━━━━━━━━━━━━━━━━━━━━━━━━━━━━━━━━━━━━━━━━━━━━━━━━━┓\n",
       "┃<span style=\"font-weight: bold\"> Property                 </span>┃<span style=\"font-weight: bold\"> Value                                                                                </span>┃\n",
       "┡━━━━━━━━━━━━━━━━━━━━━━━━━━╇━━━━━━━━━━━━━━━━━━━━━━━━━━━━━━━━━━━━━━━━━━━━━━━━━━━━━━━━━━━━━━━━━━━━━━━━━━━━━━━━━━━━━━┩\n",
       "│<span style=\"color: #808080; text-decoration-color: #808080\"> </span><span style=\"color: #808080; text-decoration-color: #808080; font-weight: bold\">type()                  </span><span style=\"color: #808080; text-decoration-color: #808080\"> </span>│<span style=\"color: #808080; text-decoration-color: #808080\"> NTHdr32                                                                              </span>│\n",
       "│<span style=\"color: #ff0000; text-decoration-color: #ff0000\"> </span><span style=\"color: #ff0000; text-decoration-color: #ff0000; font-weight: bold\">is_byteclass()          </span><span style=\"color: #ff0000; text-decoration-color: #ff0000\"> </span>│<span style=\"color: #ff0000; text-decoration-color: #ff0000\"> True                                                                                 </span>│\n",
       "│<span style=\"color: #00ff00; text-decoration-color: #00ff00\"> </span><span style=\"color: #00ff00; text-decoration-color: #00ff00; font-weight: bold\">is_collection_instance()</span><span style=\"color: #00ff00; text-decoration-color: #00ff00\"> </span>│<span style=\"color: #00ff00; text-decoration-color: #00ff00\"> True                                                                                 </span>│\n",
       "│<span style=\"color: #ffff00; text-decoration-color: #ffff00\"> </span><span style=\"color: #ffff00; text-decoration-color: #ffff00; font-weight: bold\">is_primitive_instance() </span><span style=\"color: #ffff00; text-decoration-color: #ffff00\"> </span>│<span style=\"color: #ffff00; text-decoration-color: #ffff00\"> False                                                                                </span>│\n",
       "│<span style=\"color: #0000ff; text-decoration-color: #0000ff\"> </span><span style=\"color: #0000ff; text-decoration-color: #0000ff; font-weight: bold\">mro                     </span><span style=\"color: #0000ff; text-decoration-color: #0000ff\"> </span>│<span style=\"color: #0000ff; text-decoration-color: #0000ff\"> NTHdr32 -&gt; object                                                                    </span>│\n",
       "│<span style=\"color: #ff00ff; text-decoration-color: #ff00ff\"> </span><span style=\"color: #ff00ff; text-decoration-color: #ff00ff; font-weight: bold\">len()                   </span><span style=\"color: #ff00ff; text-decoration-color: #ff00ff\"> </span>│<span style=\"color: #ff00ff; text-decoration-color: #ff00ff\"> 248                                                                                  </span>│\n",
       "│<span style=\"color: #00ffff; text-decoration-color: #00ffff\"> </span><span style=\"color: #00ffff; text-decoration-color: #00ffff; font-weight: bold\">str()                   </span><span style=\"color: #00ffff; text-decoration-color: #00ffff\"> </span>│<span style=\"color: #00ffff; text-decoration-color: #00ffff\"> NTHdr32(signature=DWord(data=b'PE\\x00\\x00', byte_order=b'@'),                        </span>│\n",
       "│<span style=\"color: #00ffff; text-decoration-color: #00ffff\">                          </span>│<span style=\"color: #00ffff; text-decoration-color: #00ffff\"> file_hdr=FileHdr(byte_order=b'@',data=bytearray(b'L\\x01\\t\\x00\\xb3\\xed\\x15c\\x00\\x00\\… </span>│\n",
       "│<span style=\"color: #00ffff; text-decoration-color: #00ffff\">                          </span>│<span style=\"color: #00ffff; text-decoration-color: #00ffff\"> opt_hdr=OptHdr32(byte_order=b'@',data=bytearray(b'\\x0b\\x01\\x0e\\x1d\\x00V\\x00\\x00\\x00… </span>│\n",
       "│<span style=\"color: #808080; text-decoration-color: #808080\"> </span><span style=\"color: #808080; text-decoration-color: #808080; font-weight: bold\">repr()                  </span><span style=\"color: #808080; text-decoration-color: #808080\"> </span>│<span style=\"color: #808080; text-decoration-color: #808080\"> NTHdr32(byte_order=b'@',data=bytearray(b'PE\\x00\\x00L\\x01\\t\\x00\\xb3\\xed\\x15c\\x00\\x00… </span>│\n",
       "│<span style=\"color: #ff0000; text-decoration-color: #ff0000\"> </span><span style=\"color: #ff0000; text-decoration-color: #ff0000; font-weight: bold\">.data                   </span><span style=\"color: #ff0000; text-decoration-color: #ff0000\"> </span>│<span style=\"color: #ff0000; text-decoration-color: #ff0000\"> bytearray(b'PE\\x00\\x00L\\x01\\t\\x00\\xb3\\xed\\x15c\\x00\\x00\\x00\\x00\\x00\\x00\\x00\\x00\\xe0\\… </span>│\n",
       "└──────────────────────────┴──────────────────────────────────────────────────────────────────────────────────────┘\n",
       "</pre>\n"
      ],
      "text/plain": [
       "\u001b[3m                                                  Byteclass Info                                                   \u001b[0m\n",
       "┏━━━━━━━━━━━━━━━━━━━━━━━━━━┳━━━━━━━━━━━━━━━━━━━━━━━━━━━━━━━━━━━━━━━━━━━━━━━━━━━━━━━━━━━━━━━━━━━━━━━━━━━━━━━━━━━━━━┓\n",
       "┃\u001b[1m \u001b[0m\u001b[1mProperty                \u001b[0m\u001b[1m \u001b[0m┃\u001b[1m \u001b[0m\u001b[1mValue                                                                               \u001b[0m\u001b[1m \u001b[0m┃\n",
       "┡━━━━━━━━━━━━━━━━━━━━━━━━━━╇━━━━━━━━━━━━━━━━━━━━━━━━━━━━━━━━━━━━━━━━━━━━━━━━━━━━━━━━━━━━━━━━━━━━━━━━━━━━━━━━━━━━━━┩\n",
       "│\u001b[90m \u001b[0m\u001b[1;90mtype()                  \u001b[0m\u001b[90m \u001b[0m│\u001b[90m \u001b[0m\u001b[90mNTHdr32                                                                             \u001b[0m\u001b[90m \u001b[0m│\n",
       "│\u001b[91m \u001b[0m\u001b[1;91mis_byteclass()          \u001b[0m\u001b[91m \u001b[0m│\u001b[91m \u001b[0m\u001b[91mTrue                                                                                \u001b[0m\u001b[91m \u001b[0m│\n",
       "│\u001b[92m \u001b[0m\u001b[1;92mis_collection_instance()\u001b[0m\u001b[92m \u001b[0m│\u001b[92m \u001b[0m\u001b[92mTrue                                                                                \u001b[0m\u001b[92m \u001b[0m│\n",
       "│\u001b[93m \u001b[0m\u001b[1;93mis_primitive_instance() \u001b[0m\u001b[93m \u001b[0m│\u001b[93m \u001b[0m\u001b[93mFalse                                                                               \u001b[0m\u001b[93m \u001b[0m│\n",
       "│\u001b[94m \u001b[0m\u001b[1;94mmro                     \u001b[0m\u001b[94m \u001b[0m│\u001b[94m \u001b[0m\u001b[94mNTHdr32 -> object                                                                   \u001b[0m\u001b[94m \u001b[0m│\n",
       "│\u001b[95m \u001b[0m\u001b[1;95mlen()                   \u001b[0m\u001b[95m \u001b[0m│\u001b[95m \u001b[0m\u001b[95m248                                                                                 \u001b[0m\u001b[95m \u001b[0m│\n",
       "│\u001b[96m \u001b[0m\u001b[1;96mstr()                   \u001b[0m\u001b[96m \u001b[0m│\u001b[96m \u001b[0m\u001b[96mNTHdr32(signature=DWord(data=b'PE\\x00\\x00', byte_order=b'@'),                       \u001b[0m\u001b[96m \u001b[0m│\n",
       "│\u001b[96m                          \u001b[0m│\u001b[96m \u001b[0m\u001b[96mfile_hdr=FileHdr(byte_order=b'@',data=bytearray(b'L\\x01\\t\\x00\\xb3\\xed\\x15c\\x00\\x00\\…\u001b[0m\u001b[96m \u001b[0m│\n",
       "│\u001b[96m                          \u001b[0m│\u001b[96m \u001b[0m\u001b[96mopt_hdr=OptHdr32(byte_order=b'@',data=bytearray(b'\\x0b\\x01\\x0e\\x1d\\x00V\\x00\\x00\\x00…\u001b[0m\u001b[96m \u001b[0m│\n",
       "│\u001b[90m \u001b[0m\u001b[1;90mrepr()                  \u001b[0m\u001b[90m \u001b[0m│\u001b[90m \u001b[0m\u001b[90mNTHdr32(byte_order=b'@',data=bytearray(b'PE\\x00\\x00L\\x01\\t\\x00\\xb3\\xed\\x15c\\x00\\x00…\u001b[0m\u001b[90m \u001b[0m│\n",
       "│\u001b[91m \u001b[0m\u001b[1;91m.data                   \u001b[0m\u001b[91m \u001b[0m│\u001b[91m \u001b[0m\u001b[91mbytearray(b'PE\\x00\\x00L\\x01\\t\\x00\\xb3\\xed\\x15c\\x00\\x00\\x00\\x00\\x00\\x00\\x00\\x00\\xe0\\…\u001b[0m\u001b[91m \u001b[0m│\n",
       "└──────────────────────────┴──────────────────────────────────────────────────────────────────────────────────────┘\n"
      ]
     },
     "metadata": {},
     "output_type": "display_data"
    }
   ],
   "source": [
    "byteclass_info(nt32_hdr)"
   ]
  },
  {
   "cell_type": "code",
   "execution_count": 7,
   "metadata": {
    "execution": {
     "iopub.execute_input": "2024-04-29T21:12:00.576912Z",
     "iopub.status.busy": "2024-04-29T21:12:00.576424Z",
     "iopub.status.idle": "2024-04-29T21:12:00.586505Z",
     "shell.execute_reply": "2024-04-29T21:12:00.585911Z"
    }
   },
   "outputs": [
    {
     "data": {
      "text/html": [
       "<pre style=\"white-space:pre;overflow-x:auto;line-height:normal;font-family:Menlo,'DejaVu Sans Mono',consolas,'Courier New',monospace\">╭────────────────── Byteclass Inspect ──────────────────╮\n",
       "│       00 01 02 03 04 05 06 07 08 09 0a 0b 0c 0d 0e 0f │\n",
       "│ ----------------------------------------------------- │\n",
       "│ 0x0  <span style=\"color: #c0c0c0; text-decoration-color: #c0c0c0\">|</span><span style=\"color: #808080; text-decoration-color: #808080\">50 45 00 00</span><span style=\"color: #c0c0c0; text-decoration-color: #c0c0c0\">|</span><span style=\"color: #ff0000; text-decoration-color: #ff0000\">4c 01 09 00 b3 ed 15 63 00 00 00 00</span> │\n",
       "│ 0x10 <span style=\"color: #ff0000; text-decoration-color: #ff0000\">00 00 00 00 e0 00 02 01</span><span style=\"color: #c0c0c0; text-decoration-color: #c0c0c0\">|</span><span style=\"color: #00ff00; text-decoration-color: #00ff00\">0b 01 0e 1d 00 56 00 00</span>  │\n",
       "│ 0xf0 <span style=\"color: #00ff00; text-decoration-color: #00ff00\">00 46 00 00 00 00 00 00 23 10 01 00 00 10 00 00 </span> │\n",
       "│ <span style=\"color: #00ff00; text-decoration-color: #00ff00\">00 10 00 00 00 00 40 00 00 10 00 00 00 02 00 00 06 00</span> │\n",
       "│ <span style=\"color: #00ff00; text-decoration-color: #00ff00\">00 00 00 00 00 00 06 00 00 00 00 00 00 00 00 00 02 00</span> │\n",
       "│ <span style=\"color: #00ff00; text-decoration-color: #00ff00\">00 04 00 00 00 00 00 00 03 00 40 81 00 00 10 00 00 10</span> │\n",
       "│ <span style=\"color: #00ff00; text-decoration-color: #00ff00\">00 00 00 00 10 00 00 10 00 00 00 00 00 00 10 00 00 00</span> │\n",
       "│ <span style=\"color: #00ff00; text-decoration-color: #00ff00\">00 00 00 00 00 00 00 00 c4 b1 01 00 50 00 00 00 00 e0</span> │\n",
       "│ <span style=\"color: #00ff00; text-decoration-color: #00ff00\">01 00 3c 04 00 00 00 00 00 00 00 00 00 00 00 00 00 00</span> │\n",
       "│ <span style=\"color: #00ff00; text-decoration-color: #00ff00\">00 00 00 00 00 f0 01 00 9c 03 00 00 f8 84 01 00 38 00</span> │\n",
       "│ <span style=\"color: #00ff00; text-decoration-color: #00ff00\">00 00 00 00 00 00 00 00 00 00 00 00 00 00 00 00 00 00</span> │\n",
       "│ <span style=\"color: #00ff00; text-decoration-color: #00ff00\">00 00 00 00 00 00 00 00 30 85 01 00 40 00 00 00 00 00</span> │\n",
       "│ <span style=\"color: #00ff00; text-decoration-color: #00ff00\">00 00 00 00 00 00 00 b0 01 00 c4 01 00 00 00 00 00 00</span> │\n",
       "│ <span style=\"color: #00ff00; text-decoration-color: #00ff00\">00 00 00 00 00 00 00 00 00 00 00 00 00 00 00 00 00 00</span> │\n",
       "│ <span style=\"color: #00ff00; text-decoration-color: #00ff00\">00 00</span>                                                 │\n",
       "╰───────────────────────────────────────────────────────╯\n",
       "</pre>\n"
      ],
      "text/plain": [
       "╭────────────────── Byteclass Inspect ──────────────────╮\n",
       "│       00 01 02 03 04 05 06 07 08 09 0a 0b 0c 0d 0e 0f │\n",
       "│ ----------------------------------------------------- │\n",
       "│ 0x0  \u001b[37m|\u001b[0m\u001b[90m50 45 00 00\u001b[0m\u001b[37m|\u001b[0m\u001b[91m4c 01 09 00 b3 ed 15 63 00 00 00 00\u001b[0m │\n",
       "│ 0x10 \u001b[91m00 00 00 00 e0 00 02 01\u001b[0m\u001b[37m|\u001b[0m\u001b[92m0b 01 0e 1d 00 56 00 00\u001b[0m  │\n",
       "│ 0xf0 \u001b[92m00 46 00 00 00 00 00 00 23 10 01 00 00 10 00 00 \u001b[0m │\n",
       "│ \u001b[92m00 10 00 00 00 00 40 00 00 10 00 00 00 02 00 00 06 00\u001b[0m │\n",
       "│ \u001b[92m00 00 00 00 00 00 06 00 00 00 00 00 00 00 00 00 02 00\u001b[0m │\n",
       "│ \u001b[92m00 04 00 00 00 00 00 00 03 00 40 81 00 00 10 00 00 10\u001b[0m │\n",
       "│ \u001b[92m00 00 00 00 10 00 00 10 00 00 00 00 00 00 10 00 00 00\u001b[0m │\n",
       "│ \u001b[92m00 00 00 00 00 00 00 00 c4 b1 01 00 50 00 00 00 00 e0\u001b[0m │\n",
       "│ \u001b[92m01 00 3c 04 00 00 00 00 00 00 00 00 00 00 00 00 00 00\u001b[0m │\n",
       "│ \u001b[92m00 00 00 00 00 f0 01 00 9c 03 00 00 f8 84 01 00 38 00\u001b[0m │\n",
       "│ \u001b[92m00 00 00 00 00 00 00 00 00 00 00 00 00 00 00 00 00 00\u001b[0m │\n",
       "│ \u001b[92m00 00 00 00 00 00 00 00 30 85 01 00 40 00 00 00 00 00\u001b[0m │\n",
       "│ \u001b[92m00 00 00 00 00 00 00 b0 01 00 c4 01 00 00 00 00 00 00\u001b[0m │\n",
       "│ \u001b[92m00 00 00 00 00 00 00 00 00 00 00 00 00 00 00 00 00 00\u001b[0m │\n",
       "│ \u001b[92m00 00\u001b[0m                                                 │\n",
       "╰───────────────────────────────────────────────────────╯\n"
      ]
     },
     "metadata": {},
     "output_type": "display_data"
    },
    {
     "data": {
      "text/html": [
       "<pre style=\"white-space:pre;overflow-x:auto;line-height:normal;font-family:Menlo,'DejaVu Sans Mono',consolas,'Courier New',monospace\"><span style=\"font-style: italic\">                                                      Legend                                                       </span>\n",
       "┏━━━━━━━━━━━┳━━━━━━━━━━━━━━━━━━━━━━━━━━━━━━━━━━━━━━━━━━━━━━━━━━━━━━━━━━━━━━━━━━━━━━━━━━━━━━━━━━━━━━━━━━━━━━━━━━━━━┓\n",
       "┃<span style=\"font-weight: bold\"> Member    </span>┃<span style=\"font-weight: bold\"> Value                                                                                               </span>┃\n",
       "┡━━━━━━━━━━━╇━━━━━━━━━━━━━━━━━━━━━━━━━━━━━━━━━━━━━━━━━━━━━━━━━━━━━━━━━━━━━━━━━━━━━━━━━━━━━━━━━━━━━━━━━━━━━━━━━━━━━┩\n",
       "│<span style=\"color: #808080; text-decoration-color: #808080\"> </span><span style=\"color: #808080; text-decoration-color: #808080; font-weight: bold\">signature</span><span style=\"color: #808080; text-decoration-color: #808080\"> </span>│<span style=\"color: #808080; text-decoration-color: #808080\"> b'PE\\x00\\x00'                                                                                       </span>│\n",
       "│<span style=\"color: #ff0000; text-decoration-color: #ff0000\"> </span><span style=\"color: #ff0000; text-decoration-color: #ff0000; font-weight: bold\">file_hdr </span><span style=\"color: #ff0000; text-decoration-color: #ff0000\"> </span>│<span style=\"color: #ff0000; text-decoration-color: #ff0000\"> FileHdr(machine=UInt16(332), number_of_sections=UInt16(9), time_datestamp=UInt32(1662381491),       </span>│\n",
       "│<span style=\"color: #ff0000; text-decoration-color: #ff0000\">           </span>│<span style=\"color: #ff0000; text-decoration-color: #ff0000\"> ptr_to_sym_tbl=Ptr32(0x0), num_of_sym=UInt32(0), size_of_opt_hdr=UInt16(224),                       </span>│\n",
       "│<span style=\"color: #ff0000; text-decoration-color: #ff0000\">           </span>│<span style=\"color: #ff0000; text-decoration-color: #ff0000\"> characteristics=UInt16(258))                                                                        </span>│\n",
       "│<span style=\"color: #00ff00; text-decoration-color: #00ff00\"> </span><span style=\"color: #00ff00; text-decoration-color: #00ff00; font-weight: bold\">opt_hdr  </span><span style=\"color: #00ff00; text-decoration-color: #00ff00\"> </span>│<span style=\"color: #00ff00; text-decoration-color: #00ff00\"> OptHdr32(magic=Word(data=b'\\x0b\\x01', byte_order=b'@'), major_linker_ver=UInt8(14),                 </span>│\n",
       "│<span style=\"color: #00ff00; text-decoration-color: #00ff00\">           </span>│<span style=\"color: #00ff00; text-decoration-color: #00ff00\"> minor_linker_ver=UInt8(29), size_of_code=UInt32(22016), size_of_init_data=UInt32(17920),            </span>│\n",
       "│<span style=\"color: #00ff00; text-decoration-color: #00ff00\">           </span>│<span style=\"color: #00ff00; text-decoration-color: #00ff00\"> size_of_uninit_data=UInt32(0), addr_of_entrypoint=Ptr32(0x11023), base_of_code=Ptr32(0x1000),       </span>│\n",
       "│<span style=\"color: #00ff00; text-decoration-color: #00ff00\">           </span>│<span style=\"color: #00ff00; text-decoration-color: #00ff00\"> base_of_data=Ptr32(0x1000), image_base=Ptr32(0x400000), section_alignment=UInt32(4096),             </span>│\n",
       "│<span style=\"color: #00ff00; text-decoration-color: #00ff00\">           </span>│<span style=\"color: #00ff00; text-decoration-color: #00ff00\"> file_alignment=UInt32(512), major_os_ver=UInt16(6), minor_os_ver=UInt16(0),                         </span>│\n",
       "│<span style=\"color: #00ff00; text-decoration-color: #00ff00\">           </span>│<span style=\"color: #00ff00; text-decoration-color: #00ff00\"> major_img_ver=UInt16(0), minor_img_ver=UInt16(0), major_subsys_ver=UInt16(6),                       </span>│\n",
       "│<span style=\"color: #00ff00; text-decoration-color: #00ff00\">           </span>│<span style=\"color: #00ff00; text-decoration-color: #00ff00\"> minor_subsys_ver=UInt16(0), win32_ver_val=UInt32(0), size_of_img=UInt32(131072),                    </span>│\n",
       "│<span style=\"color: #00ff00; text-decoration-color: #00ff00\">           </span>│<span style=\"color: #00ff00; text-decoration-color: #00ff00\"> size_of_hdrs=UInt32(1024), checksum=UInt32(0), subsystem=UInt16(3),                                 </span>│\n",
       "│<span style=\"color: #00ff00; text-decoration-color: #00ff00\">           </span>│<span style=\"color: #00ff00; text-decoration-color: #00ff00\"> dll_characteristics=BitField16(data=b'@\\x81'), size_of_stack_reserve=UInt32(1048576),               </span>│\n",
       "│<span style=\"color: #00ff00; text-decoration-color: #00ff00\">           </span>│<span style=\"color: #00ff00; text-decoration-color: #00ff00\"> size_of_stack_commit=UInt32(4096), size_of_heap_reserve=UInt32(1048576),                            </span>│\n",
       "│<span style=\"color: #00ff00; text-decoration-color: #00ff00\">           </span>│<span style=\"color: #00ff00; text-decoration-color: #00ff00\"> size_of_heap_commit=UInt32(4096), loader_flags=BitField32(data=b'\\x00\\x00\\x00\\x00'),                </span>│\n",
       "│<span style=\"color: #00ff00; text-decoration-color: #00ff00\">           </span>│<span style=\"color: #00ff00; text-decoration-color: #00ff00\"> num_of_rva_and_sizes=UInt32(16), data_directory=ByteArray(16, DataDir))                             </span>│\n",
       "└───────────┴─────────────────────────────────────────────────────────────────────────────────────────────────────┘\n",
       "</pre>\n"
      ],
      "text/plain": [
       "\u001b[3m                                                      Legend                                                       \u001b[0m\n",
       "┏━━━━━━━━━━━┳━━━━━━━━━━━━━━━━━━━━━━━━━━━━━━━━━━━━━━━━━━━━━━━━━━━━━━━━━━━━━━━━━━━━━━━━━━━━━━━━━━━━━━━━━━━━━━━━━━━━━┓\n",
       "┃\u001b[1m \u001b[0m\u001b[1mMember   \u001b[0m\u001b[1m \u001b[0m┃\u001b[1m \u001b[0m\u001b[1mValue                                                                                              \u001b[0m\u001b[1m \u001b[0m┃\n",
       "┡━━━━━━━━━━━╇━━━━━━━━━━━━━━━━━━━━━━━━━━━━━━━━━━━━━━━━━━━━━━━━━━━━━━━━━━━━━━━━━━━━━━━━━━━━━━━━━━━━━━━━━━━━━━━━━━━━━┩\n",
       "│\u001b[90m \u001b[0m\u001b[1;90msignature\u001b[0m\u001b[90m \u001b[0m│\u001b[90m \u001b[0m\u001b[90mb'PE\\x00\\x00'                                                                                      \u001b[0m\u001b[90m \u001b[0m│\n",
       "│\u001b[91m \u001b[0m\u001b[1;91mfile_hdr \u001b[0m\u001b[91m \u001b[0m│\u001b[91m \u001b[0m\u001b[91mFileHdr(machine=UInt16(332), number_of_sections=UInt16(9), time_datestamp=UInt32(1662381491),      \u001b[0m\u001b[91m \u001b[0m│\n",
       "│\u001b[91m           \u001b[0m│\u001b[91m \u001b[0m\u001b[91mptr_to_sym_tbl=Ptr32(0x0), num_of_sym=UInt32(0), size_of_opt_hdr=UInt16(224),                      \u001b[0m\u001b[91m \u001b[0m│\n",
       "│\u001b[91m           \u001b[0m│\u001b[91m \u001b[0m\u001b[91mcharacteristics=UInt16(258))                                                                       \u001b[0m\u001b[91m \u001b[0m│\n",
       "│\u001b[92m \u001b[0m\u001b[1;92mopt_hdr  \u001b[0m\u001b[92m \u001b[0m│\u001b[92m \u001b[0m\u001b[92mOptHdr32(magic=Word(data=b'\\x0b\\x01', byte_order=b'@'), major_linker_ver=UInt8(14),                \u001b[0m\u001b[92m \u001b[0m│\n",
       "│\u001b[92m           \u001b[0m│\u001b[92m \u001b[0m\u001b[92mminor_linker_ver=UInt8(29), size_of_code=UInt32(22016), size_of_init_data=UInt32(17920),           \u001b[0m\u001b[92m \u001b[0m│\n",
       "│\u001b[92m           \u001b[0m│\u001b[92m \u001b[0m\u001b[92msize_of_uninit_data=UInt32(0), addr_of_entrypoint=Ptr32(0x11023), base_of_code=Ptr32(0x1000),      \u001b[0m\u001b[92m \u001b[0m│\n",
       "│\u001b[92m           \u001b[0m│\u001b[92m \u001b[0m\u001b[92mbase_of_data=Ptr32(0x1000), image_base=Ptr32(0x400000), section_alignment=UInt32(4096),            \u001b[0m\u001b[92m \u001b[0m│\n",
       "│\u001b[92m           \u001b[0m│\u001b[92m \u001b[0m\u001b[92mfile_alignment=UInt32(512), major_os_ver=UInt16(6), minor_os_ver=UInt16(0),                        \u001b[0m\u001b[92m \u001b[0m│\n",
       "│\u001b[92m           \u001b[0m│\u001b[92m \u001b[0m\u001b[92mmajor_img_ver=UInt16(0), minor_img_ver=UInt16(0), major_subsys_ver=UInt16(6),                      \u001b[0m\u001b[92m \u001b[0m│\n",
       "│\u001b[92m           \u001b[0m│\u001b[92m \u001b[0m\u001b[92mminor_subsys_ver=UInt16(0), win32_ver_val=UInt32(0), size_of_img=UInt32(131072),                   \u001b[0m\u001b[92m \u001b[0m│\n",
       "│\u001b[92m           \u001b[0m│\u001b[92m \u001b[0m\u001b[92msize_of_hdrs=UInt32(1024), checksum=UInt32(0), subsystem=UInt16(3),                                \u001b[0m\u001b[92m \u001b[0m│\n",
       "│\u001b[92m           \u001b[0m│\u001b[92m \u001b[0m\u001b[92mdll_characteristics=BitField16(data=b'@\\x81'), size_of_stack_reserve=UInt32(1048576),              \u001b[0m\u001b[92m \u001b[0m│\n",
       "│\u001b[92m           \u001b[0m│\u001b[92m \u001b[0m\u001b[92msize_of_stack_commit=UInt32(4096), size_of_heap_reserve=UInt32(1048576),                           \u001b[0m\u001b[92m \u001b[0m│\n",
       "│\u001b[92m           \u001b[0m│\u001b[92m \u001b[0m\u001b[92msize_of_heap_commit=UInt32(4096), loader_flags=BitField32(data=b'\\x00\\x00\\x00\\x00'),               \u001b[0m\u001b[92m \u001b[0m│\n",
       "│\u001b[92m           \u001b[0m│\u001b[92m \u001b[0m\u001b[92mnum_of_rva_and_sizes=UInt32(16), data_directory=ByteArray(16, DataDir))                            \u001b[0m\u001b[92m \u001b[0m│\n",
       "└───────────┴─────────────────────────────────────────────────────────────────────────────────────────────────────┘\n"
      ]
     },
     "metadata": {},
     "output_type": "display_data"
    }
   ],
   "source": [
    "byteclass_inspect(nt32_hdr)"
   ]
  },
  {
   "cell_type": "code",
   "execution_count": 8,
   "metadata": {
    "execution": {
     "iopub.execute_input": "2024-04-29T21:12:00.588813Z",
     "iopub.status.busy": "2024-04-29T21:12:00.588431Z",
     "iopub.status.idle": "2024-04-29T21:12:00.596558Z",
     "shell.execute_reply": "2024-04-29T21:12:00.595906Z"
    }
   },
   "outputs": [
    {
     "data": {
      "text/html": [
       "<pre style=\"white-space:pre;overflow-x:auto;line-height:normal;font-family:Menlo,'DejaVu Sans Mono',consolas,'Courier New',monospace\"><span style=\"font-style: italic\">                                                  Byteclass Info                                                   </span>\n",
       "┏━━━━━━━━━━━━━━━━━━━━━━━━━━┳━━━━━━━━━━━━━━━━━━━━━━━━━━━━━━━━━━━━━━━━━━━━━━━━━━━━━━━━━━━━━━━━━━━━━━━━━━━━━━━━━━━━━━┓\n",
       "┃<span style=\"font-weight: bold\"> Property                 </span>┃<span style=\"font-weight: bold\"> Value                                                                                </span>┃\n",
       "┡━━━━━━━━━━━━━━━━━━━━━━━━━━╇━━━━━━━━━━━━━━━━━━━━━━━━━━━━━━━━━━━━━━━━━━━━━━━━━━━━━━━━━━━━━━━━━━━━━━━━━━━━━━━━━━━━━━┩\n",
       "│<span style=\"color: #808080; text-decoration-color: #808080\"> </span><span style=\"color: #808080; text-decoration-color: #808080; font-weight: bold\">type()                  </span><span style=\"color: #808080; text-decoration-color: #808080\"> </span>│<span style=\"color: #808080; text-decoration-color: #808080\"> FileHdr                                                                              </span>│\n",
       "│<span style=\"color: #ff0000; text-decoration-color: #ff0000\"> </span><span style=\"color: #ff0000; text-decoration-color: #ff0000; font-weight: bold\">is_byteclass()          </span><span style=\"color: #ff0000; text-decoration-color: #ff0000\"> </span>│<span style=\"color: #ff0000; text-decoration-color: #ff0000\"> True                                                                                 </span>│\n",
       "│<span style=\"color: #00ff00; text-decoration-color: #00ff00\"> </span><span style=\"color: #00ff00; text-decoration-color: #00ff00; font-weight: bold\">is_collection_instance()</span><span style=\"color: #00ff00; text-decoration-color: #00ff00\"> </span>│<span style=\"color: #00ff00; text-decoration-color: #00ff00\"> True                                                                                 </span>│\n",
       "│<span style=\"color: #ffff00; text-decoration-color: #ffff00\"> </span><span style=\"color: #ffff00; text-decoration-color: #ffff00; font-weight: bold\">is_primitive_instance() </span><span style=\"color: #ffff00; text-decoration-color: #ffff00\"> </span>│<span style=\"color: #ffff00; text-decoration-color: #ffff00\"> False                                                                                </span>│\n",
       "│<span style=\"color: #0000ff; text-decoration-color: #0000ff\"> </span><span style=\"color: #0000ff; text-decoration-color: #0000ff; font-weight: bold\">mro                     </span><span style=\"color: #0000ff; text-decoration-color: #0000ff\"> </span>│<span style=\"color: #0000ff; text-decoration-color: #0000ff\"> FileHdr -&gt; object                                                                    </span>│\n",
       "│<span style=\"color: #ff00ff; text-decoration-color: #ff00ff\"> </span><span style=\"color: #ff00ff; text-decoration-color: #ff00ff; font-weight: bold\">len()                   </span><span style=\"color: #ff00ff; text-decoration-color: #ff00ff\"> </span>│<span style=\"color: #ff00ff; text-decoration-color: #ff00ff\"> 20                                                                                   </span>│\n",
       "│<span style=\"color: #00ffff; text-decoration-color: #00ffff\"> </span><span style=\"color: #00ffff; text-decoration-color: #00ffff; font-weight: bold\">str()                   </span><span style=\"color: #00ffff; text-decoration-color: #00ffff\"> </span>│<span style=\"color: #00ffff; text-decoration-color: #00ffff\"> FileHdr(machine=UInt16(332), number_of_sections=UInt16(9),                           </span>│\n",
       "│<span style=\"color: #00ffff; text-decoration-color: #00ffff\">                          </span>│<span style=\"color: #00ffff; text-decoration-color: #00ffff\"> time_datestamp=UInt32(1662381491), ptr_to_sym_tbl=Ptr32(0x0), num_of_sym=UInt32(0),  </span>│\n",
       "│<span style=\"color: #00ffff; text-decoration-color: #00ffff\">                          </span>│<span style=\"color: #00ffff; text-decoration-color: #00ffff\"> size_of_opt_hdr=UInt16(224), characteristics=UInt16(258))                            </span>│\n",
       "│<span style=\"color: #808080; text-decoration-color: #808080\"> </span><span style=\"color: #808080; text-decoration-color: #808080; font-weight: bold\">repr()                  </span><span style=\"color: #808080; text-decoration-color: #808080\"> </span>│<span style=\"color: #808080; text-decoration-color: #808080\"> FileHdr(byte_order=b'@',data=bytearray(b'L\\x01\\t\\x00\\xb3\\xed\\x15c\\x00\\x00\\x00\\x00\\x… </span>│\n",
       "│<span style=\"color: #ff0000; text-decoration-color: #ff0000\"> </span><span style=\"color: #ff0000; text-decoration-color: #ff0000; font-weight: bold\">.data                   </span><span style=\"color: #ff0000; text-decoration-color: #ff0000\"> </span>│<span style=\"color: #ff0000; text-decoration-color: #ff0000\"> bytearray(b'L\\x01\\t\\x00\\xb3\\xed\\x15c\\x00\\x00\\x00\\x00\\x00\\x00\\x00\\x00\\xe0\\x00\\x02\\x0… </span>│\n",
       "└──────────────────────────┴──────────────────────────────────────────────────────────────────────────────────────┘\n",
       "</pre>\n"
      ],
      "text/plain": [
       "\u001b[3m                                                  Byteclass Info                                                   \u001b[0m\n",
       "┏━━━━━━━━━━━━━━━━━━━━━━━━━━┳━━━━━━━━━━━━━━━━━━━━━━━━━━━━━━━━━━━━━━━━━━━━━━━━━━━━━━━━━━━━━━━━━━━━━━━━━━━━━━━━━━━━━━┓\n",
       "┃\u001b[1m \u001b[0m\u001b[1mProperty                \u001b[0m\u001b[1m \u001b[0m┃\u001b[1m \u001b[0m\u001b[1mValue                                                                               \u001b[0m\u001b[1m \u001b[0m┃\n",
       "┡━━━━━━━━━━━━━━━━━━━━━━━━━━╇━━━━━━━━━━━━━━━━━━━━━━━━━━━━━━━━━━━━━━━━━━━━━━━━━━━━━━━━━━━━━━━━━━━━━━━━━━━━━━━━━━━━━━┩\n",
       "│\u001b[90m \u001b[0m\u001b[1;90mtype()                  \u001b[0m\u001b[90m \u001b[0m│\u001b[90m \u001b[0m\u001b[90mFileHdr                                                                             \u001b[0m\u001b[90m \u001b[0m│\n",
       "│\u001b[91m \u001b[0m\u001b[1;91mis_byteclass()          \u001b[0m\u001b[91m \u001b[0m│\u001b[91m \u001b[0m\u001b[91mTrue                                                                                \u001b[0m\u001b[91m \u001b[0m│\n",
       "│\u001b[92m \u001b[0m\u001b[1;92mis_collection_instance()\u001b[0m\u001b[92m \u001b[0m│\u001b[92m \u001b[0m\u001b[92mTrue                                                                                \u001b[0m\u001b[92m \u001b[0m│\n",
       "│\u001b[93m \u001b[0m\u001b[1;93mis_primitive_instance() \u001b[0m\u001b[93m \u001b[0m│\u001b[93m \u001b[0m\u001b[93mFalse                                                                               \u001b[0m\u001b[93m \u001b[0m│\n",
       "│\u001b[94m \u001b[0m\u001b[1;94mmro                     \u001b[0m\u001b[94m \u001b[0m│\u001b[94m \u001b[0m\u001b[94mFileHdr -> object                                                                   \u001b[0m\u001b[94m \u001b[0m│\n",
       "│\u001b[95m \u001b[0m\u001b[1;95mlen()                   \u001b[0m\u001b[95m \u001b[0m│\u001b[95m \u001b[0m\u001b[95m20                                                                                  \u001b[0m\u001b[95m \u001b[0m│\n",
       "│\u001b[96m \u001b[0m\u001b[1;96mstr()                   \u001b[0m\u001b[96m \u001b[0m│\u001b[96m \u001b[0m\u001b[96mFileHdr(machine=UInt16(332), number_of_sections=UInt16(9),                          \u001b[0m\u001b[96m \u001b[0m│\n",
       "│\u001b[96m                          \u001b[0m│\u001b[96m \u001b[0m\u001b[96mtime_datestamp=UInt32(1662381491), ptr_to_sym_tbl=Ptr32(0x0), num_of_sym=UInt32(0), \u001b[0m\u001b[96m \u001b[0m│\n",
       "│\u001b[96m                          \u001b[0m│\u001b[96m \u001b[0m\u001b[96msize_of_opt_hdr=UInt16(224), characteristics=UInt16(258))                           \u001b[0m\u001b[96m \u001b[0m│\n",
       "│\u001b[90m \u001b[0m\u001b[1;90mrepr()                  \u001b[0m\u001b[90m \u001b[0m│\u001b[90m \u001b[0m\u001b[90mFileHdr(byte_order=b'@',data=bytearray(b'L\\x01\\t\\x00\\xb3\\xed\\x15c\\x00\\x00\\x00\\x00\\x…\u001b[0m\u001b[90m \u001b[0m│\n",
       "│\u001b[91m \u001b[0m\u001b[1;91m.data                   \u001b[0m\u001b[91m \u001b[0m│\u001b[91m \u001b[0m\u001b[91mbytearray(b'L\\x01\\t\\x00\\xb3\\xed\\x15c\\x00\\x00\\x00\\x00\\x00\\x00\\x00\\x00\\xe0\\x00\\x02\\x0…\u001b[0m\u001b[91m \u001b[0m│\n",
       "└──────────────────────────┴──────────────────────────────────────────────────────────────────────────────────────┘\n"
      ]
     },
     "metadata": {},
     "output_type": "display_data"
    }
   ],
   "source": [
    "byteclass_info(nt32_hdr.file_hdr)"
   ]
  },
  {
   "cell_type": "code",
   "execution_count": 9,
   "metadata": {
    "execution": {
     "iopub.execute_input": "2024-04-29T21:12:00.598861Z",
     "iopub.status.busy": "2024-04-29T21:12:00.598504Z",
     "iopub.status.idle": "2024-04-29T21:12:00.606747Z",
     "shell.execute_reply": "2024-04-29T21:12:00.606115Z"
    }
   },
   "outputs": [
    {
     "data": {
      "text/html": [
       "<pre style=\"white-space:pre;overflow-x:auto;line-height:normal;font-family:Menlo,'DejaVu Sans Mono',consolas,'Courier New',monospace\">╭────────────────── Byteclass Inspect ──────────────────╮\n",
       "│       00 01 02 03 04 05 06 07 08 09 0a 0b 0c 0d 0e 0f │\n",
       "│ ----------------------------------------------------- │\n",
       "│ 0x0  <span style=\"color: #c0c0c0; text-decoration-color: #c0c0c0\">|</span><span style=\"color: #808080; text-decoration-color: #808080\">4c 01</span><span style=\"color: #c0c0c0; text-decoration-color: #c0c0c0\">|</span><span style=\"color: #ff0000; text-decoration-color: #ff0000\">09 00</span><span style=\"color: #c0c0c0; text-decoration-color: #c0c0c0\">|</span><span style=\"color: #00ff00; text-decoration-color: #00ff00\">b3 ed 15 63</span><span style=\"color: #c0c0c0; text-decoration-color: #c0c0c0\">|</span><span style=\"color: #ffff00; text-decoration-color: #ffff00\">00 00 00 00</span><span style=\"color: #c0c0c0; text-decoration-color: #c0c0c0\">|</span><span style=\"color: #0000ff; text-decoration-color: #0000ff\">00 00 00 00</span> │\n",
       "│ 0x10 <span style=\"color: #c0c0c0; text-decoration-color: #c0c0c0\">|</span><span style=\"color: #ff00ff; text-decoration-color: #ff00ff\">e0 00</span><span style=\"color: #c0c0c0; text-decoration-color: #c0c0c0\">|</span><span style=\"color: #00ffff; text-decoration-color: #00ffff\">02 01</span>                                     │\n",
       "╰───────────────────────────────────────────────────────╯\n",
       "</pre>\n"
      ],
      "text/plain": [
       "╭────────────────── Byteclass Inspect ──────────────────╮\n",
       "│       00 01 02 03 04 05 06 07 08 09 0a 0b 0c 0d 0e 0f │\n",
       "│ ----------------------------------------------------- │\n",
       "│ 0x0  \u001b[37m|\u001b[0m\u001b[90m4c 01\u001b[0m\u001b[37m|\u001b[0m\u001b[91m09 00\u001b[0m\u001b[37m|\u001b[0m\u001b[92mb3 ed 15 63\u001b[0m\u001b[37m|\u001b[0m\u001b[93m00 00 00 00\u001b[0m\u001b[37m|\u001b[0m\u001b[94m00 00 00 00\u001b[0m │\n",
       "│ 0x10 \u001b[37m|\u001b[0m\u001b[95me0 00\u001b[0m\u001b[37m|\u001b[0m\u001b[96m02 01\u001b[0m                                     │\n",
       "╰───────────────────────────────────────────────────────╯\n"
      ]
     },
     "metadata": {},
     "output_type": "display_data"
    },
    {
     "data": {
      "text/html": [
       "<pre style=\"white-space:pre;overflow-x:auto;line-height:normal;font-family:Menlo,'DejaVu Sans Mono',consolas,'Courier New',monospace\"><span style=\"font-style: italic\">              Legend               </span>\n",
       "┏━━━━━━━━━━━━━━━━━━━━┳━━━━━━━━━━━━┓\n",
       "┃<span style=\"font-weight: bold\"> Member             </span>┃<span style=\"font-weight: bold\"> Value      </span>┃\n",
       "┡━━━━━━━━━━━━━━━━━━━━╇━━━━━━━━━━━━┩\n",
       "│<span style=\"color: #808080; text-decoration-color: #808080\"> </span><span style=\"color: #808080; text-decoration-color: #808080; font-weight: bold\">machine           </span><span style=\"color: #808080; text-decoration-color: #808080\"> </span>│<span style=\"color: #808080; text-decoration-color: #808080\"> 332        </span>│\n",
       "│<span style=\"color: #ff0000; text-decoration-color: #ff0000\"> </span><span style=\"color: #ff0000; text-decoration-color: #ff0000; font-weight: bold\">number_of_sections</span><span style=\"color: #ff0000; text-decoration-color: #ff0000\"> </span>│<span style=\"color: #ff0000; text-decoration-color: #ff0000\"> 9          </span>│\n",
       "│<span style=\"color: #00ff00; text-decoration-color: #00ff00\"> </span><span style=\"color: #00ff00; text-decoration-color: #00ff00; font-weight: bold\">time_datestamp    </span><span style=\"color: #00ff00; text-decoration-color: #00ff00\"> </span>│<span style=\"color: #00ff00; text-decoration-color: #00ff00\"> 1662381491 </span>│\n",
       "│<span style=\"color: #ffff00; text-decoration-color: #ffff00\"> </span><span style=\"color: #ffff00; text-decoration-color: #ffff00; font-weight: bold\">ptr_to_sym_tbl    </span><span style=\"color: #ffff00; text-decoration-color: #ffff00\"> </span>│<span style=\"color: #ffff00; text-decoration-color: #ffff00\"> 0x00000000 </span>│\n",
       "│<span style=\"color: #0000ff; text-decoration-color: #0000ff\"> </span><span style=\"color: #0000ff; text-decoration-color: #0000ff; font-weight: bold\">num_of_sym        </span><span style=\"color: #0000ff; text-decoration-color: #0000ff\"> </span>│<span style=\"color: #0000ff; text-decoration-color: #0000ff\"> 0          </span>│\n",
       "│<span style=\"color: #ff00ff; text-decoration-color: #ff00ff\"> </span><span style=\"color: #ff00ff; text-decoration-color: #ff00ff; font-weight: bold\">size_of_opt_hdr   </span><span style=\"color: #ff00ff; text-decoration-color: #ff00ff\"> </span>│<span style=\"color: #ff00ff; text-decoration-color: #ff00ff\"> 224        </span>│\n",
       "│<span style=\"color: #00ffff; text-decoration-color: #00ffff\"> </span><span style=\"color: #00ffff; text-decoration-color: #00ffff; font-weight: bold\">characteristics   </span><span style=\"color: #00ffff; text-decoration-color: #00ffff\"> </span>│<span style=\"color: #00ffff; text-decoration-color: #00ffff\"> 258        </span>│\n",
       "└────────────────────┴────────────┘\n",
       "</pre>\n"
      ],
      "text/plain": [
       "\u001b[3m              Legend               \u001b[0m\n",
       "┏━━━━━━━━━━━━━━━━━━━━┳━━━━━━━━━━━━┓\n",
       "┃\u001b[1m \u001b[0m\u001b[1mMember            \u001b[0m\u001b[1m \u001b[0m┃\u001b[1m \u001b[0m\u001b[1mValue     \u001b[0m\u001b[1m \u001b[0m┃\n",
       "┡━━━━━━━━━━━━━━━━━━━━╇━━━━━━━━━━━━┩\n",
       "│\u001b[90m \u001b[0m\u001b[1;90mmachine           \u001b[0m\u001b[90m \u001b[0m│\u001b[90m \u001b[0m\u001b[90m332       \u001b[0m\u001b[90m \u001b[0m│\n",
       "│\u001b[91m \u001b[0m\u001b[1;91mnumber_of_sections\u001b[0m\u001b[91m \u001b[0m│\u001b[91m \u001b[0m\u001b[91m9         \u001b[0m\u001b[91m \u001b[0m│\n",
       "│\u001b[92m \u001b[0m\u001b[1;92mtime_datestamp    \u001b[0m\u001b[92m \u001b[0m│\u001b[92m \u001b[0m\u001b[92m1662381491\u001b[0m\u001b[92m \u001b[0m│\n",
       "│\u001b[93m \u001b[0m\u001b[1;93mptr_to_sym_tbl    \u001b[0m\u001b[93m \u001b[0m│\u001b[93m \u001b[0m\u001b[93m0x00000000\u001b[0m\u001b[93m \u001b[0m│\n",
       "│\u001b[94m \u001b[0m\u001b[1;94mnum_of_sym        \u001b[0m\u001b[94m \u001b[0m│\u001b[94m \u001b[0m\u001b[94m0         \u001b[0m\u001b[94m \u001b[0m│\n",
       "│\u001b[95m \u001b[0m\u001b[1;95msize_of_opt_hdr   \u001b[0m\u001b[95m \u001b[0m│\u001b[95m \u001b[0m\u001b[95m224       \u001b[0m\u001b[95m \u001b[0m│\n",
       "│\u001b[96m \u001b[0m\u001b[1;96mcharacteristics   \u001b[0m\u001b[96m \u001b[0m│\u001b[96m \u001b[0m\u001b[96m258       \u001b[0m\u001b[96m \u001b[0m│\n",
       "└────────────────────┴────────────┘\n"
      ]
     },
     "metadata": {},
     "output_type": "display_data"
    }
   ],
   "source": [
    "byteclass_inspect(nt32_hdr.file_hdr)"
   ]
  },
  {
   "cell_type": "code",
   "execution_count": 10,
   "metadata": {
    "execution": {
     "iopub.execute_input": "2024-04-29T21:12:00.608985Z",
     "iopub.status.busy": "2024-04-29T21:12:00.608636Z",
     "iopub.status.idle": "2024-04-29T21:12:00.618658Z",
     "shell.execute_reply": "2024-04-29T21:12:00.618015Z"
    }
   },
   "outputs": [
    {
     "data": {
      "text/html": [
       "<pre style=\"white-space:pre;overflow-x:auto;line-height:normal;font-family:Menlo,'DejaVu Sans Mono',consolas,'Courier New',monospace\"><span style=\"font-style: italic\">                                                  Byteclass Info                                                   </span>\n",
       "┏━━━━━━━━━━━━━━━━━━━━━━━━━━┳━━━━━━━━━━━━━━━━━━━━━━━━━━━━━━━━━━━━━━━━━━━━━━━━━━━━━━━━━━━━━━━━━━━━━━━━━━━━━━━━━━━━━━┓\n",
       "┃<span style=\"font-weight: bold\"> Property                 </span>┃<span style=\"font-weight: bold\"> Value                                                                                </span>┃\n",
       "┡━━━━━━━━━━━━━━━━━━━━━━━━━━╇━━━━━━━━━━━━━━━━━━━━━━━━━━━━━━━━━━━━━━━━━━━━━━━━━━━━━━━━━━━━━━━━━━━━━━━━━━━━━━━━━━━━━━┩\n",
       "│<span style=\"color: #808080; text-decoration-color: #808080\"> </span><span style=\"color: #808080; text-decoration-color: #808080; font-weight: bold\">type()                  </span><span style=\"color: #808080; text-decoration-color: #808080\"> </span>│<span style=\"color: #808080; text-decoration-color: #808080\"> OptHdr32                                                                             </span>│\n",
       "│<span style=\"color: #ff0000; text-decoration-color: #ff0000\"> </span><span style=\"color: #ff0000; text-decoration-color: #ff0000; font-weight: bold\">is_byteclass()          </span><span style=\"color: #ff0000; text-decoration-color: #ff0000\"> </span>│<span style=\"color: #ff0000; text-decoration-color: #ff0000\"> True                                                                                 </span>│\n",
       "│<span style=\"color: #00ff00; text-decoration-color: #00ff00\"> </span><span style=\"color: #00ff00; text-decoration-color: #00ff00; font-weight: bold\">is_collection_instance()</span><span style=\"color: #00ff00; text-decoration-color: #00ff00\"> </span>│<span style=\"color: #00ff00; text-decoration-color: #00ff00\"> True                                                                                 </span>│\n",
       "│<span style=\"color: #ffff00; text-decoration-color: #ffff00\"> </span><span style=\"color: #ffff00; text-decoration-color: #ffff00; font-weight: bold\">is_primitive_instance() </span><span style=\"color: #ffff00; text-decoration-color: #ffff00\"> </span>│<span style=\"color: #ffff00; text-decoration-color: #ffff00\"> False                                                                                </span>│\n",
       "│<span style=\"color: #0000ff; text-decoration-color: #0000ff\"> </span><span style=\"color: #0000ff; text-decoration-color: #0000ff; font-weight: bold\">mro                     </span><span style=\"color: #0000ff; text-decoration-color: #0000ff\"> </span>│<span style=\"color: #0000ff; text-decoration-color: #0000ff\"> OptHdr32 -&gt; object                                                                   </span>│\n",
       "│<span style=\"color: #ff00ff; text-decoration-color: #ff00ff\"> </span><span style=\"color: #ff00ff; text-decoration-color: #ff00ff; font-weight: bold\">len()                   </span><span style=\"color: #ff00ff; text-decoration-color: #ff00ff\"> </span>│<span style=\"color: #ff00ff; text-decoration-color: #ff00ff\"> 224                                                                                  </span>│\n",
       "│<span style=\"color: #00ffff; text-decoration-color: #00ffff\"> </span><span style=\"color: #00ffff; text-decoration-color: #00ffff; font-weight: bold\">str()                   </span><span style=\"color: #00ffff; text-decoration-color: #00ffff\"> </span>│<span style=\"color: #00ffff; text-decoration-color: #00ffff\"> OptHdr32(magic=Word(data=b'\\x0b\\x01', byte_order=b'@'), major_linker_ver=UInt8(14),  </span>│\n",
       "│<span style=\"color: #00ffff; text-decoration-color: #00ffff\">                          </span>│<span style=\"color: #00ffff; text-decoration-color: #00ffff\"> minor_linker_ver=UInt8(29), size_of_code=UInt32(22016),                              </span>│\n",
       "│<span style=\"color: #00ffff; text-decoration-color: #00ffff\">                          </span>│<span style=\"color: #00ffff; text-decoration-color: #00ffff\"> size_of_init_data=UInt32(17920), size_of_uninit_data=UInt32(0),                      </span>│\n",
       "│<span style=\"color: #00ffff; text-decoration-color: #00ffff\">                          </span>│<span style=\"color: #00ffff; text-decoration-color: #00ffff\"> addr_of_entrypoint=Ptr32(0x11023), base_of_code=Ptr32(0x1000),                       </span>│\n",
       "│<span style=\"color: #00ffff; text-decoration-color: #00ffff\">                          </span>│<span style=\"color: #00ffff; text-decoration-color: #00ffff\"> base_of_data=Ptr32(0x1000), image_base=Ptr32(0x400000),                              </span>│\n",
       "│<span style=\"color: #00ffff; text-decoration-color: #00ffff\">                          </span>│<span style=\"color: #00ffff; text-decoration-color: #00ffff\"> section_alignment=UInt32(4096), file_alignment=UInt32(512), major_os_ver=UInt16(6),  </span>│\n",
       "│<span style=\"color: #00ffff; text-decoration-color: #00ffff\">                          </span>│<span style=\"color: #00ffff; text-decoration-color: #00ffff\"> minor_os_ver=UInt16(0), major_img_ver=UInt16(0), minor_img_ver=UInt16(0),            </span>│\n",
       "│<span style=\"color: #00ffff; text-decoration-color: #00ffff\">                          </span>│<span style=\"color: #00ffff; text-decoration-color: #00ffff\"> major_subsys_ver=UInt16(6), minor_subsys_ver=UInt16(0), win32_ver_val=UInt32(0),     </span>│\n",
       "│<span style=\"color: #00ffff; text-decoration-color: #00ffff\">                          </span>│<span style=\"color: #00ffff; text-decoration-color: #00ffff\"> size_of_img=UInt32(131072), size_of_hdrs=UInt32(1024), checksum=UInt32(0),           </span>│\n",
       "│<span style=\"color: #00ffff; text-decoration-color: #00ffff\">                          </span>│<span style=\"color: #00ffff; text-decoration-color: #00ffff\"> subsystem=UInt16(3), dll_characteristics=BitField16(data=b'@\\x81'),                  </span>│\n",
       "│<span style=\"color: #00ffff; text-decoration-color: #00ffff\">                          </span>│<span style=\"color: #00ffff; text-decoration-color: #00ffff\"> size_of_stack_reserve=UInt32(1048576), size_of_stack_commit=UInt32(4096),            </span>│\n",
       "│<span style=\"color: #00ffff; text-decoration-color: #00ffff\">                          </span>│<span style=\"color: #00ffff; text-decoration-color: #00ffff\"> size_of_heap_reserve=UInt32(1048576), size_of_heap_commit=UInt32(4096),              </span>│\n",
       "│<span style=\"color: #00ffff; text-decoration-color: #00ffff\">                          </span>│<span style=\"color: #00ffff; text-decoration-color: #00ffff\"> loader_flags=BitField32(data=b'\\x00\\x00\\x00\\x00'), num_of_rva_and_sizes=UInt32(16),  </span>│\n",
       "│<span style=\"color: #00ffff; text-decoration-color: #00ffff\">                          </span>│<span style=\"color: #00ffff; text-decoration-color: #00ffff\"> data_directory=ByteArray(16, DataDir))                                               </span>│\n",
       "│<span style=\"color: #808080; text-decoration-color: #808080\"> </span><span style=\"color: #808080; text-decoration-color: #808080; font-weight: bold\">repr()                  </span><span style=\"color: #808080; text-decoration-color: #808080\"> </span>│<span style=\"color: #808080; text-decoration-color: #808080\"> OptHdr32(byte_order=b'@',data=bytearray(b'\\x0b\\x01\\x0e\\x1d\\x00V\\x00\\x00\\x00F\\x00\\x0… </span>│\n",
       "│<span style=\"color: #ff0000; text-decoration-color: #ff0000\"> </span><span style=\"color: #ff0000; text-decoration-color: #ff0000; font-weight: bold\">.data                   </span><span style=\"color: #ff0000; text-decoration-color: #ff0000\"> </span>│<span style=\"color: #ff0000; text-decoration-color: #ff0000\"> bytearray(b'\\x0b\\x01\\x0e\\x1d\\x00V\\x00\\x00\\x00F\\x00\\x00\\x00\\x00\\x00\\x00#\\x10\\x01\\x00… </span>│\n",
       "└──────────────────────────┴──────────────────────────────────────────────────────────────────────────────────────┘\n",
       "</pre>\n"
      ],
      "text/plain": [
       "\u001b[3m                                                  Byteclass Info                                                   \u001b[0m\n",
       "┏━━━━━━━━━━━━━━━━━━━━━━━━━━┳━━━━━━━━━━━━━━━━━━━━━━━━━━━━━━━━━━━━━━━━━━━━━━━━━━━━━━━━━━━━━━━━━━━━━━━━━━━━━━━━━━━━━━┓\n",
       "┃\u001b[1m \u001b[0m\u001b[1mProperty                \u001b[0m\u001b[1m \u001b[0m┃\u001b[1m \u001b[0m\u001b[1mValue                                                                               \u001b[0m\u001b[1m \u001b[0m┃\n",
       "┡━━━━━━━━━━━━━━━━━━━━━━━━━━╇━━━━━━━━━━━━━━━━━━━━━━━━━━━━━━━━━━━━━━━━━━━━━━━━━━━━━━━━━━━━━━━━━━━━━━━━━━━━━━━━━━━━━━┩\n",
       "│\u001b[90m \u001b[0m\u001b[1;90mtype()                  \u001b[0m\u001b[90m \u001b[0m│\u001b[90m \u001b[0m\u001b[90mOptHdr32                                                                            \u001b[0m\u001b[90m \u001b[0m│\n",
       "│\u001b[91m \u001b[0m\u001b[1;91mis_byteclass()          \u001b[0m\u001b[91m \u001b[0m│\u001b[91m \u001b[0m\u001b[91mTrue                                                                                \u001b[0m\u001b[91m \u001b[0m│\n",
       "│\u001b[92m \u001b[0m\u001b[1;92mis_collection_instance()\u001b[0m\u001b[92m \u001b[0m│\u001b[92m \u001b[0m\u001b[92mTrue                                                                                \u001b[0m\u001b[92m \u001b[0m│\n",
       "│\u001b[93m \u001b[0m\u001b[1;93mis_primitive_instance() \u001b[0m\u001b[93m \u001b[0m│\u001b[93m \u001b[0m\u001b[93mFalse                                                                               \u001b[0m\u001b[93m \u001b[0m│\n",
       "│\u001b[94m \u001b[0m\u001b[1;94mmro                     \u001b[0m\u001b[94m \u001b[0m│\u001b[94m \u001b[0m\u001b[94mOptHdr32 -> object                                                                  \u001b[0m\u001b[94m \u001b[0m│\n",
       "│\u001b[95m \u001b[0m\u001b[1;95mlen()                   \u001b[0m\u001b[95m \u001b[0m│\u001b[95m \u001b[0m\u001b[95m224                                                                                 \u001b[0m\u001b[95m \u001b[0m│\n",
       "│\u001b[96m \u001b[0m\u001b[1;96mstr()                   \u001b[0m\u001b[96m \u001b[0m│\u001b[96m \u001b[0m\u001b[96mOptHdr32(magic=Word(data=b'\\x0b\\x01', byte_order=b'@'), major_linker_ver=UInt8(14), \u001b[0m\u001b[96m \u001b[0m│\n",
       "│\u001b[96m                          \u001b[0m│\u001b[96m \u001b[0m\u001b[96mminor_linker_ver=UInt8(29), size_of_code=UInt32(22016),                             \u001b[0m\u001b[96m \u001b[0m│\n",
       "│\u001b[96m                          \u001b[0m│\u001b[96m \u001b[0m\u001b[96msize_of_init_data=UInt32(17920), size_of_uninit_data=UInt32(0),                     \u001b[0m\u001b[96m \u001b[0m│\n",
       "│\u001b[96m                          \u001b[0m│\u001b[96m \u001b[0m\u001b[96maddr_of_entrypoint=Ptr32(0x11023), base_of_code=Ptr32(0x1000),                      \u001b[0m\u001b[96m \u001b[0m│\n",
       "│\u001b[96m                          \u001b[0m│\u001b[96m \u001b[0m\u001b[96mbase_of_data=Ptr32(0x1000), image_base=Ptr32(0x400000),                             \u001b[0m\u001b[96m \u001b[0m│\n",
       "│\u001b[96m                          \u001b[0m│\u001b[96m \u001b[0m\u001b[96msection_alignment=UInt32(4096), file_alignment=UInt32(512), major_os_ver=UInt16(6), \u001b[0m\u001b[96m \u001b[0m│\n",
       "│\u001b[96m                          \u001b[0m│\u001b[96m \u001b[0m\u001b[96mminor_os_ver=UInt16(0), major_img_ver=UInt16(0), minor_img_ver=UInt16(0),           \u001b[0m\u001b[96m \u001b[0m│\n",
       "│\u001b[96m                          \u001b[0m│\u001b[96m \u001b[0m\u001b[96mmajor_subsys_ver=UInt16(6), minor_subsys_ver=UInt16(0), win32_ver_val=UInt32(0),    \u001b[0m\u001b[96m \u001b[0m│\n",
       "│\u001b[96m                          \u001b[0m│\u001b[96m \u001b[0m\u001b[96msize_of_img=UInt32(131072), size_of_hdrs=UInt32(1024), checksum=UInt32(0),          \u001b[0m\u001b[96m \u001b[0m│\n",
       "│\u001b[96m                          \u001b[0m│\u001b[96m \u001b[0m\u001b[96msubsystem=UInt16(3), dll_characteristics=BitField16(data=b'@\\x81'),                 \u001b[0m\u001b[96m \u001b[0m│\n",
       "│\u001b[96m                          \u001b[0m│\u001b[96m \u001b[0m\u001b[96msize_of_stack_reserve=UInt32(1048576), size_of_stack_commit=UInt32(4096),           \u001b[0m\u001b[96m \u001b[0m│\n",
       "│\u001b[96m                          \u001b[0m│\u001b[96m \u001b[0m\u001b[96msize_of_heap_reserve=UInt32(1048576), size_of_heap_commit=UInt32(4096),             \u001b[0m\u001b[96m \u001b[0m│\n",
       "│\u001b[96m                          \u001b[0m│\u001b[96m \u001b[0m\u001b[96mloader_flags=BitField32(data=b'\\x00\\x00\\x00\\x00'), num_of_rva_and_sizes=UInt32(16), \u001b[0m\u001b[96m \u001b[0m│\n",
       "│\u001b[96m                          \u001b[0m│\u001b[96m \u001b[0m\u001b[96mdata_directory=ByteArray(16, DataDir))                                              \u001b[0m\u001b[96m \u001b[0m│\n",
       "│\u001b[90m \u001b[0m\u001b[1;90mrepr()                  \u001b[0m\u001b[90m \u001b[0m│\u001b[90m \u001b[0m\u001b[90mOptHdr32(byte_order=b'@',data=bytearray(b'\\x0b\\x01\\x0e\\x1d\\x00V\\x00\\x00\\x00F\\x00\\x0…\u001b[0m\u001b[90m \u001b[0m│\n",
       "│\u001b[91m \u001b[0m\u001b[1;91m.data                   \u001b[0m\u001b[91m \u001b[0m│\u001b[91m \u001b[0m\u001b[91mbytearray(b'\\x0b\\x01\\x0e\\x1d\\x00V\\x00\\x00\\x00F\\x00\\x00\\x00\\x00\\x00\\x00#\\x10\\x01\\x00…\u001b[0m\u001b[91m \u001b[0m│\n",
       "└──────────────────────────┴──────────────────────────────────────────────────────────────────────────────────────┘\n"
      ]
     },
     "metadata": {},
     "output_type": "display_data"
    }
   ],
   "source": [
    "byteclass_info(nt32_hdr.opt_hdr)"
   ]
  },
  {
   "cell_type": "code",
   "execution_count": 11,
   "metadata": {
    "execution": {
     "iopub.execute_input": "2024-04-29T21:12:00.620863Z",
     "iopub.status.busy": "2024-04-29T21:12:00.620662Z",
     "iopub.status.idle": "2024-04-29T21:12:00.640389Z",
     "shell.execute_reply": "2024-04-29T21:12:00.639748Z"
    }
   },
   "outputs": [
    {
     "data": {
      "text/html": [
       "<pre style=\"white-space:pre;overflow-x:auto;line-height:normal;font-family:Menlo,'DejaVu Sans Mono',consolas,'Courier New',monospace\">╭────────────────── Byteclass Inspect ──────────────────╮\n",
       "│       00 01 02 03 04 05 06 07 08 09 0a 0b 0c 0d 0e 0f │\n",
       "│ ----------------------------------------------------- │\n",
       "│ 0x0  <span style=\"color: #c0c0c0; text-decoration-color: #c0c0c0\">|</span><span style=\"color: #808080; text-decoration-color: #808080\">0b 01</span><span style=\"color: #c0c0c0; text-decoration-color: #c0c0c0\">|</span><span style=\"color: #ff0000; text-decoration-color: #ff0000\">0e</span><span style=\"color: #c0c0c0; text-decoration-color: #c0c0c0\">|</span><span style=\"color: #00ff00; text-decoration-color: #00ff00\">1d</span><span style=\"color: #c0c0c0; text-decoration-color: #c0c0c0\">|</span><span style=\"color: #ffff00; text-decoration-color: #ffff00\">00 56 00 00</span><span style=\"color: #c0c0c0; text-decoration-color: #c0c0c0\">|</span><span style=\"color: #0000ff; text-decoration-color: #0000ff\">00 46 00 00</span><span style=\"color: #c0c0c0; text-decoration-color: #c0c0c0\">|</span><span style=\"color: #ff00ff; text-decoration-color: #ff00ff\">00 00 00 00</span> │\n",
       "│ 0x10 <span style=\"color: #c0c0c0; text-decoration-color: #c0c0c0\">|</span><span style=\"color: #00ffff; text-decoration-color: #00ffff\">23 10 01 00</span><span style=\"color: #c0c0c0; text-decoration-color: #c0c0c0\">|</span><span style=\"color: #808080; text-decoration-color: #808080\">00 10 00 00</span><span style=\"color: #c0c0c0; text-decoration-color: #c0c0c0\">|</span><span style=\"color: #ff0000; text-decoration-color: #ff0000\">00 10 00 00</span><span style=\"color: #c0c0c0; text-decoration-color: #c0c0c0\">|</span><span style=\"color: #00ff00; text-decoration-color: #00ff00\">00 00 40 00</span> │\n",
       "│ 0x20 <span style=\"color: #c0c0c0; text-decoration-color: #c0c0c0\">|</span><span style=\"color: #ffff00; text-decoration-color: #ffff00\">00 10 00 00</span><span style=\"color: #c0c0c0; text-decoration-color: #c0c0c0\">|</span><span style=\"color: #0000ff; text-decoration-color: #0000ff\">00 02 00 00</span><span style=\"color: #c0c0c0; text-decoration-color: #c0c0c0\">|</span><span style=\"color: #ff00ff; text-decoration-color: #ff00ff\">06 00</span><span style=\"color: #c0c0c0; text-decoration-color: #c0c0c0\">|</span><span style=\"color: #00ffff; text-decoration-color: #00ffff\">00 00</span><span style=\"color: #c0c0c0; text-decoration-color: #c0c0c0\">|</span><span style=\"color: #808080; text-decoration-color: #808080\">00 00</span><span style=\"color: #c0c0c0; text-decoration-color: #c0c0c0\">|</span><span style=\"color: #ff0000; text-decoration-color: #ff0000\">00 00</span> │\n",
       "│ 0x30 <span style=\"color: #c0c0c0; text-decoration-color: #c0c0c0\">|</span><span style=\"color: #00ff00; text-decoration-color: #00ff00\">06 00</span><span style=\"color: #c0c0c0; text-decoration-color: #c0c0c0\">|</span><span style=\"color: #ffff00; text-decoration-color: #ffff00\">00 00</span><span style=\"color: #c0c0c0; text-decoration-color: #c0c0c0\">|</span><span style=\"color: #0000ff; text-decoration-color: #0000ff\">00 00 00 00</span><span style=\"color: #c0c0c0; text-decoration-color: #c0c0c0\">|</span><span style=\"color: #ff00ff; text-decoration-color: #ff00ff\">00 00 02 00</span><span style=\"color: #c0c0c0; text-decoration-color: #c0c0c0\">|</span><span style=\"color: #00ffff; text-decoration-color: #00ffff\">00 04 00 00</span> │\n",
       "│ 0x40 <span style=\"color: #c0c0c0; text-decoration-color: #c0c0c0\">|</span><span style=\"color: #808080; text-decoration-color: #808080\">00 00 00 00</span><span style=\"color: #c0c0c0; text-decoration-color: #c0c0c0\">|</span><span style=\"color: #ff0000; text-decoration-color: #ff0000\">03 00</span><span style=\"color: #c0c0c0; text-decoration-color: #c0c0c0\">|</span><span style=\"color: #00ff00; text-decoration-color: #00ff00\">40 81</span><span style=\"color: #c0c0c0; text-decoration-color: #c0c0c0\">|</span><span style=\"color: #ffff00; text-decoration-color: #ffff00\">00 00 10 00</span><span style=\"color: #c0c0c0; text-decoration-color: #c0c0c0\">|</span><span style=\"color: #0000ff; text-decoration-color: #0000ff\">00 10 00 00</span> │\n",
       "│ 0x50 <span style=\"color: #c0c0c0; text-decoration-color: #c0c0c0\">|</span><span style=\"color: #ff00ff; text-decoration-color: #ff00ff\">00 00 10 00</span><span style=\"color: #c0c0c0; text-decoration-color: #c0c0c0\">|</span><span style=\"color: #00ffff; text-decoration-color: #00ffff\">00 10 00 00</span><span style=\"color: #c0c0c0; text-decoration-color: #c0c0c0\">|</span><span style=\"color: #808080; text-decoration-color: #808080\">00 00 00 00</span><span style=\"color: #c0c0c0; text-decoration-color: #c0c0c0\">|</span><span style=\"color: #ff0000; text-decoration-color: #ff0000\">10 00 00 00</span> │\n",
       "│ 0x60 <span style=\"color: #c0c0c0; text-decoration-color: #c0c0c0\">|</span><span style=\"color: #00ff00; text-decoration-color: #00ff00\">00 00 00 00 00 00 00 00 c4 b1 01 00 50 00 00 00</span> │\n",
       "│ 0xe0 <span style=\"color: #00ff00; text-decoration-color: #00ff00\">00 e0 01 00 3c 04 00 00 00 00 00 00 00 00 00 00 </span> │\n",
       "│ <span style=\"color: #00ff00; text-decoration-color: #00ff00\">00 00 00 00 00 00 00 00 00 f0 01 00 9c 03 00 00 f8 84</span> │\n",
       "│ <span style=\"color: #00ff00; text-decoration-color: #00ff00\">01 00 38 00 00 00 00 00 00 00 00 00 00 00 00 00 00 00</span> │\n",
       "│ <span style=\"color: #00ff00; text-decoration-color: #00ff00\">00 00 00 00 00 00 00 00 00 00 00 00 30 85 01 00 40 00</span> │\n",
       "│ <span style=\"color: #00ff00; text-decoration-color: #00ff00\">00 00 00 00 00 00 00 00 00 00 00 b0 01 00 c4 01 00 00</span> │\n",
       "│ <span style=\"color: #00ff00; text-decoration-color: #00ff00\">00 00 00 00 00 00 00 00 00 00 00 00 00 00 00 00 00 00</span> │\n",
       "│ <span style=\"color: #00ff00; text-decoration-color: #00ff00\">00 00 00 00 00 00</span>                                     │\n",
       "╰───────────────────────────────────────────────────────╯\n",
       "</pre>\n"
      ],
      "text/plain": [
       "╭────────────────── Byteclass Inspect ──────────────────╮\n",
       "│       00 01 02 03 04 05 06 07 08 09 0a 0b 0c 0d 0e 0f │\n",
       "│ ----------------------------------------------------- │\n",
       "│ 0x0  \u001b[37m|\u001b[0m\u001b[90m0b 01\u001b[0m\u001b[37m|\u001b[0m\u001b[91m0e\u001b[0m\u001b[37m|\u001b[0m\u001b[92m1d\u001b[0m\u001b[37m|\u001b[0m\u001b[93m00 56 00 00\u001b[0m\u001b[37m|\u001b[0m\u001b[94m00 46 00 00\u001b[0m\u001b[37m|\u001b[0m\u001b[95m00 00 00 00\u001b[0m │\n",
       "│ 0x10 \u001b[37m|\u001b[0m\u001b[96m23 10 01 00\u001b[0m\u001b[37m|\u001b[0m\u001b[90m00 10 00 00\u001b[0m\u001b[37m|\u001b[0m\u001b[91m00 10 00 00\u001b[0m\u001b[37m|\u001b[0m\u001b[92m00 00 40 00\u001b[0m │\n",
       "│ 0x20 \u001b[37m|\u001b[0m\u001b[93m00 10 00 00\u001b[0m\u001b[37m|\u001b[0m\u001b[94m00 02 00 00\u001b[0m\u001b[37m|\u001b[0m\u001b[95m06 00\u001b[0m\u001b[37m|\u001b[0m\u001b[96m00 00\u001b[0m\u001b[37m|\u001b[0m\u001b[90m00 00\u001b[0m\u001b[37m|\u001b[0m\u001b[91m00 00\u001b[0m │\n",
       "│ 0x30 \u001b[37m|\u001b[0m\u001b[92m06 00\u001b[0m\u001b[37m|\u001b[0m\u001b[93m00 00\u001b[0m\u001b[37m|\u001b[0m\u001b[94m00 00 00 00\u001b[0m\u001b[37m|\u001b[0m\u001b[95m00 00 02 00\u001b[0m\u001b[37m|\u001b[0m\u001b[96m00 04 00 00\u001b[0m │\n",
       "│ 0x40 \u001b[37m|\u001b[0m\u001b[90m00 00 00 00\u001b[0m\u001b[37m|\u001b[0m\u001b[91m03 00\u001b[0m\u001b[37m|\u001b[0m\u001b[92m40 81\u001b[0m\u001b[37m|\u001b[0m\u001b[93m00 00 10 00\u001b[0m\u001b[37m|\u001b[0m\u001b[94m00 10 00 00\u001b[0m │\n",
       "│ 0x50 \u001b[37m|\u001b[0m\u001b[95m00 00 10 00\u001b[0m\u001b[37m|\u001b[0m\u001b[96m00 10 00 00\u001b[0m\u001b[37m|\u001b[0m\u001b[90m00 00 00 00\u001b[0m\u001b[37m|\u001b[0m\u001b[91m10 00 00 00\u001b[0m │\n",
       "│ 0x60 \u001b[37m|\u001b[0m\u001b[92m00 00 00 00 00 00 00 00 c4 b1 01 00 50 00 00 00\u001b[0m │\n",
       "│ 0xe0 \u001b[92m00 e0 01 00 3c 04 00 00 00 00 00 00 00 00 00 00 \u001b[0m │\n",
       "│ \u001b[92m00 00 00 00 00 00 00 00 00 f0 01 00 9c 03 00 00 f8 84\u001b[0m │\n",
       "│ \u001b[92m01 00 38 00 00 00 00 00 00 00 00 00 00 00 00 00 00 00\u001b[0m │\n",
       "│ \u001b[92m00 00 00 00 00 00 00 00 00 00 00 00 30 85 01 00 40 00\u001b[0m │\n",
       "│ \u001b[92m00 00 00 00 00 00 00 00 00 00 00 b0 01 00 c4 01 00 00\u001b[0m │\n",
       "│ \u001b[92m00 00 00 00 00 00 00 00 00 00 00 00 00 00 00 00 00 00\u001b[0m │\n",
       "│ \u001b[92m00 00 00 00 00 00\u001b[0m                                     │\n",
       "╰───────────────────────────────────────────────────────╯\n"
      ]
     },
     "metadata": {},
     "output_type": "display_data"
    },
    {
     "data": {
      "text/html": [
       "<pre style=\"white-space:pre;overflow-x:auto;line-height:normal;font-family:Menlo,'DejaVu Sans Mono',consolas,'Courier New',monospace\"><span style=\"font-style: italic\">                                                      Legend                                                       </span>\n",
       "┏━━━━━━━━━━━━━━━━━━━━━━━┳━━━━━━━━━━━━━━━━━━━━━━━━━━━━━━━━━━━━━━━━━━━━━━━━━━━━━━━━━━━━━━━━━━━━━━━━━━━━━━━━━━━━━━━━━┓\n",
       "┃<span style=\"font-weight: bold\"> Member                </span>┃<span style=\"font-weight: bold\"> Value                                                                                   </span>┃\n",
       "┡━━━━━━━━━━━━━━━━━━━━━━━╇━━━━━━━━━━━━━━━━━━━━━━━━━━━━━━━━━━━━━━━━━━━━━━━━━━━━━━━━━━━━━━━━━━━━━━━━━━━━━━━━━━━━━━━━━┩\n",
       "│<span style=\"color: #808080; text-decoration-color: #808080\"> </span><span style=\"color: #808080; text-decoration-color: #808080; font-weight: bold\">magic                </span><span style=\"color: #808080; text-decoration-color: #808080\"> </span>│<span style=\"color: #808080; text-decoration-color: #808080\"> b'\\x0b\\x01'                                                                             </span>│\n",
       "│<span style=\"color: #ff0000; text-decoration-color: #ff0000\"> </span><span style=\"color: #ff0000; text-decoration-color: #ff0000; font-weight: bold\">major_linker_ver     </span><span style=\"color: #ff0000; text-decoration-color: #ff0000\"> </span>│<span style=\"color: #ff0000; text-decoration-color: #ff0000\"> 14                                                                                      </span>│\n",
       "│<span style=\"color: #00ff00; text-decoration-color: #00ff00\"> </span><span style=\"color: #00ff00; text-decoration-color: #00ff00; font-weight: bold\">minor_linker_ver     </span><span style=\"color: #00ff00; text-decoration-color: #00ff00\"> </span>│<span style=\"color: #00ff00; text-decoration-color: #00ff00\"> 29                                                                                      </span>│\n",
       "│<span style=\"color: #ffff00; text-decoration-color: #ffff00\"> </span><span style=\"color: #ffff00; text-decoration-color: #ffff00; font-weight: bold\">size_of_code         </span><span style=\"color: #ffff00; text-decoration-color: #ffff00\"> </span>│<span style=\"color: #ffff00; text-decoration-color: #ffff00\"> 22016                                                                                   </span>│\n",
       "│<span style=\"color: #0000ff; text-decoration-color: #0000ff\"> </span><span style=\"color: #0000ff; text-decoration-color: #0000ff; font-weight: bold\">size_of_init_data    </span><span style=\"color: #0000ff; text-decoration-color: #0000ff\"> </span>│<span style=\"color: #0000ff; text-decoration-color: #0000ff\"> 17920                                                                                   </span>│\n",
       "│<span style=\"color: #ff00ff; text-decoration-color: #ff00ff\"> </span><span style=\"color: #ff00ff; text-decoration-color: #ff00ff; font-weight: bold\">size_of_uninit_data  </span><span style=\"color: #ff00ff; text-decoration-color: #ff00ff\"> </span>│<span style=\"color: #ff00ff; text-decoration-color: #ff00ff\"> 0                                                                                       </span>│\n",
       "│<span style=\"color: #00ffff; text-decoration-color: #00ffff\"> </span><span style=\"color: #00ffff; text-decoration-color: #00ffff; font-weight: bold\">addr_of_entrypoint   </span><span style=\"color: #00ffff; text-decoration-color: #00ffff\"> </span>│<span style=\"color: #00ffff; text-decoration-color: #00ffff\"> 0x00011023                                                                              </span>│\n",
       "│<span style=\"color: #808080; text-decoration-color: #808080\"> </span><span style=\"color: #808080; text-decoration-color: #808080; font-weight: bold\">base_of_code         </span><span style=\"color: #808080; text-decoration-color: #808080\"> </span>│<span style=\"color: #808080; text-decoration-color: #808080\"> 0x00001000                                                                              </span>│\n",
       "│<span style=\"color: #ff0000; text-decoration-color: #ff0000\"> </span><span style=\"color: #ff0000; text-decoration-color: #ff0000; font-weight: bold\">base_of_data         </span><span style=\"color: #ff0000; text-decoration-color: #ff0000\"> </span>│<span style=\"color: #ff0000; text-decoration-color: #ff0000\"> 0x00001000                                                                              </span>│\n",
       "│<span style=\"color: #00ff00; text-decoration-color: #00ff00\"> </span><span style=\"color: #00ff00; text-decoration-color: #00ff00; font-weight: bold\">image_base           </span><span style=\"color: #00ff00; text-decoration-color: #00ff00\"> </span>│<span style=\"color: #00ff00; text-decoration-color: #00ff00\"> 0x00400000                                                                              </span>│\n",
       "│<span style=\"color: #ffff00; text-decoration-color: #ffff00\"> </span><span style=\"color: #ffff00; text-decoration-color: #ffff00; font-weight: bold\">section_alignment    </span><span style=\"color: #ffff00; text-decoration-color: #ffff00\"> </span>│<span style=\"color: #ffff00; text-decoration-color: #ffff00\"> 4096                                                                                    </span>│\n",
       "│<span style=\"color: #0000ff; text-decoration-color: #0000ff\"> </span><span style=\"color: #0000ff; text-decoration-color: #0000ff; font-weight: bold\">file_alignment       </span><span style=\"color: #0000ff; text-decoration-color: #0000ff\"> </span>│<span style=\"color: #0000ff; text-decoration-color: #0000ff\"> 512                                                                                     </span>│\n",
       "│<span style=\"color: #ff00ff; text-decoration-color: #ff00ff\"> </span><span style=\"color: #ff00ff; text-decoration-color: #ff00ff; font-weight: bold\">major_os_ver         </span><span style=\"color: #ff00ff; text-decoration-color: #ff00ff\"> </span>│<span style=\"color: #ff00ff; text-decoration-color: #ff00ff\"> 6                                                                                       </span>│\n",
       "│<span style=\"color: #00ffff; text-decoration-color: #00ffff\"> </span><span style=\"color: #00ffff; text-decoration-color: #00ffff; font-weight: bold\">minor_os_ver         </span><span style=\"color: #00ffff; text-decoration-color: #00ffff\"> </span>│<span style=\"color: #00ffff; text-decoration-color: #00ffff\"> 0                                                                                       </span>│\n",
       "│<span style=\"color: #808080; text-decoration-color: #808080\"> </span><span style=\"color: #808080; text-decoration-color: #808080; font-weight: bold\">major_img_ver        </span><span style=\"color: #808080; text-decoration-color: #808080\"> </span>│<span style=\"color: #808080; text-decoration-color: #808080\"> 0                                                                                       </span>│\n",
       "│<span style=\"color: #ff0000; text-decoration-color: #ff0000\"> </span><span style=\"color: #ff0000; text-decoration-color: #ff0000; font-weight: bold\">minor_img_ver        </span><span style=\"color: #ff0000; text-decoration-color: #ff0000\"> </span>│<span style=\"color: #ff0000; text-decoration-color: #ff0000\"> 0                                                                                       </span>│\n",
       "│<span style=\"color: #00ff00; text-decoration-color: #00ff00\"> </span><span style=\"color: #00ff00; text-decoration-color: #00ff00; font-weight: bold\">major_subsys_ver     </span><span style=\"color: #00ff00; text-decoration-color: #00ff00\"> </span>│<span style=\"color: #00ff00; text-decoration-color: #00ff00\"> 6                                                                                       </span>│\n",
       "│<span style=\"color: #ffff00; text-decoration-color: #ffff00\"> </span><span style=\"color: #ffff00; text-decoration-color: #ffff00; font-weight: bold\">minor_subsys_ver     </span><span style=\"color: #ffff00; text-decoration-color: #ffff00\"> </span>│<span style=\"color: #ffff00; text-decoration-color: #ffff00\"> 0                                                                                       </span>│\n",
       "│<span style=\"color: #0000ff; text-decoration-color: #0000ff\"> </span><span style=\"color: #0000ff; text-decoration-color: #0000ff; font-weight: bold\">win32_ver_val        </span><span style=\"color: #0000ff; text-decoration-color: #0000ff\"> </span>│<span style=\"color: #0000ff; text-decoration-color: #0000ff\"> 0                                                                                       </span>│\n",
       "│<span style=\"color: #ff00ff; text-decoration-color: #ff00ff\"> </span><span style=\"color: #ff00ff; text-decoration-color: #ff00ff; font-weight: bold\">size_of_img          </span><span style=\"color: #ff00ff; text-decoration-color: #ff00ff\"> </span>│<span style=\"color: #ff00ff; text-decoration-color: #ff00ff\"> 131072                                                                                  </span>│\n",
       "│<span style=\"color: #00ffff; text-decoration-color: #00ffff\"> </span><span style=\"color: #00ffff; text-decoration-color: #00ffff; font-weight: bold\">size_of_hdrs         </span><span style=\"color: #00ffff; text-decoration-color: #00ffff\"> </span>│<span style=\"color: #00ffff; text-decoration-color: #00ffff\"> 1024                                                                                    </span>│\n",
       "│<span style=\"color: #808080; text-decoration-color: #808080\"> </span><span style=\"color: #808080; text-decoration-color: #808080; font-weight: bold\">checksum             </span><span style=\"color: #808080; text-decoration-color: #808080\"> </span>│<span style=\"color: #808080; text-decoration-color: #808080\"> 0                                                                                       </span>│\n",
       "│<span style=\"color: #ff0000; text-decoration-color: #ff0000\"> </span><span style=\"color: #ff0000; text-decoration-color: #ff0000; font-weight: bold\">subsystem            </span><span style=\"color: #ff0000; text-decoration-color: #ff0000\"> </span>│<span style=\"color: #ff0000; text-decoration-color: #ff0000\"> 3                                                                                       </span>│\n",
       "│<span style=\"color: #00ff00; text-decoration-color: #00ff00\"> </span><span style=\"color: #00ff00; text-decoration-color: #00ff00; font-weight: bold\">dll_characteristics  </span><span style=\"color: #00ff00; text-decoration-color: #00ff00\"> </span>│<span style=\"color: #00ff00; text-decoration-color: #00ff00\"> BitField16(0000001010000001, flags={})                                                  </span>│\n",
       "│<span style=\"color: #ffff00; text-decoration-color: #ffff00\"> </span><span style=\"color: #ffff00; text-decoration-color: #ffff00; font-weight: bold\">size_of_stack_reserve</span><span style=\"color: #ffff00; text-decoration-color: #ffff00\"> </span>│<span style=\"color: #ffff00; text-decoration-color: #ffff00\"> 1048576                                                                                 </span>│\n",
       "│<span style=\"color: #0000ff; text-decoration-color: #0000ff\"> </span><span style=\"color: #0000ff; text-decoration-color: #0000ff; font-weight: bold\">size_of_stack_commit </span><span style=\"color: #0000ff; text-decoration-color: #0000ff\"> </span>│<span style=\"color: #0000ff; text-decoration-color: #0000ff\"> 4096                                                                                    </span>│\n",
       "│<span style=\"color: #ff00ff; text-decoration-color: #ff00ff\"> </span><span style=\"color: #ff00ff; text-decoration-color: #ff00ff; font-weight: bold\">size_of_heap_reserve </span><span style=\"color: #ff00ff; text-decoration-color: #ff00ff\"> </span>│<span style=\"color: #ff00ff; text-decoration-color: #ff00ff\"> 1048576                                                                                 </span>│\n",
       "│<span style=\"color: #00ffff; text-decoration-color: #00ffff\"> </span><span style=\"color: #00ffff; text-decoration-color: #00ffff; font-weight: bold\">size_of_heap_commit  </span><span style=\"color: #00ffff; text-decoration-color: #00ffff\"> </span>│<span style=\"color: #00ffff; text-decoration-color: #00ffff\"> 4096                                                                                    </span>│\n",
       "│<span style=\"color: #808080; text-decoration-color: #808080\"> </span><span style=\"color: #808080; text-decoration-color: #808080; font-weight: bold\">loader_flags         </span><span style=\"color: #808080; text-decoration-color: #808080\"> </span>│<span style=\"color: #808080; text-decoration-color: #808080\"> BitField32(00000000000000000000000000000000, flags={})                                  </span>│\n",
       "│<span style=\"color: #ff0000; text-decoration-color: #ff0000\"> </span><span style=\"color: #ff0000; text-decoration-color: #ff0000; font-weight: bold\">num_of_rva_and_sizes </span><span style=\"color: #ff0000; text-decoration-color: #ff0000\"> </span>│<span style=\"color: #ff0000; text-decoration-color: #ff0000\"> 16                                                                                      </span>│\n",
       "│<span style=\"color: #00ff00; text-decoration-color: #00ff00\"> </span><span style=\"color: #00ff00; text-decoration-color: #00ff00; font-weight: bold\">data_directory       </span><span style=\"color: #00ff00; text-decoration-color: #00ff00\"> </span>│<span style=\"color: #00ff00; text-decoration-color: #00ff00\"> (DataDir(byte_order=b'@',data=bytearray(b'\\x00\\x00\\x00\\x00\\x00\\x00\\x00\\x00')),          </span>│\n",
       "│<span style=\"color: #00ff00; text-decoration-color: #00ff00\">                       </span>│<span style=\"color: #00ff00; text-decoration-color: #00ff00\"> DataDir(byte_order=b'@',data=bytearray(b'\\xc4\\xb1\\x01\\x00P\\x00\\x00\\x00')),              </span>│\n",
       "│<span style=\"color: #00ff00; text-decoration-color: #00ff00\">                       </span>│<span style=\"color: #00ff00; text-decoration-color: #00ff00\"> DataDir(byte_order=b'@',data=bytearray(b'\\x00\\xe0\\x01\\x00&lt;\\x04\\x00\\x00')),              </span>│\n",
       "│<span style=\"color: #00ff00; text-decoration-color: #00ff00\">                       </span>│<span style=\"color: #00ff00; text-decoration-color: #00ff00\"> DataDir(byte_order=b'@',data=bytearray(b'\\x00\\x00\\x00\\x00\\x00\\x00\\x00\\x00')),           </span>│\n",
       "│<span style=\"color: #00ff00; text-decoration-color: #00ff00\">                       </span>│<span style=\"color: #00ff00; text-decoration-color: #00ff00\"> DataDir(byte_order=b'@',data=bytearray(b'\\x00\\x00\\x00\\x00\\x00\\x00\\x00\\x00')),           </span>│\n",
       "│<span style=\"color: #00ff00; text-decoration-color: #00ff00\">                       </span>│<span style=\"color: #00ff00; text-decoration-color: #00ff00\"> DataDir(byte_order=b'@',data=bytearray(b'\\x00\\xf0\\x01\\x00\\x9c\\x03\\x00\\x00')),           </span>│\n",
       "│<span style=\"color: #00ff00; text-decoration-color: #00ff00\">                       </span>│<span style=\"color: #00ff00; text-decoration-color: #00ff00\"> DataDir(byte_order=b'@',data=bytearray(b'\\xf8\\x84\\x01\\x008\\x00\\x00\\x00')),              </span>│\n",
       "│<span style=\"color: #00ff00; text-decoration-color: #00ff00\">                       </span>│<span style=\"color: #00ff00; text-decoration-color: #00ff00\"> DataDir(byte_order=b'@',data=bytearray(b'\\x00\\x00\\x00\\x00\\x00\\x00\\x00\\x00')),           </span>│\n",
       "│<span style=\"color: #00ff00; text-decoration-color: #00ff00\">                       </span>│<span style=\"color: #00ff00; text-decoration-color: #00ff00\"> DataDir(byte_order=b'@',data=bytearray(b'\\x00\\x00\\x00\\x00\\x00\\x00\\x00\\x00')),           </span>│\n",
       "│<span style=\"color: #00ff00; text-decoration-color: #00ff00\">                       </span>│<span style=\"color: #00ff00; text-decoration-color: #00ff00\"> DataDir(byte_order=b'@',data=bytearray(b'\\x00\\x00\\x00\\x00\\x00\\x00\\x00\\x00')),           </span>│\n",
       "│<span style=\"color: #00ff00; text-decoration-color: #00ff00\">                       </span>│<span style=\"color: #00ff00; text-decoration-color: #00ff00\"> DataDir(byte_order=b'@',data=bytearray(b'0\\x85\\x01\\x00@\\x00\\x00\\x00')),                 </span>│\n",
       "│<span style=\"color: #00ff00; text-decoration-color: #00ff00\">                       </span>│<span style=\"color: #00ff00; text-decoration-color: #00ff00\"> DataDir(byte_order=b'@',data=bytearray(b'\\x00\\x00\\x00\\x00\\x00\\x00\\x00\\x00')),           </span>│\n",
       "│<span style=\"color: #00ff00; text-decoration-color: #00ff00\">                       </span>│<span style=\"color: #00ff00; text-decoration-color: #00ff00\"> DataDir(byte_order=b'@',data=bytearray(b'\\x00\\xb0\\x01\\x00\\xc4\\x01\\x00\\x00')),           </span>│\n",
       "│<span style=\"color: #00ff00; text-decoration-color: #00ff00\">                       </span>│<span style=\"color: #00ff00; text-decoration-color: #00ff00\"> DataDir(byte_order=b'@',data=bytearray(b'\\x00\\x00\\x00\\x00\\x00\\x00\\x00\\x00')),           </span>│\n",
       "│<span style=\"color: #00ff00; text-decoration-color: #00ff00\">                       </span>│<span style=\"color: #00ff00; text-decoration-color: #00ff00\"> DataDir(byte_order=b'@',data=bytearray(b'\\x00\\x00\\x00\\x00\\x00\\x00\\x00\\x00')),           </span>│\n",
       "│<span style=\"color: #00ff00; text-decoration-color: #00ff00\">                       </span>│<span style=\"color: #00ff00; text-decoration-color: #00ff00\"> DataDir(byte_order=b'@',data=bytearray(b'\\x00\\x00\\x00\\x00\\x00\\x00\\x00\\x00')))           </span>│\n",
       "└───────────────────────┴─────────────────────────────────────────────────────────────────────────────────────────┘\n",
       "</pre>\n"
      ],
      "text/plain": [
       "\u001b[3m                                                      Legend                                                       \u001b[0m\n",
       "┏━━━━━━━━━━━━━━━━━━━━━━━┳━━━━━━━━━━━━━━━━━━━━━━━━━━━━━━━━━━━━━━━━━━━━━━━━━━━━━━━━━━━━━━━━━━━━━━━━━━━━━━━━━━━━━━━━━┓\n",
       "┃\u001b[1m \u001b[0m\u001b[1mMember               \u001b[0m\u001b[1m \u001b[0m┃\u001b[1m \u001b[0m\u001b[1mValue                                                                                  \u001b[0m\u001b[1m \u001b[0m┃\n",
       "┡━━━━━━━━━━━━━━━━━━━━━━━╇━━━━━━━━━━━━━━━━━━━━━━━━━━━━━━━━━━━━━━━━━━━━━━━━━━━━━━━━━━━━━━━━━━━━━━━━━━━━━━━━━━━━━━━━━┩\n",
       "│\u001b[90m \u001b[0m\u001b[1;90mmagic                \u001b[0m\u001b[90m \u001b[0m│\u001b[90m \u001b[0m\u001b[90mb'\\x0b\\x01'                                                                            \u001b[0m\u001b[90m \u001b[0m│\n",
       "│\u001b[91m \u001b[0m\u001b[1;91mmajor_linker_ver     \u001b[0m\u001b[91m \u001b[0m│\u001b[91m \u001b[0m\u001b[91m14                                                                                     \u001b[0m\u001b[91m \u001b[0m│\n",
       "│\u001b[92m \u001b[0m\u001b[1;92mminor_linker_ver     \u001b[0m\u001b[92m \u001b[0m│\u001b[92m \u001b[0m\u001b[92m29                                                                                     \u001b[0m\u001b[92m \u001b[0m│\n",
       "│\u001b[93m \u001b[0m\u001b[1;93msize_of_code         \u001b[0m\u001b[93m \u001b[0m│\u001b[93m \u001b[0m\u001b[93m22016                                                                                  \u001b[0m\u001b[93m \u001b[0m│\n",
       "│\u001b[94m \u001b[0m\u001b[1;94msize_of_init_data    \u001b[0m\u001b[94m \u001b[0m│\u001b[94m \u001b[0m\u001b[94m17920                                                                                  \u001b[0m\u001b[94m \u001b[0m│\n",
       "│\u001b[95m \u001b[0m\u001b[1;95msize_of_uninit_data  \u001b[0m\u001b[95m \u001b[0m│\u001b[95m \u001b[0m\u001b[95m0                                                                                      \u001b[0m\u001b[95m \u001b[0m│\n",
       "│\u001b[96m \u001b[0m\u001b[1;96maddr_of_entrypoint   \u001b[0m\u001b[96m \u001b[0m│\u001b[96m \u001b[0m\u001b[96m0x00011023                                                                             \u001b[0m\u001b[96m \u001b[0m│\n",
       "│\u001b[90m \u001b[0m\u001b[1;90mbase_of_code         \u001b[0m\u001b[90m \u001b[0m│\u001b[90m \u001b[0m\u001b[90m0x00001000                                                                             \u001b[0m\u001b[90m \u001b[0m│\n",
       "│\u001b[91m \u001b[0m\u001b[1;91mbase_of_data         \u001b[0m\u001b[91m \u001b[0m│\u001b[91m \u001b[0m\u001b[91m0x00001000                                                                             \u001b[0m\u001b[91m \u001b[0m│\n",
       "│\u001b[92m \u001b[0m\u001b[1;92mimage_base           \u001b[0m\u001b[92m \u001b[0m│\u001b[92m \u001b[0m\u001b[92m0x00400000                                                                             \u001b[0m\u001b[92m \u001b[0m│\n",
       "│\u001b[93m \u001b[0m\u001b[1;93msection_alignment    \u001b[0m\u001b[93m \u001b[0m│\u001b[93m \u001b[0m\u001b[93m4096                                                                                   \u001b[0m\u001b[93m \u001b[0m│\n",
       "│\u001b[94m \u001b[0m\u001b[1;94mfile_alignment       \u001b[0m\u001b[94m \u001b[0m│\u001b[94m \u001b[0m\u001b[94m512                                                                                    \u001b[0m\u001b[94m \u001b[0m│\n",
       "│\u001b[95m \u001b[0m\u001b[1;95mmajor_os_ver         \u001b[0m\u001b[95m \u001b[0m│\u001b[95m \u001b[0m\u001b[95m6                                                                                      \u001b[0m\u001b[95m \u001b[0m│\n",
       "│\u001b[96m \u001b[0m\u001b[1;96mminor_os_ver         \u001b[0m\u001b[96m \u001b[0m│\u001b[96m \u001b[0m\u001b[96m0                                                                                      \u001b[0m\u001b[96m \u001b[0m│\n",
       "│\u001b[90m \u001b[0m\u001b[1;90mmajor_img_ver        \u001b[0m\u001b[90m \u001b[0m│\u001b[90m \u001b[0m\u001b[90m0                                                                                      \u001b[0m\u001b[90m \u001b[0m│\n",
       "│\u001b[91m \u001b[0m\u001b[1;91mminor_img_ver        \u001b[0m\u001b[91m \u001b[0m│\u001b[91m \u001b[0m\u001b[91m0                                                                                      \u001b[0m\u001b[91m \u001b[0m│\n",
       "│\u001b[92m \u001b[0m\u001b[1;92mmajor_subsys_ver     \u001b[0m\u001b[92m \u001b[0m│\u001b[92m \u001b[0m\u001b[92m6                                                                                      \u001b[0m\u001b[92m \u001b[0m│\n",
       "│\u001b[93m \u001b[0m\u001b[1;93mminor_subsys_ver     \u001b[0m\u001b[93m \u001b[0m│\u001b[93m \u001b[0m\u001b[93m0                                                                                      \u001b[0m\u001b[93m \u001b[0m│\n",
       "│\u001b[94m \u001b[0m\u001b[1;94mwin32_ver_val        \u001b[0m\u001b[94m \u001b[0m│\u001b[94m \u001b[0m\u001b[94m0                                                                                      \u001b[0m\u001b[94m \u001b[0m│\n",
       "│\u001b[95m \u001b[0m\u001b[1;95msize_of_img          \u001b[0m\u001b[95m \u001b[0m│\u001b[95m \u001b[0m\u001b[95m131072                                                                                 \u001b[0m\u001b[95m \u001b[0m│\n",
       "│\u001b[96m \u001b[0m\u001b[1;96msize_of_hdrs         \u001b[0m\u001b[96m \u001b[0m│\u001b[96m \u001b[0m\u001b[96m1024                                                                                   \u001b[0m\u001b[96m \u001b[0m│\n",
       "│\u001b[90m \u001b[0m\u001b[1;90mchecksum             \u001b[0m\u001b[90m \u001b[0m│\u001b[90m \u001b[0m\u001b[90m0                                                                                      \u001b[0m\u001b[90m \u001b[0m│\n",
       "│\u001b[91m \u001b[0m\u001b[1;91msubsystem            \u001b[0m\u001b[91m \u001b[0m│\u001b[91m \u001b[0m\u001b[91m3                                                                                      \u001b[0m\u001b[91m \u001b[0m│\n",
       "│\u001b[92m \u001b[0m\u001b[1;92mdll_characteristics  \u001b[0m\u001b[92m \u001b[0m│\u001b[92m \u001b[0m\u001b[92mBitField16(0000001010000001, flags={})                                                 \u001b[0m\u001b[92m \u001b[0m│\n",
       "│\u001b[93m \u001b[0m\u001b[1;93msize_of_stack_reserve\u001b[0m\u001b[93m \u001b[0m│\u001b[93m \u001b[0m\u001b[93m1048576                                                                                \u001b[0m\u001b[93m \u001b[0m│\n",
       "│\u001b[94m \u001b[0m\u001b[1;94msize_of_stack_commit \u001b[0m\u001b[94m \u001b[0m│\u001b[94m \u001b[0m\u001b[94m4096                                                                                   \u001b[0m\u001b[94m \u001b[0m│\n",
       "│\u001b[95m \u001b[0m\u001b[1;95msize_of_heap_reserve \u001b[0m\u001b[95m \u001b[0m│\u001b[95m \u001b[0m\u001b[95m1048576                                                                                \u001b[0m\u001b[95m \u001b[0m│\n",
       "│\u001b[96m \u001b[0m\u001b[1;96msize_of_heap_commit  \u001b[0m\u001b[96m \u001b[0m│\u001b[96m \u001b[0m\u001b[96m4096                                                                                   \u001b[0m\u001b[96m \u001b[0m│\n",
       "│\u001b[90m \u001b[0m\u001b[1;90mloader_flags         \u001b[0m\u001b[90m \u001b[0m│\u001b[90m \u001b[0m\u001b[90mBitField32(00000000000000000000000000000000, flags={})                                 \u001b[0m\u001b[90m \u001b[0m│\n",
       "│\u001b[91m \u001b[0m\u001b[1;91mnum_of_rva_and_sizes \u001b[0m\u001b[91m \u001b[0m│\u001b[91m \u001b[0m\u001b[91m16                                                                                     \u001b[0m\u001b[91m \u001b[0m│\n",
       "│\u001b[92m \u001b[0m\u001b[1;92mdata_directory       \u001b[0m\u001b[92m \u001b[0m│\u001b[92m \u001b[0m\u001b[92m(DataDir(byte_order=b'@',data=bytearray(b'\\x00\\x00\\x00\\x00\\x00\\x00\\x00\\x00')),         \u001b[0m\u001b[92m \u001b[0m│\n",
       "│\u001b[92m                       \u001b[0m│\u001b[92m \u001b[0m\u001b[92mDataDir(byte_order=b'@',data=bytearray(b'\\xc4\\xb1\\x01\\x00P\\x00\\x00\\x00')),             \u001b[0m\u001b[92m \u001b[0m│\n",
       "│\u001b[92m                       \u001b[0m│\u001b[92m \u001b[0m\u001b[92mDataDir(byte_order=b'@',data=bytearray(b'\\x00\\xe0\\x01\\x00<\\x04\\x00\\x00')),             \u001b[0m\u001b[92m \u001b[0m│\n",
       "│\u001b[92m                       \u001b[0m│\u001b[92m \u001b[0m\u001b[92mDataDir(byte_order=b'@',data=bytearray(b'\\x00\\x00\\x00\\x00\\x00\\x00\\x00\\x00')),          \u001b[0m\u001b[92m \u001b[0m│\n",
       "│\u001b[92m                       \u001b[0m│\u001b[92m \u001b[0m\u001b[92mDataDir(byte_order=b'@',data=bytearray(b'\\x00\\x00\\x00\\x00\\x00\\x00\\x00\\x00')),          \u001b[0m\u001b[92m \u001b[0m│\n",
       "│\u001b[92m                       \u001b[0m│\u001b[92m \u001b[0m\u001b[92mDataDir(byte_order=b'@',data=bytearray(b'\\x00\\xf0\\x01\\x00\\x9c\\x03\\x00\\x00')),          \u001b[0m\u001b[92m \u001b[0m│\n",
       "│\u001b[92m                       \u001b[0m│\u001b[92m \u001b[0m\u001b[92mDataDir(byte_order=b'@',data=bytearray(b'\\xf8\\x84\\x01\\x008\\x00\\x00\\x00')),             \u001b[0m\u001b[92m \u001b[0m│\n",
       "│\u001b[92m                       \u001b[0m│\u001b[92m \u001b[0m\u001b[92mDataDir(byte_order=b'@',data=bytearray(b'\\x00\\x00\\x00\\x00\\x00\\x00\\x00\\x00')),          \u001b[0m\u001b[92m \u001b[0m│\n",
       "│\u001b[92m                       \u001b[0m│\u001b[92m \u001b[0m\u001b[92mDataDir(byte_order=b'@',data=bytearray(b'\\x00\\x00\\x00\\x00\\x00\\x00\\x00\\x00')),          \u001b[0m\u001b[92m \u001b[0m│\n",
       "│\u001b[92m                       \u001b[0m│\u001b[92m \u001b[0m\u001b[92mDataDir(byte_order=b'@',data=bytearray(b'\\x00\\x00\\x00\\x00\\x00\\x00\\x00\\x00')),          \u001b[0m\u001b[92m \u001b[0m│\n",
       "│\u001b[92m                       \u001b[0m│\u001b[92m \u001b[0m\u001b[92mDataDir(byte_order=b'@',data=bytearray(b'0\\x85\\x01\\x00@\\x00\\x00\\x00')),                \u001b[0m\u001b[92m \u001b[0m│\n",
       "│\u001b[92m                       \u001b[0m│\u001b[92m \u001b[0m\u001b[92mDataDir(byte_order=b'@',data=bytearray(b'\\x00\\x00\\x00\\x00\\x00\\x00\\x00\\x00')),          \u001b[0m\u001b[92m \u001b[0m│\n",
       "│\u001b[92m                       \u001b[0m│\u001b[92m \u001b[0m\u001b[92mDataDir(byte_order=b'@',data=bytearray(b'\\x00\\xb0\\x01\\x00\\xc4\\x01\\x00\\x00')),          \u001b[0m\u001b[92m \u001b[0m│\n",
       "│\u001b[92m                       \u001b[0m│\u001b[92m \u001b[0m\u001b[92mDataDir(byte_order=b'@',data=bytearray(b'\\x00\\x00\\x00\\x00\\x00\\x00\\x00\\x00')),          \u001b[0m\u001b[92m \u001b[0m│\n",
       "│\u001b[92m                       \u001b[0m│\u001b[92m \u001b[0m\u001b[92mDataDir(byte_order=b'@',data=bytearray(b'\\x00\\x00\\x00\\x00\\x00\\x00\\x00\\x00')),          \u001b[0m\u001b[92m \u001b[0m│\n",
       "│\u001b[92m                       \u001b[0m│\u001b[92m \u001b[0m\u001b[92mDataDir(byte_order=b'@',data=bytearray(b'\\x00\\x00\\x00\\x00\\x00\\x00\\x00\\x00')))          \u001b[0m\u001b[92m \u001b[0m│\n",
       "└───────────────────────┴─────────────────────────────────────────────────────────────────────────────────────────┘\n"
      ]
     },
     "metadata": {},
     "output_type": "display_data"
    }
   ],
   "source": [
    "byteclass_inspect(nt32_hdr.opt_hdr)"
   ]
  },
  {
   "cell_type": "code",
   "execution_count": 12,
   "metadata": {
    "execution": {
     "iopub.execute_input": "2024-04-29T21:12:00.642656Z",
     "iopub.status.busy": "2024-04-29T21:12:00.642457Z",
     "iopub.status.idle": "2024-04-29T21:12:00.651231Z",
     "shell.execute_reply": "2024-04-29T21:12:00.650678Z"
    }
   },
   "outputs": [
    {
     "data": {
      "text/html": [
       "<pre style=\"white-space:pre;overflow-x:auto;line-height:normal;font-family:Menlo,'DejaVu Sans Mono',consolas,'Courier New',monospace\"><span style=\"font-style: italic\">                                                  Byteclass Info                                                   </span>\n",
       "┏━━━━━━━━━━━━━━━━━━━━━━━━━━┳━━━━━━━━━━━━━━━━━━━━━━━━━━━━━━━━━━━━━━━━━━━━━━━━━━━━━━━━━━━━━━━━━━━━━━━━━━━━━━━━━━━━━━┓\n",
       "┃<span style=\"font-weight: bold\"> Property                 </span>┃<span style=\"font-weight: bold\"> Value                                                                                </span>┃\n",
       "┡━━━━━━━━━━━━━━━━━━━━━━━━━━╇━━━━━━━━━━━━━━━━━━━━━━━━━━━━━━━━━━━━━━━━━━━━━━━━━━━━━━━━━━━━━━━━━━━━━━━━━━━━━━━━━━━━━━┩\n",
       "│<span style=\"color: #808080; text-decoration-color: #808080\"> </span><span style=\"color: #808080; text-decoration-color: #808080; font-weight: bold\">type()                  </span><span style=\"color: #808080; text-decoration-color: #808080\"> </span>│<span style=\"color: #808080; text-decoration-color: #808080\"> ByteArray                                                                            </span>│\n",
       "│<span style=\"color: #ff0000; text-decoration-color: #ff0000\"> </span><span style=\"color: #ff0000; text-decoration-color: #ff0000; font-weight: bold\">is_byteclass()          </span><span style=\"color: #ff0000; text-decoration-color: #ff0000\"> </span>│<span style=\"color: #ff0000; text-decoration-color: #ff0000\"> True                                                                                 </span>│\n",
       "│<span style=\"color: #00ff00; text-decoration-color: #00ff00\"> </span><span style=\"color: #00ff00; text-decoration-color: #00ff00; font-weight: bold\">is_collection_instance()</span><span style=\"color: #00ff00; text-decoration-color: #00ff00\"> </span>│<span style=\"color: #00ff00; text-decoration-color: #00ff00\"> True                                                                                 </span>│\n",
       "│<span style=\"color: #ffff00; text-decoration-color: #ffff00\"> </span><span style=\"color: #ffff00; text-decoration-color: #ffff00; font-weight: bold\">is_primitive_instance() </span><span style=\"color: #ffff00; text-decoration-color: #ffff00\"> </span>│<span style=\"color: #ffff00; text-decoration-color: #ffff00\"> False                                                                                </span>│\n",
       "│<span style=\"color: #0000ff; text-decoration-color: #0000ff\"> </span><span style=\"color: #0000ff; text-decoration-color: #0000ff; font-weight: bold\">mro                     </span><span style=\"color: #0000ff; text-decoration-color: #0000ff\"> </span>│<span style=\"color: #0000ff; text-decoration-color: #0000ff\"> ByteArray -&gt; object                                                                  </span>│\n",
       "│<span style=\"color: #ff00ff; text-decoration-color: #ff00ff\"> </span><span style=\"color: #ff00ff; text-decoration-color: #ff00ff; font-weight: bold\">len()                   </span><span style=\"color: #ff00ff; text-decoration-color: #ff00ff\"> </span>│<span style=\"color: #ff00ff; text-decoration-color: #ff00ff\"> 128                                                                                  </span>│\n",
       "│<span style=\"color: #00ffff; text-decoration-color: #00ffff\"> </span><span style=\"color: #00ffff; text-decoration-color: #00ffff; font-weight: bold\">str()                   </span><span style=\"color: #00ffff; text-decoration-color: #00ffff\"> </span>│<span style=\"color: #00ffff; text-decoration-color: #00ffff\"> (DataDir(byte_order=b'@',data=bytearray(b'\\x00\\x00\\x00\\x00\\x00\\x00\\x00\\x00')),       </span>│\n",
       "│<span style=\"color: #00ffff; text-decoration-color: #00ffff\">                          </span>│<span style=\"color: #00ffff; text-decoration-color: #00ffff\"> DataDir(byte_order=b'@',data=bytearray(b'\\xc4\\xb1\\x01\\x00P\\x00\\x00\\x00')),           </span>│\n",
       "│<span style=\"color: #00ffff; text-decoration-color: #00ffff\">                          </span>│<span style=\"color: #00ffff; text-decoration-color: #00ffff\"> DataDir(byte_order=b'@',data=bytearray(b'\\x00\\xe0\\x01\\x00&lt;\\x04\\x00\\x00')),           </span>│\n",
       "│<span style=\"color: #00ffff; text-decoration-color: #00ffff\">                          </span>│<span style=\"color: #00ffff; text-decoration-color: #00ffff\"> DataDir(byte_order=b'@',data=bytearray(b'\\x00\\x00\\x00\\x00\\x00\\x00\\x00\\x00')),        </span>│\n",
       "│<span style=\"color: #00ffff; text-decoration-color: #00ffff\">                          </span>│<span style=\"color: #00ffff; text-decoration-color: #00ffff\"> DataDir(byte_order=b'@',data=bytearray(b'\\x00\\x00\\x00\\x00\\x00\\x00\\x00\\x00')),        </span>│\n",
       "│<span style=\"color: #00ffff; text-decoration-color: #00ffff\">                          </span>│<span style=\"color: #00ffff; text-decoration-color: #00ffff\"> DataDir(byte_order=b'@',data=bytearray(b'\\x00\\xf0\\x01\\x00\\x9c\\x03\\x00\\x00')),        </span>│\n",
       "│<span style=\"color: #00ffff; text-decoration-color: #00ffff\">                          </span>│<span style=\"color: #00ffff; text-decoration-color: #00ffff\"> DataDir(byte_order=b'@',data=bytearray(b'\\xf8\\x84\\x01\\x008\\x00\\x00\\x00')),           </span>│\n",
       "│<span style=\"color: #00ffff; text-decoration-color: #00ffff\">                          </span>│<span style=\"color: #00ffff; text-decoration-color: #00ffff\"> DataDir(byte_order=b'@',data=bytearray(b'\\x00\\x00\\x00\\x00\\x00\\x00\\x00\\x00')),        </span>│\n",
       "│<span style=\"color: #00ffff; text-decoration-color: #00ffff\">                          </span>│<span style=\"color: #00ffff; text-decoration-color: #00ffff\"> DataDir(byte_order=b'@',data=bytearray(b'\\x00\\x00\\x00\\x00\\x00\\x00\\x00\\x00')),        </span>│\n",
       "│<span style=\"color: #00ffff; text-decoration-color: #00ffff\">                          </span>│<span style=\"color: #00ffff; text-decoration-color: #00ffff\"> DataDir(byte_order=b'@',data=bytearray(b'\\x00\\x00\\x00\\x00\\x00\\x00\\x00\\x00')),        </span>│\n",
       "│<span style=\"color: #00ffff; text-decoration-color: #00ffff\">                          </span>│<span style=\"color: #00ffff; text-decoration-color: #00ffff\"> DataDir(byte_order=b'@',data=bytearray(b'0\\x85\\x01\\x00@\\x00\\x00\\x00')),              </span>│\n",
       "│<span style=\"color: #00ffff; text-decoration-color: #00ffff\">                          </span>│<span style=\"color: #00ffff; text-decoration-color: #00ffff\"> DataDir(byte_order=b'@',data=bytearray(b'\\x00\\x00\\x00\\x00\\x00\\x00\\x00\\x00')),        </span>│\n",
       "│<span style=\"color: #00ffff; text-decoration-color: #00ffff\">                          </span>│<span style=\"color: #00ffff; text-decoration-color: #00ffff\"> DataDir(byte_order=b'@',data=bytearray(b'\\x00\\xb0\\x01\\x00\\xc4\\x01\\x00\\x00')),        </span>│\n",
       "│<span style=\"color: #00ffff; text-decoration-color: #00ffff\">                          </span>│<span style=\"color: #00ffff; text-decoration-color: #00ffff\"> DataDir(byte_order=b'@',data=bytearray(b'\\x00\\x00\\x00\\x00\\x00\\x00\\x00\\x00')),        </span>│\n",
       "│<span style=\"color: #00ffff; text-decoration-color: #00ffff\">                          </span>│<span style=\"color: #00ffff; text-decoration-color: #00ffff\"> DataDir(byte_order=b'@',data=bytearray(b'\\x00\\x00\\x00\\x00\\x00\\x00\\x00\\x00')),        </span>│\n",
       "│<span style=\"color: #00ffff; text-decoration-color: #00ffff\">                          </span>│<span style=\"color: #00ffff; text-decoration-color: #00ffff\"> DataDir(byte_order=b'@',data=bytearray(b'\\x00\\x00\\x00\\x00\\x00\\x00\\x00\\x00')))        </span>│\n",
       "│<span style=\"color: #808080; text-decoration-color: #808080\"> </span><span style=\"color: #808080; text-decoration-color: #808080; font-weight: bold\">repr()                  </span><span style=\"color: #808080; text-decoration-color: #808080\"> </span>│<span style=\"color: #808080; text-decoration-color: #808080\"> ByteArray(16, DataDir)                                                               </span>│\n",
       "│<span style=\"color: #ff0000; text-decoration-color: #ff0000\"> </span><span style=\"color: #ff0000; text-decoration-color: #ff0000; font-weight: bold\">.data                   </span><span style=\"color: #ff0000; text-decoration-color: #ff0000\"> </span>│<span style=\"color: #ff0000; text-decoration-color: #ff0000\"> b'\\x00\\x00\\x00\\x00\\x00\\x00\\x00\\x00\\xc4\\xb1\\x01\\x00P\\x00\\x00\\x00\\x00\\xe0\\x01\\x00&lt;\\x0… </span>│\n",
       "└──────────────────────────┴──────────────────────────────────────────────────────────────────────────────────────┘\n",
       "</pre>\n"
      ],
      "text/plain": [
       "\u001b[3m                                                  Byteclass Info                                                   \u001b[0m\n",
       "┏━━━━━━━━━━━━━━━━━━━━━━━━━━┳━━━━━━━━━━━━━━━━━━━━━━━━━━━━━━━━━━━━━━━━━━━━━━━━━━━━━━━━━━━━━━━━━━━━━━━━━━━━━━━━━━━━━━┓\n",
       "┃\u001b[1m \u001b[0m\u001b[1mProperty                \u001b[0m\u001b[1m \u001b[0m┃\u001b[1m \u001b[0m\u001b[1mValue                                                                               \u001b[0m\u001b[1m \u001b[0m┃\n",
       "┡━━━━━━━━━━━━━━━━━━━━━━━━━━╇━━━━━━━━━━━━━━━━━━━━━━━━━━━━━━━━━━━━━━━━━━━━━━━━━━━━━━━━━━━━━━━━━━━━━━━━━━━━━━━━━━━━━━┩\n",
       "│\u001b[90m \u001b[0m\u001b[1;90mtype()                  \u001b[0m\u001b[90m \u001b[0m│\u001b[90m \u001b[0m\u001b[90mByteArray                                                                           \u001b[0m\u001b[90m \u001b[0m│\n",
       "│\u001b[91m \u001b[0m\u001b[1;91mis_byteclass()          \u001b[0m\u001b[91m \u001b[0m│\u001b[91m \u001b[0m\u001b[91mTrue                                                                                \u001b[0m\u001b[91m \u001b[0m│\n",
       "│\u001b[92m \u001b[0m\u001b[1;92mis_collection_instance()\u001b[0m\u001b[92m \u001b[0m│\u001b[92m \u001b[0m\u001b[92mTrue                                                                                \u001b[0m\u001b[92m \u001b[0m│\n",
       "│\u001b[93m \u001b[0m\u001b[1;93mis_primitive_instance() \u001b[0m\u001b[93m \u001b[0m│\u001b[93m \u001b[0m\u001b[93mFalse                                                                               \u001b[0m\u001b[93m \u001b[0m│\n",
       "│\u001b[94m \u001b[0m\u001b[1;94mmro                     \u001b[0m\u001b[94m \u001b[0m│\u001b[94m \u001b[0m\u001b[94mByteArray -> object                                                                 \u001b[0m\u001b[94m \u001b[0m│\n",
       "│\u001b[95m \u001b[0m\u001b[1;95mlen()                   \u001b[0m\u001b[95m \u001b[0m│\u001b[95m \u001b[0m\u001b[95m128                                                                                 \u001b[0m\u001b[95m \u001b[0m│\n",
       "│\u001b[96m \u001b[0m\u001b[1;96mstr()                   \u001b[0m\u001b[96m \u001b[0m│\u001b[96m \u001b[0m\u001b[96m(DataDir(byte_order=b'@',data=bytearray(b'\\x00\\x00\\x00\\x00\\x00\\x00\\x00\\x00')),      \u001b[0m\u001b[96m \u001b[0m│\n",
       "│\u001b[96m                          \u001b[0m│\u001b[96m \u001b[0m\u001b[96mDataDir(byte_order=b'@',data=bytearray(b'\\xc4\\xb1\\x01\\x00P\\x00\\x00\\x00')),          \u001b[0m\u001b[96m \u001b[0m│\n",
       "│\u001b[96m                          \u001b[0m│\u001b[96m \u001b[0m\u001b[96mDataDir(byte_order=b'@',data=bytearray(b'\\x00\\xe0\\x01\\x00<\\x04\\x00\\x00')),          \u001b[0m\u001b[96m \u001b[0m│\n",
       "│\u001b[96m                          \u001b[0m│\u001b[96m \u001b[0m\u001b[96mDataDir(byte_order=b'@',data=bytearray(b'\\x00\\x00\\x00\\x00\\x00\\x00\\x00\\x00')),       \u001b[0m\u001b[96m \u001b[0m│\n",
       "│\u001b[96m                          \u001b[0m│\u001b[96m \u001b[0m\u001b[96mDataDir(byte_order=b'@',data=bytearray(b'\\x00\\x00\\x00\\x00\\x00\\x00\\x00\\x00')),       \u001b[0m\u001b[96m \u001b[0m│\n",
       "│\u001b[96m                          \u001b[0m│\u001b[96m \u001b[0m\u001b[96mDataDir(byte_order=b'@',data=bytearray(b'\\x00\\xf0\\x01\\x00\\x9c\\x03\\x00\\x00')),       \u001b[0m\u001b[96m \u001b[0m│\n",
       "│\u001b[96m                          \u001b[0m│\u001b[96m \u001b[0m\u001b[96mDataDir(byte_order=b'@',data=bytearray(b'\\xf8\\x84\\x01\\x008\\x00\\x00\\x00')),          \u001b[0m\u001b[96m \u001b[0m│\n",
       "│\u001b[96m                          \u001b[0m│\u001b[96m \u001b[0m\u001b[96mDataDir(byte_order=b'@',data=bytearray(b'\\x00\\x00\\x00\\x00\\x00\\x00\\x00\\x00')),       \u001b[0m\u001b[96m \u001b[0m│\n",
       "│\u001b[96m                          \u001b[0m│\u001b[96m \u001b[0m\u001b[96mDataDir(byte_order=b'@',data=bytearray(b'\\x00\\x00\\x00\\x00\\x00\\x00\\x00\\x00')),       \u001b[0m\u001b[96m \u001b[0m│\n",
       "│\u001b[96m                          \u001b[0m│\u001b[96m \u001b[0m\u001b[96mDataDir(byte_order=b'@',data=bytearray(b'\\x00\\x00\\x00\\x00\\x00\\x00\\x00\\x00')),       \u001b[0m\u001b[96m \u001b[0m│\n",
       "│\u001b[96m                          \u001b[0m│\u001b[96m \u001b[0m\u001b[96mDataDir(byte_order=b'@',data=bytearray(b'0\\x85\\x01\\x00@\\x00\\x00\\x00')),             \u001b[0m\u001b[96m \u001b[0m│\n",
       "│\u001b[96m                          \u001b[0m│\u001b[96m \u001b[0m\u001b[96mDataDir(byte_order=b'@',data=bytearray(b'\\x00\\x00\\x00\\x00\\x00\\x00\\x00\\x00')),       \u001b[0m\u001b[96m \u001b[0m│\n",
       "│\u001b[96m                          \u001b[0m│\u001b[96m \u001b[0m\u001b[96mDataDir(byte_order=b'@',data=bytearray(b'\\x00\\xb0\\x01\\x00\\xc4\\x01\\x00\\x00')),       \u001b[0m\u001b[96m \u001b[0m│\n",
       "│\u001b[96m                          \u001b[0m│\u001b[96m \u001b[0m\u001b[96mDataDir(byte_order=b'@',data=bytearray(b'\\x00\\x00\\x00\\x00\\x00\\x00\\x00\\x00')),       \u001b[0m\u001b[96m \u001b[0m│\n",
       "│\u001b[96m                          \u001b[0m│\u001b[96m \u001b[0m\u001b[96mDataDir(byte_order=b'@',data=bytearray(b'\\x00\\x00\\x00\\x00\\x00\\x00\\x00\\x00')),       \u001b[0m\u001b[96m \u001b[0m│\n",
       "│\u001b[96m                          \u001b[0m│\u001b[96m \u001b[0m\u001b[96mDataDir(byte_order=b'@',data=bytearray(b'\\x00\\x00\\x00\\x00\\x00\\x00\\x00\\x00')))       \u001b[0m\u001b[96m \u001b[0m│\n",
       "│\u001b[90m \u001b[0m\u001b[1;90mrepr()                  \u001b[0m\u001b[90m \u001b[0m│\u001b[90m \u001b[0m\u001b[90mByteArray(16, DataDir)                                                              \u001b[0m\u001b[90m \u001b[0m│\n",
       "│\u001b[91m \u001b[0m\u001b[1;91m.data                   \u001b[0m\u001b[91m \u001b[0m│\u001b[91m \u001b[0m\u001b[91mb'\\x00\\x00\\x00\\x00\\x00\\x00\\x00\\x00\\xc4\\xb1\\x01\\x00P\\x00\\x00\\x00\\x00\\xe0\\x01\\x00<\\x0…\u001b[0m\u001b[91m \u001b[0m│\n",
       "└──────────────────────────┴──────────────────────────────────────────────────────────────────────────────────────┘\n"
      ]
     },
     "metadata": {},
     "output_type": "display_data"
    }
   ],
   "source": [
    "byteclass_info(nt32_hdr.opt_hdr.data_directory)"
   ]
  },
  {
   "cell_type": "code",
   "execution_count": 13,
   "metadata": {
    "execution": {
     "iopub.execute_input": "2024-04-29T21:12:00.653397Z",
     "iopub.status.busy": "2024-04-29T21:12:00.653203Z",
     "iopub.status.idle": "2024-04-29T21:12:00.665281Z",
     "shell.execute_reply": "2024-04-29T21:12:00.664751Z"
    }
   },
   "outputs": [
    {
     "data": {
      "text/html": [
       "<pre style=\"white-space:pre;overflow-x:auto;line-height:normal;font-family:Menlo,'DejaVu Sans Mono',consolas,'Courier New',monospace\">╭────────────────── Byteclass Inspect ──────────────────╮\n",
       "│       00 01 02 03 04 05 06 07 08 09 0a 0b 0c 0d 0e 0f │\n",
       "│ ----------------------------------------------------- │\n",
       "│ 0x0  <span style=\"color: #c0c0c0; text-decoration-color: #c0c0c0\">|</span><span style=\"color: #808080; text-decoration-color: #808080\">00 00 00 00 00 00 00 00</span><span style=\"color: #c0c0c0; text-decoration-color: #c0c0c0\">|</span><span style=\"color: #ff0000; text-decoration-color: #ff0000\">c4 b1 01 00 50 00 00 00</span> │\n",
       "│ 0x10 <span style=\"color: #c0c0c0; text-decoration-color: #c0c0c0\">|</span><span style=\"color: #00ff00; text-decoration-color: #00ff00\">00 e0 01 00 3c 04 00 00</span><span style=\"color: #c0c0c0; text-decoration-color: #c0c0c0\">|</span><span style=\"color: #ffff00; text-decoration-color: #ffff00\">00 00 00 00 00 00 00 00</span> │\n",
       "│ 0x20 <span style=\"color: #c0c0c0; text-decoration-color: #c0c0c0\">|</span><span style=\"color: #0000ff; text-decoration-color: #0000ff\">00 00 00 00 00 00 00 00</span><span style=\"color: #c0c0c0; text-decoration-color: #c0c0c0\">|</span><span style=\"color: #ff00ff; text-decoration-color: #ff00ff\">00 f0 01 00 9c 03 00 00</span> │\n",
       "│ 0x30 <span style=\"color: #c0c0c0; text-decoration-color: #c0c0c0\">|</span><span style=\"color: #00ffff; text-decoration-color: #00ffff\">f8 84 01 00 38 00 00 00</span><span style=\"color: #c0c0c0; text-decoration-color: #c0c0c0\">|</span><span style=\"color: #808080; text-decoration-color: #808080\">00 00 00 00 00 00 00 00</span> │\n",
       "│ 0x40 <span style=\"color: #c0c0c0; text-decoration-color: #c0c0c0\">|</span><span style=\"color: #ff0000; text-decoration-color: #ff0000\">00 00 00 00 00 00 00 00</span><span style=\"color: #c0c0c0; text-decoration-color: #c0c0c0\">|</span><span style=\"color: #00ff00; text-decoration-color: #00ff00\">00 00 00 00 00 00 00 00</span> │\n",
       "│ 0x50 <span style=\"color: #c0c0c0; text-decoration-color: #c0c0c0\">|</span><span style=\"color: #ffff00; text-decoration-color: #ffff00\">30 85 01 00 40 00 00 00</span><span style=\"color: #c0c0c0; text-decoration-color: #c0c0c0\">|</span><span style=\"color: #0000ff; text-decoration-color: #0000ff\">00 00 00 00 00 00 00 00</span> │\n",
       "│ 0x60 <span style=\"color: #c0c0c0; text-decoration-color: #c0c0c0\">|</span><span style=\"color: #ff00ff; text-decoration-color: #ff00ff\">00 b0 01 00 c4 01 00 00</span><span style=\"color: #c0c0c0; text-decoration-color: #c0c0c0\">|</span><span style=\"color: #00ffff; text-decoration-color: #00ffff\">00 00 00 00 00 00 00 00</span> │\n",
       "│ 0x70 <span style=\"color: #c0c0c0; text-decoration-color: #c0c0c0\">|</span><span style=\"color: #808080; text-decoration-color: #808080\">00 00 00 00 00 00 00 00</span><span style=\"color: #c0c0c0; text-decoration-color: #c0c0c0\">|</span><span style=\"color: #ff0000; text-decoration-color: #ff0000\">00 00 00 00 00 00 00 00</span> │\n",
       "│ 0x80                                                  │\n",
       "╰───────────────────────────────────────────────────────╯\n",
       "</pre>\n"
      ],
      "text/plain": [
       "╭────────────────── Byteclass Inspect ──────────────────╮\n",
       "│       00 01 02 03 04 05 06 07 08 09 0a 0b 0c 0d 0e 0f │\n",
       "│ ----------------------------------------------------- │\n",
       "│ 0x0  \u001b[37m|\u001b[0m\u001b[90m00 00 00 00 00 00 00 00\u001b[0m\u001b[37m|\u001b[0m\u001b[91mc4 b1 01 00 50 00 00 00\u001b[0m │\n",
       "│ 0x10 \u001b[37m|\u001b[0m\u001b[92m00 e0 01 00 3c 04 00 00\u001b[0m\u001b[37m|\u001b[0m\u001b[93m00 00 00 00 00 00 00 00\u001b[0m │\n",
       "│ 0x20 \u001b[37m|\u001b[0m\u001b[94m00 00 00 00 00 00 00 00\u001b[0m\u001b[37m|\u001b[0m\u001b[95m00 f0 01 00 9c 03 00 00\u001b[0m │\n",
       "│ 0x30 \u001b[37m|\u001b[0m\u001b[96mf8 84 01 00 38 00 00 00\u001b[0m\u001b[37m|\u001b[0m\u001b[90m00 00 00 00 00 00 00 00\u001b[0m │\n",
       "│ 0x40 \u001b[37m|\u001b[0m\u001b[91m00 00 00 00 00 00 00 00\u001b[0m\u001b[37m|\u001b[0m\u001b[92m00 00 00 00 00 00 00 00\u001b[0m │\n",
       "│ 0x50 \u001b[37m|\u001b[0m\u001b[93m30 85 01 00 40 00 00 00\u001b[0m\u001b[37m|\u001b[0m\u001b[94m00 00 00 00 00 00 00 00\u001b[0m │\n",
       "│ 0x60 \u001b[37m|\u001b[0m\u001b[95m00 b0 01 00 c4 01 00 00\u001b[0m\u001b[37m|\u001b[0m\u001b[96m00 00 00 00 00 00 00 00\u001b[0m │\n",
       "│ 0x70 \u001b[37m|\u001b[0m\u001b[90m00 00 00 00 00 00 00 00\u001b[0m\u001b[37m|\u001b[0m\u001b[91m00 00 00 00 00 00 00 00\u001b[0m │\n",
       "│ 0x80                                                  │\n",
       "╰───────────────────────────────────────────────────────╯\n"
      ]
     },
     "metadata": {},
     "output_type": "display_data"
    },
    {
     "data": {
      "text/html": [
       "<pre style=\"white-space:pre;overflow-x:auto;line-height:normal;font-family:Menlo,'DejaVu Sans Mono',consolas,'Courier New',monospace\"><span style=\"font-style: italic\">                           Legend                            </span>\n",
       "┏━━━━━━━━┳━━━━━━━━━━━━━━━━━━━━━━━━━━━━━━━━━━━━━━━━━━━━━━━━━━┓\n",
       "┃<span style=\"font-weight: bold\"> Member </span>┃<span style=\"font-weight: bold\"> Value                                            </span>┃\n",
       "┡━━━━━━━━╇━━━━━━━━━━━━━━━━━━━━━━━━━━━━━━━━━━━━━━━━━━━━━━━━━━┩\n",
       "│<span style=\"color: #808080; text-decoration-color: #808080\"> </span><span style=\"color: #808080; text-decoration-color: #808080; font-weight: bold\">0     </span><span style=\"color: #808080; text-decoration-color: #808080\"> </span>│<span style=\"color: #808080; text-decoration-color: #808080\"> DataDir(vaddr=Ptr32(0x0), size=UInt32(0))        </span>│\n",
       "│<span style=\"color: #ff0000; text-decoration-color: #ff0000\"> </span><span style=\"color: #ff0000; text-decoration-color: #ff0000; font-weight: bold\">1     </span><span style=\"color: #ff0000; text-decoration-color: #ff0000\"> </span>│<span style=\"color: #ff0000; text-decoration-color: #ff0000\"> DataDir(vaddr=Ptr32(0x1b1c4), size=UInt32(80))   </span>│\n",
       "│<span style=\"color: #00ff00; text-decoration-color: #00ff00\"> </span><span style=\"color: #00ff00; text-decoration-color: #00ff00; font-weight: bold\">2     </span><span style=\"color: #00ff00; text-decoration-color: #00ff00\"> </span>│<span style=\"color: #00ff00; text-decoration-color: #00ff00\"> DataDir(vaddr=Ptr32(0x1e000), size=UInt32(1084)) </span>│\n",
       "│<span style=\"color: #ffff00; text-decoration-color: #ffff00\"> </span><span style=\"color: #ffff00; text-decoration-color: #ffff00; font-weight: bold\">3     </span><span style=\"color: #ffff00; text-decoration-color: #ffff00\"> </span>│<span style=\"color: #ffff00; text-decoration-color: #ffff00\"> DataDir(vaddr=Ptr32(0x0), size=UInt32(0))        </span>│\n",
       "│<span style=\"color: #0000ff; text-decoration-color: #0000ff\"> </span><span style=\"color: #0000ff; text-decoration-color: #0000ff; font-weight: bold\">4     </span><span style=\"color: #0000ff; text-decoration-color: #0000ff\"> </span>│<span style=\"color: #0000ff; text-decoration-color: #0000ff\"> DataDir(vaddr=Ptr32(0x0), size=UInt32(0))        </span>│\n",
       "│<span style=\"color: #ff00ff; text-decoration-color: #ff00ff\"> </span><span style=\"color: #ff00ff; text-decoration-color: #ff00ff; font-weight: bold\">5     </span><span style=\"color: #ff00ff; text-decoration-color: #ff00ff\"> </span>│<span style=\"color: #ff00ff; text-decoration-color: #ff00ff\"> DataDir(vaddr=Ptr32(0x1f000), size=UInt32(924))  </span>│\n",
       "│<span style=\"color: #00ffff; text-decoration-color: #00ffff\"> </span><span style=\"color: #00ffff; text-decoration-color: #00ffff; font-weight: bold\">6     </span><span style=\"color: #00ffff; text-decoration-color: #00ffff\"> </span>│<span style=\"color: #00ffff; text-decoration-color: #00ffff\"> DataDir(vaddr=Ptr32(0x184f8), size=UInt32(56))   </span>│\n",
       "│<span style=\"color: #808080; text-decoration-color: #808080\"> </span><span style=\"color: #808080; text-decoration-color: #808080; font-weight: bold\">7     </span><span style=\"color: #808080; text-decoration-color: #808080\"> </span>│<span style=\"color: #808080; text-decoration-color: #808080\"> DataDir(vaddr=Ptr32(0x0), size=UInt32(0))        </span>│\n",
       "│<span style=\"color: #ff0000; text-decoration-color: #ff0000\"> </span><span style=\"color: #ff0000; text-decoration-color: #ff0000; font-weight: bold\">8     </span><span style=\"color: #ff0000; text-decoration-color: #ff0000\"> </span>│<span style=\"color: #ff0000; text-decoration-color: #ff0000\"> DataDir(vaddr=Ptr32(0x0), size=UInt32(0))        </span>│\n",
       "│<span style=\"color: #00ff00; text-decoration-color: #00ff00\"> </span><span style=\"color: #00ff00; text-decoration-color: #00ff00; font-weight: bold\">9     </span><span style=\"color: #00ff00; text-decoration-color: #00ff00\"> </span>│<span style=\"color: #00ff00; text-decoration-color: #00ff00\"> DataDir(vaddr=Ptr32(0x0), size=UInt32(0))        </span>│\n",
       "│<span style=\"color: #ffff00; text-decoration-color: #ffff00\"> </span><span style=\"color: #ffff00; text-decoration-color: #ffff00; font-weight: bold\">10    </span><span style=\"color: #ffff00; text-decoration-color: #ffff00\"> </span>│<span style=\"color: #ffff00; text-decoration-color: #ffff00\"> DataDir(vaddr=Ptr32(0x18530), size=UInt32(64))   </span>│\n",
       "│<span style=\"color: #0000ff; text-decoration-color: #0000ff\"> </span><span style=\"color: #0000ff; text-decoration-color: #0000ff; font-weight: bold\">11    </span><span style=\"color: #0000ff; text-decoration-color: #0000ff\"> </span>│<span style=\"color: #0000ff; text-decoration-color: #0000ff\"> DataDir(vaddr=Ptr32(0x0), size=UInt32(0))        </span>│\n",
       "│<span style=\"color: #ff00ff; text-decoration-color: #ff00ff\"> </span><span style=\"color: #ff00ff; text-decoration-color: #ff00ff; font-weight: bold\">12    </span><span style=\"color: #ff00ff; text-decoration-color: #ff00ff\"> </span>│<span style=\"color: #ff00ff; text-decoration-color: #ff00ff\"> DataDir(vaddr=Ptr32(0x1b000), size=UInt32(452))  </span>│\n",
       "│<span style=\"color: #00ffff; text-decoration-color: #00ffff\"> </span><span style=\"color: #00ffff; text-decoration-color: #00ffff; font-weight: bold\">13    </span><span style=\"color: #00ffff; text-decoration-color: #00ffff\"> </span>│<span style=\"color: #00ffff; text-decoration-color: #00ffff\"> DataDir(vaddr=Ptr32(0x0), size=UInt32(0))        </span>│\n",
       "│<span style=\"color: #808080; text-decoration-color: #808080\"> </span><span style=\"color: #808080; text-decoration-color: #808080; font-weight: bold\">14    </span><span style=\"color: #808080; text-decoration-color: #808080\"> </span>│<span style=\"color: #808080; text-decoration-color: #808080\"> DataDir(vaddr=Ptr32(0x0), size=UInt32(0))        </span>│\n",
       "│<span style=\"color: #ff0000; text-decoration-color: #ff0000\"> </span><span style=\"color: #ff0000; text-decoration-color: #ff0000; font-weight: bold\">15    </span><span style=\"color: #ff0000; text-decoration-color: #ff0000\"> </span>│<span style=\"color: #ff0000; text-decoration-color: #ff0000\"> DataDir(vaddr=Ptr32(0x0), size=UInt32(0))        </span>│\n",
       "└────────┴──────────────────────────────────────────────────┘\n",
       "</pre>\n"
      ],
      "text/plain": [
       "\u001b[3m                           Legend                            \u001b[0m\n",
       "┏━━━━━━━━┳━━━━━━━━━━━━━━━━━━━━━━━━━━━━━━━━━━━━━━━━━━━━━━━━━━┓\n",
       "┃\u001b[1m \u001b[0m\u001b[1mMember\u001b[0m\u001b[1m \u001b[0m┃\u001b[1m \u001b[0m\u001b[1mValue                                           \u001b[0m\u001b[1m \u001b[0m┃\n",
       "┡━━━━━━━━╇━━━━━━━━━━━━━━━━━━━━━━━━━━━━━━━━━━━━━━━━━━━━━━━━━━┩\n",
       "│\u001b[90m \u001b[0m\u001b[1;90m0     \u001b[0m\u001b[90m \u001b[0m│\u001b[90m \u001b[0m\u001b[90mDataDir(vaddr=Ptr32(0x0), size=UInt32(0))       \u001b[0m\u001b[90m \u001b[0m│\n",
       "│\u001b[91m \u001b[0m\u001b[1;91m1     \u001b[0m\u001b[91m \u001b[0m│\u001b[91m \u001b[0m\u001b[91mDataDir(vaddr=Ptr32(0x1b1c4), size=UInt32(80))  \u001b[0m\u001b[91m \u001b[0m│\n",
       "│\u001b[92m \u001b[0m\u001b[1;92m2     \u001b[0m\u001b[92m \u001b[0m│\u001b[92m \u001b[0m\u001b[92mDataDir(vaddr=Ptr32(0x1e000), size=UInt32(1084))\u001b[0m\u001b[92m \u001b[0m│\n",
       "│\u001b[93m \u001b[0m\u001b[1;93m3     \u001b[0m\u001b[93m \u001b[0m│\u001b[93m \u001b[0m\u001b[93mDataDir(vaddr=Ptr32(0x0), size=UInt32(0))       \u001b[0m\u001b[93m \u001b[0m│\n",
       "│\u001b[94m \u001b[0m\u001b[1;94m4     \u001b[0m\u001b[94m \u001b[0m│\u001b[94m \u001b[0m\u001b[94mDataDir(vaddr=Ptr32(0x0), size=UInt32(0))       \u001b[0m\u001b[94m \u001b[0m│\n",
       "│\u001b[95m \u001b[0m\u001b[1;95m5     \u001b[0m\u001b[95m \u001b[0m│\u001b[95m \u001b[0m\u001b[95mDataDir(vaddr=Ptr32(0x1f000), size=UInt32(924)) \u001b[0m\u001b[95m \u001b[0m│\n",
       "│\u001b[96m \u001b[0m\u001b[1;96m6     \u001b[0m\u001b[96m \u001b[0m│\u001b[96m \u001b[0m\u001b[96mDataDir(vaddr=Ptr32(0x184f8), size=UInt32(56))  \u001b[0m\u001b[96m \u001b[0m│\n",
       "│\u001b[90m \u001b[0m\u001b[1;90m7     \u001b[0m\u001b[90m \u001b[0m│\u001b[90m \u001b[0m\u001b[90mDataDir(vaddr=Ptr32(0x0), size=UInt32(0))       \u001b[0m\u001b[90m \u001b[0m│\n",
       "│\u001b[91m \u001b[0m\u001b[1;91m8     \u001b[0m\u001b[91m \u001b[0m│\u001b[91m \u001b[0m\u001b[91mDataDir(vaddr=Ptr32(0x0), size=UInt32(0))       \u001b[0m\u001b[91m \u001b[0m│\n",
       "│\u001b[92m \u001b[0m\u001b[1;92m9     \u001b[0m\u001b[92m \u001b[0m│\u001b[92m \u001b[0m\u001b[92mDataDir(vaddr=Ptr32(0x0), size=UInt32(0))       \u001b[0m\u001b[92m \u001b[0m│\n",
       "│\u001b[93m \u001b[0m\u001b[1;93m10    \u001b[0m\u001b[93m \u001b[0m│\u001b[93m \u001b[0m\u001b[93mDataDir(vaddr=Ptr32(0x18530), size=UInt32(64))  \u001b[0m\u001b[93m \u001b[0m│\n",
       "│\u001b[94m \u001b[0m\u001b[1;94m11    \u001b[0m\u001b[94m \u001b[0m│\u001b[94m \u001b[0m\u001b[94mDataDir(vaddr=Ptr32(0x0), size=UInt32(0))       \u001b[0m\u001b[94m \u001b[0m│\n",
       "│\u001b[95m \u001b[0m\u001b[1;95m12    \u001b[0m\u001b[95m \u001b[0m│\u001b[95m \u001b[0m\u001b[95mDataDir(vaddr=Ptr32(0x1b000), size=UInt32(452)) \u001b[0m\u001b[95m \u001b[0m│\n",
       "│\u001b[96m \u001b[0m\u001b[1;96m13    \u001b[0m\u001b[96m \u001b[0m│\u001b[96m \u001b[0m\u001b[96mDataDir(vaddr=Ptr32(0x0), size=UInt32(0))       \u001b[0m\u001b[96m \u001b[0m│\n",
       "│\u001b[90m \u001b[0m\u001b[1;90m14    \u001b[0m\u001b[90m \u001b[0m│\u001b[90m \u001b[0m\u001b[90mDataDir(vaddr=Ptr32(0x0), size=UInt32(0))       \u001b[0m\u001b[90m \u001b[0m│\n",
       "│\u001b[91m \u001b[0m\u001b[1;91m15    \u001b[0m\u001b[91m \u001b[0m│\u001b[91m \u001b[0m\u001b[91mDataDir(vaddr=Ptr32(0x0), size=UInt32(0))       \u001b[0m\u001b[91m \u001b[0m│\n",
       "└────────┴──────────────────────────────────────────────────┘\n"
      ]
     },
     "metadata": {},
     "output_type": "display_data"
    }
   ],
   "source": [
    "byteclass_inspect(nt32_hdr.opt_hdr.data_directory)"
   ]
  }
 ],
 "metadata": {
  "kernelspec": {
   "display_name": ".venv",
   "language": "python",
   "name": "python3"
  },
  "language_info": {
   "codemirror_mode": {
    "name": "ipython",
    "version": 3
   },
   "file_extension": ".py",
   "mimetype": "text/x-python",
   "name": "python",
   "nbconvert_exporter": "python",
   "pygments_lexer": "ipython3",
   "version": "3.10.14"
  }
 },
 "nbformat": 4,
 "nbformat_minor": 2
}
